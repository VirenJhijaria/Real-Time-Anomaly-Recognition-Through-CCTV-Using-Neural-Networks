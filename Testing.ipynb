{
  "nbformat": 4,
  "nbformat_minor": 0,
  "metadata": {
    "colab": {
      "name": "TriDo_Testing.ipynb",
      "provenance": []
    },
    "kernelspec": {
      "name": "python3",
      "display_name": "Python 3"
    }
  },
  "cells": [
    {
      "cell_type": "code",
      "metadata": {
        "id": "TjCqTUxvwwXN",
        "colab_type": "code",
        "colab": {
          "base_uri": "https://localhost:8080/",
          "height": 123
        },
        "outputId": "96b513ec-270f-4d00-9748-de89de3823af"
      },
      "source": [
        "import re\n",
        "import os, sys\n",
        "import random\n",
        "import pickle\n",
        "import numpy as np\n",
        "import numpy.random\n",
        "import skimage.io\n",
        "import matplotlib\n",
        "import matplotlib.pyplot as plt\n",
        "%matplotlib inline\n",
        "import cv2\n",
        "from moviepy.editor import VideoFileClip, vfx\n",
        "from keras.preprocessing import image\n",
        "from keras.applications.inception_v3 import InceptionV3, preprocess_input\n",
        "from keras.models import Model, load_model, Sequential\n",
        "from keras.layers import Input, LSTM, Dense, Activation\n",
        "from keras import regularizers\n",
        "from keras.utils import to_categorical\n",
        "from keras.utils import np_utils"
      ],
      "execution_count": null,
      "outputs": [
        {
          "output_type": "stream",
          "text": [
            "Imageio: 'ffmpeg-linux64-v3.3.1' was not found on your computer; downloading it now.\n",
            "Try 1. Download from https://github.com/imageio/imageio-binaries/raw/master/ffmpeg/ffmpeg-linux64-v3.3.1 (43.8 MB)\n",
            "Downloading: 8192/45929032 bytes (0.0%)\b\b\b\b\b\b\b\b\b\b\b\b\b\b\b\b\b\b\b\b\b\b\b\b\b\b1818624/45929032 bytes (4.0%)\b\b\b\b\b\b\b\b\b\b\b\b\b\b\b\b\b\b\b\b\b\b\b\b\b\b\b\b\b5750784/45929032 bytes (12.5%)\b\b\b\b\b\b\b\b\b\b\b\b\b\b\b\b\b\b\b\b\b\b\b\b\b\b\b\b\b\b9658368/45929032 bytes (21.0%)\b\b\b\b\b\b\b\b\b\b\b\b\b\b\b\b\b\b\b\b\b\b\b\b\b\b\b\b\b\b13705216/45929032 bytes (29.8%)\b\b\b\b\b\b\b\b\b\b\b\b\b\b\b\b\b\b\b\b\b\b\b\b\b\b\b\b\b\b\b17801216/45929032 bytes (38.8%)\b\b\b\b\b\b\b\b\b\b\b\b\b\b\b\b\b\b\b\b\b\b\b\b\b\b\b\b\b\b\b21864448/45929032 bytes (47.6%)\b\b\b\b\b\b\b\b\b\b\b\b\b\b\b\b\b\b\b\b\b\b\b\b\b\b\b\b\b\b\b25829376/45929032 bytes (56.2%)\b\b\b\b\b\b\b\b\b\b\b\b\b\b\b\b\b\b\b\b\b\b\b\b\b\b\b\b\b\b\b29712384/45929032 bytes (64.7%)\b\b\b\b\b\b\b\b\b\b\b\b\b\b\b\b\b\b\b\b\b\b\b\b\b\b\b\b\b\b\b33759232/45929032 bytes (73.5%)\b\b\b\b\b\b\b\b\b\b\b\b\b\b\b\b\b\b\b\b\b\b\b\b\b\b\b\b\b\b\b37879808/45929032 bytes (82.5%)\b\b\b\b\b\b\b\b\b\b\b\b\b\b\b\b\b\b\b\b\b\b\b\b\b\b\b\b\b\b\b41926656/45929032 bytes (91.3%)\b\b\b\b\b\b\b\b\b\b\b\b\b\b\b\b\b\b\b\b\b\b\b\b\b\b\b\b\b\b\b45929032/45929032 bytes (100.0%)\n",
            "  Done\n",
            "File saved as /root/.imageio/ffmpeg/ffmpeg-linux64-v3.3.1.\n"
          ],
          "name": "stdout"
        },
        {
          "output_type": "stream",
          "text": [
            "Using TensorFlow backend.\n"
          ],
          "name": "stderr"
        }
      ]
    },
    {
      "cell_type": "code",
      "metadata": {
        "id": "_n6w1IrGw1uT",
        "colab_type": "code",
        "colab": {
          "base_uri": "https://localhost:8080/",
          "height": 125
        },
        "outputId": "4f9aa121-24c0-4482-e153-3bd4dd61c54e"
      },
      "source": [
        "#Mounting the first drive:\n",
        "from google.colab import drive\n",
        "drive.mount('/content/drive1')"
      ],
      "execution_count": null,
      "outputs": [
        {
          "output_type": "stream",
          "text": [
            "Go to this URL in a browser: https://accounts.google.com/o/oauth2/auth?client_id=947318989803-6bn6qk8qdgf4n4g3pfee6491hc0brc4i.apps.googleusercontent.com&redirect_uri=urn%3aietf%3awg%3aoauth%3a2.0%3aoob&response_type=code&scope=email%20https%3a%2f%2fwww.googleapis.com%2fauth%2fdocs.test%20https%3a%2f%2fwww.googleapis.com%2fauth%2fdrive%20https%3a%2f%2fwww.googleapis.com%2fauth%2fdrive.photos.readonly%20https%3a%2f%2fwww.googleapis.com%2fauth%2fpeopleapi.readonly\n",
            "\n",
            "Enter your authorization code:\n",
            "··········\n",
            "Mounted at /content/drive1\n"
          ],
          "name": "stdout"
        }
      ]
    },
    {
      "cell_type": "code",
      "metadata": {
        "id": "R_E5yVUdw2Gy",
        "colab_type": "code",
        "colab": {}
      },
      "source": [
        "c_to_n={\"Anomaly\":0,\"Normal\":1}"
      ],
      "execution_count": null,
      "outputs": []
    },
    {
      "cell_type": "code",
      "metadata": {
        "id": "_KMNWpTDw2LR",
        "colab_type": "code",
        "colab": {
          "base_uri": "https://localhost:8080/",
          "height": 52
        },
        "outputId": "34174cdf-2ac3-451d-dca4-39e5238c7e27"
      },
      "source": [
        "# Get model with pretrained weights.\n",
        "base_model = InceptionV3(\n",
        "weights='imagenet',\n",
        "include_top=True)\n",
        "    \n",
        "    \n",
        "# We'll extract features at the final pool layer.\n",
        "model = Model(\n",
        "    inputs=base_model.input, \n",
        "    outputs=base_model.get_layer('avg_pool').output)"
      ],
      "execution_count": null,
      "outputs": [
        {
          "output_type": "stream",
          "text": [
            "Downloading data from https://github.com/fchollet/deep-learning-models/releases/download/v0.5/inception_v3_weights_tf_dim_ordering_tf_kernels.h5\n",
            "96116736/96112376 [==============================] - 4s 0us/step\n"
          ],
          "name": "stdout"
        }
      ]
    },
    {
      "cell_type": "code",
      "metadata": {
        "id": "CrsL3sf5w2NE",
        "colab_type": "code",
        "colab": {}
      },
      "source": [
        "def video_frame(path,label):\n",
        "  \n",
        "  features=[]\n",
        "  images = []\n",
        "  labels_t=[]\n",
        "  cap = cv2.VideoCapture(path)\n",
        "  count=0;\n",
        "  framerate = int(cap.get(cv2.CAP_PROP_FPS))\n",
        "  i=0;\n",
        "  count_frame=0\n",
        "  c=0\n",
        "  while(True):\n",
        "      # Capture frame-by-frame\n",
        "      ret, frame = cap.read()\n",
        "\n",
        "      if not ret: \n",
        "        break\n",
        "      \n",
        "#      if frame is None:\n",
        "#       break;\n",
        "\n",
        "      # Saves image of the current frame in jpg file\n",
        "      \n",
        "      elif count%(1*framerate) == 0 :\n",
        "        frame = preprocess_input(cv2.resize(frame, (299,299)))\n",
        "        images.append(frame)\n",
        "        count_frame+=1;\n",
        "        # cv2_imshow(frame)\n",
        "      if(count_frame==8):\n",
        "        f = model.predict(np.array(images))\n",
        "        features.append(f)\n",
        "        labels_t.append(c_to_n[label])\n",
        "        images = []\n",
        "        count_frame=0\n",
        "      \n",
        "      count+=1;\n",
        "      \n",
        "  # When everything done, release the capture\n",
        "  cap.release()\n",
        "  cv2.destroyAllWindows()\n",
        "  \n",
        "#   f = model.predict(np.array(images))\n",
        "  \n",
        "  return features, labels_t"
      ],
      "execution_count": null,
      "outputs": []
    },
    {
      "cell_type": "code",
      "metadata": {
        "id": "cN1a5oUFw2Pk",
        "colab_type": "code",
        "colab": {}
      },
      "source": [
        "path=['/content/drive1/My Drive/Training_Set','/content/drive1/My Drive/Validation_Set','/content/drive1/My Drive/Testing_Set']"
      ],
      "execution_count": null,
      "outputs": []
    },
    {
      "cell_type": "code",
      "metadata": {
        "id": "1_LjdwATw2Sa",
        "colab_type": "code",
        "colab": {}
      },
      "source": [
        "labels=['Abuse','Arson','Assault','Burglary','Explosion','Fighting','RoadAccidents','Robbery','Shooting','Shoplifting','Stealing','Vandalism','Normal']\n",
        "ignore=['.ipynb_checkpoints','Normal_Videos_251_x264.mp4']"
      ],
      "execution_count": null,
      "outputs": []
    },
    {
      "cell_type": "code",
      "metadata": {
        "id": "c1rC_94Tw2VB",
        "colab_type": "code",
        "colab": {
          "base_uri": "https://localhost:8080/",
          "height": 1000
        },
        "outputId": "eb70f04a-014e-4f62-9f41-0e7c6965614c"
      },
      "source": [
        "labels_train=[]\n",
        "transfer_values_train=[]\n",
        "\n",
        "p=path[0]\n",
        "dir_list=os.listdir(p)\n",
        "for dl in dir_list:\n",
        "    print(str(dl))\n",
        "    for lab in labels:\n",
        "      if re.search(lab,str(dl))!=None:\n",
        "        if lab=='Normal':\n",
        "          label=lab\n",
        "          break\n",
        "        else:\n",
        "          label='Anomaly'\n",
        "          break\n",
        "    features, l=video_frame(p+'/'+str(dl),label)\n",
        "    labels_train.extend(l)\n",
        "    print(np.array(features).shape)\n",
        "    transfer_values_train.extend(np.array(features))\n",
        "    print(np.array(transfer_values_train).shape)\n",
        "\n",
        "    #flip the video\n",
        "    if str(dl) not in ignore:\n",
        "      clip = VideoFileClip(p+'/'+str(dl))\n",
        "      reversed_clip = clip.fx(vfx.mirror_x)\n",
        "      reversed_clip.write_videofile('new_video.mp4')\n",
        "      features, l=video_frame('new_video.mp4',label)\n",
        "      transfer_values_train.extend(np.array(features))\n",
        "      labels_train.extend(l)\n",
        "      print(np.array(transfer_values_train).shape)"
      ],
      "execution_count": null,
      "outputs": [
        {
          "output_type": "stream",
          "text": [
            "Abuse005.mp4\n",
            "(1, 8, 2048)\n",
            "(1, 8, 2048)\n",
            "[MoviePy] >>>> Building video new_video.mp4\n",
            "[MoviePy] Writing audio in new_videoTEMP_MPY_wvf_snd.mp3\n"
          ],
          "name": "stdout"
        },
        {
          "output_type": "stream",
          "text": [
            "100%|██████████| 162/162 [00:00<00:00, 744.38it/s]"
          ],
          "name": "stderr"
        },
        {
          "output_type": "stream",
          "text": [
            "[MoviePy] Done.\n",
            "[MoviePy] Writing video new_video.mp4\n"
          ],
          "name": "stdout"
        },
        {
          "output_type": "stream",
          "text": [
            "\n",
            "100%|██████████| 221/221 [00:00<00:00, 234.68it/s]"
          ],
          "name": "stderr"
        },
        {
          "output_type": "stream",
          "text": [
            "[MoviePy] Done.\n",
            "[MoviePy] >>>> Video ready: new_video.mp4 \n",
            "\n"
          ],
          "name": "stdout"
        },
        {
          "output_type": "stream",
          "text": [
            "\n"
          ],
          "name": "stderr"
        },
        {
          "output_type": "stream",
          "text": [
            "(2, 8, 2048)\n",
            "Abuse025.mp4\n",
            "(1, 8, 2048)\n",
            "(3, 8, 2048)\n",
            "[MoviePy] >>>> Building video new_video.mp4\n",
            "[MoviePy] Writing audio in new_videoTEMP_MPY_wvf_snd.mp3\n"
          ],
          "name": "stdout"
        },
        {
          "output_type": "stream",
          "text": [
            "100%|██████████| 212/212 [00:00<00:00, 1065.75it/s]"
          ],
          "name": "stderr"
        },
        {
          "output_type": "stream",
          "text": [
            "[MoviePy] Done.\n",
            "[MoviePy] Writing video new_video.mp4\n"
          ],
          "name": "stdout"
        },
        {
          "output_type": "stream",
          "text": [
            "\n",
            "100%|█████████▉| 288/289 [00:01<00:00, 251.71it/s]\n"
          ],
          "name": "stderr"
        },
        {
          "output_type": "stream",
          "text": [
            "[MoviePy] Done.\n",
            "[MoviePy] >>>> Video ready: new_video.mp4 \n",
            "\n",
            "(4, 8, 2048)\n",
            "Abuse007.mp4\n",
            "(1, 8, 2048)\n",
            "(5, 8, 2048)\n",
            "[MoviePy] >>>> Building video new_video.mp4\n",
            "[MoviePy] Writing audio in new_videoTEMP_MPY_wvf_snd.mp3\n"
          ],
          "name": "stdout"
        },
        {
          "output_type": "stream",
          "text": [
            "100%|██████████| 330/330 [00:00<00:00, 1038.60it/s]"
          ],
          "name": "stderr"
        },
        {
          "output_type": "stream",
          "text": [
            "[MoviePy] Done.\n",
            "[MoviePy] Writing video new_video.mp4\n"
          ],
          "name": "stdout"
        },
        {
          "output_type": "stream",
          "text": [
            "\n",
            "100%|██████████| 448/448 [00:01<00:00, 229.96it/s]"
          ],
          "name": "stderr"
        },
        {
          "output_type": "stream",
          "text": [
            "[MoviePy] Done.\n",
            "[MoviePy] >>>> Video ready: new_video.mp4 \n",
            "\n"
          ],
          "name": "stdout"
        },
        {
          "output_type": "stream",
          "text": [
            "\n"
          ],
          "name": "stderr"
        },
        {
          "output_type": "stream",
          "text": [
            "(6, 8, 2048)\n",
            "Abuse001.mp4\n",
            "(2, 8, 2048)\n",
            "(8, 8, 2048)\n",
            "[MoviePy] >>>> Building video new_video.mp4\n",
            "[MoviePy] Writing audio in new_videoTEMP_MPY_wvf_snd.mp3\n"
          ],
          "name": "stdout"
        },
        {
          "output_type": "stream",
          "text": [
            "100%|██████████| 453/453 [00:00<00:00, 1075.52it/s]"
          ],
          "name": "stderr"
        },
        {
          "output_type": "stream",
          "text": [
            "[MoviePy] Done.\n",
            "[MoviePy] Writing video new_video.mp4\n"
          ],
          "name": "stdout"
        },
        {
          "output_type": "stream",
          "text": [
            "\n",
            "100%|█████████▉| 615/616 [00:02<00:00, 249.45it/s]"
          ],
          "name": "stderr"
        },
        {
          "output_type": "stream",
          "text": [
            "[MoviePy] Done.\n",
            "[MoviePy] >>>> Video ready: new_video.mp4 \n",
            "\n"
          ],
          "name": "stdout"
        },
        {
          "output_type": "stream",
          "text": [
            "\n"
          ],
          "name": "stderr"
        },
        {
          "output_type": "stream",
          "text": [
            "(10, 8, 2048)\n",
            "Abuse023.mp4\n",
            "(1, 8, 2048)\n",
            "(11, 8, 2048)\n",
            "[MoviePy] >>>> Building video new_video.mp4\n",
            "[MoviePy] Writing audio in new_videoTEMP_MPY_wvf_snd.mp3\n"
          ],
          "name": "stdout"
        },
        {
          "output_type": "stream",
          "text": [
            "100%|██████████| 278/278 [00:00<00:00, 1073.77it/s]"
          ],
          "name": "stderr"
        },
        {
          "output_type": "stream",
          "text": [
            "[MoviePy] Done.\n",
            "[MoviePy] Writing video new_video.mp4\n"
          ],
          "name": "stdout"
        },
        {
          "output_type": "stream",
          "text": [
            "\n",
            "100%|██████████| 378/378 [00:02<00:00, 183.59it/s]\n"
          ],
          "name": "stderr"
        },
        {
          "output_type": "stream",
          "text": [
            "[MoviePy] Done.\n",
            "[MoviePy] >>>> Video ready: new_video.mp4 \n",
            "\n",
            "(12, 8, 2048)\n",
            "Abuse030.mp4\n",
            "(1, 8, 2048)\n",
            "(13, 8, 2048)\n",
            "[MoviePy] >>>> Building video new_video.mp4\n",
            "[MoviePy] Writing audio in new_videoTEMP_MPY_wvf_snd.mp3\n"
          ],
          "name": "stdout"
        },
        {
          "output_type": "stream",
          "text": [
            "100%|██████████| 286/286 [00:00<00:00, 1049.48it/s]"
          ],
          "name": "stderr"
        },
        {
          "output_type": "stream",
          "text": [
            "[MoviePy] Done.\n",
            "[MoviePy] Writing video new_video.mp4\n"
          ],
          "name": "stdout"
        },
        {
          "output_type": "stream",
          "text": [
            "\n",
            "100%|██████████| 390/390 [00:01<00:00, 213.56it/s]\n"
          ],
          "name": "stderr"
        },
        {
          "output_type": "stream",
          "text": [
            "[MoviePy] Done.\n",
            "[MoviePy] >>>> Video ready: new_video.mp4 \n",
            "\n",
            "(14, 8, 2048)\n",
            "Abuse014.mp4\n",
            "(4, 8, 2048)\n",
            "(18, 8, 2048)\n",
            "[MoviePy] >>>> Building video new_video.mp4\n",
            "[MoviePy] Writing audio in new_videoTEMP_MPY_wvf_snd.mp3\n"
          ],
          "name": "stdout"
        },
        {
          "output_type": "stream",
          "text": [
            "100%|██████████| 692/692 [00:00<00:00, 1070.23it/s]"
          ],
          "name": "stderr"
        },
        {
          "output_type": "stream",
          "text": [
            "[MoviePy] Done.\n",
            "[MoviePy] Writing video new_video.mp4\n"
          ],
          "name": "stdout"
        },
        {
          "output_type": "stream",
          "text": [
            "\n",
            "100%|██████████| 942/942 [00:04<00:00, 227.78it/s]\n"
          ],
          "name": "stderr"
        },
        {
          "output_type": "stream",
          "text": [
            "[MoviePy] Done.\n",
            "[MoviePy] >>>> Video ready: new_video.mp4 \n",
            "\n",
            "(22, 8, 2048)\n",
            "Abuse028.mp4\n",
            "(2, 8, 2048)\n",
            "(24, 8, 2048)\n",
            "[MoviePy] >>>> Building video new_video.mp4\n",
            "[MoviePy] Writing audio in new_videoTEMP_MPY_wvf_snd.mp3\n"
          ],
          "name": "stdout"
        },
        {
          "output_type": "stream",
          "text": [
            "100%|██████████| 373/373 [00:00<00:00, 1040.90it/s]"
          ],
          "name": "stderr"
        },
        {
          "output_type": "stream",
          "text": [
            "[MoviePy] Done.\n",
            "[MoviePy] Writing video new_video.mp4\n"
          ],
          "name": "stdout"
        },
        {
          "output_type": "stream",
          "text": [
            "\n",
            "100%|██████████| 507/507 [00:02<00:00, 231.23it/s]"
          ],
          "name": "stderr"
        },
        {
          "output_type": "stream",
          "text": [
            "[MoviePy] Done.\n",
            "[MoviePy] >>>> Video ready: new_video.mp4 \n",
            "\n"
          ],
          "name": "stdout"
        },
        {
          "output_type": "stream",
          "text": [
            "\n"
          ],
          "name": "stderr"
        },
        {
          "output_type": "stream",
          "text": [
            "(26, 8, 2048)\n",
            "Abuse018.mp4\n",
            "(4, 8, 2048)\n",
            "(30, 8, 2048)\n",
            "[MoviePy] >>>> Building video new_video.mp4\n",
            "[MoviePy] Writing audio in new_videoTEMP_MPY_wvf_snd.mp3\n"
          ],
          "name": "stdout"
        },
        {
          "output_type": "stream",
          "text": [
            "100%|██████████| 783/783 [00:00<00:00, 1045.36it/s]"
          ],
          "name": "stderr"
        },
        {
          "output_type": "stream",
          "text": [
            "[MoviePy] Done.\n",
            "[MoviePy] Writing video new_video.mp4\n"
          ],
          "name": "stdout"
        },
        {
          "output_type": "stream",
          "text": [
            "\n",
            "100%|██████████| 1065/1065 [00:04<00:00, 245.34it/s]\n"
          ],
          "name": "stderr"
        },
        {
          "output_type": "stream",
          "text": [
            "[MoviePy] Done.\n",
            "[MoviePy] >>>> Video ready: new_video.mp4 \n",
            "\n",
            "(34, 8, 2048)\n",
            "Abuse009.mp4\n",
            "(2, 8, 2048)\n",
            "(36, 8, 2048)\n",
            "[MoviePy] >>>> Building video new_video.mp4\n",
            "[MoviePy] Writing audio in new_videoTEMP_MPY_wvf_snd.mp3\n"
          ],
          "name": "stdout"
        },
        {
          "output_type": "stream",
          "text": [
            "100%|██████████| 386/386 [00:00<00:00, 1038.67it/s]"
          ],
          "name": "stderr"
        },
        {
          "output_type": "stream",
          "text": [
            "[MoviePy] Done.\n",
            "[MoviePy] Writing video new_video.mp4\n"
          ],
          "name": "stdout"
        },
        {
          "output_type": "stream",
          "text": [
            "\n",
            "100%|██████████| 525/525 [00:02<00:00, 177.53it/s]\n"
          ],
          "name": "stderr"
        },
        {
          "output_type": "stream",
          "text": [
            "[MoviePy] Done.\n",
            "[MoviePy] >>>> Video ready: new_video.mp4 \n",
            "\n",
            "(38, 8, 2048)\n",
            "Abuse032_x264.mp4\n",
            "(3, 8, 2048)\n",
            "(41, 8, 2048)\n",
            "[MoviePy] >>>> Building video new_video.mp4\n",
            "[MoviePy] Writing audio in new_videoTEMP_MPY_wvf_snd.mp3\n"
          ],
          "name": "stdout"
        },
        {
          "output_type": "stream",
          "text": [
            "100%|██████████| 573/573 [00:00<00:00, 1033.39it/s]"
          ],
          "name": "stderr"
        },
        {
          "output_type": "stream",
          "text": [
            "[MoviePy] Done.\n",
            "[MoviePy] Writing video new_video.mp4\n"
          ],
          "name": "stdout"
        },
        {
          "output_type": "stream",
          "text": [
            "\n",
            "100%|██████████| 780/780 [00:03<00:00, 243.47it/s]"
          ],
          "name": "stderr"
        },
        {
          "output_type": "stream",
          "text": [
            "[MoviePy] Done.\n",
            "[MoviePy] >>>> Video ready: new_video.mp4 \n",
            "\n"
          ],
          "name": "stdout"
        },
        {
          "output_type": "stream",
          "text": [
            "\n"
          ],
          "name": "stderr"
        },
        {
          "output_type": "stream",
          "text": [
            "(44, 8, 2048)\n",
            "Abuse038.mp4\n",
            "(2, 8, 2048)\n",
            "(46, 8, 2048)\n",
            "[MoviePy] >>>> Building video new_video.mp4\n",
            "[MoviePy] Writing audio in new_videoTEMP_MPY_wvf_snd.mp3\n"
          ],
          "name": "stdout"
        },
        {
          "output_type": "stream",
          "text": [
            "100%|██████████| 454/454 [00:00<00:00, 1045.53it/s]"
          ],
          "name": "stderr"
        },
        {
          "output_type": "stream",
          "text": [
            "[MoviePy] Done.\n",
            "[MoviePy] Writing video new_video.mp4\n"
          ],
          "name": "stdout"
        },
        {
          "output_type": "stream",
          "text": [
            "\n",
            "100%|██████████| 618/618 [00:03<00:00, 186.94it/s]\n"
          ],
          "name": "stderr"
        },
        {
          "output_type": "stream",
          "text": [
            "[MoviePy] Done.\n",
            "[MoviePy] >>>> Video ready: new_video.mp4 \n",
            "\n",
            "(48, 8, 2048)\n",
            "Abuse002.mp4\n",
            "(3, 8, 2048)\n",
            "(51, 8, 2048)\n",
            "[MoviePy] >>>> Building video new_video.mp4\n",
            "[MoviePy] Writing video new_video.mp4\n"
          ],
          "name": "stdout"
        },
        {
          "output_type": "stream",
          "text": [
            "100%|██████████| 865/865 [00:05<00:00, 167.16it/s]\n"
          ],
          "name": "stderr"
        },
        {
          "output_type": "stream",
          "text": [
            "[MoviePy] Done.\n",
            "[MoviePy] >>>> Video ready: new_video.mp4 \n",
            "\n",
            "(54, 8, 2048)\n",
            "Abuse003.mp4\n",
            "(9, 8, 2048)\n",
            "(63, 8, 2048)\n",
            "[MoviePy] >>>> Building video new_video.mp4\n",
            "[MoviePy] Writing audio in new_videoTEMP_MPY_wvf_snd.mp3\n"
          ],
          "name": "stdout"
        },
        {
          "output_type": "stream",
          "text": [
            "100%|██████████| 1588/1588 [00:01<00:00, 816.67it/s]"
          ],
          "name": "stderr"
        },
        {
          "output_type": "stream",
          "text": [
            "[MoviePy] Done.\n",
            "[MoviePy] Writing video new_video.mp4\n"
          ],
          "name": "stdout"
        },
        {
          "output_type": "stream",
          "text": [
            "\n",
            "100%|██████████| 2160/2160 [00:08<00:00, 240.13it/s]\n"
          ],
          "name": "stderr"
        },
        {
          "output_type": "stream",
          "text": [
            "[MoviePy] Done.\n",
            "[MoviePy] >>>> Video ready: new_video.mp4 \n",
            "\n",
            "(72, 8, 2048)\n",
            "Abuse004.mp4\n",
            "(6, 8, 2048)\n",
            "(78, 8, 2048)\n",
            "[MoviePy] >>>> Building video new_video.mp4\n",
            "[MoviePy] Writing audio in new_videoTEMP_MPY_wvf_snd.mp3\n"
          ],
          "name": "stdout"
        },
        {
          "output_type": "stream",
          "text": [
            "100%|██████████| 1112/1112 [00:01<00:00, 790.58it/s]"
          ],
          "name": "stderr"
        },
        {
          "output_type": "stream",
          "text": [
            "[MoviePy] Done.\n",
            "[MoviePy] Writing video new_video.mp4\n"
          ],
          "name": "stdout"
        },
        {
          "output_type": "stream",
          "text": [
            "\n",
            "100%|██████████| 1512/1512 [00:06<00:00, 232.81it/s]\n"
          ],
          "name": "stderr"
        },
        {
          "output_type": "stream",
          "text": [
            "[MoviePy] Done.\n",
            "[MoviePy] >>>> Video ready: new_video.mp4 \n",
            "\n",
            "(84, 8, 2048)\n",
            "Abuse006.mp4\n",
            "(17, 8, 2048)\n",
            "(101, 8, 2048)\n",
            "[MoviePy] >>>> Building video new_video.mp4\n",
            "[MoviePy] Writing audio in new_videoTEMP_MPY_wvf_snd.mp3\n"
          ],
          "name": "stdout"
        },
        {
          "output_type": "stream",
          "text": [
            "100%|██████████| 3127/3127 [00:03<00:00, 1016.12it/s]"
          ],
          "name": "stderr"
        },
        {
          "output_type": "stream",
          "text": [
            "[MoviePy] Done.\n",
            "[MoviePy] Writing video new_video.mp4\n"
          ],
          "name": "stdout"
        },
        {
          "output_type": "stream",
          "text": [
            "\n",
            "100%|██████████| 4254/4254 [00:23<00:00, 178.59it/s]\n"
          ],
          "name": "stderr"
        },
        {
          "output_type": "stream",
          "text": [
            "[MoviePy] Done.\n",
            "[MoviePy] >>>> Video ready: new_video.mp4 \n",
            "\n",
            "(118, 8, 2048)\n",
            "Abuse008.mp4\n",
            "(11, 8, 2048)\n",
            "(129, 8, 2048)\n",
            "[MoviePy] >>>> Building video new_video.mp4\n",
            "[MoviePy] Writing audio in new_videoTEMP_MPY_wvf_snd.mp3\n"
          ],
          "name": "stdout"
        },
        {
          "output_type": "stream",
          "text": [
            "100%|██████████| 2095/2095 [00:02<00:00, 1047.01it/s]"
          ],
          "name": "stderr"
        },
        {
          "output_type": "stream",
          "text": [
            "[MoviePy] Done.\n",
            "[MoviePy] Writing video new_video.mp4\n"
          ],
          "name": "stdout"
        },
        {
          "output_type": "stream",
          "text": [
            "\n",
            "100%|█████████▉| 2850/2851 [00:11<00:00, 240.81it/s]\n"
          ],
          "name": "stderr"
        },
        {
          "output_type": "stream",
          "text": [
            "[MoviePy] Done.\n",
            "[MoviePy] >>>> Video ready: new_video.mp4 \n",
            "\n",
            "(140, 8, 2048)\n",
            "Abuse010.mp4\n",
            "(3, 8, 2048)\n",
            "(143, 8, 2048)\n",
            "[MoviePy] >>>> Building video new_video.mp4\n",
            "[MoviePy] Writing audio in new_videoTEMP_MPY_wvf_snd.mp3\n"
          ],
          "name": "stdout"
        },
        {
          "output_type": "stream",
          "text": [
            "100%|██████████| 577/577 [00:00<00:00, 1037.28it/s]"
          ],
          "name": "stderr"
        },
        {
          "output_type": "stream",
          "text": [
            "[MoviePy] Done.\n",
            "[MoviePy] Writing video new_video.mp4\n"
          ],
          "name": "stdout"
        },
        {
          "output_type": "stream",
          "text": [
            "\n",
            "100%|██████████| 784/784 [00:03<00:00, 197.45it/s]\n"
          ],
          "name": "stderr"
        },
        {
          "output_type": "stream",
          "text": [
            "[MoviePy] Done.\n",
            "[MoviePy] >>>> Video ready: new_video.mp4 \n",
            "\n",
            "(146, 8, 2048)\n",
            "Abuse011.mp4\n",
            "(12, 8, 2048)\n",
            "(158, 8, 2048)\n",
            "[MoviePy] >>>> Building video new_video.mp4\n",
            "[MoviePy] Writing audio in new_videoTEMP_MPY_wvf_snd.mp3\n"
          ],
          "name": "stdout"
        },
        {
          "output_type": "stream",
          "text": [
            "100%|██████████| 2263/2263 [00:02<00:00, 1038.75it/s]"
          ],
          "name": "stderr"
        },
        {
          "output_type": "stream",
          "text": [
            "[MoviePy] Done.\n",
            "[MoviePy] Writing video new_video.mp4\n"
          ],
          "name": "stdout"
        },
        {
          "output_type": "stream",
          "text": [
            "\n",
            "100%|██████████| 3079/3079 [00:13<00:00, 232.54it/s]\n"
          ],
          "name": "stderr"
        },
        {
          "output_type": "stream",
          "text": [
            "[MoviePy] Done.\n",
            "[MoviePy] >>>> Video ready: new_video.mp4 \n",
            "\n",
            "(170, 8, 2048)\n",
            "Abuse012.mp4\n",
            "(10, 8, 2048)\n",
            "(180, 8, 2048)\n",
            "[MoviePy] >>>> Building video new_video.mp4\n",
            "[MoviePy] Writing audio in new_videoTEMP_MPY_wvf_snd.mp3\n"
          ],
          "name": "stdout"
        },
        {
          "output_type": "stream",
          "text": [
            "100%|██████████| 1765/1765 [00:01<00:00, 1030.46it/s]"
          ],
          "name": "stderr"
        },
        {
          "output_type": "stream",
          "text": [
            "[MoviePy] Done.\n",
            "[MoviePy] Writing video new_video.mp4\n"
          ],
          "name": "stdout"
        },
        {
          "output_type": "stream",
          "text": [
            "\n",
            "100%|██████████| 2402/2402 [00:10<00:00, 230.74it/s]\n"
          ],
          "name": "stderr"
        },
        {
          "output_type": "stream",
          "text": [
            "[MoviePy] Done.\n",
            "[MoviePy] >>>> Video ready: new_video.mp4 \n",
            "\n",
            "(190, 8, 2048)\n",
            "Abuse013.mp4\n",
            "(6, 8, 2048)\n",
            "(196, 8, 2048)\n",
            "[MoviePy] >>>> Building video new_video.mp4\n",
            "[MoviePy] Writing audio in new_videoTEMP_MPY_wvf_snd.mp3\n"
          ],
          "name": "stdout"
        },
        {
          "output_type": "stream",
          "text": [
            "100%|██████████| 1117/1117 [00:01<00:00, 1040.75it/s]"
          ],
          "name": "stderr"
        },
        {
          "output_type": "stream",
          "text": [
            "[MoviePy] Done.\n",
            "[MoviePy] Writing video new_video.mp4\n"
          ],
          "name": "stdout"
        },
        {
          "output_type": "stream",
          "text": [
            "\n",
            "100%|██████████| 1520/1520 [00:07<00:00, 215.57it/s]\n"
          ],
          "name": "stderr"
        },
        {
          "output_type": "stream",
          "text": [
            "[MoviePy] Done.\n",
            "[MoviePy] >>>> Video ready: new_video.mp4 \n",
            "\n",
            "(202, 8, 2048)\n",
            "Abuse015.mp4\n",
            "(19, 8, 2048)\n",
            "(221, 8, 2048)\n",
            "[MoviePy] >>>> Building video new_video.mp4\n",
            "[MoviePy] Writing audio in new_videoTEMP_MPY_wvf_snd.mp3\n"
          ],
          "name": "stdout"
        },
        {
          "output_type": "stream",
          "text": [
            "100%|██████████| 3408/3408 [00:03<00:00, 885.32it/s]"
          ],
          "name": "stderr"
        },
        {
          "output_type": "stream",
          "text": [
            "[MoviePy] Done.\n",
            "[MoviePy] Writing video new_video.mp4\n"
          ],
          "name": "stdout"
        },
        {
          "output_type": "stream",
          "text": [
            "\n",
            "100%|██████████| 4636/4636 [00:19<00:00, 233.12it/s]\n"
          ],
          "name": "stderr"
        },
        {
          "output_type": "stream",
          "text": [
            "[MoviePy] Done.\n",
            "[MoviePy] >>>> Video ready: new_video.mp4 \n",
            "\n",
            "(240, 8, 2048)\n",
            "Abuse016.mp4\n",
            "(5, 8, 2048)\n",
            "(245, 8, 2048)\n",
            "[MoviePy] >>>> Building video new_video.mp4\n",
            "[MoviePy] Writing audio in new_videoTEMP_MPY_wvf_snd.mp3\n"
          ],
          "name": "stdout"
        },
        {
          "output_type": "stream",
          "text": [
            "100%|██████████| 956/956 [00:00<00:00, 1037.01it/s]"
          ],
          "name": "stderr"
        },
        {
          "output_type": "stream",
          "text": [
            "[MoviePy] Done.\n",
            "[MoviePy] Writing video new_video.mp4\n"
          ],
          "name": "stdout"
        },
        {
          "output_type": "stream",
          "text": [
            "\n",
            "100%|██████████| 1300/1300 [00:06<00:00, 211.23it/s]\n"
          ],
          "name": "stderr"
        },
        {
          "output_type": "stream",
          "text": [
            "[MoviePy] Done.\n",
            "[MoviePy] >>>> Video ready: new_video.mp4 \n",
            "\n",
            "(250, 8, 2048)\n",
            "Abuse017.mp4\n",
            "(7, 8, 2048)\n",
            "(257, 8, 2048)\n",
            "[MoviePy] >>>> Building video new_video.mp4\n",
            "[MoviePy] Writing audio in new_videoTEMP_MPY_wvf_snd.mp3\n"
          ],
          "name": "stdout"
        },
        {
          "output_type": "stream",
          "text": [
            "100%|██████████| 1247/1247 [00:01<00:00, 881.23it/s]"
          ],
          "name": "stderr"
        },
        {
          "output_type": "stream",
          "text": [
            "[MoviePy] Done.\n",
            "[MoviePy] Writing video new_video.mp4\n"
          ],
          "name": "stdout"
        },
        {
          "output_type": "stream",
          "text": [
            "\n",
            "100%|██████████| 1696/1696 [00:08<00:00, 200.98it/s]\n"
          ],
          "name": "stderr"
        },
        {
          "output_type": "stream",
          "text": [
            "[MoviePy] Done.\n",
            "[MoviePy] >>>> Video ready: new_video.mp4 \n",
            "\n",
            "(264, 8, 2048)\n",
            "Abuse019.mp4\n",
            "(10, 8, 2048)\n",
            "(274, 8, 2048)\n",
            "[MoviePy] >>>> Building video new_video.mp4\n",
            "[MoviePy] Writing audio in new_videoTEMP_MPY_wvf_snd.mp3\n"
          ],
          "name": "stdout"
        },
        {
          "output_type": "stream",
          "text": [
            "100%|██████████| 1828/1828 [00:01<00:00, 1018.79it/s]"
          ],
          "name": "stderr"
        },
        {
          "output_type": "stream",
          "text": [
            "[MoviePy] Done.\n",
            "[MoviePy] Writing video new_video.mp4\n"
          ],
          "name": "stdout"
        },
        {
          "output_type": "stream",
          "text": [
            "\n",
            "100%|██████████| 2487/2487 [00:12<00:00, 202.42it/s]\n"
          ],
          "name": "stderr"
        },
        {
          "output_type": "stream",
          "text": [
            "[MoviePy] Done.\n",
            "[MoviePy] >>>> Video ready: new_video.mp4 \n",
            "\n",
            "(284, 8, 2048)\n",
            "Abuse021.mp4\n",
            "(7, 8, 2048)\n",
            "(291, 8, 2048)\n",
            "[MoviePy] >>>> Building video new_video.mp4\n",
            "[MoviePy] Writing audio in new_videoTEMP_MPY_wvf_snd.mp3\n"
          ],
          "name": "stdout"
        },
        {
          "output_type": "stream",
          "text": [
            "100%|██████████| 1260/1260 [00:01<00:00, 1027.12it/s]"
          ],
          "name": "stderr"
        },
        {
          "output_type": "stream",
          "text": [
            "[MoviePy] Done.\n",
            "[MoviePy] Writing video new_video.mp4\n"
          ],
          "name": "stdout"
        },
        {
          "output_type": "stream",
          "text": [
            "\n",
            "100%|██████████| 1714/1714 [00:07<00:00, 243.92it/s]"
          ],
          "name": "stderr"
        },
        {
          "output_type": "stream",
          "text": [
            "[MoviePy] Done.\n",
            "[MoviePy] >>>> Video ready: new_video.mp4 \n",
            "\n"
          ],
          "name": "stdout"
        },
        {
          "output_type": "stream",
          "text": [
            "\n"
          ],
          "name": "stderr"
        },
        {
          "output_type": "stream",
          "text": [
            "(298, 8, 2048)\n",
            "Abuse022.mp4\n",
            "(9, 8, 2048)\n",
            "(307, 8, 2048)\n",
            "[MoviePy] >>>> Building video new_video.mp4\n",
            "[MoviePy] Writing audio in new_videoTEMP_MPY_wvf_snd.mp3\n"
          ],
          "name": "stdout"
        },
        {
          "output_type": "stream",
          "text": [
            "100%|██████████| 1722/1722 [00:01<00:00, 1039.39it/s]"
          ],
          "name": "stderr"
        },
        {
          "output_type": "stream",
          "text": [
            "[MoviePy] Done.\n",
            "[MoviePy] Writing video new_video.mp4\n"
          ],
          "name": "stdout"
        },
        {
          "output_type": "stream",
          "text": [
            "\n",
            "100%|██████████| 2343/2343 [00:11<00:00, 202.33it/s]\n"
          ],
          "name": "stderr"
        },
        {
          "output_type": "stream",
          "text": [
            "[MoviePy] Done.\n",
            "[MoviePy] >>>> Video ready: new_video.mp4 \n",
            "\n",
            "(316, 8, 2048)\n",
            "Abuse024.mp4\n",
            "(2, 8, 2048)\n",
            "(318, 8, 2048)\n",
            "[MoviePy] >>>> Building video new_video.mp4\n",
            "[MoviePy] Writing audio in new_videoTEMP_MPY_wvf_snd.mp3\n"
          ],
          "name": "stdout"
        },
        {
          "output_type": "stream",
          "text": [
            "100%|██████████| 365/365 [00:00<00:00, 1066.14it/s]"
          ],
          "name": "stderr"
        },
        {
          "output_type": "stream",
          "text": [
            "[MoviePy] Done.\n",
            "[MoviePy] Writing video new_video.mp4\n"
          ],
          "name": "stdout"
        },
        {
          "output_type": "stream",
          "text": [
            "\n",
            "100%|██████████| 497/497 [00:03<00:00, 162.88it/s]\n"
          ],
          "name": "stderr"
        },
        {
          "output_type": "stream",
          "text": [
            "[MoviePy] Done.\n",
            "[MoviePy] >>>> Video ready: new_video.mp4 \n",
            "\n",
            "(320, 8, 2048)\n",
            "Arson008.mp4\n",
            "(1, 8, 2048)\n",
            "(321, 8, 2048)\n",
            "[MoviePy] >>>> Building video new_video.mp4\n",
            "[MoviePy] Writing audio in new_videoTEMP_MPY_wvf_snd.mp3\n"
          ],
          "name": "stdout"
        },
        {
          "output_type": "stream",
          "text": [
            "100%|██████████| 286/286 [00:00<00:00, 860.44it/s]"
          ],
          "name": "stderr"
        },
        {
          "output_type": "stream",
          "text": [
            "[MoviePy] Done.\n",
            "[MoviePy] Writing video new_video.mp4\n"
          ],
          "name": "stdout"
        },
        {
          "output_type": "stream",
          "text": [
            "\n",
            "100%|██████████| 388/388 [00:01<00:00, 214.38it/s]\n"
          ],
          "name": "stderr"
        },
        {
          "output_type": "stream",
          "text": [
            "[MoviePy] Done.\n",
            "[MoviePy] >>>> Video ready: new_video.mp4 \n",
            "\n",
            "(322, 8, 2048)\n",
            "Arson009.mp4\n",
            "(3, 8, 2048)\n",
            "(325, 8, 2048)\n",
            "[MoviePy] >>>> Building video new_video.mp4\n",
            "[MoviePy] Writing audio in new_videoTEMP_MPY_wvf_snd.mp3\n"
          ],
          "name": "stdout"
        },
        {
          "output_type": "stream",
          "text": [
            "100%|██████████| 528/528 [00:00<00:00, 1017.48it/s]"
          ],
          "name": "stderr"
        },
        {
          "output_type": "stream",
          "text": [
            "[MoviePy] Done.\n",
            "[MoviePy] Writing video new_video.mp4\n"
          ],
          "name": "stdout"
        },
        {
          "output_type": "stream",
          "text": [
            "\n",
            "100%|██████████| 718/718 [00:03<00:00, 190.60it/s]\n"
          ],
          "name": "stderr"
        },
        {
          "output_type": "stream",
          "text": [
            "[MoviePy] Done.\n",
            "[MoviePy] >>>> Video ready: new_video.mp4 \n",
            "\n",
            "(328, 8, 2048)\n",
            "Arson049.mp4\n",
            "(1, 8, 2048)\n",
            "(329, 8, 2048)\n",
            "[MoviePy] >>>> Building video new_video.mp4\n",
            "[MoviePy] Writing audio in new_videoTEMP_MPY_wvf_snd.mp3\n"
          ],
          "name": "stdout"
        },
        {
          "output_type": "stream",
          "text": [
            "100%|██████████| 283/283 [00:00<00:00, 1062.68it/s]"
          ],
          "name": "stderr"
        },
        {
          "output_type": "stream",
          "text": [
            "[MoviePy] Done.\n",
            "[MoviePy] Writing video new_video.mp4\n"
          ],
          "name": "stdout"
        },
        {
          "output_type": "stream",
          "text": [
            "\n",
            "100%|██████████| 385/385 [00:01<00:00, 219.29it/s]\n"
          ],
          "name": "stderr"
        },
        {
          "output_type": "stream",
          "text": [
            "[MoviePy] Done.\n",
            "[MoviePy] >>>> Video ready: new_video.mp4 \n",
            "\n",
            "(330, 8, 2048)\n",
            "Arson011.mp4\n",
            "(1, 8, 2048)\n",
            "(331, 8, 2048)\n",
            "[MoviePy] >>>> Building video new_video.mp4\n",
            "[MoviePy] Writing audio in new_videoTEMP_MPY_wvf_snd.mp3\n"
          ],
          "name": "stdout"
        },
        {
          "output_type": "stream",
          "text": [
            "100%|██████████| 285/285 [00:00<00:00, 1062.52it/s]"
          ],
          "name": "stderr"
        },
        {
          "output_type": "stream",
          "text": [
            "[MoviePy] Done.\n",
            "[MoviePy] Writing video new_video.mp4\n"
          ],
          "name": "stdout"
        },
        {
          "output_type": "stream",
          "text": [
            "\n",
            "100%|██████████| 388/388 [00:02<00:00, 179.96it/s]\n"
          ],
          "name": "stderr"
        },
        {
          "output_type": "stream",
          "text": [
            "[MoviePy] Done.\n",
            "[MoviePy] >>>> Video ready: new_video.mp4 \n",
            "\n",
            "(332, 8, 2048)\n",
            "Arson048.mp4\n",
            "(1, 8, 2048)\n",
            "(333, 8, 2048)\n",
            "[MoviePy] >>>> Building video new_video.mp4\n",
            "[MoviePy] Writing audio in new_videoTEMP_MPY_wvf_snd.mp3\n"
          ],
          "name": "stdout"
        },
        {
          "output_type": "stream",
          "text": [
            "100%|██████████| 281/281 [00:00<00:00, 952.40it/s]"
          ],
          "name": "stderr"
        },
        {
          "output_type": "stream",
          "text": [
            "[MoviePy] Done.\n",
            "[MoviePy] Writing video new_video.mp4\n"
          ],
          "name": "stdout"
        },
        {
          "output_type": "stream",
          "text": [
            "\n",
            "100%|██████████| 382/382 [00:02<00:00, 152.50it/s]\n"
          ],
          "name": "stderr"
        },
        {
          "output_type": "stream",
          "text": [
            "[MoviePy] Done.\n",
            "[MoviePy] >>>> Video ready: new_video.mp4 \n",
            "\n",
            "(334, 8, 2048)\n",
            "Arson031.mp4\n",
            "(5, 8, 2048)\n",
            "(339, 8, 2048)\n",
            "[MoviePy] >>>> Building video new_video.mp4\n",
            "[MoviePy] Writing audio in new_videoTEMP_MPY_wvf_snd.mp3\n"
          ],
          "name": "stdout"
        },
        {
          "output_type": "stream",
          "text": [
            "100%|██████████| 945/945 [00:00<00:00, 1006.91it/s]"
          ],
          "name": "stderr"
        },
        {
          "output_type": "stream",
          "text": [
            "[MoviePy] Done.\n",
            "[MoviePy] Writing video new_video.mp4\n"
          ],
          "name": "stdout"
        },
        {
          "output_type": "stream",
          "text": [
            "\n",
            "100%|██████████| 1285/1285 [00:05<00:00, 244.39it/s]\n"
          ],
          "name": "stderr"
        },
        {
          "output_type": "stream",
          "text": [
            "[MoviePy] Done.\n",
            "[MoviePy] >>>> Video ready: new_video.mp4 \n",
            "\n",
            "(344, 8, 2048)\n",
            "Arson012.mp4\n",
            "(3, 8, 2048)\n",
            "(347, 8, 2048)\n",
            "[MoviePy] >>>> Building video new_video.mp4\n",
            "[MoviePy] Writing audio in new_videoTEMP_MPY_wvf_snd.mp3\n"
          ],
          "name": "stdout"
        },
        {
          "output_type": "stream",
          "text": [
            "100%|██████████| 595/595 [00:00<00:00, 1026.89it/s]"
          ],
          "name": "stderr"
        },
        {
          "output_type": "stream",
          "text": [
            "[MoviePy] Done.\n",
            "[MoviePy] Writing video new_video.mp4\n"
          ],
          "name": "stdout"
        },
        {
          "output_type": "stream",
          "text": [
            "\n",
            "100%|██████████| 810/810 [00:03<00:00, 218.48it/s]\n"
          ],
          "name": "stderr"
        },
        {
          "output_type": "stream",
          "text": [
            "[MoviePy] Done.\n",
            "[MoviePy] >>>> Video ready: new_video.mp4 \n",
            "\n",
            "(350, 8, 2048)\n",
            "Arson038.mp4\n",
            "(3, 8, 2048)\n",
            "(353, 8, 2048)\n",
            "[MoviePy] >>>> Building video new_video.mp4\n",
            "[MoviePy] Writing audio in new_videoTEMP_MPY_wvf_snd.mp3\n"
          ],
          "name": "stdout"
        },
        {
          "output_type": "stream",
          "text": [
            "100%|██████████| 528/528 [00:00<00:00, 1040.08it/s]"
          ],
          "name": "stderr"
        },
        {
          "output_type": "stream",
          "text": [
            "[MoviePy] Done.\n",
            "[MoviePy] Writing video new_video.mp4\n"
          ],
          "name": "stdout"
        },
        {
          "output_type": "stream",
          "text": [
            "\n",
            "100%|██████████| 718/718 [00:03<00:00, 180.44it/s]\n"
          ],
          "name": "stderr"
        },
        {
          "output_type": "stream",
          "text": [
            "[MoviePy] Done.\n",
            "[MoviePy] >>>> Video ready: new_video.mp4 \n",
            "\n",
            "(356, 8, 2048)\n",
            "Arson052.mp4\n",
            "(3, 8, 2048)\n",
            "(359, 8, 2048)\n",
            "[MoviePy] >>>> Building video new_video.mp4\n",
            "[MoviePy] Writing audio in new_videoTEMP_MPY_wvf_snd.mp3\n"
          ],
          "name": "stdout"
        },
        {
          "output_type": "stream",
          "text": [
            "100%|██████████| 649/649 [00:00<00:00, 1033.38it/s]"
          ],
          "name": "stderr"
        },
        {
          "output_type": "stream",
          "text": [
            "[MoviePy] Done.\n",
            "[MoviePy] Writing video new_video.mp4\n"
          ],
          "name": "stdout"
        },
        {
          "output_type": "stream",
          "text": [
            "\n",
            "100%|█████████▉| 882/883 [00:04<00:00, 218.02it/s]\n"
          ],
          "name": "stderr"
        },
        {
          "output_type": "stream",
          "text": [
            "[MoviePy] Done.\n",
            "[MoviePy] >>>> Video ready: new_video.mp4 \n",
            "\n",
            "(362, 8, 2048)\n",
            "Arson018.mp4\n",
            "(3, 8, 2048)\n",
            "(365, 8, 2048)\n",
            "[MoviePy] >>>> Building video new_video.mp4\n",
            "[MoviePy] Writing audio in new_videoTEMP_MPY_wvf_snd.mp3\n"
          ],
          "name": "stdout"
        },
        {
          "output_type": "stream",
          "text": [
            "100%|██████████| 597/597 [00:00<00:00, 1058.86it/s]"
          ],
          "name": "stderr"
        },
        {
          "output_type": "stream",
          "text": [
            "[MoviePy] Done.\n",
            "[MoviePy] Writing video new_video.mp4\n"
          ],
          "name": "stdout"
        },
        {
          "output_type": "stream",
          "text": [
            "\n",
            "100%|██████████| 813/813 [00:03<00:00, 217.16it/s]\n"
          ],
          "name": "stderr"
        },
        {
          "output_type": "stream",
          "text": [
            "[MoviePy] Done.\n",
            "[MoviePy] >>>> Video ready: new_video.mp4 \n",
            "\n",
            "(368, 8, 2048)\n",
            "Arson021.mp4\n",
            "(4, 8, 2048)\n",
            "(372, 8, 2048)\n",
            "[MoviePy] >>>> Building video new_video.mp4\n",
            "[MoviePy] Writing audio in new_videoTEMP_MPY_wvf_snd.mp3\n"
          ],
          "name": "stdout"
        },
        {
          "output_type": "stream",
          "text": [
            "100%|██████████| 800/800 [00:00<00:00, 1047.04it/s]"
          ],
          "name": "stderr"
        },
        {
          "output_type": "stream",
          "text": [
            "[MoviePy] Done.\n",
            "[MoviePy] Writing video new_video.mp4\n"
          ],
          "name": "stdout"
        },
        {
          "output_type": "stream",
          "text": [
            "\n",
            "100%|██████████| 1088/1088 [00:04<00:00, 243.57it/s]\n"
          ],
          "name": "stderr"
        },
        {
          "output_type": "stream",
          "text": [
            "[MoviePy] Done.\n",
            "[MoviePy] >>>> Video ready: new_video.mp4 \n",
            "\n",
            "(376, 8, 2048)\n",
            "Arson017.mp4\n",
            "(4, 8, 2048)\n",
            "(380, 8, 2048)\n",
            "[MoviePy] >>>> Building video new_video.mp4\n",
            "[MoviePy] Writing audio in new_videoTEMP_MPY_wvf_snd.mp3\n"
          ],
          "name": "stdout"
        },
        {
          "output_type": "stream",
          "text": [
            "100%|██████████| 788/788 [00:00<00:00, 878.29it/s]\n"
          ],
          "name": "stderr"
        },
        {
          "output_type": "stream",
          "text": [
            "[MoviePy] Done.\n",
            "[MoviePy] Writing video new_video.mp4\n"
          ],
          "name": "stdout"
        },
        {
          "output_type": "stream",
          "text": [
            "100%|██████████| 1072/1072 [00:04<00:00, 238.14it/s]"
          ],
          "name": "stderr"
        },
        {
          "output_type": "stream",
          "text": [
            "[MoviePy] Done.\n",
            "[MoviePy] >>>> Video ready: new_video.mp4 \n",
            "\n"
          ],
          "name": "stdout"
        },
        {
          "output_type": "stream",
          "text": [
            "\n"
          ],
          "name": "stderr"
        },
        {
          "output_type": "stream",
          "text": [
            "(384, 8, 2048)\n",
            "Arson001.mp4\n",
            "(12, 8, 2048)\n",
            "(396, 8, 2048)\n",
            "[MoviePy] >>>> Building video new_video.mp4\n",
            "[MoviePy] Writing audio in new_videoTEMP_MPY_wvf_snd.mp3\n"
          ],
          "name": "stdout"
        },
        {
          "output_type": "stream",
          "text": [
            "100%|██████████| 2134/2134 [00:02<00:00, 1029.09it/s]"
          ],
          "name": "stderr"
        },
        {
          "output_type": "stream",
          "text": [
            "[MoviePy] Done.\n",
            "[MoviePy] Writing video new_video.mp4\n"
          ],
          "name": "stdout"
        },
        {
          "output_type": "stream",
          "text": [
            "\n",
            "100%|██████████| 2903/2903 [00:12<00:00, 230.20it/s]\n"
          ],
          "name": "stderr"
        },
        {
          "output_type": "stream",
          "text": [
            "[MoviePy] Done.\n",
            "[MoviePy] >>>> Video ready: new_video.mp4 \n",
            "\n",
            "(408, 8, 2048)\n",
            "Arson002.mp4\n",
            "(14, 8, 2048)\n",
            "(422, 8, 2048)\n",
            "[MoviePy] >>>> Building video new_video.mp4\n",
            "[MoviePy] Writing audio in new_videoTEMP_MPY_wvf_snd.mp3\n"
          ],
          "name": "stdout"
        },
        {
          "output_type": "stream",
          "text": [
            "100%|██████████| 2499/2499 [00:02<00:00, 1017.36it/s]"
          ],
          "name": "stderr"
        },
        {
          "output_type": "stream",
          "text": [
            "[MoviePy] Done.\n",
            "[MoviePy] Writing video new_video.mp4\n"
          ],
          "name": "stdout"
        },
        {
          "output_type": "stream",
          "text": [
            "\n",
            "100%|█████████▉| 3399/3400 [00:19<00:00, 174.78it/s]\n"
          ],
          "name": "stderr"
        },
        {
          "output_type": "stream",
          "text": [
            "[MoviePy] Done.\n",
            "[MoviePy] >>>> Video ready: new_video.mp4 \n",
            "\n",
            "(436, 8, 2048)\n",
            "Arson003.mp4\n",
            "(13, 8, 2048)\n",
            "(449, 8, 2048)\n",
            "[MoviePy] >>>> Building video new_video.mp4\n",
            "[MoviePy] Writing audio in new_videoTEMP_MPY_wvf_snd.mp3\n"
          ],
          "name": "stdout"
        },
        {
          "output_type": "stream",
          "text": [
            "100%|██████████| 2311/2311 [00:02<00:00, 984.38it/s]"
          ],
          "name": "stderr"
        },
        {
          "output_type": "stream",
          "text": [
            "[MoviePy] Done.\n",
            "[MoviePy] Writing video new_video.mp4\n"
          ],
          "name": "stdout"
        },
        {
          "output_type": "stream",
          "text": [
            "\n",
            "100%|██████████| 3144/3144 [00:14<00:00, 220.61it/s]\n"
          ],
          "name": "stderr"
        },
        {
          "output_type": "stream",
          "text": [
            "[MoviePy] Done.\n",
            "[MoviePy] >>>> Video ready: new_video.mp4 \n",
            "\n",
            "(462, 8, 2048)\n",
            "Arson005.mp4\n",
            "(4, 8, 2048)\n",
            "(466, 8, 2048)\n",
            "[MoviePy] >>>> Building video new_video.mp4\n",
            "[MoviePy] Writing audio in new_videoTEMP_MPY_wvf_snd.mp3\n"
          ],
          "name": "stdout"
        },
        {
          "output_type": "stream",
          "text": [
            "100%|██████████| 720/720 [00:00<00:00, 898.74it/s]"
          ],
          "name": "stderr"
        },
        {
          "output_type": "stream",
          "text": [
            "[MoviePy] Done.\n",
            "[MoviePy] Writing video new_video.mp4\n"
          ],
          "name": "stdout"
        },
        {
          "output_type": "stream",
          "text": [
            "\n",
            "100%|██████████| 980/980 [00:04<00:00, 201.78it/s]\n"
          ],
          "name": "stderr"
        },
        {
          "output_type": "stream",
          "text": [
            "[MoviePy] Done.\n",
            "[MoviePy] >>>> Video ready: new_video.mp4 \n",
            "\n",
            "(470, 8, 2048)\n",
            "Arson006.mp4\n",
            "(8, 8, 2048)\n",
            "(478, 8, 2048)\n",
            "[MoviePy] >>>> Building video new_video.mp4\n",
            "[MoviePy] Writing audio in new_videoTEMP_MPY_wvf_snd.mp3\n"
          ],
          "name": "stdout"
        },
        {
          "output_type": "stream",
          "text": [
            "100%|██████████| 1562/1562 [00:01<00:00, 1025.97it/s]"
          ],
          "name": "stderr"
        },
        {
          "output_type": "stream",
          "text": [
            "[MoviePy] Done.\n",
            "[MoviePy] Writing video new_video.mp4\n"
          ],
          "name": "stdout"
        },
        {
          "output_type": "stream",
          "text": [
            "\n",
            "100%|██████████| 2125/2125 [00:08<00:00, 239.69it/s]\n"
          ],
          "name": "stderr"
        },
        {
          "output_type": "stream",
          "text": [
            "[MoviePy] Done.\n",
            "[MoviePy] >>>> Video ready: new_video.mp4 \n",
            "\n",
            "(486, 8, 2048)\n",
            "Arson010.mp4\n",
            "(9, 8, 2048)\n",
            "(495, 8, 2048)\n",
            "[MoviePy] >>>> Building video new_video.mp4\n",
            "[MoviePy] Writing audio in new_videoTEMP_MPY_wvf_snd.mp3\n"
          ],
          "name": "stdout"
        },
        {
          "output_type": "stream",
          "text": [
            "100%|██████████| 1651/1651 [00:01<00:00, 930.01it/s]"
          ],
          "name": "stderr"
        },
        {
          "output_type": "stream",
          "text": [
            "[MoviePy] Done.\n",
            "[MoviePy] Writing video new_video.mp4\n"
          ],
          "name": "stdout"
        },
        {
          "output_type": "stream",
          "text": [
            "\n",
            "100%|██████████| 2246/2246 [00:09<00:00, 236.29it/s]\n"
          ],
          "name": "stderr"
        },
        {
          "output_type": "stream",
          "text": [
            "[MoviePy] Done.\n",
            "[MoviePy] >>>> Video ready: new_video.mp4 \n",
            "\n",
            "(504, 8, 2048)\n",
            "Arson013.mp4\n",
            "(12, 8, 2048)\n",
            "(516, 8, 2048)\n",
            "[MoviePy] >>>> Building video new_video.mp4\n",
            "[MoviePy] Writing audio in new_videoTEMP_MPY_wvf_snd.mp3\n"
          ],
          "name": "stdout"
        },
        {
          "output_type": "stream",
          "text": [
            "100%|██████████| 2097/2097 [00:02<00:00, 1014.97it/s]"
          ],
          "name": "stderr"
        },
        {
          "output_type": "stream",
          "text": [
            "[MoviePy] Done.\n",
            "[MoviePy] Writing video new_video.mp4\n"
          ],
          "name": "stdout"
        },
        {
          "output_type": "stream",
          "text": [
            "\n",
            "100%|██████████| 2853/2853 [00:12<00:00, 229.67it/s]"
          ],
          "name": "stderr"
        },
        {
          "output_type": "stream",
          "text": [
            "[MoviePy] Done.\n",
            "[MoviePy] >>>> Video ready: new_video.mp4 \n",
            "\n"
          ],
          "name": "stdout"
        },
        {
          "output_type": "stream",
          "text": [
            "\n"
          ],
          "name": "stderr"
        },
        {
          "output_type": "stream",
          "text": [
            "(528, 8, 2048)\n",
            "Arson014.mp4\n",
            "(10, 8, 2048)\n",
            "(538, 8, 2048)\n",
            "[MoviePy] >>>> Building video new_video.mp4\n",
            "[MoviePy] Writing audio in new_videoTEMP_MPY_wvf_snd.mp3\n"
          ],
          "name": "stdout"
        },
        {
          "output_type": "stream",
          "text": [
            "100%|██████████| 1772/1772 [00:02<00:00, 703.27it/s]"
          ],
          "name": "stderr"
        },
        {
          "output_type": "stream",
          "text": [
            "[MoviePy] Done.\n",
            "[MoviePy] Writing video new_video.mp4\n"
          ],
          "name": "stdout"
        },
        {
          "output_type": "stream",
          "text": [
            "\n",
            "100%|██████████| 2411/2411 [00:11<00:00, 208.92it/s]\n"
          ],
          "name": "stderr"
        },
        {
          "output_type": "stream",
          "text": [
            "[MoviePy] Done.\n",
            "[MoviePy] >>>> Video ready: new_video.mp4 \n",
            "\n",
            "(548, 8, 2048)\n",
            "Arson015.mp4\n",
            "(28, 8, 2048)\n",
            "(576, 8, 2048)\n",
            "[MoviePy] >>>> Building video new_video.mp4\n",
            "[MoviePy] Writing audio in new_videoTEMP_MPY_wvf_snd.mp3\n"
          ],
          "name": "stdout"
        },
        {
          "output_type": "stream",
          "text": [
            "100%|██████████| 5079/5079 [00:04<00:00, 1020.03it/s]"
          ],
          "name": "stderr"
        },
        {
          "output_type": "stream",
          "text": [
            "[MoviePy] Done.\n",
            "[MoviePy] Writing video new_video.mp4\n"
          ],
          "name": "stdout"
        },
        {
          "output_type": "stream",
          "text": [
            "\n",
            "100%|█████████▉| 6909/6910 [00:35<00:00, 193.24it/s]"
          ],
          "name": "stderr"
        },
        {
          "output_type": "stream",
          "text": [
            "[MoviePy] Done.\n",
            "[MoviePy] >>>> Video ready: new_video.mp4 \n",
            "\n"
          ],
          "name": "stdout"
        },
        {
          "output_type": "stream",
          "text": [
            "\n"
          ],
          "name": "stderr"
        },
        {
          "output_type": "stream",
          "text": [
            "(604, 8, 2048)\n",
            "Arson016.mp4\n",
            "(7, 8, 2048)\n",
            "(611, 8, 2048)\n",
            "[MoviePy] >>>> Building video new_video.mp4\n",
            "[MoviePy] Writing audio in new_videoTEMP_MPY_wvf_snd.mp3\n"
          ],
          "name": "stdout"
        },
        {
          "output_type": "stream",
          "text": [
            "100%|██████████| 1302/1302 [00:01<00:00, 1020.80it/s]"
          ],
          "name": "stderr"
        },
        {
          "output_type": "stream",
          "text": [
            "[MoviePy] Done.\n",
            "[MoviePy] Writing video new_video.mp4\n"
          ],
          "name": "stdout"
        },
        {
          "output_type": "stream",
          "text": [
            "\n",
            "100%|██████████| 1771/1771 [00:08<00:00, 211.45it/s]\n"
          ],
          "name": "stderr"
        },
        {
          "output_type": "stream",
          "text": [
            "[MoviePy] Done.\n",
            "[MoviePy] >>>> Video ready: new_video.mp4 \n",
            "\n",
            "(618, 8, 2048)\n",
            "Arson019.mp4\n",
            "(9, 8, 2048)\n",
            "(627, 8, 2048)\n",
            "[MoviePy] >>>> Building video new_video.mp4\n",
            "[MoviePy] Writing audio in new_videoTEMP_MPY_wvf_snd.mp3\n"
          ],
          "name": "stdout"
        },
        {
          "output_type": "stream",
          "text": [
            "100%|██████████| 1594/1594 [00:01<00:00, 1035.46it/s]"
          ],
          "name": "stderr"
        },
        {
          "output_type": "stream",
          "text": [
            "[MoviePy] Done.\n",
            "[MoviePy] Writing video new_video.mp4\n"
          ],
          "name": "stdout"
        },
        {
          "output_type": "stream",
          "text": [
            "\n",
            "100%|██████████| 2168/2168 [00:10<00:00, 203.87it/s]\n"
          ],
          "name": "stderr"
        },
        {
          "output_type": "stream",
          "text": [
            "[MoviePy] Done.\n",
            "[MoviePy] >>>> Video ready: new_video.mp4 \n",
            "\n",
            "(636, 8, 2048)\n",
            "Arson020.mp4\n",
            "(8, 8, 2048)\n",
            "(644, 8, 2048)\n",
            "[MoviePy] >>>> Building video new_video.mp4\n",
            "[MoviePy] Writing audio in new_videoTEMP_MPY_wvf_snd.mp3\n"
          ],
          "name": "stdout"
        },
        {
          "output_type": "stream",
          "text": [
            "100%|██████████| 1530/1530 [00:01<00:00, 1037.00it/s]"
          ],
          "name": "stderr"
        },
        {
          "output_type": "stream",
          "text": [
            "[MoviePy] Done.\n",
            "[MoviePy] Writing video new_video.mp4\n"
          ],
          "name": "stdout"
        },
        {
          "output_type": "stream",
          "text": [
            "\n",
            "100%|██████████| 2082/2082 [00:10<00:00, 207.49it/s]\n"
          ],
          "name": "stderr"
        },
        {
          "output_type": "stream",
          "text": [
            "[MoviePy] Done.\n",
            "[MoviePy] >>>> Video ready: new_video.mp4 \n",
            "\n",
            "(652, 8, 2048)\n",
            "Arson022.mp4\n",
            "(14, 8, 2048)\n",
            "(666, 8, 2048)\n",
            "[MoviePy] >>>> Building video new_video.mp4\n",
            "[MoviePy] Writing audio in new_videoTEMP_MPY_wvf_snd.mp3\n"
          ],
          "name": "stdout"
        },
        {
          "output_type": "stream",
          "text": [
            "100%|██████████| 2462/2462 [00:02<00:00, 1023.35it/s]"
          ],
          "name": "stderr"
        },
        {
          "output_type": "stream",
          "text": [
            "[MoviePy] Done.\n",
            "[MoviePy] Writing video new_video.mp4\n"
          ],
          "name": "stdout"
        },
        {
          "output_type": "stream",
          "text": [
            "\n",
            "100%|██████████| 3349/3349 [00:14<00:00, 235.10it/s]\n"
          ],
          "name": "stderr"
        },
        {
          "output_type": "stream",
          "text": [
            "[MoviePy] Done.\n",
            "[MoviePy] >>>> Video ready: new_video.mp4 \n",
            "\n",
            "(680, 8, 2048)\n",
            "Arson023.mp4\n",
            "(5, 8, 2048)\n",
            "(685, 8, 2048)\n",
            "[MoviePy] >>>> Building video new_video.mp4\n",
            "[MoviePy] Writing audio in new_videoTEMP_MPY_wvf_snd.mp3\n"
          ],
          "name": "stdout"
        },
        {
          "output_type": "stream",
          "text": [
            "100%|██████████| 877/877 [00:01<00:00, 800.21it/s]"
          ],
          "name": "stderr"
        },
        {
          "output_type": "stream",
          "text": [
            "[MoviePy] Done.\n",
            "[MoviePy] Writing video new_video.mp4\n"
          ],
          "name": "stdout"
        },
        {
          "output_type": "stream",
          "text": [
            "\n",
            "100%|██████████| 1194/1194 [00:05<00:00, 211.96it/s]\n"
          ],
          "name": "stderr"
        },
        {
          "output_type": "stream",
          "text": [
            "[MoviePy] Done.\n",
            "[MoviePy] >>>> Video ready: new_video.mp4 \n",
            "\n",
            "(690, 8, 2048)\n",
            "Arson024.mp4\n",
            "(3, 8, 2048)\n",
            "(693, 8, 2048)\n",
            "[MoviePy] >>>> Building video new_video.mp4\n",
            "[MoviePy] Writing audio in new_videoTEMP_MPY_wvf_snd.mp3\n"
          ],
          "name": "stdout"
        },
        {
          "output_type": "stream",
          "text": [
            "100%|██████████| 530/530 [00:00<00:00, 1039.41it/s]"
          ],
          "name": "stderr"
        },
        {
          "output_type": "stream",
          "text": [
            "[MoviePy] Done.\n",
            "[MoviePy] Writing video new_video.mp4\n"
          ],
          "name": "stdout"
        },
        {
          "output_type": "stream",
          "text": [
            "\n",
            "100%|██████████| 721/721 [00:03<00:00, 203.48it/s]\n"
          ],
          "name": "stderr"
        },
        {
          "output_type": "stream",
          "text": [
            "[MoviePy] Done.\n",
            "[MoviePy] >>>> Video ready: new_video.mp4 \n",
            "\n",
            "(696, 8, 2048)\n",
            "Arson025.mp4\n",
            "(7, 8, 2048)\n",
            "(703, 8, 2048)\n",
            "[MoviePy] >>>> Building video new_video.mp4\n",
            "[MoviePy] Writing audio in new_videoTEMP_MPY_wvf_snd.mp3\n"
          ],
          "name": "stdout"
        },
        {
          "output_type": "stream",
          "text": [
            "100%|██████████| 1361/1361 [00:01<00:00, 1044.22it/s]\n"
          ],
          "name": "stderr"
        },
        {
          "output_type": "stream",
          "text": [
            "[MoviePy] Done.\n",
            "[MoviePy] Writing video new_video.mp4\n"
          ],
          "name": "stdout"
        },
        {
          "output_type": "stream",
          "text": [
            "100%|██████████| 1852/1852 [00:09<00:00, 204.43it/s]\n"
          ],
          "name": "stderr"
        },
        {
          "output_type": "stream",
          "text": [
            "[MoviePy] Done.\n",
            "[MoviePy] >>>> Video ready: new_video.mp4 \n",
            "\n",
            "(710, 8, 2048)\n",
            "Arson026.mp4\n",
            "(16, 8, 2048)\n",
            "(726, 8, 2048)\n",
            "[MoviePy] >>>> Building video new_video.mp4\n",
            "[MoviePy] Writing audio in new_videoTEMP_MPY_wvf_snd.mp3\n"
          ],
          "name": "stdout"
        },
        {
          "output_type": "stream",
          "text": [
            "100%|██████████| 2845/2845 [00:03<00:00, 804.29it/s]"
          ],
          "name": "stderr"
        },
        {
          "output_type": "stream",
          "text": [
            "[MoviePy] Done.\n",
            "[MoviePy] Writing video new_video.mp4\n"
          ],
          "name": "stdout"
        },
        {
          "output_type": "stream",
          "text": [
            "\n",
            "100%|██████████| 3870/3870 [00:25<00:00, 151.54it/s]\n"
          ],
          "name": "stderr"
        },
        {
          "output_type": "stream",
          "text": [
            "[MoviePy] Done.\n",
            "[MoviePy] >>>> Video ready: new_video.mp4 \n",
            "\n",
            "(742, 8, 2048)\n",
            "Arson027.mp4\n",
            "(10, 8, 2048)\n",
            "(752, 8, 2048)\n",
            "[MoviePy] >>>> Building video new_video.mp4\n",
            "[MoviePy] Writing audio in new_videoTEMP_MPY_wvf_snd.mp3\n"
          ],
          "name": "stdout"
        },
        {
          "output_type": "stream",
          "text": [
            "100%|██████████| 1794/1794 [00:01<00:00, 1030.80it/s]"
          ],
          "name": "stderr"
        },
        {
          "output_type": "stream",
          "text": [
            "[MoviePy] Done.\n",
            "[MoviePy] Writing video new_video.mp4\n"
          ],
          "name": "stdout"
        },
        {
          "output_type": "stream",
          "text": [
            "\n",
            "100%|██████████| 2440/2440 [00:12<00:00, 196.66it/s]\n"
          ],
          "name": "stderr"
        },
        {
          "output_type": "stream",
          "text": [
            "[MoviePy] Done.\n",
            "[MoviePy] >>>> Video ready: new_video.mp4 \n",
            "\n",
            "(762, 8, 2048)\n",
            "Assault032.mp4\n",
            "(2, 8, 2048)\n",
            "(764, 8, 2048)\n",
            "[MoviePy] >>>> Building video new_video.mp4\n",
            "[MoviePy] Writing audio in new_videoTEMP_MPY_wvf_snd.mp3\n"
          ],
          "name": "stdout"
        },
        {
          "output_type": "stream",
          "text": [
            "100%|██████████| 388/388 [00:00<00:00, 864.42it/s]"
          ],
          "name": "stderr"
        },
        {
          "output_type": "stream",
          "text": [
            "[MoviePy] Done.\n",
            "[MoviePy] Writing video new_video.mp4\n"
          ],
          "name": "stdout"
        },
        {
          "output_type": "stream",
          "text": [
            "\n",
            "100%|██████████| 528/528 [00:02<00:00, 223.17it/s]\n"
          ],
          "name": "stderr"
        },
        {
          "output_type": "stream",
          "text": [
            "[MoviePy] Done.\n",
            "[MoviePy] >>>> Video ready: new_video.mp4 \n",
            "\n",
            "(766, 8, 2048)\n",
            "Assault017.mp4\n",
            "(4, 8, 2048)\n",
            "(770, 8, 2048)\n",
            "[MoviePy] >>>> Building video new_video.mp4\n",
            "[MoviePy] Writing video new_video.mp4\n"
          ],
          "name": "stdout"
        },
        {
          "output_type": "stream",
          "text": [
            "100%|██████████| 1143/1143 [00:05<00:00, 208.29it/s]\n"
          ],
          "name": "stderr"
        },
        {
          "output_type": "stream",
          "text": [
            "[MoviePy] Done.\n",
            "[MoviePy] >>>> Video ready: new_video.mp4 \n",
            "\n",
            "(774, 8, 2048)\n",
            "Assault018.mp4\n",
            "(1, 8, 2048)\n",
            "(775, 8, 2048)\n",
            "[MoviePy] >>>> Building video new_video.mp4\n",
            "[MoviePy] Writing audio in new_videoTEMP_MPY_wvf_snd.mp3\n"
          ],
          "name": "stdout"
        },
        {
          "output_type": "stream",
          "text": [
            "100%|██████████| 263/263 [00:00<00:00, 1023.95it/s]"
          ],
          "name": "stderr"
        },
        {
          "output_type": "stream",
          "text": [
            "[MoviePy] Done.\n",
            "[MoviePy] Writing video new_video.mp4\n"
          ],
          "name": "stdout"
        },
        {
          "output_type": "stream",
          "text": [
            "\n",
            "100%|█████████▉| 357/358 [00:01<00:00, 256.37it/s]\n"
          ],
          "name": "stderr"
        },
        {
          "output_type": "stream",
          "text": [
            "[MoviePy] Done.\n",
            "[MoviePy] >>>> Video ready: new_video.mp4 \n",
            "\n",
            "(776, 8, 2048)\n",
            "Assault024.mp4\n",
            "(1, 8, 2048)\n",
            "(777, 8, 2048)\n",
            "[MoviePy] >>>> Building video new_video.mp4\n",
            "[MoviePy] Writing audio in new_videoTEMP_MPY_wvf_snd.mp3\n"
          ],
          "name": "stdout"
        },
        {
          "output_type": "stream",
          "text": [
            "100%|██████████| 275/275 [00:00<00:00, 1058.58it/s]"
          ],
          "name": "stderr"
        },
        {
          "output_type": "stream",
          "text": [
            "[MoviePy] Done.\n",
            "[MoviePy] Writing video new_video.mp4\n"
          ],
          "name": "stdout"
        },
        {
          "output_type": "stream",
          "text": [
            "\n",
            "100%|██████████| 374/374 [00:02<00:00, 183.93it/s]\n"
          ],
          "name": "stderr"
        },
        {
          "output_type": "stream",
          "text": [
            "[MoviePy] Done.\n",
            "[MoviePy] >>>> Video ready: new_video.mp4 \n",
            "\n",
            "(778, 8, 2048)\n",
            "Assault030.mp4\n",
            "(3, 8, 2048)\n",
            "(781, 8, 2048)\n",
            "[MoviePy] >>>> Building video new_video.mp4\n",
            "[MoviePy] Writing audio in new_videoTEMP_MPY_wvf_snd.mp3\n"
          ],
          "name": "stdout"
        },
        {
          "output_type": "stream",
          "text": [
            "100%|██████████| 626/626 [00:00<00:00, 1018.15it/s]"
          ],
          "name": "stderr"
        },
        {
          "output_type": "stream",
          "text": [
            "[MoviePy] Done.\n",
            "[MoviePy] Writing video new_video.mp4\n"
          ],
          "name": "stdout"
        },
        {
          "output_type": "stream",
          "text": [
            "\n",
            "100%|██████████| 851/851 [00:04<00:00, 198.35it/s]\n"
          ],
          "name": "stderr"
        },
        {
          "output_type": "stream",
          "text": [
            "[MoviePy] Done.\n",
            "[MoviePy] >>>> Video ready: new_video.mp4 \n",
            "\n",
            "(784, 8, 2048)\n",
            "Assault005.mp4\n",
            "(4, 8, 2048)\n",
            "(788, 8, 2048)\n",
            "[MoviePy] >>>> Building video new_video.mp4\n",
            "[MoviePy] Writing video new_video.mp4\n"
          ],
          "name": "stdout"
        },
        {
          "output_type": "stream",
          "text": [
            "100%|██████████| 1020/1020 [00:05<00:00, 197.50it/s]\n"
          ],
          "name": "stderr"
        },
        {
          "output_type": "stream",
          "text": [
            "[MoviePy] Done.\n",
            "[MoviePy] >>>> Video ready: new_video.mp4 \n",
            "\n",
            "(792, 8, 2048)\n",
            "Assault023.mp4\n",
            "(2, 8, 2048)\n",
            "(794, 8, 2048)\n",
            "[MoviePy] >>>> Building video new_video.mp4\n",
            "[MoviePy] Writing audio in new_videoTEMP_MPY_wvf_snd.mp3\n"
          ],
          "name": "stdout"
        },
        {
          "output_type": "stream",
          "text": [
            "100%|██████████| 425/425 [00:00<00:00, 1030.54it/s]"
          ],
          "name": "stderr"
        },
        {
          "output_type": "stream",
          "text": [
            "[MoviePy] Done.\n",
            "[MoviePy] Writing video new_video.mp4\n"
          ],
          "name": "stdout"
        },
        {
          "output_type": "stream",
          "text": [
            "\n",
            "100%|██████████| 577/577 [00:02<00:00, 207.44it/s]\n"
          ],
          "name": "stderr"
        },
        {
          "output_type": "stream",
          "text": [
            "[MoviePy] Done.\n",
            "[MoviePy] >>>> Video ready: new_video.mp4 \n",
            "\n",
            "(796, 8, 2048)\n",
            "Assault026.mp4\n",
            "(3, 8, 2048)\n",
            "(799, 8, 2048)\n",
            "[MoviePy] >>>> Building video new_video.mp4\n",
            "[MoviePy] Writing audio in new_videoTEMP_MPY_wvf_snd.mp3\n"
          ],
          "name": "stdout"
        },
        {
          "output_type": "stream",
          "text": [
            "100%|██████████| 600/600 [00:00<00:00, 1032.68it/s]"
          ],
          "name": "stderr"
        },
        {
          "output_type": "stream",
          "text": [
            "[MoviePy] Done.\n",
            "[MoviePy] Writing video new_video.mp4\n"
          ],
          "name": "stdout"
        },
        {
          "output_type": "stream",
          "text": [
            "\n",
            "100%|██████████| 816/816 [00:03<00:00, 229.54it/s]\n"
          ],
          "name": "stderr"
        },
        {
          "output_type": "stream",
          "text": [
            "[MoviePy] Done.\n",
            "[MoviePy] >>>> Video ready: new_video.mp4 \n",
            "\n",
            "(802, 8, 2048)\n",
            "Assault020.mp4\n",
            "(2, 8, 2048)\n",
            "(804, 8, 2048)\n",
            "[MoviePy] >>>> Building video new_video.mp4\n",
            "[MoviePy] Writing audio in new_videoTEMP_MPY_wvf_snd.mp3\n"
          ],
          "name": "stdout"
        },
        {
          "output_type": "stream",
          "text": [
            "100%|██████████| 338/338 [00:00<00:00, 1021.33it/s]"
          ],
          "name": "stderr"
        },
        {
          "output_type": "stream",
          "text": [
            "[MoviePy] Done.\n",
            "[MoviePy] Writing video new_video.mp4\n"
          ],
          "name": "stdout"
        },
        {
          "output_type": "stream",
          "text": [
            "\n",
            "100%|██████████| 460/460 [00:02<00:00, 194.94it/s]\n"
          ],
          "name": "stderr"
        },
        {
          "output_type": "stream",
          "text": [
            "[MoviePy] Done.\n",
            "[MoviePy] >>>> Video ready: new_video.mp4 \n",
            "\n",
            "(806, 8, 2048)\n",
            "Assault012.mp4\n",
            "(3, 8, 2048)\n",
            "(809, 8, 2048)\n",
            "[MoviePy] >>>> Building video new_video.mp4\n",
            "[MoviePy] Writing audio in new_videoTEMP_MPY_wvf_snd.mp3\n"
          ],
          "name": "stdout"
        },
        {
          "output_type": "stream",
          "text": [
            "100%|██████████| 576/576 [00:00<00:00, 1012.77it/s]"
          ],
          "name": "stderr"
        },
        {
          "output_type": "stream",
          "text": [
            "[MoviePy] Done.\n",
            "[MoviePy] Writing video new_video.mp4\n"
          ],
          "name": "stdout"
        },
        {
          "output_type": "stream",
          "text": [
            "\n",
            "100%|██████████| 783/783 [00:03<00:00, 202.48it/s]\n"
          ],
          "name": "stderr"
        },
        {
          "output_type": "stream",
          "text": [
            "[MoviePy] Done.\n",
            "[MoviePy] >>>> Video ready: new_video.mp4 \n",
            "\n",
            "(812, 8, 2048)\n",
            "Assault034.mp4\n",
            "(4, 8, 2048)\n",
            "(816, 8, 2048)\n",
            "[MoviePy] >>>> Building video new_video.mp4\n",
            "[MoviePy] Writing audio in new_videoTEMP_MPY_wvf_snd.mp3\n"
          ],
          "name": "stdout"
        },
        {
          "output_type": "stream",
          "text": [
            "100%|██████████| 719/719 [00:00<00:00, 1025.83it/s]"
          ],
          "name": "stderr"
        },
        {
          "output_type": "stream",
          "text": [
            "[MoviePy] Done.\n",
            "[MoviePy] Writing video new_video.mp4\n"
          ],
          "name": "stdout"
        },
        {
          "output_type": "stream",
          "text": [
            "\n",
            "100%|█████████▉| 978/979 [00:04<00:00, 217.21it/s]\n"
          ],
          "name": "stderr"
        },
        {
          "output_type": "stream",
          "text": [
            "[MoviePy] Done.\n",
            "[MoviePy] >>>> Video ready: new_video.mp4 \n",
            "\n",
            "(820, 8, 2048)\n",
            "Assault002.mp4\n",
            "(10, 8, 2048)\n",
            "(830, 8, 2048)\n",
            "[MoviePy] >>>> Building video new_video.mp4\n",
            "[MoviePy] Writing audio in new_videoTEMP_MPY_wvf_snd.mp3\n"
          ],
          "name": "stdout"
        },
        {
          "output_type": "stream",
          "text": [
            "100%|██████████| 1775/1775 [00:02<00:00, 732.01it/s]"
          ],
          "name": "stderr"
        },
        {
          "output_type": "stream",
          "text": [
            "[MoviePy] Done.\n",
            "[MoviePy] Writing video new_video.mp4\n"
          ],
          "name": "stdout"
        },
        {
          "output_type": "stream",
          "text": [
            "\n",
            "100%|██████████| 2415/2415 [00:13<00:00, 185.40it/s]\n"
          ],
          "name": "stderr"
        },
        {
          "output_type": "stream",
          "text": [
            "[MoviePy] Done.\n",
            "[MoviePy] >>>> Video ready: new_video.mp4 \n",
            "\n",
            "(840, 8, 2048)\n",
            "Assault036.mp4\n",
            "(3, 8, 2048)\n",
            "(843, 8, 2048)\n",
            "[MoviePy] >>>> Building video new_video.mp4\n",
            "[MoviePy] Writing audio in new_videoTEMP_MPY_wvf_snd.mp3\n"
          ],
          "name": "stdout"
        },
        {
          "output_type": "stream",
          "text": [
            "100%|██████████| 609/609 [00:00<00:00, 956.36it/s]"
          ],
          "name": "stderr"
        },
        {
          "output_type": "stream",
          "text": [
            "[MoviePy] Done.\n",
            "[MoviePy] Writing video new_video.mp4\n"
          ],
          "name": "stdout"
        },
        {
          "output_type": "stream",
          "text": [
            "\n",
            "100%|██████████| 829/829 [00:03<00:00, 226.15it/s]\n"
          ],
          "name": "stderr"
        },
        {
          "output_type": "stream",
          "text": [
            "[MoviePy] Done.\n",
            "[MoviePy] >>>> Video ready: new_video.mp4 \n",
            "\n",
            "(846, 8, 2048)\n",
            "Assault039.mp4\n",
            "(1, 8, 2048)\n",
            "(847, 8, 2048)\n",
            "[MoviePy] >>>> Building video new_video.mp4\n",
            "[MoviePy] Writing audio in new_videoTEMP_MPY_wvf_snd.mp3\n"
          ],
          "name": "stdout"
        },
        {
          "output_type": "stream",
          "text": [
            "100%|██████████| 168/168 [00:00<00:00, 1047.11it/s]"
          ],
          "name": "stderr"
        },
        {
          "output_type": "stream",
          "text": [
            "[MoviePy] Done.\n",
            "[MoviePy] Writing video new_video.mp4\n"
          ],
          "name": "stdout"
        },
        {
          "output_type": "stream",
          "text": [
            "\n",
            "100%|█████████▉| 228/229 [00:01<00:00, 227.89it/s]\n"
          ],
          "name": "stderr"
        },
        {
          "output_type": "stream",
          "text": [
            "[MoviePy] Done.\n",
            "[MoviePy] >>>> Video ready: new_video.mp4 \n",
            "\n",
            "(848, 8, 2048)\n",
            "Assault045.mp4\n",
            "(2, 8, 2048)\n",
            "(850, 8, 2048)\n",
            "[MoviePy] >>>> Building video new_video.mp4\n",
            "[MoviePy] Writing audio in new_videoTEMP_MPY_wvf_snd.mp3\n"
          ],
          "name": "stdout"
        },
        {
          "output_type": "stream",
          "text": [
            "100%|██████████| 348/348 [00:00<00:00, 1011.85it/s]"
          ],
          "name": "stderr"
        },
        {
          "output_type": "stream",
          "text": [
            "[MoviePy] Done.\n",
            "[MoviePy] Writing video new_video.mp4\n"
          ],
          "name": "stdout"
        },
        {
          "output_type": "stream",
          "text": [
            "\n",
            "100%|██████████| 474/474 [00:02<00:00, 213.06it/s]\n"
          ],
          "name": "stderr"
        },
        {
          "output_type": "stream",
          "text": [
            "[MoviePy] Done.\n",
            "[MoviePy] >>>> Video ready: new_video.mp4 \n",
            "\n",
            "(852, 8, 2048)\n",
            "Assault049.mp4\n",
            "(4, 8, 2048)\n",
            "(856, 8, 2048)\n",
            "[MoviePy] >>>> Building video new_video.mp4\n",
            "[MoviePy] Writing audio in new_videoTEMP_MPY_wvf_snd.mp3\n"
          ],
          "name": "stdout"
        },
        {
          "output_type": "stream",
          "text": [
            "100%|██████████| 727/727 [00:00<00:00, 1008.19it/s]"
          ],
          "name": "stderr"
        },
        {
          "output_type": "stream",
          "text": [
            "[MoviePy] Done.\n",
            "[MoviePy] Writing video new_video.mp4\n"
          ],
          "name": "stdout"
        },
        {
          "output_type": "stream",
          "text": [
            "\n",
            "100%|██████████| 989/989 [00:04<00:00, 231.29it/s]\n"
          ],
          "name": "stderr"
        },
        {
          "output_type": "stream",
          "text": [
            "[MoviePy] Done.\n",
            "[MoviePy] >>>> Video ready: new_video.mp4 \n",
            "\n",
            "(860, 8, 2048)\n",
            "Assault050.mp4\n",
            "(2, 8, 2048)\n",
            "(862, 8, 2048)\n",
            "[MoviePy] >>>> Building video new_video.mp4\n",
            "[MoviePy] Writing audio in new_videoTEMP_MPY_wvf_snd.mp3\n"
          ],
          "name": "stdout"
        },
        {
          "output_type": "stream",
          "text": [
            "100%|██████████| 427/427 [00:00<00:00, 761.44it/s]"
          ],
          "name": "stderr"
        },
        {
          "output_type": "stream",
          "text": [
            "[MoviePy] Done.\n",
            "[MoviePy] Writing video new_video.mp4\n"
          ],
          "name": "stdout"
        },
        {
          "output_type": "stream",
          "text": [
            "\n",
            "100%|██████████| 580/580 [00:02<00:00, 222.00it/s]\n"
          ],
          "name": "stderr"
        },
        {
          "output_type": "stream",
          "text": [
            "[MoviePy] Done.\n",
            "[MoviePy] >>>> Video ready: new_video.mp4 \n",
            "\n",
            "(864, 8, 2048)\n",
            "Assault051.mp4\n",
            "(2, 8, 2048)\n",
            "(866, 8, 2048)\n",
            "[MoviePy] >>>> Building video new_video.mp4\n",
            "[MoviePy] Writing audio in new_videoTEMP_MPY_wvf_snd.mp3\n"
          ],
          "name": "stdout"
        },
        {
          "output_type": "stream",
          "text": [
            "100%|██████████| 400/400 [00:00<00:00, 1023.75it/s]"
          ],
          "name": "stderr"
        },
        {
          "output_type": "stream",
          "text": [
            "[MoviePy] Done.\n"
          ],
          "name": "stdout"
        },
        {
          "output_type": "stream",
          "text": [
            "\n"
          ],
          "name": "stderr"
        },
        {
          "output_type": "stream",
          "text": [
            "[MoviePy] Writing video new_video.mp4\n"
          ],
          "name": "stdout"
        },
        {
          "output_type": "stream",
          "text": [
            "100%|██████████| 544/544 [00:02<00:00, 211.31it/s]\n"
          ],
          "name": "stderr"
        },
        {
          "output_type": "stream",
          "text": [
            "[MoviePy] Done.\n",
            "[MoviePy] >>>> Video ready: new_video.mp4 \n",
            "\n",
            "(868, 8, 2048)\n",
            "Assault052.mp4\n",
            "(2, 8, 2048)\n",
            "(870, 8, 2048)\n",
            "[MoviePy] >>>> Building video new_video.mp4\n",
            "[MoviePy] Writing audio in new_videoTEMP_MPY_wvf_snd.mp3\n"
          ],
          "name": "stdout"
        },
        {
          "output_type": "stream",
          "text": [
            "100%|██████████| 354/354 [00:00<00:00, 792.40it/s]"
          ],
          "name": "stderr"
        },
        {
          "output_type": "stream",
          "text": [
            "[MoviePy] Done.\n",
            "[MoviePy] Writing video new_video.mp4\n"
          ],
          "name": "stdout"
        },
        {
          "output_type": "stream",
          "text": [
            "\n",
            "100%|██████████| 482/482 [00:02<00:00, 217.86it/s]\n"
          ],
          "name": "stderr"
        },
        {
          "output_type": "stream",
          "text": [
            "[MoviePy] Done.\n",
            "[MoviePy] >>>> Video ready: new_video.mp4 \n",
            "\n",
            "(872, 8, 2048)\n",
            "Assault003.mp4\n",
            "(16, 8, 2048)\n",
            "(888, 8, 2048)\n",
            "[MoviePy] >>>> Building video new_video.mp4\n",
            "[MoviePy] Writing video new_video.mp4\n"
          ],
          "name": "stdout"
        },
        {
          "output_type": "stream",
          "text": [
            "100%|██████████| 3814/3814 [00:21<00:00, 180.46it/s]"
          ],
          "name": "stderr"
        },
        {
          "output_type": "stream",
          "text": [
            "[MoviePy] Done.\n",
            "[MoviePy] >>>> Video ready: new_video.mp4 \n",
            "\n"
          ],
          "name": "stdout"
        },
        {
          "output_type": "stream",
          "text": [
            "\n"
          ],
          "name": "stderr"
        },
        {
          "output_type": "stream",
          "text": [
            "(904, 8, 2048)\n",
            "Assault004.mp4\n",
            "(9, 8, 2048)\n",
            "(913, 8, 2048)\n",
            "[MoviePy] >>>> Building video new_video.mp4\n",
            "[MoviePy] Writing video new_video.mp4\n"
          ],
          "name": "stdout"
        },
        {
          "output_type": "stream",
          "text": [
            "100%|██████████| 2151/2151 [00:11<00:00, 184.66it/s]\n"
          ],
          "name": "stderr"
        },
        {
          "output_type": "stream",
          "text": [
            "[MoviePy] Done.\n",
            "[MoviePy] >>>> Video ready: new_video.mp4 \n",
            "\n",
            "(922, 8, 2048)\n",
            "Assault006.mp4\n",
            "(14, 8, 2048)\n",
            "(936, 8, 2048)\n",
            "[MoviePy] >>>> Building video new_video.mp4\n",
            "[MoviePy] Writing video new_video.mp4\n"
          ],
          "name": "stdout"
        },
        {
          "output_type": "stream",
          "text": [
            "100%|██████████| 3411/3411 [00:22<00:00, 149.30it/s]\n"
          ],
          "name": "stderr"
        },
        {
          "output_type": "stream",
          "text": [
            "[MoviePy] Done.\n",
            "[MoviePy] >>>> Video ready: new_video.mp4 \n",
            "\n",
            "(950, 8, 2048)\n",
            "Assault007.mp4\n",
            "(6, 8, 2048)\n",
            "(956, 8, 2048)\n",
            "[MoviePy] >>>> Building video new_video.mp4\n",
            "[MoviePy] Writing video new_video.mp4\n"
          ],
          "name": "stdout"
        },
        {
          "output_type": "stream",
          "text": [
            "100%|█████████▉| 1575/1576 [00:08<00:00, 177.38it/s]\n"
          ],
          "name": "stderr"
        },
        {
          "output_type": "stream",
          "text": [
            "[MoviePy] Done.\n",
            "[MoviePy] >>>> Video ready: new_video.mp4 \n",
            "\n",
            "(962, 8, 2048)\n",
            "Assault008.mp4\n",
            "(19, 8, 2048)\n",
            "(981, 8, 2048)\n",
            "[MoviePy] >>>> Building video new_video.mp4\n",
            "[MoviePy] Writing video new_video.mp4\n"
          ],
          "name": "stdout"
        },
        {
          "output_type": "stream",
          "text": [
            "100%|█████████▉| 4641/4642 [00:23<00:00, 199.19it/s]\n"
          ],
          "name": "stderr"
        },
        {
          "output_type": "stream",
          "text": [
            "[MoviePy] Done.\n",
            "[MoviePy] >>>> Video ready: new_video.mp4 \n",
            "\n",
            "(1000, 8, 2048)\n",
            "Assault009.mp4\n",
            "(13, 8, 2048)\n",
            "(1013, 8, 2048)\n",
            "[MoviePy] >>>> Building video new_video.mp4\n",
            "[MoviePy] Writing audio in new_videoTEMP_MPY_wvf_snd.mp3\n"
          ],
          "name": "stdout"
        },
        {
          "output_type": "stream",
          "text": [
            "100%|██████████| 2402/2402 [00:02<00:00, 1013.31it/s]"
          ],
          "name": "stderr"
        },
        {
          "output_type": "stream",
          "text": [
            "[MoviePy] Done.\n",
            "[MoviePy] Writing video new_video.mp4\n"
          ],
          "name": "stdout"
        },
        {
          "output_type": "stream",
          "text": [
            "\n",
            "100%|██████████| 3268/3268 [00:21<00:00, 155.36it/s]\n"
          ],
          "name": "stderr"
        },
        {
          "output_type": "stream",
          "text": [
            "[MoviePy] Done.\n",
            "[MoviePy] >>>> Video ready: new_video.mp4 \n",
            "\n",
            "(1026, 8, 2048)\n",
            "Assault010.mp4\n",
            "(17, 8, 2048)\n",
            "(1043, 8, 2048)\n",
            "[MoviePy] >>>> Building video new_video.mp4\n",
            "[MoviePy] Writing audio in new_videoTEMP_MPY_wvf_snd.mp3\n"
          ],
          "name": "stdout"
        },
        {
          "output_type": "stream",
          "text": [
            "100%|██████████| 3079/3079 [00:03<00:00, 1021.26it/s]"
          ],
          "name": "stderr"
        },
        {
          "output_type": "stream",
          "text": [
            "[MoviePy] Done.\n",
            "[MoviePy] Writing video new_video.mp4\n"
          ],
          "name": "stdout"
        },
        {
          "output_type": "stream",
          "text": [
            "\n",
            "100%|██████████| 4189/4189 [00:20<00:00, 207.92it/s]\n"
          ],
          "name": "stderr"
        },
        {
          "output_type": "stream",
          "text": [
            "[MoviePy] Done.\n",
            "[MoviePy] >>>> Video ready: new_video.mp4 \n",
            "\n",
            "(1060, 8, 2048)\n",
            "Assault011.mp4\n",
            "(5, 8, 2048)\n",
            "(1065, 8, 2048)\n",
            "[MoviePy] >>>> Building video new_video.mp4\n",
            "[MoviePy] Writing audio in new_videoTEMP_MPY_wvf_snd.mp3\n"
          ],
          "name": "stdout"
        },
        {
          "output_type": "stream",
          "text": [
            "100%|██████████| 956/956 [00:01<00:00, 909.59it/s]"
          ],
          "name": "stderr"
        },
        {
          "output_type": "stream",
          "text": [
            "[MoviePy] Done.\n",
            "[MoviePy] Writing video new_video.mp4\n"
          ],
          "name": "stdout"
        },
        {
          "output_type": "stream",
          "text": [
            "\n",
            "100%|██████████| 1301/1301 [00:06<00:00, 203.53it/s]\n"
          ],
          "name": "stderr"
        },
        {
          "output_type": "stream",
          "text": [
            "[MoviePy] Done.\n",
            "[MoviePy] >>>> Video ready: new_video.mp4 \n",
            "\n",
            "(1070, 8, 2048)\n",
            "Assault013.mp4\n",
            "(9, 8, 2048)\n",
            "(1079, 8, 2048)\n",
            "[MoviePy] >>>> Building video new_video.mp4\n",
            "[MoviePy] Writing audio in new_videoTEMP_MPY_wvf_snd.mp3\n"
          ],
          "name": "stdout"
        },
        {
          "output_type": "stream",
          "text": [
            "100%|██████████| 1587/1587 [00:01<00:00, 1030.91it/s]"
          ],
          "name": "stderr"
        },
        {
          "output_type": "stream",
          "text": [
            "[MoviePy] Done.\n",
            "[MoviePy] Writing video new_video.mp4\n"
          ],
          "name": "stdout"
        },
        {
          "output_type": "stream",
          "text": [
            "\n",
            "100%|██████████| 2159/2159 [00:09<00:00, 235.23it/s]\n"
          ],
          "name": "stderr"
        },
        {
          "output_type": "stream",
          "text": [
            "[MoviePy] Done.\n",
            "[MoviePy] >>>> Video ready: new_video.mp4 \n",
            "\n",
            "(1088, 8, 2048)\n",
            "Assault014.mp4\n",
            "(7, 8, 2048)\n",
            "(1095, 8, 2048)\n",
            "[MoviePy] >>>> Building video new_video.mp4\n",
            "[MoviePy] Writing audio in new_videoTEMP_MPY_wvf_snd.mp3\n"
          ],
          "name": "stdout"
        },
        {
          "output_type": "stream",
          "text": [
            "100%|██████████| 1347/1347 [00:01<00:00, 1028.61it/s]"
          ],
          "name": "stderr"
        },
        {
          "output_type": "stream",
          "text": [
            "[MoviePy] Done.\n",
            "[MoviePy] Writing video new_video.mp4\n"
          ],
          "name": "stdout"
        },
        {
          "output_type": "stream",
          "text": [
            "\n",
            "100%|██████████| 1832/1832 [00:08<00:00, 216.60it/s]\n"
          ],
          "name": "stderr"
        },
        {
          "output_type": "stream",
          "text": [
            "[MoviePy] Done.\n",
            "[MoviePy] >>>> Video ready: new_video.mp4 \n",
            "\n",
            "(1102, 8, 2048)\n",
            "Assault015.mp4\n",
            "(5, 8, 2048)\n",
            "(1107, 8, 2048)\n",
            "[MoviePy] >>>> Building video new_video.mp4\n",
            "[MoviePy] Writing audio in new_videoTEMP_MPY_wvf_snd.mp3\n"
          ],
          "name": "stdout"
        },
        {
          "output_type": "stream",
          "text": [
            "100%|██████████| 910/910 [00:01<00:00, 842.05it/s]"
          ],
          "name": "stderr"
        },
        {
          "output_type": "stream",
          "text": [
            "[MoviePy] Done.\n",
            "[MoviePy] Writing video new_video.mp4\n"
          ],
          "name": "stdout"
        },
        {
          "output_type": "stream",
          "text": [
            "\n",
            "100%|██████████| 1238/1238 [00:07<00:00, 163.66it/s]\n"
          ],
          "name": "stderr"
        },
        {
          "output_type": "stream",
          "text": [
            "[MoviePy] Done.\n",
            "[MoviePy] >>>> Video ready: new_video.mp4 \n",
            "\n",
            "(1112, 8, 2048)\n",
            "Burglary033.mp4\n",
            "(1, 8, 2048)\n",
            "(1113, 8, 2048)\n",
            "[MoviePy] >>>> Building video new_video.mp4\n",
            "[MoviePy] Writing audio in new_videoTEMP_MPY_wvf_snd.mp3\n"
          ],
          "name": "stdout"
        },
        {
          "output_type": "stream",
          "text": [
            "100%|██████████| 296/296 [00:00<00:00, 948.41it/s]"
          ],
          "name": "stderr"
        },
        {
          "output_type": "stream",
          "text": [
            "[MoviePy] Done.\n",
            "[MoviePy] Writing video new_video.mp4\n"
          ],
          "name": "stdout"
        },
        {
          "output_type": "stream",
          "text": [
            "\n",
            "100%|█████████▉| 402/403 [00:01<00:00, 214.77it/s]"
          ],
          "name": "stderr"
        },
        {
          "output_type": "stream",
          "text": [
            "[MoviePy] Done.\n",
            "[MoviePy] >>>> Video ready: new_video.mp4 \n",
            "\n"
          ],
          "name": "stdout"
        },
        {
          "output_type": "stream",
          "text": [
            "\n"
          ],
          "name": "stderr"
        },
        {
          "output_type": "stream",
          "text": [
            "(1114, 8, 2048)\n",
            "Burglary030.mp4\n",
            "(2, 8, 2048)\n",
            "(1116, 8, 2048)\n",
            "[MoviePy] >>>> Building video new_video.mp4\n",
            "[MoviePy] Writing audio in new_videoTEMP_MPY_wvf_snd.mp3\n"
          ],
          "name": "stdout"
        },
        {
          "output_type": "stream",
          "text": [
            "100%|██████████| 444/444 [00:00<00:00, 1036.20it/s]"
          ],
          "name": "stderr"
        },
        {
          "output_type": "stream",
          "text": [
            "[MoviePy] Done.\n",
            "[MoviePy] Writing video new_video.mp4\n"
          ],
          "name": "stdout"
        },
        {
          "output_type": "stream",
          "text": [
            "\n",
            "100%|█████████▉| 603/604 [00:02<00:00, 205.34it/s]\n"
          ],
          "name": "stderr"
        },
        {
          "output_type": "stream",
          "text": [
            "[MoviePy] Done.\n",
            "[MoviePy] >>>> Video ready: new_video.mp4 \n",
            "\n",
            "(1118, 8, 2048)\n",
            "Burglary043.mp4\n",
            "(1, 8, 2048)\n",
            "(1119, 8, 2048)\n",
            "[MoviePy] >>>> Building video new_video.mp4\n",
            "[MoviePy] Writing audio in new_videoTEMP_MPY_wvf_snd.mp3\n"
          ],
          "name": "stdout"
        },
        {
          "output_type": "stream",
          "text": [
            "100%|██████████| 198/198 [00:00<00:00, 1362.41it/s]"
          ],
          "name": "stderr"
        },
        {
          "output_type": "stream",
          "text": [
            "[MoviePy] Done.\n",
            "[MoviePy] Writing video new_video.mp4\n"
          ],
          "name": "stdout"
        },
        {
          "output_type": "stream",
          "text": [
            "\n",
            "100%|██████████| 269/269 [00:01<00:00, 249.36it/s]\n"
          ],
          "name": "stderr"
        },
        {
          "output_type": "stream",
          "text": [
            "[MoviePy] Done.\n",
            "[MoviePy] >>>> Video ready: new_video.mp4 \n",
            "\n",
            "(1120, 8, 2048)\n",
            "Burglary034.mp4\n",
            "(3, 8, 2048)\n",
            "(1123, 8, 2048)\n",
            "[MoviePy] >>>> Building video new_video.mp4\n",
            "[MoviePy] Writing audio in new_videoTEMP_MPY_wvf_snd.mp3\n"
          ],
          "name": "stdout"
        },
        {
          "output_type": "stream",
          "text": [
            "100%|██████████| 585/585 [00:00<00:00, 1033.76it/s]"
          ],
          "name": "stderr"
        },
        {
          "output_type": "stream",
          "text": [
            "[MoviePy] Done.\n",
            "[MoviePy] Writing video new_video.mp4\n"
          ],
          "name": "stdout"
        },
        {
          "output_type": "stream",
          "text": [
            "\n",
            "100%|██████████| 796/796 [00:03<00:00, 229.73it/s]\n"
          ],
          "name": "stderr"
        },
        {
          "output_type": "stream",
          "text": [
            "[MoviePy] Done.\n",
            "[MoviePy] >>>> Video ready: new_video.mp4 \n",
            "\n",
            "(1126, 8, 2048)\n",
            "Burglary050.mp4\n",
            "(3, 8, 2048)\n",
            "(1129, 8, 2048)\n",
            "[MoviePy] >>>> Building video new_video.mp4\n",
            "[MoviePy] Writing audio in new_videoTEMP_MPY_wvf_snd.mp3\n"
          ],
          "name": "stdout"
        },
        {
          "output_type": "stream",
          "text": [
            "100%|██████████| 608/608 [00:00<00:00, 1002.60it/s]"
          ],
          "name": "stderr"
        },
        {
          "output_type": "stream",
          "text": [
            "[MoviePy] Done.\n",
            "[MoviePy] Writing video new_video.mp4\n"
          ],
          "name": "stdout"
        },
        {
          "output_type": "stream",
          "text": [
            "\n",
            "100%|██████████| 828/828 [00:03<00:00, 214.45it/s]"
          ],
          "name": "stderr"
        },
        {
          "output_type": "stream",
          "text": [
            "[MoviePy] Done.\n",
            "[MoviePy] >>>> Video ready: new_video.mp4 \n",
            "\n"
          ],
          "name": "stdout"
        },
        {
          "output_type": "stream",
          "text": [
            "\n"
          ],
          "name": "stderr"
        },
        {
          "output_type": "stream",
          "text": [
            "(1132, 8, 2048)\n",
            "Burglary038.mp4\n",
            "(2, 8, 2048)\n",
            "(1134, 8, 2048)\n",
            "[MoviePy] >>>> Building video new_video.mp4\n",
            "[MoviePy] Writing audio in new_videoTEMP_MPY_wvf_snd.mp3\n"
          ],
          "name": "stdout"
        },
        {
          "output_type": "stream",
          "text": [
            "100%|██████████| 385/385 [00:00<00:00, 996.28it/s]"
          ],
          "name": "stderr"
        },
        {
          "output_type": "stream",
          "text": [
            "[MoviePy] Done.\n",
            "[MoviePy] Writing video new_video.mp4\n"
          ],
          "name": "stdout"
        },
        {
          "output_type": "stream",
          "text": [
            "\n",
            "100%|██████████| 524/524 [00:02<00:00, 209.10it/s]\n"
          ],
          "name": "stderr"
        },
        {
          "output_type": "stream",
          "text": [
            "[MoviePy] Done.\n",
            "[MoviePy] >>>> Video ready: new_video.mp4 \n",
            "\n",
            "(1136, 8, 2048)\n",
            "Burglary036.mp4\n",
            "(4, 8, 2048)\n",
            "(1140, 8, 2048)\n",
            "[MoviePy] >>>> Building video new_video.mp4\n",
            "[MoviePy] Writing audio in new_videoTEMP_MPY_wvf_snd.mp3\n"
          ],
          "name": "stdout"
        },
        {
          "output_type": "stream",
          "text": [
            "100%|██████████| 733/733 [00:00<00:00, 1026.96it/s]"
          ],
          "name": "stderr"
        },
        {
          "output_type": "stream",
          "text": [
            "[MoviePy] Done.\n",
            "[MoviePy] Writing video new_video.mp4\n"
          ],
          "name": "stdout"
        },
        {
          "output_type": "stream",
          "text": [
            "\n",
            "100%|██████████| 997/997 [00:04<00:00, 209.82it/s]\n"
          ],
          "name": "stderr"
        },
        {
          "output_type": "stream",
          "text": [
            "[MoviePy] Done.\n",
            "[MoviePy] >>>> Video ready: new_video.mp4 \n",
            "\n",
            "(1144, 8, 2048)\n",
            "Burglary011.mp4\n",
            "(7, 8, 2048)\n",
            "(1151, 8, 2048)\n",
            "[MoviePy] >>>> Building video new_video.mp4\n",
            "[MoviePy] Writing video new_video.mp4\n"
          ],
          "name": "stdout"
        },
        {
          "output_type": "stream",
          "text": [
            "100%|██████████| 1771/1771 [00:07<00:00, 232.44it/s]\n"
          ],
          "name": "stderr"
        },
        {
          "output_type": "stream",
          "text": [
            "[MoviePy] Done.\n",
            "[MoviePy] >>>> Video ready: new_video.mp4 \n",
            "\n",
            "(1158, 8, 2048)\n",
            "Burglary018.mp4\n",
            "(4, 8, 2048)\n",
            "(1162, 8, 2048)\n",
            "[MoviePy] >>>> Building video new_video.mp4\n",
            "[MoviePy] Writing audio in new_videoTEMP_MPY_wvf_snd.mp3\n"
          ],
          "name": "stdout"
        },
        {
          "output_type": "stream",
          "text": [
            "100%|██████████| 719/719 [00:00<00:00, 1048.19it/s]"
          ],
          "name": "stderr"
        },
        {
          "output_type": "stream",
          "text": [
            "[MoviePy] Done.\n",
            "[MoviePy] Writing video new_video.mp4\n"
          ],
          "name": "stdout"
        },
        {
          "output_type": "stream",
          "text": [
            "\n",
            "100%|█████████▉| 978/979 [00:03<00:00, 253.77it/s]"
          ],
          "name": "stderr"
        },
        {
          "output_type": "stream",
          "text": [
            "[MoviePy] Done.\n",
            "[MoviePy] >>>> Video ready: new_video.mp4 \n",
            "\n"
          ],
          "name": "stdout"
        },
        {
          "output_type": "stream",
          "text": [
            "\n"
          ],
          "name": "stderr"
        },
        {
          "output_type": "stream",
          "text": [
            "(1166, 8, 2048)\n",
            "Burglary003.mp4\n",
            "(4, 8, 2048)\n",
            "(1170, 8, 2048)\n",
            "[MoviePy] >>>> Building video new_video.mp4\n",
            "[MoviePy] Writing audio in new_videoTEMP_MPY_wvf_snd.mp3\n"
          ],
          "name": "stdout"
        },
        {
          "output_type": "stream",
          "text": [
            "100%|██████████| 851/851 [00:00<00:00, 1028.55it/s]"
          ],
          "name": "stderr"
        },
        {
          "output_type": "stream",
          "text": [
            "[MoviePy] Done.\n",
            "[MoviePy] Writing video new_video.mp4\n"
          ],
          "name": "stdout"
        },
        {
          "output_type": "stream",
          "text": [
            "\n",
            "100%|██████████| 1157/1157 [00:05<00:00, 222.37it/s]\n"
          ],
          "name": "stderr"
        },
        {
          "output_type": "stream",
          "text": [
            "[MoviePy] Done.\n",
            "[MoviePy] >>>> Video ready: new_video.mp4 \n",
            "\n",
            "(1174, 8, 2048)\n",
            "Burglary001.mp4\n",
            "(14, 8, 2048)\n",
            "(1188, 8, 2048)\n",
            "[MoviePy] >>>> Building video new_video.mp4\n",
            "[MoviePy] Writing audio in new_videoTEMP_MPY_wvf_snd.mp3\n"
          ],
          "name": "stdout"
        },
        {
          "output_type": "stream",
          "text": [
            "100%|██████████| 2493/2493 [00:02<00:00, 1018.03it/s]"
          ],
          "name": "stderr"
        },
        {
          "output_type": "stream",
          "text": [
            "[MoviePy] Done.\n",
            "[MoviePy] Writing video new_video.mp4\n"
          ],
          "name": "stdout"
        },
        {
          "output_type": "stream",
          "text": [
            "\n",
            "100%|██████████| 3391/3391 [00:17<00:00, 190.56it/s]\n"
          ],
          "name": "stderr"
        },
        {
          "output_type": "stream",
          "text": [
            "[MoviePy] Done.\n",
            "[MoviePy] >>>> Video ready: new_video.mp4 \n",
            "\n",
            "(1202, 8, 2048)\n",
            "Burglary059.mp4\n",
            "(1, 8, 2048)\n",
            "(1203, 8, 2048)\n",
            "[MoviePy] >>>> Building video new_video.mp4\n",
            "[MoviePy] Writing audio in new_videoTEMP_MPY_wvf_snd.mp3\n"
          ],
          "name": "stdout"
        },
        {
          "output_type": "stream",
          "text": [
            "100%|██████████| 299/299 [00:00<00:00, 1059.40it/s]"
          ],
          "name": "stderr"
        },
        {
          "output_type": "stream",
          "text": [
            "[MoviePy] Done.\n",
            "[MoviePy] Writing video new_video.mp4\n"
          ],
          "name": "stdout"
        },
        {
          "output_type": "stream",
          "text": [
            "\n",
            "100%|██████████| 407/407 [00:01<00:00, 224.64it/s]\n"
          ],
          "name": "stderr"
        },
        {
          "output_type": "stream",
          "text": [
            "[MoviePy] Done.\n",
            "[MoviePy] >>>> Video ready: new_video.mp4 \n",
            "\n",
            "(1204, 8, 2048)\n",
            "Burglary092.mp4\n",
            "(2, 8, 2048)\n",
            "(1206, 8, 2048)\n",
            "[MoviePy] >>>> Building video new_video.mp4\n",
            "[MoviePy] Writing audio in new_videoTEMP_MPY_wvf_snd.mp3\n"
          ],
          "name": "stdout"
        },
        {
          "output_type": "stream",
          "text": [
            "100%|██████████| 433/433 [00:00<00:00, 1039.28it/s]"
          ],
          "name": "stderr"
        },
        {
          "output_type": "stream",
          "text": [
            "[MoviePy] Done.\n",
            "[MoviePy] Writing video new_video.mp4\n"
          ],
          "name": "stdout"
        },
        {
          "output_type": "stream",
          "text": [
            "\n",
            "100%|██████████| 589/589 [00:02<00:00, 226.85it/s]\n"
          ],
          "name": "stderr"
        },
        {
          "output_type": "stream",
          "text": [
            "[MoviePy] Done.\n",
            "[MoviePy] >>>> Video ready: new_video.mp4 \n",
            "\n",
            "(1208, 8, 2048)\n",
            "Burglary094.mp4\n",
            "(3, 8, 2048)\n",
            "(1211, 8, 2048)\n",
            "[MoviePy] >>>> Building video new_video.mp4\n",
            "[MoviePy] Writing audio in new_videoTEMP_MPY_wvf_snd.mp3\n"
          ],
          "name": "stdout"
        },
        {
          "output_type": "stream",
          "text": [
            "100%|██████████| 534/534 [00:00<00:00, 680.15it/s]"
          ],
          "name": "stderr"
        },
        {
          "output_type": "stream",
          "text": [
            "[MoviePy] Done.\n",
            "[MoviePy] Writing video new_video.mp4\n"
          ],
          "name": "stdout"
        },
        {
          "output_type": "stream",
          "text": [
            "\n",
            "100%|██████████| 727/727 [00:03<00:00, 236.25it/s]\n"
          ],
          "name": "stderr"
        },
        {
          "output_type": "stream",
          "text": [
            "[MoviePy] Done.\n",
            "[MoviePy] >>>> Video ready: new_video.mp4 \n",
            "\n",
            "(1214, 8, 2048)\n",
            "Burglary093.mp4\n",
            "(2, 8, 2048)\n",
            "(1216, 8, 2048)\n",
            "[MoviePy] >>>> Building video new_video.mp4\n",
            "[MoviePy] Writing audio in new_videoTEMP_MPY_wvf_snd.mp3\n"
          ],
          "name": "stdout"
        },
        {
          "output_type": "stream",
          "text": [
            "100%|██████████| 384/384 [00:00<00:00, 1041.97it/s]"
          ],
          "name": "stderr"
        },
        {
          "output_type": "stream",
          "text": [
            "[MoviePy] Done.\n",
            "[MoviePy] Writing video new_video.mp4\n"
          ],
          "name": "stdout"
        },
        {
          "output_type": "stream",
          "text": [
            "\n",
            "100%|██████████| 522/522 [00:02<00:00, 250.52it/s]\n"
          ],
          "name": "stderr"
        },
        {
          "output_type": "stream",
          "text": [
            "[MoviePy] Done.\n",
            "[MoviePy] >>>> Video ready: new_video.mp4 \n",
            "\n",
            "(1218, 8, 2048)\n",
            "Burglary002.mp4\n",
            "(11, 8, 2048)\n",
            "(1229, 8, 2048)\n",
            "[MoviePy] >>>> Building video new_video.mp4\n",
            "[MoviePy] Writing audio in new_videoTEMP_MPY_wvf_snd.mp3\n"
          ],
          "name": "stdout"
        },
        {
          "output_type": "stream",
          "text": [
            "100%|██████████| 1927/1927 [00:01<00:00, 1030.39it/s]"
          ],
          "name": "stderr"
        },
        {
          "output_type": "stream",
          "text": [
            "[MoviePy] Done.\n",
            "[MoviePy] Writing video new_video.mp4\n"
          ],
          "name": "stdout"
        },
        {
          "output_type": "stream",
          "text": [
            "\n",
            "100%|██████████| 2622/2622 [00:10<00:00, 244.43it/s]"
          ],
          "name": "stderr"
        },
        {
          "output_type": "stream",
          "text": [
            "[MoviePy] Done.\n",
            "[MoviePy] >>>> Video ready: new_video.mp4 \n",
            "\n"
          ],
          "name": "stdout"
        },
        {
          "output_type": "stream",
          "text": [
            "\n"
          ],
          "name": "stderr"
        },
        {
          "output_type": "stream",
          "text": [
            "(1240, 8, 2048)\n",
            "Burglary081.mp4\n",
            "(1, 8, 2048)\n",
            "(1241, 8, 2048)\n",
            "[MoviePy] >>>> Building video new_video.mp4\n",
            "[MoviePy] Writing audio in new_videoTEMP_MPY_wvf_snd.mp3\n"
          ],
          "name": "stdout"
        },
        {
          "output_type": "stream",
          "text": [
            "100%|██████████| 307/307 [00:00<00:00, 1456.60it/s]"
          ],
          "name": "stderr"
        },
        {
          "output_type": "stream",
          "text": [
            "[MoviePy] Done.\n",
            "[MoviePy] Writing video new_video.mp4\n"
          ],
          "name": "stdout"
        },
        {
          "output_type": "stream",
          "text": [
            "\n",
            "100%|██████████| 417/417 [00:01<00:00, 249.93it/s]"
          ],
          "name": "stderr"
        },
        {
          "output_type": "stream",
          "text": [
            "[MoviePy] Done.\n",
            "[MoviePy] >>>> Video ready: new_video.mp4 \n",
            "\n"
          ],
          "name": "stdout"
        },
        {
          "output_type": "stream",
          "text": [
            "\n"
          ],
          "name": "stderr"
        },
        {
          "output_type": "stream",
          "text": [
            "(1242, 8, 2048)\n",
            "Burglary054.mp4\n",
            "(1, 8, 2048)\n",
            "(1243, 8, 2048)\n",
            "[MoviePy] >>>> Building video new_video.mp4\n",
            "[MoviePy] Writing audio in new_videoTEMP_MPY_wvf_snd.mp3\n"
          ],
          "name": "stdout"
        },
        {
          "output_type": "stream",
          "text": [
            "100%|██████████| 242/242 [00:00<00:00, 999.26it/s]"
          ],
          "name": "stderr"
        },
        {
          "output_type": "stream",
          "text": [
            "[MoviePy] Done.\n",
            "[MoviePy] Writing video new_video.mp4\n"
          ],
          "name": "stdout"
        },
        {
          "output_type": "stream",
          "text": [
            "\n",
            "100%|██████████| 328/328 [00:01<00:00, 251.14it/s]\n"
          ],
          "name": "stderr"
        },
        {
          "output_type": "stream",
          "text": [
            "[MoviePy] Done.\n",
            "[MoviePy] >>>> Video ready: new_video.mp4 \n",
            "\n",
            "(1244, 8, 2048)\n",
            "Burglary078.mp4\n",
            "(1, 8, 2048)\n",
            "(1245, 8, 2048)\n",
            "[MoviePy] >>>> Building video new_video.mp4\n",
            "[MoviePy] Writing audio in new_videoTEMP_MPY_wvf_snd.mp3\n"
          ],
          "name": "stdout"
        },
        {
          "output_type": "stream",
          "text": [
            "100%|██████████| 206/206 [00:00<00:00, 1044.17it/s]\n"
          ],
          "name": "stderr"
        },
        {
          "output_type": "stream",
          "text": [
            "[MoviePy] Done.\n",
            "[MoviePy] Writing video new_video.mp4\n"
          ],
          "name": "stdout"
        },
        {
          "output_type": "stream",
          "text": [
            "100%|█████████▉| 279/280 [00:01<00:00, 250.04it/s]\n"
          ],
          "name": "stderr"
        },
        {
          "output_type": "stream",
          "text": [
            "[MoviePy] Done.\n",
            "[MoviePy] >>>> Video ready: new_video.mp4 \n",
            "\n",
            "(1246, 8, 2048)\n",
            "Burglary070.mp4\n",
            "(2, 8, 2048)\n",
            "(1248, 8, 2048)\n",
            "[MoviePy] >>>> Building video new_video.mp4\n",
            "[MoviePy] Writing audio in new_videoTEMP_MPY_wvf_snd.mp3\n"
          ],
          "name": "stdout"
        },
        {
          "output_type": "stream",
          "text": [
            "100%|██████████| 505/505 [00:00<00:00, 1044.02it/s]"
          ],
          "name": "stderr"
        },
        {
          "output_type": "stream",
          "text": [
            "[MoviePy] Done.\n",
            "[MoviePy] Writing video new_video.mp4\n"
          ],
          "name": "stdout"
        },
        {
          "output_type": "stream",
          "text": [
            "\n",
            "100%|██████████| 687/687 [00:02<00:00, 229.57it/s]\n"
          ],
          "name": "stderr"
        },
        {
          "output_type": "stream",
          "text": [
            "[MoviePy] Done.\n",
            "[MoviePy] >>>> Video ready: new_video.mp4 \n",
            "\n",
            "(1250, 8, 2048)\n",
            "Burglary060.mp4\n",
            "(2, 8, 2048)\n",
            "(1252, 8, 2048)\n",
            "[MoviePy] >>>> Building video new_video.mp4\n",
            "[MoviePy] Writing audio in new_videoTEMP_MPY_wvf_snd.mp3\n"
          ],
          "name": "stdout"
        },
        {
          "output_type": "stream",
          "text": [
            "100%|██████████| 432/432 [00:00<00:00, 1029.47it/s]"
          ],
          "name": "stderr"
        },
        {
          "output_type": "stream",
          "text": [
            "[MoviePy] Done.\n",
            "[MoviePy] Writing video new_video.mp4\n"
          ],
          "name": "stdout"
        },
        {
          "output_type": "stream",
          "text": [
            "\n",
            "100%|██████████| 588/588 [00:02<00:00, 236.96it/s]\n"
          ],
          "name": "stderr"
        },
        {
          "output_type": "stream",
          "text": [
            "[MoviePy] Done.\n",
            "[MoviePy] >>>> Video ready: new_video.mp4 \n",
            "\n",
            "(1254, 8, 2048)\n",
            "Burglary068.mp4\n",
            "(2, 8, 2048)\n",
            "(1256, 8, 2048)\n",
            "[MoviePy] >>>> Building video new_video.mp4\n",
            "[MoviePy] Writing audio in new_videoTEMP_MPY_wvf_snd.mp3\n"
          ],
          "name": "stdout"
        },
        {
          "output_type": "stream",
          "text": [
            "100%|██████████| 455/455 [00:00<00:00, 996.35it/s]"
          ],
          "name": "stderr"
        },
        {
          "output_type": "stream",
          "text": [
            "[MoviePy] Done.\n",
            "[MoviePy] Writing video new_video.mp4\n"
          ],
          "name": "stdout"
        },
        {
          "output_type": "stream",
          "text": [
            "\n",
            "100%|██████████| 618/618 [00:02<00:00, 229.70it/s]\n"
          ],
          "name": "stderr"
        },
        {
          "output_type": "stream",
          "text": [
            "[MoviePy] Done.\n",
            "[MoviePy] >>>> Video ready: new_video.mp4 \n",
            "\n",
            "(1258, 8, 2048)\n",
            "Burglary004.mp4\n",
            "(6, 8, 2048)\n",
            "(1264, 8, 2048)\n",
            "[MoviePy] >>>> Building video new_video.mp4\n",
            "[MoviePy] Writing audio in new_videoTEMP_MPY_wvf_snd.mp3\n"
          ],
          "name": "stdout"
        },
        {
          "output_type": "stream",
          "text": [
            "100%|██████████| 1197/1197 [00:01<00:00, 710.09it/s]"
          ],
          "name": "stderr"
        },
        {
          "output_type": "stream",
          "text": [
            "[MoviePy] Done.\n",
            "[MoviePy] Writing video new_video.mp4\n"
          ],
          "name": "stdout"
        },
        {
          "output_type": "stream",
          "text": [
            "\n",
            "100%|██████████| 1628/1628 [00:08<00:00, 188.35it/s]\n"
          ],
          "name": "stderr"
        },
        {
          "output_type": "stream",
          "text": [
            "[MoviePy] Done.\n",
            "[MoviePy] >>>> Video ready: new_video.mp4 \n",
            "\n",
            "(1270, 8, 2048)\n",
            "Burglary005.mp4\n",
            "(9, 8, 2048)\n",
            "(1279, 8, 2048)\n",
            "[MoviePy] >>>> Building video new_video.mp4\n",
            "[MoviePy] Writing audio in new_videoTEMP_MPY_wvf_snd.mp3\n"
          ],
          "name": "stdout"
        },
        {
          "output_type": "stream",
          "text": [
            "100%|██████████| 1611/1611 [00:01<00:00, 1022.26it/s]"
          ],
          "name": "stderr"
        },
        {
          "output_type": "stream",
          "text": [
            "[MoviePy] Done.\n",
            "[MoviePy] Writing video new_video.mp4\n"
          ],
          "name": "stdout"
        },
        {
          "output_type": "stream",
          "text": [
            "\n",
            "100%|██████████| 2192/2192 [00:10<00:00, 211.31it/s]\n"
          ],
          "name": "stderr"
        },
        {
          "output_type": "stream",
          "text": [
            "[MoviePy] Done.\n",
            "[MoviePy] >>>> Video ready: new_video.mp4 \n",
            "\n",
            "(1288, 8, 2048)\n",
            "Burglary006.mp4\n",
            "(8, 8, 2048)\n",
            "(1296, 8, 2048)\n",
            "[MoviePy] >>>> Building video new_video.mp4\n",
            "[MoviePy] Writing audio in new_videoTEMP_MPY_wvf_snd.mp3\n"
          ],
          "name": "stdout"
        },
        {
          "output_type": "stream",
          "text": [
            "100%|██████████| 1437/1437 [00:01<00:00, 721.75it/s]"
          ],
          "name": "stderr"
        },
        {
          "output_type": "stream",
          "text": [
            "[MoviePy] Done.\n",
            "[MoviePy] Writing video new_video.mp4\n"
          ],
          "name": "stdout"
        },
        {
          "output_type": "stream",
          "text": [
            "\n",
            "100%|██████████| 1955/1955 [00:08<00:00, 220.97it/s]\n"
          ],
          "name": "stderr"
        },
        {
          "output_type": "stream",
          "text": [
            "[MoviePy] Done.\n",
            "[MoviePy] >>>> Video ready: new_video.mp4 \n",
            "\n",
            "(1304, 8, 2048)\n",
            "Burglary007.mp4\n",
            "(4, 8, 2048)\n",
            "(1308, 8, 2048)\n",
            "[MoviePy] >>>> Building video new_video.mp4\n",
            "[MoviePy] Writing audio in new_videoTEMP_MPY_wvf_snd.mp3\n"
          ],
          "name": "stdout"
        },
        {
          "output_type": "stream",
          "text": [
            "100%|██████████| 705/705 [00:00<00:00, 994.20it/s]\n"
          ],
          "name": "stderr"
        },
        {
          "output_type": "stream",
          "text": [
            "[MoviePy] Done.\n",
            "[MoviePy] Writing video new_video.mp4\n"
          ],
          "name": "stdout"
        },
        {
          "output_type": "stream",
          "text": [
            "100%|██████████| 959/959 [00:05<00:00, 163.28it/s]\n"
          ],
          "name": "stderr"
        },
        {
          "output_type": "stream",
          "text": [
            "[MoviePy] Done.\n",
            "[MoviePy] >>>> Video ready: new_video.mp4 \n",
            "\n",
            "(1312, 8, 2048)\n",
            "Burglary008.mp4\n",
            "(10, 8, 2048)\n",
            "(1322, 8, 2048)\n",
            "[MoviePy] >>>> Building video new_video.mp4\n",
            "[MoviePy] Writing audio in new_videoTEMP_MPY_wvf_snd.mp3\n"
          ],
          "name": "stdout"
        },
        {
          "output_type": "stream",
          "text": [
            "100%|██████████| 1844/1844 [00:01<00:00, 1018.91it/s]"
          ],
          "name": "stderr"
        },
        {
          "output_type": "stream",
          "text": [
            "[MoviePy] Done.\n",
            "[MoviePy] Writing video new_video.mp4\n"
          ],
          "name": "stdout"
        },
        {
          "output_type": "stream",
          "text": [
            "\n",
            "100%|██████████| 2509/2509 [00:10<00:00, 238.00it/s]\n"
          ],
          "name": "stderr"
        },
        {
          "output_type": "stream",
          "text": [
            "[MoviePy] Done.\n",
            "[MoviePy] >>>> Video ready: new_video.mp4 \n",
            "\n",
            "(1332, 8, 2048)\n",
            "Burglary009.mp4\n",
            "(5, 8, 2048)\n",
            "(1337, 8, 2048)\n",
            "[MoviePy] >>>> Building video new_video.mp4\n",
            "[MoviePy] Writing audio in new_videoTEMP_MPY_wvf_snd.mp3\n"
          ],
          "name": "stdout"
        },
        {
          "output_type": "stream",
          "text": [
            "100%|██████████| 968/968 [00:00<00:00, 1015.53it/s]"
          ],
          "name": "stderr"
        },
        {
          "output_type": "stream",
          "text": [
            "[MoviePy] Done.\n",
            "[MoviePy] Writing video new_video.mp4\n"
          ],
          "name": "stdout"
        },
        {
          "output_type": "stream",
          "text": [
            "\n",
            "100%|██████████| 1316/1316 [00:06<00:00, 211.61it/s]\n"
          ],
          "name": "stderr"
        },
        {
          "output_type": "stream",
          "text": [
            "[MoviePy] Done.\n",
            "[MoviePy] >>>> Video ready: new_video.mp4 \n",
            "\n",
            "(1342, 8, 2048)\n",
            "Burglary010.mp4\n",
            "(11, 8, 2048)\n",
            "(1353, 8, 2048)\n",
            "[MoviePy] >>>> Building video new_video.mp4\n",
            "[MoviePy] Writing video new_video.mp4\n"
          ],
          "name": "stdout"
        },
        {
          "output_type": "stream",
          "text": [
            "100%|██████████| 2718/2718 [00:16<00:00, 165.85it/s]\n"
          ],
          "name": "stderr"
        },
        {
          "output_type": "stream",
          "text": [
            "[MoviePy] Done.\n",
            "[MoviePy] >>>> Video ready: new_video.mp4 \n",
            "\n",
            "(1364, 8, 2048)\n",
            "Burglary012.mp4\n",
            "(7, 8, 2048)\n",
            "(1371, 8, 2048)\n",
            "[MoviePy] >>>> Building video new_video.mp4\n",
            "[MoviePy] Writing video new_video.mp4\n"
          ],
          "name": "stdout"
        },
        {
          "output_type": "stream",
          "text": [
            "100%|█████████▉| 1698/1699 [00:08<00:00, 205.57it/s]"
          ],
          "name": "stderr"
        },
        {
          "output_type": "stream",
          "text": [
            "[MoviePy] Done.\n",
            "[MoviePy] >>>> Video ready: new_video.mp4 \n",
            "\n"
          ],
          "name": "stdout"
        },
        {
          "output_type": "stream",
          "text": [
            "\n"
          ],
          "name": "stderr"
        },
        {
          "output_type": "stream",
          "text": [
            "(1378, 8, 2048)\n",
            "Burglary013.mp4\n",
            "(8, 8, 2048)\n",
            "(1386, 8, 2048)\n",
            "[MoviePy] >>>> Building video new_video.mp4\n",
            "[MoviePy] Writing video new_video.mp4\n"
          ],
          "name": "stdout"
        },
        {
          "output_type": "stream",
          "text": [
            "100%|██████████| 1936/1936 [00:10<00:00, 186.70it/s]"
          ],
          "name": "stderr"
        },
        {
          "output_type": "stream",
          "text": [
            "[MoviePy] Done.\n",
            "[MoviePy] >>>> Video ready: new_video.mp4 \n",
            "\n"
          ],
          "name": "stdout"
        },
        {
          "output_type": "stream",
          "text": [
            "\n"
          ],
          "name": "stderr"
        },
        {
          "output_type": "stream",
          "text": [
            "(1394, 8, 2048)\n",
            "Burglary014.mp4\n",
            "(10, 8, 2048)\n",
            "(1404, 8, 2048)\n",
            "[MoviePy] >>>> Building video new_video.mp4\n",
            "[MoviePy] Writing video new_video.mp4\n"
          ],
          "name": "stdout"
        },
        {
          "output_type": "stream",
          "text": [
            "100%|██████████| 2554/2554 [00:12<00:00, 208.50it/s]\n"
          ],
          "name": "stderr"
        },
        {
          "output_type": "stream",
          "text": [
            "[MoviePy] Done.\n",
            "[MoviePy] >>>> Video ready: new_video.mp4 \n",
            "\n",
            "(1414, 8, 2048)\n",
            "Burglary015.mp4\n",
            "(4, 8, 2048)\n",
            "(1418, 8, 2048)\n",
            "[MoviePy] >>>> Building video new_video.mp4\n",
            "[MoviePy] Writing video new_video.mp4\n"
          ],
          "name": "stdout"
        },
        {
          "output_type": "stream",
          "text": [
            "100%|█████████▉| 1020/1021 [00:05<00:00, 192.21it/s]\n"
          ],
          "name": "stderr"
        },
        {
          "output_type": "stream",
          "text": [
            "[MoviePy] Done.\n",
            "[MoviePy] >>>> Video ready: new_video.mp4 \n",
            "\n",
            "(1422, 8, 2048)\n",
            "Burglary016.mp4\n",
            "(19, 8, 2048)\n",
            "(1441, 8, 2048)\n",
            "[MoviePy] >>>> Building video new_video.mp4\n",
            "[MoviePy] Writing video new_video.mp4\n"
          ],
          "name": "stdout"
        },
        {
          "output_type": "stream",
          "text": [
            "100%|█████████▉| 4590/4591 [00:21<00:00, 213.65it/s]\n"
          ],
          "name": "stderr"
        },
        {
          "output_type": "stream",
          "text": [
            "[MoviePy] Done.\n",
            "[MoviePy] >>>> Video ready: new_video.mp4 \n",
            "\n",
            "(1460, 8, 2048)\n",
            "Burglary017.mp4\n",
            "(8, 8, 2048)\n",
            "(1468, 8, 2048)\n",
            "[MoviePy] >>>> Building video new_video.mp4\n",
            "[MoviePy] Writing audio in new_videoTEMP_MPY_wvf_snd.mp3\n"
          ],
          "name": "stdout"
        },
        {
          "output_type": "stream",
          "text": [
            "100%|██████████| 1518/1518 [00:02<00:00, 638.74it/s]"
          ],
          "name": "stderr"
        },
        {
          "output_type": "stream",
          "text": [
            "[MoviePy] Done.\n",
            "[MoviePy] Writing video new_video.mp4\n"
          ],
          "name": "stdout"
        },
        {
          "output_type": "stream",
          "text": [
            "\n",
            "100%|██████████| 2065/2065 [00:14<00:00, 145.75it/s]\n"
          ],
          "name": "stderr"
        },
        {
          "output_type": "stream",
          "text": [
            "[MoviePy] Done.\n",
            "[MoviePy] >>>> Video ready: new_video.mp4 \n",
            "\n",
            "(1476, 8, 2048)\n",
            "Burglary019.mp4\n",
            "(11, 8, 2048)\n",
            "(1487, 8, 2048)\n",
            "[MoviePy] >>>> Building video new_video.mp4\n",
            "[MoviePy] Writing audio in new_videoTEMP_MPY_wvf_snd.mp3\n"
          ],
          "name": "stdout"
        },
        {
          "output_type": "stream",
          "text": [
            "100%|██████████| 1967/1967 [00:01<00:00, 1010.35it/s]"
          ],
          "name": "stderr"
        },
        {
          "output_type": "stream",
          "text": [
            "[MoviePy] Done.\n",
            "[MoviePy] Writing video new_video.mp4\n"
          ],
          "name": "stdout"
        },
        {
          "output_type": "stream",
          "text": [
            "\n",
            "100%|██████████| 2676/2676 [00:13<00:00, 200.36it/s]\n"
          ],
          "name": "stderr"
        },
        {
          "output_type": "stream",
          "text": [
            "[MoviePy] Done.\n",
            "[MoviePy] >>>> Video ready: new_video.mp4 \n",
            "\n",
            "(1498, 8, 2048)\n",
            "Burglary020.mp4\n",
            "(10, 8, 2048)\n",
            "(1508, 8, 2048)\n",
            "[MoviePy] >>>> Building video new_video.mp4\n",
            "[MoviePy] Writing audio in new_videoTEMP_MPY_wvf_snd.mp3\n"
          ],
          "name": "stdout"
        },
        {
          "output_type": "stream",
          "text": [
            "100%|██████████| 1747/1747 [00:01<00:00, 1025.27it/s]"
          ],
          "name": "stderr"
        },
        {
          "output_type": "stream",
          "text": [
            "[MoviePy] Done.\n",
            "[MoviePy] Writing video new_video.mp4\n"
          ],
          "name": "stdout"
        },
        {
          "output_type": "stream",
          "text": [
            "\n",
            "100%|██████████| 2376/2376 [00:15<00:00, 154.05it/s]\n"
          ],
          "name": "stderr"
        },
        {
          "output_type": "stream",
          "text": [
            "[MoviePy] Done.\n",
            "[MoviePy] >>>> Video ready: new_video.mp4 \n",
            "\n",
            "(1518, 8, 2048)\n",
            "Burglary021.mp4\n",
            "(5, 8, 2048)\n",
            "(1523, 8, 2048)\n",
            "[MoviePy] >>>> Building video new_video.mp4\n",
            "[MoviePy] Writing audio in new_videoTEMP_MPY_wvf_snd.mp3\n"
          ],
          "name": "stdout"
        },
        {
          "output_type": "stream",
          "text": [
            "100%|██████████| 1022/1022 [00:01<00:00, 1011.72it/s]"
          ],
          "name": "stderr"
        },
        {
          "output_type": "stream",
          "text": [
            "[MoviePy] Done.\n",
            "[MoviePy] Writing video new_video.mp4\n"
          ],
          "name": "stdout"
        },
        {
          "output_type": "stream",
          "text": [
            "\n",
            "100%|██████████| 1391/1391 [00:06<00:00, 209.11it/s]\n"
          ],
          "name": "stderr"
        },
        {
          "output_type": "stream",
          "text": [
            "[MoviePy] Done.\n",
            "[MoviePy] >>>> Video ready: new_video.mp4 \n",
            "\n",
            "(1528, 8, 2048)\n",
            "Burglary022.mp4\n",
            "(10, 8, 2048)\n",
            "(1538, 8, 2048)\n",
            "[MoviePy] >>>> Building video new_video.mp4\n",
            "[MoviePy] Writing audio in new_videoTEMP_MPY_wvf_snd.mp3\n"
          ],
          "name": "stdout"
        },
        {
          "output_type": "stream",
          "text": [
            "100%|██████████| 1776/1776 [00:01<00:00, 1017.93it/s]"
          ],
          "name": "stderr"
        },
        {
          "output_type": "stream",
          "text": [
            "[MoviePy] Done.\n",
            "[MoviePy] Writing video new_video.mp4\n"
          ],
          "name": "stdout"
        },
        {
          "output_type": "stream",
          "text": [
            "\n",
            "100%|██████████| 2416/2416 [00:15<00:00, 160.41it/s]\n"
          ],
          "name": "stderr"
        },
        {
          "output_type": "stream",
          "text": [
            "[MoviePy] Done.\n",
            "[MoviePy] >>>> Video ready: new_video.mp4 \n",
            "\n",
            "(1548, 8, 2048)\n",
            "Burglary023.mp4\n",
            "(20, 8, 2048)\n",
            "(1568, 8, 2048)\n",
            "[MoviePy] >>>> Building video new_video.mp4\n",
            "[MoviePy] Writing audio in new_videoTEMP_MPY_wvf_snd.mp3\n"
          ],
          "name": "stdout"
        },
        {
          "output_type": "stream",
          "text": [
            "100%|██████████| 3622/3622 [00:03<00:00, 1021.05it/s]"
          ],
          "name": "stderr"
        },
        {
          "output_type": "stream",
          "text": [
            "[MoviePy] Done.\n",
            "[MoviePy] Writing video new_video.mp4\n"
          ],
          "name": "stdout"
        },
        {
          "output_type": "stream",
          "text": [
            "\n",
            "100%|██████████| 4927/4927 [00:27<00:00, 176.11it/s]\n"
          ],
          "name": "stderr"
        },
        {
          "output_type": "stream",
          "text": [
            "[MoviePy] Done.\n",
            "[MoviePy] >>>> Video ready: new_video.mp4 \n",
            "\n",
            "(1588, 8, 2048)\n",
            "Burglary024.mp4\n",
            "(5, 8, 2048)\n",
            "(1593, 8, 2048)\n",
            "[MoviePy] >>>> Building video new_video.mp4\n",
            "[MoviePy] Writing audio in new_videoTEMP_MPY_wvf_snd.mp3\n"
          ],
          "name": "stdout"
        },
        {
          "output_type": "stream",
          "text": [
            "100%|██████████| 965/965 [00:00<00:00, 1031.12it/s]"
          ],
          "name": "stderr"
        },
        {
          "output_type": "stream",
          "text": [
            "[MoviePy] Done.\n",
            "[MoviePy] Writing video new_video.mp4\n"
          ],
          "name": "stdout"
        },
        {
          "output_type": "stream",
          "text": [
            "\n",
            "100%|██████████| 1312/1312 [00:06<00:00, 201.92it/s]\n"
          ],
          "name": "stderr"
        },
        {
          "output_type": "stream",
          "text": [
            "[MoviePy] Done.\n",
            "[MoviePy] >>>> Video ready: new_video.mp4 \n",
            "\n",
            "(1598, 8, 2048)\n",
            "Burglary025.mp4\n",
            "(15, 8, 2048)\n",
            "(1613, 8, 2048)\n",
            "[MoviePy] >>>> Building video new_video.mp4\n",
            "[MoviePy] Writing audio in new_videoTEMP_MPY_wvf_snd.mp3\n"
          ],
          "name": "stdout"
        },
        {
          "output_type": "stream",
          "text": [
            "100%|██████████| 2799/2799 [00:02<00:00, 1003.24it/s]"
          ],
          "name": "stderr"
        },
        {
          "output_type": "stream",
          "text": [
            "[MoviePy] Done.\n",
            "[MoviePy] Writing video new_video.mp4\n"
          ],
          "name": "stdout"
        },
        {
          "output_type": "stream",
          "text": [
            "\n",
            "100%|██████████| 3808/3808 [00:16<00:00, 237.06it/s]\n"
          ],
          "name": "stderr"
        },
        {
          "output_type": "stream",
          "text": [
            "[MoviePy] Done.\n",
            "[MoviePy] >>>> Video ready: new_video.mp4 \n",
            "\n",
            "(1628, 8, 2048)\n",
            "Burglary026.mp4\n",
            "(5, 8, 2048)\n",
            "(1633, 8, 2048)\n",
            "[MoviePy] >>>> Building video new_video.mp4\n",
            "[MoviePy] Writing audio in new_videoTEMP_MPY_wvf_snd.mp3\n"
          ],
          "name": "stdout"
        },
        {
          "output_type": "stream",
          "text": [
            "100%|██████████| 972/972 [00:00<00:00, 1014.13it/s]"
          ],
          "name": "stderr"
        },
        {
          "output_type": "stream",
          "text": [
            "[MoviePy] Done.\n",
            "[MoviePy] Writing video new_video.mp4\n"
          ],
          "name": "stdout"
        },
        {
          "output_type": "stream",
          "text": [
            "\n",
            "100%|██████████| 1323/1323 [00:06<00:00, 203.18it/s]\n"
          ],
          "name": "stderr"
        },
        {
          "output_type": "stream",
          "text": [
            "[MoviePy] Done.\n",
            "[MoviePy] >>>> Video ready: new_video.mp4 \n",
            "\n",
            "(1638, 8, 2048)\n",
            "Burglary027.mp4\n",
            "(12, 8, 2048)\n",
            "(1650, 8, 2048)\n",
            "[MoviePy] >>>> Building video new_video.mp4\n",
            "[MoviePy] Writing audio in new_videoTEMP_MPY_wvf_snd.mp3\n"
          ],
          "name": "stdout"
        },
        {
          "output_type": "stream",
          "text": [
            "100%|██████████| 2266/2266 [00:02<00:00, 1025.55it/s]"
          ],
          "name": "stderr"
        },
        {
          "output_type": "stream",
          "text": [
            "[MoviePy] Done.\n",
            "[MoviePy] Writing video new_video.mp4\n"
          ],
          "name": "stdout"
        },
        {
          "output_type": "stream",
          "text": [
            "\n",
            "100%|██████████| 3083/3083 [00:12<00:00, 237.28it/s]\n"
          ],
          "name": "stderr"
        },
        {
          "output_type": "stream",
          "text": [
            "[MoviePy] Done.\n",
            "[MoviePy] >>>> Video ready: new_video.mp4 \n",
            "\n",
            "(1662, 8, 2048)\n",
            "Burglary028.mp4\n",
            "(4, 8, 2048)\n",
            "(1666, 8, 2048)\n",
            "[MoviePy] >>>> Building video new_video.mp4\n",
            "[MoviePy] Writing audio in new_videoTEMP_MPY_wvf_snd.mp3\n"
          ],
          "name": "stdout"
        },
        {
          "output_type": "stream",
          "text": [
            "100%|██████████| 701/701 [00:00<00:00, 1033.61it/s]"
          ],
          "name": "stderr"
        },
        {
          "output_type": "stream",
          "text": [
            "[MoviePy] Done.\n",
            "[MoviePy] Writing video new_video.mp4\n"
          ],
          "name": "stdout"
        },
        {
          "output_type": "stream",
          "text": [
            "\n",
            "100%|██████████| 953/953 [00:04<00:00, 219.59it/s]\n"
          ],
          "name": "stderr"
        },
        {
          "output_type": "stream",
          "text": [
            "[MoviePy] Done.\n",
            "[MoviePy] >>>> Video ready: new_video.mp4 \n",
            "\n",
            "(1670, 8, 2048)\n",
            "Burglary029.mp4\n",
            "(19, 8, 2048)\n",
            "(1689, 8, 2048)\n",
            "[MoviePy] >>>> Building video new_video.mp4\n",
            "[MoviePy] Writing audio in new_videoTEMP_MPY_wvf_snd.mp3\n"
          ],
          "name": "stdout"
        },
        {
          "output_type": "stream",
          "text": [
            "100%|██████████| 3337/3337 [00:03<00:00, 1016.20it/s]"
          ],
          "name": "stderr"
        },
        {
          "output_type": "stream",
          "text": [
            "[MoviePy] Done.\n",
            "[MoviePy] Writing video new_video.mp4\n"
          ],
          "name": "stdout"
        },
        {
          "output_type": "stream",
          "text": [
            "\n",
            "100%|█████████▉| 4539/4540 [00:19<00:00, 232.01it/s]\n"
          ],
          "name": "stderr"
        },
        {
          "output_type": "stream",
          "text": [
            "[MoviePy] Done.\n",
            "[MoviePy] >>>> Video ready: new_video.mp4 \n",
            "\n",
            "(1708, 8, 2048)\n",
            "Burglary031.mp4\n",
            "(16, 8, 2048)\n",
            "(1724, 8, 2048)\n",
            "[MoviePy] >>>> Building video new_video.mp4\n",
            "[MoviePy] Writing audio in new_videoTEMP_MPY_wvf_snd.mp3\n"
          ],
          "name": "stdout"
        },
        {
          "output_type": "stream",
          "text": [
            "100%|██████████| 2937/2937 [00:02<00:00, 1039.84it/s]"
          ],
          "name": "stderr"
        },
        {
          "output_type": "stream",
          "text": [
            "[MoviePy] Done.\n",
            "[MoviePy] Writing video new_video.mp4\n"
          ],
          "name": "stdout"
        },
        {
          "output_type": "stream",
          "text": [
            "\n",
            "100%|██████████| 3995/3995 [00:20<00:00, 194.67it/s]"
          ],
          "name": "stderr"
        },
        {
          "output_type": "stream",
          "text": [
            "[MoviePy] Done.\n",
            "[MoviePy] >>>> Video ready: new_video.mp4 \n",
            "\n"
          ],
          "name": "stdout"
        },
        {
          "output_type": "stream",
          "text": [
            "\n"
          ],
          "name": "stderr"
        },
        {
          "output_type": "stream",
          "text": [
            "(1740, 8, 2048)\n",
            "Burglary032.mp4\n",
            "(20, 8, 2048)\n",
            "(1760, 8, 2048)\n",
            "[MoviePy] >>>> Building video new_video.mp4\n",
            "[MoviePy] Writing audio in new_videoTEMP_MPY_wvf_snd.mp3\n"
          ],
          "name": "stdout"
        },
        {
          "output_type": "stream",
          "text": [
            "100%|██████████| 3641/3641 [00:03<00:00, 1036.66it/s]"
          ],
          "name": "stderr"
        },
        {
          "output_type": "stream",
          "text": [
            "[MoviePy] Done.\n",
            "[MoviePy] Writing video new_video.mp4\n"
          ],
          "name": "stdout"
        },
        {
          "output_type": "stream",
          "text": [
            "\n",
            "100%|██████████| 4953/4953 [00:23<00:00, 208.62it/s]\n"
          ],
          "name": "stderr"
        },
        {
          "output_type": "stream",
          "text": [
            "[MoviePy] Done.\n",
            "[MoviePy] >>>> Video ready: new_video.mp4 \n",
            "\n",
            "(1780, 8, 2048)\n",
            "Burglary035.mp4\n",
            "(16, 8, 2048)\n",
            "(1796, 8, 2048)\n",
            "[MoviePy] >>>> Building video new_video.mp4\n",
            "[MoviePy] Writing audio in new_videoTEMP_MPY_wvf_snd.mp3\n"
          ],
          "name": "stdout"
        },
        {
          "output_type": "stream",
          "text": [
            "100%|██████████| 2945/2945 [00:02<00:00, 1025.93it/s]"
          ],
          "name": "stderr"
        },
        {
          "output_type": "stream",
          "text": [
            "[MoviePy] Done.\n",
            "[MoviePy] Writing video new_video.mp4\n"
          ],
          "name": "stdout"
        },
        {
          "output_type": "stream",
          "text": [
            "\n",
            "100%|██████████| 4006/4006 [00:15<00:00, 251.17it/s]\n"
          ],
          "name": "stderr"
        },
        {
          "output_type": "stream",
          "text": [
            "[MoviePy] Done.\n",
            "[MoviePy] >>>> Video ready: new_video.mp4 \n",
            "\n",
            "(1812, 8, 2048)\n",
            "Burglary037.mp4\n",
            "(7, 8, 2048)\n",
            "(1819, 8, 2048)\n",
            "[MoviePy] >>>> Building video new_video.mp4\n",
            "[MoviePy] Writing audio in new_videoTEMP_MPY_wvf_snd.mp3\n"
          ],
          "name": "stdout"
        },
        {
          "output_type": "stream",
          "text": [
            "100%|██████████| 1235/1235 [00:01<00:00, 849.60it/s]"
          ],
          "name": "stderr"
        },
        {
          "output_type": "stream",
          "text": [
            "[MoviePy] Done.\n",
            "[MoviePy] Writing video new_video.mp4\n"
          ],
          "name": "stdout"
        },
        {
          "output_type": "stream",
          "text": [
            "\n",
            "100%|██████████| 1680/1680 [00:08<00:00, 194.78it/s]\n"
          ],
          "name": "stderr"
        },
        {
          "output_type": "stream",
          "text": [
            "[MoviePy] Done.\n",
            "[MoviePy] >>>> Video ready: new_video.mp4 \n",
            "\n",
            "(1826, 8, 2048)\n",
            "Burglary039.mp4\n",
            "(16, 8, 2048)\n",
            "(1842, 8, 2048)\n",
            "[MoviePy] >>>> Building video new_video.mp4\n",
            "[MoviePy] Writing audio in new_videoTEMP_MPY_wvf_snd.mp3\n"
          ],
          "name": "stdout"
        },
        {
          "output_type": "stream",
          "text": [
            "100%|██████████| 2884/2884 [00:02<00:00, 1025.72it/s]"
          ],
          "name": "stderr"
        },
        {
          "output_type": "stream",
          "text": [
            "[MoviePy] Done.\n",
            "[MoviePy] Writing video new_video.mp4\n"
          ],
          "name": "stdout"
        },
        {
          "output_type": "stream",
          "text": [
            "\n",
            "100%|██████████| 3924/3924 [00:17<00:00, 222.67it/s]"
          ],
          "name": "stderr"
        },
        {
          "output_type": "stream",
          "text": [
            "[MoviePy] Done.\n",
            "[MoviePy] >>>> Video ready: new_video.mp4 \n",
            "\n"
          ],
          "name": "stdout"
        },
        {
          "output_type": "stream",
          "text": [
            "\n"
          ],
          "name": "stderr"
        },
        {
          "output_type": "stream",
          "text": [
            "(1858, 8, 2048)\n",
            "Burglary040.mp4\n",
            "(19, 8, 2048)\n",
            "(1877, 8, 2048)\n",
            "[MoviePy] >>>> Building video new_video.mp4\n",
            "[MoviePy] Writing audio in new_videoTEMP_MPY_wvf_snd.mp3\n"
          ],
          "name": "stdout"
        },
        {
          "output_type": "stream",
          "text": [
            "100%|██████████| 3418/3418 [00:03<00:00, 1011.84it/s]"
          ],
          "name": "stderr"
        },
        {
          "output_type": "stream",
          "text": [
            "[MoviePy] Done.\n",
            "[MoviePy] Writing video new_video.mp4\n"
          ],
          "name": "stdout"
        },
        {
          "output_type": "stream",
          "text": [
            "\n",
            "100%|██████████| 4650/4650 [00:19<00:00, 238.64it/s]"
          ],
          "name": "stderr"
        },
        {
          "output_type": "stream",
          "text": [
            "[MoviePy] Done.\n",
            "[MoviePy] >>>> Video ready: new_video.mp4 \n",
            "\n"
          ],
          "name": "stdout"
        },
        {
          "output_type": "stream",
          "text": [
            "\n"
          ],
          "name": "stderr"
        },
        {
          "output_type": "stream",
          "text": [
            "(1896, 8, 2048)\n",
            "Burglary041.mp4\n",
            "(7, 8, 2048)\n",
            "(1903, 8, 2048)\n",
            "[MoviePy] >>>> Building video new_video.mp4\n",
            "[MoviePy] Writing audio in new_videoTEMP_MPY_wvf_snd.mp3\n"
          ],
          "name": "stdout"
        },
        {
          "output_type": "stream",
          "text": [
            "100%|██████████| 1287/1287 [00:01<00:00, 1012.69it/s]"
          ],
          "name": "stderr"
        },
        {
          "output_type": "stream",
          "text": [
            "[MoviePy] Done.\n",
            "[MoviePy] Writing video new_video.mp4\n"
          ],
          "name": "stdout"
        },
        {
          "output_type": "stream",
          "text": [
            "\n",
            "100%|██████████| 1751/1751 [00:09<00:00, 185.27it/s]\n"
          ],
          "name": "stderr"
        },
        {
          "output_type": "stream",
          "text": [
            "[MoviePy] Done.\n",
            "[MoviePy] >>>> Video ready: new_video.mp4 \n",
            "\n",
            "(1910, 8, 2048)\n",
            "Burglary042.mp4\n",
            "(15, 8, 2048)\n",
            "(1925, 8, 2048)\n",
            "[MoviePy] >>>> Building video new_video.mp4\n",
            "[MoviePy] Writing audio in new_videoTEMP_MPY_wvf_snd.mp3\n"
          ],
          "name": "stdout"
        },
        {
          "output_type": "stream",
          "text": [
            "100%|██████████| 2782/2782 [00:03<00:00, 884.58it/s]"
          ],
          "name": "stderr"
        },
        {
          "output_type": "stream",
          "text": [
            "[MoviePy] Done.\n",
            "[MoviePy] Writing video new_video.mp4\n"
          ],
          "name": "stdout"
        },
        {
          "output_type": "stream",
          "text": [
            "\n",
            "100%|██████████| 3785/3785 [00:15<00:00, 248.51it/s]\n"
          ],
          "name": "stderr"
        },
        {
          "output_type": "stream",
          "text": [
            "[MoviePy] Done.\n",
            "[MoviePy] >>>> Video ready: new_video.mp4 \n",
            "\n",
            "(1940, 8, 2048)\n",
            "Burglary044.mp4\n",
            "(14, 8, 2048)\n",
            "(1954, 8, 2048)\n",
            "[MoviePy] >>>> Building video new_video.mp4\n",
            "[MoviePy] Writing audio in new_videoTEMP_MPY_wvf_snd.mp3\n"
          ],
          "name": "stdout"
        },
        {
          "output_type": "stream",
          "text": [
            "100%|██████████| 2591/2591 [00:02<00:00, 1005.54it/s]"
          ],
          "name": "stderr"
        },
        {
          "output_type": "stream",
          "text": [
            "[MoviePy] Done.\n",
            "[MoviePy] Writing video new_video.mp4\n"
          ],
          "name": "stdout"
        },
        {
          "output_type": "stream",
          "text": [
            "\n",
            "100%|█████████▉| 3525/3526 [00:17<00:00, 198.25it/s]\n"
          ],
          "name": "stderr"
        },
        {
          "output_type": "stream",
          "text": [
            "[MoviePy] Done.\n",
            "[MoviePy] >>>> Video ready: new_video.mp4 \n",
            "\n",
            "(1968, 8, 2048)\n",
            "Burglary045.mp4\n",
            "(15, 8, 2048)\n",
            "(1983, 8, 2048)\n",
            "[MoviePy] >>>> Building video new_video.mp4\n",
            "[MoviePy] Writing audio in new_videoTEMP_MPY_wvf_snd.mp3\n"
          ],
          "name": "stdout"
        },
        {
          "output_type": "stream",
          "text": [
            "100%|██████████| 2708/2708 [00:02<00:00, 1021.38it/s]"
          ],
          "name": "stderr"
        },
        {
          "output_type": "stream",
          "text": [
            "[MoviePy] Done.\n",
            "[MoviePy] Writing video new_video.mp4\n"
          ],
          "name": "stdout"
        },
        {
          "output_type": "stream",
          "text": [
            "\n",
            "100%|██████████| 3684/3684 [00:15<00:00, 233.01it/s]\n"
          ],
          "name": "stderr"
        },
        {
          "output_type": "stream",
          "text": [
            "[MoviePy] Done.\n",
            "[MoviePy] >>>> Video ready: new_video.mp4 \n",
            "\n",
            "(1998, 8, 2048)\n",
            "Burglary046.mp4\n",
            "(8, 8, 2048)\n",
            "(2006, 8, 2048)\n",
            "[MoviePy] >>>> Building video new_video.mp4\n",
            "[MoviePy] Writing audio in new_videoTEMP_MPY_wvf_snd.mp3\n"
          ],
          "name": "stdout"
        },
        {
          "output_type": "stream",
          "text": [
            "100%|██████████| 1561/1561 [00:01<00:00, 1020.90it/s]"
          ],
          "name": "stderr"
        },
        {
          "output_type": "stream",
          "text": [
            "[MoviePy] Done.\n",
            "[MoviePy] Writing video new_video.mp4\n"
          ],
          "name": "stdout"
        },
        {
          "output_type": "stream",
          "text": [
            "\n",
            "100%|██████████| 2123/2123 [00:09<00:00, 234.52it/s]\n"
          ],
          "name": "stderr"
        },
        {
          "output_type": "stream",
          "text": [
            "[MoviePy] Done.\n",
            "[MoviePy] >>>> Video ready: new_video.mp4 \n",
            "\n",
            "(2014, 8, 2048)\n",
            "Burglary047.mp4\n",
            "(9, 8, 2048)\n",
            "(2023, 8, 2048)\n",
            "[MoviePy] >>>> Building video new_video.mp4\n",
            "[MoviePy] Writing audio in new_videoTEMP_MPY_wvf_snd.mp3\n"
          ],
          "name": "stdout"
        },
        {
          "output_type": "stream",
          "text": [
            "100%|██████████| 1730/1730 [00:01<00:00, 1012.65it/s]"
          ],
          "name": "stderr"
        },
        {
          "output_type": "stream",
          "text": [
            "[MoviePy] Done.\n",
            "[MoviePy] Writing video new_video.mp4\n"
          ],
          "name": "stdout"
        },
        {
          "output_type": "stream",
          "text": [
            "\n",
            "100%|██████████| 2354/2354 [00:11<00:00, 212.67it/s]\n"
          ],
          "name": "stderr"
        },
        {
          "output_type": "stream",
          "text": [
            "[MoviePy] Done.\n",
            "[MoviePy] >>>> Video ready: new_video.mp4 \n",
            "\n",
            "(2032, 8, 2048)\n",
            "Burglary048.mp4\n",
            "(6, 8, 2048)\n",
            "(2038, 8, 2048)\n",
            "[MoviePy] >>>> Building video new_video.mp4\n",
            "[MoviePy] Writing audio in new_videoTEMP_MPY_wvf_snd.mp3\n"
          ],
          "name": "stdout"
        },
        {
          "output_type": "stream",
          "text": [
            "100%|██████████| 1052/1052 [00:01<00:00, 762.86it/s]"
          ],
          "name": "stderr"
        },
        {
          "output_type": "stream",
          "text": [
            "[MoviePy] Done.\n",
            "[MoviePy] Writing video new_video.mp4\n"
          ],
          "name": "stdout"
        },
        {
          "output_type": "stream",
          "text": [
            "\n",
            "100%|█████████▉| 1431/1432 [00:05<00:00, 240.49it/s]\n"
          ],
          "name": "stderr"
        },
        {
          "output_type": "stream",
          "text": [
            "[MoviePy] Done.\n",
            "[MoviePy] >>>> Video ready: new_video.mp4 \n",
            "\n",
            "(2044, 8, 2048)\n",
            "Explosion015.mp4\n",
            "(1, 8, 2048)\n",
            "(2045, 8, 2048)\n",
            "[MoviePy] >>>> Building video new_video.mp4\n",
            "[MoviePy] Writing audio in new_videoTEMP_MPY_wvf_snd.mp3\n"
          ],
          "name": "stdout"
        },
        {
          "output_type": "stream",
          "text": [
            "100%|██████████| 232/232 [00:00<00:00, 1012.46it/s]"
          ],
          "name": "stderr"
        },
        {
          "output_type": "stream",
          "text": [
            "[MoviePy] Done.\n",
            "[MoviePy] Writing video new_video.mp4\n"
          ],
          "name": "stdout"
        },
        {
          "output_type": "stream",
          "text": [
            "\n",
            "100%|█████████▉| 315/316 [00:01<00:00, 175.29it/s]\n"
          ],
          "name": "stderr"
        },
        {
          "output_type": "stream",
          "text": [
            "[MoviePy] Done.\n",
            "[MoviePy] >>>> Video ready: new_video.mp4 \n",
            "\n",
            "(2046, 8, 2048)\n",
            "Explosion018.mp4\n",
            "(1, 8, 2048)\n",
            "(2047, 8, 2048)\n",
            "[MoviePy] >>>> Building video new_video.mp4\n",
            "[MoviePy] Writing audio in new_videoTEMP_MPY_wvf_snd.mp3\n"
          ],
          "name": "stdout"
        },
        {
          "output_type": "stream",
          "text": [
            "100%|██████████| 316/316 [00:00<00:00, 1059.34it/s]\n"
          ],
          "name": "stderr"
        },
        {
          "output_type": "stream",
          "text": [
            "[MoviePy] Done.\n",
            "[MoviePy] Writing video new_video.mp4\n"
          ],
          "name": "stdout"
        },
        {
          "output_type": "stream",
          "text": [
            "100%|██████████| 430/430 [00:01<00:00, 233.69it/s]\n"
          ],
          "name": "stderr"
        },
        {
          "output_type": "stream",
          "text": [
            "[MoviePy] Done.\n",
            "[MoviePy] >>>> Video ready: new_video.mp4 \n",
            "\n",
            "(2048, 8, 2048)\n",
            "Explosion014.mp4\n",
            "(4, 8, 2048)\n",
            "(2052, 8, 2048)\n",
            "[MoviePy] >>>> Building video new_video.mp4\n",
            "[MoviePy] Writing audio in new_videoTEMP_MPY_wvf_snd.mp3\n"
          ],
          "name": "stdout"
        },
        {
          "output_type": "stream",
          "text": [
            "100%|██████████| 811/811 [00:00<00:00, 1031.11it/s]"
          ],
          "name": "stderr"
        },
        {
          "output_type": "stream",
          "text": [
            "[MoviePy] Done.\n",
            "[MoviePy] Writing video new_video.mp4\n"
          ],
          "name": "stdout"
        },
        {
          "output_type": "stream",
          "text": [
            "\n",
            "100%|██████████| 1103/1103 [00:04<00:00, 223.51it/s]\n"
          ],
          "name": "stderr"
        },
        {
          "output_type": "stream",
          "text": [
            "[MoviePy] Done.\n",
            "[MoviePy] >>>> Video ready: new_video.mp4 \n",
            "\n",
            "(2056, 8, 2048)\n",
            "Explosion002.mp4\n",
            "(6, 8, 2048)\n",
            "(2062, 8, 2048)\n",
            "[MoviePy] >>>> Building video new_video.mp4\n",
            "[MoviePy] Writing audio in new_videoTEMP_MPY_wvf_snd.mp3\n"
          ],
          "name": "stdout"
        },
        {
          "output_type": "stream",
          "text": [
            "100%|██████████| 1115/1115 [00:01<00:00, 1005.09it/s]"
          ],
          "name": "stderr"
        },
        {
          "output_type": "stream",
          "text": [
            "[MoviePy] Done.\n"
          ],
          "name": "stdout"
        },
        {
          "output_type": "stream",
          "text": [
            "\n"
          ],
          "name": "stderr"
        },
        {
          "output_type": "stream",
          "text": [
            "[MoviePy] Writing video new_video.mp4\n"
          ],
          "name": "stdout"
        },
        {
          "output_type": "stream",
          "text": [
            "100%|██████████| 1517/1517 [00:06<00:00, 221.23it/s]\n"
          ],
          "name": "stderr"
        },
        {
          "output_type": "stream",
          "text": [
            "[MoviePy] Done.\n",
            "[MoviePy] >>>> Video ready: new_video.mp4 \n",
            "\n",
            "(2068, 8, 2048)\n",
            "Explosion025.mp4\n",
            "(0,)\n",
            "(2068, 8, 2048)\n",
            "[MoviePy] >>>> Building video new_video.mp4\n",
            "[MoviePy] Writing audio in new_videoTEMP_MPY_wvf_snd.mp3\n"
          ],
          "name": "stdout"
        },
        {
          "output_type": "stream",
          "text": [
            "100%|██████████| 141/141 [00:00<00:00, 587.68it/s]"
          ],
          "name": "stderr"
        },
        {
          "output_type": "stream",
          "text": [
            "[MoviePy] Done.\n",
            "[MoviePy] Writing video new_video.mp4\n"
          ],
          "name": "stdout"
        },
        {
          "output_type": "stream",
          "text": [
            "\n",
            "100%|██████████| 192/192 [00:00<00:00, 236.04it/s]\n"
          ],
          "name": "stderr"
        },
        {
          "output_type": "stream",
          "text": [
            "[MoviePy] Done.\n",
            "[MoviePy] >>>> Video ready: new_video.mp4 \n",
            "\n",
            "(2068, 8, 2048)\n",
            "Explosion003.mp4\n",
            "(1, 8, 2048)\n",
            "(2069, 8, 2048)\n",
            "[MoviePy] >>>> Building video new_video.mp4\n",
            "[MoviePy] Writing video new_video.mp4\n"
          ],
          "name": "stdout"
        },
        {
          "output_type": "stream",
          "text": [
            "100%|██████████| 408/408 [00:02<00:00, 186.06it/s]\n"
          ],
          "name": "stderr"
        },
        {
          "output_type": "stream",
          "text": [
            "[MoviePy] Done.\n",
            "[MoviePy] >>>> Video ready: new_video.mp4 \n",
            "\n",
            "(2070, 8, 2048)\n",
            "Explosion024.mp4\n",
            "(1, 8, 2048)\n",
            "(2071, 8, 2048)\n",
            "[MoviePy] >>>> Building video new_video.mp4\n",
            "[MoviePy] Writing audio in new_videoTEMP_MPY_wvf_snd.mp3\n"
          ],
          "name": "stdout"
        },
        {
          "output_type": "stream",
          "text": [
            "100%|██████████| 326/326 [00:00<00:00, 987.86it/s] "
          ],
          "name": "stderr"
        },
        {
          "output_type": "stream",
          "text": [
            "[MoviePy] Done.\n",
            "[MoviePy] Writing video new_video.mp4\n"
          ],
          "name": "stdout"
        },
        {
          "output_type": "stream",
          "text": [
            "\n",
            "100%|██████████| 443/443 [00:01<00:00, 223.01it/s]\n"
          ],
          "name": "stderr"
        },
        {
          "output_type": "stream",
          "text": [
            "[MoviePy] Done.\n",
            "[MoviePy] >>>> Video ready: new_video.mp4 \n",
            "\n",
            "(2072, 8, 2048)\n",
            "Explosion001.mp4\n",
            "(1, 8, 2048)\n",
            "(2073, 8, 2048)\n",
            "[MoviePy] >>>> Building video new_video.mp4\n",
            "[MoviePy] Writing audio in new_videoTEMP_MPY_wvf_snd.mp3\n"
          ],
          "name": "stdout"
        },
        {
          "output_type": "stream",
          "text": [
            "100%|██████████| 215/215 [00:00<00:00, 1024.96it/s]"
          ],
          "name": "stderr"
        },
        {
          "output_type": "stream",
          "text": [
            "[MoviePy] Done.\n",
            "[MoviePy] Writing video new_video.mp4\n"
          ],
          "name": "stdout"
        },
        {
          "output_type": "stream",
          "text": [
            "\n",
            "100%|██████████| 293/293 [00:01<00:00, 260.22it/s]"
          ],
          "name": "stderr"
        },
        {
          "output_type": "stream",
          "text": [
            "[MoviePy] Done.\n",
            "[MoviePy] >>>> Video ready: new_video.mp4 \n",
            "\n"
          ],
          "name": "stdout"
        },
        {
          "output_type": "stream",
          "text": [
            "\n"
          ],
          "name": "stderr"
        },
        {
          "output_type": "stream",
          "text": [
            "(2074, 8, 2048)\n",
            "Explosion016.mp4\n",
            "(3, 8, 2048)\n",
            "(2077, 8, 2048)\n",
            "[MoviePy] >>>> Building video new_video.mp4\n",
            "[MoviePy] Writing audio in new_videoTEMP_MPY_wvf_snd.mp3\n"
          ],
          "name": "stdout"
        },
        {
          "output_type": "stream",
          "text": [
            "100%|██████████| 611/611 [00:00<00:00, 1005.48it/s]\n"
          ],
          "name": "stderr"
        },
        {
          "output_type": "stream",
          "text": [
            "[MoviePy] Done.\n",
            "[MoviePy] Writing video new_video.mp4\n"
          ],
          "name": "stdout"
        },
        {
          "output_type": "stream",
          "text": [
            "100%|██████████| 831/831 [00:03<00:00, 251.32it/s]\n"
          ],
          "name": "stderr"
        },
        {
          "output_type": "stream",
          "text": [
            "[MoviePy] Done.\n",
            "[MoviePy] >>>> Video ready: new_video.mp4 \n",
            "\n",
            "(2080, 8, 2048)\n",
            "Explosion020.mp4\n",
            "(1, 8, 2048)\n",
            "(2081, 8, 2048)\n",
            "[MoviePy] >>>> Building video new_video.mp4\n",
            "[MoviePy] Writing audio in new_videoTEMP_MPY_wvf_snd.mp3\n"
          ],
          "name": "stdout"
        },
        {
          "output_type": "stream",
          "text": [
            "100%|██████████| 234/234 [00:00<00:00, 1414.71it/s]"
          ],
          "name": "stderr"
        },
        {
          "output_type": "stream",
          "text": [
            "[MoviePy] Done.\n",
            "[MoviePy] Writing video new_video.mp4\n"
          ],
          "name": "stdout"
        },
        {
          "output_type": "stream",
          "text": [
            "\n",
            "100%|█████████▉| 318/319 [00:01<00:00, 175.83it/s]\n"
          ],
          "name": "stderr"
        },
        {
          "output_type": "stream",
          "text": [
            "[MoviePy] Done.\n",
            "[MoviePy] >>>> Video ready: new_video.mp4 \n",
            "\n",
            "(2082, 8, 2048)\n",
            "Explosion012.mp4\n",
            "(3, 8, 2048)\n",
            "(2085, 8, 2048)\n",
            "[MoviePy] >>>> Building video new_video.mp4\n",
            "[MoviePy] Writing audio in new_videoTEMP_MPY_wvf_snd.mp3\n"
          ],
          "name": "stdout"
        },
        {
          "output_type": "stream",
          "text": [
            "100%|██████████| 511/511 [00:00<00:00, 1025.53it/s]"
          ],
          "name": "stderr"
        },
        {
          "output_type": "stream",
          "text": [
            "[MoviePy] Done.\n",
            "[MoviePy] Writing video new_video.mp4\n"
          ],
          "name": "stdout"
        },
        {
          "output_type": "stream",
          "text": [
            "\n",
            "100%|██████████| 696/696 [00:03<00:00, 221.61it/s]"
          ],
          "name": "stderr"
        },
        {
          "output_type": "stream",
          "text": [
            "[MoviePy] Done.\n",
            "[MoviePy] >>>> Video ready: new_video.mp4 \n",
            "\n"
          ],
          "name": "stdout"
        },
        {
          "output_type": "stream",
          "text": [
            "\n"
          ],
          "name": "stderr"
        },
        {
          "output_type": "stream",
          "text": [
            "(2088, 8, 2048)\n",
            "Explosion045.mp4\n",
            "(1, 8, 2048)\n",
            "(2089, 8, 2048)\n",
            "[MoviePy] >>>> Building video new_video.mp4\n",
            "[MoviePy] Writing audio in new_videoTEMP_MPY_wvf_snd.mp3\n"
          ],
          "name": "stdout"
        },
        {
          "output_type": "stream",
          "text": [
            "100%|██████████| 262/262 [00:00<00:00, 910.09it/s]"
          ],
          "name": "stderr"
        },
        {
          "output_type": "stream",
          "text": [
            "[MoviePy] Done.\n",
            "[MoviePy] Writing video new_video.mp4\n"
          ],
          "name": "stdout"
        },
        {
          "output_type": "stream",
          "text": [
            "\n",
            "100%|██████████| 356/356 [00:02<00:00, 168.13it/s]\n"
          ],
          "name": "stderr"
        },
        {
          "output_type": "stream",
          "text": [
            "[MoviePy] Done.\n",
            "[MoviePy] >>>> Video ready: new_video.mp4 \n",
            "\n",
            "(2090, 8, 2048)\n",
            "Explosion004.mp4\n",
            "(7, 8, 2048)\n",
            "(2097, 8, 2048)\n",
            "[MoviePy] >>>> Building video new_video.mp4\n",
            "[MoviePy] Writing audio in new_videoTEMP_MPY_wvf_snd.mp3\n"
          ],
          "name": "stdout"
        },
        {
          "output_type": "stream",
          "text": [
            "100%|██████████| 1388/1388 [00:01<00:00, 1006.19it/s]"
          ],
          "name": "stderr"
        },
        {
          "output_type": "stream",
          "text": [
            "[MoviePy] Done.\n",
            "[MoviePy] Writing video new_video.mp4\n"
          ],
          "name": "stdout"
        },
        {
          "output_type": "stream",
          "text": [
            "\n",
            "100%|██████████| 1888/1888 [00:08<00:00, 225.31it/s]\n"
          ],
          "name": "stderr"
        },
        {
          "output_type": "stream",
          "text": [
            "[MoviePy] Done.\n",
            "[MoviePy] >>>> Video ready: new_video.mp4 \n",
            "\n",
            "(2104, 8, 2048)\n",
            "Explosion034.mp4\n",
            "(1, 8, 2048)\n",
            "(2105, 8, 2048)\n",
            "[MoviePy] >>>> Building video new_video.mp4\n",
            "[MoviePy] Writing audio in new_videoTEMP_MPY_wvf_snd.mp3\n"
          ],
          "name": "stdout"
        },
        {
          "output_type": "stream",
          "text": [
            "100%|██████████| 281/281 [00:00<00:00, 779.08it/s]"
          ],
          "name": "stderr"
        },
        {
          "output_type": "stream",
          "text": [
            "[MoviePy] Done.\n",
            "[MoviePy] Writing video new_video.mp4\n"
          ],
          "name": "stdout"
        },
        {
          "output_type": "stream",
          "text": [
            "\n",
            "100%|██████████| 383/383 [00:01<00:00, 273.88it/s]\n"
          ],
          "name": "stderr"
        },
        {
          "output_type": "stream",
          "text": [
            "[MoviePy] Done.\n",
            "[MoviePy] >>>> Video ready: new_video.mp4 \n",
            "\n",
            "(2106, 8, 2048)\n",
            "Explosion047.mp4\n",
            "(2, 8, 2048)\n",
            "(2108, 8, 2048)\n",
            "[MoviePy] >>>> Building video new_video.mp4\n",
            "[MoviePy] Writing audio in new_videoTEMP_MPY_wvf_snd.mp3\n"
          ],
          "name": "stdout"
        },
        {
          "output_type": "stream",
          "text": [
            "100%|██████████| 367/367 [00:00<00:00, 1040.98it/s]"
          ],
          "name": "stderr"
        },
        {
          "output_type": "stream",
          "text": [
            "[MoviePy] Done.\n",
            "[MoviePy] Writing video new_video.mp4\n"
          ],
          "name": "stdout"
        },
        {
          "output_type": "stream",
          "text": [
            "\n",
            "100%|██████████| 499/499 [00:02<00:00, 210.93it/s]\n"
          ],
          "name": "stderr"
        },
        {
          "output_type": "stream",
          "text": [
            "[MoviePy] Done.\n",
            "[MoviePy] >>>> Video ready: new_video.mp4 \n",
            "\n",
            "(2110, 8, 2048)\n",
            "Explosion035.mp4\n",
            "(3, 8, 2048)\n",
            "(2113, 8, 2048)\n",
            "[MoviePy] >>>> Building video new_video.mp4\n",
            "[MoviePy] Writing audio in new_videoTEMP_MPY_wvf_snd.mp3\n"
          ],
          "name": "stdout"
        },
        {
          "output_type": "stream",
          "text": [
            "100%|██████████| 627/627 [00:00<00:00, 1041.99it/s]\n"
          ],
          "name": "stderr"
        },
        {
          "output_type": "stream",
          "text": [
            "[MoviePy] Done.\n",
            "[MoviePy] Writing video new_video.mp4\n"
          ],
          "name": "stdout"
        },
        {
          "output_type": "stream",
          "text": [
            "100%|██████████| 853/853 [00:04<00:00, 201.29it/s]\n"
          ],
          "name": "stderr"
        },
        {
          "output_type": "stream",
          "text": [
            "[MoviePy] Done.\n",
            "[MoviePy] >>>> Video ready: new_video.mp4 \n",
            "\n",
            "(2116, 8, 2048)\n",
            "Explosion050.mp4\n",
            "(0,)\n",
            "(2116, 8, 2048)\n",
            "[MoviePy] >>>> Building video new_video.mp4\n",
            "[MoviePy] Writing audio in new_videoTEMP_MPY_wvf_snd.mp3\n"
          ],
          "name": "stdout"
        },
        {
          "output_type": "stream",
          "text": [
            "100%|██████████| 151/151 [00:00<00:00, 1053.61it/s]"
          ],
          "name": "stderr"
        },
        {
          "output_type": "stream",
          "text": [
            "[MoviePy] Done.\n",
            "[MoviePy] Writing video new_video.mp4\n"
          ],
          "name": "stdout"
        },
        {
          "output_type": "stream",
          "text": [
            "\n",
            "100%|██████████| 205/205 [00:01<00:00, 199.06it/s]\n"
          ],
          "name": "stderr"
        },
        {
          "output_type": "stream",
          "text": [
            "[MoviePy] Done.\n",
            "[MoviePy] >>>> Video ready: new_video.mp4 \n",
            "\n",
            "(2116, 8, 2048)\n",
            "Explosion048.mp4\n",
            "(0,)\n",
            "(2116, 8, 2048)\n",
            "[MoviePy] >>>> Building video new_video.mp4\n",
            "[MoviePy] Writing audio in new_videoTEMP_MPY_wvf_snd.mp3\n"
          ],
          "name": "stdout"
        },
        {
          "output_type": "stream",
          "text": [
            "100%|██████████| 115/115 [00:00<00:00, 1083.87it/s]"
          ],
          "name": "stderr"
        },
        {
          "output_type": "stream",
          "text": [
            "[MoviePy] Done.\n",
            "[MoviePy] Writing video new_video.mp4\n"
          ],
          "name": "stdout"
        },
        {
          "output_type": "stream",
          "text": [
            "\n",
            "100%|██████████| 156/156 [00:00<00:00, 210.47it/s]\n"
          ],
          "name": "stderr"
        },
        {
          "output_type": "stream",
          "text": [
            "[MoviePy] Done.\n",
            "[MoviePy] >>>> Video ready: new_video.mp4 \n",
            "\n",
            "(2116, 8, 2048)\n",
            "Explosion041.mp4\n",
            "(3, 8, 2048)\n",
            "(2119, 8, 2048)\n",
            "[MoviePy] >>>> Building video new_video.mp4\n",
            "[MoviePy] Writing audio in new_videoTEMP_MPY_wvf_snd.mp3\n"
          ],
          "name": "stdout"
        },
        {
          "output_type": "stream",
          "text": [
            "100%|██████████| 509/509 [00:00<00:00, 1039.53it/s]"
          ],
          "name": "stderr"
        },
        {
          "output_type": "stream",
          "text": [
            "[MoviePy] Done.\n",
            "[MoviePy] Writing video new_video.mp4\n"
          ],
          "name": "stdout"
        },
        {
          "output_type": "stream",
          "text": [
            "\n",
            "100%|██████████| 692/692 [00:03<00:00, 228.63it/s]\n"
          ],
          "name": "stderr"
        },
        {
          "output_type": "stream",
          "text": [
            "[MoviePy] Done.\n",
            "[MoviePy] >>>> Video ready: new_video.mp4 \n",
            "\n",
            "(2122, 8, 2048)\n",
            "Explosion028.mp4\n",
            "(2, 8, 2048)\n",
            "(2124, 8, 2048)\n",
            "[MoviePy] >>>> Building video new_video.mp4\n",
            "[MoviePy] Writing audio in new_videoTEMP_MPY_wvf_snd.mp3\n"
          ],
          "name": "stdout"
        },
        {
          "output_type": "stream",
          "text": [
            "100%|██████████| 477/477 [00:00<00:00, 1007.11it/s]"
          ],
          "name": "stderr"
        },
        {
          "output_type": "stream",
          "text": [
            "[MoviePy] Done.\n",
            "[MoviePy] Writing video new_video.mp4\n"
          ],
          "name": "stdout"
        },
        {
          "output_type": "stream",
          "text": [
            "\n",
            "100%|██████████| 649/649 [00:02<00:00, 225.20it/s]\n"
          ],
          "name": "stderr"
        },
        {
          "output_type": "stream",
          "text": [
            "[MoviePy] Done.\n",
            "[MoviePy] >>>> Video ready: new_video.mp4 \n",
            "\n",
            "(2126, 8, 2048)\n",
            "Explosion044.mp4\n",
            "(2, 8, 2048)\n",
            "(2128, 8, 2048)\n",
            "[MoviePy] >>>> Building video new_video.mp4\n",
            "[MoviePy] Writing audio in new_videoTEMP_MPY_wvf_snd.mp3\n"
          ],
          "name": "stdout"
        },
        {
          "output_type": "stream",
          "text": [
            "100%|██████████| 472/472 [00:00<00:00, 1009.67it/s]"
          ],
          "name": "stderr"
        },
        {
          "output_type": "stream",
          "text": [
            "[MoviePy] Done.\n",
            "[MoviePy] Writing video new_video.mp4\n"
          ],
          "name": "stdout"
        },
        {
          "output_type": "stream",
          "text": [
            "\n",
            "100%|██████████| 642/642 [00:02<00:00, 228.19it/s]\n"
          ],
          "name": "stderr"
        },
        {
          "output_type": "stream",
          "text": [
            "[MoviePy] Done.\n",
            "[MoviePy] >>>> Video ready: new_video.mp4 \n",
            "\n",
            "(2130, 8, 2048)\n",
            "Explosion005.mp4\n",
            "(2, 8, 2048)\n",
            "(2132, 8, 2048)\n",
            "[MoviePy] >>>> Building video new_video.mp4\n",
            "[MoviePy] Writing audio in new_videoTEMP_MPY_wvf_snd.mp3\n"
          ],
          "name": "stdout"
        },
        {
          "output_type": "stream",
          "text": [
            "100%|██████████| 493/493 [00:00<00:00, 1002.31it/s]"
          ],
          "name": "stderr"
        },
        {
          "output_type": "stream",
          "text": [
            "[MoviePy] Done.\n",
            "[MoviePy] Writing video new_video.mp4\n"
          ],
          "name": "stdout"
        },
        {
          "output_type": "stream",
          "text": [
            "\n",
            "100%|██████████| 671/671 [00:03<00:00, 170.82it/s]\n"
          ],
          "name": "stderr"
        },
        {
          "output_type": "stream",
          "text": [
            "[MoviePy] Done.\n",
            "[MoviePy] >>>> Video ready: new_video.mp4 \n",
            "\n",
            "(2134, 8, 2048)\n",
            "Explosion006.mp4\n",
            "(7, 8, 2048)\n",
            "(2141, 8, 2048)\n",
            "[MoviePy] >>>> Building video new_video.mp4\n",
            "[MoviePy] Writing audio in new_videoTEMP_MPY_wvf_snd.mp3\n"
          ],
          "name": "stdout"
        },
        {
          "output_type": "stream",
          "text": [
            "100%|██████████| 1376/1376 [00:01<00:00, 1002.61it/s]"
          ],
          "name": "stderr"
        },
        {
          "output_type": "stream",
          "text": [
            "[MoviePy] Done.\n",
            "[MoviePy] Writing video new_video.mp4\n"
          ],
          "name": "stdout"
        },
        {
          "output_type": "stream",
          "text": [
            "\n",
            "100%|█████████▉| 1872/1873 [00:07<00:00, 236.33it/s]"
          ],
          "name": "stderr"
        },
        {
          "output_type": "stream",
          "text": [
            "[MoviePy] Done.\n",
            "[MoviePy] >>>> Video ready: new_video.mp4 \n",
            "\n"
          ],
          "name": "stdout"
        },
        {
          "output_type": "stream",
          "text": [
            "\n"
          ],
          "name": "stderr"
        },
        {
          "output_type": "stream",
          "text": [
            "(2148, 8, 2048)\n",
            "Explosion007.mp4\n",
            "(15, 8, 2048)\n",
            "(2163, 8, 2048)\n",
            "[MoviePy] >>>> Building video new_video.mp4\n",
            "[MoviePy] Writing audio in new_videoTEMP_MPY_wvf_snd.mp3\n"
          ],
          "name": "stdout"
        },
        {
          "output_type": "stream",
          "text": [
            "100%|██████████| 2677/2677 [00:03<00:00, 850.62it/s]"
          ],
          "name": "stderr"
        },
        {
          "output_type": "stream",
          "text": [
            "[MoviePy] Done.\n",
            "[MoviePy] Writing video new_video.mp4\n"
          ],
          "name": "stdout"
        },
        {
          "output_type": "stream",
          "text": [
            "\n",
            "100%|██████████| 3642/3642 [00:19<00:00, 184.30it/s]\n"
          ],
          "name": "stderr"
        },
        {
          "output_type": "stream",
          "text": [
            "[MoviePy] Done.\n",
            "[MoviePy] >>>> Video ready: new_video.mp4 \n",
            "\n",
            "(2178, 8, 2048)\n",
            "Explosion008.mp4\n",
            "(4, 8, 2048)\n",
            "(2182, 8, 2048)\n",
            "[MoviePy] >>>> Building video new_video.mp4\n",
            "[MoviePy] Writing audio in new_videoTEMP_MPY_wvf_snd.mp3\n"
          ],
          "name": "stdout"
        },
        {
          "output_type": "stream",
          "text": [
            "100%|██████████| 825/825 [00:00<00:00, 1046.72it/s]"
          ],
          "name": "stderr"
        },
        {
          "output_type": "stream",
          "text": [
            "[MoviePy] Done.\n",
            "[MoviePy] Writing video new_video.mp4\n"
          ],
          "name": "stdout"
        },
        {
          "output_type": "stream",
          "text": [
            "\n",
            "100%|██████████| 1122/1122 [00:05<00:00, 198.77it/s]\n"
          ],
          "name": "stderr"
        },
        {
          "output_type": "stream",
          "text": [
            "[MoviePy] Done.\n",
            "[MoviePy] >>>> Video ready: new_video.mp4 \n",
            "\n",
            "(2186, 8, 2048)\n",
            "Explosion009.mp4\n",
            "(4, 8, 2048)\n",
            "(2190, 8, 2048)\n",
            "[MoviePy] >>>> Building video new_video.mp4\n",
            "[MoviePy] Writing audio in new_videoTEMP_MPY_wvf_snd.mp3\n"
          ],
          "name": "stdout"
        },
        {
          "output_type": "stream",
          "text": [
            "100%|██████████| 690/690 [00:00<00:00, 802.36it/s]"
          ],
          "name": "stderr"
        },
        {
          "output_type": "stream",
          "text": [
            "[MoviePy] Done.\n",
            "[MoviePy] Writing video new_video.mp4\n"
          ],
          "name": "stdout"
        },
        {
          "output_type": "stream",
          "text": [
            "\n",
            "100%|██████████| 939/939 [00:04<00:00, 188.08it/s]\n"
          ],
          "name": "stderr"
        },
        {
          "output_type": "stream",
          "text": [
            "[MoviePy] Done.\n",
            "[MoviePy] >>>> Video ready: new_video.mp4 \n",
            "\n",
            "(2194, 8, 2048)\n",
            "Explosion010.mp4\n",
            "(8, 8, 2048)\n",
            "(2202, 8, 2048)\n",
            "[MoviePy] >>>> Building video new_video.mp4\n",
            "[MoviePy] Writing audio in new_videoTEMP_MPY_wvf_snd.mp3\n"
          ],
          "name": "stdout"
        },
        {
          "output_type": "stream",
          "text": [
            "100%|██████████| 1509/1509 [00:01<00:00, 858.00it/s]"
          ],
          "name": "stderr"
        },
        {
          "output_type": "stream",
          "text": [
            "[MoviePy] Done.\n",
            "[MoviePy] Writing video new_video.mp4\n"
          ],
          "name": "stdout"
        },
        {
          "output_type": "stream",
          "text": [
            "\n",
            "100%|██████████| 2053/2053 [00:08<00:00, 230.46it/s]"
          ],
          "name": "stderr"
        },
        {
          "output_type": "stream",
          "text": [
            "[MoviePy] Done.\n",
            "[MoviePy] >>>> Video ready: new_video.mp4 \n",
            "\n"
          ],
          "name": "stdout"
        },
        {
          "output_type": "stream",
          "text": [
            "\n"
          ],
          "name": "stderr"
        },
        {
          "output_type": "stream",
          "text": [
            "(2210, 8, 2048)\n",
            "Explosion011.mp4\n",
            "(4, 8, 2048)\n",
            "(2214, 8, 2048)\n",
            "[MoviePy] >>>> Building video new_video.mp4\n",
            "[MoviePy] Writing audio in new_videoTEMP_MPY_wvf_snd.mp3\n"
          ],
          "name": "stdout"
        },
        {
          "output_type": "stream",
          "text": [
            "100%|██████████| 693/693 [00:00<00:00, 1033.47it/s]"
          ],
          "name": "stderr"
        },
        {
          "output_type": "stream",
          "text": [
            "[MoviePy] Done.\n",
            "[MoviePy] Writing video new_video.mp4\n"
          ],
          "name": "stdout"
        },
        {
          "output_type": "stream",
          "text": [
            "\n",
            "100%|██████████| 943/943 [00:05<00:00, 187.85it/s]\n"
          ],
          "name": "stderr"
        },
        {
          "output_type": "stream",
          "text": [
            "[MoviePy] Done.\n",
            "[MoviePy] >>>> Video ready: new_video.mp4 \n",
            "\n",
            "(2218, 8, 2048)\n",
            "Explosion013.mp4\n",
            "(12, 8, 2048)\n",
            "(2230, 8, 2048)\n",
            "[MoviePy] >>>> Building video new_video.mp4\n",
            "[MoviePy] Writing audio in new_videoTEMP_MPY_wvf_snd.mp3\n"
          ],
          "name": "stdout"
        },
        {
          "output_type": "stream",
          "text": [
            "100%|██████████| 2176/2176 [00:02<00:00, 1024.47it/s]"
          ],
          "name": "stderr"
        },
        {
          "output_type": "stream",
          "text": [
            "[MoviePy] Done.\n",
            "[MoviePy] Writing video new_video.mp4\n"
          ],
          "name": "stdout"
        },
        {
          "output_type": "stream",
          "text": [
            "\n",
            "100%|██████████| 2961/2961 [00:14<00:00, 197.42it/s]\n"
          ],
          "name": "stderr"
        },
        {
          "output_type": "stream",
          "text": [
            "[MoviePy] Done.\n",
            "[MoviePy] >>>> Video ready: new_video.mp4 \n",
            "\n",
            "(2242, 8, 2048)\n",
            "Fighting033.mp4\n",
            "(4, 8, 2048)\n",
            "(2246, 8, 2048)\n",
            "[MoviePy] >>>> Building video new_video.mp4\n",
            "[MoviePy] Writing audio in new_videoTEMP_MPY_wvf_snd.mp3\n"
          ],
          "name": "stdout"
        },
        {
          "output_type": "stream",
          "text": [
            "100%|██████████| 773/773 [00:00<00:00, 1014.16it/s]"
          ],
          "name": "stderr"
        },
        {
          "output_type": "stream",
          "text": [
            "[MoviePy] Done.\n",
            "[MoviePy] Writing video new_video.mp4\n"
          ],
          "name": "stdout"
        },
        {
          "output_type": "stream",
          "text": [
            "\n",
            "100%|██████████| 1052/1052 [00:05<00:00, 206.73it/s]\n"
          ],
          "name": "stderr"
        },
        {
          "output_type": "stream",
          "text": [
            "[MoviePy] Done.\n",
            "[MoviePy] >>>> Video ready: new_video.mp4 \n",
            "\n",
            "(2250, 8, 2048)\n",
            "Fighting009.mp4\n",
            "(3, 8, 2048)\n",
            "(2253, 8, 2048)\n",
            "[MoviePy] >>>> Building video new_video.mp4\n",
            "[MoviePy] Writing video new_video.mp4\n"
          ],
          "name": "stdout"
        },
        {
          "output_type": "stream",
          "text": [
            "100%|█████████▉| 747/748 [00:04<00:00, 180.39it/s]\n"
          ],
          "name": "stderr"
        },
        {
          "output_type": "stream",
          "text": [
            "[MoviePy] Done.\n",
            "[MoviePy] >>>> Video ready: new_video.mp4 \n",
            "\n",
            "(2256, 8, 2048)\n",
            "Fighting035.mp4\n",
            "(3, 8, 2048)\n",
            "(2259, 8, 2048)\n",
            "[MoviePy] >>>> Building video new_video.mp4\n",
            "[MoviePy] Writing audio in new_videoTEMP_MPY_wvf_snd.mp3\n"
          ],
          "name": "stdout"
        },
        {
          "output_type": "stream",
          "text": [
            "100%|██████████| 668/668 [00:00<00:00, 1034.56it/s]"
          ],
          "name": "stderr"
        },
        {
          "output_type": "stream",
          "text": [
            "[MoviePy] Done.\n",
            "[MoviePy] Writing video new_video.mp4\n"
          ],
          "name": "stdout"
        },
        {
          "output_type": "stream",
          "text": [
            "\n",
            "100%|██████████| 908/908 [00:04<00:00, 198.69it/s]\n"
          ],
          "name": "stderr"
        },
        {
          "output_type": "stream",
          "text": [
            "[MoviePy] Done.\n",
            "[MoviePy] >>>> Video ready: new_video.mp4 \n",
            "\n",
            "(2262, 8, 2048)\n",
            "Fighting038.mp4\n",
            "(2, 8, 2048)\n",
            "(2264, 8, 2048)\n",
            "[MoviePy] >>>> Building video new_video.mp4\n",
            "[MoviePy] Writing audio in new_videoTEMP_MPY_wvf_snd.mp3\n"
          ],
          "name": "stdout"
        },
        {
          "output_type": "stream",
          "text": [
            "100%|██████████| 460/460 [00:00<00:00, 1015.15it/s]"
          ],
          "name": "stderr"
        },
        {
          "output_type": "stream",
          "text": [
            "[MoviePy] Done.\n",
            "[MoviePy] Writing video new_video.mp4\n"
          ],
          "name": "stdout"
        },
        {
          "output_type": "stream",
          "text": [
            "\n",
            "100%|██████████| 626/626 [00:03<00:00, 196.84it/s]\n"
          ],
          "name": "stderr"
        },
        {
          "output_type": "stream",
          "text": [
            "[MoviePy] Done.\n",
            "[MoviePy] >>>> Video ready: new_video.mp4 \n",
            "\n",
            "(2266, 8, 2048)\n",
            "Fighting002.mp4\n",
            "(11, 8, 2048)\n",
            "(2277, 8, 2048)\n",
            "[MoviePy] >>>> Building video new_video.mp4\n",
            "[MoviePy] Writing audio in new_videoTEMP_MPY_wvf_snd.mp3\n"
          ],
          "name": "stdout"
        },
        {
          "output_type": "stream",
          "text": [
            "100%|██████████| 1937/1937 [00:01<00:00, 1018.31it/s]"
          ],
          "name": "stderr"
        },
        {
          "output_type": "stream",
          "text": [
            "[MoviePy] Done.\n",
            "[MoviePy] Writing video new_video.mp4\n"
          ],
          "name": "stdout"
        },
        {
          "output_type": "stream",
          "text": [
            "\n",
            "100%|██████████| 2635/2635 [00:11<00:00, 225.84it/s]\n"
          ],
          "name": "stderr"
        },
        {
          "output_type": "stream",
          "text": [
            "[MoviePy] Done.\n",
            "[MoviePy] >>>> Video ready: new_video.mp4 \n",
            "\n",
            "(2288, 8, 2048)\n",
            "Fighting012.mp4\n",
            "(2, 8, 2048)\n",
            "(2290, 8, 2048)\n",
            "[MoviePy] >>>> Building video new_video.mp4\n",
            "[MoviePy] Writing video new_video.mp4\n"
          ],
          "name": "stdout"
        },
        {
          "output_type": "stream",
          "text": [
            "100%|██████████| 555/555 [00:03<00:00, 164.28it/s]\n"
          ],
          "name": "stderr"
        },
        {
          "output_type": "stream",
          "text": [
            "[MoviePy] Done.\n",
            "[MoviePy] >>>> Video ready: new_video.mp4 \n",
            "\n",
            "(2292, 8, 2048)\n",
            "Fighting023.mp4\n",
            "(2, 8, 2048)\n",
            "(2294, 8, 2048)\n",
            "[MoviePy] >>>> Building video new_video.mp4\n",
            "[MoviePy] Writing audio in new_videoTEMP_MPY_wvf_snd.mp3\n"
          ],
          "name": "stdout"
        },
        {
          "output_type": "stream",
          "text": [
            "100%|██████████| 449/449 [00:00<00:00, 1032.68it/s]"
          ],
          "name": "stderr"
        },
        {
          "output_type": "stream",
          "text": [
            "[MoviePy] Done.\n",
            "[MoviePy] Writing video new_video.mp4\n"
          ],
          "name": "stdout"
        },
        {
          "output_type": "stream",
          "text": [
            "\n",
            "100%|██████████| 610/610 [00:02<00:00, 240.76it/s]\n"
          ],
          "name": "stderr"
        },
        {
          "output_type": "stream",
          "text": [
            "[MoviePy] Done.\n",
            "[MoviePy] >>>> Video ready: new_video.mp4 \n",
            "\n",
            "(2296, 8, 2048)\n",
            "Fighting005.mp4\n",
            "(3, 8, 2048)\n",
            "(2299, 8, 2048)\n",
            "[MoviePy] >>>> Building video new_video.mp4\n",
            "[MoviePy] Writing video new_video.mp4\n"
          ],
          "name": "stdout"
        },
        {
          "output_type": "stream",
          "text": [
            "100%|█████████▉| 789/790 [00:03<00:00, 230.67it/s]"
          ],
          "name": "stderr"
        },
        {
          "output_type": "stream",
          "text": [
            "[MoviePy] Done.\n",
            "[MoviePy] >>>> Video ready: new_video.mp4 \n",
            "\n"
          ],
          "name": "stdout"
        },
        {
          "output_type": "stream",
          "text": [
            "\n"
          ],
          "name": "stderr"
        },
        {
          "output_type": "stream",
          "text": [
            "(2302, 8, 2048)\n",
            "Fighting006.mp4\n",
            "(2, 8, 2048)\n",
            "(2304, 8, 2048)\n",
            "[MoviePy] >>>> Building video new_video.mp4\n",
            "[MoviePy] Writing video new_video.mp4\n"
          ],
          "name": "stdout"
        },
        {
          "output_type": "stream",
          "text": [
            "100%|█████████▉| 654/655 [00:03<00:00, 169.08it/s]\n"
          ],
          "name": "stderr"
        },
        {
          "output_type": "stream",
          "text": [
            "[MoviePy] Done.\n",
            "[MoviePy] >>>> Video ready: new_video.mp4 \n",
            "\n",
            "(2306, 8, 2048)\n",
            "Fighting018.mp4\n",
            "(1, 8, 2048)\n",
            "(2307, 8, 2048)\n",
            "[MoviePy] >>>> Building video new_video.mp4\n",
            "[MoviePy] Writing audio in new_videoTEMP_MPY_wvf_snd.mp3\n"
          ],
          "name": "stdout"
        },
        {
          "output_type": "stream",
          "text": [
            "100%|██████████| 320/320 [00:00<00:00, 1016.02it/s]"
          ],
          "name": "stderr"
        },
        {
          "output_type": "stream",
          "text": [
            "[MoviePy] Done.\n",
            "[MoviePy] Writing video new_video.mp4\n"
          ],
          "name": "stdout"
        },
        {
          "output_type": "stream",
          "text": [
            "\n",
            "100%|██████████| 435/435 [00:01<00:00, 247.28it/s]"
          ],
          "name": "stderr"
        },
        {
          "output_type": "stream",
          "text": [
            "[MoviePy] Done.\n",
            "[MoviePy] >>>> Video ready: new_video.mp4 \n",
            "\n"
          ],
          "name": "stdout"
        },
        {
          "output_type": "stream",
          "text": [
            "\n"
          ],
          "name": "stderr"
        },
        {
          "output_type": "stream",
          "text": [
            "(2308, 8, 2048)\n",
            "Fighting003.mp4\n",
            "(5, 8, 2048)\n",
            "(2313, 8, 2048)\n",
            "[MoviePy] >>>> Building video new_video.mp4\n",
            "[MoviePy] Writing audio in new_videoTEMP_MPY_wvf_snd.mp3\n"
          ],
          "name": "stdout"
        },
        {
          "output_type": "stream",
          "text": [
            "100%|██████████| 954/954 [00:00<00:00, 1003.42it/s]"
          ],
          "name": "stderr"
        },
        {
          "output_type": "stream",
          "text": [
            "[MoviePy] Done.\n",
            "[MoviePy] Writing video new_video.mp4\n"
          ],
          "name": "stdout"
        },
        {
          "output_type": "stream",
          "text": [
            "\n",
            "100%|██████████| 1298/1298 [00:06<00:00, 196.01it/s]\n"
          ],
          "name": "stderr"
        },
        {
          "output_type": "stream",
          "text": [
            "[MoviePy] Done.\n",
            "[MoviePy] >>>> Video ready: new_video.mp4 \n",
            "\n",
            "(2318, 8, 2048)\n",
            "Fighting004.mp4\n",
            "(20, 8, 2048)\n",
            "(2338, 8, 2048)\n",
            "[MoviePy] >>>> Building video new_video.mp4\n",
            "[MoviePy] Writing audio in new_videoTEMP_MPY_wvf_snd.mp3\n"
          ],
          "name": "stdout"
        },
        {
          "output_type": "stream",
          "text": [
            "100%|██████████| 3628/3628 [00:04<00:00, 887.01it/s]"
          ],
          "name": "stderr"
        },
        {
          "output_type": "stream",
          "text": [
            "[MoviePy] Done.\n",
            "[MoviePy] Writing video new_video.mp4\n"
          ],
          "name": "stdout"
        },
        {
          "output_type": "stream",
          "text": [
            "\n",
            "100%|██████████| 4936/4936 [00:22<00:00, 222.24it/s]\n"
          ],
          "name": "stderr"
        },
        {
          "output_type": "stream",
          "text": [
            "[MoviePy] Done.\n",
            "[MoviePy] >>>> Video ready: new_video.mp4 \n",
            "\n",
            "(2358, 8, 2048)\n",
            "Fighting007.mp4\n",
            "(15, 8, 2048)\n",
            "(2373, 8, 2048)\n",
            "[MoviePy] >>>> Building video new_video.mp4\n",
            "[MoviePy] Writing video new_video.mp4\n"
          ],
          "name": "stdout"
        },
        {
          "output_type": "stream",
          "text": [
            "100%|██████████| 3771/3771 [00:29<00:00, 126.86it/s]\n"
          ],
          "name": "stderr"
        },
        {
          "output_type": "stream",
          "text": [
            "[MoviePy] Done.\n",
            "[MoviePy] >>>> Video ready: new_video.mp4 \n",
            "\n",
            "(2388, 8, 2048)\n",
            "Fighting008.mp4\n",
            "(14, 8, 2048)\n",
            "(2402, 8, 2048)\n",
            "[MoviePy] >>>> Building video new_video.mp4\n",
            "[MoviePy] Writing video new_video.mp4\n"
          ],
          "name": "stdout"
        },
        {
          "output_type": "stream",
          "text": [
            "100%|█████████▉| 3336/3337 [00:21<00:00, 152.73it/s]\n"
          ],
          "name": "stderr"
        },
        {
          "output_type": "stream",
          "text": [
            "[MoviePy] Done.\n",
            "[MoviePy] >>>> Video ready: new_video.mp4 \n",
            "\n",
            "(2416, 8, 2048)\n",
            "Fighting010.mp4\n",
            "(12, 8, 2048)\n",
            "(2428, 8, 2048)\n",
            "[MoviePy] >>>> Building video new_video.mp4\n",
            "[MoviePy] Writing video new_video.mp4\n"
          ],
          "name": "stdout"
        },
        {
          "output_type": "stream",
          "text": [
            "100%|█████████▉| 2895/2896 [00:18<00:00, 158.61it/s]\n"
          ],
          "name": "stderr"
        },
        {
          "output_type": "stream",
          "text": [
            "[MoviePy] Done.\n",
            "[MoviePy] >>>> Video ready: new_video.mp4 \n",
            "\n",
            "(2440, 8, 2048)\n",
            "Fighting011.mp4\n",
            "(20, 8, 2048)\n",
            "(2460, 8, 2048)\n",
            "[MoviePy] >>>> Building video new_video.mp4\n",
            "[MoviePy] Writing video new_video.mp4\n"
          ],
          "name": "stdout"
        },
        {
          "output_type": "stream",
          "text": [
            "100%|█████████▉| 4875/4876 [00:25<00:00, 193.95it/s]\n"
          ],
          "name": "stderr"
        },
        {
          "output_type": "stream",
          "text": [
            "[MoviePy] Done.\n",
            "[MoviePy] >>>> Video ready: new_video.mp4 \n",
            "\n",
            "(2480, 8, 2048)\n",
            "Fighting013.mp4\n",
            "(5, 8, 2048)\n",
            "(2485, 8, 2048)\n",
            "[MoviePy] >>>> Building video new_video.mp4\n",
            "[MoviePy] Writing video new_video.mp4\n"
          ],
          "name": "stdout"
        },
        {
          "output_type": "stream",
          "text": [
            "100%|█████████▉| 1392/1393 [00:09<00:00, 143.53it/s]\n"
          ],
          "name": "stderr"
        },
        {
          "output_type": "stream",
          "text": [
            "[MoviePy] Done.\n",
            "[MoviePy] >>>> Video ready: new_video.mp4 \n",
            "\n",
            "(2490, 8, 2048)\n",
            "Fighting014.mp4\n",
            "(5, 8, 2048)\n",
            "(2495, 8, 2048)\n",
            "[MoviePy] >>>> Building video new_video.mp4\n",
            "[MoviePy] Writing audio in new_videoTEMP_MPY_wvf_snd.mp3\n"
          ],
          "name": "stdout"
        },
        {
          "output_type": "stream",
          "text": [
            "100%|██████████| 1035/1035 [00:01<00:00, 1032.47it/s]"
          ],
          "name": "stderr"
        },
        {
          "output_type": "stream",
          "text": [
            "[MoviePy] Done.\n"
          ],
          "name": "stdout"
        },
        {
          "output_type": "stream",
          "text": [
            "\n"
          ],
          "name": "stderr"
        },
        {
          "output_type": "stream",
          "text": [
            "[MoviePy] Writing video new_video.mp4\n"
          ],
          "name": "stdout"
        },
        {
          "output_type": "stream",
          "text": [
            "100%|██████████| 1408/1408 [00:07<00:00, 193.09it/s]\n"
          ],
          "name": "stderr"
        },
        {
          "output_type": "stream",
          "text": [
            "[MoviePy] Done.\n",
            "[MoviePy] >>>> Video ready: new_video.mp4 \n",
            "\n",
            "(2500, 8, 2048)\n",
            "Fighting015.mp4\n",
            "(21, 8, 2048)\n",
            "(2521, 8, 2048)\n",
            "[MoviePy] >>>> Building video new_video.mp4\n",
            "[MoviePy] Writing audio in new_videoTEMP_MPY_wvf_snd.mp3\n"
          ],
          "name": "stdout"
        },
        {
          "output_type": "stream",
          "text": [
            "100%|██████████| 3790/3790 [00:05<00:00, 658.58it/s]"
          ],
          "name": "stderr"
        },
        {
          "output_type": "stream",
          "text": [
            "[MoviePy] Done.\n",
            "[MoviePy] Writing video new_video.mp4\n"
          ],
          "name": "stdout"
        },
        {
          "output_type": "stream",
          "text": [
            "\n",
            "100%|██████████| 5157/5157 [00:32<00:00, 158.75it/s]\n"
          ],
          "name": "stderr"
        },
        {
          "output_type": "stream",
          "text": [
            "[MoviePy] Done.\n",
            "[MoviePy] >>>> Video ready: new_video.mp4 \n",
            "\n",
            "(2542, 8, 2048)\n",
            "Fighting016.mp4\n",
            "(11, 8, 2048)\n",
            "(2553, 8, 2048)\n",
            "[MoviePy] >>>> Building video new_video.mp4\n",
            "[MoviePy] Writing audio in new_videoTEMP_MPY_wvf_snd.mp3\n"
          ],
          "name": "stdout"
        },
        {
          "output_type": "stream",
          "text": [
            "100%|██████████| 1979/1979 [00:02<00:00, 912.64it/s]"
          ],
          "name": "stderr"
        },
        {
          "output_type": "stream",
          "text": [
            "[MoviePy] Done.\n",
            "[MoviePy] Writing video new_video.mp4\n"
          ],
          "name": "stdout"
        },
        {
          "output_type": "stream",
          "text": [
            "\n",
            "100%|██████████| 2692/2692 [00:12<00:00, 210.06it/s]\n"
          ],
          "name": "stderr"
        },
        {
          "output_type": "stream",
          "text": [
            "[MoviePy] Done.\n",
            "[MoviePy] >>>> Video ready: new_video.mp4 \n",
            "\n",
            "(2564, 8, 2048)\n",
            "Fighting017.mp4\n",
            "(5, 8, 2048)\n",
            "(2569, 8, 2048)\n",
            "[MoviePy] >>>> Building video new_video.mp4\n",
            "[MoviePy] Writing audio in new_videoTEMP_MPY_wvf_snd.mp3\n"
          ],
          "name": "stdout"
        },
        {
          "output_type": "stream",
          "text": [
            "100%|██████████| 892/892 [00:00<00:00, 950.14it/s]"
          ],
          "name": "stderr"
        },
        {
          "output_type": "stream",
          "text": [
            "[MoviePy] Done.\n",
            "[MoviePy] Writing video new_video.mp4\n"
          ],
          "name": "stdout"
        },
        {
          "output_type": "stream",
          "text": [
            "\n",
            "100%|██████████| 1213/1213 [00:05<00:00, 217.33it/s]"
          ],
          "name": "stderr"
        },
        {
          "output_type": "stream",
          "text": [
            "[MoviePy] Done.\n",
            "[MoviePy] >>>> Video ready: new_video.mp4 \n",
            "\n"
          ],
          "name": "stdout"
        },
        {
          "output_type": "stream",
          "text": [
            "\n"
          ],
          "name": "stderr"
        },
        {
          "output_type": "stream",
          "text": [
            "(2574, 8, 2048)\n",
            "Fighting019.mp4\n",
            "(9, 8, 2048)\n",
            "(2583, 8, 2048)\n",
            "[MoviePy] >>>> Building video new_video.mp4\n",
            "[MoviePy] Writing audio in new_videoTEMP_MPY_wvf_snd.mp3\n"
          ],
          "name": "stdout"
        },
        {
          "output_type": "stream",
          "text": [
            "100%|██████████| 1613/1613 [00:01<00:00, 1030.87it/s]"
          ],
          "name": "stderr"
        },
        {
          "output_type": "stream",
          "text": [
            "[MoviePy] Done.\n",
            "[MoviePy] Writing video new_video.mp4\n"
          ],
          "name": "stdout"
        },
        {
          "output_type": "stream",
          "text": [
            "\n",
            "100%|██████████| 2194/2194 [00:11<00:00, 197.22it/s]\n"
          ],
          "name": "stderr"
        },
        {
          "output_type": "stream",
          "text": [
            "[MoviePy] Done.\n",
            "[MoviePy] >>>> Video ready: new_video.mp4 \n",
            "\n",
            "(2592, 8, 2048)\n",
            "Fighting020.mp4\n",
            "(9, 8, 2048)\n",
            "(2601, 8, 2048)\n",
            "[MoviePy] >>>> Building video new_video.mp4\n",
            "[MoviePy] Writing audio in new_videoTEMP_MPY_wvf_snd.mp3\n"
          ],
          "name": "stdout"
        },
        {
          "output_type": "stream",
          "text": [
            "100%|██████████| 1625/1625 [00:01<00:00, 1462.64it/s]"
          ],
          "name": "stderr"
        },
        {
          "output_type": "stream",
          "text": [
            "[MoviePy] Done.\n",
            "[MoviePy] Writing video new_video.mp4\n"
          ],
          "name": "stdout"
        },
        {
          "output_type": "stream",
          "text": [
            "\n",
            "100%|██████████| 2211/2211 [00:15<00:00, 142.43it/s]\n"
          ],
          "name": "stderr"
        },
        {
          "output_type": "stream",
          "text": [
            "[MoviePy] Done.\n",
            "[MoviePy] >>>> Video ready: new_video.mp4 \n",
            "\n",
            "(2610, 8, 2048)\n",
            "Fighting021.mp4\n",
            "(13, 8, 2048)\n",
            "(2623, 8, 2048)\n",
            "[MoviePy] >>>> Building video new_video.mp4\n",
            "[MoviePy] Writing audio in new_videoTEMP_MPY_wvf_snd.mp3\n"
          ],
          "name": "stdout"
        },
        {
          "output_type": "stream",
          "text": [
            "100%|██████████| 2324/2324 [00:02<00:00, 1032.89it/s]"
          ],
          "name": "stderr"
        },
        {
          "output_type": "stream",
          "text": [
            "[MoviePy] Done.\n",
            "[MoviePy] Writing video new_video.mp4\n"
          ],
          "name": "stdout"
        },
        {
          "output_type": "stream",
          "text": [
            "\n",
            "100%|██████████| 3162/3162 [00:14<00:00, 222.04it/s]\n"
          ],
          "name": "stderr"
        },
        {
          "output_type": "stream",
          "text": [
            "[MoviePy] Done.\n",
            "[MoviePy] >>>> Video ready: new_video.mp4 \n",
            "\n",
            "(2636, 8, 2048)\n",
            "Fighting022.mp4\n",
            "(17, 8, 2048)\n",
            "(2653, 8, 2048)\n",
            "[MoviePy] >>>> Building video new_video.mp4\n",
            "[MoviePy] Writing audio in new_videoTEMP_MPY_wvf_snd.mp3\n"
          ],
          "name": "stdout"
        },
        {
          "output_type": "stream",
          "text": [
            "100%|██████████| 3140/3140 [00:03<00:00, 1027.87it/s]"
          ],
          "name": "stderr"
        },
        {
          "output_type": "stream",
          "text": [
            "[MoviePy] Done.\n",
            "[MoviePy] Writing video new_video.mp4\n"
          ],
          "name": "stdout"
        },
        {
          "output_type": "stream",
          "text": [
            "\n",
            "100%|██████████| 4271/4271 [00:24<00:00, 175.35it/s]\n"
          ],
          "name": "stderr"
        },
        {
          "output_type": "stream",
          "text": [
            "[MoviePy] Done.\n",
            "[MoviePy] >>>> Video ready: new_video.mp4 \n",
            "\n",
            "(2670, 8, 2048)\n",
            "Fighting024.mp4\n",
            "(18, 8, 2048)\n",
            "(2688, 8, 2048)\n",
            "[MoviePy] >>>> Building video new_video.mp4\n",
            "[MoviePy] Writing audio in new_videoTEMP_MPY_wvf_snd.mp3\n"
          ],
          "name": "stdout"
        },
        {
          "output_type": "stream",
          "text": [
            "100%|██████████| 3326/3326 [00:03<00:00, 1023.51it/s]"
          ],
          "name": "stderr"
        },
        {
          "output_type": "stream",
          "text": [
            "[MoviePy] Done.\n",
            "[MoviePy] Writing video new_video.mp4\n"
          ],
          "name": "stdout"
        },
        {
          "output_type": "stream",
          "text": [
            "\n",
            "100%|██████████| 4525/4525 [00:27<00:00, 163.12it/s]\n"
          ],
          "name": "stderr"
        },
        {
          "output_type": "stream",
          "text": [
            "[MoviePy] Done.\n",
            "[MoviePy] >>>> Video ready: new_video.mp4 \n",
            "\n",
            "(2706, 8, 2048)\n",
            "Fighting025.mp4\n",
            "(11, 8, 2048)\n",
            "(2717, 8, 2048)\n",
            "[MoviePy] >>>> Building video new_video.mp4\n",
            "[MoviePy] Writing audio in new_videoTEMP_MPY_wvf_snd.mp3\n"
          ],
          "name": "stdout"
        },
        {
          "output_type": "stream",
          "text": [
            "100%|██████████| 1990/1990 [00:01<00:00, 1036.91it/s]"
          ],
          "name": "stderr"
        },
        {
          "output_type": "stream",
          "text": [
            "[MoviePy] Done.\n",
            "[MoviePy] Writing video new_video.mp4\n"
          ],
          "name": "stdout"
        },
        {
          "output_type": "stream",
          "text": [
            "\n",
            "100%|██████████| 2707/2707 [00:13<00:00, 201.74it/s]\n"
          ],
          "name": "stderr"
        },
        {
          "output_type": "stream",
          "text": [
            "[MoviePy] Done.\n",
            "[MoviePy] >>>> Video ready: new_video.mp4 \n",
            "\n",
            "(2728, 8, 2048)\n",
            "Fighting026.mp4\n",
            "(12, 8, 2048)\n",
            "(2740, 8, 2048)\n",
            "[MoviePy] >>>> Building video new_video.mp4\n",
            "[MoviePy] Writing audio in new_videoTEMP_MPY_wvf_snd.mp3\n"
          ],
          "name": "stdout"
        },
        {
          "output_type": "stream",
          "text": [
            "100%|██████████| 2267/2267 [00:02<00:00, 1014.17it/s]"
          ],
          "name": "stderr"
        },
        {
          "output_type": "stream",
          "text": [
            "[MoviePy] Done.\n",
            "[MoviePy] Writing video new_video.mp4\n"
          ],
          "name": "stdout"
        },
        {
          "output_type": "stream",
          "text": [
            "\n",
            "100%|██████████| 3084/3084 [00:12<00:00, 237.31it/s]\n"
          ],
          "name": "stderr"
        },
        {
          "output_type": "stream",
          "text": [
            "[MoviePy] Done.\n",
            "[MoviePy] >>>> Video ready: new_video.mp4 \n",
            "\n",
            "(2752, 8, 2048)\n",
            "Fighting027.mp4\n",
            "(12, 8, 2048)\n",
            "(2764, 8, 2048)\n",
            "[MoviePy] >>>> Building video new_video.mp4\n",
            "[MoviePy] Writing audio in new_videoTEMP_MPY_wvf_snd.mp3\n"
          ],
          "name": "stdout"
        },
        {
          "output_type": "stream",
          "text": [
            "100%|██████████| 2223/2223 [00:02<00:00, 930.91it/s]"
          ],
          "name": "stderr"
        },
        {
          "output_type": "stream",
          "text": [
            "[MoviePy] Done.\n",
            "[MoviePy] Writing video new_video.mp4\n"
          ],
          "name": "stdout"
        },
        {
          "output_type": "stream",
          "text": [
            "\n",
            "100%|██████████| 3024/3024 [00:16<00:00, 180.21it/s]"
          ],
          "name": "stderr"
        },
        {
          "output_type": "stream",
          "text": [
            "[MoviePy] Done.\n",
            "[MoviePy] >>>> Video ready: new_video.mp4 \n",
            "\n"
          ],
          "name": "stdout"
        },
        {
          "output_type": "stream",
          "text": [
            "\n"
          ],
          "name": "stderr"
        },
        {
          "output_type": "stream",
          "text": [
            "(2776, 8, 2048)\n",
            "Fighting028.mp4\n",
            "(9, 8, 2048)\n",
            "(2785, 8, 2048)\n",
            "[MoviePy] >>>> Building video new_video.mp4\n",
            "[MoviePy] Writing audio in new_videoTEMP_MPY_wvf_snd.mp3\n"
          ],
          "name": "stdout"
        },
        {
          "output_type": "stream",
          "text": [
            "100%|██████████| 1646/1646 [00:01<00:00, 990.59it/s]"
          ],
          "name": "stderr"
        },
        {
          "output_type": "stream",
          "text": [
            "[MoviePy] Done.\n",
            "[MoviePy] Writing video new_video.mp4\n"
          ],
          "name": "stdout"
        },
        {
          "output_type": "stream",
          "text": [
            "\n",
            "100%|██████████| 2239/2239 [00:11<00:00, 187.06it/s]\n"
          ],
          "name": "stderr"
        },
        {
          "output_type": "stream",
          "text": [
            "[MoviePy] Done.\n",
            "[MoviePy] >>>> Video ready: new_video.mp4 \n",
            "\n",
            "(2794, 8, 2048)\n",
            "Fighting029.mp4\n",
            "(17, 8, 2048)\n",
            "(2811, 8, 2048)\n",
            "[MoviePy] >>>> Building video new_video.mp4\n",
            "[MoviePy] Writing audio in new_videoTEMP_MPY_wvf_snd.mp3\n"
          ],
          "name": "stdout"
        },
        {
          "output_type": "stream",
          "text": [
            "100%|██████████| 3135/3135 [00:03<00:00, 1019.58it/s]"
          ],
          "name": "stderr"
        },
        {
          "output_type": "stream",
          "text": [
            "[MoviePy] Done.\n",
            "[MoviePy] Writing video new_video.mp4\n"
          ],
          "name": "stdout"
        },
        {
          "output_type": "stream",
          "text": [
            "\n",
            "100%|██████████| 4265/4265 [00:18<00:00, 226.87it/s]\n"
          ],
          "name": "stderr"
        },
        {
          "output_type": "stream",
          "text": [
            "[MoviePy] Done.\n",
            "[MoviePy] >>>> Video ready: new_video.mp4 \n",
            "\n",
            "(2828, 8, 2048)\n",
            "RoadAccidents005.mp4\n",
            "(1, 8, 2048)\n",
            "(2829, 8, 2048)\n",
            "[MoviePy] >>>> Building video new_video.mp4\n",
            "[MoviePy] Writing video new_video.mp4\n"
          ],
          "name": "stdout"
        },
        {
          "output_type": "stream",
          "text": [
            "100%|██████████| 225/225 [00:01<00:00, 166.80it/s]\n"
          ],
          "name": "stderr"
        },
        {
          "output_type": "stream",
          "text": [
            "[MoviePy] Done.\n",
            "[MoviePy] >>>> Video ready: new_video.mp4 \n",
            "\n",
            "(2830, 8, 2048)\n",
            "RoadAccidents003.mp4\n",
            "(2, 8, 2048)\n",
            "(2832, 8, 2048)\n",
            "[MoviePy] >>>> Building video new_video.mp4\n",
            "[MoviePy] Writing video new_video.mp4\n"
          ],
          "name": "stdout"
        },
        {
          "output_type": "stream",
          "text": [
            "100%|██████████| 471/471 [00:02<00:00, 215.21it/s]\n"
          ],
          "name": "stderr"
        },
        {
          "output_type": "stream",
          "text": [
            "[MoviePy] Done.\n",
            "[MoviePy] >>>> Video ready: new_video.mp4 \n",
            "\n",
            "(2834, 8, 2048)\n",
            "RoadAccidents009.mp4\n",
            "(3, 8, 2048)\n",
            "(2837, 8, 2048)\n",
            "[MoviePy] >>>> Building video new_video.mp4\n",
            "[MoviePy] Writing video new_video.mp4\n"
          ],
          "name": "stdout"
        },
        {
          "output_type": "stream",
          "text": [
            "100%|██████████| 723/723 [00:03<00:00, 209.01it/s]\n"
          ],
          "name": "stderr"
        },
        {
          "output_type": "stream",
          "text": [
            "[MoviePy] Done.\n",
            "[MoviePy] >>>> Video ready: new_video.mp4 \n",
            "\n",
            "(2840, 8, 2048)\n",
            "RoadAccidents010.mp4\n",
            "(1, 8, 2048)\n",
            "(2841, 8, 2048)\n",
            "[MoviePy] >>>> Building video new_video.mp4\n",
            "[MoviePy] Writing video new_video.mp4\n"
          ],
          "name": "stdout"
        },
        {
          "output_type": "stream",
          "text": [
            "100%|█████████▉| 252/253 [00:01<00:00, 155.23it/s]\n"
          ],
          "name": "stderr"
        },
        {
          "output_type": "stream",
          "text": [
            "[MoviePy] Done.\n",
            "[MoviePy] >>>> Video ready: new_video.mp4 \n",
            "\n",
            "(2842, 8, 2048)\n",
            "RoadAccidents015.mp4\n",
            "(1, 8, 2048)\n",
            "(2843, 8, 2048)\n",
            "[MoviePy] >>>> Building video new_video.mp4\n",
            "[MoviePy] Writing video new_video.mp4\n"
          ],
          "name": "stdout"
        },
        {
          "output_type": "stream",
          "text": [
            "100%|██████████| 331/331 [00:01<00:00, 232.36it/s]\n"
          ],
          "name": "stderr"
        },
        {
          "output_type": "stream",
          "text": [
            "[MoviePy] Done.\n",
            "[MoviePy] >>>> Video ready: new_video.mp4 \n",
            "\n",
            "(2844, 8, 2048)\n",
            "RoadAccidents012.mp4\n",
            "(1, 8, 2048)\n",
            "(2845, 8, 2048)\n",
            "[MoviePy] >>>> Building video new_video.mp4\n",
            "[MoviePy] Writing video new_video.mp4\n"
          ],
          "name": "stdout"
        },
        {
          "output_type": "stream",
          "text": [
            "100%|██████████| 405/405 [00:02<00:00, 193.73it/s]\n"
          ],
          "name": "stderr"
        },
        {
          "output_type": "stream",
          "text": [
            "[MoviePy] Done.\n",
            "[MoviePy] >>>> Video ready: new_video.mp4 \n",
            "\n",
            "(2846, 8, 2048)\n",
            "RoadAccidents008.mp4\n",
            "(4, 8, 2048)\n",
            "(2850, 8, 2048)\n",
            "[MoviePy] >>>> Building video new_video.mp4\n",
            "[MoviePy] Writing video new_video.mp4\n"
          ],
          "name": "stdout"
        },
        {
          "output_type": "stream",
          "text": [
            "100%|██████████| 1155/1155 [00:05<00:00, 202.74it/s]\n"
          ],
          "name": "stderr"
        },
        {
          "output_type": "stream",
          "text": [
            "[MoviePy] Done.\n",
            "[MoviePy] >>>> Video ready: new_video.mp4 \n",
            "\n",
            "(2854, 8, 2048)\n",
            "RoadAccidents004.mp4\n",
            "(1, 8, 2048)\n",
            "(2855, 8, 2048)\n",
            "[MoviePy] >>>> Building video new_video.mp4\n",
            "[MoviePy] Writing video new_video.mp4\n"
          ],
          "name": "stdout"
        },
        {
          "output_type": "stream",
          "text": [
            "100%|██████████| 265/265 [00:01<00:00, 184.77it/s]\n"
          ],
          "name": "stderr"
        },
        {
          "output_type": "stream",
          "text": [
            "[MoviePy] Done.\n",
            "[MoviePy] >>>> Video ready: new_video.mp4 \n",
            "\n",
            "(2856, 8, 2048)\n",
            "RoadAccidents007.mp4\n",
            "(3, 8, 2048)\n",
            "(2859, 8, 2048)\n",
            "[MoviePy] >>>> Building video new_video.mp4\n",
            "[MoviePy] Writing video new_video.mp4\n"
          ],
          "name": "stdout"
        },
        {
          "output_type": "stream",
          "text": [
            "100%|██████████| 888/888 [00:04<00:00, 186.64it/s]\n"
          ],
          "name": "stderr"
        },
        {
          "output_type": "stream",
          "text": [
            "[MoviePy] Done.\n",
            "[MoviePy] >>>> Video ready: new_video.mp4 \n",
            "\n",
            "(2862, 8, 2048)\n",
            "RoadAccidents006.mp4\n",
            "(2, 8, 2048)\n",
            "(2864, 8, 2048)\n",
            "[MoviePy] >>>> Building video new_video.mp4\n",
            "[MoviePy] Writing video new_video.mp4\n"
          ],
          "name": "stdout"
        },
        {
          "output_type": "stream",
          "text": [
            "100%|█████████▉| 606/607 [00:02<00:00, 215.69it/s]"
          ],
          "name": "stderr"
        },
        {
          "output_type": "stream",
          "text": [
            "[MoviePy] Done.\n",
            "[MoviePy] >>>> Video ready: new_video.mp4 \n",
            "\n"
          ],
          "name": "stdout"
        },
        {
          "output_type": "stream",
          "text": [
            "\n"
          ],
          "name": "stderr"
        },
        {
          "output_type": "stream",
          "text": [
            "(2866, 8, 2048)\n",
            "RoadAccidents002.mp4\n",
            "(0,)\n",
            "(2866, 8, 2048)\n",
            "[MoviePy] >>>> Building video new_video.mp4\n",
            "[MoviePy] Writing audio in new_videoTEMP_MPY_wvf_snd.mp3\n"
          ],
          "name": "stdout"
        },
        {
          "output_type": "stream",
          "text": [
            "100%|██████████| 120/120 [00:00<00:00, 1022.70it/s]"
          ],
          "name": "stderr"
        },
        {
          "output_type": "stream",
          "text": [
            "[MoviePy] Done.\n",
            "[MoviePy] Writing video new_video.mp4\n"
          ],
          "name": "stdout"
        },
        {
          "output_type": "stream",
          "text": [
            "\n",
            "100%|██████████| 164/164 [00:00<00:00, 166.31it/s]\n"
          ],
          "name": "stderr"
        },
        {
          "output_type": "stream",
          "text": [
            "[MoviePy] Done.\n",
            "[MoviePy] >>>> Video ready: new_video.mp4 \n",
            "\n",
            "(2866, 8, 2048)\n",
            "RoadAccidents001.mp4\n",
            "(3, 8, 2048)\n",
            "(2869, 8, 2048)\n",
            "[MoviePy] >>>> Building video new_video.mp4\n",
            "[MoviePy] Writing audio in new_videoTEMP_MPY_wvf_snd.mp3\n"
          ],
          "name": "stdout"
        },
        {
          "output_type": "stream",
          "text": [
            "100%|██████████| 677/677 [00:00<00:00, 948.39it/s]"
          ],
          "name": "stderr"
        },
        {
          "output_type": "stream",
          "text": [
            "[MoviePy] Done.\n",
            "[MoviePy] Writing video new_video.mp4\n"
          ],
          "name": "stdout"
        },
        {
          "output_type": "stream",
          "text": [
            "\n",
            "100%|██████████| 921/921 [00:04<00:00, 210.43it/s]\n"
          ],
          "name": "stderr"
        },
        {
          "output_type": "stream",
          "text": [
            "[MoviePy] Done.\n",
            "[MoviePy] >>>> Video ready: new_video.mp4 \n",
            "\n",
            "(2872, 8, 2048)\n",
            "RoadAccidents011.mp4\n",
            "(4, 8, 2048)\n",
            "(2876, 8, 2048)\n",
            "[MoviePy] >>>> Building video new_video.mp4\n",
            "[MoviePy] Writing video new_video.mp4\n"
          ],
          "name": "stdout"
        },
        {
          "output_type": "stream",
          "text": [
            "100%|██████████| 1080/1080 [00:06<00:00, 178.65it/s]\n"
          ],
          "name": "stderr"
        },
        {
          "output_type": "stream",
          "text": [
            "[MoviePy] Done.\n",
            "[MoviePy] >>>> Video ready: new_video.mp4 \n",
            "\n",
            "(2880, 8, 2048)\n",
            "RoadAccidents026.mp4\n",
            "(2, 8, 2048)\n",
            "(2882, 8, 2048)\n",
            "[MoviePy] >>>> Building video new_video.mp4\n",
            "[MoviePy] Writing video new_video.mp4\n"
          ],
          "name": "stdout"
        },
        {
          "output_type": "stream",
          "text": [
            "100%|██████████| 621/621 [00:03<00:00, 194.49it/s]\n"
          ],
          "name": "stderr"
        },
        {
          "output_type": "stream",
          "text": [
            "[MoviePy] Done.\n",
            "[MoviePy] >>>> Video ready: new_video.mp4 \n",
            "\n",
            "(2884, 8, 2048)\n",
            "RoadAccidents029.mp4\n",
            "(2, 8, 2048)\n",
            "(2886, 8, 2048)\n",
            "[MoviePy] >>>> Building video new_video.mp4\n",
            "[MoviePy] Writing video new_video.mp4\n"
          ],
          "name": "stdout"
        },
        {
          "output_type": "stream",
          "text": [
            "100%|██████████| 525/525 [00:02<00:00, 216.28it/s]\n"
          ],
          "name": "stderr"
        },
        {
          "output_type": "stream",
          "text": [
            "[MoviePy] Done.\n",
            "[MoviePy] >>>> Video ready: new_video.mp4 \n",
            "\n",
            "(2888, 8, 2048)\n",
            "RoadAccidents027.mp4\n",
            "(0,)\n",
            "(2888, 8, 2048)\n",
            "[MoviePy] >>>> Building video new_video.mp4\n",
            "[MoviePy] Writing video new_video.mp4\n"
          ],
          "name": "stdout"
        },
        {
          "output_type": "stream",
          "text": [
            "100%|██████████| 105/105 [00:00<00:00, 178.37it/s]\n"
          ],
          "name": "stderr"
        },
        {
          "output_type": "stream",
          "text": [
            "[MoviePy] Done.\n",
            "[MoviePy] >>>> Video ready: new_video.mp4 \n",
            "\n",
            "(2888, 8, 2048)\n",
            "RoadAccidents028.mp4\n",
            "(1, 8, 2048)\n",
            "(2889, 8, 2048)\n",
            "[MoviePy] >>>> Building video new_video.mp4\n",
            "[MoviePy] Writing video new_video.mp4\n"
          ],
          "name": "stdout"
        },
        {
          "output_type": "stream",
          "text": [
            "100%|█████████▉| 390/391 [00:01<00:00, 219.85it/s]"
          ],
          "name": "stderr"
        },
        {
          "output_type": "stream",
          "text": [
            "[MoviePy] Done.\n",
            "[MoviePy] >>>> Video ready: new_video.mp4 \n",
            "\n"
          ],
          "name": "stdout"
        },
        {
          "output_type": "stream",
          "text": [
            "\n"
          ],
          "name": "stderr"
        },
        {
          "output_type": "stream",
          "text": [
            "(2890, 8, 2048)\n",
            "RoadAccidents021.mp4\n",
            "(0,)\n",
            "(2890, 8, 2048)\n",
            "[MoviePy] >>>> Building video new_video.mp4\n",
            "[MoviePy] Writing video new_video.mp4\n"
          ],
          "name": "stdout"
        },
        {
          "output_type": "stream",
          "text": [
            "100%|██████████| 156/156 [00:00<00:00, 209.28it/s]\n"
          ],
          "name": "stderr"
        },
        {
          "output_type": "stream",
          "text": [
            "[MoviePy] Done.\n",
            "[MoviePy] >>>> Video ready: new_video.mp4 \n",
            "\n",
            "(2890, 8, 2048)\n",
            "RoadAccidents031.mp4\n",
            "(2, 8, 2048)\n",
            "(2892, 8, 2048)\n",
            "[MoviePy] >>>> Building video new_video.mp4\n",
            "[MoviePy] Writing audio in new_videoTEMP_MPY_wvf_snd.mp3\n"
          ],
          "name": "stdout"
        },
        {
          "output_type": "stream",
          "text": [
            "100%|██████████| 448/448 [00:00<00:00, 1015.23it/s]"
          ],
          "name": "stderr"
        },
        {
          "output_type": "stream",
          "text": [
            "[MoviePy] Done.\n",
            "[MoviePy] Writing video new_video.mp4\n"
          ],
          "name": "stdout"
        },
        {
          "output_type": "stream",
          "text": [
            "\n",
            "100%|██████████| 609/609 [00:02<00:00, 234.05it/s]"
          ],
          "name": "stderr"
        },
        {
          "output_type": "stream",
          "text": [
            "[MoviePy] Done.\n",
            "[MoviePy] >>>> Video ready: new_video.mp4 \n",
            "\n"
          ],
          "name": "stdout"
        },
        {
          "output_type": "stream",
          "text": [
            "\n"
          ],
          "name": "stderr"
        },
        {
          "output_type": "stream",
          "text": [
            "(2894, 8, 2048)\n",
            "RoadAccidents030.mp4\n",
            "(2, 8, 2048)\n",
            "(2896, 8, 2048)\n",
            "[MoviePy] >>>> Building video new_video.mp4\n",
            "[MoviePy] Writing audio in new_videoTEMP_MPY_wvf_snd.mp3\n"
          ],
          "name": "stdout"
        },
        {
          "output_type": "stream",
          "text": [
            "100%|██████████| 463/463 [00:00<00:00, 1005.19it/s]"
          ],
          "name": "stderr"
        },
        {
          "output_type": "stream",
          "text": [
            "[MoviePy] Done.\n",
            "[MoviePy] Writing video new_video.mp4\n"
          ],
          "name": "stdout"
        },
        {
          "output_type": "stream",
          "text": [
            "\n",
            "100%|██████████| 630/630 [00:02<00:00, 210.56it/s]"
          ],
          "name": "stderr"
        },
        {
          "output_type": "stream",
          "text": [
            "[MoviePy] Done.\n",
            "[MoviePy] >>>> Video ready: new_video.mp4 \n",
            "\n"
          ],
          "name": "stdout"
        },
        {
          "output_type": "stream",
          "text": [
            "\n"
          ],
          "name": "stderr"
        },
        {
          "output_type": "stream",
          "text": [
            "(2898, 8, 2048)\n",
            "RoadAccidents022.mp4\n",
            "(2, 8, 2048)\n",
            "(2900, 8, 2048)\n",
            "[MoviePy] >>>> Building video new_video.mp4\n",
            "[MoviePy] Writing video new_video.mp4\n"
          ],
          "name": "stdout"
        },
        {
          "output_type": "stream",
          "text": [
            "100%|██████████| 606/606 [00:03<00:00, 192.67it/s]\n"
          ],
          "name": "stderr"
        },
        {
          "output_type": "stream",
          "text": [
            "[MoviePy] Done.\n",
            "[MoviePy] >>>> Video ready: new_video.mp4 \n",
            "\n",
            "(2902, 8, 2048)\n",
            "RoadAccidents019.mp4\n",
            "(3, 8, 2048)\n",
            "(2905, 8, 2048)\n",
            "[MoviePy] >>>> Building video new_video.mp4\n",
            "[MoviePy] Writing video new_video.mp4\n"
          ],
          "name": "stdout"
        },
        {
          "output_type": "stream",
          "text": [
            "100%|██████████| 832/832 [00:04<00:00, 199.65it/s]\n"
          ],
          "name": "stderr"
        },
        {
          "output_type": "stream",
          "text": [
            "[MoviePy] Done.\n",
            "[MoviePy] >>>> Video ready: new_video.mp4 \n",
            "\n",
            "(2908, 8, 2048)\n",
            "RoadAccidents013.mp4\n",
            "(6, 8, 2048)\n",
            "(2914, 8, 2048)\n",
            "[MoviePy] >>>> Building video new_video.mp4\n",
            "[MoviePy] Writing video new_video.mp4\n"
          ],
          "name": "stdout"
        },
        {
          "output_type": "stream",
          "text": [
            "100%|██████████| 1524/1524 [00:08<00:00, 187.56it/s]\n"
          ],
          "name": "stderr"
        },
        {
          "output_type": "stream",
          "text": [
            "[MoviePy] Done.\n",
            "[MoviePy] >>>> Video ready: new_video.mp4 \n",
            "\n",
            "(2920, 8, 2048)\n",
            "RoadAccidents024.mp4\n",
            "(5, 8, 2048)\n",
            "(2925, 8, 2048)\n",
            "[MoviePy] >>>> Building video new_video.mp4\n",
            "[MoviePy] Writing video new_video.mp4\n"
          ],
          "name": "stdout"
        },
        {
          "output_type": "stream",
          "text": [
            "100%|██████████| 1215/1215 [00:05<00:00, 223.15it/s]\n"
          ],
          "name": "stderr"
        },
        {
          "output_type": "stream",
          "text": [
            "[MoviePy] Done.\n",
            "[MoviePy] >>>> Video ready: new_video.mp4 \n",
            "\n",
            "(2930, 8, 2048)\n",
            "RoadAccidents033.mp4\n",
            "(1, 8, 2048)\n",
            "(2931, 8, 2048)\n",
            "[MoviePy] >>>> Building video new_video.mp4\n",
            "[MoviePy] Writing audio in new_videoTEMP_MPY_wvf_snd.mp3\n"
          ],
          "name": "stdout"
        },
        {
          "output_type": "stream",
          "text": [
            "100%|██████████| 180/180 [00:00<00:00, 1040.14it/s]"
          ],
          "name": "stderr"
        },
        {
          "output_type": "stream",
          "text": [
            "[MoviePy] Done.\n",
            "[MoviePy] Writing video new_video.mp4\n"
          ],
          "name": "stdout"
        },
        {
          "output_type": "stream",
          "text": [
            "\n",
            "100%|██████████| 244/244 [00:01<00:00, 180.34it/s]\n"
          ],
          "name": "stderr"
        },
        {
          "output_type": "stream",
          "text": [
            "[MoviePy] Done.\n",
            "[MoviePy] >>>> Video ready: new_video.mp4 \n",
            "\n",
            "(2932, 8, 2048)\n",
            "RoadAccidents044.mp4\n",
            "(0,)\n",
            "(2932, 8, 2048)\n",
            "[MoviePy] >>>> Building video new_video.mp4\n",
            "[MoviePy] Writing audio in new_videoTEMP_MPY_wvf_snd.mp3\n"
          ],
          "name": "stdout"
        },
        {
          "output_type": "stream",
          "text": [
            "100%|██████████| 141/141 [00:00<00:00, 868.74it/s]"
          ],
          "name": "stderr"
        },
        {
          "output_type": "stream",
          "text": [
            "[MoviePy] Done.\n",
            "[MoviePy] Writing video new_video.mp4\n"
          ],
          "name": "stdout"
        },
        {
          "output_type": "stream",
          "text": [
            "\n",
            "100%|██████████| 192/192 [00:00<00:00, 217.07it/s]\n"
          ],
          "name": "stderr"
        },
        {
          "output_type": "stream",
          "text": [
            "[MoviePy] Done.\n",
            "[MoviePy] >>>> Video ready: new_video.mp4 \n",
            "\n",
            "(2932, 8, 2048)\n",
            "RoadAccidents043.mp4\n",
            "(0,)\n",
            "(2932, 8, 2048)\n",
            "[MoviePy] >>>> Building video new_video.mp4\n",
            "[MoviePy] Writing audio in new_videoTEMP_MPY_wvf_snd.mp3\n"
          ],
          "name": "stdout"
        },
        {
          "output_type": "stream",
          "text": [
            "100%|██████████| 123/123 [00:00<00:00, 731.98it/s]"
          ],
          "name": "stderr"
        },
        {
          "output_type": "stream",
          "text": [
            "[MoviePy] Done.\n",
            "[MoviePy] Writing video new_video.mp4\n"
          ],
          "name": "stdout"
        },
        {
          "output_type": "stream",
          "text": [
            "\n",
            "100%|██████████| 168/168 [00:00<00:00, 212.66it/s]\n"
          ],
          "name": "stderr"
        },
        {
          "output_type": "stream",
          "text": [
            "[MoviePy] Done.\n",
            "[MoviePy] >>>> Video ready: new_video.mp4 \n",
            "\n",
            "(2932, 8, 2048)\n",
            "RoadAccidents038.mp4\n",
            "(1, 8, 2048)\n",
            "(2933, 8, 2048)\n",
            "[MoviePy] >>>> Building video new_video.mp4\n",
            "[MoviePy] Writing audio in new_videoTEMP_MPY_wvf_snd.mp3\n"
          ],
          "name": "stdout"
        },
        {
          "output_type": "stream",
          "text": [
            "100%|██████████| 236/236 [00:00<00:00, 951.29it/s]"
          ],
          "name": "stderr"
        },
        {
          "output_type": "stream",
          "text": [
            "[MoviePy] Done.\n",
            "[MoviePy] Writing video new_video.mp4\n"
          ],
          "name": "stdout"
        },
        {
          "output_type": "stream",
          "text": [
            "\n",
            "100%|██████████| 321/321 [00:01<00:00, 225.22it/s]\n"
          ],
          "name": "stderr"
        },
        {
          "output_type": "stream",
          "text": [
            "[MoviePy] Done.\n",
            "[MoviePy] >>>> Video ready: new_video.mp4 \n",
            "\n",
            "(2934, 8, 2048)\n",
            "RoadAccidents048.mp4\n",
            "(2, 8, 2048)\n",
            "(2936, 8, 2048)\n",
            "[MoviePy] >>>> Building video new_video.mp4\n",
            "[MoviePy] Writing audio in new_videoTEMP_MPY_wvf_snd.mp3\n"
          ],
          "name": "stdout"
        },
        {
          "output_type": "stream",
          "text": [
            "100%|██████████| 447/447 [00:00<00:00, 851.86it/s]"
          ],
          "name": "stderr"
        },
        {
          "output_type": "stream",
          "text": [
            "[MoviePy] Done.\n",
            "[MoviePy] Writing video new_video.mp4\n"
          ],
          "name": "stdout"
        },
        {
          "output_type": "stream",
          "text": [
            "\n",
            "100%|██████████| 607/607 [00:02<00:00, 222.69it/s]\n"
          ],
          "name": "stderr"
        },
        {
          "output_type": "stream",
          "text": [
            "[MoviePy] Done.\n",
            "[MoviePy] >>>> Video ready: new_video.mp4 \n",
            "\n",
            "(2938, 8, 2048)\n",
            "RoadAccidents051.mp4\n",
            "(1, 8, 2048)\n",
            "(2939, 8, 2048)\n",
            "[MoviePy] >>>> Building video new_video.mp4\n",
            "[MoviePy] Writing audio in new_videoTEMP_MPY_wvf_snd.mp3\n"
          ],
          "name": "stdout"
        },
        {
          "output_type": "stream",
          "text": [
            "100%|██████████| 173/173 [00:00<00:00, 864.39it/s]"
          ],
          "name": "stderr"
        },
        {
          "output_type": "stream",
          "text": [
            "[MoviePy] Done.\n",
            "[MoviePy] Writing video new_video.mp4\n"
          ],
          "name": "stdout"
        },
        {
          "output_type": "stream",
          "text": [
            "\n",
            "100%|██████████| 235/235 [00:01<00:00, 232.92it/s]\n"
          ],
          "name": "stderr"
        },
        {
          "output_type": "stream",
          "text": [
            "[MoviePy] Done.\n",
            "[MoviePy] >>>> Video ready: new_video.mp4 \n",
            "\n",
            "(2940, 8, 2048)\n",
            "RoadAccidents046.mp4\n",
            "(1, 8, 2048)\n",
            "(2941, 8, 2048)\n",
            "[MoviePy] >>>> Building video new_video.mp4\n",
            "[MoviePy] Writing audio in new_videoTEMP_MPY_wvf_snd.mp3\n"
          ],
          "name": "stdout"
        },
        {
          "output_type": "stream",
          "text": [
            "100%|██████████| 311/311 [00:00<00:00, 1041.67it/s]"
          ],
          "name": "stderr"
        },
        {
          "output_type": "stream",
          "text": [
            "[MoviePy] Done.\n",
            "[MoviePy] Writing video new_video.mp4\n"
          ],
          "name": "stdout"
        },
        {
          "output_type": "stream",
          "text": [
            "\n",
            "100%|█████████▉| 423/424 [00:01<00:00, 217.07it/s]\n"
          ],
          "name": "stderr"
        },
        {
          "output_type": "stream",
          "text": [
            "[MoviePy] Done.\n",
            "[MoviePy] >>>> Video ready: new_video.mp4 \n",
            "\n",
            "(2942, 8, 2048)\n",
            "RoadAccidents039.mp4\n",
            "(1, 8, 2048)\n",
            "(2943, 8, 2048)\n",
            "[MoviePy] >>>> Building video new_video.mp4\n",
            "[MoviePy] Writing audio in new_videoTEMP_MPY_wvf_snd.mp3\n"
          ],
          "name": "stdout"
        },
        {
          "output_type": "stream",
          "text": [
            "100%|██████████| 159/159 [00:00<00:00, 874.59it/s]"
          ],
          "name": "stderr"
        },
        {
          "output_type": "stream",
          "text": [
            "[MoviePy] Done.\n",
            "[MoviePy] Writing video new_video.mp4\n"
          ],
          "name": "stdout"
        },
        {
          "output_type": "stream",
          "text": [
            "\n",
            "100%|██████████| 217/217 [00:00<00:00, 220.55it/s]\n"
          ],
          "name": "stderr"
        },
        {
          "output_type": "stream",
          "text": [
            "[MoviePy] Done.\n",
            "[MoviePy] >>>> Video ready: new_video.mp4 \n",
            "\n",
            "(2944, 8, 2048)\n",
            "RoadAccidents035.mp4\n",
            "(1, 8, 2048)\n",
            "(2945, 8, 2048)\n",
            "[MoviePy] >>>> Building video new_video.mp4\n",
            "[MoviePy] Writing audio in new_videoTEMP_MPY_wvf_snd.mp3\n"
          ],
          "name": "stdout"
        },
        {
          "output_type": "stream",
          "text": [
            "100%|██████████| 190/190 [00:00<00:00, 1041.21it/s]"
          ],
          "name": "stderr"
        },
        {
          "output_type": "stream",
          "text": [
            "[MoviePy] Done.\n",
            "[MoviePy] Writing video new_video.mp4\n"
          ],
          "name": "stdout"
        },
        {
          "output_type": "stream",
          "text": [
            "\n",
            "100%|█████████▉| 258/259 [00:01<00:00, 233.67it/s]\n"
          ],
          "name": "stderr"
        },
        {
          "output_type": "stream",
          "text": [
            "[MoviePy] Done.\n",
            "[MoviePy] >>>> Video ready: new_video.mp4 \n",
            "\n",
            "(2946, 8, 2048)\n",
            "RoadAccidents049.mp4\n",
            "(1, 8, 2048)\n",
            "(2947, 8, 2048)\n",
            "[MoviePy] >>>> Building video new_video.mp4\n",
            "[MoviePy] Writing audio in new_videoTEMP_MPY_wvf_snd.mp3\n"
          ],
          "name": "stdout"
        },
        {
          "output_type": "stream",
          "text": [
            "100%|██████████| 299/299 [00:00<00:00, 1007.44it/s]\n"
          ],
          "name": "stderr"
        },
        {
          "output_type": "stream",
          "text": [
            "[MoviePy] Done.\n",
            "[MoviePy] Writing video new_video.mp4\n"
          ],
          "name": "stdout"
        },
        {
          "output_type": "stream",
          "text": [
            "100%|██████████| 406/406 [00:02<00:00, 199.37it/s]\n"
          ],
          "name": "stderr"
        },
        {
          "output_type": "stream",
          "text": [
            "[MoviePy] Done.\n",
            "[MoviePy] >>>> Video ready: new_video.mp4 \n",
            "\n",
            "(2948, 8, 2048)\n",
            "RoadAccidents014.mp4\n",
            "(33, 8, 2048)\n",
            "(2981, 8, 2048)\n",
            "[MoviePy] >>>> Building video new_video.mp4\n",
            "[MoviePy] Writing video new_video.mp4\n"
          ],
          "name": "stdout"
        },
        {
          "output_type": "stream",
          "text": [
            "100%|██████████| 7956/7956 [00:43<00:00, 181.23it/s]\n"
          ],
          "name": "stderr"
        },
        {
          "output_type": "stream",
          "text": [
            "[MoviePy] Done.\n",
            "[MoviePy] >>>> Video ready: new_video.mp4 \n",
            "\n",
            "(3014, 8, 2048)\n",
            "RoadAccidents057.mp4\n",
            "(1, 8, 2048)\n",
            "(3015, 8, 2048)\n",
            "[MoviePy] >>>> Building video new_video.mp4\n",
            "[MoviePy] Writing audio in new_videoTEMP_MPY_wvf_snd.mp3\n"
          ],
          "name": "stdout"
        },
        {
          "output_type": "stream",
          "text": [
            "100%|██████████| 237/237 [00:00<00:00, 1071.84it/s]"
          ],
          "name": "stderr"
        },
        {
          "output_type": "stream",
          "text": [
            "[MoviePy] Done.\n",
            "[MoviePy] Writing video new_video.mp4\n"
          ],
          "name": "stdout"
        },
        {
          "output_type": "stream",
          "text": [
            "\n",
            "100%|██████████| 322/322 [00:01<00:00, 234.10it/s]\n"
          ],
          "name": "stderr"
        },
        {
          "output_type": "stream",
          "text": [
            "[MoviePy] Done.\n",
            "[MoviePy] >>>> Video ready: new_video.mp4 \n",
            "\n",
            "(3016, 8, 2048)\n",
            "RoadAccidents016.mp4\n",
            "(3, 8, 2048)\n",
            "(3019, 8, 2048)\n",
            "[MoviePy] >>>> Building video new_video.mp4\n",
            "[MoviePy] Writing video new_video.mp4\n"
          ],
          "name": "stdout"
        },
        {
          "output_type": "stream",
          "text": [
            "100%|██████████| 924/924 [00:04<00:00, 194.17it/s]\n"
          ],
          "name": "stderr"
        },
        {
          "output_type": "stream",
          "text": [
            "[MoviePy] Done.\n",
            "[MoviePy] >>>> Video ready: new_video.mp4 \n",
            "\n",
            "(3022, 8, 2048)\n",
            "RoadAccidents055.mp4\n",
            "(1, 8, 2048)\n",
            "(3023, 8, 2048)\n",
            "[MoviePy] >>>> Building video new_video.mp4\n",
            "[MoviePy] Writing audio in new_videoTEMP_MPY_wvf_snd.mp3\n"
          ],
          "name": "stdout"
        },
        {
          "output_type": "stream",
          "text": [
            "100%|██████████| 299/299 [00:00<00:00, 1016.50it/s]"
          ],
          "name": "stderr"
        },
        {
          "output_type": "stream",
          "text": [
            "[MoviePy] Done.\n"
          ],
          "name": "stdout"
        },
        {
          "output_type": "stream",
          "text": [
            "\n"
          ],
          "name": "stderr"
        },
        {
          "output_type": "stream",
          "text": [
            "[MoviePy] Writing video new_video.mp4\n"
          ],
          "name": "stdout"
        },
        {
          "output_type": "stream",
          "text": [
            "100%|██████████| 407/407 [00:01<00:00, 233.90it/s]\n"
          ],
          "name": "stderr"
        },
        {
          "output_type": "stream",
          "text": [
            "[MoviePy] Done.\n",
            "[MoviePy] >>>> Video ready: new_video.mp4 \n",
            "\n",
            "(3024, 8, 2048)\n",
            "RoadAccidents061.mp4\n",
            "(2, 8, 2048)\n",
            "(3026, 8, 2048)\n",
            "[MoviePy] >>>> Building video new_video.mp4\n",
            "[MoviePy] Writing audio in new_videoTEMP_MPY_wvf_snd.mp3\n"
          ],
          "name": "stdout"
        },
        {
          "output_type": "stream",
          "text": [
            "100%|██████████| 367/367 [00:00<00:00, 1012.21it/s]"
          ],
          "name": "stderr"
        },
        {
          "output_type": "stream",
          "text": [
            "[MoviePy] Done.\n",
            "[MoviePy] Writing video new_video.mp4\n"
          ],
          "name": "stdout"
        },
        {
          "output_type": "stream",
          "text": [
            "\n",
            "100%|██████████| 499/499 [00:01<00:00, 252.24it/s]"
          ],
          "name": "stderr"
        },
        {
          "output_type": "stream",
          "text": [
            "[MoviePy] Done.\n",
            "[MoviePy] >>>> Video ready: new_video.mp4 \n",
            "\n"
          ],
          "name": "stdout"
        },
        {
          "output_type": "stream",
          "text": [
            "\n"
          ],
          "name": "stderr"
        },
        {
          "output_type": "stream",
          "text": [
            "(3028, 8, 2048)\n",
            "RoadAccidents058.mp4\n",
            "(2, 8, 2048)\n",
            "(3030, 8, 2048)\n",
            "[MoviePy] >>>> Building video new_video.mp4\n",
            "[MoviePy] Writing audio in new_videoTEMP_MPY_wvf_snd.mp3\n"
          ],
          "name": "stdout"
        },
        {
          "output_type": "stream",
          "text": [
            "100%|██████████| 388/388 [00:00<00:00, 775.09it/s]\n"
          ],
          "name": "stderr"
        },
        {
          "output_type": "stream",
          "text": [
            "[MoviePy] Done.\n",
            "[MoviePy] Writing video new_video.mp4\n"
          ],
          "name": "stdout"
        },
        {
          "output_type": "stream",
          "text": [
            "100%|██████████| 528/528 [00:02<00:00, 232.47it/s]\n"
          ],
          "name": "stderr"
        },
        {
          "output_type": "stream",
          "text": [
            "[MoviePy] Done.\n",
            "[MoviePy] >>>> Video ready: new_video.mp4 \n",
            "\n",
            "(3032, 8, 2048)\n",
            "RoadAccidents065.mp4\n",
            "(0,)\n",
            "(3032, 8, 2048)\n",
            "[MoviePy] >>>> Building video new_video.mp4\n",
            "[MoviePy] Writing audio in new_videoTEMP_MPY_wvf_snd.mp3\n"
          ],
          "name": "stdout"
        },
        {
          "output_type": "stream",
          "text": [
            "100%|██████████| 67/67 [00:00<00:00, 1054.02it/s]"
          ],
          "name": "stderr"
        },
        {
          "output_type": "stream",
          "text": [
            "[MoviePy] Done.\n",
            "[MoviePy] Writing video new_video.mp4\n"
          ],
          "name": "stdout"
        },
        {
          "output_type": "stream",
          "text": [
            "\n",
            " 99%|█████████▉| 90/91 [00:00<00:00, 250.73it/s]\n"
          ],
          "name": "stderr"
        },
        {
          "output_type": "stream",
          "text": [
            "[MoviePy] Done.\n",
            "[MoviePy] >>>> Video ready: new_video.mp4 \n",
            "\n",
            "(3032, 8, 2048)\n",
            "RoadAccidents060.mp4\n",
            "(3, 8, 2048)\n",
            "(3035, 8, 2048)\n",
            "[MoviePy] >>>> Building video new_video.mp4\n",
            "[MoviePy] Writing audio in new_videoTEMP_MPY_wvf_snd.mp3\n"
          ],
          "name": "stdout"
        },
        {
          "output_type": "stream",
          "text": [
            "100%|██████████| 515/515 [00:00<00:00, 1011.37it/s]"
          ],
          "name": "stderr"
        },
        {
          "output_type": "stream",
          "text": [
            "[MoviePy] Done.\n",
            "[MoviePy] Writing video new_video.mp4\n"
          ],
          "name": "stdout"
        },
        {
          "output_type": "stream",
          "text": [
            "\n",
            "100%|██████████| 701/701 [00:03<00:00, 225.10it/s]\n"
          ],
          "name": "stderr"
        },
        {
          "output_type": "stream",
          "text": [
            "[MoviePy] Done.\n",
            "[MoviePy] >>>> Video ready: new_video.mp4 \n",
            "\n",
            "(3038, 8, 2048)\n",
            "RoadAccidents052.mp4\n",
            "(1, 8, 2048)\n",
            "(3039, 8, 2048)\n",
            "[MoviePy] >>>> Building video new_video.mp4\n",
            "[MoviePy] Writing audio in new_videoTEMP_MPY_wvf_snd.mp3\n"
          ],
          "name": "stdout"
        },
        {
          "output_type": "stream",
          "text": [
            "100%|██████████| 261/261 [00:00<00:00, 1056.05it/s]"
          ],
          "name": "stderr"
        },
        {
          "output_type": "stream",
          "text": [
            "[MoviePy] Done.\n",
            "[MoviePy] Writing video new_video.mp4\n"
          ],
          "name": "stdout"
        },
        {
          "output_type": "stream",
          "text": [
            "\n",
            "100%|█████████▉| 354/355 [00:01<00:00, 219.62it/s]\n"
          ],
          "name": "stderr"
        },
        {
          "output_type": "stream",
          "text": [
            "[MoviePy] Done.\n",
            "[MoviePy] >>>> Video ready: new_video.mp4 \n",
            "\n",
            "(3040, 8, 2048)\n",
            "RoadAccidents064.mp4\n",
            "(2, 8, 2048)\n",
            "(3042, 8, 2048)\n",
            "[MoviePy] >>>> Building video new_video.mp4\n",
            "[MoviePy] Writing audio in new_videoTEMP_MPY_wvf_snd.mp3\n"
          ],
          "name": "stdout"
        },
        {
          "output_type": "stream",
          "text": [
            "100%|██████████| 335/335 [00:00<00:00, 1026.07it/s]"
          ],
          "name": "stderr"
        },
        {
          "output_type": "stream",
          "text": [
            "[MoviePy] Done.\n",
            "[MoviePy] Writing video new_video.mp4\n"
          ],
          "name": "stdout"
        },
        {
          "output_type": "stream",
          "text": [
            "\n",
            "100%|██████████| 456/456 [00:01<00:00, 228.23it/s]\n"
          ],
          "name": "stderr"
        },
        {
          "output_type": "stream",
          "text": [
            "[MoviePy] Done.\n",
            "[MoviePy] >>>> Video ready: new_video.mp4 \n",
            "\n",
            "(3044, 8, 2048)\n",
            "RoadAccidents053.mp4\n",
            "(2, 8, 2048)\n",
            "(3046, 8, 2048)\n",
            "[MoviePy] >>>> Building video new_video.mp4\n",
            "[MoviePy] Writing audio in new_videoTEMP_MPY_wvf_snd.mp3\n"
          ],
          "name": "stdout"
        },
        {
          "output_type": "stream",
          "text": [
            "100%|██████████| 478/478 [00:00<00:00, 847.99it/s]"
          ],
          "name": "stderr"
        },
        {
          "output_type": "stream",
          "text": [
            "[MoviePy] Done.\n",
            "[MoviePy] Writing video new_video.mp4\n"
          ],
          "name": "stdout"
        },
        {
          "output_type": "stream",
          "text": [
            "\n",
            "100%|██████████| 650/650 [00:03<00:00, 176.78it/s]\n"
          ],
          "name": "stderr"
        },
        {
          "output_type": "stream",
          "text": [
            "[MoviePy] Done.\n",
            "[MoviePy] >>>> Video ready: new_video.mp4 \n",
            "\n",
            "(3048, 8, 2048)\n",
            "RoadAccidents056.mp4\n",
            "(2, 8, 2048)\n",
            "(3050, 8, 2048)\n",
            "[MoviePy] >>>> Building video new_video.mp4\n",
            "[MoviePy] Writing audio in new_videoTEMP_MPY_wvf_snd.mp3\n"
          ],
          "name": "stdout"
        },
        {
          "output_type": "stream",
          "text": [
            "100%|██████████| 370/370 [00:00<00:00, 1047.41it/s]"
          ],
          "name": "stderr"
        },
        {
          "output_type": "stream",
          "text": [
            "[MoviePy] Done.\n",
            "[MoviePy] Writing video new_video.mp4\n"
          ],
          "name": "stdout"
        },
        {
          "output_type": "stream",
          "text": [
            "\n",
            "100%|██████████| 504/504 [00:02<00:00, 170.27it/s]\n"
          ],
          "name": "stderr"
        },
        {
          "output_type": "stream",
          "text": [
            "[MoviePy] Done.\n",
            "[MoviePy] >>>> Video ready: new_video.mp4 \n",
            "\n",
            "(3052, 8, 2048)\n",
            "RoadAccidents017.mp4\n",
            "(1, 8, 2048)\n",
            "(3053, 8, 2048)\n",
            "[MoviePy] >>>> Building video new_video.mp4\n",
            "[MoviePy] Writing video new_video.mp4\n"
          ],
          "name": "stdout"
        },
        {
          "output_type": "stream",
          "text": [
            "100%|█████████▉| 243/244 [00:01<00:00, 184.69it/s]\n"
          ],
          "name": "stderr"
        },
        {
          "output_type": "stream",
          "text": [
            "[MoviePy] Done.\n",
            "[MoviePy] >>>> Video ready: new_video.mp4 \n",
            "\n",
            "(3054, 8, 2048)\n",
            "RoadAccidents069.mp4\n",
            "(0,)\n",
            "(3054, 8, 2048)\n",
            "[MoviePy] >>>> Building video new_video.mp4\n",
            "[MoviePy] Writing audio in new_videoTEMP_MPY_wvf_snd.mp3\n"
          ],
          "name": "stdout"
        },
        {
          "output_type": "stream",
          "text": [
            "100%|██████████| 155/155 [00:00<00:00, 1005.93it/s]"
          ],
          "name": "stderr"
        },
        {
          "output_type": "stream",
          "text": [
            "[MoviePy] Done.\n",
            "[MoviePy] Writing video new_video.mp4\n"
          ],
          "name": "stdout"
        },
        {
          "output_type": "stream",
          "text": [
            "\n",
            "100%|██████████| 211/211 [00:00<00:00, 241.62it/s]\n"
          ],
          "name": "stderr"
        },
        {
          "output_type": "stream",
          "text": [
            "[MoviePy] Done.\n",
            "[MoviePy] >>>> Video ready: new_video.mp4 \n",
            "\n",
            "(3055, 8, 2048)\n",
            "RoadAccidents075.mp4\n",
            "(1, 8, 2048)\n",
            "(3056, 8, 2048)\n",
            "[MoviePy] >>>> Building video new_video.mp4\n",
            "[MoviePy] Writing audio in new_videoTEMP_MPY_wvf_snd.mp3\n"
          ],
          "name": "stdout"
        },
        {
          "output_type": "stream",
          "text": [
            "100%|██████████| 163/163 [00:00<00:00, 1035.96it/s]"
          ],
          "name": "stderr"
        },
        {
          "output_type": "stream",
          "text": [
            "[MoviePy] Done.\n",
            "[MoviePy] Writing video new_video.mp4\n"
          ],
          "name": "stdout"
        },
        {
          "output_type": "stream",
          "text": [
            "\n",
            "100%|██████████| 222/222 [00:01<00:00, 188.94it/s]\n"
          ],
          "name": "stderr"
        },
        {
          "output_type": "stream",
          "text": [
            "[MoviePy] Done.\n",
            "[MoviePy] >>>> Video ready: new_video.mp4 \n",
            "\n",
            "(3057, 8, 2048)\n",
            "RoadAccidents071.mp4\n",
            "(1, 8, 2048)\n",
            "(3058, 8, 2048)\n",
            "[MoviePy] >>>> Building video new_video.mp4\n",
            "[MoviePy] Writing audio in new_videoTEMP_MPY_wvf_snd.mp3\n"
          ],
          "name": "stdout"
        },
        {
          "output_type": "stream",
          "text": [
            "100%|██████████| 316/316 [00:00<00:00, 999.44it/s] "
          ],
          "name": "stderr"
        },
        {
          "output_type": "stream",
          "text": [
            "[MoviePy] Done.\n",
            "[MoviePy] Writing video new_video.mp4\n"
          ],
          "name": "stdout"
        },
        {
          "output_type": "stream",
          "text": [
            "\n",
            "100%|█████████▉| 429/430 [00:01<00:00, 239.67it/s]\n"
          ],
          "name": "stderr"
        },
        {
          "output_type": "stream",
          "text": [
            "[MoviePy] Done.\n",
            "[MoviePy] >>>> Video ready: new_video.mp4 \n",
            "\n",
            "(3059, 8, 2048)\n",
            "RoadAccidents018.mp4\n",
            "(5, 8, 2048)\n",
            "(3064, 8, 2048)\n",
            "[MoviePy] >>>> Building video new_video.mp4\n",
            "[MoviePy] Writing video new_video.mp4\n"
          ],
          "name": "stdout"
        },
        {
          "output_type": "stream",
          "text": [
            "100%|█████████▉| 1218/1219 [00:06<00:00, 199.64it/s]\n"
          ],
          "name": "stderr"
        },
        {
          "output_type": "stream",
          "text": [
            "[MoviePy] Done.\n",
            "[MoviePy] >>>> Video ready: new_video.mp4 \n",
            "\n",
            "(3069, 8, 2048)\n",
            "RoadAccidents070.mp4\n",
            "(1, 8, 2048)\n",
            "(3070, 8, 2048)\n",
            "[MoviePy] >>>> Building video new_video.mp4\n",
            "[MoviePy] Writing audio in new_videoTEMP_MPY_wvf_snd.mp3\n"
          ],
          "name": "stdout"
        },
        {
          "output_type": "stream",
          "text": [
            "100%|██████████| 306/306 [00:00<00:00, 811.21it/s]"
          ],
          "name": "stderr"
        },
        {
          "output_type": "stream",
          "text": [
            "[MoviePy] Done.\n",
            "[MoviePy] Writing video new_video.mp4\n"
          ],
          "name": "stdout"
        },
        {
          "output_type": "stream",
          "text": [
            "\n",
            "100%|██████████| 416/416 [00:01<00:00, 231.81it/s]\n"
          ],
          "name": "stderr"
        },
        {
          "output_type": "stream",
          "text": [
            "[MoviePy] Done.\n",
            "[MoviePy] >>>> Video ready: new_video.mp4 \n",
            "\n",
            "(3071, 8, 2048)\n",
            "RoadAccidents073.mp4\n",
            "(1, 8, 2048)\n",
            "(3072, 8, 2048)\n",
            "[MoviePy] >>>> Building video new_video.mp4\n",
            "[MoviePy] Writing audio in new_videoTEMP_MPY_wvf_snd.mp3\n"
          ],
          "name": "stdout"
        },
        {
          "output_type": "stream",
          "text": [
            "100%|██████████| 174/174 [00:00<00:00, 1051.65it/s]"
          ],
          "name": "stderr"
        },
        {
          "output_type": "stream",
          "text": [
            "[MoviePy] Done.\n",
            "[MoviePy] Writing video new_video.mp4\n"
          ],
          "name": "stdout"
        },
        {
          "output_type": "stream",
          "text": [
            "\n",
            "100%|██████████| 237/237 [00:01<00:00, 156.20it/s]\n"
          ],
          "name": "stderr"
        },
        {
          "output_type": "stream",
          "text": [
            "[MoviePy] Done.\n",
            "[MoviePy] >>>> Video ready: new_video.mp4 \n",
            "\n",
            "(3073, 8, 2048)\n",
            "RoadAccidents072.mp4\n",
            "(1, 8, 2048)\n",
            "(3074, 8, 2048)\n",
            "[MoviePy] >>>> Building video new_video.mp4\n",
            "[MoviePy] Writing audio in new_videoTEMP_MPY_wvf_snd.mp3\n"
          ],
          "name": "stdout"
        },
        {
          "output_type": "stream",
          "text": [
            "100%|██████████| 314/314 [00:00<00:00, 815.57it/s]"
          ],
          "name": "stderr"
        },
        {
          "output_type": "stream",
          "text": [
            "[MoviePy] Done.\n",
            "[MoviePy] Writing video new_video.mp4\n"
          ],
          "name": "stdout"
        },
        {
          "output_type": "stream",
          "text": [
            "\n",
            "100%|██████████| 427/427 [00:01<00:00, 232.28it/s]\n"
          ],
          "name": "stderr"
        },
        {
          "output_type": "stream",
          "text": [
            "[MoviePy] Done.\n",
            "[MoviePy] >>>> Video ready: new_video.mp4 \n",
            "\n",
            "(3075, 8, 2048)\n",
            "RoadAccidents081.mp4\n",
            "(2, 8, 2048)\n",
            "(3077, 8, 2048)\n",
            "[MoviePy] >>>> Building video new_video.mp4\n",
            "[MoviePy] Writing audio in new_videoTEMP_MPY_wvf_snd.mp3\n"
          ],
          "name": "stdout"
        },
        {
          "output_type": "stream",
          "text": [
            "100%|██████████| 454/454 [00:00<00:00, 999.48it/s]"
          ],
          "name": "stderr"
        },
        {
          "output_type": "stream",
          "text": [
            "[MoviePy] Done.\n",
            "[MoviePy] Writing video new_video.mp4\n"
          ],
          "name": "stdout"
        },
        {
          "output_type": "stream",
          "text": [
            "\n",
            "100%|██████████| 618/618 [00:02<00:00, 233.85it/s]\n"
          ],
          "name": "stderr"
        },
        {
          "output_type": "stream",
          "text": [
            "[MoviePy] Done.\n",
            "[MoviePy] >>>> Video ready: new_video.mp4 \n",
            "\n",
            "(3079, 8, 2048)\n",
            "RoadAccidents082.mp4\n",
            "(2, 8, 2048)\n",
            "(3081, 8, 2048)\n",
            "[MoviePy] >>>> Building video new_video.mp4\n",
            "[MoviePy] Writing audio in new_videoTEMP_MPY_wvf_snd.mp3\n"
          ],
          "name": "stdout"
        },
        {
          "output_type": "stream",
          "text": [
            "100%|██████████| 417/417 [00:00<00:00, 1010.41it/s]"
          ],
          "name": "stderr"
        },
        {
          "output_type": "stream",
          "text": [
            "[MoviePy] Done.\n",
            "[MoviePy] Writing video new_video.mp4\n"
          ],
          "name": "stdout"
        },
        {
          "output_type": "stream",
          "text": [
            "\n",
            "100%|██████████| 567/567 [00:02<00:00, 236.38it/s]\n"
          ],
          "name": "stderr"
        },
        {
          "output_type": "stream",
          "text": [
            "[MoviePy] Done.\n",
            "[MoviePy] >>>> Video ready: new_video.mp4 \n",
            "\n",
            "(3083, 8, 2048)\n",
            "RoadAccidents084.mp4\n",
            "(2, 8, 2048)\n",
            "(3085, 8, 2048)\n",
            "[MoviePy] >>>> Building video new_video.mp4\n",
            "[MoviePy] Writing audio in new_videoTEMP_MPY_wvf_snd.mp3\n"
          ],
          "name": "stdout"
        },
        {
          "output_type": "stream",
          "text": [
            "100%|██████████| 378/378 [00:00<00:00, 588.50it/s]"
          ],
          "name": "stderr"
        },
        {
          "output_type": "stream",
          "text": [
            "[MoviePy] Done.\n",
            "[MoviePy] Writing video new_video.mp4\n"
          ],
          "name": "stdout"
        },
        {
          "output_type": "stream",
          "text": [
            "\n",
            "100%|██████████| 514/514 [00:02<00:00, 228.02it/s]\n"
          ],
          "name": "stderr"
        },
        {
          "output_type": "stream",
          "text": [
            "[MoviePy] Done.\n",
            "[MoviePy] >>>> Video ready: new_video.mp4 \n",
            "\n",
            "(3087, 8, 2048)\n",
            "RoadAccidents086.mp4\n",
            "(3, 8, 2048)\n",
            "(3090, 8, 2048)\n",
            "[MoviePy] >>>> Building video new_video.mp4\n",
            "[MoviePy] Writing audio in new_videoTEMP_MPY_wvf_snd.mp3\n"
          ],
          "name": "stdout"
        },
        {
          "output_type": "stream",
          "text": [
            "100%|██████████| 527/527 [00:00<00:00, 1064.74it/s]"
          ],
          "name": "stderr"
        },
        {
          "output_type": "stream",
          "text": [
            "[MoviePy] Done.\n",
            "[MoviePy] Writing video new_video.mp4\n"
          ],
          "name": "stdout"
        },
        {
          "output_type": "stream",
          "text": [
            "\n",
            "100%|█████████▉| 717/718 [00:03<00:00, 216.59it/s]\n"
          ],
          "name": "stderr"
        },
        {
          "output_type": "stream",
          "text": [
            "[MoviePy] Done.\n",
            "[MoviePy] >>>> Video ready: new_video.mp4 \n",
            "\n",
            "(3093, 8, 2048)\n",
            "RoadAccidents020.mp4\n",
            "(6, 8, 2048)\n",
            "(3099, 8, 2048)\n",
            "[MoviePy] >>>> Building video new_video.mp4\n",
            "[MoviePy] Writing video new_video.mp4\n"
          ],
          "name": "stdout"
        },
        {
          "output_type": "stream",
          "text": [
            "100%|█████████▉| 1482/1483 [00:07<00:00, 196.84it/s]"
          ],
          "name": "stderr"
        },
        {
          "output_type": "stream",
          "text": [
            "[MoviePy] Done.\n",
            "[MoviePy] >>>> Video ready: new_video.mp4 \n",
            "\n"
          ],
          "name": "stdout"
        },
        {
          "output_type": "stream",
          "text": [
            "\n"
          ],
          "name": "stderr"
        },
        {
          "output_type": "stream",
          "text": [
            "(3105, 8, 2048)\n",
            "RoadAccidents090.mp4\n",
            "(2, 8, 2048)\n",
            "(3107, 8, 2048)\n",
            "[MoviePy] >>>> Building video new_video.mp4\n",
            "[MoviePy] Writing audio in new_videoTEMP_MPY_wvf_snd.mp3\n"
          ],
          "name": "stdout"
        },
        {
          "output_type": "stream",
          "text": [
            "100%|██████████| 348/348 [00:00<00:00, 993.73it/s]"
          ],
          "name": "stderr"
        },
        {
          "output_type": "stream",
          "text": [
            "[MoviePy] Done.\n",
            "[MoviePy] Writing video new_video.mp4\n"
          ],
          "name": "stdout"
        },
        {
          "output_type": "stream",
          "text": [
            "\n",
            "100%|██████████| 474/474 [00:02<00:00, 211.50it/s]\n"
          ],
          "name": "stderr"
        },
        {
          "output_type": "stream",
          "text": [
            "[MoviePy] Done.\n",
            "[MoviePy] >>>> Video ready: new_video.mp4 \n",
            "\n",
            "(3109, 8, 2048)\n",
            "RoadAccidents096.mp4\n",
            "(2, 8, 2048)\n",
            "(3111, 8, 2048)\n",
            "[MoviePy] >>>> Building video new_video.mp4\n",
            "[MoviePy] Writing audio in new_videoTEMP_MPY_wvf_snd.mp3\n"
          ],
          "name": "stdout"
        },
        {
          "output_type": "stream",
          "text": [
            "100%|██████████| 451/451 [00:00<00:00, 1009.02it/s]"
          ],
          "name": "stderr"
        },
        {
          "output_type": "stream",
          "text": [
            "[MoviePy] Done.\n",
            "[MoviePy] Writing video new_video.mp4\n"
          ],
          "name": "stdout"
        },
        {
          "output_type": "stream",
          "text": [
            "\n",
            "100%|██████████| 613/613 [00:02<00:00, 241.76it/s]\n"
          ],
          "name": "stderr"
        },
        {
          "output_type": "stream",
          "text": [
            "[MoviePy] Done.\n",
            "[MoviePy] >>>> Video ready: new_video.mp4 \n",
            "\n",
            "(3113, 8, 2048)\n",
            "RoadAccidents092.mp4\n",
            "(1, 8, 2048)\n",
            "(3114, 8, 2048)\n",
            "[MoviePy] >>>> Building video new_video.mp4\n",
            "[MoviePy] Writing audio in new_videoTEMP_MPY_wvf_snd.mp3\n"
          ],
          "name": "stdout"
        },
        {
          "output_type": "stream",
          "text": [
            "100%|██████████| 302/302 [00:00<00:00, 1006.36it/s]"
          ],
          "name": "stderr"
        },
        {
          "output_type": "stream",
          "text": [
            "[MoviePy] Done.\n",
            "[MoviePy] Writing video new_video.mp4\n"
          ],
          "name": "stdout"
        },
        {
          "output_type": "stream",
          "text": [
            "\n",
            "100%|██████████| 411/411 [00:01<00:00, 245.95it/s]"
          ],
          "name": "stderr"
        },
        {
          "output_type": "stream",
          "text": [
            "[MoviePy] Done.\n",
            "[MoviePy] >>>> Video ready: new_video.mp4 \n",
            "\n"
          ],
          "name": "stdout"
        },
        {
          "output_type": "stream",
          "text": [
            "\n"
          ],
          "name": "stderr"
        },
        {
          "output_type": "stream",
          "text": [
            "(3115, 8, 2048)\n",
            "RoadAccidents089.mp4\n",
            "(2, 8, 2048)\n",
            "(3117, 8, 2048)\n",
            "[MoviePy] >>>> Building video new_video.mp4\n",
            "[MoviePy] Writing audio in new_videoTEMP_MPY_wvf_snd.mp3\n"
          ],
          "name": "stdout"
        },
        {
          "output_type": "stream",
          "text": [
            "100%|██████████| 411/411 [00:00<00:00, 897.52it/s]"
          ],
          "name": "stderr"
        },
        {
          "output_type": "stream",
          "text": [
            "[MoviePy] Done.\n",
            "[MoviePy] Writing video new_video.mp4\n"
          ],
          "name": "stdout"
        },
        {
          "output_type": "stream",
          "text": [
            "\n",
            "100%|██████████| 559/559 [00:02<00:00, 193.64it/s]\n"
          ],
          "name": "stderr"
        },
        {
          "output_type": "stream",
          "text": [
            "[MoviePy] Done.\n",
            "[MoviePy] >>>> Video ready: new_video.mp4 \n",
            "\n",
            "(3119, 8, 2048)\n",
            "RoadAccidents095.mp4\n",
            "(3, 8, 2048)\n",
            "(3122, 8, 2048)\n",
            "[MoviePy] >>>> Building video new_video.mp4\n",
            "[MoviePy] Writing audio in new_videoTEMP_MPY_wvf_snd.mp3\n"
          ],
          "name": "stdout"
        },
        {
          "output_type": "stream",
          "text": [
            "100%|██████████| 536/536 [00:00<00:00, 851.30it/s]"
          ],
          "name": "stderr"
        },
        {
          "output_type": "stream",
          "text": [
            "[MoviePy] Done.\n",
            "[MoviePy] Writing video new_video.mp4\n"
          ],
          "name": "stdout"
        },
        {
          "output_type": "stream",
          "text": [
            "\n",
            "100%|█████████▉| 729/730 [00:02<00:00, 245.64it/s]\n"
          ],
          "name": "stderr"
        },
        {
          "output_type": "stream",
          "text": [
            "[MoviePy] Done.\n",
            "[MoviePy] >>>> Video ready: new_video.mp4 \n",
            "\n",
            "(3125, 8, 2048)\n",
            "RoadAccidents093.mp4\n",
            "(1, 8, 2048)\n",
            "(3126, 8, 2048)\n",
            "[MoviePy] >>>> Building video new_video.mp4\n",
            "[MoviePy] Writing audio in new_videoTEMP_MPY_wvf_snd.mp3\n"
          ],
          "name": "stdout"
        },
        {
          "output_type": "stream",
          "text": [
            "100%|██████████| 271/271 [00:00<00:00, 1012.00it/s]"
          ],
          "name": "stderr"
        },
        {
          "output_type": "stream",
          "text": [
            "[MoviePy] Done.\n",
            "[MoviePy] Writing video new_video.mp4\n"
          ],
          "name": "stdout"
        },
        {
          "output_type": "stream",
          "text": [
            "\n",
            "100%|██████████| 369/369 [00:01<00:00, 193.34it/s]\n"
          ],
          "name": "stderr"
        },
        {
          "output_type": "stream",
          "text": [
            "[MoviePy] Done.\n",
            "[MoviePy] >>>> Video ready: new_video.mp4 \n",
            "\n",
            "(3127, 8, 2048)\n",
            "RoadAccidents091.mp4\n",
            "(3, 8, 2048)\n",
            "(3130, 8, 2048)\n",
            "[MoviePy] >>>> Building video new_video.mp4\n",
            "[MoviePy] Writing audio in new_videoTEMP_MPY_wvf_snd.mp3\n"
          ],
          "name": "stdout"
        },
        {
          "output_type": "stream",
          "text": [
            "100%|██████████| 568/568 [00:00<00:00, 1028.84it/s]"
          ],
          "name": "stderr"
        },
        {
          "output_type": "stream",
          "text": [
            "[MoviePy] Done.\n",
            "[MoviePy] Writing video new_video.mp4\n"
          ],
          "name": "stdout"
        },
        {
          "output_type": "stream",
          "text": [
            "\n",
            "100%|██████████| 772/772 [00:03<00:00, 217.79it/s]\n"
          ],
          "name": "stderr"
        },
        {
          "output_type": "stream",
          "text": [
            "[MoviePy] Done.\n",
            "[MoviePy] >>>> Video ready: new_video.mp4 \n",
            "\n",
            "(3133, 8, 2048)\n",
            "RoadAccidents098.mp4\n",
            "(3, 8, 2048)\n",
            "(3136, 8, 2048)\n",
            "[MoviePy] >>>> Building video new_video.mp4\n",
            "[MoviePy] Writing audio in new_videoTEMP_MPY_wvf_snd.mp3\n"
          ],
          "name": "stdout"
        },
        {
          "output_type": "stream",
          "text": [
            "100%|██████████| 669/669 [00:00<00:00, 993.65it/s]"
          ],
          "name": "stderr"
        },
        {
          "output_type": "stream",
          "text": [
            "[MoviePy] Done.\n",
            "[MoviePy] Writing video new_video.mp4\n"
          ],
          "name": "stdout"
        },
        {
          "output_type": "stream",
          "text": [
            "\n",
            "100%|██████████| 910/910 [00:04<00:00, 203.97it/s]"
          ],
          "name": "stderr"
        },
        {
          "output_type": "stream",
          "text": [
            "[MoviePy] Done.\n",
            "[MoviePy] >>>> Video ready: new_video.mp4 \n",
            "\n"
          ],
          "name": "stdout"
        },
        {
          "output_type": "stream",
          "text": [
            "\n"
          ],
          "name": "stderr"
        },
        {
          "output_type": "stream",
          "text": [
            "(3139, 8, 2048)\n",
            "RoadAccidents023.mp4\n",
            "(6, 8, 2048)\n",
            "(3145, 8, 2048)\n",
            "[MoviePy] >>>> Building video new_video.mp4\n",
            "[MoviePy] Writing video new_video.mp4\n"
          ],
          "name": "stdout"
        },
        {
          "output_type": "stream",
          "text": [
            "100%|██████████| 1450/1450 [00:08<00:00, 164.55it/s]\n"
          ],
          "name": "stderr"
        },
        {
          "output_type": "stream",
          "text": [
            "[MoviePy] Done.\n",
            "[MoviePy] >>>> Video ready: new_video.mp4 \n",
            "\n",
            "(3151, 8, 2048)\n",
            "RoadAccidents088.mp4\n",
            "(1, 8, 2048)\n",
            "(3152, 8, 2048)\n",
            "[MoviePy] >>>> Building video new_video.mp4\n",
            "[MoviePy] Writing audio in new_videoTEMP_MPY_wvf_snd.mp3\n"
          ],
          "name": "stdout"
        },
        {
          "output_type": "stream",
          "text": [
            "100%|██████████| 302/302 [00:00<00:00, 1054.59it/s]"
          ],
          "name": "stderr"
        },
        {
          "output_type": "stream",
          "text": [
            "[MoviePy] Done.\n",
            "[MoviePy] Writing video new_video.mp4\n"
          ],
          "name": "stdout"
        },
        {
          "output_type": "stream",
          "text": [
            "\n",
            "100%|██████████| 411/411 [00:01<00:00, 217.52it/s]\n"
          ],
          "name": "stderr"
        },
        {
          "output_type": "stream",
          "text": [
            "[MoviePy] Done.\n",
            "[MoviePy] >>>> Video ready: new_video.mp4 \n",
            "\n",
            "(3153, 8, 2048)\n",
            "RoadAccidents094.mp4\n",
            "(2, 8, 2048)\n",
            "(3155, 8, 2048)\n",
            "[MoviePy] >>>> Building video new_video.mp4\n",
            "[MoviePy] Writing audio in new_videoTEMP_MPY_wvf_snd.mp3\n"
          ],
          "name": "stdout"
        },
        {
          "output_type": "stream",
          "text": [
            "100%|██████████| 455/455 [00:00<00:00, 699.75it/s]"
          ],
          "name": "stderr"
        },
        {
          "output_type": "stream",
          "text": [
            "[MoviePy] Done.\n",
            "[MoviePy] Writing video new_video.mp4\n"
          ],
          "name": "stdout"
        },
        {
          "output_type": "stream",
          "text": [
            "\n",
            "100%|██████████| 619/619 [00:02<00:00, 225.94it/s]\n"
          ],
          "name": "stderr"
        },
        {
          "output_type": "stream",
          "text": [
            "[MoviePy] Done.\n",
            "[MoviePy] >>>> Video ready: new_video.mp4 \n",
            "\n",
            "(3157, 8, 2048)\n",
            "RoadAccidents025.mp4\n",
            "(4, 8, 2048)\n",
            "(3161, 8, 2048)\n",
            "[MoviePy] >>>> Building video new_video.mp4\n",
            "[MoviePy] Writing video new_video.mp4\n"
          ],
          "name": "stdout"
        },
        {
          "output_type": "stream",
          "text": [
            "100%|██████████| 1026/1026 [00:06<00:00, 162.04it/s]\n"
          ],
          "name": "stderr"
        },
        {
          "output_type": "stream",
          "text": [
            "[MoviePy] Done.\n",
            "[MoviePy] >>>> Video ready: new_video.mp4 \n",
            "\n",
            "(3165, 8, 2048)\n",
            "RoadAccidents102.mp4\n",
            "(0,)\n",
            "(3165, 8, 2048)\n",
            "[MoviePy] >>>> Building video new_video.mp4\n",
            "[MoviePy] Writing audio in new_videoTEMP_MPY_wvf_snd.mp3\n"
          ],
          "name": "stdout"
        },
        {
          "output_type": "stream",
          "text": [
            "100%|██████████| 104/104 [00:00<00:00, 1076.10it/s]"
          ],
          "name": "stderr"
        },
        {
          "output_type": "stream",
          "text": [
            "[MoviePy] Done.\n",
            "[MoviePy] Writing video new_video.mp4\n"
          ],
          "name": "stdout"
        },
        {
          "output_type": "stream",
          "text": [
            "\n",
            " 99%|█████████▉| 141/142 [00:00<00:00, 247.26it/s]\n"
          ],
          "name": "stderr"
        },
        {
          "output_type": "stream",
          "text": [
            "[MoviePy] Done.\n",
            "[MoviePy] >>>> Video ready: new_video.mp4 \n",
            "\n",
            "(3165, 8, 2048)\n",
            "RoadAccidents104.mp4\n",
            "(5, 8, 2048)\n",
            "(3170, 8, 2048)\n",
            "[MoviePy] >>>> Building video new_video.mp4\n",
            "[MoviePy] Writing audio in new_videoTEMP_MPY_wvf_snd.mp3\n"
          ],
          "name": "stdout"
        },
        {
          "output_type": "stream",
          "text": [
            "100%|██████████| 904/904 [00:00<00:00, 1035.98it/s]"
          ],
          "name": "stderr"
        },
        {
          "output_type": "stream",
          "text": [
            "[MoviePy] Done.\n",
            "[MoviePy] Writing video new_video.mp4\n"
          ],
          "name": "stdout"
        },
        {
          "output_type": "stream",
          "text": [
            "\n",
            "100%|██████████| 1230/1230 [00:05<00:00, 239.01it/s]\n"
          ],
          "name": "stderr"
        },
        {
          "output_type": "stream",
          "text": [
            "[MoviePy] Done.\n",
            "[MoviePy] >>>> Video ready: new_video.mp4 \n",
            "\n",
            "(3175, 8, 2048)\n",
            "RoadAccidents100.mp4\n",
            "(2, 8, 2048)\n",
            "(3177, 8, 2048)\n",
            "[MoviePy] >>>> Building video new_video.mp4\n",
            "[MoviePy] Writing audio in new_videoTEMP_MPY_wvf_snd.mp3\n"
          ],
          "name": "stdout"
        },
        {
          "output_type": "stream",
          "text": [
            "100%|██████████| 337/337 [00:00<00:00, 949.02it/s]"
          ],
          "name": "stderr"
        },
        {
          "output_type": "stream",
          "text": [
            "[MoviePy] Done.\n",
            "[MoviePy] Writing video new_video.mp4\n"
          ],
          "name": "stdout"
        },
        {
          "output_type": "stream",
          "text": [
            "\n",
            "100%|██████████| 458/458 [00:02<00:00, 186.84it/s]\n"
          ],
          "name": "stderr"
        },
        {
          "output_type": "stream",
          "text": [
            "[MoviePy] Done.\n",
            "[MoviePy] >>>> Video ready: new_video.mp4 \n",
            "\n",
            "(3179, 8, 2048)\n",
            "RoadAccidents109.mp4\n",
            "(1, 8, 2048)\n",
            "(3180, 8, 2048)\n",
            "[MoviePy] >>>> Building video new_video.mp4\n",
            "[MoviePy] Writing audio in new_videoTEMP_MPY_wvf_snd.mp3\n"
          ],
          "name": "stdout"
        },
        {
          "output_type": "stream",
          "text": [
            "100%|██████████| 186/186 [00:00<00:00, 1048.03it/s]"
          ],
          "name": "stderr"
        },
        {
          "output_type": "stream",
          "text": [
            "[MoviePy] Done.\n",
            "[MoviePy] Writing video new_video.mp4\n"
          ],
          "name": "stdout"
        },
        {
          "output_type": "stream",
          "text": [
            "\n",
            "100%|██████████| 253/253 [00:01<00:00, 230.22it/s]\n"
          ],
          "name": "stderr"
        },
        {
          "output_type": "stream",
          "text": [
            "[MoviePy] Done.\n",
            "[MoviePy] >>>> Video ready: new_video.mp4 \n",
            "\n",
            "(3181, 8, 2048)\n",
            "RoadAccidents101.mp4\n",
            "(0,)\n",
            "(3181, 8, 2048)\n",
            "[MoviePy] >>>> Building video new_video.mp4\n",
            "[MoviePy] Writing audio in new_videoTEMP_MPY_wvf_snd.mp3\n"
          ],
          "name": "stdout"
        },
        {
          "output_type": "stream",
          "text": [
            "100%|██████████| 152/152 [00:00<00:00, 565.99it/s]"
          ],
          "name": "stderr"
        },
        {
          "output_type": "stream",
          "text": [
            "[MoviePy] Done.\n",
            "[MoviePy] Writing video new_video.mp4\n"
          ],
          "name": "stdout"
        },
        {
          "output_type": "stream",
          "text": [
            "\n",
            "100%|██████████| 206/206 [00:01<00:00, 118.42it/s]\n"
          ],
          "name": "stderr"
        },
        {
          "output_type": "stream",
          "text": [
            "[MoviePy] Done.\n",
            "[MoviePy] >>>> Video ready: new_video.mp4 \n",
            "\n",
            "(3181, 8, 2048)\n",
            "RoadAccidents110.mp4\n",
            "(1, 8, 2048)\n",
            "(3182, 8, 2048)\n",
            "[MoviePy] >>>> Building video new_video.mp4\n",
            "[MoviePy] Writing audio in new_videoTEMP_MPY_wvf_snd.mp3\n"
          ],
          "name": "stdout"
        },
        {
          "output_type": "stream",
          "text": [
            "100%|██████████| 229/229 [00:00<00:00, 1036.83it/s]"
          ],
          "name": "stderr"
        },
        {
          "output_type": "stream",
          "text": [
            "[MoviePy] Done.\n",
            "[MoviePy] Writing video new_video.mp4\n"
          ],
          "name": "stdout"
        },
        {
          "output_type": "stream",
          "text": [
            "\n",
            "100%|██████████| 311/311 [00:01<00:00, 174.27it/s]\n"
          ],
          "name": "stderr"
        },
        {
          "output_type": "stream",
          "text": [
            "[MoviePy] Done.\n",
            "[MoviePy] >>>> Video ready: new_video.mp4 \n",
            "\n",
            "(3183, 8, 2048)\n",
            "RoadAccidents108.mp4\n",
            "(2, 8, 2048)\n",
            "(3185, 8, 2048)\n",
            "[MoviePy] >>>> Building video new_video.mp4\n",
            "[MoviePy] Writing audio in new_videoTEMP_MPY_wvf_snd.mp3\n"
          ],
          "name": "stdout"
        },
        {
          "output_type": "stream",
          "text": [
            "100%|██████████| 462/462 [00:00<00:00, 994.69it/s]"
          ],
          "name": "stderr"
        },
        {
          "output_type": "stream",
          "text": [
            "[MoviePy] Done.\n",
            "[MoviePy] Writing video new_video.mp4\n"
          ],
          "name": "stdout"
        },
        {
          "output_type": "stream",
          "text": [
            "\n",
            "100%|██████████| 629/629 [00:02<00:00, 216.48it/s]\n"
          ],
          "name": "stderr"
        },
        {
          "output_type": "stream",
          "text": [
            "[MoviePy] Done.\n",
            "[MoviePy] >>>> Video ready: new_video.mp4 \n",
            "\n",
            "(3187, 8, 2048)\n",
            "RoadAccidents107.mp4\n",
            "(3, 8, 2048)\n",
            "(3190, 8, 2048)\n",
            "[MoviePy] >>>> Building video new_video.mp4\n",
            "[MoviePy] Writing audio in new_videoTEMP_MPY_wvf_snd.mp3\n"
          ],
          "name": "stdout"
        },
        {
          "output_type": "stream",
          "text": [
            "100%|██████████| 680/680 [00:00<00:00, 1020.43it/s]"
          ],
          "name": "stderr"
        },
        {
          "output_type": "stream",
          "text": [
            "[MoviePy] Done.\n",
            "[MoviePy] Writing video new_video.mp4\n"
          ],
          "name": "stdout"
        },
        {
          "output_type": "stream",
          "text": [
            "\n",
            "100%|██████████| 925/925 [00:04<00:00, 203.31it/s]"
          ],
          "name": "stderr"
        },
        {
          "output_type": "stream",
          "text": [
            "[MoviePy] Done.\n",
            "[MoviePy] >>>> Video ready: new_video.mp4 \n",
            "\n"
          ],
          "name": "stdout"
        },
        {
          "output_type": "stream",
          "text": [
            "\n"
          ],
          "name": "stderr"
        },
        {
          "output_type": "stream",
          "text": [
            "(3193, 8, 2048)\n",
            "RoadAccidents112.mp4\n",
            "(3, 8, 2048)\n",
            "(3196, 8, 2048)\n",
            "[MoviePy] >>>> Building video new_video.mp4\n",
            "[MoviePy] Writing audio in new_videoTEMP_MPY_wvf_snd.mp3\n"
          ],
          "name": "stdout"
        },
        {
          "output_type": "stream",
          "text": [
            "100%|██████████| 523/523 [00:00<00:00, 1009.73it/s]"
          ],
          "name": "stderr"
        },
        {
          "output_type": "stream",
          "text": [
            "[MoviePy] Done.\n",
            "[MoviePy] Writing video new_video.mp4\n"
          ],
          "name": "stdout"
        },
        {
          "output_type": "stream",
          "text": [
            "\n",
            "100%|█████████▉| 711/712 [00:03<00:00, 230.47it/s]\n"
          ],
          "name": "stderr"
        },
        {
          "output_type": "stream",
          "text": [
            "[MoviePy] Done.\n",
            "[MoviePy] >>>> Video ready: new_video.mp4 \n",
            "\n",
            "(3199, 8, 2048)\n",
            "RoadAccidents103.mp4\n",
            "(2, 8, 2048)\n",
            "(3201, 8, 2048)\n",
            "[MoviePy] >>>> Building video new_video.mp4\n",
            "[MoviePy] Writing audio in new_videoTEMP_MPY_wvf_snd.mp3\n"
          ],
          "name": "stdout"
        },
        {
          "output_type": "stream",
          "text": [
            "100%|██████████| 450/450 [00:00<00:00, 1028.37it/s]"
          ],
          "name": "stderr"
        },
        {
          "output_type": "stream",
          "text": [
            "[MoviePy] Done.\n",
            "[MoviePy] Writing video new_video.mp4\n"
          ],
          "name": "stdout"
        },
        {
          "output_type": "stream",
          "text": [
            "\n",
            "100%|█████████▉| 612/613 [00:02<00:00, 213.95it/s]"
          ],
          "name": "stderr"
        },
        {
          "output_type": "stream",
          "text": [
            "[MoviePy] Done.\n",
            "[MoviePy] >>>> Video ready: new_video.mp4 \n",
            "\n"
          ],
          "name": "stdout"
        },
        {
          "output_type": "stream",
          "text": [
            "\n"
          ],
          "name": "stderr"
        },
        {
          "output_type": "stream",
          "text": [
            "(3203, 8, 2048)\n",
            "RoadAccidents032.mp4\n",
            "(7, 8, 2048)\n",
            "(3210, 8, 2048)\n",
            "[MoviePy] >>>> Building video new_video.mp4\n",
            "[MoviePy] Writing audio in new_videoTEMP_MPY_wvf_snd.mp3\n"
          ],
          "name": "stdout"
        },
        {
          "output_type": "stream",
          "text": [
            "100%|██████████| 1337/1337 [00:01<00:00, 1014.48it/s]"
          ],
          "name": "stderr"
        },
        {
          "output_type": "stream",
          "text": [
            "[MoviePy] Done.\n",
            "[MoviePy] Writing video new_video.mp4\n"
          ],
          "name": "stdout"
        },
        {
          "output_type": "stream",
          "text": [
            "\n",
            "100%|██████████| 1819/1819 [00:12<00:00, 149.12it/s]\n"
          ],
          "name": "stderr"
        },
        {
          "output_type": "stream",
          "text": [
            "[MoviePy] Done.\n",
            "[MoviePy] >>>> Video ready: new_video.mp4 \n",
            "\n",
            "(3217, 8, 2048)\n",
            "RoadAccidents120.mp4\n",
            "(2, 8, 2048)\n",
            "(3219, 8, 2048)\n",
            "[MoviePy] >>>> Building video new_video.mp4\n",
            "[MoviePy] Writing audio in new_videoTEMP_MPY_wvf_snd.mp3\n"
          ],
          "name": "stdout"
        },
        {
          "output_type": "stream",
          "text": [
            "100%|██████████| 444/444 [00:00<00:00, 1019.22it/s]"
          ],
          "name": "stderr"
        },
        {
          "output_type": "stream",
          "text": [
            "[MoviePy] Done.\n",
            "[MoviePy] Writing video new_video.mp4\n"
          ],
          "name": "stdout"
        },
        {
          "output_type": "stream",
          "text": [
            "\n",
            "100%|██████████| 604/604 [00:02<00:00, 241.32it/s]"
          ],
          "name": "stderr"
        },
        {
          "output_type": "stream",
          "text": [
            "[MoviePy] Done.\n",
            "[MoviePy] >>>> Video ready: new_video.mp4 \n",
            "\n"
          ],
          "name": "stdout"
        },
        {
          "output_type": "stream",
          "text": [
            "\n"
          ],
          "name": "stderr"
        },
        {
          "output_type": "stream",
          "text": [
            "(3221, 8, 2048)\n",
            "RoadAccidents126.mp4\n",
            "(2, 8, 2048)\n",
            "(3223, 8, 2048)\n",
            "[MoviePy] >>>> Building video new_video.mp4\n",
            "[MoviePy] Writing audio in new_videoTEMP_MPY_wvf_snd.mp3\n"
          ],
          "name": "stdout"
        },
        {
          "output_type": "stream",
          "text": [
            "100%|██████████| 445/445 [00:00<00:00, 984.30it/s]"
          ],
          "name": "stderr"
        },
        {
          "output_type": "stream",
          "text": [
            "[MoviePy] Done.\n",
            "[MoviePy] Writing video new_video.mp4\n"
          ],
          "name": "stdout"
        },
        {
          "output_type": "stream",
          "text": [
            "\n",
            "100%|██████████| 606/606 [00:02<00:00, 246.35it/s]\n"
          ],
          "name": "stderr"
        },
        {
          "output_type": "stream",
          "text": [
            "[MoviePy] Done.\n",
            "[MoviePy] >>>> Video ready: new_video.mp4 \n",
            "\n",
            "(3225, 8, 2048)\n",
            "RoadAccidents118.mp4\n",
            "(1, 8, 2048)\n",
            "(3226, 8, 2048)\n",
            "[MoviePy] >>>> Building video new_video.mp4\n",
            "[MoviePy] Writing audio in new_videoTEMP_MPY_wvf_snd.mp3\n"
          ],
          "name": "stdout"
        },
        {
          "output_type": "stream",
          "text": [
            "100%|██████████| 225/225 [00:00<00:00, 1042.73it/s]"
          ],
          "name": "stderr"
        },
        {
          "output_type": "stream",
          "text": [
            "[MoviePy] Done.\n",
            "[MoviePy] Writing video new_video.mp4\n"
          ],
          "name": "stdout"
        },
        {
          "output_type": "stream",
          "text": [
            "\n",
            "100%|█████████▉| 306/307 [00:01<00:00, 193.26it/s]\n"
          ],
          "name": "stderr"
        },
        {
          "output_type": "stream",
          "text": [
            "[MoviePy] Done.\n",
            "[MoviePy] >>>> Video ready: new_video.mp4 \n",
            "\n",
            "(3227, 8, 2048)\n",
            "RoadAccidents128.mp4\n",
            "(1, 8, 2048)\n",
            "(3228, 8, 2048)\n",
            "[MoviePy] >>>> Building video new_video.mp4\n",
            "[MoviePy] Writing audio in new_videoTEMP_MPY_wvf_snd.mp3\n"
          ],
          "name": "stdout"
        },
        {
          "output_type": "stream",
          "text": [
            "100%|██████████| 160/160 [00:00<00:00, 1059.00it/s]"
          ],
          "name": "stderr"
        },
        {
          "output_type": "stream",
          "text": [
            "[MoviePy] Done.\n",
            "[MoviePy] Writing video new_video.mp4\n"
          ],
          "name": "stdout"
        },
        {
          "output_type": "stream",
          "text": [
            "\n",
            "100%|██████████| 217/217 [00:00<00:00, 261.81it/s]"
          ],
          "name": "stderr"
        },
        {
          "output_type": "stream",
          "text": [
            "[MoviePy] Done.\n",
            "[MoviePy] >>>> Video ready: new_video.mp4 \n",
            "\n"
          ],
          "name": "stdout"
        },
        {
          "output_type": "stream",
          "text": [
            "\n"
          ],
          "name": "stderr"
        },
        {
          "output_type": "stream",
          "text": [
            "(3229, 8, 2048)\n",
            "RoadAccidents127.mp4\n",
            "(2, 8, 2048)\n",
            "(3231, 8, 2048)\n",
            "[MoviePy] >>>> Building video new_video.mp4\n",
            "[MoviePy] Writing audio in new_videoTEMP_MPY_wvf_snd.mp3\n"
          ],
          "name": "stdout"
        },
        {
          "output_type": "stream",
          "text": [
            "100%|██████████| 446/446 [00:00<00:00, 1046.21it/s]"
          ],
          "name": "stderr"
        },
        {
          "output_type": "stream",
          "text": [
            "[MoviePy] Done.\n",
            "[MoviePy] Writing video new_video.mp4\n"
          ],
          "name": "stdout"
        },
        {
          "output_type": "stream",
          "text": [
            "\n",
            "100%|█████████▉| 606/607 [00:02<00:00, 207.98it/s]\n"
          ],
          "name": "stderr"
        },
        {
          "output_type": "stream",
          "text": [
            "[MoviePy] Done.\n",
            "[MoviePy] >>>> Video ready: new_video.mp4 \n",
            "\n",
            "(3233, 8, 2048)\n",
            "RoadAccidents116.mp4\n",
            "(1, 8, 2048)\n",
            "(3234, 8, 2048)\n",
            "[MoviePy] >>>> Building video new_video.mp4\n",
            "[MoviePy] Writing audio in new_videoTEMP_MPY_wvf_snd.mp3\n"
          ],
          "name": "stdout"
        },
        {
          "output_type": "stream",
          "text": [
            "100%|██████████| 294/294 [00:00<00:00, 1033.52it/s]"
          ],
          "name": "stderr"
        },
        {
          "output_type": "stream",
          "text": [
            "[MoviePy] Done.\n",
            "[MoviePy] Writing video new_video.mp4\n"
          ],
          "name": "stdout"
        },
        {
          "output_type": "stream",
          "text": [
            "\n",
            "100%|██████████| 400/400 [00:01<00:00, 214.84it/s]\n"
          ],
          "name": "stderr"
        },
        {
          "output_type": "stream",
          "text": [
            "[MoviePy] Done.\n",
            "[MoviePy] >>>> Video ready: new_video.mp4 \n",
            "\n",
            "(3235, 8, 2048)\n",
            "Robbery069.mp4\n",
            "(2, 8, 2048)\n",
            "(3237, 8, 2048)\n",
            "[MoviePy] >>>> Building video new_video.mp4\n",
            "[MoviePy] Writing audio in new_videoTEMP_MPY_wvf_snd.mp3\n"
          ],
          "name": "stdout"
        },
        {
          "output_type": "stream",
          "text": [
            "100%|██████████| 433/433 [00:00<00:00, 1050.24it/s]"
          ],
          "name": "stderr"
        },
        {
          "output_type": "stream",
          "text": [
            "[MoviePy] Done.\n",
            "[MoviePy] Writing video new_video.mp4\n"
          ],
          "name": "stdout"
        },
        {
          "output_type": "stream",
          "text": [
            "\n",
            "100%|██████████| 589/589 [00:02<00:00, 218.45it/s]\n"
          ],
          "name": "stderr"
        },
        {
          "output_type": "stream",
          "text": [
            "[MoviePy] Done.\n",
            "[MoviePy] >>>> Video ready: new_video.mp4 \n",
            "\n",
            "(3239, 8, 2048)\n",
            "Robbery032.mp4\n",
            "(2, 8, 2048)\n",
            "(3241, 8, 2048)\n",
            "[MoviePy] >>>> Building video new_video.mp4\n",
            "[MoviePy] Writing video new_video.mp4\n"
          ],
          "name": "stdout"
        },
        {
          "output_type": "stream",
          "text": [
            "100%|█████████▉| 573/574 [00:02<00:00, 200.63it/s]\n"
          ],
          "name": "stderr"
        },
        {
          "output_type": "stream",
          "text": [
            "[MoviePy] Done.\n",
            "[MoviePy] >>>> Video ready: new_video.mp4 \n",
            "\n",
            "(3243, 8, 2048)\n",
            "Robbery002.mp4\n",
            "(4, 8, 2048)\n",
            "(3247, 8, 2048)\n",
            "[MoviePy] >>>> Building video new_video.mp4\n",
            "[MoviePy] Writing audio in new_videoTEMP_MPY_wvf_snd.mp3\n"
          ],
          "name": "stdout"
        },
        {
          "output_type": "stream",
          "text": [
            "100%|██████████| 780/780 [00:00<00:00, 965.87it/s]"
          ],
          "name": "stderr"
        },
        {
          "output_type": "stream",
          "text": [
            "[MoviePy] Done.\n",
            "[MoviePy] Writing video new_video.mp4\n"
          ],
          "name": "stdout"
        },
        {
          "output_type": "stream",
          "text": [
            "\n",
            "100%|██████████| 1062/1062 [00:04<00:00, 222.55it/s]\n"
          ],
          "name": "stderr"
        },
        {
          "output_type": "stream",
          "text": [
            "[MoviePy] Done.\n",
            "[MoviePy] >>>> Video ready: new_video.mp4 \n",
            "\n",
            "(3251, 8, 2048)\n",
            "Robbery053.mp4\n",
            "(2, 8, 2048)\n",
            "(3253, 8, 2048)\n",
            "[MoviePy] >>>> Building video new_video.mp4\n",
            "[MoviePy] Writing audio in new_videoTEMP_MPY_wvf_snd.mp3\n"
          ],
          "name": "stdout"
        },
        {
          "output_type": "stream",
          "text": [
            "100%|██████████| 415/415 [00:00<00:00, 1029.54it/s]\n"
          ],
          "name": "stderr"
        },
        {
          "output_type": "stream",
          "text": [
            "[MoviePy] Done.\n",
            "[MoviePy] Writing video new_video.mp4\n"
          ],
          "name": "stdout"
        },
        {
          "output_type": "stream",
          "text": [
            "100%|█████████▉| 564/565 [00:02<00:00, 215.66it/s]\n"
          ],
          "name": "stderr"
        },
        {
          "output_type": "stream",
          "text": [
            "[MoviePy] Done.\n",
            "[MoviePy] >>>> Video ready: new_video.mp4 \n",
            "\n",
            "(3255, 8, 2048)\n",
            "Robbery039.mp4\n",
            "(2, 8, 2048)\n",
            "(3257, 8, 2048)\n",
            "[MoviePy] >>>> Building video new_video.mp4\n",
            "[MoviePy] Writing video new_video.mp4\n"
          ],
          "name": "stdout"
        },
        {
          "output_type": "stream",
          "text": [
            "100%|██████████| 507/507 [00:02<00:00, 203.95it/s]\n"
          ],
          "name": "stderr"
        },
        {
          "output_type": "stream",
          "text": [
            "[MoviePy] Done.\n",
            "[MoviePy] >>>> Video ready: new_video.mp4 \n",
            "\n",
            "(3259, 8, 2048)\n",
            "Robbery040.mp4\n",
            "(4, 8, 2048)\n",
            "(3263, 8, 2048)\n",
            "[MoviePy] >>>> Building video new_video.mp4\n",
            "[MoviePy] Writing video new_video.mp4\n"
          ],
          "name": "stdout"
        },
        {
          "output_type": "stream",
          "text": [
            "100%|██████████| 1024/1024 [00:04<00:00, 213.16it/s]\n"
          ],
          "name": "stderr"
        },
        {
          "output_type": "stream",
          "text": [
            "[MoviePy] Done.\n",
            "[MoviePy] >>>> Video ready: new_video.mp4 \n",
            "\n",
            "(3267, 8, 2048)\n",
            "Robbery046.mp4\n",
            "(1, 8, 2048)\n",
            "(3268, 8, 2048)\n",
            "[MoviePy] >>>> Building video new_video.mp4\n",
            "[MoviePy] Writing video new_video.mp4\n"
          ],
          "name": "stdout"
        },
        {
          "output_type": "stream",
          "text": [
            "100%|██████████| 372/372 [00:01<00:00, 195.00it/s]\n"
          ],
          "name": "stderr"
        },
        {
          "output_type": "stream",
          "text": [
            "[MoviePy] Done.\n",
            "[MoviePy] >>>> Video ready: new_video.mp4 \n",
            "\n",
            "(3269, 8, 2048)\n",
            "Robbery072.mp4\n",
            "(4, 8, 2048)\n",
            "(3273, 8, 2048)\n",
            "[MoviePy] >>>> Building video new_video.mp4\n",
            "[MoviePy] Writing audio in new_videoTEMP_MPY_wvf_snd.mp3\n"
          ],
          "name": "stdout"
        },
        {
          "output_type": "stream",
          "text": [
            "100%|██████████| 794/794 [00:00<00:00, 989.80it/s]\n"
          ],
          "name": "stderr"
        },
        {
          "output_type": "stream",
          "text": [
            "[MoviePy] Done.\n",
            "[MoviePy] Writing video new_video.mp4\n"
          ],
          "name": "stdout"
        },
        {
          "output_type": "stream",
          "text": [
            "100%|██████████| 1080/1080 [00:05<00:00, 212.47it/s]\n"
          ],
          "name": "stderr"
        },
        {
          "output_type": "stream",
          "text": [
            "[MoviePy] Done.\n",
            "[MoviePy] >>>> Video ready: new_video.mp4 \n",
            "\n",
            "(3277, 8, 2048)\n",
            "Robbery004.mp4\n",
            "(3, 8, 2048)\n",
            "(3280, 8, 2048)\n",
            "[MoviePy] >>>> Building video new_video.mp4\n",
            "[MoviePy] Writing audio in new_videoTEMP_MPY_wvf_snd.mp3\n"
          ],
          "name": "stdout"
        },
        {
          "output_type": "stream",
          "text": [
            "100%|██████████| 683/683 [00:00<00:00, 886.16it/s]"
          ],
          "name": "stderr"
        },
        {
          "output_type": "stream",
          "text": [
            "[MoviePy] Done.\n",
            "[MoviePy] Writing video new_video.mp4\n"
          ],
          "name": "stdout"
        },
        {
          "output_type": "stream",
          "text": [
            "\n",
            "100%|██████████| 929/929 [00:04<00:00, 200.99it/s]\n"
          ],
          "name": "stderr"
        },
        {
          "output_type": "stream",
          "text": [
            "[MoviePy] Done.\n",
            "[MoviePy] >>>> Video ready: new_video.mp4 \n",
            "\n",
            "(3283, 8, 2048)\n",
            "Robbery031.mp4\n",
            "(3, 8, 2048)\n",
            "(3286, 8, 2048)\n",
            "[MoviePy] >>>> Building video new_video.mp4\n",
            "[MoviePy] Writing video new_video.mp4\n"
          ],
          "name": "stdout"
        },
        {
          "output_type": "stream",
          "text": [
            "100%|██████████| 790/790 [00:04<00:00, 197.38it/s]\n"
          ],
          "name": "stderr"
        },
        {
          "output_type": "stream",
          "text": [
            "[MoviePy] Done.\n",
            "[MoviePy] >>>> Video ready: new_video.mp4 \n",
            "\n",
            "(3289, 8, 2048)\n",
            "Robbery068.mp4\n",
            "(1, 8, 2048)\n",
            "(3290, 8, 2048)\n",
            "[MoviePy] >>>> Building video new_video.mp4\n",
            "[MoviePy] Writing audio in new_videoTEMP_MPY_wvf_snd.mp3\n"
          ],
          "name": "stdout"
        },
        {
          "output_type": "stream",
          "text": [
            "100%|██████████| 264/264 [00:00<00:00, 1044.43it/s]"
          ],
          "name": "stderr"
        },
        {
          "output_type": "stream",
          "text": [
            "[MoviePy] Done.\n",
            "[MoviePy] Writing video new_video.mp4\n"
          ],
          "name": "stdout"
        },
        {
          "output_type": "stream",
          "text": [
            "\n",
            "100%|██████████| 360/360 [00:01<00:00, 213.36it/s]\n"
          ],
          "name": "stderr"
        },
        {
          "output_type": "stream",
          "text": [
            "[MoviePy] Done.\n",
            "[MoviePy] >>>> Video ready: new_video.mp4 \n",
            "\n",
            "(3291, 8, 2048)\n",
            "Robbery003.mp4\n",
            "(3, 8, 2048)\n",
            "(3294, 8, 2048)\n",
            "[MoviePy] >>>> Building video new_video.mp4\n",
            "[MoviePy] Writing audio in new_videoTEMP_MPY_wvf_snd.mp3\n"
          ],
          "name": "stdout"
        },
        {
          "output_type": "stream",
          "text": [
            "100%|██████████| 679/679 [00:00<00:00, 983.95it/s]"
          ],
          "name": "stderr"
        },
        {
          "output_type": "stream",
          "text": [
            "[MoviePy] Done.\n",
            "[MoviePy] Writing video new_video.mp4\n"
          ],
          "name": "stdout"
        },
        {
          "output_type": "stream",
          "text": [
            "\n",
            "100%|██████████| 924/924 [00:04<00:00, 218.70it/s]\n"
          ],
          "name": "stderr"
        },
        {
          "output_type": "stream",
          "text": [
            "[MoviePy] Done.\n",
            "[MoviePy] >>>> Video ready: new_video.mp4 \n",
            "\n",
            "(3297, 8, 2048)\n",
            "Robbery001.mp4\n",
            "(3, 8, 2048)\n",
            "(3300, 8, 2048)\n",
            "[MoviePy] >>>> Building video new_video.mp4\n",
            "[MoviePy] Writing audio in new_videoTEMP_MPY_wvf_snd.mp3\n"
          ],
          "name": "stdout"
        },
        {
          "output_type": "stream",
          "text": [
            "100%|██████████| 568/568 [00:00<00:00, 1045.90it/s]"
          ],
          "name": "stderr"
        },
        {
          "output_type": "stream",
          "text": [
            "[MoviePy] Done.\n",
            "[MoviePy] Writing video new_video.mp4\n"
          ],
          "name": "stdout"
        },
        {
          "output_type": "stream",
          "text": [
            "\n",
            "100%|██████████| 772/772 [00:03<00:00, 213.62it/s]\n"
          ],
          "name": "stderr"
        },
        {
          "output_type": "stream",
          "text": [
            "[MoviePy] Done.\n",
            "[MoviePy] >>>> Video ready: new_video.mp4 \n",
            "\n",
            "(3303, 8, 2048)\n",
            "Robbery074.mp4\n",
            "(2, 8, 2048)\n",
            "(3305, 8, 2048)\n",
            "[MoviePy] >>>> Building video new_video.mp4\n",
            "[MoviePy] Writing audio in new_videoTEMP_MPY_wvf_snd.mp3\n"
          ],
          "name": "stdout"
        },
        {
          "output_type": "stream",
          "text": [
            "100%|██████████| 364/364 [00:00<00:00, 1010.25it/s]"
          ],
          "name": "stderr"
        },
        {
          "output_type": "stream",
          "text": [
            "[MoviePy] Done.\n",
            "[MoviePy] Writing video new_video.mp4\n"
          ],
          "name": "stdout"
        },
        {
          "output_type": "stream",
          "text": [
            "\n",
            "100%|██████████| 495/495 [00:02<00:00, 184.72it/s]\n"
          ],
          "name": "stderr"
        },
        {
          "output_type": "stream",
          "text": [
            "[MoviePy] Done.\n",
            "[MoviePy] >>>> Video ready: new_video.mp4 \n",
            "\n",
            "(3307, 8, 2048)\n",
            "Robbery093.mp4\n",
            "(2, 8, 2048)\n",
            "(3309, 8, 2048)\n",
            "[MoviePy] >>>> Building video new_video.mp4\n",
            "[MoviePy] Writing audio in new_videoTEMP_MPY_wvf_snd.mp3\n"
          ],
          "name": "stdout"
        },
        {
          "output_type": "stream",
          "text": [
            "100%|██████████| 430/430 [00:00<00:00, 1039.61it/s]"
          ],
          "name": "stderr"
        },
        {
          "output_type": "stream",
          "text": [
            "[MoviePy] Done.\n",
            "[MoviePy] Writing video new_video.mp4\n"
          ],
          "name": "stdout"
        },
        {
          "output_type": "stream",
          "text": [
            "\n",
            "100%|██████████| 585/585 [00:02<00:00, 235.74it/s]\n"
          ],
          "name": "stderr"
        },
        {
          "output_type": "stream",
          "text": [
            "[MoviePy] Done.\n",
            "[MoviePy] >>>> Video ready: new_video.mp4 \n",
            "\n",
            "(3311, 8, 2048)\n",
            "Robbery107.mp4\n",
            "(3, 8, 2048)\n",
            "(3314, 8, 2048)\n",
            "[MoviePy] >>>> Building video new_video.mp4\n",
            "[MoviePy] Writing audio in new_videoTEMP_MPY_wvf_snd.mp3\n"
          ],
          "name": "stdout"
        },
        {
          "output_type": "stream",
          "text": [
            "100%|██████████| 668/668 [00:00<00:00, 959.21it/s]"
          ],
          "name": "stderr"
        },
        {
          "output_type": "stream",
          "text": [
            "[MoviePy] Done.\n",
            "[MoviePy] Writing video new_video.mp4\n"
          ],
          "name": "stdout"
        },
        {
          "output_type": "stream",
          "text": [
            "\n",
            "100%|██████████| 908/908 [00:04<00:00, 206.96it/s]\n"
          ],
          "name": "stderr"
        },
        {
          "output_type": "stream",
          "text": [
            "[MoviePy] Done.\n",
            "[MoviePy] >>>> Video ready: new_video.mp4 \n",
            "\n",
            "(3317, 8, 2048)\n",
            "Robbery005.mp4\n",
            "(7, 8, 2048)\n",
            "(3324, 8, 2048)\n",
            "[MoviePy] >>>> Building video new_video.mp4\n",
            "[MoviePy] Writing audio in new_videoTEMP_MPY_wvf_snd.mp3\n"
          ],
          "name": "stdout"
        },
        {
          "output_type": "stream",
          "text": [
            "100%|██████████| 1289/1289 [00:01<00:00, 991.53it/s]"
          ],
          "name": "stderr"
        },
        {
          "output_type": "stream",
          "text": [
            "[MoviePy] Done.\n",
            "[MoviePy] Writing video new_video.mp4\n"
          ],
          "name": "stdout"
        },
        {
          "output_type": "stream",
          "text": [
            "\n",
            "100%|██████████| 1753/1753 [00:08<00:00, 217.09it/s]"
          ],
          "name": "stderr"
        },
        {
          "output_type": "stream",
          "text": [
            "[MoviePy] Done.\n",
            "[MoviePy] >>>> Video ready: new_video.mp4 \n",
            "\n"
          ],
          "name": "stdout"
        },
        {
          "output_type": "stream",
          "text": [
            "\n"
          ],
          "name": "stderr"
        },
        {
          "output_type": "stream",
          "text": [
            "(3331, 8, 2048)\n",
            "Robbery089.mp4\n",
            "(1, 8, 2048)\n",
            "(3332, 8, 2048)\n",
            "[MoviePy] >>>> Building video new_video.mp4\n",
            "[MoviePy] Writing audio in new_videoTEMP_MPY_wvf_snd.mp3\n"
          ],
          "name": "stdout"
        },
        {
          "output_type": "stream",
          "text": [
            "100%|██████████| 186/186 [00:00<00:00, 1064.35it/s]"
          ],
          "name": "stderr"
        },
        {
          "output_type": "stream",
          "text": [
            "[MoviePy] Done.\n",
            "[MoviePy] Writing video new_video.mp4\n"
          ],
          "name": "stdout"
        },
        {
          "output_type": "stream",
          "text": [
            "\n",
            "100%|██████████| 253/253 [00:01<00:00, 188.40it/s]\n"
          ],
          "name": "stderr"
        },
        {
          "output_type": "stream",
          "text": [
            "[MoviePy] Done.\n",
            "[MoviePy] >>>> Video ready: new_video.mp4 \n",
            "\n",
            "(3333, 8, 2048)\n",
            "Robbery092.mp4\n",
            "(2, 8, 2048)\n",
            "(3335, 8, 2048)\n",
            "[MoviePy] >>>> Building video new_video.mp4\n",
            "[MoviePy] Writing audio in new_videoTEMP_MPY_wvf_snd.mp3\n"
          ],
          "name": "stdout"
        },
        {
          "output_type": "stream",
          "text": [
            "100%|██████████| 336/336 [00:00<00:00, 1004.48it/s]"
          ],
          "name": "stderr"
        },
        {
          "output_type": "stream",
          "text": [
            "[MoviePy] Done.\n",
            "[MoviePy] Writing video new_video.mp4\n"
          ],
          "name": "stdout"
        },
        {
          "output_type": "stream",
          "text": [
            "\n",
            "100%|██████████| 457/457 [00:02<00:00, 216.01it/s]\n"
          ],
          "name": "stderr"
        },
        {
          "output_type": "stream",
          "text": [
            "[MoviePy] Done.\n",
            "[MoviePy] >>>> Video ready: new_video.mp4 \n",
            "\n",
            "(3337, 8, 2048)\n",
            "Robbery102.mp4\n",
            "(4, 8, 2048)\n",
            "(3341, 8, 2048)\n",
            "[MoviePy] >>>> Building video new_video.mp4\n",
            "[MoviePy] Writing audio in new_videoTEMP_MPY_wvf_snd.mp3\n"
          ],
          "name": "stdout"
        },
        {
          "output_type": "stream",
          "text": [
            "100%|██████████| 766/766 [00:00<00:00, 1007.05it/s]"
          ],
          "name": "stderr"
        },
        {
          "output_type": "stream",
          "text": [
            "[MoviePy] Done.\n",
            "[MoviePy] Writing video new_video.mp4\n"
          ],
          "name": "stdout"
        },
        {
          "output_type": "stream",
          "text": [
            "\n",
            "100%|██████████| 1042/1042 [00:04<00:00, 214.50it/s]"
          ],
          "name": "stderr"
        },
        {
          "output_type": "stream",
          "text": [
            "[MoviePy] Done.\n",
            "[MoviePy] >>>> Video ready: new_video.mp4 \n",
            "\n"
          ],
          "name": "stdout"
        },
        {
          "output_type": "stream",
          "text": [
            "\n"
          ],
          "name": "stderr"
        },
        {
          "output_type": "stream",
          "text": [
            "(3345, 8, 2048)\n",
            "Robbery106.mp4\n",
            "(2, 8, 2048)\n",
            "(3347, 8, 2048)\n",
            "[MoviePy] >>>> Building video new_video.mp4\n",
            "[MoviePy] Writing audio in new_videoTEMP_MPY_wvf_snd.mp3\n"
          ],
          "name": "stdout"
        },
        {
          "output_type": "stream",
          "text": [
            "100%|██████████| 508/508 [00:00<00:00, 1015.52it/s]"
          ],
          "name": "stderr"
        },
        {
          "output_type": "stream",
          "text": [
            "[MoviePy] Done.\n",
            "[MoviePy] Writing video new_video.mp4\n"
          ],
          "name": "stdout"
        },
        {
          "output_type": "stream",
          "text": [
            "\n",
            "100%|█████████▉| 690/691 [00:03<00:00, 228.62it/s]"
          ],
          "name": "stderr"
        },
        {
          "output_type": "stream",
          "text": [
            "[MoviePy] Done.\n",
            "[MoviePy] >>>> Video ready: new_video.mp4 \n",
            "\n"
          ],
          "name": "stdout"
        },
        {
          "output_type": "stream",
          "text": [
            "\n"
          ],
          "name": "stderr"
        },
        {
          "output_type": "stream",
          "text": [
            "(3349, 8, 2048)\n",
            "Robbery098.mp4\n",
            "(1, 8, 2048)\n",
            "(3350, 8, 2048)\n",
            "[MoviePy] >>>> Building video new_video.mp4\n",
            "[MoviePy] Writing audio in new_videoTEMP_MPY_wvf_snd.mp3\n"
          ],
          "name": "stdout"
        },
        {
          "output_type": "stream",
          "text": [
            "100%|██████████| 243/243 [00:00<00:00, 940.01it/s]"
          ],
          "name": "stderr"
        },
        {
          "output_type": "stream",
          "text": [
            "[MoviePy] Done.\n",
            "[MoviePy] Writing video new_video.mp4\n"
          ],
          "name": "stdout"
        },
        {
          "output_type": "stream",
          "text": [
            "\n",
            "100%|██████████| 331/331 [00:01<00:00, 208.80it/s]\n"
          ],
          "name": "stderr"
        },
        {
          "output_type": "stream",
          "text": [
            "[MoviePy] Done.\n",
            "[MoviePy] >>>> Video ready: new_video.mp4 \n",
            "\n",
            "(3351, 8, 2048)\n",
            "Robbery079.mp4\n",
            "(2, 8, 2048)\n",
            "(3353, 8, 2048)\n",
            "[MoviePy] >>>> Building video new_video.mp4\n",
            "[MoviePy] Writing audio in new_videoTEMP_MPY_wvf_snd.mp3\n"
          ],
          "name": "stdout"
        },
        {
          "output_type": "stream",
          "text": [
            "100%|██████████| 413/413 [00:00<00:00, 900.93it/s]"
          ],
          "name": "stderr"
        },
        {
          "output_type": "stream",
          "text": [
            "[MoviePy] Done.\n",
            "[MoviePy] Writing video new_video.mp4\n"
          ],
          "name": "stdout"
        },
        {
          "output_type": "stream",
          "text": [
            "\n",
            "100%|██████████| 562/562 [00:02<00:00, 216.76it/s]\n"
          ],
          "name": "stderr"
        },
        {
          "output_type": "stream",
          "text": [
            "[MoviePy] Done.\n",
            "[MoviePy] >>>> Video ready: new_video.mp4 \n",
            "\n",
            "(3355, 8, 2048)\n",
            "Robbery104.mp4\n",
            "(5, 8, 2048)\n",
            "(3360, 8, 2048)\n",
            "[MoviePy] >>>> Building video new_video.mp4\n",
            "[MoviePy] Writing audio in new_videoTEMP_MPY_wvf_snd.mp3\n"
          ],
          "name": "stdout"
        },
        {
          "output_type": "stream",
          "text": [
            "100%|██████████| 929/929 [00:00<00:00, 1014.37it/s]"
          ],
          "name": "stderr"
        },
        {
          "output_type": "stream",
          "text": [
            "[MoviePy] Done.\n",
            "[MoviePy] Writing video new_video.mp4\n"
          ],
          "name": "stdout"
        },
        {
          "output_type": "stream",
          "text": [
            "\n",
            "100%|█████████▉| 1263/1264 [00:04<00:00, 270.52it/s]"
          ],
          "name": "stderr"
        },
        {
          "output_type": "stream",
          "text": [
            "[MoviePy] Done.\n",
            "[MoviePy] >>>> Video ready: new_video.mp4 \n",
            "\n"
          ],
          "name": "stdout"
        },
        {
          "output_type": "stream",
          "text": [
            "\n"
          ],
          "name": "stderr"
        },
        {
          "output_type": "stream",
          "text": [
            "(3365, 8, 2048)\n",
            "Robbery113.mp4\n",
            "(2, 8, 2048)\n",
            "(3367, 8, 2048)\n",
            "[MoviePy] >>>> Building video new_video.mp4\n",
            "[MoviePy] Writing audio in new_videoTEMP_MPY_wvf_snd.mp3\n"
          ],
          "name": "stdout"
        },
        {
          "output_type": "stream",
          "text": [
            "100%|██████████| 345/345 [00:00<00:00, 1025.78it/s]"
          ],
          "name": "stderr"
        },
        {
          "output_type": "stream",
          "text": [
            "[MoviePy] Done.\n",
            "[MoviePy] Writing video new_video.mp4\n"
          ],
          "name": "stdout"
        },
        {
          "output_type": "stream",
          "text": [
            "\n",
            "100%|██████████| 470/470 [00:02<00:00, 204.76it/s]\n"
          ],
          "name": "stderr"
        },
        {
          "output_type": "stream",
          "text": [
            "[MoviePy] Done.\n",
            "[MoviePy] >>>> Video ready: new_video.mp4 \n",
            "\n",
            "(3369, 8, 2048)\n",
            "Robbery076.mp4\n",
            "(1, 8, 2048)\n",
            "(3370, 8, 2048)\n",
            "[MoviePy] >>>> Building video new_video.mp4\n",
            "[MoviePy] Writing audio in new_videoTEMP_MPY_wvf_snd.mp3\n"
          ],
          "name": "stdout"
        },
        {
          "output_type": "stream",
          "text": [
            "100%|██████████| 271/271 [00:00<00:00, 1045.21it/s]"
          ],
          "name": "stderr"
        },
        {
          "output_type": "stream",
          "text": [
            "[MoviePy] Done.\n",
            "[MoviePy] Writing video new_video.mp4\n"
          ],
          "name": "stdout"
        },
        {
          "output_type": "stream",
          "text": [
            "\n",
            "100%|██████████| 369/369 [00:02<00:00, 169.52it/s]\n"
          ],
          "name": "stderr"
        },
        {
          "output_type": "stream",
          "text": [
            "[MoviePy] Done.\n",
            "[MoviePy] >>>> Video ready: new_video.mp4 \n",
            "\n",
            "(3371, 8, 2048)\n",
            "Robbery116.mp4\n",
            "(1, 8, 2048)\n",
            "(3372, 8, 2048)\n",
            "[MoviePy] >>>> Building video new_video.mp4\n",
            "[MoviePy] Writing audio in new_videoTEMP_MPY_wvf_snd.mp3\n"
          ],
          "name": "stdout"
        },
        {
          "output_type": "stream",
          "text": [
            "100%|██████████| 272/272 [00:00<00:00, 1008.68it/s]"
          ],
          "name": "stderr"
        },
        {
          "output_type": "stream",
          "text": [
            "[MoviePy] Done.\n",
            "[MoviePy] Writing video new_video.mp4\n"
          ],
          "name": "stdout"
        },
        {
          "output_type": "stream",
          "text": [
            "\n",
            "100%|██████████| 370/370 [00:01<00:00, 230.55it/s]\n"
          ],
          "name": "stderr"
        },
        {
          "output_type": "stream",
          "text": [
            "[MoviePy] Done.\n",
            "[MoviePy] >>>> Video ready: new_video.mp4 \n",
            "\n",
            "(3373, 8, 2048)\n",
            "Robbery120.mp4\n",
            "(3, 8, 2048)\n",
            "(3376, 8, 2048)\n",
            "[MoviePy] >>>> Building video new_video.mp4\n",
            "[MoviePy] Writing audio in new_videoTEMP_MPY_wvf_snd.mp3\n"
          ],
          "name": "stdout"
        },
        {
          "output_type": "stream",
          "text": [
            "100%|██████████| 589/589 [00:01<00:00, 444.99it/s]\n"
          ],
          "name": "stderr"
        },
        {
          "output_type": "stream",
          "text": [
            "[MoviePy] Done.\n",
            "[MoviePy] Writing video new_video.mp4\n"
          ],
          "name": "stdout"
        },
        {
          "output_type": "stream",
          "text": [
            "100%|█████████▉| 801/802 [00:03<00:00, 209.70it/s]\n"
          ],
          "name": "stderr"
        },
        {
          "output_type": "stream",
          "text": [
            "[MoviePy] Done.\n",
            "[MoviePy] >>>> Video ready: new_video.mp4 \n",
            "\n",
            "(3379, 8, 2048)\n",
            "Robbery123.mp4\n",
            "(2, 8, 2048)\n",
            "(3381, 8, 2048)\n",
            "[MoviePy] >>>> Building video new_video.mp4\n",
            "[MoviePy] Writing audio in new_videoTEMP_MPY_wvf_snd.mp3\n"
          ],
          "name": "stdout"
        },
        {
          "output_type": "stream",
          "text": [
            "100%|██████████| 498/498 [00:00<00:00, 1007.72it/s]"
          ],
          "name": "stderr"
        },
        {
          "output_type": "stream",
          "text": [
            "[MoviePy] Done.\n"
          ],
          "name": "stdout"
        },
        {
          "output_type": "stream",
          "text": [
            "\n"
          ],
          "name": "stderr"
        },
        {
          "output_type": "stream",
          "text": [
            "[MoviePy] Writing video new_video.mp4\n"
          ],
          "name": "stdout"
        },
        {
          "output_type": "stream",
          "text": [
            "100%|██████████| 678/678 [00:02<00:00, 227.90it/s]\n"
          ],
          "name": "stderr"
        },
        {
          "output_type": "stream",
          "text": [
            "[MoviePy] Done.\n",
            "[MoviePy] >>>> Video ready: new_video.mp4 \n",
            "\n",
            "(3383, 8, 2048)\n",
            "Robbery138.mp4\n",
            "(2, 8, 2048)\n",
            "(3385, 8, 2048)\n",
            "[MoviePy] >>>> Building video new_video.mp4\n",
            "[MoviePy] Writing audio in new_videoTEMP_MPY_wvf_snd.mp3\n"
          ],
          "name": "stdout"
        },
        {
          "output_type": "stream",
          "text": [
            "100%|██████████| 430/430 [00:00<00:00, 753.59it/s]"
          ],
          "name": "stderr"
        },
        {
          "output_type": "stream",
          "text": [
            "[MoviePy] Done.\n",
            "[MoviePy] Writing video new_video.mp4\n"
          ],
          "name": "stdout"
        },
        {
          "output_type": "stream",
          "text": [
            "\n",
            "100%|██████████| 585/585 [00:02<00:00, 197.60it/s]\n"
          ],
          "name": "stderr"
        },
        {
          "output_type": "stream",
          "text": [
            "[MoviePy] Done.\n",
            "[MoviePy] >>>> Video ready: new_video.mp4 \n",
            "\n",
            "(3387, 8, 2048)\n",
            "Robbery132.mp4\n",
            "(2, 8, 2048)\n",
            "(3389, 8, 2048)\n",
            "[MoviePy] >>>> Building video new_video.mp4\n",
            "[MoviePy] Writing audio in new_videoTEMP_MPY_wvf_snd.mp3\n"
          ],
          "name": "stdout"
        },
        {
          "output_type": "stream",
          "text": [
            "100%|██████████| 352/352 [00:00<00:00, 1012.78it/s]"
          ],
          "name": "stderr"
        },
        {
          "output_type": "stream",
          "text": [
            "[MoviePy] Done.\n",
            "[MoviePy] Writing video new_video.mp4\n"
          ],
          "name": "stdout"
        },
        {
          "output_type": "stream",
          "text": [
            "\n",
            "100%|██████████| 479/479 [00:02<00:00, 190.64it/s]\n"
          ],
          "name": "stderr"
        },
        {
          "output_type": "stream",
          "text": [
            "[MoviePy] Done.\n",
            "[MoviePy] >>>> Video ready: new_video.mp4 \n",
            "\n",
            "(3391, 8, 2048)\n",
            "Robbery006.mp4\n",
            "(10, 8, 2048)\n",
            "(3401, 8, 2048)\n",
            "[MoviePy] >>>> Building video new_video.mp4\n",
            "[MoviePy] Writing video new_video.mp4\n"
          ],
          "name": "stdout"
        },
        {
          "output_type": "stream",
          "text": [
            "100%|█████████▉| 2415/2416 [00:13<00:00, 172.81it/s]\n"
          ],
          "name": "stderr"
        },
        {
          "output_type": "stream",
          "text": [
            "[MoviePy] Done.\n",
            "[MoviePy] >>>> Video ready: new_video.mp4 \n",
            "\n",
            "(3411, 8, 2048)\n",
            "Robbery139.mp4\n",
            "(4, 8, 2048)\n",
            "(3415, 8, 2048)\n",
            "[MoviePy] >>>> Building video new_video.mp4\n",
            "[MoviePy] Writing audio in new_videoTEMP_MPY_wvf_snd.mp3\n"
          ],
          "name": "stdout"
        },
        {
          "output_type": "stream",
          "text": [
            "100%|██████████| 713/713 [00:00<00:00, 1007.43it/s]"
          ],
          "name": "stderr"
        },
        {
          "output_type": "stream",
          "text": [
            "[MoviePy] Done.\n",
            "[MoviePy] Writing video new_video.mp4\n"
          ],
          "name": "stdout"
        },
        {
          "output_type": "stream",
          "text": [
            "\n",
            "100%|██████████| 969/969 [00:04<00:00, 222.54it/s]\n"
          ],
          "name": "stderr"
        },
        {
          "output_type": "stream",
          "text": [
            "[MoviePy] Done.\n",
            "[MoviePy] >>>> Video ready: new_video.mp4 \n",
            "\n",
            "(3419, 8, 2048)\n",
            "Robbery143.mp4\n",
            "(2, 8, 2048)\n",
            "(3421, 8, 2048)\n",
            "[MoviePy] >>>> Building video new_video.mp4\n",
            "[MoviePy] Writing audio in new_videoTEMP_MPY_wvf_snd.mp3\n"
          ],
          "name": "stdout"
        },
        {
          "output_type": "stream",
          "text": [
            "100%|██████████| 400/400 [00:00<00:00, 1052.10it/s]"
          ],
          "name": "stderr"
        },
        {
          "output_type": "stream",
          "text": [
            "[MoviePy] Done.\n",
            "[MoviePy] Writing video new_video.mp4\n"
          ],
          "name": "stdout"
        },
        {
          "output_type": "stream",
          "text": [
            "\n",
            "100%|██████████| 544/544 [00:02<00:00, 190.29it/s]\n"
          ],
          "name": "stderr"
        },
        {
          "output_type": "stream",
          "text": [
            "[MoviePy] Done.\n",
            "[MoviePy] >>>> Video ready: new_video.mp4 \n",
            "\n",
            "(3423, 8, 2048)\n",
            "Robbery134.mp4\n",
            "(1, 8, 2048)\n",
            "(3424, 8, 2048)\n",
            "[MoviePy] >>>> Building video new_video.mp4\n",
            "[MoviePy] Writing audio in new_videoTEMP_MPY_wvf_snd.mp3\n"
          ],
          "name": "stdout"
        },
        {
          "output_type": "stream",
          "text": [
            "100%|██████████| 255/255 [00:00<00:00, 638.68it/s]\n"
          ],
          "name": "stderr"
        },
        {
          "output_type": "stream",
          "text": [
            "[MoviePy] Done.\n",
            "[MoviePy] Writing video new_video.mp4\n"
          ],
          "name": "stdout"
        },
        {
          "output_type": "stream",
          "text": [
            "100%|██████████| 347/347 [00:01<00:00, 182.82it/s]\n"
          ],
          "name": "stderr"
        },
        {
          "output_type": "stream",
          "text": [
            "[MoviePy] Done.\n",
            "[MoviePy] >>>> Video ready: new_video.mp4 \n",
            "\n",
            "(3425, 8, 2048)\n",
            "Robbery122.mp4\n",
            "(4, 8, 2048)\n",
            "(3429, 8, 2048)\n",
            "[MoviePy] >>>> Building video new_video.mp4\n",
            "[MoviePy] Writing audio in new_videoTEMP_MPY_wvf_snd.mp3\n"
          ],
          "name": "stdout"
        },
        {
          "output_type": "stream",
          "text": [
            "100%|██████████| 729/729 [00:00<00:00, 1047.30it/s]\n"
          ],
          "name": "stderr"
        },
        {
          "output_type": "stream",
          "text": [
            "[MoviePy] Done.\n",
            "[MoviePy] Writing video new_video.mp4\n"
          ],
          "name": "stdout"
        },
        {
          "output_type": "stream",
          "text": [
            "100%|██████████| 992/992 [00:04<00:00, 227.94it/s]\n"
          ],
          "name": "stderr"
        },
        {
          "output_type": "stream",
          "text": [
            "[MoviePy] Done.\n",
            "[MoviePy] >>>> Video ready: new_video.mp4 \n",
            "\n",
            "(3433, 8, 2048)\n",
            "Robbery144.mp4\n",
            "(1, 8, 2048)\n",
            "(3434, 8, 2048)\n",
            "[MoviePy] >>>> Building video new_video.mp4\n",
            "[MoviePy] Writing audio in new_videoTEMP_MPY_wvf_snd.mp3\n"
          ],
          "name": "stdout"
        },
        {
          "output_type": "stream",
          "text": [
            "100%|██████████| 244/244 [00:00<00:00, 1040.08it/s]"
          ],
          "name": "stderr"
        },
        {
          "output_type": "stream",
          "text": [
            "[MoviePy] Done.\n",
            "[MoviePy] Writing video new_video.mp4\n"
          ],
          "name": "stdout"
        },
        {
          "output_type": "stream",
          "text": [
            "\n",
            "100%|██████████| 331/331 [00:01<00:00, 202.24it/s]\n"
          ],
          "name": "stderr"
        },
        {
          "output_type": "stream",
          "text": [
            "[MoviePy] Done.\n",
            "[MoviePy] >>>> Video ready: new_video.mp4 \n",
            "\n",
            "(3435, 8, 2048)\n",
            "Robbery147.mp4\n",
            "(3, 8, 2048)\n",
            "(3438, 8, 2048)\n",
            "[MoviePy] >>>> Building video new_video.mp4\n",
            "[MoviePy] Writing audio in new_videoTEMP_MPY_wvf_snd.mp3\n"
          ],
          "name": "stdout"
        },
        {
          "output_type": "stream",
          "text": [
            "100%|██████████| 525/525 [00:00<00:00, 1019.14it/s]"
          ],
          "name": "stderr"
        },
        {
          "output_type": "stream",
          "text": [
            "[MoviePy] Done.\n",
            "[MoviePy] Writing video new_video.mp4\n"
          ],
          "name": "stdout"
        },
        {
          "output_type": "stream",
          "text": [
            "\n",
            "100%|██████████| 714/714 [00:03<00:00, 230.26it/s]\n"
          ],
          "name": "stderr"
        },
        {
          "output_type": "stream",
          "text": [
            "[MoviePy] Done.\n",
            "[MoviePy] >>>> Video ready: new_video.mp4 \n",
            "\n",
            "(3441, 8, 2048)\n",
            "Robbery007.mp4\n",
            "(7, 8, 2048)\n",
            "(3448, 8, 2048)\n",
            "[MoviePy] >>>> Building video new_video.mp4\n",
            "[MoviePy] Writing video new_video.mp4\n"
          ],
          "name": "stdout"
        },
        {
          "output_type": "stream",
          "text": [
            "100%|█████████▉| 1818/1819 [00:09<00:00, 200.18it/s]\n"
          ],
          "name": "stderr"
        },
        {
          "output_type": "stream",
          "text": [
            "[MoviePy] Done.\n",
            "[MoviePy] >>>> Video ready: new_video.mp4 \n",
            "\n",
            "(3455, 8, 2048)\n",
            "Robbery008.mp4\n",
            "(9, 8, 2048)\n",
            "(3464, 8, 2048)\n",
            "[MoviePy] >>>> Building video new_video.mp4\n",
            "[MoviePy] Writing video new_video.mp4\n"
          ],
          "name": "stdout"
        },
        {
          "output_type": "stream",
          "text": [
            "100%|█████████▉| 2250/2251 [00:15<00:00, 147.08it/s]\n"
          ],
          "name": "stderr"
        },
        {
          "output_type": "stream",
          "text": [
            "[MoviePy] Done.\n",
            "[MoviePy] >>>> Video ready: new_video.mp4 \n",
            "\n",
            "(3473, 8, 2048)\n",
            "Robbery009.mp4\n",
            "(8, 8, 2048)\n",
            "(3481, 8, 2048)\n",
            "[MoviePy] >>>> Building video new_video.mp4\n",
            "[MoviePy] Writing video new_video.mp4\n"
          ],
          "name": "stdout"
        },
        {
          "output_type": "stream",
          "text": [
            "100%|█████████▉| 2049/2050 [00:10<00:00, 192.29it/s]\n"
          ],
          "name": "stderr"
        },
        {
          "output_type": "stream",
          "text": [
            "[MoviePy] Done.\n",
            "[MoviePy] >>>> Video ready: new_video.mp4 \n",
            "\n",
            "(3489, 8, 2048)\n",
            "Robbery010.mp4\n",
            "(7, 8, 2048)\n",
            "(3496, 8, 2048)\n",
            "[MoviePy] >>>> Building video new_video.mp4\n",
            "[MoviePy] Writing video new_video.mp4\n"
          ],
          "name": "stdout"
        },
        {
          "output_type": "stream",
          "text": [
            "100%|██████████| 1881/1881 [00:09<00:00, 200.46it/s]\n"
          ],
          "name": "stderr"
        },
        {
          "output_type": "stream",
          "text": [
            "[MoviePy] Done.\n",
            "[MoviePy] >>>> Video ready: new_video.mp4 \n",
            "\n",
            "(3503, 8, 2048)\n",
            "Robbery011.mp4\n",
            "(5, 8, 2048)\n",
            "(3508, 8, 2048)\n",
            "[MoviePy] >>>> Building video new_video.mp4\n",
            "[MoviePy] Writing video new_video.mp4\n"
          ],
          "name": "stdout"
        },
        {
          "output_type": "stream",
          "text": [
            "100%|██████████| 1321/1321 [00:06<00:00, 194.25it/s]\n"
          ],
          "name": "stderr"
        },
        {
          "output_type": "stream",
          "text": [
            "[MoviePy] Done.\n",
            "[MoviePy] >>>> Video ready: new_video.mp4 \n",
            "\n",
            "(3513, 8, 2048)\n",
            "Robbery012.mp4\n",
            "(2, 8, 2048)\n",
            "(3515, 8, 2048)\n",
            "[MoviePy] >>>> Building video new_video.mp4\n",
            "[MoviePy] Writing video new_video.mp4\n"
          ],
          "name": "stdout"
        },
        {
          "output_type": "stream",
          "text": [
            "100%|█████████▉| 471/472 [00:02<00:00, 173.51it/s]\n"
          ],
          "name": "stderr"
        },
        {
          "output_type": "stream",
          "text": [
            "[MoviePy] Done.\n",
            "[MoviePy] >>>> Video ready: new_video.mp4 \n",
            "\n",
            "(3517, 8, 2048)\n",
            "Robbery013.mp4\n",
            "(14, 8, 2048)\n",
            "(3531, 8, 2048)\n",
            "[MoviePy] >>>> Building video new_video.mp4\n",
            "[MoviePy] Writing video new_video.mp4\n"
          ],
          "name": "stdout"
        },
        {
          "output_type": "stream",
          "text": [
            "100%|█████████▉| 3528/3529 [00:16<00:00, 208.03it/s]"
          ],
          "name": "stderr"
        },
        {
          "output_type": "stream",
          "text": [
            "[MoviePy] Done.\n",
            "[MoviePy] >>>> Video ready: new_video.mp4 \n",
            "\n"
          ],
          "name": "stdout"
        },
        {
          "output_type": "stream",
          "text": [
            "\n"
          ],
          "name": "stderr"
        },
        {
          "output_type": "stream",
          "text": [
            "(3545, 8, 2048)\n",
            "Robbery014.mp4\n",
            "(18, 8, 2048)\n",
            "(3563, 8, 2048)\n",
            "[MoviePy] >>>> Building video new_video.mp4\n",
            "[MoviePy] Writing video new_video.mp4\n"
          ],
          "name": "stdout"
        },
        {
          "output_type": "stream",
          "text": [
            "100%|██████████| 4519/4519 [00:29<00:00, 150.76it/s]\n"
          ],
          "name": "stderr"
        },
        {
          "output_type": "stream",
          "text": [
            "[MoviePy] Done.\n",
            "[MoviePy] >>>> Video ready: new_video.mp4 \n",
            "\n",
            "(3581, 8, 2048)\n",
            "Robbery015.mp4\n",
            "(10, 8, 2048)\n",
            "(3591, 8, 2048)\n",
            "[MoviePy] >>>> Building video new_video.mp4\n",
            "[MoviePy] Writing video new_video.mp4\n"
          ],
          "name": "stdout"
        },
        {
          "output_type": "stream",
          "text": [
            "100%|██████████| 2554/2554 [00:12<00:00, 212.48it/s]"
          ],
          "name": "stderr"
        },
        {
          "output_type": "stream",
          "text": [
            "[MoviePy] Done.\n",
            "[MoviePy] >>>> Video ready: new_video.mp4 \n",
            "\n"
          ],
          "name": "stdout"
        },
        {
          "output_type": "stream",
          "text": [
            "\n"
          ],
          "name": "stderr"
        },
        {
          "output_type": "stream",
          "text": [
            "(3601, 8, 2048)\n",
            "Robbery016.mp4\n",
            "(6, 8, 2048)\n",
            "(3607, 8, 2048)\n",
            "[MoviePy] >>>> Building video new_video.mp4\n",
            "[MoviePy] Writing video new_video.mp4\n"
          ],
          "name": "stdout"
        },
        {
          "output_type": "stream",
          "text": [
            "100%|██████████| 1428/1428 [00:09<00:00, 154.45it/s]\n"
          ],
          "name": "stderr"
        },
        {
          "output_type": "stream",
          "text": [
            "[MoviePy] Done.\n",
            "[MoviePy] >>>> Video ready: new_video.mp4 \n",
            "\n",
            "(3613, 8, 2048)\n",
            "Robbery017.mp4\n",
            "(10, 8, 2048)\n",
            "(3623, 8, 2048)\n",
            "[MoviePy] >>>> Building video new_video.mp4\n",
            "[MoviePy] Writing video new_video.mp4\n"
          ],
          "name": "stdout"
        },
        {
          "output_type": "stream",
          "text": [
            "100%|█████████▉| 2508/2509 [00:12<00:00, 200.92it/s]\n"
          ],
          "name": "stderr"
        },
        {
          "output_type": "stream",
          "text": [
            "[MoviePy] Done.\n",
            "[MoviePy] >>>> Video ready: new_video.mp4 \n",
            "\n",
            "(3633, 8, 2048)\n",
            "Robbery018.mp4\n",
            "(11, 8, 2048)\n",
            "(3644, 8, 2048)\n",
            "[MoviePy] >>>> Building video new_video.mp4\n",
            "[MoviePy] Writing video new_video.mp4\n"
          ],
          "name": "stdout"
        },
        {
          "output_type": "stream",
          "text": [
            "100%|██████████| 2671/2671 [00:17<00:00, 154.70it/s]\n"
          ],
          "name": "stderr"
        },
        {
          "output_type": "stream",
          "text": [
            "[MoviePy] Done.\n",
            "[MoviePy] >>>> Video ready: new_video.mp4 \n",
            "\n",
            "(3655, 8, 2048)\n",
            "Robbery019.mp4\n",
            "(23, 8, 2048)\n",
            "(3678, 8, 2048)\n",
            "[MoviePy] >>>> Building video new_video.mp4\n",
            "[MoviePy] Writing video new_video.mp4\n"
          ],
          "name": "stdout"
        },
        {
          "output_type": "stream",
          "text": [
            "100%|██████████| 5595/5595 [00:34<00:00, 160.55it/s]\n"
          ],
          "name": "stderr"
        },
        {
          "output_type": "stream",
          "text": [
            "[MoviePy] Done.\n",
            "[MoviePy] >>>> Video ready: new_video.mp4 \n",
            "\n",
            "(3701, 8, 2048)\n",
            "Robbery020.mp4\n",
            "(11, 8, 2048)\n",
            "(3712, 8, 2048)\n",
            "[MoviePy] >>>> Building video new_video.mp4\n",
            "[MoviePy] Writing video new_video.mp4\n"
          ],
          "name": "stdout"
        },
        {
          "output_type": "stream",
          "text": [
            "100%|██████████| 2725/2725 [00:14<00:00, 186.48it/s]\n"
          ],
          "name": "stderr"
        },
        {
          "output_type": "stream",
          "text": [
            "[MoviePy] Done.\n",
            "[MoviePy] >>>> Video ready: new_video.mp4 \n",
            "\n",
            "(3723, 8, 2048)\n",
            "Robbery021.mp4\n",
            "(30, 8, 2048)\n",
            "(3753, 8, 2048)\n",
            "[MoviePy] >>>> Building video new_video.mp4\n",
            "[MoviePy] Writing video new_video.mp4\n"
          ],
          "name": "stdout"
        },
        {
          "output_type": "stream",
          "text": [
            "100%|█████████▉| 7284/7285 [00:37<00:00, 196.39it/s]"
          ],
          "name": "stderr"
        },
        {
          "output_type": "stream",
          "text": [
            "[MoviePy] Done.\n"
          ],
          "name": "stdout"
        },
        {
          "output_type": "stream",
          "text": [
            "\n"
          ],
          "name": "stderr"
        },
        {
          "output_type": "stream",
          "text": [
            "[MoviePy] >>>> Video ready: new_video.mp4 \n",
            "\n",
            "(3783, 8, 2048)\n",
            "Robbery022.mp4\n",
            "(14, 8, 2048)\n",
            "(3797, 8, 2048)\n",
            "[MoviePy] >>>> Building video new_video.mp4\n",
            "[MoviePy] Writing video new_video.mp4\n"
          ],
          "name": "stdout"
        },
        {
          "output_type": "stream",
          "text": [
            "100%|█████████▉| 3366/3367 [00:16<00:00, 208.92it/s]\n"
          ],
          "name": "stderr"
        },
        {
          "output_type": "stream",
          "text": [
            "[MoviePy] Done.\n",
            "[MoviePy] >>>> Video ready: new_video.mp4 \n",
            "\n",
            "(3811, 8, 2048)\n",
            "Robbery023.mp4\n",
            "(3, 8, 2048)\n",
            "(3814, 8, 2048)\n",
            "[MoviePy] >>>> Building video new_video.mp4\n",
            "[MoviePy] Writing video new_video.mp4\n"
          ],
          "name": "stdout"
        },
        {
          "output_type": "stream",
          "text": [
            "100%|██████████| 912/912 [00:06<00:00, 138.45it/s]\n"
          ],
          "name": "stderr"
        },
        {
          "output_type": "stream",
          "text": [
            "[MoviePy] Done.\n",
            "[MoviePy] >>>> Video ready: new_video.mp4 \n",
            "\n",
            "(3817, 8, 2048)\n",
            "Robbery024.mp4\n",
            "(10, 8, 2048)\n",
            "(3827, 8, 2048)\n",
            "[MoviePy] >>>> Building video new_video.mp4\n",
            "[MoviePy] Writing video new_video.mp4\n"
          ],
          "name": "stdout"
        },
        {
          "output_type": "stream",
          "text": [
            "100%|██████████| 2395/2395 [00:17<00:00, 137.98it/s]\n"
          ],
          "name": "stderr"
        },
        {
          "output_type": "stream",
          "text": [
            "[MoviePy] Done.\n",
            "[MoviePy] >>>> Video ready: new_video.mp4 \n",
            "\n",
            "(3837, 8, 2048)\n",
            "Robbery025.mp4\n",
            "(6, 8, 2048)\n",
            "(3843, 8, 2048)\n",
            "[MoviePy] >>>> Building video new_video.mp4\n",
            "[MoviePy] Writing video new_video.mp4\n"
          ],
          "name": "stdout"
        },
        {
          "output_type": "stream",
          "text": [
            "100%|██████████| 1467/1467 [00:10<00:00, 136.12it/s]\n"
          ],
          "name": "stderr"
        },
        {
          "output_type": "stream",
          "text": [
            "[MoviePy] Done.\n",
            "[MoviePy] >>>> Video ready: new_video.mp4 \n",
            "\n",
            "(3849, 8, 2048)\n",
            "Robbery026.mp4\n",
            "(22, 8, 2048)\n",
            "(3871, 8, 2048)\n",
            "[MoviePy] >>>> Building video new_video.mp4\n",
            "[MoviePy] Writing video new_video.mp4\n"
          ],
          "name": "stdout"
        },
        {
          "output_type": "stream",
          "text": [
            "100%|█████████▉| 5418/5419 [00:35<00:00, 150.53it/s]\n"
          ],
          "name": "stderr"
        },
        {
          "output_type": "stream",
          "text": [
            "[MoviePy] Done.\n",
            "[MoviePy] >>>> Video ready: new_video.mp4 \n",
            "\n",
            "(3893, 8, 2048)\n",
            "Robbery027.mp4\n",
            "(19, 8, 2048)\n",
            "(3912, 8, 2048)\n",
            "[MoviePy] >>>> Building video new_video.mp4\n",
            "[MoviePy] Writing video new_video.mp4\n"
          ],
          "name": "stdout"
        },
        {
          "output_type": "stream",
          "text": [
            "100%|██████████| 4705/4705 [00:25<00:00, 184.87it/s]\n"
          ],
          "name": "stderr"
        },
        {
          "output_type": "stream",
          "text": [
            "[MoviePy] Done.\n",
            "[MoviePy] >>>> Video ready: new_video.mp4 \n",
            "\n",
            "(3931, 8, 2048)\n",
            "Robbery028.mp4\n",
            "(5, 8, 2048)\n",
            "(3936, 8, 2048)\n",
            "[MoviePy] >>>> Building video new_video.mp4\n",
            "[MoviePy] Writing video new_video.mp4\n"
          ],
          "name": "stdout"
        },
        {
          "output_type": "stream",
          "text": [
            "100%|█████████▉| 1314/1315 [00:07<00:00, 173.68it/s]\n"
          ],
          "name": "stderr"
        },
        {
          "output_type": "stream",
          "text": [
            "[MoviePy] Done.\n",
            "[MoviePy] >>>> Video ready: new_video.mp4 \n",
            "\n",
            "(3941, 8, 2048)\n",
            "Robbery029.mp4\n",
            "(6, 8, 2048)\n",
            "(3947, 8, 2048)\n",
            "[MoviePy] >>>> Building video new_video.mp4\n",
            "[MoviePy] Writing video new_video.mp4\n"
          ],
          "name": "stdout"
        },
        {
          "output_type": "stream",
          "text": [
            "100%|██████████| 1432/1432 [00:07<00:00, 188.88it/s]\n"
          ],
          "name": "stderr"
        },
        {
          "output_type": "stream",
          "text": [
            "[MoviePy] Done.\n",
            "[MoviePy] >>>> Video ready: new_video.mp4 \n",
            "\n",
            "(3953, 8, 2048)\n",
            "Robbery030.mp4\n",
            "(11, 8, 2048)\n",
            "(3964, 8, 2048)\n",
            "[MoviePy] >>>> Building video new_video.mp4\n",
            "[MoviePy] Writing video new_video.mp4\n"
          ],
          "name": "stdout"
        },
        {
          "output_type": "stream",
          "text": [
            "100%|█████████▉| 2832/2833 [00:13<00:00, 214.67it/s]"
          ],
          "name": "stderr"
        },
        {
          "output_type": "stream",
          "text": [
            "[MoviePy] Done.\n",
            "[MoviePy] >>>> Video ready: new_video.mp4 \n",
            "\n"
          ],
          "name": "stdout"
        },
        {
          "output_type": "stream",
          "text": [
            "\n"
          ],
          "name": "stderr"
        },
        {
          "output_type": "stream",
          "text": [
            "(3975, 8, 2048)\n",
            "Robbery033.mp4\n",
            "(4, 8, 2048)\n",
            "(3979, 8, 2048)\n",
            "[MoviePy] >>>> Building video new_video.mp4\n",
            "[MoviePy] Writing video new_video.mp4\n"
          ],
          "name": "stdout"
        },
        {
          "output_type": "stream",
          "text": [
            "100%|██████████| 951/951 [00:05<00:00, 189.11it/s]\n"
          ],
          "name": "stderr"
        },
        {
          "output_type": "stream",
          "text": [
            "[MoviePy] Done.\n",
            "[MoviePy] >>>> Video ready: new_video.mp4 \n",
            "\n",
            "(3983, 8, 2048)\n",
            "Robbery034.mp4\n",
            "(20, 8, 2048)\n",
            "(4003, 8, 2048)\n",
            "[MoviePy] >>>> Building video new_video.mp4\n",
            "[MoviePy] Writing video new_video.mp4\n"
          ],
          "name": "stdout"
        },
        {
          "output_type": "stream",
          "text": [
            "100%|██████████| 4806/4806 [00:33<00:00, 144.34it/s]\n"
          ],
          "name": "stderr"
        },
        {
          "output_type": "stream",
          "text": [
            "[MoviePy] Done.\n",
            "[MoviePy] >>>> Video ready: new_video.mp4 \n",
            "\n",
            "(4023, 8, 2048)\n",
            "Robbery035.mp4\n",
            "(9, 8, 2048)\n",
            "(4032, 8, 2048)\n",
            "[MoviePy] >>>> Building video new_video.mp4\n",
            "[MoviePy] Writing video new_video.mp4\n"
          ],
          "name": "stdout"
        },
        {
          "output_type": "stream",
          "text": [
            "100%|█████████▉| 2271/2272 [00:12<00:00, 188.92it/s]\n"
          ],
          "name": "stderr"
        },
        {
          "output_type": "stream",
          "text": [
            "[MoviePy] Done.\n",
            "[MoviePy] >>>> Video ready: new_video.mp4 \n",
            "\n",
            "(4041, 8, 2048)\n",
            "Robbery036.mp4\n",
            "(22, 8, 2048)\n",
            "(4063, 8, 2048)\n",
            "[MoviePy] >>>> Building video new_video.mp4\n",
            "[MoviePy] Writing video new_video.mp4\n"
          ],
          "name": "stdout"
        },
        {
          "output_type": "stream",
          "text": [
            "100%|██████████| 5377/5377 [00:29<00:00, 183.49it/s]\n"
          ],
          "name": "stderr"
        },
        {
          "output_type": "stream",
          "text": [
            "[MoviePy] Done.\n",
            "[MoviePy] >>>> Video ready: new_video.mp4 \n",
            "\n",
            "(4085, 8, 2048)\n",
            "Robbery037.mp4\n",
            "(15, 8, 2048)\n",
            "(4100, 8, 2048)\n",
            "[MoviePy] >>>> Building video new_video.mp4\n",
            "[MoviePy] Writing video new_video.mp4\n"
          ],
          "name": "stdout"
        },
        {
          "output_type": "stream",
          "text": [
            "100%|██████████| 3705/3705 [00:19<00:00, 185.88it/s]\n"
          ],
          "name": "stderr"
        },
        {
          "output_type": "stream",
          "text": [
            "[MoviePy] Done.\n",
            "[MoviePy] >>>> Video ready: new_video.mp4 \n",
            "\n",
            "(4115, 8, 2048)\n",
            "Robbery038.mp4\n",
            "(7, 8, 2048)\n",
            "(4122, 8, 2048)\n",
            "[MoviePy] >>>> Building video new_video.mp4\n",
            "[MoviePy] Writing video new_video.mp4\n"
          ],
          "name": "stdout"
        },
        {
          "output_type": "stream",
          "text": [
            "100%|██████████| 1680/1680 [00:08<00:00, 207.26it/s]\n"
          ],
          "name": "stderr"
        },
        {
          "output_type": "stream",
          "text": [
            "[MoviePy] Done.\n",
            "[MoviePy] >>>> Video ready: new_video.mp4 \n",
            "\n",
            "(4129, 8, 2048)\n",
            "Robbery041.mp4\n",
            "(5, 8, 2048)\n",
            "(4134, 8, 2048)\n",
            "[MoviePy] >>>> Building video new_video.mp4\n",
            "[MoviePy] Writing video new_video.mp4\n"
          ],
          "name": "stdout"
        },
        {
          "output_type": "stream",
          "text": [
            "100%|█████████▉| 1323/1324 [00:07<00:00, 186.06it/s]\n"
          ],
          "name": "stderr"
        },
        {
          "output_type": "stream",
          "text": [
            "[MoviePy] Done.\n",
            "[MoviePy] >>>> Video ready: new_video.mp4 \n",
            "\n",
            "(4139, 8, 2048)\n",
            "Robbery042.mp4\n",
            "(9, 8, 2048)\n",
            "(4148, 8, 2048)\n",
            "[MoviePy] >>>> Building video new_video.mp4\n",
            "[MoviePy] Writing video new_video.mp4\n"
          ],
          "name": "stdout"
        },
        {
          "output_type": "stream",
          "text": [
            "100%|██████████| 2169/2169 [00:11<00:00, 193.49it/s]\n"
          ],
          "name": "stderr"
        },
        {
          "output_type": "stream",
          "text": [
            "[MoviePy] Done.\n",
            "[MoviePy] >>>> Video ready: new_video.mp4 \n",
            "\n",
            "(4157, 8, 2048)\n",
            "Robbery043.mp4\n",
            "(4, 8, 2048)\n",
            "(4161, 8, 2048)\n",
            "[MoviePy] >>>> Building video new_video.mp4\n",
            "[MoviePy] Writing video new_video.mp4\n"
          ],
          "name": "stdout"
        },
        {
          "output_type": "stream",
          "text": [
            "100%|█████████▉| 1020/1021 [00:06<00:00, 163.53it/s]\n"
          ],
          "name": "stderr"
        },
        {
          "output_type": "stream",
          "text": [
            "[MoviePy] Done.\n",
            "[MoviePy] >>>> Video ready: new_video.mp4 \n",
            "\n",
            "(4165, 8, 2048)\n",
            "Robbery044.mp4\n",
            "(2, 8, 2048)\n",
            "(4167, 8, 2048)\n",
            "[MoviePy] >>>> Building video new_video.mp4\n",
            "[MoviePy] Writing video new_video.mp4\n"
          ],
          "name": "stdout"
        },
        {
          "output_type": "stream",
          "text": [
            "100%|█████████▉| 468/469 [00:02<00:00, 192.43it/s]\n"
          ],
          "name": "stderr"
        },
        {
          "output_type": "stream",
          "text": [
            "[MoviePy] Done.\n",
            "[MoviePy] >>>> Video ready: new_video.mp4 \n",
            "\n",
            "(4169, 8, 2048)\n",
            "Robbery045.mp4\n",
            "(5, 8, 2048)\n",
            "(4174, 8, 2048)\n",
            "[MoviePy] >>>> Building video new_video.mp4\n",
            "[MoviePy] Writing video new_video.mp4\n"
          ],
          "name": "stdout"
        },
        {
          "output_type": "stream",
          "text": [
            "100%|██████████| 1206/1206 [00:06<00:00, 180.06it/s]\n"
          ],
          "name": "stderr"
        },
        {
          "output_type": "stream",
          "text": [
            "[MoviePy] Done.\n",
            "[MoviePy] >>>> Video ready: new_video.mp4 \n",
            "\n",
            "(4179, 8, 2048)\n",
            "Robbery047.mp4\n",
            "(5, 8, 2048)\n",
            "(4184, 8, 2048)\n",
            "[MoviePy] >>>> Building video new_video.mp4\n",
            "[MoviePy] Writing video new_video.mp4\n"
          ],
          "name": "stdout"
        },
        {
          "output_type": "stream",
          "text": [
            "100%|██████████| 1372/1372 [00:09<00:00, 140.80it/s]\n"
          ],
          "name": "stderr"
        },
        {
          "output_type": "stream",
          "text": [
            "[MoviePy] Done.\n",
            "[MoviePy] >>>> Video ready: new_video.mp4 \n",
            "\n",
            "(4189, 8, 2048)\n",
            "Robbery048.mp4\n",
            "(2, 8, 2048)\n",
            "(4191, 8, 2048)\n",
            "[MoviePy] >>>> Building video new_video.mp4\n",
            "[MoviePy] Writing audio in new_videoTEMP_MPY_wvf_snd.mp3\n"
          ],
          "name": "stdout"
        },
        {
          "output_type": "stream",
          "text": [
            "100%|██████████| 492/492 [00:00<00:00, 995.64it/s]"
          ],
          "name": "stderr"
        },
        {
          "output_type": "stream",
          "text": [
            "[MoviePy] Done.\n",
            "[MoviePy] Writing video new_video.mp4\n"
          ],
          "name": "stdout"
        },
        {
          "output_type": "stream",
          "text": [
            "\n",
            "100%|██████████| 670/670 [00:03<00:00, 197.41it/s]\n"
          ],
          "name": "stderr"
        },
        {
          "output_type": "stream",
          "text": [
            "[MoviePy] Done.\n",
            "[MoviePy] >>>> Video ready: new_video.mp4 \n",
            "\n",
            "(4193, 8, 2048)\n",
            "Robbery049.mp4\n",
            "(8, 8, 2048)\n",
            "(4201, 8, 2048)\n",
            "[MoviePy] >>>> Building video new_video.mp4\n",
            "[MoviePy] Writing audio in new_videoTEMP_MPY_wvf_snd.mp3\n"
          ],
          "name": "stdout"
        },
        {
          "output_type": "stream",
          "text": [
            "100%|██████████| 1457/1457 [00:01<00:00, 1409.19it/s]"
          ],
          "name": "stderr"
        },
        {
          "output_type": "stream",
          "text": [
            "[MoviePy] Done.\n",
            "[MoviePy] Writing video new_video.mp4\n"
          ],
          "name": "stdout"
        },
        {
          "output_type": "stream",
          "text": [
            "\n",
            "100%|██████████| 1982/1982 [00:09<00:00, 209.94it/s]\n"
          ],
          "name": "stderr"
        },
        {
          "output_type": "stream",
          "text": [
            "[MoviePy] Done.\n",
            "[MoviePy] >>>> Video ready: new_video.mp4 \n",
            "\n",
            "(4209, 8, 2048)\n",
            "Robbery050.mp4\n",
            "(4, 8, 2048)\n",
            "(4213, 8, 2048)\n",
            "[MoviePy] >>>> Building video new_video.mp4\n",
            "[MoviePy] Writing audio in new_videoTEMP_MPY_wvf_snd.mp3\n"
          ],
          "name": "stdout"
        },
        {
          "output_type": "stream",
          "text": [
            "100%|██████████| 804/804 [00:00<00:00, 1009.48it/s]"
          ],
          "name": "stderr"
        },
        {
          "output_type": "stream",
          "text": [
            "[MoviePy] Done.\n",
            "[MoviePy] Writing video new_video.mp4\n"
          ],
          "name": "stdout"
        },
        {
          "output_type": "stream",
          "text": [
            "\n",
            "100%|██████████| 1093/1093 [00:04<00:00, 220.09it/s]\n"
          ],
          "name": "stderr"
        },
        {
          "output_type": "stream",
          "text": [
            "[MoviePy] Done.\n",
            "[MoviePy] >>>> Video ready: new_video.mp4 \n",
            "\n",
            "(4217, 8, 2048)\n",
            "Robbery051.mp4\n",
            "(5, 8, 2048)\n",
            "(4222, 8, 2048)\n",
            "[MoviePy] >>>> Building video new_video.mp4\n",
            "[MoviePy] Writing audio in new_videoTEMP_MPY_wvf_snd.mp3\n"
          ],
          "name": "stdout"
        },
        {
          "output_type": "stream",
          "text": [
            "100%|██████████| 1034/1034 [00:01<00:00, 932.64it/s]"
          ],
          "name": "stderr"
        },
        {
          "output_type": "stream",
          "text": [
            "[MoviePy] Done.\n",
            "[MoviePy] Writing video new_video.mp4\n"
          ],
          "name": "stdout"
        },
        {
          "output_type": "stream",
          "text": [
            "\n",
            "100%|██████████| 1407/1407 [00:07<00:00, 189.80it/s]\n"
          ],
          "name": "stderr"
        },
        {
          "output_type": "stream",
          "text": [
            "[MoviePy] Done.\n",
            "[MoviePy] >>>> Video ready: new_video.mp4 \n",
            "\n",
            "(4227, 8, 2048)\n",
            "Robbery052.mp4\n",
            "(7, 8, 2048)\n",
            "(4234, 8, 2048)\n",
            "[MoviePy] >>>> Building video new_video.mp4\n",
            "[MoviePy] Writing audio in new_videoTEMP_MPY_wvf_snd.mp3\n"
          ],
          "name": "stdout"
        },
        {
          "output_type": "stream",
          "text": [
            "100%|██████████| 1359/1359 [00:01<00:00, 1007.66it/s]"
          ],
          "name": "stderr"
        },
        {
          "output_type": "stream",
          "text": [
            "[MoviePy] Done.\n",
            "[MoviePy] Writing video new_video.mp4\n"
          ],
          "name": "stdout"
        },
        {
          "output_type": "stream",
          "text": [
            "\n",
            "100%|██████████| 1848/1848 [00:07<00:00, 234.47it/s]\n"
          ],
          "name": "stderr"
        },
        {
          "output_type": "stream",
          "text": [
            "[MoviePy] Done.\n",
            "[MoviePy] >>>> Video ready: new_video.mp4 \n",
            "\n",
            "(4241, 8, 2048)\n",
            "Robbery054.mp4\n",
            "(6, 8, 2048)\n",
            "(4247, 8, 2048)\n",
            "[MoviePy] >>>> Building video new_video.mp4\n",
            "[MoviePy] Writing audio in new_videoTEMP_MPY_wvf_snd.mp3\n"
          ],
          "name": "stdout"
        },
        {
          "output_type": "stream",
          "text": [
            "100%|██████████| 1124/1124 [00:01<00:00, 792.31it/s]"
          ],
          "name": "stderr"
        },
        {
          "output_type": "stream",
          "text": [
            "[MoviePy] Done.\n",
            "[MoviePy] Writing video new_video.mp4\n"
          ],
          "name": "stdout"
        },
        {
          "output_type": "stream",
          "text": [
            "\n",
            "100%|██████████| 1530/1530 [00:08<00:00, 177.04it/s]\n"
          ],
          "name": "stderr"
        },
        {
          "output_type": "stream",
          "text": [
            "[MoviePy] Done.\n",
            "[MoviePy] >>>> Video ready: new_video.mp4 \n",
            "\n",
            "(4253, 8, 2048)\n",
            "Robbery055.mp4\n",
            "(15, 8, 2048)\n",
            "(4268, 8, 2048)\n",
            "[MoviePy] >>>> Building video new_video.mp4\n",
            "[MoviePy] Writing audio in new_videoTEMP_MPY_wvf_snd.mp3\n"
          ],
          "name": "stdout"
        },
        {
          "output_type": "stream",
          "text": [
            "100%|██████████| 2664/2664 [00:02<00:00, 1020.02it/s]"
          ],
          "name": "stderr"
        },
        {
          "output_type": "stream",
          "text": [
            "[MoviePy] Done.\n",
            "[MoviePy] Writing video new_video.mp4\n"
          ],
          "name": "stdout"
        },
        {
          "output_type": "stream",
          "text": [
            "\n",
            "100%|██████████| 3624/3624 [00:15<00:00, 236.93it/s]"
          ],
          "name": "stderr"
        },
        {
          "output_type": "stream",
          "text": [
            "[MoviePy] Done.\n",
            "[MoviePy] >>>> Video ready: new_video.mp4 \n",
            "\n"
          ],
          "name": "stdout"
        },
        {
          "output_type": "stream",
          "text": [
            "\n"
          ],
          "name": "stderr"
        },
        {
          "output_type": "stream",
          "text": [
            "(4283, 8, 2048)\n",
            "Robbery056.mp4\n",
            "(11, 8, 2048)\n",
            "(4294, 8, 2048)\n",
            "[MoviePy] >>>> Building video new_video.mp4\n",
            "[MoviePy] Writing audio in new_videoTEMP_MPY_wvf_snd.mp3\n"
          ],
          "name": "stdout"
        },
        {
          "output_type": "stream",
          "text": [
            "100%|██████████| 1960/1960 [00:01<00:00, 989.96it/s]"
          ],
          "name": "stderr"
        },
        {
          "output_type": "stream",
          "text": [
            "[MoviePy] Done.\n",
            "[MoviePy] Writing video new_video.mp4\n"
          ],
          "name": "stdout"
        },
        {
          "output_type": "stream",
          "text": [
            "\n",
            "100%|██████████| 2667/2667 [00:12<00:00, 211.20it/s]\n"
          ],
          "name": "stderr"
        },
        {
          "output_type": "stream",
          "text": [
            "[MoviePy] Done.\n",
            "[MoviePy] >>>> Video ready: new_video.mp4 \n",
            "\n",
            "(4305, 8, 2048)\n",
            "Robbery057.mp4\n",
            "(8, 8, 2048)\n",
            "(4313, 8, 2048)\n",
            "[MoviePy] >>>> Building video new_video.mp4\n",
            "[MoviePy] Writing audio in new_videoTEMP_MPY_wvf_snd.mp3\n"
          ],
          "name": "stdout"
        },
        {
          "output_type": "stream",
          "text": [
            "100%|██████████| 1559/1559 [00:01<00:00, 1021.85it/s]"
          ],
          "name": "stderr"
        },
        {
          "output_type": "stream",
          "text": [
            "[MoviePy] Done.\n",
            "[MoviePy] Writing video new_video.mp4\n"
          ],
          "name": "stdout"
        },
        {
          "output_type": "stream",
          "text": [
            "\n",
            "100%|█████████▉| 2121/2122 [00:10<00:00, 204.46it/s]\n"
          ],
          "name": "stderr"
        },
        {
          "output_type": "stream",
          "text": [
            "[MoviePy] Done.\n",
            "[MoviePy] >>>> Video ready: new_video.mp4 \n",
            "\n",
            "(4321, 8, 2048)\n",
            "Robbery058.mp4\n",
            "(6, 8, 2048)\n",
            "(4327, 8, 2048)\n",
            "[MoviePy] >>>> Building video new_video.mp4\n",
            "[MoviePy] Writing audio in new_videoTEMP_MPY_wvf_snd.mp3\n"
          ],
          "name": "stdout"
        },
        {
          "output_type": "stream",
          "text": [
            "100%|██████████| 1173/1173 [00:01<00:00, 1029.26it/s]"
          ],
          "name": "stderr"
        },
        {
          "output_type": "stream",
          "text": [
            "[MoviePy] Done.\n",
            "[MoviePy] Writing video new_video.mp4\n"
          ],
          "name": "stdout"
        },
        {
          "output_type": "stream",
          "text": [
            "\n",
            "100%|██████████| 1595/1595 [00:06<00:00, 230.40it/s]"
          ],
          "name": "stderr"
        },
        {
          "output_type": "stream",
          "text": [
            "[MoviePy] Done.\n",
            "[MoviePy] >>>> Video ready: new_video.mp4 \n",
            "\n"
          ],
          "name": "stdout"
        },
        {
          "output_type": "stream",
          "text": [
            "\n"
          ],
          "name": "stderr"
        },
        {
          "output_type": "stream",
          "text": [
            "(4333, 8, 2048)\n",
            "Robbery060.mp4\n",
            "(8, 8, 2048)\n",
            "(4341, 8, 2048)\n",
            "[MoviePy] >>>> Building video new_video.mp4\n",
            "[MoviePy] Writing audio in new_videoTEMP_MPY_wvf_snd.mp3\n"
          ],
          "name": "stdout"
        },
        {
          "output_type": "stream",
          "text": [
            "100%|██████████| 1549/1549 [00:01<00:00, 1449.82it/s]"
          ],
          "name": "stderr"
        },
        {
          "output_type": "stream",
          "text": [
            "[MoviePy] Done.\n",
            "[MoviePy] Writing video new_video.mp4\n"
          ],
          "name": "stdout"
        },
        {
          "output_type": "stream",
          "text": [
            "\n",
            "100%|██████████| 2107/2107 [00:09<00:00, 215.49it/s]\n"
          ],
          "name": "stderr"
        },
        {
          "output_type": "stream",
          "text": [
            "[MoviePy] Done.\n",
            "[MoviePy] >>>> Video ready: new_video.mp4 \n",
            "\n",
            "(4349, 8, 2048)\n",
            "Robbery061.mp4\n",
            "(13, 8, 2048)\n",
            "(4362, 8, 2048)\n",
            "[MoviePy] >>>> Building video new_video.mp4\n",
            "[MoviePy] Writing audio in new_videoTEMP_MPY_wvf_snd.mp3\n"
          ],
          "name": "stdout"
        },
        {
          "output_type": "stream",
          "text": [
            "100%|██████████| 2320/2320 [00:02<00:00, 1010.49it/s]"
          ],
          "name": "stderr"
        },
        {
          "output_type": "stream",
          "text": [
            "[MoviePy] Done.\n",
            "[MoviePy] Writing video new_video.mp4\n"
          ],
          "name": "stdout"
        },
        {
          "output_type": "stream",
          "text": [
            "\n",
            "100%|██████████| 3156/3156 [00:13<00:00, 226.34it/s]"
          ],
          "name": "stderr"
        },
        {
          "output_type": "stream",
          "text": [
            "[MoviePy] Done.\n",
            "[MoviePy] >>>> Video ready: new_video.mp4 \n",
            "\n"
          ],
          "name": "stdout"
        },
        {
          "output_type": "stream",
          "text": [
            "\n"
          ],
          "name": "stderr"
        },
        {
          "output_type": "stream",
          "text": [
            "(4375, 8, 2048)\n",
            "Robbery062.mp4\n",
            "(7, 8, 2048)\n",
            "(4382, 8, 2048)\n",
            "[MoviePy] >>>> Building video new_video.mp4\n",
            "[MoviePy] Writing audio in new_videoTEMP_MPY_wvf_snd.mp3\n"
          ],
          "name": "stdout"
        },
        {
          "output_type": "stream",
          "text": [
            "100%|██████████| 1289/1289 [00:01<00:00, 1000.55it/s]"
          ],
          "name": "stderr"
        },
        {
          "output_type": "stream",
          "text": [
            "[MoviePy] Done.\n",
            "[MoviePy] Writing video new_video.mp4\n"
          ],
          "name": "stdout"
        },
        {
          "output_type": "stream",
          "text": [
            "\n",
            "100%|██████████| 1754/1754 [00:07<00:00, 234.03it/s]\n"
          ],
          "name": "stderr"
        },
        {
          "output_type": "stream",
          "text": [
            "[MoviePy] Done.\n",
            "[MoviePy] >>>> Video ready: new_video.mp4 \n",
            "\n",
            "(4389, 8, 2048)\n",
            "Robbery063.mp4\n",
            "(3, 8, 2048)\n",
            "(4392, 8, 2048)\n",
            "[MoviePy] >>>> Building video new_video.mp4\n",
            "[MoviePy] Writing audio in new_videoTEMP_MPY_wvf_snd.mp3\n"
          ],
          "name": "stdout"
        },
        {
          "output_type": "stream",
          "text": [
            "100%|██████████| 682/682 [00:00<00:00, 988.23it/s]"
          ],
          "name": "stderr"
        },
        {
          "output_type": "stream",
          "text": [
            "[MoviePy] Done.\n",
            "[MoviePy] Writing video new_video.mp4\n"
          ],
          "name": "stdout"
        },
        {
          "output_type": "stream",
          "text": [
            "\n",
            "100%|█████████▉| 927/928 [00:04<00:00, 190.69it/s]\n"
          ],
          "name": "stderr"
        },
        {
          "output_type": "stream",
          "text": [
            "[MoviePy] Done.\n",
            "[MoviePy] >>>> Video ready: new_video.mp4 \n",
            "\n",
            "(4395, 8, 2048)\n",
            "Robbery064.mp4\n",
            "(4, 8, 2048)\n",
            "(4399, 8, 2048)\n",
            "[MoviePy] >>>> Building video new_video.mp4\n",
            "[MoviePy] Writing audio in new_videoTEMP_MPY_wvf_snd.mp3\n"
          ],
          "name": "stdout"
        },
        {
          "output_type": "stream",
          "text": [
            "100%|██████████| 725/725 [00:01<00:00, 706.33it/s]"
          ],
          "name": "stderr"
        },
        {
          "output_type": "stream",
          "text": [
            "[MoviePy] Done.\n",
            "[MoviePy] Writing video new_video.mp4\n"
          ],
          "name": "stdout"
        },
        {
          "output_type": "stream",
          "text": [
            "\n",
            "100%|██████████| 987/987 [00:04<00:00, 240.39it/s]\n"
          ],
          "name": "stderr"
        },
        {
          "output_type": "stream",
          "text": [
            "[MoviePy] Done.\n",
            "[MoviePy] >>>> Video ready: new_video.mp4 \n",
            "\n",
            "(4403, 8, 2048)\n",
            "Shooting013.mp4\n",
            "(4, 8, 2048)\n",
            "(4407, 8, 2048)\n",
            "[MoviePy] >>>> Building video new_video.mp4\n",
            "[MoviePy] Writing audio in new_videoTEMP_MPY_wvf_snd.mp3\n"
          ],
          "name": "stdout"
        },
        {
          "output_type": "stream",
          "text": [
            "100%|██████████| 692/692 [00:00<00:00, 1028.85it/s]"
          ],
          "name": "stderr"
        },
        {
          "output_type": "stream",
          "text": [
            "[MoviePy] Done.\n",
            "[MoviePy] Writing video new_video.mp4\n"
          ],
          "name": "stdout"
        },
        {
          "output_type": "stream",
          "text": [
            "\n",
            "100%|██████████| 942/942 [00:04<00:00, 227.90it/s]\n"
          ],
          "name": "stderr"
        },
        {
          "output_type": "stream",
          "text": [
            "[MoviePy] Done.\n",
            "[MoviePy] >>>> Video ready: new_video.mp4 \n",
            "\n",
            "(4411, 8, 2048)\n",
            "Shooting017.mp4\n",
            "(2, 8, 2048)\n",
            "(4413, 8, 2048)\n",
            "[MoviePy] >>>> Building video new_video.mp4\n",
            "[MoviePy] Writing audio in new_videoTEMP_MPY_wvf_snd.mp3\n"
          ],
          "name": "stdout"
        },
        {
          "output_type": "stream",
          "text": [
            "100%|██████████| 336/336 [00:00<00:00, 992.48it/s]"
          ],
          "name": "stderr"
        },
        {
          "output_type": "stream",
          "text": [
            "[MoviePy] Done.\n",
            "[MoviePy] Writing video new_video.mp4\n"
          ],
          "name": "stdout"
        },
        {
          "output_type": "stream",
          "text": [
            "\n",
            "100%|██████████| 457/457 [00:02<00:00, 207.13it/s]\n"
          ],
          "name": "stderr"
        },
        {
          "output_type": "stream",
          "text": [
            "[MoviePy] Done.\n",
            "[MoviePy] >>>> Video ready: new_video.mp4 \n",
            "\n",
            "(4415, 8, 2048)\n",
            "Shooting023.mp4\n",
            "(1, 8, 2048)\n",
            "(4416, 8, 2048)\n",
            "[MoviePy] >>>> Building video new_video.mp4\n",
            "[MoviePy] Writing audio in new_videoTEMP_MPY_wvf_snd.mp3\n"
          ],
          "name": "stdout"
        },
        {
          "output_type": "stream",
          "text": [
            "100%|██████████| 294/294 [00:00<00:00, 1035.65it/s]"
          ],
          "name": "stderr"
        },
        {
          "output_type": "stream",
          "text": [
            "[MoviePy] Done.\n",
            "[MoviePy] Writing video new_video.mp4\n"
          ],
          "name": "stdout"
        },
        {
          "output_type": "stream",
          "text": [
            "\n",
            "100%|██████████| 400/400 [00:01<00:00, 204.73it/s]\n"
          ],
          "name": "stderr"
        },
        {
          "output_type": "stream",
          "text": [
            "[MoviePy] Done.\n",
            "[MoviePy] >>>> Video ready: new_video.mp4 \n",
            "\n",
            "(4417, 8, 2048)\n",
            "Shooting002.mp4\n",
            "(5, 8, 2048)\n",
            "(4422, 8, 2048)\n",
            "[MoviePy] >>>> Building video new_video.mp4\n",
            "[MoviePy] Writing audio in new_videoTEMP_MPY_wvf_snd.mp3\n"
          ],
          "name": "stdout"
        },
        {
          "output_type": "stream",
          "text": [
            "100%|██████████| 888/888 [00:00<00:00, 1044.51it/s]"
          ],
          "name": "stderr"
        },
        {
          "output_type": "stream",
          "text": [
            "[MoviePy] Done.\n",
            "[MoviePy] Writing video new_video.mp4\n"
          ],
          "name": "stdout"
        },
        {
          "output_type": "stream",
          "text": [
            "\n",
            "100%|██████████| 1207/1207 [00:05<00:00, 208.30it/s]\n"
          ],
          "name": "stderr"
        },
        {
          "output_type": "stream",
          "text": [
            "[MoviePy] Done.\n",
            "[MoviePy] >>>> Video ready: new_video.mp4 \n",
            "\n",
            "(4427, 8, 2048)\n",
            "Shooting021.mp4\n",
            "(5, 8, 2048)\n",
            "(4432, 8, 2048)\n",
            "[MoviePy] >>>> Building video new_video.mp4\n",
            "[MoviePy] Writing audio in new_videoTEMP_MPY_wvf_snd.mp3\n"
          ],
          "name": "stdout"
        },
        {
          "output_type": "stream",
          "text": [
            "100%|██████████| 892/892 [00:00<00:00, 1014.27it/s]"
          ],
          "name": "stderr"
        },
        {
          "output_type": "stream",
          "text": [
            "[MoviePy] Done.\n",
            "[MoviePy] Writing video new_video.mp4\n"
          ],
          "name": "stdout"
        },
        {
          "output_type": "stream",
          "text": [
            "\n",
            "100%|██████████| 1213/1213 [00:05<00:00, 208.33it/s]\n"
          ],
          "name": "stderr"
        },
        {
          "output_type": "stream",
          "text": [
            "[MoviePy] Done.\n",
            "[MoviePy] >>>> Video ready: new_video.mp4 \n",
            "\n",
            "(4437, 8, 2048)\n",
            "Shooting030.mp4\n",
            "(3, 8, 2048)\n",
            "(4440, 8, 2048)\n",
            "[MoviePy] >>>> Building video new_video.mp4\n",
            "[MoviePy] Writing audio in new_videoTEMP_MPY_wvf_snd.mp3\n"
          ],
          "name": "stdout"
        },
        {
          "output_type": "stream",
          "text": [
            "100%|██████████| 673/673 [00:00<00:00, 1003.98it/s]"
          ],
          "name": "stderr"
        },
        {
          "output_type": "stream",
          "text": [
            "[MoviePy] Done.\n",
            "[MoviePy] Writing video new_video.mp4\n"
          ],
          "name": "stdout"
        },
        {
          "output_type": "stream",
          "text": [
            "\n",
            "100%|██████████| 916/916 [00:03<00:00, 232.10it/s]"
          ],
          "name": "stderr"
        },
        {
          "output_type": "stream",
          "text": [
            "[MoviePy] Done.\n",
            "[MoviePy] >>>> Video ready: new_video.mp4 \n",
            "\n"
          ],
          "name": "stdout"
        },
        {
          "output_type": "stream",
          "text": [
            "\n"
          ],
          "name": "stderr"
        },
        {
          "output_type": "stream",
          "text": [
            "(4443, 8, 2048)\n",
            "Shooting026.mp4\n",
            "(2, 8, 2048)\n",
            "(4445, 8, 2048)\n",
            "[MoviePy] >>>> Building video new_video.mp4\n",
            "[MoviePy] Writing audio in new_videoTEMP_MPY_wvf_snd.mp3\n"
          ],
          "name": "stdout"
        },
        {
          "output_type": "stream",
          "text": [
            "100%|██████████| 337/337 [00:00<00:00, 1037.54it/s]"
          ],
          "name": "stderr"
        },
        {
          "output_type": "stream",
          "text": [
            "[MoviePy] Done.\n",
            "[MoviePy] Writing video new_video.mp4\n"
          ],
          "name": "stdout"
        },
        {
          "output_type": "stream",
          "text": [
            "\n",
            "100%|██████████| 459/459 [00:02<00:00, 200.44it/s]\n"
          ],
          "name": "stderr"
        },
        {
          "output_type": "stream",
          "text": [
            "[MoviePy] Done.\n",
            "[MoviePy] >>>> Video ready: new_video.mp4 \n",
            "\n",
            "(4447, 8, 2048)\n",
            "Shooting037.mp4\n",
            "(1, 8, 2048)\n",
            "(4448, 8, 2048)\n",
            "[MoviePy] >>>> Building video new_video.mp4\n",
            "[MoviePy] Writing audio in new_videoTEMP_MPY_wvf_snd.mp3\n"
          ],
          "name": "stdout"
        },
        {
          "output_type": "stream",
          "text": [
            "100%|██████████| 206/206 [00:00<00:00, 1055.54it/s]\n"
          ],
          "name": "stderr"
        },
        {
          "output_type": "stream",
          "text": [
            "[MoviePy] Done.\n",
            "[MoviePy] Writing video new_video.mp4\n"
          ],
          "name": "stdout"
        },
        {
          "output_type": "stream",
          "text": [
            "100%|█████████▉| 279/280 [00:01<00:00, 240.11it/s]"
          ],
          "name": "stderr"
        },
        {
          "output_type": "stream",
          "text": [
            "[MoviePy] Done.\n"
          ],
          "name": "stdout"
        },
        {
          "output_type": "stream",
          "text": [
            "\n"
          ],
          "name": "stderr"
        },
        {
          "output_type": "stream",
          "text": [
            "[MoviePy] >>>> Video ready: new_video.mp4 \n",
            "\n",
            "(4449, 8, 2048)\n",
            "Shooting039.mp4\n",
            "(2, 8, 2048)\n",
            "(4451, 8, 2048)\n",
            "[MoviePy] >>>> Building video new_video.mp4\n",
            "[MoviePy] Writing audio in new_videoTEMP_MPY_wvf_snd.mp3\n"
          ],
          "name": "stdout"
        },
        {
          "output_type": "stream",
          "text": [
            "100%|██████████| 376/376 [00:00<00:00, 853.39it/s]"
          ],
          "name": "stderr"
        },
        {
          "output_type": "stream",
          "text": [
            "[MoviePy] Done.\n",
            "[MoviePy] Writing video new_video.mp4\n"
          ],
          "name": "stdout"
        },
        {
          "output_type": "stream",
          "text": [
            "\n",
            "100%|██████████| 512/512 [00:02<00:00, 226.84it/s]\n"
          ],
          "name": "stderr"
        },
        {
          "output_type": "stream",
          "text": [
            "[MoviePy] Done.\n",
            "[MoviePy] >>>> Video ready: new_video.mp4 \n",
            "\n",
            "(4453, 8, 2048)\n",
            "Shooting034.mp4\n",
            "(4, 8, 2048)\n",
            "(4457, 8, 2048)\n",
            "[MoviePy] >>>> Building video new_video.mp4\n",
            "[MoviePy] Writing audio in new_videoTEMP_MPY_wvf_snd.mp3\n"
          ],
          "name": "stdout"
        },
        {
          "output_type": "stream",
          "text": [
            "100%|██████████| 761/761 [00:00<00:00, 999.77it/s]"
          ],
          "name": "stderr"
        },
        {
          "output_type": "stream",
          "text": [
            "[MoviePy] Done.\n",
            "[MoviePy] Writing video new_video.mp4\n"
          ],
          "name": "stdout"
        },
        {
          "output_type": "stream",
          "text": [
            "\n",
            "100%|█████████▉| 1035/1036 [00:04<00:00, 225.69it/s]"
          ],
          "name": "stderr"
        },
        {
          "output_type": "stream",
          "text": [
            "[MoviePy] Done.\n",
            "[MoviePy] >>>> Video ready: new_video.mp4 \n",
            "\n"
          ],
          "name": "stdout"
        },
        {
          "output_type": "stream",
          "text": [
            "\n"
          ],
          "name": "stderr"
        },
        {
          "output_type": "stream",
          "text": [
            "(4461, 8, 2048)\n",
            "Shooting001.mp4\n",
            "(1, 8, 2048)\n",
            "(4462, 8, 2048)\n",
            "[MoviePy] >>>> Building video new_video.mp4\n",
            "[MoviePy] Writing audio in new_videoTEMP_MPY_wvf_snd.mp3\n"
          ],
          "name": "stdout"
        },
        {
          "output_type": "stream",
          "text": [
            "100%|██████████| 175/175 [00:00<00:00, 1041.91it/s]"
          ],
          "name": "stderr"
        },
        {
          "output_type": "stream",
          "text": [
            "[MoviePy] Done.\n",
            "[MoviePy] Writing video new_video.mp4\n"
          ],
          "name": "stdout"
        },
        {
          "output_type": "stream",
          "text": [
            "\n",
            "100%|█████████▉| 237/238 [00:01<00:00, 179.55it/s]\n"
          ],
          "name": "stderr"
        },
        {
          "output_type": "stream",
          "text": [
            "[MoviePy] Done.\n",
            "[MoviePy] >>>> Video ready: new_video.mp4 \n",
            "\n",
            "(4463, 8, 2048)\n",
            "Shooting003.mp4\n",
            "(7, 8, 2048)\n",
            "(4470, 8, 2048)\n",
            "[MoviePy] >>>> Building video new_video.mp4\n",
            "[MoviePy] Writing audio in new_videoTEMP_MPY_wvf_snd.mp3\n"
          ],
          "name": "stdout"
        },
        {
          "output_type": "stream",
          "text": [
            "100%|██████████| 1232/1232 [00:01<00:00, 1017.39it/s]"
          ],
          "name": "stderr"
        },
        {
          "output_type": "stream",
          "text": [
            "[MoviePy] Done.\n",
            "[MoviePy] Writing video new_video.mp4\n"
          ],
          "name": "stdout"
        },
        {
          "output_type": "stream",
          "text": [
            "\n",
            "100%|██████████| 1677/1677 [00:07<00:00, 212.64it/s]\n"
          ],
          "name": "stderr"
        },
        {
          "output_type": "stream",
          "text": [
            "[MoviePy] Done.\n",
            "[MoviePy] >>>> Video ready: new_video.mp4 \n",
            "\n",
            "(4477, 8, 2048)\n",
            "Shooting054.mp4\n",
            "(1, 8, 2048)\n",
            "(4478, 8, 2048)\n",
            "[MoviePy] >>>> Building video new_video.mp4\n",
            "[MoviePy] Writing audio in new_videoTEMP_MPY_wvf_snd.mp3\n"
          ],
          "name": "stdout"
        },
        {
          "output_type": "stream",
          "text": [
            "100%|██████████| 270/270 [00:00<00:00, 743.15it/s]"
          ],
          "name": "stderr"
        },
        {
          "output_type": "stream",
          "text": [
            "[MoviePy] Done.\n",
            "[MoviePy] Writing video new_video.mp4\n"
          ],
          "name": "stdout"
        },
        {
          "output_type": "stream",
          "text": [
            "\n",
            "100%|██████████| 367/367 [00:01<00:00, 201.38it/s]\n"
          ],
          "name": "stderr"
        },
        {
          "output_type": "stream",
          "text": [
            "[MoviePy] Done.\n",
            "[MoviePy] >>>> Video ready: new_video.mp4 \n",
            "\n",
            "(4479, 8, 2048)\n",
            "Shooting004.mp4\n",
            "(5, 8, 2048)\n",
            "(4484, 8, 2048)\n",
            "[MoviePy] >>>> Building video new_video.mp4\n",
            "[MoviePy] Writing audio in new_videoTEMP_MPY_wvf_snd.mp3\n"
          ],
          "name": "stdout"
        },
        {
          "output_type": "stream",
          "text": [
            "100%|██████████| 997/997 [00:01<00:00, 830.04it/s]"
          ],
          "name": "stderr"
        },
        {
          "output_type": "stream",
          "text": [
            "[MoviePy] Done.\n",
            "[MoviePy] Writing video new_video.mp4\n"
          ],
          "name": "stdout"
        },
        {
          "output_type": "stream",
          "text": [
            "\n",
            "100%|██████████| 1356/1356 [00:05<00:00, 227.12it/s]"
          ],
          "name": "stderr"
        },
        {
          "output_type": "stream",
          "text": [
            "[MoviePy] Done.\n",
            "[MoviePy] >>>> Video ready: new_video.mp4 \n",
            "\n"
          ],
          "name": "stdout"
        },
        {
          "output_type": "stream",
          "text": [
            "\n"
          ],
          "name": "stderr"
        },
        {
          "output_type": "stream",
          "text": [
            "(4489, 8, 2048)\n",
            "Shooting005.mp4\n",
            "(17, 8, 2048)\n",
            "(4506, 8, 2048)\n",
            "[MoviePy] >>>> Building video new_video.mp4\n",
            "[MoviePy] Writing audio in new_videoTEMP_MPY_wvf_snd.mp3\n"
          ],
          "name": "stdout"
        },
        {
          "output_type": "stream",
          "text": [
            "100%|██████████| 2981/2981 [00:03<00:00, 906.12it/s]"
          ],
          "name": "stderr"
        },
        {
          "output_type": "stream",
          "text": [
            "[MoviePy] Done.\n",
            "[MoviePy] Writing video new_video.mp4\n"
          ],
          "name": "stdout"
        },
        {
          "output_type": "stream",
          "text": [
            "\n",
            "100%|██████████| 4056/4056 [00:16<00:00, 241.43it/s]\n"
          ],
          "name": "stderr"
        },
        {
          "output_type": "stream",
          "text": [
            "[MoviePy] Done.\n",
            "[MoviePy] >>>> Video ready: new_video.mp4 \n",
            "\n",
            "(4523, 8, 2048)\n",
            "Shooting006.mp4\n",
            "(20, 8, 2048)\n",
            "(4543, 8, 2048)\n",
            "[MoviePy] >>>> Building video new_video.mp4\n",
            "[MoviePy] Writing audio in new_videoTEMP_MPY_wvf_snd.mp3\n"
          ],
          "name": "stdout"
        },
        {
          "output_type": "stream",
          "text": [
            "100%|██████████| 3646/3646 [00:04<00:00, 743.30it/s]"
          ],
          "name": "stderr"
        },
        {
          "output_type": "stream",
          "text": [
            "[MoviePy] Done.\n",
            "[MoviePy] Writing video new_video.mp4\n"
          ],
          "name": "stdout"
        },
        {
          "output_type": "stream",
          "text": [
            "\n",
            "100%|██████████| 4961/4961 [00:21<00:00, 231.11it/s]\n"
          ],
          "name": "stderr"
        },
        {
          "output_type": "stream",
          "text": [
            "[MoviePy] Done.\n",
            "[MoviePy] >>>> Video ready: new_video.mp4 \n",
            "\n",
            "(4563, 8, 2048)\n",
            "Shooting007.mp4\n",
            "(5, 8, 2048)\n",
            "(4568, 8, 2048)\n",
            "[MoviePy] >>>> Building video new_video.mp4\n",
            "[MoviePy] Writing audio in new_videoTEMP_MPY_wvf_snd.mp3\n"
          ],
          "name": "stdout"
        },
        {
          "output_type": "stream",
          "text": [
            "100%|██████████| 1007/1007 [00:00<00:00, 1035.81it/s]"
          ],
          "name": "stderr"
        },
        {
          "output_type": "stream",
          "text": [
            "[MoviePy] Done.\n",
            "[MoviePy] Writing video new_video.mp4\n"
          ],
          "name": "stdout"
        },
        {
          "output_type": "stream",
          "text": [
            "\n",
            "100%|██████████| 1370/1370 [00:05<00:00, 231.09it/s]\n"
          ],
          "name": "stderr"
        },
        {
          "output_type": "stream",
          "text": [
            "[MoviePy] Done.\n",
            "[MoviePy] >>>> Video ready: new_video.mp4 \n",
            "\n",
            "(4573, 8, 2048)\n",
            "Shooting008.mp4\n",
            "(4, 8, 2048)\n",
            "(4577, 8, 2048)\n",
            "[MoviePy] >>>> Building video new_video.mp4\n",
            "[MoviePy] Writing video new_video.mp4\n"
          ],
          "name": "stdout"
        },
        {
          "output_type": "stream",
          "text": [
            "100%|██████████| 1087/1087 [00:06<00:00, 168.66it/s]\n"
          ],
          "name": "stderr"
        },
        {
          "output_type": "stream",
          "text": [
            "[MoviePy] Done.\n",
            "[MoviePy] >>>> Video ready: new_video.mp4 \n",
            "\n",
            "(4581, 8, 2048)\n",
            "Shooting009.mp4\n",
            "(18, 8, 2048)\n",
            "(4599, 8, 2048)\n",
            "[MoviePy] >>>> Building video new_video.mp4\n",
            "[MoviePy] Writing video new_video.mp4\n"
          ],
          "name": "stdout"
        },
        {
          "output_type": "stream",
          "text": [
            "100%|██████████| 4393/4393 [00:21<00:00, 202.19it/s]\n"
          ],
          "name": "stderr"
        },
        {
          "output_type": "stream",
          "text": [
            "[MoviePy] Done.\n",
            "[MoviePy] >>>> Video ready: new_video.mp4 \n",
            "\n",
            "(4617, 8, 2048)\n",
            "Shooting010.mp4\n",
            "(7, 8, 2048)\n",
            "(4624, 8, 2048)\n",
            "[MoviePy] >>>> Building video new_video.mp4\n",
            "[MoviePy] Writing audio in new_videoTEMP_MPY_wvf_snd.mp3\n"
          ],
          "name": "stdout"
        },
        {
          "output_type": "stream",
          "text": [
            "100%|██████████| 1359/1359 [00:01<00:00, 1008.66it/s]"
          ],
          "name": "stderr"
        },
        {
          "output_type": "stream",
          "text": [
            "[MoviePy] Done.\n",
            "[MoviePy] Writing video new_video.mp4\n"
          ],
          "name": "stdout"
        },
        {
          "output_type": "stream",
          "text": [
            "\n",
            "100%|██████████| 1849/1849 [00:08<00:00, 220.56it/s]\n"
          ],
          "name": "stderr"
        },
        {
          "output_type": "stream",
          "text": [
            "[MoviePy] Done.\n",
            "[MoviePy] >>>> Video ready: new_video.mp4 \n",
            "\n",
            "(4631, 8, 2048)\n",
            "Shooting011.mp4\n",
            "(7, 8, 2048)\n",
            "(4638, 8, 2048)\n",
            "[MoviePy] >>>> Building video new_video.mp4\n",
            "[MoviePy] Writing audio in new_videoTEMP_MPY_wvf_snd.mp3\n"
          ],
          "name": "stdout"
        },
        {
          "output_type": "stream",
          "text": [
            "100%|██████████| 1344/1344 [00:01<00:00, 1006.22it/s]"
          ],
          "name": "stderr"
        },
        {
          "output_type": "stream",
          "text": [
            "[MoviePy] Done.\n",
            "[MoviePy] Writing video new_video.mp4\n"
          ],
          "name": "stdout"
        },
        {
          "output_type": "stream",
          "text": [
            "\n",
            "100%|██████████| 1829/1829 [00:08<00:00, 205.65it/s]\n"
          ],
          "name": "stderr"
        },
        {
          "output_type": "stream",
          "text": [
            "[MoviePy] Done.\n",
            "[MoviePy] >>>> Video ready: new_video.mp4 \n",
            "\n",
            "(4645, 8, 2048)\n",
            "Shooting012.mp4\n",
            "(5, 8, 2048)\n",
            "(4650, 8, 2048)\n",
            "[MoviePy] >>>> Building video new_video.mp4\n",
            "[MoviePy] Writing audio in new_videoTEMP_MPY_wvf_snd.mp3\n"
          ],
          "name": "stdout"
        },
        {
          "output_type": "stream",
          "text": [
            "100%|██████████| 987/987 [00:00<00:00, 1032.69it/s]"
          ],
          "name": "stderr"
        },
        {
          "output_type": "stream",
          "text": [
            "[MoviePy] Done.\n",
            "[MoviePy] Writing video new_video.mp4\n"
          ],
          "name": "stdout"
        },
        {
          "output_type": "stream",
          "text": [
            "\n",
            "100%|██████████| 1343/1343 [00:06<00:00, 219.40it/s]\n"
          ],
          "name": "stderr"
        },
        {
          "output_type": "stream",
          "text": [
            "[MoviePy] Done.\n",
            "[MoviePy] >>>> Video ready: new_video.mp4 \n",
            "\n",
            "(4655, 8, 2048)\n",
            "Shooting014.mp4\n",
            "(22, 8, 2048)\n",
            "(4677, 8, 2048)\n",
            "[MoviePy] >>>> Building video new_video.mp4\n",
            "[MoviePy] Writing audio in new_videoTEMP_MPY_wvf_snd.mp3\n"
          ],
          "name": "stdout"
        },
        {
          "output_type": "stream",
          "text": [
            "100%|██████████| 3864/3864 [00:03<00:00, 1011.97it/s]"
          ],
          "name": "stderr"
        },
        {
          "output_type": "stream",
          "text": [
            "[MoviePy] Done.\n",
            "[MoviePy] Writing video new_video.mp4\n"
          ],
          "name": "stdout"
        },
        {
          "output_type": "stream",
          "text": [
            "\n",
            "100%|██████████| 5257/5257 [00:22<00:00, 233.48it/s]\n"
          ],
          "name": "stderr"
        },
        {
          "output_type": "stream",
          "text": [
            "[MoviePy] Done.\n",
            "[MoviePy] >>>> Video ready: new_video.mp4 \n",
            "\n",
            "(4699, 8, 2048)\n",
            "Shooting015.mp4\n",
            "(5, 8, 2048)\n",
            "(4704, 8, 2048)\n",
            "[MoviePy] >>>> Building video new_video.mp4\n",
            "[MoviePy] Writing audio in new_videoTEMP_MPY_wvf_snd.mp3\n"
          ],
          "name": "stdout"
        },
        {
          "output_type": "stream",
          "text": [
            "100%|██████████| 992/992 [00:00<00:00, 1038.67it/s]"
          ],
          "name": "stderr"
        },
        {
          "output_type": "stream",
          "text": [
            "[MoviePy] Done.\n",
            "[MoviePy] Writing video new_video.mp4\n"
          ],
          "name": "stdout"
        },
        {
          "output_type": "stream",
          "text": [
            "\n",
            "100%|██████████| 1349/1349 [00:05<00:00, 244.93it/s]"
          ],
          "name": "stderr"
        },
        {
          "output_type": "stream",
          "text": [
            "[MoviePy] Done.\n",
            "[MoviePy] >>>> Video ready: new_video.mp4 \n",
            "\n"
          ],
          "name": "stdout"
        },
        {
          "output_type": "stream",
          "text": [
            "\n"
          ],
          "name": "stderr"
        },
        {
          "output_type": "stream",
          "text": [
            "(4709, 8, 2048)\n",
            "Shooting018.mp4\n",
            "(6, 8, 2048)\n",
            "(4715, 8, 2048)\n",
            "[MoviePy] >>>> Building video new_video.mp4\n",
            "[MoviePy] Writing audio in new_videoTEMP_MPY_wvf_snd.mp3\n"
          ],
          "name": "stdout"
        },
        {
          "output_type": "stream",
          "text": [
            "100%|██████████| 1161/1161 [00:01<00:00, 915.12it/s]"
          ],
          "name": "stderr"
        },
        {
          "output_type": "stream",
          "text": [
            "[MoviePy] Done.\n",
            "[MoviePy] Writing video new_video.mp4\n"
          ],
          "name": "stdout"
        },
        {
          "output_type": "stream",
          "text": [
            "\n",
            "100%|██████████| 1579/1579 [00:07<00:00, 222.32it/s]"
          ],
          "name": "stderr"
        },
        {
          "output_type": "stream",
          "text": [
            "[MoviePy] Done.\n",
            "[MoviePy] >>>> Video ready: new_video.mp4 \n",
            "\n"
          ],
          "name": "stdout"
        },
        {
          "output_type": "stream",
          "text": [
            "\n"
          ],
          "name": "stderr"
        },
        {
          "output_type": "stream",
          "text": [
            "(4721, 8, 2048)\n",
            "Shooting019.mp4\n",
            "(10, 8, 2048)\n",
            "(4731, 8, 2048)\n",
            "[MoviePy] >>>> Building video new_video.mp4\n",
            "[MoviePy] Writing audio in new_videoTEMP_MPY_wvf_snd.mp3\n"
          ],
          "name": "stdout"
        },
        {
          "output_type": "stream",
          "text": [
            "100%|██████████| 1857/1857 [00:02<00:00, 890.81it/s]"
          ],
          "name": "stderr"
        },
        {
          "output_type": "stream",
          "text": [
            "[MoviePy] Done.\n",
            "[MoviePy] Writing video new_video.mp4\n"
          ],
          "name": "stdout"
        },
        {
          "output_type": "stream",
          "text": [
            "\n",
            "100%|██████████| 2526/2526 [00:12<00:00, 209.52it/s]\n"
          ],
          "name": "stderr"
        },
        {
          "output_type": "stream",
          "text": [
            "[MoviePy] Done.\n",
            "[MoviePy] >>>> Video ready: new_video.mp4 \n",
            "\n",
            "(4741, 8, 2048)\n",
            "Shooting020.mp4\n",
            "(19, 8, 2048)\n",
            "(4760, 8, 2048)\n",
            "[MoviePy] >>>> Building video new_video.mp4\n",
            "[MoviePy] Writing audio in new_videoTEMP_MPY_wvf_snd.mp3\n"
          ],
          "name": "stdout"
        },
        {
          "output_type": "stream",
          "text": [
            "100%|██████████| 3425/3425 [00:03<00:00, 1015.20it/s]"
          ],
          "name": "stderr"
        },
        {
          "output_type": "stream",
          "text": [
            "[MoviePy] Done.\n",
            "[MoviePy] Writing video new_video.mp4\n"
          ],
          "name": "stdout"
        },
        {
          "output_type": "stream",
          "text": [
            "\n",
            "100%|██████████| 4660/4660 [00:21<00:00, 217.37it/s]\n"
          ],
          "name": "stderr"
        },
        {
          "output_type": "stream",
          "text": [
            "[MoviePy] Done.\n",
            "[MoviePy] >>>> Video ready: new_video.mp4 \n",
            "\n",
            "(4779, 8, 2048)\n",
            "Shooting022.mp4\n",
            "(8, 8, 2048)\n",
            "(4787, 8, 2048)\n",
            "[MoviePy] >>>> Building video new_video.mp4\n",
            "[MoviePy] Writing audio in new_videoTEMP_MPY_wvf_snd.mp3\n"
          ],
          "name": "stdout"
        },
        {
          "output_type": "stream",
          "text": [
            "100%|██████████| 1412/1412 [00:01<00:00, 1004.81it/s]\n"
          ],
          "name": "stderr"
        },
        {
          "output_type": "stream",
          "text": [
            "[MoviePy] Done.\n",
            "[MoviePy] Writing video new_video.mp4\n"
          ],
          "name": "stdout"
        },
        {
          "output_type": "stream",
          "text": [
            "100%|██████████| 1921/1921 [00:09<00:00, 200.27it/s]\n"
          ],
          "name": "stderr"
        },
        {
          "output_type": "stream",
          "text": [
            "[MoviePy] Done.\n",
            "[MoviePy] >>>> Video ready: new_video.mp4 \n",
            "\n",
            "(4795, 8, 2048)\n",
            "Shooting024.mp4\n",
            "(5, 8, 2048)\n",
            "(4800, 8, 2048)\n",
            "[MoviePy] >>>> Building video new_video.mp4\n",
            "[MoviePy] Writing audio in new_videoTEMP_MPY_wvf_snd.mp3\n"
          ],
          "name": "stdout"
        },
        {
          "output_type": "stream",
          "text": [
            "100%|██████████| 1010/1010 [00:02<00:00, 433.51it/s]"
          ],
          "name": "stderr"
        },
        {
          "output_type": "stream",
          "text": [
            "[MoviePy] Done.\n",
            "[MoviePy] Writing video new_video.mp4\n"
          ],
          "name": "stdout"
        },
        {
          "output_type": "stream",
          "text": [
            "\n",
            "100%|██████████| 1373/1373 [00:06<00:00, 221.14it/s]\n"
          ],
          "name": "stderr"
        },
        {
          "output_type": "stream",
          "text": [
            "[MoviePy] Done.\n",
            "[MoviePy] >>>> Video ready: new_video.mp4 \n",
            "\n",
            "(4805, 8, 2048)\n",
            "Shooting025.mp4\n",
            "(8, 8, 2048)\n",
            "(4813, 8, 2048)\n",
            "[MoviePy] >>>> Building video new_video.mp4\n",
            "[MoviePy] Writing audio in new_videoTEMP_MPY_wvf_snd.mp3\n"
          ],
          "name": "stdout"
        },
        {
          "output_type": "stream",
          "text": [
            "100%|██████████| 1450/1450 [00:01<00:00, 997.13it/s] "
          ],
          "name": "stderr"
        },
        {
          "output_type": "stream",
          "text": [
            "[MoviePy] Done.\n",
            "[MoviePy] Writing video new_video.mp4\n"
          ],
          "name": "stdout"
        },
        {
          "output_type": "stream",
          "text": [
            "\n",
            "100%|██████████| 1972/1972 [00:13<00:00, 146.06it/s]\n"
          ],
          "name": "stderr"
        },
        {
          "output_type": "stream",
          "text": [
            "[MoviePy] Done.\n",
            "[MoviePy] >>>> Video ready: new_video.mp4 \n",
            "\n",
            "(4821, 8, 2048)\n",
            "Shooting027.mp4\n",
            "(3, 8, 2048)\n",
            "(4824, 8, 2048)\n",
            "[MoviePy] >>>> Building video new_video.mp4\n",
            "[MoviePy] Writing audio in new_videoTEMP_MPY_wvf_snd.mp3\n"
          ],
          "name": "stdout"
        },
        {
          "output_type": "stream",
          "text": [
            "100%|██████████| 522/522 [00:00<00:00, 1446.03it/s]"
          ],
          "name": "stderr"
        },
        {
          "output_type": "stream",
          "text": [
            "[MoviePy] Done.\n",
            "[MoviePy] Writing video new_video.mp4\n"
          ],
          "name": "stdout"
        },
        {
          "output_type": "stream",
          "text": [
            "\n",
            "100%|██████████| 709/709 [00:03<00:00, 184.07it/s]\n"
          ],
          "name": "stderr"
        },
        {
          "output_type": "stream",
          "text": [
            "[MoviePy] Done.\n",
            "[MoviePy] >>>> Video ready: new_video.mp4 \n",
            "\n",
            "(4827, 8, 2048)\n",
            "Shoplifting054.mp4\n",
            "(3, 8, 2048)\n",
            "(4830, 8, 2048)\n",
            "[MoviePy] >>>> Building video new_video.mp4\n",
            "[MoviePy] Writing audio in new_videoTEMP_MPY_wvf_snd.mp3\n"
          ],
          "name": "stdout"
        },
        {
          "output_type": "stream",
          "text": [
            "100%|██████████| 580/580 [00:00<00:00, 982.84it/s]"
          ],
          "name": "stderr"
        },
        {
          "output_type": "stream",
          "text": [
            "[MoviePy] Done.\n",
            "[MoviePy] Writing video new_video.mp4\n"
          ],
          "name": "stdout"
        },
        {
          "output_type": "stream",
          "text": [
            "\n",
            "100%|█████████▉| 789/790 [00:03<00:00, 208.47it/s]\n"
          ],
          "name": "stderr"
        },
        {
          "output_type": "stream",
          "text": [
            "[MoviePy] Done.\n",
            "[MoviePy] >>>> Video ready: new_video.mp4 \n",
            "\n",
            "(4833, 8, 2048)\n",
            "Shoplifting013.mp4\n",
            "(8, 8, 2048)\n",
            "(4841, 8, 2048)\n",
            "[MoviePy] >>>> Building video new_video.mp4\n",
            "[MoviePy] Writing video new_video.mp4\n"
          ],
          "name": "stdout"
        },
        {
          "output_type": "stream",
          "text": [
            "100%|██████████| 1953/1953 [00:09<00:00, 213.91it/s]\n"
          ],
          "name": "stderr"
        },
        {
          "output_type": "stream",
          "text": [
            "[MoviePy] Done.\n",
            "[MoviePy] >>>> Video ready: new_video.mp4 \n",
            "\n",
            "(4849, 8, 2048)\n",
            "Shoplifting001.mp4\n",
            "(10, 8, 2048)\n",
            "(4859, 8, 2048)\n",
            "[MoviePy] >>>> Building video new_video.mp4\n",
            "[MoviePy] Writing audio in new_videoTEMP_MPY_wvf_snd.mp3\n"
          ],
          "name": "stdout"
        },
        {
          "output_type": "stream",
          "text": [
            "100%|██████████| 1819/1819 [00:01<00:00, 1023.74it/s]"
          ],
          "name": "stderr"
        },
        {
          "output_type": "stream",
          "text": [
            "[MoviePy] Done.\n",
            "[MoviePy] Writing video new_video.mp4\n"
          ],
          "name": "stdout"
        },
        {
          "output_type": "stream",
          "text": [
            "\n",
            "100%|██████████| 2475/2475 [00:12<00:00, 193.77it/s]\n"
          ],
          "name": "stderr"
        },
        {
          "output_type": "stream",
          "text": [
            "[MoviePy] Done.\n",
            "[MoviePy] >>>> Video ready: new_video.mp4 \n",
            "\n",
            "(4869, 8, 2048)\n",
            "Shoplifting015.mp4\n",
            "(3, 8, 2048)\n",
            "(4872, 8, 2048)\n",
            "[MoviePy] >>>> Building video new_video.mp4\n",
            "[MoviePy] Writing video new_video.mp4\n"
          ],
          "name": "stdout"
        },
        {
          "output_type": "stream",
          "text": [
            "100%|██████████| 751/751 [00:04<00:00, 182.96it/s]"
          ],
          "name": "stderr"
        },
        {
          "output_type": "stream",
          "text": [
            "[MoviePy] Done.\n",
            "[MoviePy] >>>> Video ready: new_video.mp4 \n",
            "\n"
          ],
          "name": "stdout"
        },
        {
          "output_type": "stream",
          "text": [
            "\n"
          ],
          "name": "stderr"
        },
        {
          "output_type": "stream",
          "text": [
            "(4875, 8, 2048)\n",
            "Shoplifting019.mp4\n",
            "(1, 8, 2048)\n",
            "(4876, 8, 2048)\n",
            "[MoviePy] >>>> Building video new_video.mp4\n",
            "[MoviePy] Writing audio in new_videoTEMP_MPY_wvf_snd.mp3\n"
          ],
          "name": "stdout"
        },
        {
          "output_type": "stream",
          "text": [
            "100%|██████████| 240/240 [00:00<00:00, 1049.18it/s]"
          ],
          "name": "stderr"
        },
        {
          "output_type": "stream",
          "text": [
            "[MoviePy] Done.\n",
            "[MoviePy] Writing video new_video.mp4\n"
          ],
          "name": "stdout"
        },
        {
          "output_type": "stream",
          "text": [
            "\n",
            "100%|██████████| 326/326 [00:01<00:00, 169.36it/s]\n"
          ],
          "name": "stderr"
        },
        {
          "output_type": "stream",
          "text": [
            "[MoviePy] Done.\n",
            "[MoviePy] >>>> Video ready: new_video.mp4 \n",
            "\n",
            "(4877, 8, 2048)\n",
            "Shoplifting003.mp4\n",
            "(29, 8, 2048)\n",
            "(4906, 8, 2048)\n",
            "[MoviePy] >>>> Building video new_video.mp4\n",
            "[MoviePy] Writing audio in new_videoTEMP_MPY_wvf_snd.mp3\n"
          ],
          "name": "stdout"
        },
        {
          "output_type": "stream",
          "text": [
            "100%|██████████| 5204/5204 [00:05<00:00, 1012.94it/s]"
          ],
          "name": "stderr"
        },
        {
          "output_type": "stream",
          "text": [
            "[MoviePy] Done.\n",
            "[MoviePy] Writing video new_video.mp4\n"
          ],
          "name": "stdout"
        },
        {
          "output_type": "stream",
          "text": [
            "\n",
            "100%|██████████| 7080/7080 [00:37<00:00, 190.03it/s]\n"
          ],
          "name": "stderr"
        },
        {
          "output_type": "stream",
          "text": [
            "[MoviePy] Done.\n",
            "[MoviePy] >>>> Video ready: new_video.mp4 \n",
            "\n",
            "(4935, 8, 2048)\n",
            "Shoplifting004.mp4\n",
            "(22, 8, 2048)\n",
            "(4957, 8, 2048)\n",
            "[MoviePy] >>>> Building video new_video.mp4\n",
            "[MoviePy] Writing audio in new_videoTEMP_MPY_wvf_snd.mp3\n"
          ],
          "name": "stdout"
        },
        {
          "output_type": "stream",
          "text": [
            "100%|██████████| 3881/3881 [00:03<00:00, 1044.38it/s]"
          ],
          "name": "stderr"
        },
        {
          "output_type": "stream",
          "text": [
            "[MoviePy] Done.\n",
            "[MoviePy] Writing video new_video.mp4\n"
          ],
          "name": "stdout"
        },
        {
          "output_type": "stream",
          "text": [
            "\n",
            "100%|█████████▉| 5280/5281 [00:29<00:00, 177.54it/s]\n"
          ],
          "name": "stderr"
        },
        {
          "output_type": "stream",
          "text": [
            "[MoviePy] Done.\n",
            "[MoviePy] >>>> Video ready: new_video.mp4 \n",
            "\n",
            "(4979, 8, 2048)\n",
            "Shoplifting005.mp4\n",
            "(8, 8, 2048)\n",
            "(4987, 8, 2048)\n",
            "[MoviePy] >>>> Building video new_video.mp4\n",
            "[MoviePy] Writing video new_video.mp4\n"
          ],
          "name": "stdout"
        },
        {
          "output_type": "stream",
          "text": [
            "100%|█████████▉| 1929/1930 [00:09<00:00, 212.12it/s]\n"
          ],
          "name": "stderr"
        },
        {
          "output_type": "stream",
          "text": [
            "[MoviePy] Done.\n",
            "[MoviePy] >>>> Video ready: new_video.mp4 \n",
            "\n",
            "(4995, 8, 2048)\n",
            "Shoplifting006.mp4\n",
            "(8, 8, 2048)\n",
            "(5003, 8, 2048)\n",
            "[MoviePy] >>>> Building video new_video.mp4\n",
            "[MoviePy] Writing video new_video.mp4\n"
          ],
          "name": "stdout"
        },
        {
          "output_type": "stream",
          "text": [
            "100%|██████████| 1999/1999 [00:13<00:00, 146.84it/s]\n"
          ],
          "name": "stderr"
        },
        {
          "output_type": "stream",
          "text": [
            "[MoviePy] Done.\n",
            "[MoviePy] >>>> Video ready: new_video.mp4 \n",
            "\n",
            "(5011, 8, 2048)\n",
            "Shoplifting007.mp4\n",
            "(20, 8, 2048)\n",
            "(5031, 8, 2048)\n",
            "[MoviePy] >>>> Building video new_video.mp4\n",
            "[MoviePy] Writing video new_video.mp4\n"
          ],
          "name": "stdout"
        },
        {
          "output_type": "stream",
          "text": [
            "100%|█████████▉| 4893/4894 [00:23<00:00, 206.32it/s]\n"
          ],
          "name": "stderr"
        },
        {
          "output_type": "stream",
          "text": [
            "[MoviePy] Done.\n",
            "[MoviePy] >>>> Video ready: new_video.mp4 \n",
            "\n",
            "(5051, 8, 2048)\n",
            "Shoplifting008.mp4\n",
            "(18, 8, 2048)\n",
            "(5069, 8, 2048)\n",
            "[MoviePy] >>>> Building video new_video.mp4\n",
            "[MoviePy] Writing video new_video.mp4\n"
          ],
          "name": "stdout"
        },
        {
          "output_type": "stream",
          "text": [
            "100%|██████████| 4507/4507 [00:24<00:00, 185.75it/s]\n"
          ],
          "name": "stderr"
        },
        {
          "output_type": "stream",
          "text": [
            "[MoviePy] Done.\n",
            "[MoviePy] >>>> Video ready: new_video.mp4 \n",
            "\n",
            "(5087, 8, 2048)\n",
            "Shoplifting009.mp4\n",
            "(5, 8, 2048)\n",
            "(5092, 8, 2048)\n",
            "[MoviePy] >>>> Building video new_video.mp4\n",
            "[MoviePy] Writing video new_video.mp4\n"
          ],
          "name": "stdout"
        },
        {
          "output_type": "stream",
          "text": [
            "100%|█████████▉| 1212/1213 [00:07<00:00, 156.73it/s]\n"
          ],
          "name": "stderr"
        },
        {
          "output_type": "stream",
          "text": [
            "[MoviePy] Done.\n",
            "[MoviePy] >>>> Video ready: new_video.mp4 \n",
            "\n",
            "(5097, 8, 2048)\n",
            "Shoplifting010.mp4\n",
            "(10, 8, 2048)\n",
            "(5107, 8, 2048)\n",
            "[MoviePy] >>>> Building video new_video.mp4\n",
            "[MoviePy] Writing video new_video.mp4\n"
          ],
          "name": "stdout"
        },
        {
          "output_type": "stream",
          "text": [
            "100%|██████████| 2469/2469 [00:13<00:00, 188.98it/s]\n"
          ],
          "name": "stderr"
        },
        {
          "output_type": "stream",
          "text": [
            "[MoviePy] Done.\n",
            "[MoviePy] >>>> Video ready: new_video.mp4 \n",
            "\n",
            "(5117, 8, 2048)\n",
            "Shoplifting012.mp4\n",
            "(36, 8, 2048)\n",
            "(5153, 8, 2048)\n",
            "[MoviePy] >>>> Building video new_video.mp4\n",
            "[MoviePy] Writing video new_video.mp4\n"
          ],
          "name": "stdout"
        },
        {
          "output_type": "stream",
          "text": [
            "100%|██████████| 8778/8778 [00:49<00:00, 178.95it/s]\n"
          ],
          "name": "stderr"
        },
        {
          "output_type": "stream",
          "text": [
            "[MoviePy] Done.\n",
            "[MoviePy] >>>> Video ready: new_video.mp4 \n",
            "\n",
            "(5189, 8, 2048)\n",
            "Shoplifting016.mp4\n",
            "(5, 8, 2048)\n",
            "(5194, 8, 2048)\n",
            "[MoviePy] >>>> Building video new_video.mp4\n",
            "[MoviePy] Writing audio in new_videoTEMP_MPY_wvf_snd.mp3\n"
          ],
          "name": "stdout"
        },
        {
          "output_type": "stream",
          "text": [
            "100%|██████████| 937/937 [00:00<00:00, 1008.07it/s]"
          ],
          "name": "stderr"
        },
        {
          "output_type": "stream",
          "text": [
            "[MoviePy] Done.\n",
            "[MoviePy] Writing video new_video.mp4\n"
          ],
          "name": "stdout"
        },
        {
          "output_type": "stream",
          "text": [
            "\n",
            "100%|██████████| 1275/1275 [00:06<00:00, 196.20it/s]\n"
          ],
          "name": "stderr"
        },
        {
          "output_type": "stream",
          "text": [
            "[MoviePy] Done.\n",
            "[MoviePy] >>>> Video ready: new_video.mp4 \n",
            "\n",
            "(5199, 8, 2048)\n",
            "Shoplifting017.mp4\n",
            "(2, 8, 2048)\n",
            "(5201, 8, 2048)\n",
            "[MoviePy] >>>> Building video new_video.mp4\n",
            "[MoviePy] Writing audio in new_videoTEMP_MPY_wvf_snd.mp3\n"
          ],
          "name": "stdout"
        },
        {
          "output_type": "stream",
          "text": [
            "100%|██████████| 339/339 [00:00<00:00, 1462.08it/s]"
          ],
          "name": "stderr"
        },
        {
          "output_type": "stream",
          "text": [
            "[MoviePy] Done.\n",
            "[MoviePy] Writing video new_video.mp4\n"
          ],
          "name": "stdout"
        },
        {
          "output_type": "stream",
          "text": [
            "\n",
            "100%|██████████| 461/461 [00:02<00:00, 177.67it/s]\n"
          ],
          "name": "stderr"
        },
        {
          "output_type": "stream",
          "text": [
            "[MoviePy] Done.\n",
            "[MoviePy] >>>> Video ready: new_video.mp4 \n",
            "\n",
            "(5203, 8, 2048)\n",
            "Shoplifting018.mp4\n",
            "(8, 8, 2048)\n",
            "(5211, 8, 2048)\n",
            "[MoviePy] >>>> Building video new_video.mp4\n",
            "[MoviePy] Writing audio in new_videoTEMP_MPY_wvf_snd.mp3\n"
          ],
          "name": "stdout"
        },
        {
          "output_type": "stream",
          "text": [
            "100%|██████████| 1439/1439 [00:01<00:00, 1042.09it/s]"
          ],
          "name": "stderr"
        },
        {
          "output_type": "stream",
          "text": [
            "[MoviePy] Done.\n",
            "[MoviePy] Writing video new_video.mp4\n"
          ],
          "name": "stdout"
        },
        {
          "output_type": "stream",
          "text": [
            "\n",
            "100%|██████████| 1957/1957 [00:10<00:00, 190.29it/s]\n"
          ],
          "name": "stderr"
        },
        {
          "output_type": "stream",
          "text": [
            "[MoviePy] Done.\n",
            "[MoviePy] >>>> Video ready: new_video.mp4 \n",
            "\n",
            "(5219, 8, 2048)\n",
            "Shoplifting020.mp4\n",
            "(9, 8, 2048)\n",
            "(5228, 8, 2048)\n",
            "[MoviePy] >>>> Building video new_video.mp4\n",
            "[MoviePy] Writing audio in new_videoTEMP_MPY_wvf_snd.mp3\n"
          ],
          "name": "stdout"
        },
        {
          "output_type": "stream",
          "text": [
            "100%|██████████| 1685/1685 [00:01<00:00, 1002.17it/s]"
          ],
          "name": "stderr"
        },
        {
          "output_type": "stream",
          "text": [
            "[MoviePy] Done.\n",
            "[MoviePy] Writing video new_video.mp4\n"
          ],
          "name": "stdout"
        },
        {
          "output_type": "stream",
          "text": [
            "\n",
            "100%|██████████| 2292/2292 [00:12<00:00, 177.03it/s]\n"
          ],
          "name": "stderr"
        },
        {
          "output_type": "stream",
          "text": [
            "[MoviePy] Done.\n",
            "[MoviePy] >>>> Video ready: new_video.mp4 \n",
            "\n",
            "(5237, 8, 2048)\n",
            "Shoplifting021.mp4\n",
            "(14, 8, 2048)\n",
            "(5251, 8, 2048)\n",
            "[MoviePy] >>>> Building video new_video.mp4\n",
            "[MoviePy] Writing audio in new_videoTEMP_MPY_wvf_snd.mp3\n"
          ],
          "name": "stdout"
        },
        {
          "output_type": "stream",
          "text": [
            "100%|██████████| 2545/2545 [00:02<00:00, 1030.88it/s]"
          ],
          "name": "stderr"
        },
        {
          "output_type": "stream",
          "text": [
            "[MoviePy] Done.\n",
            "[MoviePy] Writing video new_video.mp4\n"
          ],
          "name": "stdout"
        },
        {
          "output_type": "stream",
          "text": [
            "\n",
            "100%|██████████| 3462/3462 [00:17<00:00, 193.45it/s]\n"
          ],
          "name": "stderr"
        },
        {
          "output_type": "stream",
          "text": [
            "[MoviePy] Done.\n",
            "[MoviePy] >>>> Video ready: new_video.mp4 \n",
            "\n",
            "(5265, 8, 2048)\n",
            "Shoplifting022.mp4\n",
            "(8, 8, 2048)\n",
            "(5273, 8, 2048)\n",
            "[MoviePy] >>>> Building video new_video.mp4\n",
            "[MoviePy] Writing audio in new_videoTEMP_MPY_wvf_snd.mp3\n"
          ],
          "name": "stdout"
        },
        {
          "output_type": "stream",
          "text": [
            "100%|██████████| 1527/1527 [00:01<00:00, 1035.95it/s]"
          ],
          "name": "stderr"
        },
        {
          "output_type": "stream",
          "text": [
            "[MoviePy] Done.\n",
            "[MoviePy] Writing video new_video.mp4\n"
          ],
          "name": "stdout"
        },
        {
          "output_type": "stream",
          "text": [
            "\n",
            "100%|██████████| 2077/2077 [00:09<00:00, 226.14it/s]\n"
          ],
          "name": "stderr"
        },
        {
          "output_type": "stream",
          "text": [
            "[MoviePy] Done.\n",
            "[MoviePy] >>>> Video ready: new_video.mp4 \n",
            "\n",
            "(5281, 8, 2048)\n",
            "Shoplifting024.mp4\n",
            "(4, 8, 2048)\n",
            "(5285, 8, 2048)\n",
            "[MoviePy] >>>> Building video new_video.mp4\n",
            "[MoviePy] Writing audio in new_videoTEMP_MPY_wvf_snd.mp3\n"
          ],
          "name": "stdout"
        },
        {
          "output_type": "stream",
          "text": [
            "100%|██████████| 857/857 [00:00<00:00, 997.97it/s]"
          ],
          "name": "stderr"
        },
        {
          "output_type": "stream",
          "text": [
            "[MoviePy] Done.\n",
            "[MoviePy] Writing video new_video.mp4\n"
          ],
          "name": "stdout"
        },
        {
          "output_type": "stream",
          "text": [
            "\n",
            "100%|██████████| 1166/1166 [00:04<00:00, 237.16it/s]\n"
          ],
          "name": "stderr"
        },
        {
          "output_type": "stream",
          "text": [
            "[MoviePy] Done.\n",
            "[MoviePy] >>>> Video ready: new_video.mp4 \n",
            "\n",
            "(5289, 8, 2048)\n",
            "Shoplifting025.mp4\n",
            "(7, 8, 2048)\n",
            "(5296, 8, 2048)\n",
            "[MoviePy] >>>> Building video new_video.mp4\n",
            "[MoviePy] Writing audio in new_videoTEMP_MPY_wvf_snd.mp3\n"
          ],
          "name": "stdout"
        },
        {
          "output_type": "stream",
          "text": [
            "100%|██████████| 1344/1344 [00:00<00:00, 1449.46it/s]"
          ],
          "name": "stderr"
        },
        {
          "output_type": "stream",
          "text": [
            "[MoviePy] Done.\n",
            "[MoviePy] Writing video new_video.mp4\n"
          ],
          "name": "stdout"
        },
        {
          "output_type": "stream",
          "text": [
            "\n",
            "100%|██████████| 1829/1829 [00:11<00:00, 164.87it/s]\n"
          ],
          "name": "stderr"
        },
        {
          "output_type": "stream",
          "text": [
            "[MoviePy] Done.\n",
            "[MoviePy] >>>> Video ready: new_video.mp4 \n",
            "\n",
            "(5303, 8, 2048)\n",
            "Shoplifting026.mp4\n",
            "(5, 8, 2048)\n",
            "(5308, 8, 2048)\n",
            "[MoviePy] >>>> Building video new_video.mp4\n",
            "[MoviePy] Writing audio in new_videoTEMP_MPY_wvf_snd.mp3\n"
          ],
          "name": "stdout"
        },
        {
          "output_type": "stream",
          "text": [
            "100%|██████████| 1037/1037 [00:01<00:00, 1034.60it/s]"
          ],
          "name": "stderr"
        },
        {
          "output_type": "stream",
          "text": [
            "[MoviePy] Done.\n",
            "[MoviePy] Writing video new_video.mp4\n"
          ],
          "name": "stdout"
        },
        {
          "output_type": "stream",
          "text": [
            "\n",
            "100%|██████████| 1411/1411 [00:06<00:00, 219.81it/s]\n"
          ],
          "name": "stderr"
        },
        {
          "output_type": "stream",
          "text": [
            "[MoviePy] Done.\n",
            "[MoviePy] >>>> Video ready: new_video.mp4 \n",
            "\n",
            "(5314, 8, 2048)\n",
            "Shoplifting027.mp4\n",
            "(7, 8, 2048)\n",
            "(5321, 8, 2048)\n",
            "[MoviePy] >>>> Building video new_video.mp4\n",
            "[MoviePy] Writing audio in new_videoTEMP_MPY_wvf_snd.mp3\n"
          ],
          "name": "stdout"
        },
        {
          "output_type": "stream",
          "text": [
            "100%|██████████| 1217/1217 [00:01<00:00, 658.08it/s]"
          ],
          "name": "stderr"
        },
        {
          "output_type": "stream",
          "text": [
            "[MoviePy] Done.\n",
            "[MoviePy] Writing video new_video.mp4\n"
          ],
          "name": "stdout"
        },
        {
          "output_type": "stream",
          "text": [
            "\n",
            "100%|██████████| 1655/1655 [00:07<00:00, 212.14it/s]\n"
          ],
          "name": "stderr"
        },
        {
          "output_type": "stream",
          "text": [
            "[MoviePy] Done.\n",
            "[MoviePy] >>>> Video ready: new_video.mp4 \n",
            "\n",
            "(5328, 8, 2048)\n",
            "Shoplifting028.mp4\n",
            "(4, 8, 2048)\n",
            "(5332, 8, 2048)\n",
            "[MoviePy] >>>> Building video new_video.mp4\n",
            "[MoviePy] Writing audio in new_videoTEMP_MPY_wvf_snd.mp3\n"
          ],
          "name": "stdout"
        },
        {
          "output_type": "stream",
          "text": [
            "100%|██████████| 691/691 [00:01<00:00, 602.32it/s]"
          ],
          "name": "stderr"
        },
        {
          "output_type": "stream",
          "text": [
            "[MoviePy] Done.\n",
            "[MoviePy] Writing video new_video.mp4\n"
          ],
          "name": "stdout"
        },
        {
          "output_type": "stream",
          "text": [
            "\n",
            "100%|██████████| 940/940 [00:03<00:00, 235.47it/s]\n"
          ],
          "name": "stderr"
        },
        {
          "output_type": "stream",
          "text": [
            "[MoviePy] Done.\n",
            "[MoviePy] >>>> Video ready: new_video.mp4 \n",
            "\n",
            "(5336, 8, 2048)\n",
            "Shoplifting029.mp4\n",
            "(7, 8, 2048)\n",
            "(5343, 8, 2048)\n",
            "[MoviePy] >>>> Building video new_video.mp4\n",
            "[MoviePy] Writing audio in new_videoTEMP_MPY_wvf_snd.mp3\n"
          ],
          "name": "stdout"
        },
        {
          "output_type": "stream",
          "text": [
            "100%|██████████| 1279/1279 [00:02<00:00, 612.54it/s]"
          ],
          "name": "stderr"
        },
        {
          "output_type": "stream",
          "text": [
            "[MoviePy] Done.\n",
            "[MoviePy] Writing video new_video.mp4\n"
          ],
          "name": "stdout"
        },
        {
          "output_type": "stream",
          "text": [
            "\n",
            "100%|██████████| 1740/1740 [00:07<00:00, 221.70it/s]\n"
          ],
          "name": "stderr"
        },
        {
          "output_type": "stream",
          "text": [
            "[MoviePy] Done.\n",
            "[MoviePy] >>>> Video ready: new_video.mp4 \n",
            "\n",
            "(5350, 8, 2048)\n",
            "Shoplifting030.mp4\n",
            "(29, 8, 2048)\n",
            "(5379, 8, 2048)\n",
            "[MoviePy] >>>> Building video new_video.mp4\n",
            "[MoviePy] Writing audio in new_videoTEMP_MPY_wvf_snd.mp3\n"
          ],
          "name": "stdout"
        },
        {
          "output_type": "stream",
          "text": [
            "100%|██████████| 5135/5135 [00:08<00:00, 640.86it/s]"
          ],
          "name": "stderr"
        },
        {
          "output_type": "stream",
          "text": [
            "[MoviePy] Done.\n",
            "[MoviePy] Writing video new_video.mp4\n"
          ],
          "name": "stdout"
        },
        {
          "output_type": "stream",
          "text": [
            "\n",
            "100%|██████████| 6987/6987 [00:34<00:00, 199.75it/s]\n"
          ],
          "name": "stderr"
        },
        {
          "output_type": "stream",
          "text": [
            "[MoviePy] Done.\n",
            "[MoviePy] >>>> Video ready: new_video.mp4 \n",
            "\n",
            "(5408, 8, 2048)\n",
            "Shoplifting031.mp4\n",
            "(1, 8, 2048)\n",
            "(5409, 8, 2048)\n",
            "[MoviePy] >>>> Building video new_video.mp4\n",
            "[MoviePy] Writing audio in new_videoTEMP_MPY_wvf_snd.mp3\n"
          ],
          "name": "stdout"
        },
        {
          "output_type": "stream",
          "text": [
            "100%|██████████| 330/330 [00:00<00:00, 883.89it/s]"
          ],
          "name": "stderr"
        },
        {
          "output_type": "stream",
          "text": [
            "[MoviePy] Done.\n",
            "[MoviePy] Writing video new_video.mp4\n"
          ],
          "name": "stdout"
        },
        {
          "output_type": "stream",
          "text": [
            "\n",
            "100%|██████████| 449/449 [00:02<00:00, 211.05it/s]\n"
          ],
          "name": "stderr"
        },
        {
          "output_type": "stream",
          "text": [
            "[MoviePy] Done.\n",
            "[MoviePy] >>>> Video ready: new_video.mp4 \n",
            "\n",
            "(5410, 8, 2048)\n",
            "Shoplifting032.mp4\n",
            "(5, 8, 2048)\n",
            "(5415, 8, 2048)\n",
            "[MoviePy] >>>> Building video new_video.mp4\n",
            "[MoviePy] Writing audio in new_videoTEMP_MPY_wvf_snd.mp3\n"
          ],
          "name": "stdout"
        },
        {
          "output_type": "stream",
          "text": [
            "100%|██████████| 1018/1018 [00:00<00:00, 1035.93it/s]"
          ],
          "name": "stderr"
        },
        {
          "output_type": "stream",
          "text": [
            "[MoviePy] Done.\n",
            "[MoviePy] Writing video new_video.mp4\n"
          ],
          "name": "stdout"
        },
        {
          "output_type": "stream",
          "text": [
            "\n",
            "100%|██████████| 1385/1385 [00:06<00:00, 203.05it/s]\n"
          ],
          "name": "stderr"
        },
        {
          "output_type": "stream",
          "text": [
            "[MoviePy] Done.\n",
            "[MoviePy] >>>> Video ready: new_video.mp4 \n",
            "\n",
            "(5420, 8, 2048)\n",
            "Shoplifting033.mp4\n",
            "(3, 8, 2048)\n",
            "(5423, 8, 2048)\n",
            "[MoviePy] >>>> Building video new_video.mp4\n",
            "[MoviePy] Writing audio in new_videoTEMP_MPY_wvf_snd.mp3\n"
          ],
          "name": "stdout"
        },
        {
          "output_type": "stream",
          "text": [
            "100%|██████████| 651/651 [00:00<00:00, 1041.32it/s]"
          ],
          "name": "stderr"
        },
        {
          "output_type": "stream",
          "text": [
            "[MoviePy] Done.\n",
            "[MoviePy] Writing video new_video.mp4\n"
          ],
          "name": "stdout"
        },
        {
          "output_type": "stream",
          "text": [
            "\n",
            "100%|██████████| 885/885 [00:04<00:00, 190.16it/s]\n"
          ],
          "name": "stderr"
        },
        {
          "output_type": "stream",
          "text": [
            "[MoviePy] Done.\n",
            "[MoviePy] >>>> Video ready: new_video.mp4 \n",
            "\n",
            "(5426, 8, 2048)\n",
            "Stealing069.mp4\n",
            "(1, 8, 2048)\n",
            "(5427, 8, 2048)\n",
            "[MoviePy] >>>> Building video new_video.mp4\n",
            "[MoviePy] Writing audio in new_videoTEMP_MPY_wvf_snd.mp3\n"
          ],
          "name": "stdout"
        },
        {
          "output_type": "stream",
          "text": [
            "100%|██████████| 281/281 [00:00<00:00, 1000.76it/s]"
          ],
          "name": "stderr"
        },
        {
          "output_type": "stream",
          "text": [
            "[MoviePy] Done.\n",
            "[MoviePy] Writing video new_video.mp4\n"
          ],
          "name": "stdout"
        },
        {
          "output_type": "stream",
          "text": [
            "\n",
            "100%|██████████| 383/383 [00:01<00:00, 264.55it/s]"
          ],
          "name": "stderr"
        },
        {
          "output_type": "stream",
          "text": [
            "[MoviePy] Done.\n",
            "[MoviePy] >>>> Video ready: new_video.mp4 \n",
            "\n"
          ],
          "name": "stdout"
        },
        {
          "output_type": "stream",
          "text": [
            "\n"
          ],
          "name": "stderr"
        },
        {
          "output_type": "stream",
          "text": [
            "(5428, 8, 2048)\n",
            "Stealing070.mp4\n",
            "(5, 8, 2048)\n",
            "(5433, 8, 2048)\n",
            "[MoviePy] >>>> Building video new_video.mp4\n",
            "[MoviePy] Writing audio in new_videoTEMP_MPY_wvf_snd.mp3\n"
          ],
          "name": "stdout"
        },
        {
          "output_type": "stream",
          "text": [
            "100%|██████████| 897/897 [00:00<00:00, 1046.02it/s]"
          ],
          "name": "stderr"
        },
        {
          "output_type": "stream",
          "text": [
            "[MoviePy] Done.\n",
            "[MoviePy] Writing video new_video.mp4\n"
          ],
          "name": "stdout"
        },
        {
          "output_type": "stream",
          "text": [
            "\n",
            "100%|██████████| 1221/1221 [00:04<00:00, 244.60it/s]"
          ],
          "name": "stderr"
        },
        {
          "output_type": "stream",
          "text": [
            "[MoviePy] Done.\n",
            "[MoviePy] >>>> Video ready: new_video.mp4 \n",
            "\n"
          ],
          "name": "stdout"
        },
        {
          "output_type": "stream",
          "text": [
            "\n"
          ],
          "name": "stderr"
        },
        {
          "output_type": "stream",
          "text": [
            "(5438, 8, 2048)\n",
            "Stealing047.mp4\n",
            "(3, 8, 2048)\n",
            "(5441, 8, 2048)\n",
            "[MoviePy] >>>> Building video new_video.mp4\n",
            "[MoviePy] Writing audio in new_videoTEMP_MPY_wvf_snd.mp3\n"
          ],
          "name": "stdout"
        },
        {
          "output_type": "stream",
          "text": [
            "100%|██████████| 649/649 [00:00<00:00, 1044.14it/s]"
          ],
          "name": "stderr"
        },
        {
          "output_type": "stream",
          "text": [
            "[MoviePy] Done.\n",
            "[MoviePy] Writing video new_video.mp4\n"
          ],
          "name": "stdout"
        },
        {
          "output_type": "stream",
          "text": [
            "\n",
            "100%|█████████▉| 882/883 [00:03<00:00, 237.44it/s]\n"
          ],
          "name": "stderr"
        },
        {
          "output_type": "stream",
          "text": [
            "[MoviePy] Done.\n",
            "[MoviePy] >>>> Video ready: new_video.mp4 \n",
            "\n",
            "(5444, 8, 2048)\n",
            "Stealing060.mp4\n",
            "(3, 8, 2048)\n",
            "(5447, 8, 2048)\n",
            "[MoviePy] >>>> Building video new_video.mp4\n",
            "[MoviePy] Writing audio in new_videoTEMP_MPY_wvf_snd.mp3\n"
          ],
          "name": "stdout"
        },
        {
          "output_type": "stream",
          "text": [
            "100%|██████████| 664/664 [00:00<00:00, 1048.19it/s]"
          ],
          "name": "stderr"
        },
        {
          "output_type": "stream",
          "text": [
            "[MoviePy] Done.\n",
            "[MoviePy] Writing video new_video.mp4\n"
          ],
          "name": "stdout"
        },
        {
          "output_type": "stream",
          "text": [
            "\n",
            "100%|█████████▉| 903/904 [00:03<00:00, 232.57it/s]"
          ],
          "name": "stderr"
        },
        {
          "output_type": "stream",
          "text": [
            "[MoviePy] Done.\n",
            "[MoviePy] >>>> Video ready: new_video.mp4 \n",
            "\n"
          ],
          "name": "stdout"
        },
        {
          "output_type": "stream",
          "text": [
            "\n"
          ],
          "name": "stderr"
        },
        {
          "output_type": "stream",
          "text": [
            "(5450, 8, 2048)\n",
            "Stealing002.mp4\n",
            "(9, 8, 2048)\n",
            "(5459, 8, 2048)\n",
            "[MoviePy] >>>> Building video new_video.mp4\n",
            "[MoviePy] Writing audio in new_videoTEMP_MPY_wvf_snd.mp3\n"
          ],
          "name": "stdout"
        },
        {
          "output_type": "stream",
          "text": [
            "100%|██████████| 1696/1696 [00:02<00:00, 579.79it/s]"
          ],
          "name": "stderr"
        },
        {
          "output_type": "stream",
          "text": [
            "[MoviePy] Done.\n",
            "[MoviePy] Writing video new_video.mp4\n"
          ],
          "name": "stdout"
        },
        {
          "output_type": "stream",
          "text": [
            "\n",
            "100%|██████████| 2308/2308 [00:15<00:00, 152.72it/s]\n"
          ],
          "name": "stderr"
        },
        {
          "output_type": "stream",
          "text": [
            "[MoviePy] Done.\n",
            "[MoviePy] >>>> Video ready: new_video.mp4 \n",
            "\n",
            "(5468, 8, 2048)\n",
            "Stealing029.mp4\n",
            "(1, 8, 2048)\n",
            "(5469, 8, 2048)\n",
            "[MoviePy] >>>> Building video new_video.mp4\n",
            "[MoviePy] Writing audio in new_videoTEMP_MPY_wvf_snd.mp3\n"
          ],
          "name": "stdout"
        },
        {
          "output_type": "stream",
          "text": [
            "100%|██████████| 261/261 [00:00<00:00, 619.01it/s]"
          ],
          "name": "stderr"
        },
        {
          "output_type": "stream",
          "text": [
            "[MoviePy] Done.\n",
            "[MoviePy] Writing video new_video.mp4\n"
          ],
          "name": "stdout"
        },
        {
          "output_type": "stream",
          "text": [
            "\n",
            "100%|██████████| 355/355 [00:01<00:00, 223.40it/s]\n"
          ],
          "name": "stderr"
        },
        {
          "output_type": "stream",
          "text": [
            "[MoviePy] Done.\n",
            "[MoviePy] >>>> Video ready: new_video.mp4 \n",
            "\n",
            "(5470, 8, 2048)\n",
            "Stealing018.mp4\n",
            "(7, 8, 2048)\n",
            "(5477, 8, 2048)\n",
            "[MoviePy] >>>> Building video new_video.mp4\n",
            "[MoviePy] Writing video new_video.mp4\n"
          ],
          "name": "stdout"
        },
        {
          "output_type": "stream",
          "text": [
            "100%|█████████▉| 1725/1726 [00:07<00:00, 216.53it/s]\n"
          ],
          "name": "stderr"
        },
        {
          "output_type": "stream",
          "text": [
            "[MoviePy] Done.\n",
            "[MoviePy] >>>> Video ready: new_video.mp4 \n",
            "\n",
            "(5484, 8, 2048)\n",
            "Stealing009.mp4\n",
            "(6, 8, 2048)\n",
            "(5490, 8, 2048)\n",
            "[MoviePy] >>>> Building video new_video.mp4\n",
            "[MoviePy] Writing video new_video.mp4\n"
          ],
          "name": "stdout"
        },
        {
          "output_type": "stream",
          "text": [
            "100%|█████████▉| 1554/1555 [00:07<00:00, 213.54it/s]\n"
          ],
          "name": "stderr"
        },
        {
          "output_type": "stream",
          "text": [
            "[MoviePy] Done.\n",
            "[MoviePy] >>>> Video ready: new_video.mp4 \n",
            "\n",
            "(5496, 8, 2048)\n",
            "Stealing030.mp4\n",
            "(3, 8, 2048)\n",
            "(5499, 8, 2048)\n",
            "[MoviePy] >>>> Building video new_video.mp4\n",
            "[MoviePy] Writing audio in new_videoTEMP_MPY_wvf_snd.mp3\n"
          ],
          "name": "stdout"
        },
        {
          "output_type": "stream",
          "text": [
            "100%|██████████| 523/523 [00:00<00:00, 982.78it/s]"
          ],
          "name": "stderr"
        },
        {
          "output_type": "stream",
          "text": [
            "[MoviePy] Done.\n",
            "[MoviePy] Writing video new_video.mp4\n"
          ],
          "name": "stdout"
        },
        {
          "output_type": "stream",
          "text": [
            "\n",
            "100%|██████████| 711/711 [00:03<00:00, 219.43it/s]\n"
          ],
          "name": "stderr"
        },
        {
          "output_type": "stream",
          "text": [
            "[MoviePy] Done.\n",
            "[MoviePy] >>>> Video ready: new_video.mp4 \n",
            "\n",
            "(5502, 8, 2048)\n",
            "Stealing061.mp4\n",
            "(7, 8, 2048)\n",
            "(5509, 8, 2048)\n",
            "[MoviePy] >>>> Building video new_video.mp4\n",
            "[MoviePy] Writing video new_video.mp4\n"
          ],
          "name": "stdout"
        },
        {
          "output_type": "stream",
          "text": [
            "100%|█████████▉| 1887/1888 [00:08<00:00, 221.82it/s]\n"
          ],
          "name": "stderr"
        },
        {
          "output_type": "stream",
          "text": [
            "[MoviePy] Done.\n",
            "[MoviePy] >>>> Video ready: new_video.mp4 \n",
            "\n",
            "(5516, 8, 2048)\n",
            "Stealing016.mp4\n",
            "(8, 8, 2048)\n",
            "(5524, 8, 2048)\n",
            "[MoviePy] >>>> Building video new_video.mp4\n",
            "[MoviePy] Writing video new_video.mp4\n"
          ],
          "name": "stdout"
        },
        {
          "output_type": "stream",
          "text": [
            "100%|█████████▉| 1914/1915 [00:08<00:00, 227.02it/s]\n"
          ],
          "name": "stderr"
        },
        {
          "output_type": "stream",
          "text": [
            "[MoviePy] Done.\n",
            "[MoviePy] >>>> Video ready: new_video.mp4 \n",
            "\n",
            "(5532, 8, 2048)\n",
            "Stealing091.mp4\n",
            "(1, 8, 2048)\n",
            "(5533, 8, 2048)\n",
            "[MoviePy] >>>> Building video new_video.mp4\n",
            "[MoviePy] Writing audio in new_videoTEMP_MPY_wvf_snd.mp3\n"
          ],
          "name": "stdout"
        },
        {
          "output_type": "stream",
          "text": [
            "100%|██████████| 252/252 [00:00<00:00, 875.73it/s]"
          ],
          "name": "stderr"
        },
        {
          "output_type": "stream",
          "text": [
            "[MoviePy] Done.\n",
            "[MoviePy] Writing video new_video.mp4\n"
          ],
          "name": "stdout"
        },
        {
          "output_type": "stream",
          "text": [
            "\n",
            "100%|██████████| 342/342 [00:01<00:00, 222.98it/s]\n"
          ],
          "name": "stderr"
        },
        {
          "output_type": "stream",
          "text": [
            "[MoviePy] Done.\n",
            "[MoviePy] >>>> Video ready: new_video.mp4 \n",
            "\n",
            "(5534, 8, 2048)\n",
            "Stealing093.mp4\n",
            "(4, 8, 2048)\n",
            "(5538, 8, 2048)\n",
            "[MoviePy] >>>> Building video new_video.mp4\n",
            "[MoviePy] Writing audio in new_videoTEMP_MPY_wvf_snd.mp3\n"
          ],
          "name": "stdout"
        },
        {
          "output_type": "stream",
          "text": [
            "100%|██████████| 724/724 [00:00<00:00, 1000.41it/s]"
          ],
          "name": "stderr"
        },
        {
          "output_type": "stream",
          "text": [
            "[MoviePy] Done.\n",
            "[MoviePy] Writing video new_video.mp4\n"
          ],
          "name": "stdout"
        },
        {
          "output_type": "stream",
          "text": [
            "\n",
            "100%|██████████| 985/985 [00:04<00:00, 224.23it/s]\n"
          ],
          "name": "stderr"
        },
        {
          "output_type": "stream",
          "text": [
            "[MoviePy] Done.\n",
            "[MoviePy] >>>> Video ready: new_video.mp4 \n",
            "\n",
            "(5542, 8, 2048)\n",
            "Stealing095.mp4\n",
            "(3, 8, 2048)\n",
            "(5545, 8, 2048)\n",
            "[MoviePy] >>>> Building video new_video.mp4\n",
            "[MoviePy] Writing audio in new_videoTEMP_MPY_wvf_snd.mp3\n"
          ],
          "name": "stdout"
        },
        {
          "output_type": "stream",
          "text": [
            "100%|██████████| 512/512 [00:00<00:00, 1028.43it/s]\n"
          ],
          "name": "stderr"
        },
        {
          "output_type": "stream",
          "text": [
            "[MoviePy] Done.\n",
            "[MoviePy] Writing video new_video.mp4\n"
          ],
          "name": "stdout"
        },
        {
          "output_type": "stream",
          "text": [
            "100%|██████████| 696/696 [00:02<00:00, 235.75it/s]\n"
          ],
          "name": "stderr"
        },
        {
          "output_type": "stream",
          "text": [
            "[MoviePy] Done.\n",
            "[MoviePy] >>>> Video ready: new_video.mp4 \n",
            "\n",
            "(5548, 8, 2048)\n",
            "Stealing105.mp4\n",
            "(3, 8, 2048)\n",
            "(5551, 8, 2048)\n",
            "[MoviePy] >>>> Building video new_video.mp4\n",
            "[MoviePy] Writing audio in new_videoTEMP_MPY_wvf_snd.mp3\n"
          ],
          "name": "stdout"
        },
        {
          "output_type": "stream",
          "text": [
            "100%|██████████| 669/669 [00:00<00:00, 1015.25it/s]"
          ],
          "name": "stderr"
        },
        {
          "output_type": "stream",
          "text": [
            "[MoviePy] Done.\n",
            "[MoviePy] Writing video new_video.mp4\n"
          ],
          "name": "stdout"
        },
        {
          "output_type": "stream",
          "text": [
            "\n",
            "100%|██████████| 910/910 [00:04<00:00, 204.82it/s]\n"
          ],
          "name": "stderr"
        },
        {
          "output_type": "stream",
          "text": [
            "[MoviePy] Done.\n",
            "[MoviePy] >>>> Video ready: new_video.mp4 \n",
            "\n",
            "(5554, 8, 2048)\n",
            "Stealing097.mp4\n",
            "(2, 8, 2048)\n",
            "(5556, 8, 2048)\n",
            "[MoviePy] >>>> Building video new_video.mp4\n",
            "[MoviePy] Writing audio in new_videoTEMP_MPY_wvf_snd.mp3\n"
          ],
          "name": "stdout"
        },
        {
          "output_type": "stream",
          "text": [
            "100%|██████████| 458/458 [00:00<00:00, 980.66it/s]"
          ],
          "name": "stderr"
        },
        {
          "output_type": "stream",
          "text": [
            "[MoviePy] Done.\n",
            "[MoviePy] Writing video new_video.mp4\n"
          ],
          "name": "stdout"
        },
        {
          "output_type": "stream",
          "text": [
            "\n",
            "100%|██████████| 623/623 [00:02<00:00, 246.88it/s]\n"
          ],
          "name": "stderr"
        },
        {
          "output_type": "stream",
          "text": [
            "[MoviePy] Done.\n",
            "[MoviePy] >>>> Video ready: new_video.mp4 \n",
            "\n",
            "(5558, 8, 2048)\n",
            "Stealing102.mp4\n",
            "(4, 8, 2048)\n",
            "(5562, 8, 2048)\n",
            "[MoviePy] >>>> Building video new_video.mp4\n",
            "[MoviePy] Writing audio in new_videoTEMP_MPY_wvf_snd.mp3\n"
          ],
          "name": "stdout"
        },
        {
          "output_type": "stream",
          "text": [
            "100%|██████████| 687/687 [00:00<00:00, 1027.03it/s]"
          ],
          "name": "stderr"
        },
        {
          "output_type": "stream",
          "text": [
            "[MoviePy] Done.\n",
            "[MoviePy] Writing video new_video.mp4\n"
          ],
          "name": "stdout"
        },
        {
          "output_type": "stream",
          "text": [
            "\n",
            "100%|██████████| 934/934 [00:04<00:00, 213.17it/s]\n"
          ],
          "name": "stderr"
        },
        {
          "output_type": "stream",
          "text": [
            "[MoviePy] Done.\n",
            "[MoviePy] >>>> Video ready: new_video.mp4 \n",
            "\n",
            "(5566, 8, 2048)\n",
            "Stealing110.mp4\n",
            "(4, 8, 2048)\n",
            "(5570, 8, 2048)\n",
            "[MoviePy] >>>> Building video new_video.mp4\n",
            "[MoviePy] Writing audio in new_videoTEMP_MPY_wvf_snd.mp3\n"
          ],
          "name": "stdout"
        },
        {
          "output_type": "stream",
          "text": [
            "100%|██████████| 850/850 [00:00<00:00, 1017.63it/s]"
          ],
          "name": "stderr"
        },
        {
          "output_type": "stream",
          "text": [
            "[MoviePy] Done.\n",
            "[MoviePy] Writing video new_video.mp4\n"
          ],
          "name": "stdout"
        },
        {
          "output_type": "stream",
          "text": [
            "\n",
            "100%|██████████| 1156/1156 [00:04<00:00, 232.70it/s]\n"
          ],
          "name": "stderr"
        },
        {
          "output_type": "stream",
          "text": [
            "[MoviePy] Done.\n",
            "[MoviePy] >>>> Video ready: new_video.mp4 \n",
            "\n",
            "(5574, 8, 2048)\n",
            "Stealing081.mp4\n",
            "(3, 8, 2048)\n",
            "(5577, 8, 2048)\n",
            "[MoviePy] >>>> Building video new_video.mp4\n",
            "[MoviePy] Writing audio in new_videoTEMP_MPY_wvf_snd.mp3\n"
          ],
          "name": "stdout"
        },
        {
          "output_type": "stream",
          "text": [
            "100%|██████████| 650/650 [00:00<00:00, 1033.67it/s]"
          ],
          "name": "stderr"
        },
        {
          "output_type": "stream",
          "text": [
            "[MoviePy] Done.\n",
            "[MoviePy] Writing video new_video.mp4\n"
          ],
          "name": "stdout"
        },
        {
          "output_type": "stream",
          "text": [
            "\n",
            "100%|██████████| 884/884 [00:03<00:00, 233.07it/s]"
          ],
          "name": "stderr"
        },
        {
          "output_type": "stream",
          "text": [
            "[MoviePy] Done.\n",
            "[MoviePy] >>>> Video ready: new_video.mp4 \n",
            "\n"
          ],
          "name": "stdout"
        },
        {
          "output_type": "stream",
          "text": [
            "\n"
          ],
          "name": "stderr"
        },
        {
          "output_type": "stream",
          "text": [
            "(5580, 8, 2048)\n",
            "Stealing071.mp4\n",
            "(3, 8, 2048)\n",
            "(5583, 8, 2048)\n",
            "[MoviePy] >>>> Building video new_video.mp4\n",
            "[MoviePy] Writing audio in new_videoTEMP_MPY_wvf_snd.mp3\n"
          ],
          "name": "stdout"
        },
        {
          "output_type": "stream",
          "text": [
            "100%|██████████| 619/619 [00:00<00:00, 1011.88it/s]"
          ],
          "name": "stderr"
        },
        {
          "output_type": "stream",
          "text": [
            "[MoviePy] Done.\n",
            "[MoviePy] Writing video new_video.mp4\n"
          ],
          "name": "stdout"
        },
        {
          "output_type": "stream",
          "text": [
            "\n",
            "100%|██████████| 842/842 [00:03<00:00, 247.46it/s]\n"
          ],
          "name": "stderr"
        },
        {
          "output_type": "stream",
          "text": [
            "[MoviePy] Done.\n",
            "[MoviePy] >>>> Video ready: new_video.mp4 \n",
            "\n",
            "(5586, 8, 2048)\n",
            "Stealing082.mp4\n",
            "(4, 8, 2048)\n",
            "(5590, 8, 2048)\n",
            "[MoviePy] >>>> Building video new_video.mp4\n",
            "[MoviePy] Writing audio in new_videoTEMP_MPY_wvf_snd.mp3\n"
          ],
          "name": "stdout"
        },
        {
          "output_type": "stream",
          "text": [
            "100%|██████████| 775/775 [00:00<00:00, 1017.14it/s]"
          ],
          "name": "stderr"
        },
        {
          "output_type": "stream",
          "text": [
            "[MoviePy] Done.\n",
            "[MoviePy] Writing video new_video.mp4\n"
          ],
          "name": "stdout"
        },
        {
          "output_type": "stream",
          "text": [
            "\n",
            "100%|██████████| 1055/1055 [00:04<00:00, 246.79it/s]"
          ],
          "name": "stderr"
        },
        {
          "output_type": "stream",
          "text": [
            "[MoviePy] Done.\n",
            "[MoviePy] >>>> Video ready: new_video.mp4 \n",
            "\n"
          ],
          "name": "stdout"
        },
        {
          "output_type": "stream",
          "text": [
            "\n"
          ],
          "name": "stderr"
        },
        {
          "output_type": "stream",
          "text": [
            "(5594, 8, 2048)\n",
            "Stealing004.mp4\n",
            "(27, 8, 2048)\n",
            "(5621, 8, 2048)\n",
            "[MoviePy] >>>> Building video new_video.mp4\n",
            "[MoviePy] Writing video new_video.mp4\n"
          ],
          "name": "stdout"
        },
        {
          "output_type": "stream",
          "text": [
            "100%|█████████▉| 6579/6580 [00:33<00:00, 194.46it/s]\n"
          ],
          "name": "stderr"
        },
        {
          "output_type": "stream",
          "text": [
            "[MoviePy] Done.\n",
            "[MoviePy] >>>> Video ready: new_video.mp4 \n",
            "\n",
            "(5648, 8, 2048)\n",
            "Stealing006.mp4\n",
            "(10, 8, 2048)\n",
            "(5658, 8, 2048)\n",
            "[MoviePy] >>>> Building video new_video.mp4\n",
            "[MoviePy] Writing video new_video.mp4\n"
          ],
          "name": "stdout"
        },
        {
          "output_type": "stream",
          "text": [
            "100%|██████████| 2404/2404 [00:13<00:00, 173.75it/s]\n"
          ],
          "name": "stderr"
        },
        {
          "output_type": "stream",
          "text": [
            "[MoviePy] Done.\n",
            "[MoviePy] >>>> Video ready: new_video.mp4 \n",
            "\n",
            "(5668, 8, 2048)\n",
            "Stealing007.mp4\n",
            "(9, 8, 2048)\n",
            "(5677, 8, 2048)\n",
            "[MoviePy] >>>> Building video new_video.mp4\n",
            "[MoviePy] Writing video new_video.mp4\n"
          ],
          "name": "stdout"
        },
        {
          "output_type": "stream",
          "text": [
            "100%|█████████▉| 2370/2371 [00:11<00:00, 203.20it/s]\n"
          ],
          "name": "stderr"
        },
        {
          "output_type": "stream",
          "text": [
            "[MoviePy] Done.\n",
            "[MoviePy] >>>> Video ready: new_video.mp4 \n",
            "\n",
            "(5686, 8, 2048)\n",
            "Stealing008.mp4\n",
            "(16, 8, 2048)\n",
            "(5702, 8, 2048)\n",
            "[MoviePy] >>>> Building video new_video.mp4\n",
            "[MoviePy] Writing video new_video.mp4\n"
          ],
          "name": "stdout"
        },
        {
          "output_type": "stream",
          "text": [
            "100%|██████████| 3979/3979 [00:17<00:00, 233.39it/s]\n"
          ],
          "name": "stderr"
        },
        {
          "output_type": "stream",
          "text": [
            "[MoviePy] Done.\n",
            "[MoviePy] >>>> Video ready: new_video.mp4 \n",
            "\n",
            "(5718, 8, 2048)\n",
            "Stealing010.mp4\n",
            "(10, 8, 2048)\n",
            "(5728, 8, 2048)\n",
            "[MoviePy] >>>> Building video new_video.mp4\n",
            "[MoviePy] Writing video new_video.mp4\n"
          ],
          "name": "stdout"
        },
        {
          "output_type": "stream",
          "text": [
            "100%|█████████▉| 2565/2566 [00:14<00:00, 174.22it/s]\n"
          ],
          "name": "stderr"
        },
        {
          "output_type": "stream",
          "text": [
            "[MoviePy] Done.\n",
            "[MoviePy] >>>> Video ready: new_video.mp4 \n",
            "\n",
            "(5738, 8, 2048)\n",
            "Stealing011.mp4\n",
            "(15, 8, 2048)\n",
            "(5753, 8, 2048)\n",
            "[MoviePy] >>>> Building video new_video.mp4\n",
            "[MoviePy] Writing video new_video.mp4\n"
          ],
          "name": "stdout"
        },
        {
          "output_type": "stream",
          "text": [
            "100%|█████████▉| 3615/3616 [00:17<00:00, 203.25it/s]\n"
          ],
          "name": "stderr"
        },
        {
          "output_type": "stream",
          "text": [
            "[MoviePy] Done.\n",
            "[MoviePy] >>>> Video ready: new_video.mp4 \n",
            "\n",
            "(5768, 8, 2048)\n",
            "Stealing012.mp4\n",
            "(7, 8, 2048)\n",
            "(5775, 8, 2048)\n",
            "[MoviePy] >>>> Building video new_video.mp4\n",
            "[MoviePy] Writing video new_video.mp4\n"
          ],
          "name": "stdout"
        },
        {
          "output_type": "stream",
          "text": [
            "100%|██████████| 1815/1815 [00:08<00:00, 211.54it/s]\n"
          ],
          "name": "stderr"
        },
        {
          "output_type": "stream",
          "text": [
            "[MoviePy] Done.\n",
            "[MoviePy] >>>> Video ready: new_video.mp4 \n",
            "\n",
            "(5782, 8, 2048)\n",
            "Stealing013.mp4\n",
            "(8, 8, 2048)\n",
            "(5790, 8, 2048)\n",
            "[MoviePy] >>>> Building video new_video.mp4\n",
            "[MoviePy] Writing video new_video.mp4\n"
          ],
          "name": "stdout"
        },
        {
          "output_type": "stream",
          "text": [
            "100%|█████████▉| 2127/2128 [00:11<00:00, 192.68it/s]"
          ],
          "name": "stderr"
        },
        {
          "output_type": "stream",
          "text": [
            "[MoviePy] Done.\n"
          ],
          "name": "stdout"
        },
        {
          "output_type": "stream",
          "text": [
            "\n"
          ],
          "name": "stderr"
        },
        {
          "output_type": "stream",
          "text": [
            "[MoviePy] >>>> Video ready: new_video.mp4 \n",
            "\n",
            "(5798, 8, 2048)\n",
            "Stealing014.mp4\n",
            "(13, 8, 2048)\n",
            "(5811, 8, 2048)\n",
            "[MoviePy] >>>> Building video new_video.mp4\n",
            "[MoviePy] Writing video new_video.mp4\n"
          ],
          "name": "stdout"
        },
        {
          "output_type": "stream",
          "text": [
            "100%|██████████| 3322/3322 [00:18<00:00, 180.07it/s]\n"
          ],
          "name": "stderr"
        },
        {
          "output_type": "stream",
          "text": [
            "[MoviePy] Done.\n",
            "[MoviePy] >>>> Video ready: new_video.mp4 \n",
            "\n",
            "(5824, 8, 2048)\n",
            "Stealing017.mp4\n",
            "(7, 8, 2048)\n",
            "(5831, 8, 2048)\n",
            "[MoviePy] >>>> Building video new_video.mp4\n",
            "[MoviePy] Writing video new_video.mp4\n"
          ],
          "name": "stdout"
        },
        {
          "output_type": "stream",
          "text": [
            "100%|██████████| 1761/1761 [00:09<00:00, 184.27it/s]\n"
          ],
          "name": "stderr"
        },
        {
          "output_type": "stream",
          "text": [
            "[MoviePy] Done.\n",
            "[MoviePy] >>>> Video ready: new_video.mp4 \n",
            "\n",
            "(5838, 8, 2048)\n",
            "Stealing019.mp4\n",
            "(18, 8, 2048)\n",
            "(5856, 8, 2048)\n",
            "[MoviePy] >>>> Building video new_video.mp4\n",
            "[MoviePy] Writing audio in new_videoTEMP_MPY_wvf_snd.mp3\n"
          ],
          "name": "stdout"
        },
        {
          "output_type": "stream",
          "text": [
            "100%|██████████| 3194/3194 [00:03<00:00, 966.92it/s]"
          ],
          "name": "stderr"
        },
        {
          "output_type": "stream",
          "text": [
            "[MoviePy] Done.\n",
            "[MoviePy] Writing video new_video.mp4\n"
          ],
          "name": "stdout"
        },
        {
          "output_type": "stream",
          "text": [
            "\n",
            "100%|██████████| 4345/4345 [00:20<00:00, 212.66it/s]"
          ],
          "name": "stderr"
        },
        {
          "output_type": "stream",
          "text": [
            "[MoviePy] Done.\n",
            "[MoviePy] >>>> Video ready: new_video.mp4 \n",
            "\n"
          ],
          "name": "stdout"
        },
        {
          "output_type": "stream",
          "text": [
            "\n"
          ],
          "name": "stderr"
        },
        {
          "output_type": "stream",
          "text": [
            "(5874, 8, 2048)\n",
            "Stealing020.mp4\n",
            "(18, 8, 2048)\n",
            "(5892, 8, 2048)\n",
            "[MoviePy] >>>> Building video new_video.mp4\n",
            "[MoviePy] Writing audio in new_videoTEMP_MPY_wvf_snd.mp3\n"
          ],
          "name": "stdout"
        },
        {
          "output_type": "stream",
          "text": [
            "100%|██████████| 3185/3185 [00:03<00:00, 893.07it/s]"
          ],
          "name": "stderr"
        },
        {
          "output_type": "stream",
          "text": [
            "[MoviePy] Done.\n",
            "[MoviePy] Writing video new_video.mp4\n"
          ],
          "name": "stdout"
        },
        {
          "output_type": "stream",
          "text": [
            "\n",
            "100%|██████████| 4333/4333 [00:18<00:00, 228.10it/s]"
          ],
          "name": "stderr"
        },
        {
          "output_type": "stream",
          "text": [
            "[MoviePy] Done.\n",
            "[MoviePy] >>>> Video ready: new_video.mp4 \n",
            "\n"
          ],
          "name": "stdout"
        },
        {
          "output_type": "stream",
          "text": [
            "\n"
          ],
          "name": "stderr"
        },
        {
          "output_type": "stream",
          "text": [
            "(5910, 8, 2048)\n",
            "Stealing021.mp4\n",
            "(16, 8, 2048)\n",
            "(5926, 8, 2048)\n",
            "[MoviePy] >>>> Building video new_video.mp4\n",
            "[MoviePy] Writing audio in new_videoTEMP_MPY_wvf_snd.mp3\n"
          ],
          "name": "stdout"
        },
        {
          "output_type": "stream",
          "text": [
            "100%|██████████| 2884/2884 [00:02<00:00, 994.26it/s]"
          ],
          "name": "stderr"
        },
        {
          "output_type": "stream",
          "text": [
            "[MoviePy] Done.\n",
            "[MoviePy] Writing video new_video.mp4\n"
          ],
          "name": "stdout"
        },
        {
          "output_type": "stream",
          "text": [
            "\n",
            "100%|██████████| 3923/3923 [00:17<00:00, 227.47it/s]\n"
          ],
          "name": "stderr"
        },
        {
          "output_type": "stream",
          "text": [
            "[MoviePy] Done.\n",
            "[MoviePy] >>>> Video ready: new_video.mp4 \n",
            "\n",
            "(5942, 8, 2048)\n",
            "Stealing022.mp4\n",
            "(10, 8, 2048)\n",
            "(5952, 8, 2048)\n",
            "[MoviePy] >>>> Building video new_video.mp4\n",
            "[MoviePy] Writing audio in new_videoTEMP_MPY_wvf_snd.mp3\n"
          ],
          "name": "stdout"
        },
        {
          "output_type": "stream",
          "text": [
            "100%|██████████| 1810/1810 [00:02<00:00, 801.88it/s]"
          ],
          "name": "stderr"
        },
        {
          "output_type": "stream",
          "text": [
            "[MoviePy] Done.\n",
            "[MoviePy] Writing video new_video.mp4\n"
          ],
          "name": "stdout"
        },
        {
          "output_type": "stream",
          "text": [
            "\n",
            "100%|██████████| 2462/2462 [00:12<00:00, 196.47it/s]\n"
          ],
          "name": "stderr"
        },
        {
          "output_type": "stream",
          "text": [
            "[MoviePy] Done.\n",
            "[MoviePy] >>>> Video ready: new_video.mp4 \n",
            "\n",
            "(5962, 8, 2048)\n",
            "Stealing023.mp4\n",
            "(12, 8, 2048)\n",
            "(5974, 8, 2048)\n",
            "[MoviePy] >>>> Building video new_video.mp4\n",
            "[MoviePy] Writing audio in new_videoTEMP_MPY_wvf_snd.mp3\n"
          ],
          "name": "stdout"
        },
        {
          "output_type": "stream",
          "text": [
            "100%|██████████| 2106/2106 [00:02<00:00, 996.84it/s]"
          ],
          "name": "stderr"
        },
        {
          "output_type": "stream",
          "text": [
            "[MoviePy] Done.\n",
            "[MoviePy] Writing video new_video.mp4\n"
          ],
          "name": "stdout"
        },
        {
          "output_type": "stream",
          "text": [
            "\n",
            "100%|██████████| 2865/2865 [00:13<00:00, 214.85it/s]\n"
          ],
          "name": "stderr"
        },
        {
          "output_type": "stream",
          "text": [
            "[MoviePy] Done.\n",
            "[MoviePy] >>>> Video ready: new_video.mp4 \n",
            "\n",
            "(5986, 8, 2048)\n",
            "Stealing024.mp4\n",
            "(9, 8, 2048)\n",
            "(5995, 8, 2048)\n",
            "[MoviePy] >>>> Building video new_video.mp4\n",
            "[MoviePy] Writing audio in new_videoTEMP_MPY_wvf_snd.mp3\n"
          ],
          "name": "stdout"
        },
        {
          "output_type": "stream",
          "text": [
            "100%|██████████| 1600/1600 [00:02<00:00, 620.41it/s]"
          ],
          "name": "stderr"
        },
        {
          "output_type": "stream",
          "text": [
            "[MoviePy] Done.\n",
            "[MoviePy] Writing video new_video.mp4\n"
          ],
          "name": "stdout"
        },
        {
          "output_type": "stream",
          "text": [
            "\n",
            "100%|██████████| 2177/2177 [00:10<00:00, 213.54it/s]\n"
          ],
          "name": "stderr"
        },
        {
          "output_type": "stream",
          "text": [
            "[MoviePy] Done.\n",
            "[MoviePy] >>>> Video ready: new_video.mp4 \n",
            "\n",
            "(6004, 8, 2048)\n",
            "Stealing025.mp4\n",
            "(14, 8, 2048)\n",
            "(6018, 8, 2048)\n",
            "[MoviePy] >>>> Building video new_video.mp4\n",
            "[MoviePy] Writing audio in new_videoTEMP_MPY_wvf_snd.mp3\n"
          ],
          "name": "stdout"
        },
        {
          "output_type": "stream",
          "text": [
            "100%|██████████| 2541/2541 [00:02<00:00, 1002.87it/s]"
          ],
          "name": "stderr"
        },
        {
          "output_type": "stream",
          "text": [
            "[MoviePy] Done.\n",
            "[MoviePy] Writing video new_video.mp4\n"
          ],
          "name": "stdout"
        },
        {
          "output_type": "stream",
          "text": [
            "\n",
            "100%|█████████▉| 3456/3457 [00:14<00:00, 231.80it/s]\n"
          ],
          "name": "stderr"
        },
        {
          "output_type": "stream",
          "text": [
            "[MoviePy] Done.\n",
            "[MoviePy] >>>> Video ready: new_video.mp4 \n",
            "\n",
            "(6032, 8, 2048)\n",
            "Stealing026.mp4\n",
            "(6, 8, 2048)\n",
            "(6038, 8, 2048)\n",
            "[MoviePy] >>>> Building video new_video.mp4\n",
            "[MoviePy] Writing audio in new_videoTEMP_MPY_wvf_snd.mp3\n"
          ],
          "name": "stdout"
        },
        {
          "output_type": "stream",
          "text": [
            "100%|██████████| 1059/1059 [00:01<00:00, 1004.71it/s]"
          ],
          "name": "stderr"
        },
        {
          "output_type": "stream",
          "text": [
            "[MoviePy] Done.\n",
            "[MoviePy] Writing video new_video.mp4\n"
          ],
          "name": "stdout"
        },
        {
          "output_type": "stream",
          "text": [
            "\n",
            "100%|█████████▉| 1440/1441 [00:05<00:00, 244.56it/s]\n"
          ],
          "name": "stderr"
        },
        {
          "output_type": "stream",
          "text": [
            "[MoviePy] Done.\n",
            "[MoviePy] >>>> Video ready: new_video.mp4 \n",
            "\n",
            "(6044, 8, 2048)\n",
            "Stealing027.mp4\n",
            "(7, 8, 2048)\n",
            "(6051, 8, 2048)\n",
            "[MoviePy] >>>> Building video new_video.mp4\n",
            "[MoviePy] Writing audio in new_videoTEMP_MPY_wvf_snd.mp3\n"
          ],
          "name": "stdout"
        },
        {
          "output_type": "stream",
          "text": [
            "100%|██████████| 1257/1257 [00:01<00:00, 1037.99it/s]"
          ],
          "name": "stderr"
        },
        {
          "output_type": "stream",
          "text": [
            "[MoviePy] Done.\n",
            "[MoviePy] Writing video new_video.mp4\n"
          ],
          "name": "stdout"
        },
        {
          "output_type": "stream",
          "text": [
            "\n",
            "100%|██████████| 1710/1710 [00:10<00:00, 162.87it/s]\n"
          ],
          "name": "stderr"
        },
        {
          "output_type": "stream",
          "text": [
            "[MoviePy] Done.\n",
            "[MoviePy] >>>> Video ready: new_video.mp4 \n",
            "\n",
            "(6058, 8, 2048)\n",
            "Stealing028.mp4\n",
            "(5, 8, 2048)\n",
            "(6063, 8, 2048)\n",
            "[MoviePy] >>>> Building video new_video.mp4\n",
            "[MoviePy] Writing audio in new_videoTEMP_MPY_wvf_snd.mp3\n"
          ],
          "name": "stdout"
        },
        {
          "output_type": "stream",
          "text": [
            "100%|██████████| 866/866 [00:01<00:00, 658.46it/s]\n"
          ],
          "name": "stderr"
        },
        {
          "output_type": "stream",
          "text": [
            "[MoviePy] Done.\n",
            "[MoviePy] Writing video new_video.mp4\n"
          ],
          "name": "stdout"
        },
        {
          "output_type": "stream",
          "text": [
            "100%|██████████| 1177/1177 [00:05<00:00, 234.92it/s]\n"
          ],
          "name": "stderr"
        },
        {
          "output_type": "stream",
          "text": [
            "[MoviePy] Done.\n",
            "[MoviePy] >>>> Video ready: new_video.mp4 \n",
            "\n",
            "(6068, 8, 2048)\n",
            "Stealing031.mp4\n",
            "(4, 8, 2048)\n",
            "(6072, 8, 2048)\n",
            "[MoviePy] >>>> Building video new_video.mp4\n",
            "[MoviePy] Writing audio in new_videoTEMP_MPY_wvf_snd.mp3\n"
          ],
          "name": "stdout"
        },
        {
          "output_type": "stream",
          "text": [
            "100%|██████████| 789/789 [00:00<00:00, 996.48it/s]"
          ],
          "name": "stderr"
        },
        {
          "output_type": "stream",
          "text": [
            "[MoviePy] Done.\n",
            "[MoviePy] Writing video new_video.mp4\n"
          ],
          "name": "stdout"
        },
        {
          "output_type": "stream",
          "text": [
            "\n",
            "100%|██████████| 1073/1073 [00:05<00:00, 201.74it/s]\n"
          ],
          "name": "stderr"
        },
        {
          "output_type": "stream",
          "text": [
            "[MoviePy] Done.\n",
            "[MoviePy] >>>> Video ready: new_video.mp4 \n",
            "\n",
            "(6076, 8, 2048)\n",
            "Stealing032.mp4\n",
            "(10, 8, 2048)\n",
            "(6086, 8, 2048)\n",
            "[MoviePy] >>>> Building video new_video.mp4\n",
            "[MoviePy] Writing audio in new_videoTEMP_MPY_wvf_snd.mp3\n"
          ],
          "name": "stdout"
        },
        {
          "output_type": "stream",
          "text": [
            "100%|██████████| 1856/1856 [00:01<00:00, 967.68it/s]"
          ],
          "name": "stderr"
        },
        {
          "output_type": "stream",
          "text": [
            "[MoviePy] Done.\n",
            "[MoviePy] Writing video new_video.mp4\n"
          ],
          "name": "stdout"
        },
        {
          "output_type": "stream",
          "text": [
            "\n",
            "100%|██████████| 2525/2525 [00:12<00:00, 207.43it/s]\n"
          ],
          "name": "stderr"
        },
        {
          "output_type": "stream",
          "text": [
            "[MoviePy] Done.\n",
            "[MoviePy] >>>> Video ready: new_video.mp4 \n",
            "\n",
            "(6096, 8, 2048)\n",
            "Stealing035.mp4\n",
            "(22, 8, 2048)\n",
            "(6118, 8, 2048)\n",
            "[MoviePy] >>>> Building video new_video.mp4\n",
            "[MoviePy] Writing audio in new_videoTEMP_MPY_wvf_snd.mp3\n"
          ],
          "name": "stdout"
        },
        {
          "output_type": "stream",
          "text": [
            "100%|██████████| 3941/3941 [00:04<00:00, 981.33it/s]"
          ],
          "name": "stderr"
        },
        {
          "output_type": "stream",
          "text": [
            "[MoviePy] Done.\n",
            "[MoviePy] Writing video new_video.mp4\n"
          ],
          "name": "stdout"
        },
        {
          "output_type": "stream",
          "text": [
            "\n",
            "100%|██████████| 5362/5362 [00:23<00:00, 226.92it/s]\n"
          ],
          "name": "stderr"
        },
        {
          "output_type": "stream",
          "text": [
            "[MoviePy] Done.\n",
            "[MoviePy] >>>> Video ready: new_video.mp4 \n",
            "\n",
            "(6140, 8, 2048)\n",
            "Stealing036.mp4\n",
            "(4, 8, 2048)\n",
            "(6144, 8, 2048)\n",
            "[MoviePy] >>>> Building video new_video.mp4\n",
            "[MoviePy] Writing audio in new_videoTEMP_MPY_wvf_snd.mp3\n"
          ],
          "name": "stdout"
        },
        {
          "output_type": "stream",
          "text": [
            "100%|██████████| 826/826 [00:00<00:00, 871.67it/s]"
          ],
          "name": "stderr"
        },
        {
          "output_type": "stream",
          "text": [
            "[MoviePy] Done.\n",
            "[MoviePy] Writing video new_video.mp4\n"
          ],
          "name": "stdout"
        },
        {
          "output_type": "stream",
          "text": [
            "\n",
            "100%|██████████| 1124/1124 [00:04<00:00, 227.01it/s]\n"
          ],
          "name": "stderr"
        },
        {
          "output_type": "stream",
          "text": [
            "[MoviePy] Done.\n",
            "[MoviePy] >>>> Video ready: new_video.mp4 \n",
            "\n",
            "(6148, 8, 2048)\n",
            "Stealing037.mp4\n",
            "(18, 8, 2048)\n",
            "(6166, 8, 2048)\n",
            "[MoviePy] >>>> Building video new_video.mp4\n",
            "[MoviePy] Writing audio in new_videoTEMP_MPY_wvf_snd.mp3\n"
          ],
          "name": "stdout"
        },
        {
          "output_type": "stream",
          "text": [
            "100%|██████████| 3312/3312 [00:03<00:00, 1013.62it/s]"
          ],
          "name": "stderr"
        },
        {
          "output_type": "stream",
          "text": [
            "[MoviePy] Done.\n",
            "[MoviePy] Writing video new_video.mp4\n"
          ],
          "name": "stdout"
        },
        {
          "output_type": "stream",
          "text": [
            "\n",
            "100%|██████████| 4506/4506 [00:21<00:00, 209.24it/s]\n"
          ],
          "name": "stderr"
        },
        {
          "output_type": "stream",
          "text": [
            "[MoviePy] Done.\n",
            "[MoviePy] >>>> Video ready: new_video.mp4 \n",
            "\n",
            "(6184, 8, 2048)\n",
            "Stealing042.mp4\n",
            "(17, 8, 2048)\n",
            "(6201, 8, 2048)\n",
            "[MoviePy] >>>> Building video new_video.mp4\n",
            "[MoviePy] Writing audio in new_videoTEMP_MPY_wvf_snd.mp3\n"
          ],
          "name": "stdout"
        },
        {
          "output_type": "stream",
          "text": [
            "100%|██████████| 3089/3089 [00:02<00:00, 1442.75it/s]"
          ],
          "name": "stderr"
        },
        {
          "output_type": "stream",
          "text": [
            "[MoviePy] Done.\n",
            "[MoviePy] Writing video new_video.mp4\n"
          ],
          "name": "stdout"
        },
        {
          "output_type": "stream",
          "text": [
            "\n",
            "100%|██████████| 4203/4203 [00:18<00:00, 222.85it/s]\n"
          ],
          "name": "stderr"
        },
        {
          "output_type": "stream",
          "text": [
            "[MoviePy] Done.\n",
            "[MoviePy] >>>> Video ready: new_video.mp4 \n",
            "\n",
            "(6218, 8, 2048)\n",
            "Stealing043.mp4\n",
            "(16, 8, 2048)\n",
            "(6234, 8, 2048)\n",
            "[MoviePy] >>>> Building video new_video.mp4\n",
            "[MoviePy] Writing audio in new_videoTEMP_MPY_wvf_snd.mp3\n"
          ],
          "name": "stdout"
        },
        {
          "output_type": "stream",
          "text": [
            "100%|██████████| 2931/2931 [00:02<00:00, 1004.37it/s]"
          ],
          "name": "stderr"
        },
        {
          "output_type": "stream",
          "text": [
            "[MoviePy] Done.\n",
            "[MoviePy] Writing video new_video.mp4\n"
          ],
          "name": "stdout"
        },
        {
          "output_type": "stream",
          "text": [
            "\n",
            "100%|██████████| 3987/3987 [00:17<00:00, 223.68it/s]\n"
          ],
          "name": "stderr"
        },
        {
          "output_type": "stream",
          "text": [
            "[MoviePy] Done.\n",
            "[MoviePy] >>>> Video ready: new_video.mp4 \n",
            "\n",
            "(6250, 8, 2048)\n",
            "Stealing044.mp4\n",
            "(12, 8, 2048)\n",
            "(6262, 8, 2048)\n",
            "[MoviePy] >>>> Building video new_video.mp4\n",
            "[MoviePy] Writing audio in new_videoTEMP_MPY_wvf_snd.mp3\n"
          ],
          "name": "stdout"
        },
        {
          "output_type": "stream",
          "text": [
            "100%|██████████| 2263/2263 [00:01<00:00, 1315.58it/s]"
          ],
          "name": "stderr"
        },
        {
          "output_type": "stream",
          "text": [
            "[MoviePy] Done.\n",
            "[MoviePy] Writing video new_video.mp4\n"
          ],
          "name": "stdout"
        },
        {
          "output_type": "stream",
          "text": [
            "\n",
            "100%|█████████▉| 3078/3079 [00:15<00:00, 192.52it/s]"
          ],
          "name": "stderr"
        },
        {
          "output_type": "stream",
          "text": [
            "[MoviePy] Done.\n",
            "[MoviePy] >>>> Video ready: new_video.mp4 \n",
            "\n"
          ],
          "name": "stdout"
        },
        {
          "output_type": "stream",
          "text": [
            "\n"
          ],
          "name": "stderr"
        },
        {
          "output_type": "stream",
          "text": [
            "(6274, 8, 2048)\n",
            "Stealing045.mp4\n",
            "(30, 8, 2048)\n",
            "(6304, 8, 2048)\n",
            "[MoviePy] >>>> Building video new_video.mp4\n",
            "[MoviePy] Writing audio in new_videoTEMP_MPY_wvf_snd.mp3\n"
          ],
          "name": "stdout"
        },
        {
          "output_type": "stream",
          "text": [
            "100%|██████████| 5305/5305 [00:05<00:00, 987.51it/s] "
          ],
          "name": "stderr"
        },
        {
          "output_type": "stream",
          "text": [
            "[MoviePy] Done.\n",
            "[MoviePy] Writing video new_video.mp4\n"
          ],
          "name": "stdout"
        },
        {
          "output_type": "stream",
          "text": [
            "\n",
            "100%|██████████| 7218/7218 [00:33<00:00, 214.15it/s]\n"
          ],
          "name": "stderr"
        },
        {
          "output_type": "stream",
          "text": [
            "[MoviePy] Done.\n",
            "[MoviePy] >>>> Video ready: new_video.mp4 \n",
            "\n",
            "(6334, 8, 2048)\n",
            "Stealing046.mp4\n",
            "(30, 8, 2048)\n",
            "(6364, 8, 2048)\n",
            "[MoviePy] >>>> Building video new_video.mp4\n",
            "[MoviePy] Writing audio in new_videoTEMP_MPY_wvf_snd.mp3\n"
          ],
          "name": "stdout"
        },
        {
          "output_type": "stream",
          "text": [
            "100%|██████████| 5445/5445 [00:05<00:00, 1000.18it/s]"
          ],
          "name": "stderr"
        },
        {
          "output_type": "stream",
          "text": [
            "[MoviePy] Done.\n",
            "[MoviePy] Writing video new_video.mp4\n"
          ],
          "name": "stdout"
        },
        {
          "output_type": "stream",
          "text": [
            "\n",
            "100%|██████████| 7408/7408 [00:40<00:00, 181.64it/s]\n"
          ],
          "name": "stderr"
        },
        {
          "output_type": "stream",
          "text": [
            "[MoviePy] Done.\n",
            "[MoviePy] >>>> Video ready: new_video.mp4 \n",
            "\n",
            "(6394, 8, 2048)\n",
            "Stealing048.mp4\n",
            "(28, 8, 2048)\n",
            "(6422, 8, 2048)\n",
            "[MoviePy] >>>> Building video new_video.mp4\n",
            "[MoviePy] Writing audio in new_videoTEMP_MPY_wvf_snd.mp3\n"
          ],
          "name": "stdout"
        },
        {
          "output_type": "stream",
          "text": [
            "100%|██████████| 4946/4946 [00:04<00:00, 1000.80it/s]"
          ],
          "name": "stderr"
        },
        {
          "output_type": "stream",
          "text": [
            "[MoviePy] Done.\n",
            "[MoviePy] Writing video new_video.mp4\n"
          ],
          "name": "stdout"
        },
        {
          "output_type": "stream",
          "text": [
            "\n",
            "100%|█████████▉| 6729/6730 [00:35<00:00, 190.80it/s]\n"
          ],
          "name": "stderr"
        },
        {
          "output_type": "stream",
          "text": [
            "[MoviePy] Done.\n",
            "[MoviePy] >>>> Video ready: new_video.mp4 \n",
            "\n",
            "(6450, 8, 2048)\n",
            "Stealing049.mp4\n",
            "(6, 8, 2048)\n",
            "(6456, 8, 2048)\n",
            "[MoviePy] >>>> Building video new_video.mp4\n",
            "[MoviePy] Writing audio in new_videoTEMP_MPY_wvf_snd.mp3\n"
          ],
          "name": "stdout"
        },
        {
          "output_type": "stream",
          "text": [
            "100%|██████████| 1060/1060 [00:01<00:00, 994.30it/s] "
          ],
          "name": "stderr"
        },
        {
          "output_type": "stream",
          "text": [
            "[MoviePy] Done.\n",
            "[MoviePy] Writing video new_video.mp4\n"
          ],
          "name": "stdout"
        },
        {
          "output_type": "stream",
          "text": [
            "\n",
            "100%|██████████| 1442/1442 [00:06<00:00, 236.14it/s]\n"
          ],
          "name": "stderr"
        },
        {
          "output_type": "stream",
          "text": [
            "[MoviePy] Done.\n",
            "[MoviePy] >>>> Video ready: new_video.mp4 \n",
            "\n",
            "(6462, 8, 2048)\n",
            "Stealing050.mp4\n",
            "(11, 8, 2048)\n",
            "(6473, 8, 2048)\n",
            "[MoviePy] >>>> Building video new_video.mp4\n",
            "[MoviePy] Writing audio in new_videoTEMP_MPY_wvf_snd.mp3\n"
          ],
          "name": "stdout"
        },
        {
          "output_type": "stream",
          "text": [
            "100%|██████████| 2082/2082 [00:02<00:00, 1006.41it/s]"
          ],
          "name": "stderr"
        },
        {
          "output_type": "stream",
          "text": [
            "[MoviePy] Done.\n",
            "[MoviePy] Writing video new_video.mp4\n"
          ],
          "name": "stdout"
        },
        {
          "output_type": "stream",
          "text": [
            "\n",
            "100%|█████████▉| 2832/2833 [00:15<00:00, 183.19it/s]\n"
          ],
          "name": "stderr"
        },
        {
          "output_type": "stream",
          "text": [
            "[MoviePy] Done.\n",
            "[MoviePy] >>>> Video ready: new_video.mp4 \n",
            "\n",
            "(6484, 8, 2048)\n",
            "Stealing051.mp4\n",
            "(8, 8, 2048)\n",
            "(6492, 8, 2048)\n",
            "[MoviePy] >>>> Building video new_video.mp4\n",
            "[MoviePy] Writing audio in new_videoTEMP_MPY_wvf_snd.mp3\n"
          ],
          "name": "stdout"
        },
        {
          "output_type": "stream",
          "text": [
            "100%|██████████| 1559/1559 [00:01<00:00, 981.56it/s]"
          ],
          "name": "stderr"
        },
        {
          "output_type": "stream",
          "text": [
            "[MoviePy] Done.\n",
            "[MoviePy] Writing video new_video.mp4\n"
          ],
          "name": "stdout"
        },
        {
          "output_type": "stream",
          "text": [
            "\n",
            "100%|█████████▉| 2121/2122 [00:09<00:00, 212.95it/s]\n"
          ],
          "name": "stderr"
        },
        {
          "output_type": "stream",
          "text": [
            "[MoviePy] Done.\n",
            "[MoviePy] >>>> Video ready: new_video.mp4 \n",
            "\n",
            "(6500, 8, 2048)\n",
            "Stealing052.mp4\n",
            "(13, 8, 2048)\n",
            "(6513, 8, 2048)\n",
            "[MoviePy] >>>> Building video new_video.mp4\n",
            "[MoviePy] Writing audio in new_videoTEMP_MPY_wvf_snd.mp3\n"
          ],
          "name": "stdout"
        },
        {
          "output_type": "stream",
          "text": [
            "100%|██████████| 2439/2439 [00:02<00:00, 1006.62it/s]"
          ],
          "name": "stderr"
        },
        {
          "output_type": "stream",
          "text": [
            "[MoviePy] Done.\n",
            "[MoviePy] Writing video new_video.mp4\n"
          ],
          "name": "stdout"
        },
        {
          "output_type": "stream",
          "text": [
            "\n",
            "100%|██████████| 3319/3319 [00:15<00:00, 212.78it/s]"
          ],
          "name": "stderr"
        },
        {
          "output_type": "stream",
          "text": [
            "[MoviePy] Done.\n",
            "[MoviePy] >>>> Video ready: new_video.mp4 \n",
            "\n"
          ],
          "name": "stdout"
        },
        {
          "output_type": "stream",
          "text": [
            "\n"
          ],
          "name": "stderr"
        },
        {
          "output_type": "stream",
          "text": [
            "(6526, 8, 2048)\n",
            "Stealing054.mp4\n",
            "(8, 8, 2048)\n",
            "(6534, 8, 2048)\n",
            "[MoviePy] >>>> Building video new_video.mp4\n",
            "[MoviePy] Writing audio in new_videoTEMP_MPY_wvf_snd.mp3\n"
          ],
          "name": "stdout"
        },
        {
          "output_type": "stream",
          "text": [
            "100%|██████████| 1442/1442 [00:01<00:00, 1014.62it/s]"
          ],
          "name": "stderr"
        },
        {
          "output_type": "stream",
          "text": [
            "[MoviePy] Done.\n",
            "[MoviePy] Writing video new_video.mp4\n"
          ],
          "name": "stdout"
        },
        {
          "output_type": "stream",
          "text": [
            "\n",
            "100%|██████████| 1962/1962 [00:09<00:00, 207.53it/s]\n"
          ],
          "name": "stderr"
        },
        {
          "output_type": "stream",
          "text": [
            "[MoviePy] Done.\n",
            "[MoviePy] >>>> Video ready: new_video.mp4 \n",
            "\n",
            "(6542, 8, 2048)\n",
            "Stealing055.mp4\n",
            "(6, 8, 2048)\n",
            "(6548, 8, 2048)\n",
            "[MoviePy] >>>> Building video new_video.mp4\n",
            "[MoviePy] Writing audio in new_videoTEMP_MPY_wvf_snd.mp3\n"
          ],
          "name": "stdout"
        },
        {
          "output_type": "stream",
          "text": [
            "100%|██████████| 1192/1192 [00:01<00:00, 889.62it/s]"
          ],
          "name": "stderr"
        },
        {
          "output_type": "stream",
          "text": [
            "[MoviePy] Done.\n",
            "[MoviePy] Writing video new_video.mp4\n"
          ],
          "name": "stdout"
        },
        {
          "output_type": "stream",
          "text": [
            "\n",
            "100%|██████████| 1622/1622 [00:07<00:00, 209.26it/s]\n"
          ],
          "name": "stderr"
        },
        {
          "output_type": "stream",
          "text": [
            "[MoviePy] Done.\n",
            "[MoviePy] >>>> Video ready: new_video.mp4 \n",
            "\n",
            "(6554, 8, 2048)\n",
            "Vandalism001.mp4\n",
            "(5, 8, 2048)\n",
            "(6559, 8, 2048)\n",
            "[MoviePy] >>>> Building video new_video.mp4\n",
            "[MoviePy] Writing audio in new_videoTEMP_MPY_wvf_snd.mp3\n"
          ],
          "name": "stdout"
        },
        {
          "output_type": "stream",
          "text": [
            "100%|██████████| 1026/1026 [00:01<00:00, 798.40it/s]"
          ],
          "name": "stderr"
        },
        {
          "output_type": "stream",
          "text": [
            "[MoviePy] Done.\n",
            "[MoviePy] Writing video new_video.mp4\n"
          ],
          "name": "stdout"
        },
        {
          "output_type": "stream",
          "text": [
            "\n",
            "100%|█████████▉| 1395/1396 [00:08<00:00, 160.59it/s]\n"
          ],
          "name": "stderr"
        },
        {
          "output_type": "stream",
          "text": [
            "[MoviePy] Done.\n",
            "[MoviePy] >>>> Video ready: new_video.mp4 \n",
            "\n",
            "(6564, 8, 2048)\n",
            "Vandalism009.mp4\n",
            "(2, 8, 2048)\n",
            "(6566, 8, 2048)\n",
            "[MoviePy] >>>> Building video new_video.mp4\n",
            "[MoviePy] Writing audio in new_videoTEMP_MPY_wvf_snd.mp3\n"
          ],
          "name": "stdout"
        },
        {
          "output_type": "stream",
          "text": [
            "100%|██████████| 402/402 [00:00<00:00, 1022.03it/s]\n"
          ],
          "name": "stderr"
        },
        {
          "output_type": "stream",
          "text": [
            "[MoviePy] Done.\n",
            "[MoviePy] Writing video new_video.mp4\n"
          ],
          "name": "stdout"
        },
        {
          "output_type": "stream",
          "text": [
            "100%|██████████| 547/547 [00:02<00:00, 235.26it/s]\n"
          ],
          "name": "stderr"
        },
        {
          "output_type": "stream",
          "text": [
            "[MoviePy] Done.\n",
            "[MoviePy] >>>> Video ready: new_video.mp4 \n",
            "\n",
            "(6568, 8, 2048)\n",
            "Vandalism020.mp4\n",
            "(3, 8, 2048)\n",
            "(6571, 8, 2048)\n",
            "[MoviePy] >>>> Building video new_video.mp4\n",
            "[MoviePy] Writing audio in new_videoTEMP_MPY_wvf_snd.mp3\n"
          ],
          "name": "stdout"
        },
        {
          "output_type": "stream",
          "text": [
            "100%|██████████| 586/586 [00:00<00:00, 617.25it/s]"
          ],
          "name": "stderr"
        },
        {
          "output_type": "stream",
          "text": [
            "[MoviePy] Done.\n",
            "[MoviePy] Writing video new_video.mp4\n"
          ],
          "name": "stdout"
        },
        {
          "output_type": "stream",
          "text": [
            "\n",
            "100%|██████████| 797/797 [00:03<00:00, 226.73it/s]\n"
          ],
          "name": "stderr"
        },
        {
          "output_type": "stream",
          "text": [
            "[MoviePy] Done.\n",
            "[MoviePy] >>>> Video ready: new_video.mp4 \n",
            "\n",
            "(6574, 8, 2048)\n",
            "Vandalism005.mp4\n",
            "(2, 8, 2048)\n",
            "(6576, 8, 2048)\n",
            "[MoviePy] >>>> Building video new_video.mp4\n",
            "[MoviePy] Writing audio in new_videoTEMP_MPY_wvf_snd.mp3\n"
          ],
          "name": "stdout"
        },
        {
          "output_type": "stream",
          "text": [
            "100%|██████████| 333/333 [00:00<00:00, 1035.32it/s]"
          ],
          "name": "stderr"
        },
        {
          "output_type": "stream",
          "text": [
            "[MoviePy] Done.\n",
            "[MoviePy] Writing video new_video.mp4\n"
          ],
          "name": "stdout"
        },
        {
          "output_type": "stream",
          "text": [
            "\n",
            "100%|██████████| 453/453 [00:01<00:00, 235.04it/s]\n"
          ],
          "name": "stderr"
        },
        {
          "output_type": "stream",
          "text": [
            "[MoviePy] Done.\n",
            "[MoviePy] >>>> Video ready: new_video.mp4 \n",
            "\n",
            "(6578, 8, 2048)\n",
            "Vandalism014.mp4\n",
            "(1, 8, 2048)\n",
            "(6579, 8, 2048)\n",
            "[MoviePy] >>>> Building video new_video.mp4\n",
            "[MoviePy] Writing audio in new_videoTEMP_MPY_wvf_snd.mp3\n"
          ],
          "name": "stdout"
        },
        {
          "output_type": "stream",
          "text": [
            "100%|██████████| 192/192 [00:00<00:00, 1049.57it/s]"
          ],
          "name": "stderr"
        },
        {
          "output_type": "stream",
          "text": [
            "[MoviePy] Done.\n",
            "[MoviePy] Writing video new_video.mp4\n"
          ],
          "name": "stdout"
        },
        {
          "output_type": "stream",
          "text": [
            "\n",
            "100%|██████████| 261/261 [00:01<00:00, 242.00it/s]\n"
          ],
          "name": "stderr"
        },
        {
          "output_type": "stream",
          "text": [
            "[MoviePy] Done.\n",
            "[MoviePy] >>>> Video ready: new_video.mp4 \n",
            "\n",
            "(6580, 8, 2048)\n",
            "Vandalism012.mp4\n",
            "(1, 8, 2048)\n",
            "(6581, 8, 2048)\n",
            "[MoviePy] >>>> Building video new_video.mp4\n",
            "[MoviePy] Writing audio in new_videoTEMP_MPY_wvf_snd.mp3\n"
          ],
          "name": "stdout"
        },
        {
          "output_type": "stream",
          "text": [
            "100%|██████████| 326/326 [00:00<00:00, 1044.05it/s]"
          ],
          "name": "stderr"
        },
        {
          "output_type": "stream",
          "text": [
            "[MoviePy] Done.\n",
            "[MoviePy] Writing video new_video.mp4\n"
          ],
          "name": "stdout"
        },
        {
          "output_type": "stream",
          "text": [
            "\n",
            "100%|██████████| 443/443 [00:01<00:00, 247.73it/s]\n"
          ],
          "name": "stderr"
        },
        {
          "output_type": "stream",
          "text": [
            "[MoviePy] Done.\n",
            "[MoviePy] >>>> Video ready: new_video.mp4 \n",
            "\n",
            "(6582, 8, 2048)\n",
            "Vandalism027.mp4\n",
            "(2, 8, 2048)\n",
            "(6584, 8, 2048)\n",
            "[MoviePy] >>>> Building video new_video.mp4\n",
            "[MoviePy] Writing audio in new_videoTEMP_MPY_wvf_snd.mp3\n"
          ],
          "name": "stdout"
        },
        {
          "output_type": "stream",
          "text": [
            "100%|██████████| 384/384 [00:00<00:00, 668.98it/s]"
          ],
          "name": "stderr"
        },
        {
          "output_type": "stream",
          "text": [
            "[MoviePy] Done.\n",
            "[MoviePy] Writing video new_video.mp4\n"
          ],
          "name": "stdout"
        },
        {
          "output_type": "stream",
          "text": [
            "\n",
            "100%|██████████| 522/522 [00:02<00:00, 232.49it/s]"
          ],
          "name": "stderr"
        },
        {
          "output_type": "stream",
          "text": [
            "[MoviePy] Done.\n",
            "[MoviePy] >>>> Video ready: new_video.mp4 \n",
            "\n"
          ],
          "name": "stdout"
        },
        {
          "output_type": "stream",
          "text": [
            "\n"
          ],
          "name": "stderr"
        },
        {
          "output_type": "stream",
          "text": [
            "(6586, 8, 2048)\n",
            "Vandalism007.mp4\n",
            "(3, 8, 2048)\n",
            "(6589, 8, 2048)\n",
            "[MoviePy] >>>> Building video new_video.mp4\n",
            "[MoviePy] Writing audio in new_videoTEMP_MPY_wvf_snd.mp3\n"
          ],
          "name": "stdout"
        },
        {
          "output_type": "stream",
          "text": [
            "100%|██████████| 576/576 [00:00<00:00, 1018.59it/s]"
          ],
          "name": "stderr"
        },
        {
          "output_type": "stream",
          "text": [
            "[MoviePy] Done.\n",
            "[MoviePy] Writing video new_video.mp4\n"
          ],
          "name": "stdout"
        },
        {
          "output_type": "stream",
          "text": [
            "\n",
            "100%|██████████| 783/783 [00:03<00:00, 221.95it/s]\n"
          ],
          "name": "stderr"
        },
        {
          "output_type": "stream",
          "text": [
            "[MoviePy] Done.\n",
            "[MoviePy] >>>> Video ready: new_video.mp4 \n",
            "\n",
            "(6592, 8, 2048)\n",
            "Vandalism003.mp4\n",
            "(2, 8, 2048)\n",
            "(6594, 8, 2048)\n",
            "[MoviePy] >>>> Building video new_video.mp4\n",
            "[MoviePy] Writing audio in new_videoTEMP_MPY_wvf_snd.mp3\n"
          ],
          "name": "stdout"
        },
        {
          "output_type": "stream",
          "text": [
            "100%|██████████| 430/430 [00:00<00:00, 965.65it/s]"
          ],
          "name": "stderr"
        },
        {
          "output_type": "stream",
          "text": [
            "[MoviePy] Done.\n",
            "[MoviePy] Writing video new_video.mp4\n"
          ],
          "name": "stdout"
        },
        {
          "output_type": "stream",
          "text": [
            "\n",
            "100%|█████████▉| 585/586 [00:02<00:00, 200.73it/s]\n"
          ],
          "name": "stderr"
        },
        {
          "output_type": "stream",
          "text": [
            "[MoviePy] Done.\n",
            "[MoviePy] >>>> Video ready: new_video.mp4 \n",
            "\n",
            "(6596, 8, 2048)\n",
            "Vandalism017.mp4\n",
            "(3, 8, 2048)\n",
            "(6599, 8, 2048)\n",
            "[MoviePy] >>>> Building video new_video.mp4\n",
            "[MoviePy] Writing audio in new_videoTEMP_MPY_wvf_snd.mp3\n"
          ],
          "name": "stdout"
        },
        {
          "output_type": "stream",
          "text": [
            "100%|██████████| 665/665 [00:00<00:00, 995.28it/s]"
          ],
          "name": "stderr"
        },
        {
          "output_type": "stream",
          "text": [
            "[MoviePy] Done.\n",
            "[MoviePy] Writing video new_video.mp4\n"
          ],
          "name": "stdout"
        },
        {
          "output_type": "stream",
          "text": [
            "\n",
            "100%|██████████| 904/904 [00:04<00:00, 202.39it/s]\n"
          ],
          "name": "stderr"
        },
        {
          "output_type": "stream",
          "text": [
            "[MoviePy] Done.\n",
            "[MoviePy] >>>> Video ready: new_video.mp4 \n",
            "\n",
            "(6602, 8, 2048)\n",
            "Vandalism002.mp4\n",
            "(7, 8, 2048)\n",
            "(6609, 8, 2048)\n",
            "[MoviePy] >>>> Building video new_video.mp4\n",
            "[MoviePy] Writing audio in new_videoTEMP_MPY_wvf_snd.mp3\n"
          ],
          "name": "stdout"
        },
        {
          "output_type": "stream",
          "text": [
            "100%|██████████| 1354/1354 [00:00<00:00, 1461.94it/s]"
          ],
          "name": "stderr"
        },
        {
          "output_type": "stream",
          "text": [
            "[MoviePy] Done.\n",
            "[MoviePy] Writing video new_video.mp4\n"
          ],
          "name": "stdout"
        },
        {
          "output_type": "stream",
          "text": [
            "\n",
            "100%|██████████| 1842/1842 [00:08<00:00, 218.77it/s]\n"
          ],
          "name": "stderr"
        },
        {
          "output_type": "stream",
          "text": [
            "[MoviePy] Done.\n",
            "[MoviePy] >>>> Video ready: new_video.mp4 \n",
            "\n",
            "(6616, 8, 2048)\n",
            "Vandalism026.mp4\n",
            "(2, 8, 2048)\n",
            "(6618, 8, 2048)\n",
            "[MoviePy] >>>> Building video new_video.mp4\n",
            "[MoviePy] Writing audio in new_videoTEMP_MPY_wvf_snd.mp3\n"
          ],
          "name": "stdout"
        },
        {
          "output_type": "stream",
          "text": [
            "100%|██████████| 433/433 [00:00<00:00, 1027.87it/s]"
          ],
          "name": "stderr"
        },
        {
          "output_type": "stream",
          "text": [
            "[MoviePy] Done.\n",
            "[MoviePy] Writing video new_video.mp4\n"
          ],
          "name": "stdout"
        },
        {
          "output_type": "stream",
          "text": [
            "\n",
            "100%|██████████| 589/589 [00:02<00:00, 234.67it/s]\n"
          ],
          "name": "stderr"
        },
        {
          "output_type": "stream",
          "text": [
            "[MoviePy] Done.\n",
            "[MoviePy] >>>> Video ready: new_video.mp4 \n",
            "\n",
            "(6620, 8, 2048)\n",
            "Vandalism004.mp4\n",
            "(10, 8, 2048)\n",
            "(6630, 8, 2048)\n",
            "[MoviePy] >>>> Building video new_video.mp4\n",
            "[MoviePy] Writing video new_video.mp4\n"
          ],
          "name": "stdout"
        },
        {
          "output_type": "stream",
          "text": [
            "100%|██████████| 2530/2530 [00:13<00:00, 192.21it/s]\n"
          ],
          "name": "stderr"
        },
        {
          "output_type": "stream",
          "text": [
            "[MoviePy] Done.\n",
            "[MoviePy] >>>> Video ready: new_video.mp4 \n",
            "\n",
            "(6640, 8, 2048)\n",
            "Vandalism046.mp4\n",
            "(3, 8, 2048)\n",
            "(6643, 8, 2048)\n",
            "[MoviePy] >>>> Building video new_video.mp4\n",
            "[MoviePy] Writing audio in new_videoTEMP_MPY_wvf_snd.mp3\n"
          ],
          "name": "stdout"
        },
        {
          "output_type": "stream",
          "text": [
            "100%|██████████| 522/522 [00:00<00:00, 914.84it/s]"
          ],
          "name": "stderr"
        },
        {
          "output_type": "stream",
          "text": [
            "[MoviePy] Done.\n",
            "[MoviePy] Writing video new_video.mp4\n"
          ],
          "name": "stdout"
        },
        {
          "output_type": "stream",
          "text": [
            "\n",
            "100%|██████████| 710/710 [00:03<00:00, 201.04it/s]\n"
          ],
          "name": "stderr"
        },
        {
          "output_type": "stream",
          "text": [
            "[MoviePy] Done.\n",
            "[MoviePy] >>>> Video ready: new_video.mp4 \n",
            "\n",
            "(6646, 8, 2048)\n",
            "Vandalism039.mp4\n",
            "(3, 8, 2048)\n",
            "(6649, 8, 2048)\n",
            "[MoviePy] >>>> Building video new_video.mp4\n",
            "[MoviePy] Writing audio in new_videoTEMP_MPY_wvf_snd.mp3\n"
          ],
          "name": "stdout"
        },
        {
          "output_type": "stream",
          "text": [
            "100%|██████████| 562/562 [00:00<00:00, 1023.69it/s]"
          ],
          "name": "stderr"
        },
        {
          "output_type": "stream",
          "text": [
            "[MoviePy] Done.\n",
            "[MoviePy] Writing video new_video.mp4\n"
          ],
          "name": "stdout"
        },
        {
          "output_type": "stream",
          "text": [
            "\n",
            "100%|██████████| 764/764 [00:03<00:00, 229.76it/s]\n"
          ],
          "name": "stderr"
        },
        {
          "output_type": "stream",
          "text": [
            "[MoviePy] Done.\n",
            "[MoviePy] >>>> Video ready: new_video.mp4 \n",
            "\n",
            "(6652, 8, 2048)\n",
            "Vandalism032.mp4\n",
            "(1, 8, 2048)\n",
            "(6653, 8, 2048)\n",
            "[MoviePy] >>>> Building video new_video.mp4\n",
            "[MoviePy] Writing audio in new_videoTEMP_MPY_wvf_snd.mp3\n"
          ],
          "name": "stdout"
        },
        {
          "output_type": "stream",
          "text": [
            "100%|██████████| 178/178 [00:00<00:00, 812.99it/s]"
          ],
          "name": "stderr"
        },
        {
          "output_type": "stream",
          "text": [
            "[MoviePy] Done.\n",
            "[MoviePy] Writing video new_video.mp4\n"
          ],
          "name": "stdout"
        },
        {
          "output_type": "stream",
          "text": [
            "\n",
            "100%|██████████| 242/242 [00:00<00:00, 262.13it/s]"
          ],
          "name": "stderr"
        },
        {
          "output_type": "stream",
          "text": [
            "[MoviePy] Done.\n",
            "[MoviePy] >>>> Video ready: new_video.mp4 \n",
            "\n"
          ],
          "name": "stdout"
        },
        {
          "output_type": "stream",
          "text": [
            "\n"
          ],
          "name": "stderr"
        },
        {
          "output_type": "stream",
          "text": [
            "(6654, 8, 2048)\n",
            "Vandalism029.mp4\n",
            "(1, 8, 2048)\n",
            "(6655, 8, 2048)\n",
            "[MoviePy] >>>> Building video new_video.mp4\n",
            "[MoviePy] Writing audio in new_videoTEMP_MPY_wvf_snd.mp3\n"
          ],
          "name": "stdout"
        },
        {
          "output_type": "stream",
          "text": [
            "100%|██████████| 241/241 [00:00<00:00, 1039.52it/s]"
          ],
          "name": "stderr"
        },
        {
          "output_type": "stream",
          "text": [
            "[MoviePy] Done.\n",
            "[MoviePy] Writing video new_video.mp4\n"
          ],
          "name": "stdout"
        },
        {
          "output_type": "stream",
          "text": [
            "\n",
            "100%|█████████▉| 327/328 [00:01<00:00, 237.27it/s]\n"
          ],
          "name": "stderr"
        },
        {
          "output_type": "stream",
          "text": [
            "[MoviePy] Done.\n",
            "[MoviePy] >>>> Video ready: new_video.mp4 \n",
            "\n",
            "(6656, 8, 2048)\n",
            "Vandalism035.mp4\n",
            "(2, 8, 2048)\n",
            "(6658, 8, 2048)\n",
            "[MoviePy] >>>> Building video new_video.mp4\n",
            "[MoviePy] Writing audio in new_videoTEMP_MPY_wvf_snd.mp3\n"
          ],
          "name": "stdout"
        },
        {
          "output_type": "stream",
          "text": [
            "100%|██████████| 474/474 [00:00<00:00, 913.54it/s]"
          ],
          "name": "stderr"
        },
        {
          "output_type": "stream",
          "text": [
            "[MoviePy] Done.\n",
            "[MoviePy] Writing video new_video.mp4\n"
          ],
          "name": "stdout"
        },
        {
          "output_type": "stream",
          "text": [
            "\n",
            "100%|██████████| 644/644 [00:02<00:00, 231.61it/s]\n"
          ],
          "name": "stderr"
        },
        {
          "output_type": "stream",
          "text": [
            "[MoviePy] Done.\n",
            "[MoviePy] >>>> Video ready: new_video.mp4 \n",
            "\n",
            "(6660, 8, 2048)\n",
            "Vandalism006.mp4\n",
            "(3, 8, 2048)\n",
            "(6663, 8, 2048)\n",
            "[MoviePy] >>>> Building video new_video.mp4\n",
            "[MoviePy] Writing audio in new_videoTEMP_MPY_wvf_snd.mp3\n"
          ],
          "name": "stdout"
        },
        {
          "output_type": "stream",
          "text": [
            "100%|██████████| 598/598 [00:00<00:00, 1485.70it/s]"
          ],
          "name": "stderr"
        },
        {
          "output_type": "stream",
          "text": [
            "[MoviePy] Done.\n"
          ],
          "name": "stdout"
        },
        {
          "output_type": "stream",
          "text": [
            "\n"
          ],
          "name": "stderr"
        },
        {
          "output_type": "stream",
          "text": [
            "[MoviePy] Writing video new_video.mp4\n"
          ],
          "name": "stdout"
        },
        {
          "output_type": "stream",
          "text": [
            "100%|██████████| 813/813 [00:03<00:00, 218.95it/s]\n"
          ],
          "name": "stderr"
        },
        {
          "output_type": "stream",
          "text": [
            "[MoviePy] Done.\n",
            "[MoviePy] >>>> Video ready: new_video.mp4 \n",
            "\n",
            "(6666, 8, 2048)\n",
            "Vandalism008.mp4\n",
            "(3, 8, 2048)\n",
            "(6669, 8, 2048)\n",
            "[MoviePy] >>>> Building video new_video.mp4\n",
            "[MoviePy] Writing audio in new_videoTEMP_MPY_wvf_snd.mp3\n"
          ],
          "name": "stdout"
        },
        {
          "output_type": "stream",
          "text": [
            "100%|██████████| 565/565 [00:00<00:00, 1018.27it/s]"
          ],
          "name": "stderr"
        },
        {
          "output_type": "stream",
          "text": [
            "[MoviePy] Done.\n",
            "[MoviePy] Writing video new_video.mp4\n"
          ],
          "name": "stdout"
        },
        {
          "output_type": "stream",
          "text": [
            "\n",
            "100%|██████████| 769/769 [00:04<00:00, 172.81it/s]\n"
          ],
          "name": "stderr"
        },
        {
          "output_type": "stream",
          "text": [
            "[MoviePy] Done.\n",
            "[MoviePy] >>>> Video ready: new_video.mp4 \n",
            "\n",
            "(6672, 8, 2048)\n",
            "Vandalism010.mp4\n",
            "(3, 8, 2048)\n",
            "(6675, 8, 2048)\n",
            "[MoviePy] >>>> Building video new_video.mp4\n",
            "[MoviePy] Writing audio in new_videoTEMP_MPY_wvf_snd.mp3\n"
          ],
          "name": "stdout"
        },
        {
          "output_type": "stream",
          "text": [
            "100%|██████████| 598/598 [00:00<00:00, 1001.96it/s]"
          ],
          "name": "stderr"
        },
        {
          "output_type": "stream",
          "text": [
            "[MoviePy] Done.\n",
            "[MoviePy] Writing video new_video.mp4\n"
          ],
          "name": "stdout"
        },
        {
          "output_type": "stream",
          "text": [
            "\n",
            "100%|█████████▉| 813/814 [00:05<00:00, 142.20it/s]\n"
          ],
          "name": "stderr"
        },
        {
          "output_type": "stream",
          "text": [
            "[MoviePy] Done.\n",
            "[MoviePy] >>>> Video ready: new_video.mp4 \n",
            "\n",
            "(6678, 8, 2048)\n",
            "Vandalism011.mp4\n",
            "(9, 8, 2048)\n",
            "(6687, 8, 2048)\n",
            "[MoviePy] >>>> Building video new_video.mp4\n",
            "[MoviePy] Writing audio in new_videoTEMP_MPY_wvf_snd.mp3\n"
          ],
          "name": "stdout"
        },
        {
          "output_type": "stream",
          "text": [
            "100%|██████████| 1737/1737 [00:01<00:00, 1023.99it/s]"
          ],
          "name": "stderr"
        },
        {
          "output_type": "stream",
          "text": [
            "[MoviePy] Done.\n",
            "[MoviePy] Writing video new_video.mp4\n"
          ],
          "name": "stdout"
        },
        {
          "output_type": "stream",
          "text": [
            "\n",
            "100%|██████████| 2363/2363 [00:13<00:00, 180.91it/s]\n"
          ],
          "name": "stderr"
        },
        {
          "output_type": "stream",
          "text": [
            "[MoviePy] Done.\n",
            "[MoviePy] >>>> Video ready: new_video.mp4 \n",
            "\n",
            "(6696, 8, 2048)\n",
            "Vandalism013.mp4\n",
            "(9, 8, 2048)\n",
            "(6705, 8, 2048)\n",
            "[MoviePy] >>>> Building video new_video.mp4\n",
            "[MoviePy] Writing audio in new_videoTEMP_MPY_wvf_snd.mp3\n"
          ],
          "name": "stdout"
        },
        {
          "output_type": "stream",
          "text": [
            "100%|██████████| 1727/1727 [00:01<00:00, 1011.13it/s]"
          ],
          "name": "stderr"
        },
        {
          "output_type": "stream",
          "text": [
            "[MoviePy] Done.\n",
            "[MoviePy] Writing video new_video.mp4\n"
          ],
          "name": "stdout"
        },
        {
          "output_type": "stream",
          "text": [
            "\n",
            "100%|██████████| 2350/2350 [00:10<00:00, 225.68it/s]\n"
          ],
          "name": "stderr"
        },
        {
          "output_type": "stream",
          "text": [
            "[MoviePy] Done.\n",
            "[MoviePy] >>>> Video ready: new_video.mp4 \n",
            "\n",
            "(6714, 8, 2048)\n",
            "Vandalism015.mp4\n",
            "(11, 8, 2048)\n",
            "(6725, 8, 2048)\n",
            "[MoviePy] >>>> Building video new_video.mp4\n",
            "[MoviePy] Writing audio in new_videoTEMP_MPY_wvf_snd.mp3\n"
          ],
          "name": "stdout"
        },
        {
          "output_type": "stream",
          "text": [
            "100%|██████████| 2041/2041 [00:02<00:00, 980.88it/s]"
          ],
          "name": "stderr"
        },
        {
          "output_type": "stream",
          "text": [
            "[MoviePy] Done.\n",
            "[MoviePy] Writing video new_video.mp4\n"
          ],
          "name": "stdout"
        },
        {
          "output_type": "stream",
          "text": [
            "\n",
            "100%|██████████| 2777/2777 [00:12<00:00, 218.15it/s]\n"
          ],
          "name": "stderr"
        },
        {
          "output_type": "stream",
          "text": [
            "[MoviePy] Done.\n",
            "[MoviePy] >>>> Video ready: new_video.mp4 \n",
            "\n",
            "(6736, 8, 2048)\n",
            "Vandalism016.mp4\n",
            "(19, 8, 2048)\n",
            "(6755, 8, 2048)\n",
            "[MoviePy] >>>> Building video new_video.mp4\n",
            "[MoviePy] Writing audio in new_videoTEMP_MPY_wvf_snd.mp3\n"
          ],
          "name": "stdout"
        },
        {
          "output_type": "stream",
          "text": [
            "100%|██████████| 3421/3421 [00:05<00:00, 612.08it/s]"
          ],
          "name": "stderr"
        },
        {
          "output_type": "stream",
          "text": [
            "[MoviePy] Done.\n",
            "[MoviePy] Writing video new_video.mp4\n"
          ],
          "name": "stdout"
        },
        {
          "output_type": "stream",
          "text": [
            "\n",
            "100%|██████████| 4655/4655 [00:18<00:00, 247.84it/s]"
          ],
          "name": "stderr"
        },
        {
          "output_type": "stream",
          "text": [
            "[MoviePy] Done.\n",
            "[MoviePy] >>>> Video ready: new_video.mp4 \n",
            "\n"
          ],
          "name": "stdout"
        },
        {
          "output_type": "stream",
          "text": [
            "\n"
          ],
          "name": "stderr"
        },
        {
          "output_type": "stream",
          "text": [
            "(6774, 8, 2048)\n",
            "Vandalism018.mp4\n",
            "(11, 8, 2048)\n",
            "(6785, 8, 2048)\n",
            "[MoviePy] >>>> Building video new_video.mp4\n",
            "[MoviePy] Writing audio in new_videoTEMP_MPY_wvf_snd.mp3\n"
          ],
          "name": "stdout"
        },
        {
          "output_type": "stream",
          "text": [
            "100%|██████████| 2096/2096 [00:02<00:00, 1013.14it/s]"
          ],
          "name": "stderr"
        },
        {
          "output_type": "stream",
          "text": [
            "[MoviePy] Done.\n",
            "[MoviePy] Writing video new_video.mp4\n"
          ],
          "name": "stdout"
        },
        {
          "output_type": "stream",
          "text": [
            "\n",
            "100%|██████████| 2851/2851 [00:12<00:00, 229.24it/s]\n"
          ],
          "name": "stderr"
        },
        {
          "output_type": "stream",
          "text": [
            "[MoviePy] Done.\n",
            "[MoviePy] >>>> Video ready: new_video.mp4 \n",
            "\n",
            "(6797, 8, 2048)\n",
            "Vandalism019.mp4\n",
            "(7, 8, 2048)\n",
            "(6804, 8, 2048)\n",
            "[MoviePy] >>>> Building video new_video.mp4\n",
            "[MoviePy] Writing audio in new_videoTEMP_MPY_wvf_snd.mp3\n"
          ],
          "name": "stdout"
        },
        {
          "output_type": "stream",
          "text": [
            "100%|██████████| 1327/1327 [00:01<00:00, 950.83it/s]"
          ],
          "name": "stderr"
        },
        {
          "output_type": "stream",
          "text": [
            "[MoviePy] Done.\n",
            "[MoviePy] Writing video new_video.mp4\n"
          ],
          "name": "stdout"
        },
        {
          "output_type": "stream",
          "text": [
            "\n",
            "100%|██████████| 1805/1805 [00:07<00:00, 245.52it/s]\n"
          ],
          "name": "stderr"
        },
        {
          "output_type": "stream",
          "text": [
            "[MoviePy] Done.\n",
            "[MoviePy] >>>> Video ready: new_video.mp4 \n",
            "\n",
            "(6811, 8, 2048)\n",
            "Vandalism021.mp4\n",
            "(5, 8, 2048)\n",
            "(6816, 8, 2048)\n",
            "[MoviePy] >>>> Building video new_video.mp4\n",
            "[MoviePy] Writing audio in new_videoTEMP_MPY_wvf_snd.mp3\n"
          ],
          "name": "stdout"
        },
        {
          "output_type": "stream",
          "text": [
            "100%|██████████| 1004/1004 [00:00<00:00, 1387.58it/s]"
          ],
          "name": "stderr"
        },
        {
          "output_type": "stream",
          "text": [
            "[MoviePy] Done.\n",
            "[MoviePy] Writing video new_video.mp4\n"
          ],
          "name": "stdout"
        },
        {
          "output_type": "stream",
          "text": [
            "\n",
            "100%|██████████| 1366/1366 [00:06<00:00, 198.89it/s]\n"
          ],
          "name": "stderr"
        },
        {
          "output_type": "stream",
          "text": [
            "[MoviePy] Done.\n",
            "[MoviePy] >>>> Video ready: new_video.mp4 \n",
            "\n",
            "(6821, 8, 2048)\n",
            "Vandalism022.mp4\n",
            "(13, 8, 2048)\n",
            "(6834, 8, 2048)\n",
            "[MoviePy] >>>> Building video new_video.mp4\n",
            "[MoviePy] Writing audio in new_videoTEMP_MPY_wvf_snd.mp3\n"
          ],
          "name": "stdout"
        },
        {
          "output_type": "stream",
          "text": [
            "100%|██████████| 2441/2441 [00:02<00:00, 997.18it/s]"
          ],
          "name": "stderr"
        },
        {
          "output_type": "stream",
          "text": [
            "[MoviePy] Done.\n",
            "[MoviePy] Writing video new_video.mp4\n"
          ],
          "name": "stdout"
        },
        {
          "output_type": "stream",
          "text": [
            "\n",
            "100%|██████████| 3321/3321 [00:16<00:00, 204.59it/s]\n"
          ],
          "name": "stderr"
        },
        {
          "output_type": "stream",
          "text": [
            "[MoviePy] Done.\n",
            "[MoviePy] >>>> Video ready: new_video.mp4 \n",
            "\n",
            "(6847, 8, 2048)\n",
            "Vandalism023.mp4\n",
            "(20, 8, 2048)\n",
            "(6867, 8, 2048)\n",
            "[MoviePy] >>>> Building video new_video.mp4\n",
            "[MoviePy] Writing audio in new_videoTEMP_MPY_wvf_snd.mp3\n"
          ],
          "name": "stdout"
        },
        {
          "output_type": "stream",
          "text": [
            "100%|██████████| 3657/3657 [00:03<00:00, 992.76it/s]"
          ],
          "name": "stderr"
        },
        {
          "output_type": "stream",
          "text": [
            "[MoviePy] Done.\n",
            "[MoviePy] Writing video new_video.mp4\n"
          ],
          "name": "stdout"
        },
        {
          "output_type": "stream",
          "text": [
            "\n",
            "100%|██████████| 4976/4976 [00:20<00:00, 240.50it/s]\n"
          ],
          "name": "stderr"
        },
        {
          "output_type": "stream",
          "text": [
            "[MoviePy] Done.\n",
            "[MoviePy] >>>> Video ready: new_video.mp4 \n",
            "\n",
            "(6887, 8, 2048)\n",
            "Copy of Normal_Videos096_x264.mp4\n",
            "(3, 8, 2048)\n",
            "(6890, 8, 2048)\n",
            "[MoviePy] >>>> Building video new_video.mp4\n",
            "[MoviePy] Writing audio in new_videoTEMP_MPY_wvf_snd.mp3\n"
          ],
          "name": "stdout"
        },
        {
          "output_type": "stream",
          "text": [
            "100%|██████████| 578/578 [00:00<00:00, 1335.39it/s]"
          ],
          "name": "stderr"
        },
        {
          "output_type": "stream",
          "text": [
            "[MoviePy] Done.\n",
            "[MoviePy] Writing video new_video.mp4\n"
          ],
          "name": "stdout"
        },
        {
          "output_type": "stream",
          "text": [
            "\n",
            "100%|██████████| 786/786 [00:03<00:00, 199.75it/s]"
          ],
          "name": "stderr"
        },
        {
          "output_type": "stream",
          "text": [
            "[MoviePy] Done.\n",
            "[MoviePy] >>>> Video ready: new_video.mp4 \n",
            "\n"
          ],
          "name": "stdout"
        },
        {
          "output_type": "stream",
          "text": [
            "\n"
          ],
          "name": "stderr"
        },
        {
          "output_type": "stream",
          "text": [
            "(6893, 8, 2048)\n",
            "Copy of Normal_Videos097_x264_Trim.mp4\n",
            "(7, 8, 2048)\n",
            "(6900, 8, 2048)\n",
            "[MoviePy] >>>> Building video new_video.mp4\n",
            "[MoviePy] Writing audio in new_videoTEMP_MPY_wvf_snd.mp3\n"
          ],
          "name": "stdout"
        },
        {
          "output_type": "stream",
          "text": [
            "100%|██████████| 1341/1341 [00:01<00:00, 985.36it/s]"
          ],
          "name": "stderr"
        },
        {
          "output_type": "stream",
          "text": [
            "[MoviePy] Done.\n",
            "[MoviePy] Writing video new_video.mp4\n"
          ],
          "name": "stdout"
        },
        {
          "output_type": "stream",
          "text": [
            "\n",
            "100%|██████████| 1824/1824 [00:08<00:00, 206.15it/s]\n"
          ],
          "name": "stderr"
        },
        {
          "output_type": "stream",
          "text": [
            "[MoviePy] Done.\n",
            "[MoviePy] >>>> Video ready: new_video.mp4 \n",
            "\n",
            "(6907, 8, 2048)\n",
            "Copy of Normal_Videos097_x264_Trim2.mp4\n",
            "(3, 8, 2048)\n",
            "(6910, 8, 2048)\n",
            "[MoviePy] >>>> Building video new_video.mp4\n",
            "[MoviePy] Writing audio in new_videoTEMP_MPY_wvf_snd.mp3\n"
          ],
          "name": "stdout"
        },
        {
          "output_type": "stream",
          "text": [
            "100%|██████████| 667/667 [00:00<00:00, 981.91it/s]"
          ],
          "name": "stderr"
        },
        {
          "output_type": "stream",
          "text": [
            "[MoviePy] Done.\n",
            "[MoviePy] Writing video new_video.mp4\n"
          ],
          "name": "stdout"
        },
        {
          "output_type": "stream",
          "text": [
            "\n",
            "100%|██████████| 907/907 [00:04<00:00, 204.47it/s]\n"
          ],
          "name": "stderr"
        },
        {
          "output_type": "stream",
          "text": [
            "[MoviePy] Done.\n",
            "[MoviePy] >>>> Video ready: new_video.mp4 \n",
            "\n",
            "(6913, 8, 2048)\n",
            "Copy of Normal_Videos095_x264.mp4\n",
            "(4, 8, 2048)\n",
            "(6917, 8, 2048)\n",
            "[MoviePy] >>>> Building video new_video.mp4\n",
            "[MoviePy] Writing audio in new_videoTEMP_MPY_wvf_snd.mp3\n"
          ],
          "name": "stdout"
        },
        {
          "output_type": "stream",
          "text": [
            "100%|██████████| 771/771 [00:00<00:00, 883.99it/s]"
          ],
          "name": "stderr"
        },
        {
          "output_type": "stream",
          "text": [
            "[MoviePy] Done.\n",
            "[MoviePy] Writing video new_video.mp4\n"
          ],
          "name": "stdout"
        },
        {
          "output_type": "stream",
          "text": [
            "\n",
            "100%|██████████| 1049/1049 [00:05<00:00, 183.41it/s]\n"
          ],
          "name": "stderr"
        },
        {
          "output_type": "stream",
          "text": [
            "[MoviePy] Done.\n",
            "[MoviePy] >>>> Video ready: new_video.mp4 \n",
            "\n",
            "(6921, 8, 2048)\n",
            "Copy of Normal_Videos093_x264_Trim.mp4\n",
            "(3, 8, 2048)\n",
            "(6924, 8, 2048)\n",
            "[MoviePy] >>>> Building video new_video.mp4\n",
            "[MoviePy] Writing audio in new_videoTEMP_MPY_wvf_snd.mp3\n"
          ],
          "name": "stdout"
        },
        {
          "output_type": "stream",
          "text": [
            "100%|██████████| 684/684 [00:00<00:00, 990.84it/s]"
          ],
          "name": "stderr"
        },
        {
          "output_type": "stream",
          "text": [
            "[MoviePy] Done.\n",
            "[MoviePy] Writing video new_video.mp4\n"
          ],
          "name": "stdout"
        },
        {
          "output_type": "stream",
          "text": [
            "\n",
            "100%|██████████| 930/930 [00:04<00:00, 229.89it/s]\n"
          ],
          "name": "stderr"
        },
        {
          "output_type": "stream",
          "text": [
            "[MoviePy] Done.\n",
            "[MoviePy] >>>> Video ready: new_video.mp4 \n",
            "\n",
            "(6927, 8, 2048)\n",
            "Copy of Normal_Videos094_x264_Trim.mp4\n",
            "(3, 8, 2048)\n",
            "(6930, 8, 2048)\n",
            "[MoviePy] >>>> Building video new_video.mp4\n",
            "[MoviePy] Writing audio in new_videoTEMP_MPY_wvf_snd.mp3\n"
          ],
          "name": "stdout"
        },
        {
          "output_type": "stream",
          "text": [
            "100%|██████████| 682/682 [00:00<00:00, 989.51it/s]"
          ],
          "name": "stderr"
        },
        {
          "output_type": "stream",
          "text": [
            "[MoviePy] Done.\n",
            "[MoviePy] Writing video new_video.mp4\n"
          ],
          "name": "stdout"
        },
        {
          "output_type": "stream",
          "text": [
            "\n",
            "100%|██████████| 928/928 [00:03<00:00, 236.64it/s]"
          ],
          "name": "stderr"
        },
        {
          "output_type": "stream",
          "text": [
            "[MoviePy] Done.\n",
            "[MoviePy] >>>> Video ready: new_video.mp4 \n",
            "\n"
          ],
          "name": "stdout"
        },
        {
          "output_type": "stream",
          "text": [
            "\n"
          ],
          "name": "stderr"
        },
        {
          "output_type": "stream",
          "text": [
            "(6933, 8, 2048)\n",
            "Copy of Normal_Videos099_x264_Trim.mp4\n",
            "(3, 8, 2048)\n",
            "(6936, 8, 2048)\n",
            "[MoviePy] >>>> Building video new_video.mp4\n",
            "[MoviePy] Writing audio in new_videoTEMP_MPY_wvf_snd.mp3\n"
          ],
          "name": "stdout"
        },
        {
          "output_type": "stream",
          "text": [
            "100%|██████████| 677/677 [00:00<00:00, 1023.63it/s]"
          ],
          "name": "stderr"
        },
        {
          "output_type": "stream",
          "text": [
            "[MoviePy] Done.\n",
            "[MoviePy] Writing video new_video.mp4\n"
          ],
          "name": "stdout"
        },
        {
          "output_type": "stream",
          "text": [
            "\n",
            "100%|██████████| 920/920 [00:04<00:00, 224.27it/s]\n"
          ],
          "name": "stderr"
        },
        {
          "output_type": "stream",
          "text": [
            "[MoviePy] Done.\n",
            "[MoviePy] >>>> Video ready: new_video.mp4 \n",
            "\n",
            "(6939, 8, 2048)\n",
            "Copy of Normal_Videos098_x264_Trim.mp4\n",
            "(7, 8, 2048)\n",
            "(6946, 8, 2048)\n",
            "[MoviePy] >>>> Building video new_video.mp4\n",
            "[MoviePy] Writing audio in new_videoTEMP_MPY_wvf_snd.mp3\n"
          ],
          "name": "stdout"
        },
        {
          "output_type": "stream",
          "text": [
            "100%|██████████| 1342/1342 [00:01<00:00, 1006.53it/s]"
          ],
          "name": "stderr"
        },
        {
          "output_type": "stream",
          "text": [
            "[MoviePy] Done.\n",
            "[MoviePy] Writing video new_video.mp4\n"
          ],
          "name": "stdout"
        },
        {
          "output_type": "stream",
          "text": [
            "\n",
            "100%|██████████| 1826/1826 [00:09<00:00, 188.97it/s]\n"
          ],
          "name": "stderr"
        },
        {
          "output_type": "stream",
          "text": [
            "[MoviePy] Done.\n",
            "[MoviePy] >>>> Video ready: new_video.mp4 \n",
            "\n",
            "(6953, 8, 2048)\n",
            "Copy of Normal_Videos092_x264.mp4\n",
            "(7, 8, 2048)\n",
            "(6960, 8, 2048)\n",
            "[MoviePy] >>>> Building video new_video.mp4\n",
            "[MoviePy] Writing audio in new_videoTEMP_MPY_wvf_snd.mp3\n"
          ],
          "name": "stdout"
        },
        {
          "output_type": "stream",
          "text": [
            "100%|██████████| 1324/1324 [00:00<00:00, 1399.62it/s]"
          ],
          "name": "stderr"
        },
        {
          "output_type": "stream",
          "text": [
            "[MoviePy] Done.\n",
            "[MoviePy] Writing video new_video.mp4\n"
          ],
          "name": "stdout"
        },
        {
          "output_type": "stream",
          "text": [
            "\n",
            "100%|██████████| 1801/1801 [00:09<00:00, 185.52it/s]\n"
          ],
          "name": "stderr"
        },
        {
          "output_type": "stream",
          "text": [
            "[MoviePy] Done.\n",
            "[MoviePy] >>>> Video ready: new_video.mp4 \n",
            "\n",
            "(6967, 8, 2048)\n",
            "Copy of Normal_Videos091_x264_Trim.mp4\n",
            "(11, 8, 2048)\n",
            "(6978, 8, 2048)\n",
            "[MoviePy] >>>> Building video new_video.mp4\n",
            "[MoviePy] Writing audio in new_videoTEMP_MPY_wvf_snd.mp3\n"
          ],
          "name": "stdout"
        },
        {
          "output_type": "stream",
          "text": [
            "100%|██████████| 2000/2000 [00:02<00:00, 940.12it/s]"
          ],
          "name": "stderr"
        },
        {
          "output_type": "stream",
          "text": [
            "[MoviePy] Done.\n",
            "[MoviePy] Writing video new_video.mp4\n"
          ],
          "name": "stdout"
        },
        {
          "output_type": "stream",
          "text": [
            "\n",
            "100%|█████████▉| 2721/2722 [00:20<00:00, 130.14it/s]\n"
          ],
          "name": "stderr"
        },
        {
          "output_type": "stream",
          "text": [
            "[MoviePy] Done.\n",
            "[MoviePy] >>>> Video ready: new_video.mp4 \n",
            "\n",
            "(6989, 8, 2048)\n",
            "Copy of Normal_Videos087_x264_Trim.mp4\n",
            "(15, 8, 2048)\n",
            "(7004, 8, 2048)\n",
            "[MoviePy] >>>> Building video new_video.mp4\n",
            "[MoviePy] Writing audio in new_videoTEMP_MPY_wvf_snd.mp3\n"
          ],
          "name": "stdout"
        },
        {
          "output_type": "stream",
          "text": [
            "100%|██████████| 2660/2660 [00:03<00:00, 841.56it/s]"
          ],
          "name": "stderr"
        },
        {
          "output_type": "stream",
          "text": [
            "[MoviePy] Done.\n",
            "[MoviePy] Writing video new_video.mp4\n"
          ],
          "name": "stdout"
        },
        {
          "output_type": "stream",
          "text": [
            "\n",
            "100%|█████████▉| 3618/3619 [00:17<00:00, 207.20it/s]\n"
          ],
          "name": "stderr"
        },
        {
          "output_type": "stream",
          "text": [
            "[MoviePy] Done.\n",
            "[MoviePy] >>>> Video ready: new_video.mp4 \n",
            "\n",
            "(7019, 8, 2048)\n",
            "Copy of Normal_Videos090_x264_Trim2.mp4\n",
            "(7, 8, 2048)\n",
            "(7026, 8, 2048)\n",
            "[MoviePy] >>>> Building video new_video.mp4\n",
            "[MoviePy] Writing audio in new_videoTEMP_MPY_wvf_snd.mp3\n"
          ],
          "name": "stdout"
        },
        {
          "output_type": "stream",
          "text": [
            "100%|██████████| 1331/1331 [00:01<00:00, 997.33it/s]"
          ],
          "name": "stderr"
        },
        {
          "output_type": "stream",
          "text": [
            "[MoviePy] Done.\n",
            "[MoviePy] Writing video new_video.mp4\n"
          ],
          "name": "stdout"
        },
        {
          "output_type": "stream",
          "text": [
            "\n",
            "100%|██████████| 1811/1811 [00:11<00:00, 156.30it/s]\n"
          ],
          "name": "stderr"
        },
        {
          "output_type": "stream",
          "text": [
            "[MoviePy] Done.\n",
            "[MoviePy] >>>> Video ready: new_video.mp4 \n",
            "\n",
            "(7033, 8, 2048)\n",
            "Copy of Normal_Videos086_x264.mp4\n",
            "(14, 8, 2048)\n",
            "(7047, 8, 2048)\n",
            "[MoviePy] >>>> Building video new_video.mp4\n",
            "[MoviePy] Writing audio in new_videoTEMP_MPY_wvf_snd.mp3\n"
          ],
          "name": "stdout"
        },
        {
          "output_type": "stream",
          "text": [
            "100%|██████████| 2494/2494 [00:01<00:00, 1398.07it/s]"
          ],
          "name": "stderr"
        },
        {
          "output_type": "stream",
          "text": [
            "[MoviePy] Done.\n",
            "[MoviePy] Writing video new_video.mp4\n"
          ],
          "name": "stdout"
        },
        {
          "output_type": "stream",
          "text": [
            "\n",
            "100%|██████████| 3393/3393 [00:16<00:00, 210.38it/s]"
          ],
          "name": "stderr"
        },
        {
          "output_type": "stream",
          "text": [
            "[MoviePy] Done.\n",
            "[MoviePy] >>>> Video ready: new_video.mp4 \n",
            "\n"
          ],
          "name": "stdout"
        },
        {
          "output_type": "stream",
          "text": [
            "\n"
          ],
          "name": "stderr"
        },
        {
          "output_type": "stream",
          "text": [
            "(7061, 8, 2048)\n",
            "Copy of Normal_Videos090_x264_Trim.mp4\n",
            "(7, 8, 2048)\n",
            "(7068, 8, 2048)\n",
            "[MoviePy] >>>> Building video new_video.mp4\n",
            "[MoviePy] Writing audio in new_videoTEMP_MPY_wvf_snd.mp3\n"
          ],
          "name": "stdout"
        },
        {
          "output_type": "stream",
          "text": [
            "100%|██████████| 1351/1351 [00:01<00:00, 963.11it/s]"
          ],
          "name": "stderr"
        },
        {
          "output_type": "stream",
          "text": [
            "[MoviePy] Done.\n",
            "[MoviePy] Writing video new_video.mp4\n"
          ],
          "name": "stdout"
        },
        {
          "output_type": "stream",
          "text": [
            "\n",
            "100%|██████████| 1837/1837 [00:10<00:00, 177.14it/s]\n"
          ],
          "name": "stderr"
        },
        {
          "output_type": "stream",
          "text": [
            "[MoviePy] Done.\n",
            "[MoviePy] >>>> Video ready: new_video.mp4 \n",
            "\n",
            "(7075, 8, 2048)\n",
            "Copy of Normal_Videos084_x264_Trim.mp4\n",
            "(7, 8, 2048)\n",
            "(7082, 8, 2048)\n",
            "[MoviePy] >>>> Building video new_video.mp4\n",
            "[MoviePy] Writing audio in new_videoTEMP_MPY_wvf_snd.mp3\n"
          ],
          "name": "stdout"
        },
        {
          "output_type": "stream",
          "text": [
            "100%|██████████| 1324/1324 [00:01<00:00, 989.81it/s]"
          ],
          "name": "stderr"
        },
        {
          "output_type": "stream",
          "text": [
            "[MoviePy] Done.\n",
            "[MoviePy] Writing video new_video.mp4\n"
          ],
          "name": "stdout"
        },
        {
          "output_type": "stream",
          "text": [
            "\n",
            "100%|██████████| 1801/1801 [00:09<00:00, 183.28it/s]\n"
          ],
          "name": "stderr"
        },
        {
          "output_type": "stream",
          "text": [
            "[MoviePy] Done.\n",
            "[MoviePy] >>>> Video ready: new_video.mp4 \n",
            "\n",
            "(7089, 8, 2048)\n",
            "Copy of Normal_Videos088_x264_Trim.mp4\n",
            "(3, 8, 2048)\n",
            "(7092, 8, 2048)\n",
            "[MoviePy] >>>> Building video new_video.mp4\n",
            "[MoviePy] Writing audio in new_videoTEMP_MPY_wvf_snd.mp3\n"
          ],
          "name": "stdout"
        },
        {
          "output_type": "stream",
          "text": [
            "100%|██████████| 678/678 [00:00<00:00, 1022.60it/s]"
          ],
          "name": "stderr"
        },
        {
          "output_type": "stream",
          "text": [
            "[MoviePy] Done.\n",
            "[MoviePy] Writing video new_video.mp4\n"
          ],
          "name": "stdout"
        },
        {
          "output_type": "stream",
          "text": [
            "\n",
            "100%|██████████| 923/923 [00:03<00:00, 231.03it/s]\n"
          ],
          "name": "stderr"
        },
        {
          "output_type": "stream",
          "text": [
            "[MoviePy] Done.\n",
            "[MoviePy] >>>> Video ready: new_video.mp4 \n",
            "\n",
            "(7095, 8, 2048)\n",
            "Copy of Normal_Videos084_x264_Trim2.mp4\n",
            "(7, 8, 2048)\n",
            "(7102, 8, 2048)\n",
            "[MoviePy] >>>> Building video new_video.mp4\n",
            "[MoviePy] Writing audio in new_videoTEMP_MPY_wvf_snd.mp3\n"
          ],
          "name": "stdout"
        },
        {
          "output_type": "stream",
          "text": [
            "100%|██████████| 1336/1336 [00:01<00:00, 971.40it/s]"
          ],
          "name": "stderr"
        },
        {
          "output_type": "stream",
          "text": [
            "[MoviePy] Done.\n",
            "[MoviePy] Writing video new_video.mp4\n"
          ],
          "name": "stdout"
        },
        {
          "output_type": "stream",
          "text": [
            "\n",
            "100%|██████████| 1818/1818 [00:09<00:00, 183.57it/s]\n"
          ],
          "name": "stderr"
        },
        {
          "output_type": "stream",
          "text": [
            "[MoviePy] Done.\n",
            "[MoviePy] >>>> Video ready: new_video.mp4 \n",
            "\n",
            "(7109, 8, 2048)\n",
            "Copy of Normal_Videos090_x264_Trim3.mp4\n",
            "(7, 8, 2048)\n",
            "(7116, 8, 2048)\n",
            "[MoviePy] >>>> Building video new_video.mp4\n",
            "[MoviePy] Writing audio in new_videoTEMP_MPY_wvf_snd.mp3\n"
          ],
          "name": "stdout"
        },
        {
          "output_type": "stream",
          "text": [
            "100%|██████████| 1332/1332 [00:01<00:00, 967.51it/s]"
          ],
          "name": "stderr"
        },
        {
          "output_type": "stream",
          "text": [
            "[MoviePy] Done.\n",
            "[MoviePy] Writing video new_video.mp4\n"
          ],
          "name": "stdout"
        },
        {
          "output_type": "stream",
          "text": [
            "\n",
            "100%|██████████| 1812/1812 [00:10<00:00, 180.09it/s]\n"
          ],
          "name": "stderr"
        },
        {
          "output_type": "stream",
          "text": [
            "[MoviePy] Done.\n",
            "[MoviePy] >>>> Video ready: new_video.mp4 \n",
            "\n",
            "(7123, 8, 2048)\n",
            "Copy of Normal_Videos089_x264_Trim.mp4\n",
            "(7, 8, 2048)\n",
            "(7130, 8, 2048)\n",
            "[MoviePy] >>>> Building video new_video.mp4\n",
            "[MoviePy] Writing audio in new_videoTEMP_MPY_wvf_snd.mp3\n"
          ],
          "name": "stdout"
        },
        {
          "output_type": "stream",
          "text": [
            "100%|██████████| 1344/1344 [00:01<00:00, 961.99it/s]"
          ],
          "name": "stderr"
        },
        {
          "output_type": "stream",
          "text": [
            "[MoviePy] Done.\n",
            "[MoviePy] Writing video new_video.mp4\n"
          ],
          "name": "stdout"
        },
        {
          "output_type": "stream",
          "text": [
            "\n",
            "100%|██████████| 1828/1828 [00:10<00:00, 180.95it/s]\n"
          ],
          "name": "stderr"
        },
        {
          "output_type": "stream",
          "text": [
            "[MoviePy] Done.\n",
            "[MoviePy] >>>> Video ready: new_video.mp4 \n",
            "\n",
            "(7137, 8, 2048)\n",
            "Copy of Normal_Videos085_x264_Trim.mp4\n",
            "(7, 8, 2048)\n",
            "(7144, 8, 2048)\n",
            "[MoviePy] >>>> Building video new_video.mp4\n",
            "[MoviePy] Writing audio in new_videoTEMP_MPY_wvf_snd.mp3\n"
          ],
          "name": "stdout"
        },
        {
          "output_type": "stream",
          "text": [
            "100%|██████████| 1346/1346 [00:01<00:00, 996.53it/s]"
          ],
          "name": "stderr"
        },
        {
          "output_type": "stream",
          "text": [
            "[MoviePy] Done.\n",
            "[MoviePy] Writing video new_video.mp4\n"
          ],
          "name": "stdout"
        },
        {
          "output_type": "stream",
          "text": [
            "\n",
            "100%|██████████| 1832/1832 [00:07<00:00, 234.18it/s]\n"
          ],
          "name": "stderr"
        },
        {
          "output_type": "stream",
          "text": [
            "[MoviePy] Done.\n",
            "[MoviePy] >>>> Video ready: new_video.mp4 \n",
            "\n",
            "(7151, 8, 2048)\n",
            "Copy of Normal_Videos072_x264.mp4\n",
            "(4, 8, 2048)\n",
            "(7155, 8, 2048)\n",
            "[MoviePy] >>>> Building video new_video.mp4\n",
            "[MoviePy] Writing audio in new_videoTEMP_MPY_wvf_snd.mp3\n"
          ],
          "name": "stdout"
        },
        {
          "output_type": "stream",
          "text": [
            "100%|██████████| 700/700 [00:00<00:00, 1423.12it/s]"
          ],
          "name": "stderr"
        },
        {
          "output_type": "stream",
          "text": [
            "[MoviePy] Done.\n",
            "[MoviePy] Writing video new_video.mp4\n"
          ],
          "name": "stdout"
        },
        {
          "output_type": "stream",
          "text": [
            "\n",
            "100%|██████████| 952/952 [00:05<00:00, 184.24it/s]\n"
          ],
          "name": "stderr"
        },
        {
          "output_type": "stream",
          "text": [
            "[MoviePy] Done.\n",
            "[MoviePy] >>>> Video ready: new_video.mp4 \n",
            "\n",
            "(7159, 8, 2048)\n",
            "Copy of Normal_Videos078_x264_Trim.mp4\n",
            "(6, 8, 2048)\n",
            "(7165, 8, 2048)\n",
            "[MoviePy] >>>> Building video new_video.mp4\n",
            "[MoviePy] Writing audio in new_videoTEMP_MPY_wvf_snd.mp3\n"
          ],
          "name": "stdout"
        },
        {
          "output_type": "stream",
          "text": [
            "100%|██████████| 1118/1118 [00:01<00:00, 710.16it/s]"
          ],
          "name": "stderr"
        },
        {
          "output_type": "stream",
          "text": [
            "[MoviePy] Done.\n",
            "[MoviePy] Writing video new_video.mp4\n"
          ],
          "name": "stdout"
        },
        {
          "output_type": "stream",
          "text": [
            "\n",
            "100%|██████████| 1521/1521 [00:07<00:00, 194.86it/s]\n"
          ],
          "name": "stderr"
        },
        {
          "output_type": "stream",
          "text": [
            "[MoviePy] Done.\n",
            "[MoviePy] >>>> Video ready: new_video.mp4 \n",
            "\n",
            "(7171, 8, 2048)\n",
            "Copy of Normal_Videos079_x264_Trim.mp4\n",
            "(6, 8, 2048)\n",
            "(7177, 8, 2048)\n",
            "[MoviePy] >>>> Building video new_video.mp4\n",
            "[MoviePy] Writing audio in new_videoTEMP_MPY_wvf_snd.mp3\n"
          ],
          "name": "stdout"
        },
        {
          "output_type": "stream",
          "text": [
            "100%|██████████| 1112/1112 [00:01<00:00, 746.15it/s]"
          ],
          "name": "stderr"
        },
        {
          "output_type": "stream",
          "text": [
            "[MoviePy] Done.\n",
            "[MoviePy] Writing video new_video.mp4\n"
          ],
          "name": "stdout"
        },
        {
          "output_type": "stream",
          "text": [
            "\n",
            "100%|██████████| 1512/1512 [00:06<00:00, 218.14it/s]\n"
          ],
          "name": "stderr"
        },
        {
          "output_type": "stream",
          "text": [
            "[MoviePy] Done.\n",
            "[MoviePy] >>>> Video ready: new_video.mp4 \n",
            "\n",
            "(7183, 8, 2048)\n",
            "Copy of Normal_Videos081_x264.mp4\n",
            "(6, 8, 2048)\n",
            "(7189, 8, 2048)\n",
            "[MoviePy] >>>> Building video new_video.mp4\n",
            "[MoviePy] Writing audio in new_videoTEMP_MPY_wvf_snd.mp3\n"
          ],
          "name": "stdout"
        },
        {
          "output_type": "stream",
          "text": [
            "100%|██████████| 1193/1193 [00:00<00:00, 1440.79it/s]"
          ],
          "name": "stderr"
        },
        {
          "output_type": "stream",
          "text": [
            "[MoviePy] Done.\n",
            "[MoviePy] Writing video new_video.mp4\n"
          ],
          "name": "stdout"
        },
        {
          "output_type": "stream",
          "text": [
            "\n",
            "100%|█████████▉| 1623/1624 [00:09<00:00, 179.76it/s]"
          ],
          "name": "stderr"
        },
        {
          "output_type": "stream",
          "text": [
            "[MoviePy] Done.\n",
            "[MoviePy] >>>> Video ready: new_video.mp4 \n",
            "\n"
          ],
          "name": "stdout"
        },
        {
          "output_type": "stream",
          "text": [
            "\n"
          ],
          "name": "stderr"
        },
        {
          "output_type": "stream",
          "text": [
            "(7195, 8, 2048)\n",
            "Copy of Normal_Videos082_x264.mp4\n",
            "(5, 8, 2048)\n",
            "(7200, 8, 2048)\n",
            "[MoviePy] >>>> Building video new_video.mp4\n",
            "[MoviePy] Writing audio in new_videoTEMP_MPY_wvf_snd.mp3\n"
          ],
          "name": "stdout"
        },
        {
          "output_type": "stream",
          "text": [
            "100%|██████████| 882/882 [00:00<00:00, 900.01it/s]"
          ],
          "name": "stderr"
        },
        {
          "output_type": "stream",
          "text": [
            "[MoviePy] Done.\n",
            "[MoviePy] Writing video new_video.mp4\n"
          ],
          "name": "stdout"
        },
        {
          "output_type": "stream",
          "text": [
            "\n",
            "100%|██████████| 1200/1200 [00:05<00:00, 217.17it/s]"
          ],
          "name": "stderr"
        },
        {
          "output_type": "stream",
          "text": [
            "[MoviePy] Done.\n",
            "[MoviePy] >>>> Video ready: new_video.mp4 \n",
            "\n"
          ],
          "name": "stdout"
        },
        {
          "output_type": "stream",
          "text": [
            "\n"
          ],
          "name": "stderr"
        },
        {
          "output_type": "stream",
          "text": [
            "(7205, 8, 2048)\n",
            "Copy of Normal_Videos066_x264.mp4\n",
            "(4, 8, 2048)\n",
            "(7209, 8, 2048)\n",
            "[MoviePy] >>>> Building video new_video.mp4\n",
            "[MoviePy] Writing audio in new_videoTEMP_MPY_wvf_snd.mp3\n"
          ],
          "name": "stdout"
        },
        {
          "output_type": "stream",
          "text": [
            "100%|██████████| 741/741 [00:00<00:00, 1503.70it/s]"
          ],
          "name": "stderr"
        },
        {
          "output_type": "stream",
          "text": [
            "[MoviePy] Done.\n",
            "[MoviePy] Writing video new_video.mp4\n"
          ],
          "name": "stdout"
        },
        {
          "output_type": "stream",
          "text": [
            "\n",
            "100%|█████████▉| 1008/1009 [00:04<00:00, 216.99it/s]\n"
          ],
          "name": "stderr"
        },
        {
          "output_type": "stream",
          "text": [
            "[MoviePy] Done.\n",
            "[MoviePy] >>>> Video ready: new_video.mp4 \n",
            "\n",
            "(7213, 8, 2048)\n",
            "Copy of Normal_Videos061_x264_Trim3.mp4\n",
            "(7, 8, 2048)\n",
            "(7220, 8, 2048)\n",
            "[MoviePy] >>>> Building video new_video.mp4\n",
            "[MoviePy] Writing audio in new_videoTEMP_MPY_wvf_snd.mp3\n"
          ],
          "name": "stdout"
        },
        {
          "output_type": "stream",
          "text": [
            "100%|██████████| 1379/1379 [00:01<00:00, 901.40it/s]"
          ],
          "name": "stderr"
        },
        {
          "output_type": "stream",
          "text": [
            "[MoviePy] Done.\n",
            "[MoviePy] Writing video new_video.mp4\n"
          ],
          "name": "stdout"
        },
        {
          "output_type": "stream",
          "text": [
            "\n",
            "100%|██████████| 1876/1876 [00:08<00:00, 213.57it/s]\n"
          ],
          "name": "stderr"
        },
        {
          "output_type": "stream",
          "text": [
            "[MoviePy] Done.\n",
            "[MoviePy] >>>> Video ready: new_video.mp4 \n",
            "\n",
            "(7227, 8, 2048)\n",
            "Copy of Normal_Videos083_x264_Trim.mp4\n",
            "(2, 8, 2048)\n",
            "(7229, 8, 2048)\n",
            "[MoviePy] >>>> Building video new_video.mp4\n",
            "[MoviePy] Writing audio in new_videoTEMP_MPY_wvf_snd.mp3\n"
          ],
          "name": "stdout"
        },
        {
          "output_type": "stream",
          "text": [
            "100%|██████████| 397/397 [00:00<00:00, 1017.11it/s]"
          ],
          "name": "stderr"
        },
        {
          "output_type": "stream",
          "text": [
            "[MoviePy] Done.\n",
            "[MoviePy] Writing video new_video.mp4\n"
          ],
          "name": "stdout"
        },
        {
          "output_type": "stream",
          "text": [
            "\n",
            "100%|██████████| 540/540 [00:02<00:00, 229.40it/s]\n"
          ],
          "name": "stderr"
        },
        {
          "output_type": "stream",
          "text": [
            "[MoviePy] Done.\n",
            "[MoviePy] >>>> Video ready: new_video.mp4 \n",
            "\n",
            "(7231, 8, 2048)\n",
            "Copy of Normal_Videos077_x264_Trim.mp4\n",
            "(7, 8, 2048)\n",
            "(7238, 8, 2048)\n",
            "[MoviePy] >>>> Building video new_video.mp4\n",
            "[MoviePy] Writing audio in new_videoTEMP_MPY_wvf_snd.mp3\n"
          ],
          "name": "stdout"
        },
        {
          "output_type": "stream",
          "text": [
            "100%|██████████| 1336/1336 [00:01<00:00, 729.52it/s]"
          ],
          "name": "stderr"
        },
        {
          "output_type": "stream",
          "text": [
            "[MoviePy] Done.\n",
            "[MoviePy] Writing video new_video.mp4\n"
          ],
          "name": "stdout"
        },
        {
          "output_type": "stream",
          "text": [
            "\n",
            "100%|██████████| 1818/1818 [00:08<00:00, 212.67it/s]\n"
          ],
          "name": "stderr"
        },
        {
          "output_type": "stream",
          "text": [
            "[MoviePy] Done.\n",
            "[MoviePy] >>>> Video ready: new_video.mp4 \n",
            "\n",
            "(7245, 8, 2048)\n",
            "Copy of Normal_Videos080_x264_Trim.mp4\n",
            "(7, 8, 2048)\n",
            "(7252, 8, 2048)\n",
            "[MoviePy] >>>> Building video new_video.mp4\n",
            "[MoviePy] Writing audio in new_videoTEMP_MPY_wvf_snd.mp3\n"
          ],
          "name": "stdout"
        },
        {
          "output_type": "stream",
          "text": [
            "100%|██████████| 1274/1274 [00:02<00:00, 573.98it/s]"
          ],
          "name": "stderr"
        },
        {
          "output_type": "stream",
          "text": [
            "[MoviePy] Done.\n",
            "[MoviePy] Writing video new_video.mp4\n"
          ],
          "name": "stdout"
        },
        {
          "output_type": "stream",
          "text": [
            "\n",
            "100%|██████████| 1733/1733 [00:07<00:00, 233.76it/s]\n"
          ],
          "name": "stderr"
        },
        {
          "output_type": "stream",
          "text": [
            "[MoviePy] Done.\n",
            "[MoviePy] >>>> Video ready: new_video.mp4 \n",
            "\n",
            "(7259, 8, 2048)\n",
            "Copy of Normal_Videos046_x264_Trim.mp4\n",
            "(7, 8, 2048)\n",
            "(7266, 8, 2048)\n",
            "[MoviePy] >>>> Building video new_video.mp4\n",
            "[MoviePy] Writing audio in new_videoTEMP_MPY_wvf_snd.mp3\n"
          ],
          "name": "stdout"
        },
        {
          "output_type": "stream",
          "text": [
            "100%|██████████| 1335/1335 [00:01<00:00, 899.54it/s]"
          ],
          "name": "stderr"
        },
        {
          "output_type": "stream",
          "text": [
            "[MoviePy] Done.\n",
            "[MoviePy] Writing video new_video.mp4\n"
          ],
          "name": "stdout"
        },
        {
          "output_type": "stream",
          "text": [
            "\n",
            "100%|██████████| 1817/1817 [00:08<00:00, 208.83it/s]\n"
          ],
          "name": "stderr"
        },
        {
          "output_type": "stream",
          "text": [
            "[MoviePy] Done.\n",
            "[MoviePy] >>>> Video ready: new_video.mp4 \n",
            "\n",
            "(7273, 8, 2048)\n",
            "Copy of Normal_Videos061_x264_Trim2.mp4\n",
            "(7, 8, 2048)\n",
            "(7280, 8, 2048)\n",
            "[MoviePy] >>>> Building video new_video.mp4\n",
            "[MoviePy] Writing audio in new_videoTEMP_MPY_wvf_snd.mp3\n"
          ],
          "name": "stdout"
        },
        {
          "output_type": "stream",
          "text": [
            "100%|██████████| 1334/1334 [00:01<00:00, 886.85it/s]"
          ],
          "name": "stderr"
        },
        {
          "output_type": "stream",
          "text": [
            "[MoviePy] Done.\n",
            "[MoviePy] Writing video new_video.mp4\n"
          ],
          "name": "stdout"
        },
        {
          "output_type": "stream",
          "text": [
            "\n",
            "100%|██████████| 1814/1814 [00:10<00:00, 176.09it/s]"
          ],
          "name": "stderr"
        },
        {
          "output_type": "stream",
          "text": [
            "[MoviePy] Done.\n",
            "[MoviePy] >>>> Video ready: new_video.mp4 \n",
            "\n"
          ],
          "name": "stdout"
        },
        {
          "output_type": "stream",
          "text": [
            "\n"
          ],
          "name": "stderr"
        },
        {
          "output_type": "stream",
          "text": [
            "(7287, 8, 2048)\n",
            "Copy of Normal_Videos049_x264_Trim.mp4\n",
            "(7, 8, 2048)\n",
            "(7294, 8, 2048)\n",
            "[MoviePy] >>>> Building video new_video.mp4\n",
            "[MoviePy] Writing audio in new_videoTEMP_MPY_wvf_snd.mp3\n"
          ],
          "name": "stdout"
        },
        {
          "output_type": "stream",
          "text": [
            "100%|██████████| 1340/1340 [00:01<00:00, 922.60it/s]"
          ],
          "name": "stderr"
        },
        {
          "output_type": "stream",
          "text": [
            "[MoviePy] Done.\n",
            "[MoviePy] Writing video new_video.mp4\n"
          ],
          "name": "stdout"
        },
        {
          "output_type": "stream",
          "text": [
            "\n",
            "100%|██████████| 1823/1823 [00:07<00:00, 232.69it/s]\n"
          ],
          "name": "stderr"
        },
        {
          "output_type": "stream",
          "text": [
            "[MoviePy] Done.\n",
            "[MoviePy] >>>> Video ready: new_video.mp4 \n",
            "\n",
            "(7301, 8, 2048)\n",
            "Copy of Normal_Videos035_x264_Trim.mp4\n",
            "(15, 8, 2048)\n",
            "(7316, 8, 2048)\n",
            "[MoviePy] >>>> Building video new_video.mp4\n",
            "[MoviePy] Writing audio in new_videoTEMP_MPY_wvf_snd.mp3\n"
          ],
          "name": "stdout"
        },
        {
          "output_type": "stream",
          "text": [
            "100%|██████████| 2656/2656 [00:02<00:00, 1012.44it/s]"
          ],
          "name": "stderr"
        },
        {
          "output_type": "stream",
          "text": [
            "[MoviePy] Done.\n",
            "[MoviePy] Writing video new_video.mp4\n"
          ],
          "name": "stdout"
        },
        {
          "output_type": "stream",
          "text": [
            "\n",
            "100%|██████████| 3613/3613 [00:18<00:00, 194.08it/s]\n"
          ],
          "name": "stderr"
        },
        {
          "output_type": "stream",
          "text": [
            "[MoviePy] Done.\n",
            "[MoviePy] >>>> Video ready: new_video.mp4 \n",
            "\n",
            "(7331, 8, 2048)\n",
            "Copy of Normal_Videos061_x264_Trim.mp4\n",
            "(7, 8, 2048)\n",
            "(7338, 8, 2048)\n",
            "[MoviePy] >>>> Building video new_video.mp4\n",
            "[MoviePy] Writing audio in new_videoTEMP_MPY_wvf_snd.mp3\n"
          ],
          "name": "stdout"
        },
        {
          "output_type": "stream",
          "text": [
            "100%|██████████| 1303/1303 [00:01<00:00, 889.50it/s]"
          ],
          "name": "stderr"
        },
        {
          "output_type": "stream",
          "text": [
            "[MoviePy] Done.\n",
            "[MoviePy] Writing video new_video.mp4\n"
          ],
          "name": "stdout"
        },
        {
          "output_type": "stream",
          "text": [
            "\n",
            "100%|██████████| 1772/1772 [00:07<00:00, 222.62it/s]\n"
          ],
          "name": "stderr"
        },
        {
          "output_type": "stream",
          "text": [
            "[MoviePy] Done.\n",
            "[MoviePy] >>>> Video ready: new_video.mp4 \n",
            "\n",
            "(7345, 8, 2048)\n",
            "Copy of Normal_Videos038_x264.mp4\n",
            "(12, 8, 2048)\n",
            "(7357, 8, 2048)\n",
            "[MoviePy] >>>> Building video new_video.mp4\n",
            "[MoviePy] Writing audio in new_videoTEMP_MPY_wvf_snd.mp3\n"
          ],
          "name": "stdout"
        },
        {
          "output_type": "stream",
          "text": [
            "100%|██████████| 2185/2185 [00:01<00:00, 1424.51it/s]"
          ],
          "name": "stderr"
        },
        {
          "output_type": "stream",
          "text": [
            "[MoviePy] Done.\n",
            "[MoviePy] Writing video new_video.mp4\n"
          ],
          "name": "stdout"
        },
        {
          "output_type": "stream",
          "text": [
            "\n",
            "100%|██████████| 2973/2973 [00:15<00:00, 186.35it/s]\n"
          ],
          "name": "stderr"
        },
        {
          "output_type": "stream",
          "text": [
            "[MoviePy] Done.\n",
            "[MoviePy] >>>> Video ready: new_video.mp4 \n",
            "\n",
            "(7369, 8, 2048)\n",
            "Copy of Normal_Videos046_x264_Trim2.mp4\n",
            "(7, 8, 2048)\n",
            "(7376, 8, 2048)\n",
            "[MoviePy] >>>> Building video new_video.mp4\n",
            "[MoviePy] Writing audio in new_videoTEMP_MPY_wvf_snd.mp3\n"
          ],
          "name": "stdout"
        },
        {
          "output_type": "stream",
          "text": [
            "100%|██████████| 1324/1324 [00:01<00:00, 895.91it/s]"
          ],
          "name": "stderr"
        },
        {
          "output_type": "stream",
          "text": [
            "[MoviePy] Done.\n",
            "[MoviePy] Writing video new_video.mp4\n"
          ],
          "name": "stdout"
        },
        {
          "output_type": "stream",
          "text": [
            "\n",
            "100%|██████████| 1801/1801 [00:08<00:00, 201.20it/s]"
          ],
          "name": "stderr"
        },
        {
          "output_type": "stream",
          "text": [
            "[MoviePy] Done.\n",
            "[MoviePy] >>>> Video ready: new_video.mp4 \n",
            "\n"
          ],
          "name": "stdout"
        },
        {
          "output_type": "stream",
          "text": [
            "\n"
          ],
          "name": "stderr"
        },
        {
          "output_type": "stream",
          "text": [
            "(7383, 8, 2048)\n",
            "Copy of Normal_Videos031_x264.mp4\n",
            "(14, 8, 2048)\n",
            "(7397, 8, 2048)\n",
            "[MoviePy] >>>> Building video new_video.mp4\n",
            "[MoviePy] Writing audio in new_videoTEMP_MPY_wvf_snd.mp3\n"
          ],
          "name": "stdout"
        },
        {
          "output_type": "stream",
          "text": [
            "100%|██████████| 2451/2451 [00:04<00:00, 601.54it/s]"
          ],
          "name": "stderr"
        },
        {
          "output_type": "stream",
          "text": [
            "[MoviePy] Done.\n",
            "[MoviePy] Writing video new_video.mp4\n"
          ],
          "name": "stdout"
        },
        {
          "output_type": "stream",
          "text": [
            "\n",
            "100%|██████████| 3334/3334 [00:20<00:00, 159.92it/s]\n"
          ],
          "name": "stderr"
        },
        {
          "output_type": "stream",
          "text": [
            "[MoviePy] Done.\n",
            "[MoviePy] >>>> Video ready: new_video.mp4 \n",
            "\n",
            "(7411, 8, 2048)\n",
            "Copy of Normal_Videos036_x264.mp4\n",
            "(5, 8, 2048)\n",
            "(7416, 8, 2048)\n",
            "[MoviePy] >>>> Building video new_video.mp4\n",
            "[MoviePy] Writing audio in new_videoTEMP_MPY_wvf_snd.mp3\n"
          ],
          "name": "stdout"
        },
        {
          "output_type": "stream",
          "text": [
            "100%|██████████| 974/974 [00:00<00:00, 1392.47it/s]\n"
          ],
          "name": "stderr"
        },
        {
          "output_type": "stream",
          "text": [
            "[MoviePy] Done.\n",
            "[MoviePy] Writing video new_video.mp4\n"
          ],
          "name": "stdout"
        },
        {
          "output_type": "stream",
          "text": [
            "100%|██████████| 1326/1326 [00:06<00:00, 196.07it/s]"
          ],
          "name": "stderr"
        },
        {
          "output_type": "stream",
          "text": [
            "[MoviePy] Done.\n",
            "[MoviePy] >>>> Video ready: new_video.mp4 \n",
            "\n"
          ],
          "name": "stdout"
        },
        {
          "output_type": "stream",
          "text": [
            "\n"
          ],
          "name": "stderr"
        },
        {
          "output_type": "stream",
          "text": [
            "(7421, 8, 2048)\n",
            "Copy of Normal_Videos047_x264_Trim.mp4\n",
            "(13, 8, 2048)\n",
            "(7434, 8, 2048)\n",
            "[MoviePy] >>>> Building video new_video.mp4\n",
            "[MoviePy] Writing audio in new_videoTEMP_MPY_wvf_snd.mp3\n"
          ],
          "name": "stdout"
        },
        {
          "output_type": "stream",
          "text": [
            "100%|██████████| 2415/2415 [00:02<00:00, 1001.70it/s]"
          ],
          "name": "stderr"
        },
        {
          "output_type": "stream",
          "text": [
            "[MoviePy] Done.\n",
            "[MoviePy] Writing video new_video.mp4\n"
          ],
          "name": "stdout"
        },
        {
          "output_type": "stream",
          "text": [
            "\n",
            "100%|█████████▉| 3285/3286 [00:16<00:00, 197.26it/s]\n"
          ],
          "name": "stderr"
        },
        {
          "output_type": "stream",
          "text": [
            "[MoviePy] Done.\n",
            "[MoviePy] >>>> Video ready: new_video.mp4 \n",
            "\n",
            "(7447, 8, 2048)\n",
            "Copy of Normal_Videos017_x264.mp4\n",
            "(3, 8, 2048)\n",
            "(7450, 8, 2048)\n",
            "[MoviePy] >>>> Building video new_video.mp4\n",
            "[MoviePy] Writing audio in new_videoTEMP_MPY_wvf_snd.mp3\n"
          ],
          "name": "stdout"
        },
        {
          "output_type": "stream",
          "text": [
            "100%|██████████| 629/629 [00:00<00:00, 1383.49it/s]"
          ],
          "name": "stderr"
        },
        {
          "output_type": "stream",
          "text": [
            "[MoviePy] Done.\n",
            "[MoviePy] Writing video new_video.mp4\n"
          ],
          "name": "stdout"
        },
        {
          "output_type": "stream",
          "text": [
            "\n",
            "100%|██████████| 855/855 [00:03<00:00, 220.94it/s]"
          ],
          "name": "stderr"
        },
        {
          "output_type": "stream",
          "text": [
            "[MoviePy] Done.\n",
            "[MoviePy] >>>> Video ready: new_video.mp4 \n",
            "\n"
          ],
          "name": "stdout"
        },
        {
          "output_type": "stream",
          "text": [
            "\n"
          ],
          "name": "stderr"
        },
        {
          "output_type": "stream",
          "text": [
            "(7453, 8, 2048)\n",
            "Copy of Normal_Videos013_x264.mp4\n",
            "(5, 8, 2048)\n",
            "(7458, 8, 2048)\n",
            "[MoviePy] >>>> Building video new_video.mp4\n",
            "[MoviePy] Writing audio in new_videoTEMP_MPY_wvf_snd.mp3\n"
          ],
          "name": "stdout"
        },
        {
          "output_type": "stream",
          "text": [
            "100%|██████████| 891/891 [00:00<00:00, 898.48it/s]"
          ],
          "name": "stderr"
        },
        {
          "output_type": "stream",
          "text": [
            "[MoviePy] Done.\n",
            "[MoviePy] Writing video new_video.mp4\n"
          ],
          "name": "stdout"
        },
        {
          "output_type": "stream",
          "text": [
            "\n",
            "100%|█████████▉| 1212/1213 [00:06<00:00, 196.25it/s]\n"
          ],
          "name": "stderr"
        },
        {
          "output_type": "stream",
          "text": [
            "[MoviePy] Done.\n",
            "[MoviePy] >>>> Video ready: new_video.mp4 \n",
            "\n",
            "(7463, 8, 2048)\n",
            "Copy of Normal_Videos016_x264_Trim.mp4\n",
            "(7, 8, 2048)\n",
            "(7470, 8, 2048)\n",
            "[MoviePy] >>>> Building video new_video.mp4\n",
            "[MoviePy] Writing audio in new_videoTEMP_MPY_wvf_snd.mp3\n"
          ],
          "name": "stdout"
        },
        {
          "output_type": "stream",
          "text": [
            "100%|██████████| 1345/1345 [00:01<00:00, 993.50it/s]"
          ],
          "name": "stderr"
        },
        {
          "output_type": "stream",
          "text": [
            "[MoviePy] Done.\n",
            "[MoviePy] Writing video new_video.mp4\n"
          ],
          "name": "stdout"
        },
        {
          "output_type": "stream",
          "text": [
            "\n",
            "100%|██████████| 1830/1830 [00:08<00:00, 212.42it/s]\n"
          ],
          "name": "stderr"
        },
        {
          "output_type": "stream",
          "text": [
            "[MoviePy] Done.\n",
            "[MoviePy] >>>> Video ready: new_video.mp4 \n",
            "\n",
            "(7477, 8, 2048)\n",
            "Copy of Normal_Videos011_x264.mp4\n",
            "(3, 8, 2048)\n",
            "(7480, 8, 2048)\n",
            "[MoviePy] >>>> Building video new_video.mp4\n",
            "[MoviePy] Writing audio in new_videoTEMP_MPY_wvf_snd.mp3\n"
          ],
          "name": "stdout"
        },
        {
          "output_type": "stream",
          "text": [
            "100%|██████████| 662/662 [00:01<00:00, 626.23it/s]"
          ],
          "name": "stderr"
        },
        {
          "output_type": "stream",
          "text": [
            "[MoviePy] Done.\n",
            "[MoviePy] Writing video new_video.mp4\n"
          ],
          "name": "stdout"
        },
        {
          "output_type": "stream",
          "text": [
            "\n",
            "100%|██████████| 900/900 [00:05<00:00, 177.34it/s]\n"
          ],
          "name": "stderr"
        },
        {
          "output_type": "stream",
          "text": [
            "[MoviePy] Done.\n",
            "[MoviePy] >>>> Video ready: new_video.mp4 \n",
            "\n",
            "(7483, 8, 2048)\n",
            "Copy of Normal_Videos023_x264.mp4\n",
            "(7, 8, 2048)\n",
            "(7490, 8, 2048)\n",
            "[MoviePy] >>>> Building video new_video.mp4\n",
            "[MoviePy] Writing audio in new_videoTEMP_MPY_wvf_snd.mp3\n"
          ],
          "name": "stdout"
        },
        {
          "output_type": "stream",
          "text": [
            "100%|██████████| 1302/1302 [00:01<00:00, 1022.40it/s]"
          ],
          "name": "stderr"
        },
        {
          "output_type": "stream",
          "text": [
            "[MoviePy] Done.\n",
            "[MoviePy] Writing video new_video.mp4\n"
          ],
          "name": "stdout"
        },
        {
          "output_type": "stream",
          "text": [
            "\n",
            "100%|██████████| 1771/1771 [00:07<00:00, 230.97it/s]"
          ],
          "name": "stderr"
        },
        {
          "output_type": "stream",
          "text": [
            "[MoviePy] Done.\n",
            "[MoviePy] >>>> Video ready: new_video.mp4 \n",
            "\n"
          ],
          "name": "stdout"
        },
        {
          "output_type": "stream",
          "text": [
            "\n"
          ],
          "name": "stderr"
        },
        {
          "output_type": "stream",
          "text": [
            "(7497, 8, 2048)\n",
            "Copy of Normal_Videos030_x264_Trim.mp4\n",
            "(7, 8, 2048)\n",
            "(7504, 8, 2048)\n",
            "[MoviePy] >>>> Building video new_video.mp4\n",
            "[MoviePy] Writing audio in new_videoTEMP_MPY_wvf_snd.mp3\n"
          ],
          "name": "stdout"
        },
        {
          "output_type": "stream",
          "text": [
            "100%|██████████| 1327/1327 [00:01<00:00, 1000.79it/s]"
          ],
          "name": "stderr"
        },
        {
          "output_type": "stream",
          "text": [
            "[MoviePy] Done.\n",
            "[MoviePy] Writing video new_video.mp4\n"
          ],
          "name": "stdout"
        },
        {
          "output_type": "stream",
          "text": [
            "\n",
            "100%|██████████| 1806/1806 [00:08<00:00, 219.34it/s]\n"
          ],
          "name": "stderr"
        },
        {
          "output_type": "stream",
          "text": [
            "[MoviePy] Done.\n",
            "[MoviePy] >>>> Video ready: new_video.mp4 \n",
            "\n",
            "(7511, 8, 2048)\n",
            "Copy of Normal_Videos012_x264_Trim.mp4\n",
            "(3, 8, 2048)\n",
            "(7514, 8, 2048)\n",
            "[MoviePy] >>>> Building video new_video.mp4\n",
            "[MoviePy] Writing audio in new_videoTEMP_MPY_wvf_snd.mp3\n"
          ],
          "name": "stdout"
        },
        {
          "output_type": "stream",
          "text": [
            "100%|██████████| 680/680 [00:00<00:00, 1005.02it/s]"
          ],
          "name": "stderr"
        },
        {
          "output_type": "stream",
          "text": [
            "[MoviePy] Done.\n",
            "[MoviePy] Writing video new_video.mp4\n"
          ],
          "name": "stdout"
        },
        {
          "output_type": "stream",
          "text": [
            "\n",
            "100%|██████████| 925/925 [00:04<00:00, 219.14it/s]\n"
          ],
          "name": "stderr"
        },
        {
          "output_type": "stream",
          "text": [
            "[MoviePy] Done.\n",
            "[MoviePy] >>>> Video ready: new_video.mp4 \n",
            "\n",
            "(7517, 8, 2048)\n",
            "Copy of Normal_Videos021_x264.mp4\n",
            "(8, 8, 2048)\n",
            "(7525, 8, 2048)\n",
            "[MoviePy] >>>> Building video new_video.mp4\n",
            "[MoviePy] Writing audio in new_videoTEMP_MPY_wvf_snd.mp3\n"
          ],
          "name": "stdout"
        },
        {
          "output_type": "stream",
          "text": [
            "100%|██████████| 1445/1445 [00:01<00:00, 909.16it/s]"
          ],
          "name": "stderr"
        },
        {
          "output_type": "stream",
          "text": [
            "[MoviePy] Done.\n",
            "[MoviePy] Writing video new_video.mp4\n"
          ],
          "name": "stdout"
        },
        {
          "output_type": "stream",
          "text": [
            "\n",
            "100%|█████████▉| 1965/1966 [00:10<00:00, 194.31it/s]\n"
          ],
          "name": "stderr"
        },
        {
          "output_type": "stream",
          "text": [
            "[MoviePy] Done.\n",
            "[MoviePy] >>>> Video ready: new_video.mp4 \n",
            "\n",
            "(7533, 8, 2048)\n",
            "Copy of Normal_Videos028_x264_Trim.mp4\n",
            "(15, 8, 2048)\n",
            "(7548, 8, 2048)\n",
            "[MoviePy] >>>> Building video new_video.mp4\n",
            "[MoviePy] Writing audio in new_videoTEMP_MPY_wvf_snd.mp3\n"
          ],
          "name": "stdout"
        },
        {
          "output_type": "stream",
          "text": [
            "100%|██████████| 2663/2663 [00:02<00:00, 975.74it/s]"
          ],
          "name": "stderr"
        },
        {
          "output_type": "stream",
          "text": [
            "[MoviePy] Done.\n",
            "[MoviePy] Writing video new_video.mp4\n"
          ],
          "name": "stdout"
        },
        {
          "output_type": "stream",
          "text": [
            "\n",
            "100%|██████████| 3624/3624 [00:17<00:00, 204.72it/s]\n"
          ],
          "name": "stderr"
        },
        {
          "output_type": "stream",
          "text": [
            "[MoviePy] Done.\n",
            "[MoviePy] >>>> Video ready: new_video.mp4 \n",
            "\n",
            "(7563, 8, 2048)\n",
            "Copy of Normal_Videos020_x264.mp4\n",
            "(2, 8, 2048)\n",
            "(7565, 8, 2048)\n",
            "[MoviePy] >>>> Building video new_video.mp4\n",
            "[MoviePy] Writing audio in new_videoTEMP_MPY_wvf_snd.mp3\n"
          ],
          "name": "stdout"
        },
        {
          "output_type": "stream",
          "text": [
            "100%|██████████| 357/357 [00:00<00:00, 1391.05it/s]"
          ],
          "name": "stderr"
        },
        {
          "output_type": "stream",
          "text": [
            "[MoviePy] Done.\n",
            "[MoviePy] Writing video new_video.mp4\n"
          ],
          "name": "stdout"
        },
        {
          "output_type": "stream",
          "text": [
            "\n",
            "100%|██████████| 486/486 [00:02<00:00, 176.36it/s]\n"
          ],
          "name": "stderr"
        },
        {
          "output_type": "stream",
          "text": [
            "[MoviePy] Done.\n",
            "[MoviePy] >>>> Video ready: new_video.mp4 \n",
            "\n",
            "(7567, 8, 2048)\n",
            "Copy of Normal_Videos_943_x264.mp4\n",
            "(4, 8, 2048)\n",
            "(7571, 8, 2048)\n",
            "[MoviePy] >>>> Building video new_video.mp4\n",
            "[MoviePy] Writing audio in new_videoTEMP_MPY_wvf_snd.mp3\n"
          ],
          "name": "stdout"
        },
        {
          "output_type": "stream",
          "text": [
            "100%|██████████| 753/753 [00:00<00:00, 1438.10it/s]"
          ],
          "name": "stderr"
        },
        {
          "output_type": "stream",
          "text": [
            "[MoviePy] Done.\n",
            "[MoviePy] Writing video new_video.mp4\n"
          ],
          "name": "stdout"
        },
        {
          "output_type": "stream",
          "text": [
            "\n",
            "100%|██████████| 1024/1024 [00:05<00:00, 180.57it/s]\n"
          ],
          "name": "stderr"
        },
        {
          "output_type": "stream",
          "text": [
            "[MoviePy] Done.\n",
            "[MoviePy] >>>> Video ready: new_video.mp4 \n",
            "\n",
            "(7575, 8, 2048)\n",
            "Copy of Normal_Videos_941_x264.mp4\n",
            "(8, 8, 2048)\n",
            "(7583, 8, 2048)\n",
            "[MoviePy] >>>> Building video new_video.mp4\n",
            "[MoviePy] Writing audio in new_videoTEMP_MPY_wvf_snd.mp3\n"
          ],
          "name": "stdout"
        },
        {
          "output_type": "stream",
          "text": [
            "100%|██████████| 1486/1486 [00:01<00:00, 1385.92it/s]"
          ],
          "name": "stderr"
        },
        {
          "output_type": "stream",
          "text": [
            "[MoviePy] Done.\n",
            "[MoviePy] Writing video new_video.mp4\n"
          ],
          "name": "stdout"
        },
        {
          "output_type": "stream",
          "text": [
            "\n",
            "100%|██████████| 2021/2021 [00:10<00:00, 195.40it/s]\n"
          ],
          "name": "stderr"
        },
        {
          "output_type": "stream",
          "text": [
            "[MoviePy] Done.\n",
            "[MoviePy] >>>> Video ready: new_video.mp4 \n",
            "\n",
            "(7591, 8, 2048)\n",
            "Copy of Normal_Videos007_x264.mp4\n",
            "(4, 8, 2048)\n",
            "(7595, 8, 2048)\n",
            "[MoviePy] >>>> Building video new_video.mp4\n",
            "[MoviePy] Writing audio in new_videoTEMP_MPY_wvf_snd.mp3\n"
          ],
          "name": "stdout"
        },
        {
          "output_type": "stream",
          "text": [
            "100%|██████████| 726/726 [00:00<00:00, 1333.75it/s]"
          ],
          "name": "stderr"
        },
        {
          "output_type": "stream",
          "text": [
            "[MoviePy] Done.\n",
            "[MoviePy] Writing video new_video.mp4\n"
          ],
          "name": "stdout"
        },
        {
          "output_type": "stream",
          "text": [
            "\n",
            "100%|██████████| 987/987 [00:04<00:00, 199.10it/s]\n"
          ],
          "name": "stderr"
        },
        {
          "output_type": "stream",
          "text": [
            "[MoviePy] Done.\n",
            "[MoviePy] >>>> Video ready: new_video.mp4 \n",
            "\n",
            "(7599, 8, 2048)\n",
            "Copy of Normal_Videos004_x264.mp4\n",
            "(3, 8, 2048)\n",
            "(7602, 8, 2048)\n",
            "[MoviePy] >>>> Building video new_video.mp4\n",
            "[MoviePy] Writing audio in new_videoTEMP_MPY_wvf_snd.mp3\n"
          ],
          "name": "stdout"
        },
        {
          "output_type": "stream",
          "text": [
            "100%|██████████| 675/675 [00:00<00:00, 1382.49it/s]"
          ],
          "name": "stderr"
        },
        {
          "output_type": "stream",
          "text": [
            "[MoviePy] Done.\n",
            "[MoviePy] Writing video new_video.mp4\n"
          ],
          "name": "stdout"
        },
        {
          "output_type": "stream",
          "text": [
            "\n",
            "100%|█████████▉| 918/919 [00:04<00:00, 224.84it/s]"
          ],
          "name": "stderr"
        },
        {
          "output_type": "stream",
          "text": [
            "[MoviePy] Done.\n",
            "[MoviePy] >>>> Video ready: new_video.mp4 \n",
            "\n"
          ],
          "name": "stdout"
        },
        {
          "output_type": "stream",
          "text": [
            "\n"
          ],
          "name": "stderr"
        },
        {
          "output_type": "stream",
          "text": [
            "(7605, 8, 2048)\n",
            "Copy of Normal_Videos005_x264.mp4\n",
            "(1, 8, 2048)\n",
            "(7606, 8, 2048)\n",
            "[MoviePy] >>>> Building video new_video.mp4\n",
            "[MoviePy] Writing audio in new_videoTEMP_MPY_wvf_snd.mp3\n"
          ],
          "name": "stdout"
        },
        {
          "output_type": "stream",
          "text": [
            "100%|██████████| 285/285 [00:00<00:00, 1298.87it/s]"
          ],
          "name": "stderr"
        },
        {
          "output_type": "stream",
          "text": [
            "[MoviePy] Done.\n",
            "[MoviePy] Writing video new_video.mp4\n"
          ],
          "name": "stdout"
        },
        {
          "output_type": "stream",
          "text": [
            "\n",
            "100%|██████████| 388/388 [00:02<00:00, 177.41it/s]"
          ],
          "name": "stderr"
        },
        {
          "output_type": "stream",
          "text": [
            "[MoviePy] Done.\n",
            "[MoviePy] >>>> Video ready: new_video.mp4 \n",
            "\n"
          ],
          "name": "stdout"
        },
        {
          "output_type": "stream",
          "text": [
            "\n"
          ],
          "name": "stderr"
        },
        {
          "output_type": "stream",
          "text": [
            "(7607, 8, 2048)\n",
            "Copy of Normal_Videos009_x264_Trim.mp4\n",
            "(2, 8, 2048)\n",
            "(7609, 8, 2048)\n",
            "[MoviePy] >>>> Building video new_video.mp4\n",
            "[MoviePy] Writing audio in new_videoTEMP_MPY_wvf_snd.mp3\n"
          ],
          "name": "stdout"
        },
        {
          "output_type": "stream",
          "text": [
            "100%|██████████| 365/365 [00:00<00:00, 1024.11it/s]"
          ],
          "name": "stderr"
        },
        {
          "output_type": "stream",
          "text": [
            "[MoviePy] Done.\n",
            "[MoviePy] Writing video new_video.mp4\n"
          ],
          "name": "stdout"
        },
        {
          "output_type": "stream",
          "text": [
            "\n",
            "100%|██████████| 496/496 [00:02<00:00, 245.10it/s]\n"
          ],
          "name": "stderr"
        },
        {
          "output_type": "stream",
          "text": [
            "[MoviePy] Done.\n",
            "[MoviePy] >>>> Video ready: new_video.mp4 \n",
            "\n",
            "(7611, 8, 2048)\n",
            "Copy of Normal_Videos_944_x264.mp4\n",
            "(29, 8, 2048)\n",
            "(7640, 8, 2048)\n",
            "[MoviePy] >>>> Building video new_video.mp4\n",
            "[MoviePy] Writing audio in new_videoTEMP_MPY_wvf_snd.mp3\n"
          ],
          "name": "stdout"
        },
        {
          "output_type": "stream",
          "text": [
            "100%|██████████| 5271/5271 [00:03<00:00, 1410.69it/s]"
          ],
          "name": "stderr"
        },
        {
          "output_type": "stream",
          "text": [
            "[MoviePy] Done.\n",
            "[MoviePy] Writing video new_video.mp4\n"
          ],
          "name": "stdout"
        },
        {
          "output_type": "stream",
          "text": [
            "\n",
            "100%|██████████| 7171/7171 [00:37<00:00, 193.48it/s]\n"
          ],
          "name": "stderr"
        },
        {
          "output_type": "stream",
          "text": [
            "[MoviePy] Done.\n",
            "[MoviePy] >>>> Video ready: new_video.mp4 \n",
            "\n",
            "(7670, 8, 2048)\n",
            "Copy of Normal_Videos002_x264.mp4\n",
            "(7, 8, 2048)\n",
            "(7677, 8, 2048)\n",
            "[MoviePy] >>>> Building video new_video.mp4\n",
            "[MoviePy] Writing audio in new_videoTEMP_MPY_wvf_snd.mp3\n"
          ],
          "name": "stdout"
        },
        {
          "output_type": "stream",
          "text": [
            "100%|██████████| 1224/1224 [00:01<00:00, 909.42it/s]"
          ],
          "name": "stderr"
        },
        {
          "output_type": "stream",
          "text": [
            "[MoviePy] Done.\n",
            "[MoviePy] Writing video new_video.mp4\n"
          ],
          "name": "stdout"
        },
        {
          "output_type": "stream",
          "text": [
            "\n",
            "100%|█████████▉| 1665/1666 [00:08<00:00, 201.30it/s]\n"
          ],
          "name": "stderr"
        },
        {
          "output_type": "stream",
          "text": [
            "[MoviePy] Done.\n",
            "[MoviePy] >>>> Video ready: new_video.mp4 \n",
            "\n",
            "(7684, 8, 2048)\n",
            "Copy of Normal_Videos001_x264.mp4\n",
            "(2, 8, 2048)\n",
            "(7686, 8, 2048)\n",
            "[MoviePy] >>>> Building video new_video.mp4\n",
            "[MoviePy] Writing audio in new_videoTEMP_MPY_wvf_snd.mp3\n"
          ],
          "name": "stdout"
        },
        {
          "output_type": "stream",
          "text": [
            "100%|██████████| 400/400 [00:00<00:00, 890.57it/s]"
          ],
          "name": "stderr"
        },
        {
          "output_type": "stream",
          "text": [
            "[MoviePy] Done.\n",
            "[MoviePy] Writing video new_video.mp4\n"
          ],
          "name": "stdout"
        },
        {
          "output_type": "stream",
          "text": [
            "\n",
            "100%|██████████| 545/545 [00:02<00:00, 207.34it/s]\n"
          ],
          "name": "stderr"
        },
        {
          "output_type": "stream",
          "text": [
            "[MoviePy] Done.\n",
            "[MoviePy] >>>> Video ready: new_video.mp4 \n",
            "\n",
            "(7688, 8, 2048)\n",
            "Copy of Normal_Videos008_x264.mp4\n",
            "(10, 8, 2048)\n",
            "(7698, 8, 2048)\n",
            "[MoviePy] >>>> Building video new_video.mp4\n",
            "[MoviePy] Writing audio in new_videoTEMP_MPY_wvf_snd.mp3\n"
          ],
          "name": "stdout"
        },
        {
          "output_type": "stream",
          "text": [
            "100%|██████████| 1889/1889 [00:01<00:00, 1393.62it/s]"
          ],
          "name": "stderr"
        },
        {
          "output_type": "stream",
          "text": [
            "[MoviePy] Done.\n",
            "[MoviePy] Writing video new_video.mp4\n"
          ],
          "name": "stdout"
        },
        {
          "output_type": "stream",
          "text": [
            "\n",
            "100%|██████████| 2570/2570 [00:16<00:00, 154.17it/s]\n"
          ],
          "name": "stderr"
        },
        {
          "output_type": "stream",
          "text": [
            "[MoviePy] Done.\n",
            "[MoviePy] >>>> Video ready: new_video.mp4 \n",
            "\n",
            "(7708, 8, 2048)\n",
            "Copy of Normal_Videos_933_x264_Trim.mp4\n",
            "(3, 8, 2048)\n",
            "(7711, 8, 2048)\n",
            "[MoviePy] >>>> Building video new_video.mp4\n",
            "[MoviePy] Writing audio in new_videoTEMP_MPY_wvf_snd.mp3\n"
          ],
          "name": "stdout"
        },
        {
          "output_type": "stream",
          "text": [
            "100%|██████████| 682/682 [00:00<00:00, 992.04it/s]"
          ],
          "name": "stderr"
        },
        {
          "output_type": "stream",
          "text": [
            "[MoviePy] Done.\n",
            "[MoviePy] Writing video new_video.mp4\n"
          ],
          "name": "stdout"
        },
        {
          "output_type": "stream",
          "text": [
            "\n",
            "100%|██████████| 928/928 [00:04<00:00, 215.30it/s]\n"
          ],
          "name": "stderr"
        },
        {
          "output_type": "stream",
          "text": [
            "[MoviePy] Done.\n",
            "[MoviePy] >>>> Video ready: new_video.mp4 \n",
            "\n",
            "(7714, 8, 2048)\n",
            "Copy of Normal_Videos_932_x264_Trim.mp4\n",
            "(6, 8, 2048)\n",
            "(7720, 8, 2048)\n",
            "[MoviePy] >>>> Building video new_video.mp4\n",
            "[MoviePy] Writing audio in new_videoTEMP_MPY_wvf_snd.mp3\n"
          ],
          "name": "stdout"
        },
        {
          "output_type": "stream",
          "text": [
            "100%|██████████| 1097/1097 [00:01<00:00, 992.33it/s] "
          ],
          "name": "stderr"
        },
        {
          "output_type": "stream",
          "text": [
            "[MoviePy] Done.\n"
          ],
          "name": "stdout"
        },
        {
          "output_type": "stream",
          "text": [
            "\n"
          ],
          "name": "stderr"
        },
        {
          "output_type": "stream",
          "text": [
            "[MoviePy] Writing video new_video.mp4\n"
          ],
          "name": "stdout"
        },
        {
          "output_type": "stream",
          "text": [
            "100%|██████████| 1493/1493 [00:06<00:00, 227.95it/s]\n"
          ],
          "name": "stderr"
        },
        {
          "output_type": "stream",
          "text": [
            "[MoviePy] Done.\n",
            "[MoviePy] >>>> Video ready: new_video.mp4 \n",
            "\n",
            "(7726, 8, 2048)\n",
            "Copy of Normal_Videos_936_x264.mp4\n",
            "(4, 8, 2048)\n",
            "(7730, 8, 2048)\n",
            "[MoviePy] >>>> Building video new_video.mp4\n",
            "[MoviePy] Writing audio in new_videoTEMP_MPY_wvf_snd.mp3\n"
          ],
          "name": "stdout"
        },
        {
          "output_type": "stream",
          "text": [
            "100%|██████████| 846/846 [00:01<00:00, 623.28it/s]"
          ],
          "name": "stderr"
        },
        {
          "output_type": "stream",
          "text": [
            "[MoviePy] Done.\n",
            "[MoviePy] Writing video new_video.mp4\n"
          ],
          "name": "stdout"
        },
        {
          "output_type": "stream",
          "text": [
            "\n",
            "100%|██████████| 1151/1151 [00:06<00:00, 181.14it/s]\n"
          ],
          "name": "stderr"
        },
        {
          "output_type": "stream",
          "text": [
            "[MoviePy] Done.\n",
            "[MoviePy] >>>> Video ready: new_video.mp4 \n",
            "\n",
            "(7734, 8, 2048)\n",
            "Copy of Normal_Videos_938_x264.mp4\n",
            "(20, 8, 2048)\n",
            "(7754, 8, 2048)\n",
            "[MoviePy] >>>> Building video new_video.mp4\n",
            "[MoviePy] Writing audio in new_videoTEMP_MPY_wvf_snd.mp3\n"
          ],
          "name": "stdout"
        },
        {
          "output_type": "stream",
          "text": [
            "100%|██████████| 3550/3550 [00:03<00:00, 903.79it/s]"
          ],
          "name": "stderr"
        },
        {
          "output_type": "stream",
          "text": [
            "[MoviePy] Done.\n",
            "[MoviePy] Writing video new_video.mp4\n"
          ],
          "name": "stdout"
        },
        {
          "output_type": "stream",
          "text": [
            "\n",
            "100%|██████████| 4829/4829 [00:25<00:00, 186.77it/s]\n"
          ],
          "name": "stderr"
        },
        {
          "output_type": "stream",
          "text": [
            "[MoviePy] Done.\n",
            "[MoviePy] >>>> Video ready: new_video.mp4 \n",
            "\n",
            "(7774, 8, 2048)\n",
            "Copy of Normal_Videos_939_x264.mp4\n",
            "(3, 8, 2048)\n",
            "(7777, 8, 2048)\n",
            "[MoviePy] >>>> Building video new_video.mp4\n",
            "[MoviePy] Writing audio in new_videoTEMP_MPY_wvf_snd.mp3\n"
          ],
          "name": "stdout"
        },
        {
          "output_type": "stream",
          "text": [
            "100%|██████████| 591/591 [00:00<00:00, 1405.48it/s]"
          ],
          "name": "stderr"
        },
        {
          "output_type": "stream",
          "text": [
            "[MoviePy] Done.\n",
            "[MoviePy] Writing video new_video.mp4\n"
          ],
          "name": "stdout"
        },
        {
          "output_type": "stream",
          "text": [
            "\n",
            "100%|█████████▉| 804/805 [00:03<00:00, 226.02it/s]\n"
          ],
          "name": "stderr"
        },
        {
          "output_type": "stream",
          "text": [
            "[MoviePy] Done.\n",
            "[MoviePy] >>>> Video ready: new_video.mp4 \n",
            "\n",
            "(7780, 8, 2048)\n",
            "Copy of Normal_Videos_937_x264.mp4\n",
            "(4, 8, 2048)\n",
            "(7784, 8, 2048)\n",
            "[MoviePy] >>>> Building video new_video.mp4\n",
            "[MoviePy] Writing audio in new_videoTEMP_MPY_wvf_snd.mp3\n"
          ],
          "name": "stdout"
        },
        {
          "output_type": "stream",
          "text": [
            "100%|██████████| 846/846 [00:01<00:00, 614.33it/s]"
          ],
          "name": "stderr"
        },
        {
          "output_type": "stream",
          "text": [
            "[MoviePy] Done.\n",
            "[MoviePy] Writing video new_video.mp4\n"
          ],
          "name": "stdout"
        },
        {
          "output_type": "stream",
          "text": [
            "\n",
            "100%|██████████| 1151/1151 [00:06<00:00, 182.66it/s]\n"
          ],
          "name": "stderr"
        },
        {
          "output_type": "stream",
          "text": [
            "[MoviePy] Done.\n",
            "[MoviePy] >>>> Video ready: new_video.mp4 \n",
            "\n",
            "(7788, 8, 2048)\n",
            "Copy of Normal_Videos_940_x264.mp4\n",
            "(150, 8, 2048)\n",
            "(7938, 8, 2048)\n",
            "[MoviePy] >>>> Building video new_video.mp4\n",
            "[MoviePy] Writing audio in new_videoTEMP_MPY_wvf_snd.mp3\n"
          ],
          "name": "stdout"
        },
        {
          "output_type": "stream",
          "text": [
            "100%|██████████| 26474/26474 [00:28<00:00, 939.67it/s]"
          ],
          "name": "stderr"
        },
        {
          "output_type": "stream",
          "text": [
            "[MoviePy] Done.\n",
            "[MoviePy] Writing video new_video.mp4\n"
          ],
          "name": "stdout"
        },
        {
          "output_type": "stream",
          "text": [
            "\n",
            "100%|██████████| 36019/36019 [03:01<00:00, 198.63it/s]\n"
          ],
          "name": "stderr"
        },
        {
          "output_type": "stream",
          "text": [
            "[MoviePy] Done.\n",
            "[MoviePy] >>>> Video ready: new_video.mp4 \n",
            "\n",
            "(8088, 8, 2048)\n",
            "Copy of Normal_Videos_931_x264_Trim.mp4\n",
            "(6, 8, 2048)\n",
            "(8094, 8, 2048)\n",
            "[MoviePy] >>>> Building video new_video.mp4\n",
            "[MoviePy] Writing audio in new_videoTEMP_MPY_wvf_snd.mp3\n"
          ],
          "name": "stdout"
        },
        {
          "output_type": "stream",
          "text": [
            "100%|██████████| 1126/1126 [00:01<00:00, 1032.99it/s]"
          ],
          "name": "stderr"
        },
        {
          "output_type": "stream",
          "text": [
            "[MoviePy] Done.\n",
            "[MoviePy] Writing video new_video.mp4\n"
          ],
          "name": "stdout"
        },
        {
          "output_type": "stream",
          "text": [
            "\n",
            "100%|██████████| 1531/1531 [00:06<00:00, 224.95it/s]\n"
          ],
          "name": "stderr"
        },
        {
          "output_type": "stream",
          "text": [
            "[MoviePy] Done.\n",
            "[MoviePy] >>>> Video ready: new_video.mp4 \n",
            "\n",
            "(8100, 8, 2048)\n",
            "Copy of Normal_Videos_934_x264_Trim.mp4\n",
            "(3, 8, 2048)\n",
            "(8103, 8, 2048)\n",
            "[MoviePy] >>>> Building video new_video.mp4\n",
            "[MoviePy] Writing audio in new_videoTEMP_MPY_wvf_snd.mp3\n"
          ],
          "name": "stdout"
        },
        {
          "output_type": "stream",
          "text": [
            "100%|██████████| 669/669 [00:00<00:00, 1023.52it/s]"
          ],
          "name": "stderr"
        },
        {
          "output_type": "stream",
          "text": [
            "[MoviePy] Done.\n",
            "[MoviePy] Writing video new_video.mp4\n"
          ],
          "name": "stdout"
        },
        {
          "output_type": "stream",
          "text": [
            "\n",
            "100%|██████████| 910/910 [00:04<00:00, 203.14it/s]\n"
          ],
          "name": "stderr"
        },
        {
          "output_type": "stream",
          "text": [
            "[MoviePy] Done.\n",
            "[MoviePy] >>>> Video ready: new_video.mp4 \n",
            "\n",
            "(8106, 8, 2048)\n",
            "Copy of Normal_Videos_930_x264_Trim.mp4\n",
            "(3, 8, 2048)\n",
            "(8109, 8, 2048)\n",
            "[MoviePy] >>>> Building video new_video.mp4\n",
            "[MoviePy] Writing audio in new_videoTEMP_MPY_wvf_snd.mp3\n"
          ],
          "name": "stdout"
        },
        {
          "output_type": "stream",
          "text": [
            "100%|██████████| 669/669 [00:00<00:00, 1050.75it/s]"
          ],
          "name": "stderr"
        },
        {
          "output_type": "stream",
          "text": [
            "[MoviePy] Done.\n",
            "[MoviePy] Writing video new_video.mp4\n"
          ],
          "name": "stdout"
        },
        {
          "output_type": "stream",
          "text": [
            "\n",
            "100%|██████████| 910/910 [00:03<00:00, 245.69it/s]\n"
          ],
          "name": "stderr"
        },
        {
          "output_type": "stream",
          "text": [
            "[MoviePy] Done.\n",
            "[MoviePy] >>>> Video ready: new_video.mp4 \n",
            "\n",
            "(8112, 8, 2048)\n",
            "Copy of Normal_Videos_924_x264_Trim2.mp4\n",
            "(7, 8, 2048)\n",
            "(8119, 8, 2048)\n",
            "[MoviePy] >>>> Building video new_video.mp4\n",
            "[MoviePy] Writing audio in new_videoTEMP_MPY_wvf_snd.mp3\n"
          ],
          "name": "stdout"
        },
        {
          "output_type": "stream",
          "text": [
            "100%|██████████| 1361/1361 [00:01<00:00, 1025.96it/s]"
          ],
          "name": "stderr"
        },
        {
          "output_type": "stream",
          "text": [
            "[MoviePy] Done.\n",
            "[MoviePy] Writing video new_video.mp4\n"
          ],
          "name": "stdout"
        },
        {
          "output_type": "stream",
          "text": [
            "\n",
            "100%|█████████▉| 1851/1852 [00:09<00:00, 204.50it/s]\n"
          ],
          "name": "stderr"
        },
        {
          "output_type": "stream",
          "text": [
            "[MoviePy] Done.\n",
            "[MoviePy] >>>> Video ready: new_video.mp4 \n",
            "\n",
            "(8126, 8, 2048)\n",
            "Copy of Normal_Videos_923_x264_Trim.mp4\n",
            "(7, 8, 2048)\n",
            "(8133, 8, 2048)\n",
            "[MoviePy] >>>> Building video new_video.mp4\n",
            "[MoviePy] Writing audio in new_videoTEMP_MPY_wvf_snd.mp3\n"
          ],
          "name": "stdout"
        },
        {
          "output_type": "stream",
          "text": [
            "100%|██████████| 1326/1326 [00:01<00:00, 1030.16it/s]"
          ],
          "name": "stderr"
        },
        {
          "output_type": "stream",
          "text": [
            "[MoviePy] Done.\n",
            "[MoviePy] Writing video new_video.mp4\n"
          ],
          "name": "stdout"
        },
        {
          "output_type": "stream",
          "text": [
            "\n",
            "100%|█████████▉| 1803/1804 [00:08<00:00, 222.92it/s]"
          ],
          "name": "stderr"
        },
        {
          "output_type": "stream",
          "text": [
            "[MoviePy] Done.\n",
            "[MoviePy] >>>> Video ready: new_video.mp4 \n",
            "\n"
          ],
          "name": "stdout"
        },
        {
          "output_type": "stream",
          "text": [
            "\n"
          ],
          "name": "stderr"
        },
        {
          "output_type": "stream",
          "text": [
            "(8140, 8, 2048)\n",
            "Copy of Normal_Videos_915_x264_Trim.mp4\n",
            "(3, 8, 2048)\n",
            "(8143, 8, 2048)\n",
            "[MoviePy] >>>> Building video new_video.mp4\n",
            "[MoviePy] Writing video new_video.mp4\n"
          ],
          "name": "stdout"
        },
        {
          "output_type": "stream",
          "text": [
            "100%|██████████| 919/919 [00:04<00:00, 191.84it/s]\n"
          ],
          "name": "stderr"
        },
        {
          "output_type": "stream",
          "text": [
            "[MoviePy] Done.\n",
            "[MoviePy] >>>> Video ready: new_video.mp4 \n",
            "\n",
            "(8146, 8, 2048)\n",
            "Copy of Normal_Videos_914_x264.mp4\n",
            "(3, 8, 2048)\n",
            "(8149, 8, 2048)\n",
            "[MoviePy] >>>> Building video new_video.mp4\n",
            "[MoviePy] Writing video new_video.mp4\n"
          ],
          "name": "stdout"
        },
        {
          "output_type": "stream",
          "text": [
            "100%|██████████| 880/880 [00:04<00:00, 210.56it/s]"
          ],
          "name": "stderr"
        },
        {
          "output_type": "stream",
          "text": [
            "[MoviePy] Done.\n",
            "[MoviePy] >>>> Video ready: new_video.mp4 \n",
            "\n"
          ],
          "name": "stdout"
        },
        {
          "output_type": "stream",
          "text": [
            "\n"
          ],
          "name": "stderr"
        },
        {
          "output_type": "stream",
          "text": [
            "(8152, 8, 2048)\n",
            "Copy of Normal_Videos_927_x264.mp4\n",
            "(6, 8, 2048)\n",
            "(8158, 8, 2048)\n",
            "[MoviePy] >>>> Building video new_video.mp4\n",
            "[MoviePy] Writing audio in new_videoTEMP_MPY_wvf_snd.mp3\n"
          ],
          "name": "stdout"
        },
        {
          "output_type": "stream",
          "text": [
            "100%|██████████| 1202/1202 [00:00<00:00, 1484.74it/s]"
          ],
          "name": "stderr"
        },
        {
          "output_type": "stream",
          "text": [
            "[MoviePy] Done.\n",
            "[MoviePy] Writing video new_video.mp4\n"
          ],
          "name": "stdout"
        },
        {
          "output_type": "stream",
          "text": [
            "\n",
            "100%|██████████| 1635/1635 [00:08<00:00, 197.03it/s]\n"
          ],
          "name": "stderr"
        },
        {
          "output_type": "stream",
          "text": [
            "[MoviePy] Done.\n",
            "[MoviePy] >>>> Video ready: new_video.mp4 \n",
            "\n",
            "(8164, 8, 2048)\n",
            "Copy of Normal_Videos_928_x264.mp4\n",
            "(3, 8, 2048)\n",
            "(8167, 8, 2048)\n",
            "[MoviePy] >>>> Building video new_video.mp4\n",
            "[MoviePy] Writing audio in new_videoTEMP_MPY_wvf_snd.mp3\n"
          ],
          "name": "stdout"
        },
        {
          "output_type": "stream",
          "text": [
            "100%|██████████| 676/676 [00:00<00:00, 930.73it/s]"
          ],
          "name": "stderr"
        },
        {
          "output_type": "stream",
          "text": [
            "[MoviePy] Done.\n",
            "[MoviePy] Writing video new_video.mp4\n"
          ],
          "name": "stdout"
        },
        {
          "output_type": "stream",
          "text": [
            "\n",
            "100%|██████████| 920/920 [00:05<00:00, 172.80it/s]\n"
          ],
          "name": "stderr"
        },
        {
          "output_type": "stream",
          "text": [
            "[MoviePy] Done.\n",
            "[MoviePy] >>>> Video ready: new_video.mp4 \n",
            "\n",
            "(8170, 8, 2048)\n",
            "Copy of Normal_Videos_926_x264_Trim.mp4\n",
            "(2, 8, 2048)\n",
            "(8172, 8, 2048)\n",
            "[MoviePy] >>>> Building video new_video.mp4\n",
            "[MoviePy] Writing audio in new_videoTEMP_MPY_wvf_snd.mp3\n"
          ],
          "name": "stdout"
        },
        {
          "output_type": "stream",
          "text": [
            "100%|██████████| 448/448 [00:00<00:00, 1026.68it/s]"
          ],
          "name": "stderr"
        },
        {
          "output_type": "stream",
          "text": [
            "[MoviePy] Done.\n",
            "[MoviePy] Writing video new_video.mp4\n"
          ],
          "name": "stdout"
        },
        {
          "output_type": "stream",
          "text": [
            "\n",
            "100%|█████████▉| 609/610 [00:02<00:00, 230.73it/s]\n"
          ],
          "name": "stderr"
        },
        {
          "output_type": "stream",
          "text": [
            "[MoviePy] Done.\n",
            "[MoviePy] >>>> Video ready: new_video.mp4 \n",
            "\n",
            "(8174, 8, 2048)\n",
            "Copy of Normal_Videos_925_x264_Trim.mp4\n",
            "(7, 8, 2048)\n",
            "(8181, 8, 2048)\n",
            "[MoviePy] >>>> Building video new_video.mp4\n",
            "[MoviePy] Writing audio in new_videoTEMP_MPY_wvf_snd.mp3\n"
          ],
          "name": "stdout"
        },
        {
          "output_type": "stream",
          "text": [
            "100%|██████████| 1332/1332 [00:01<00:00, 1028.08it/s]"
          ],
          "name": "stderr"
        },
        {
          "output_type": "stream",
          "text": [
            "[MoviePy] Done.\n",
            "[MoviePy] Writing video new_video.mp4\n"
          ],
          "name": "stdout"
        },
        {
          "output_type": "stream",
          "text": [
            "\n",
            "100%|██████████| 1812/1812 [00:08<00:00, 207.11it/s]\n"
          ],
          "name": "stderr"
        },
        {
          "output_type": "stream",
          "text": [
            "[MoviePy] Done.\n",
            "[MoviePy] >>>> Video ready: new_video.mp4 \n",
            "\n",
            "(8188, 8, 2048)\n",
            "Copy of Normal_Videos_929_x264.mp4\n",
            "(3, 8, 2048)\n",
            "(8191, 8, 2048)\n",
            "[MoviePy] >>>> Building video new_video.mp4\n",
            "[MoviePy] Writing audio in new_videoTEMP_MPY_wvf_snd.mp3\n"
          ],
          "name": "stdout"
        },
        {
          "output_type": "stream",
          "text": [
            "100%|██████████| 682/682 [00:00<00:00, 832.40it/s]"
          ],
          "name": "stderr"
        },
        {
          "output_type": "stream",
          "text": [
            "[MoviePy] Done.\n",
            "[MoviePy] Writing video new_video.mp4\n"
          ],
          "name": "stdout"
        },
        {
          "output_type": "stream",
          "text": [
            "\n",
            "100%|██████████| 928/928 [00:04<00:00, 222.90it/s]\n"
          ],
          "name": "stderr"
        },
        {
          "output_type": "stream",
          "text": [
            "[MoviePy] Done.\n",
            "[MoviePy] >>>> Video ready: new_video.mp4 \n",
            "\n",
            "(8194, 8, 2048)\n",
            "Copy of Normal_Videos_924_x264_Trim.mp4\n",
            "(7, 8, 2048)\n",
            "(8201, 8, 2048)\n",
            "[MoviePy] >>>> Building video new_video.mp4\n",
            "[MoviePy] Writing audio in new_videoTEMP_MPY_wvf_snd.mp3\n"
          ],
          "name": "stdout"
        },
        {
          "output_type": "stream",
          "text": [
            "100%|██████████| 1349/1349 [00:01<00:00, 1017.75it/s]"
          ],
          "name": "stderr"
        },
        {
          "output_type": "stream",
          "text": [
            "[MoviePy] Done.\n",
            "[MoviePy] Writing video new_video.mp4\n"
          ],
          "name": "stdout"
        },
        {
          "output_type": "stream",
          "text": [
            "\n",
            "100%|██████████| 1835/1835 [00:07<00:00, 230.68it/s]\n"
          ],
          "name": "stderr"
        },
        {
          "output_type": "stream",
          "text": [
            "[MoviePy] Done.\n",
            "[MoviePy] >>>> Video ready: new_video.mp4 \n",
            "\n",
            "(8208, 8, 2048)\n",
            "Copy of Normal_Videos_912_x264.mp4\n",
            "(3, 8, 2048)\n",
            "(8211, 8, 2048)\n",
            "[MoviePy] >>>> Building video new_video.mp4\n",
            "[MoviePy] Writing video new_video.mp4\n"
          ],
          "name": "stdout"
        },
        {
          "output_type": "stream",
          "text": [
            "100%|██████████| 747/747 [00:03<00:00, 215.99it/s]\n"
          ],
          "name": "stderr"
        },
        {
          "output_type": "stream",
          "text": [
            "[MoviePy] Done.\n",
            "[MoviePy] >>>> Video ready: new_video.mp4 \n",
            "\n",
            "(8214, 8, 2048)\n",
            "Copy of Normal_Videos_906_x264.mp4\n",
            "(2, 8, 2048)\n",
            "(8216, 8, 2048)\n",
            "[MoviePy] >>>> Building video new_video.mp4\n",
            "[MoviePy] Writing video new_video.mp4\n"
          ],
          "name": "stdout"
        },
        {
          "output_type": "stream",
          "text": [
            "100%|██████████| 676/676 [00:03<00:00, 193.31it/s]\n"
          ],
          "name": "stderr"
        },
        {
          "output_type": "stream",
          "text": [
            "[MoviePy] Done.\n",
            "[MoviePy] >>>> Video ready: new_video.mp4 \n",
            "\n",
            "(8218, 8, 2048)\n",
            "Copy of Normal_Videos_908_x264.mp4\n",
            "(3, 8, 2048)\n",
            "(8221, 8, 2048)\n",
            "[MoviePy] >>>> Building video new_video.mp4\n",
            "[MoviePy] Writing video new_video.mp4\n"
          ],
          "name": "stdout"
        },
        {
          "output_type": "stream",
          "text": [
            "100%|██████████| 889/889 [00:04<00:00, 198.26it/s]\n"
          ],
          "name": "stderr"
        },
        {
          "output_type": "stream",
          "text": [
            "[MoviePy] Done.\n",
            "[MoviePy] >>>> Video ready: new_video.mp4 \n",
            "\n",
            "(8224, 8, 2048)\n",
            "Copy of Normal_Videos_904_x264.mp4\n",
            "(3, 8, 2048)\n",
            "(8227, 8, 2048)\n",
            "[MoviePy] >>>> Building video new_video.mp4\n",
            "[MoviePy] Writing video new_video.mp4\n"
          ],
          "name": "stdout"
        },
        {
          "output_type": "stream",
          "text": [
            "100%|██████████| 909/909 [00:03<00:00, 236.90it/s]"
          ],
          "name": "stderr"
        },
        {
          "output_type": "stream",
          "text": [
            "[MoviePy] Done.\n",
            "[MoviePy] >>>> Video ready: new_video.mp4 \n",
            "\n"
          ],
          "name": "stdout"
        },
        {
          "output_type": "stream",
          "text": [
            "\n"
          ],
          "name": "stderr"
        },
        {
          "output_type": "stream",
          "text": [
            "(8230, 8, 2048)\n",
            "Copy of Normal_Videos_910_x264.mp4\n",
            "(2, 8, 2048)\n",
            "(8232, 8, 2048)\n",
            "[MoviePy] >>>> Building video new_video.mp4\n",
            "[MoviePy] Writing video new_video.mp4\n"
          ],
          "name": "stdout"
        },
        {
          "output_type": "stream",
          "text": [
            "100%|█████████▉| 567/568 [00:03<00:00, 175.36it/s]\n"
          ],
          "name": "stderr"
        },
        {
          "output_type": "stream",
          "text": [
            "[MoviePy] Done.\n",
            "[MoviePy] >>>> Video ready: new_video.mp4 \n",
            "\n",
            "(8234, 8, 2048)\n",
            "Copy of Normal_Videos_911_x264.mp4\n",
            "(3, 8, 2048)\n",
            "(8237, 8, 2048)\n",
            "[MoviePy] >>>> Building video new_video.mp4\n",
            "[MoviePy] Writing video new_video.mp4\n"
          ],
          "name": "stdout"
        },
        {
          "output_type": "stream",
          "text": [
            "100%|██████████| 777/777 [00:03<00:00, 226.11it/s]"
          ],
          "name": "stderr"
        },
        {
          "output_type": "stream",
          "text": [
            "[MoviePy] Done.\n",
            "[MoviePy] >>>> Video ready: new_video.mp4 \n",
            "\n"
          ],
          "name": "stdout"
        },
        {
          "output_type": "stream",
          "text": [
            "\n"
          ],
          "name": "stderr"
        },
        {
          "output_type": "stream",
          "text": [
            "(8240, 8, 2048)\n",
            "Copy of Normal_Videos_907_x264.mp4\n",
            "(2, 8, 2048)\n",
            "(8242, 8, 2048)\n",
            "[MoviePy] >>>> Building video new_video.mp4\n",
            "[MoviePy] Writing video new_video.mp4\n"
          ],
          "name": "stdout"
        },
        {
          "output_type": "stream",
          "text": [
            "100%|██████████| 598/598 [00:03<00:00, 185.79it/s]\n"
          ],
          "name": "stderr"
        },
        {
          "output_type": "stream",
          "text": [
            "[MoviePy] Done.\n",
            "[MoviePy] >>>> Video ready: new_video.mp4 \n",
            "\n",
            "(8244, 8, 2048)\n",
            "Copy of Normal_Videos_913_x264.mp4\n",
            "(2, 8, 2048)\n",
            "(8246, 8, 2048)\n",
            "[MoviePy] >>>> Building video new_video.mp4\n",
            "[MoviePy] Writing video new_video.mp4\n"
          ],
          "name": "stdout"
        },
        {
          "output_type": "stream",
          "text": [
            "100%|█████████▉| 609/610 [00:03<00:00, 183.79it/s]\n"
          ],
          "name": "stderr"
        },
        {
          "output_type": "stream",
          "text": [
            "[MoviePy] Done.\n",
            "[MoviePy] >>>> Video ready: new_video.mp4 \n",
            "\n",
            "(8248, 8, 2048)\n",
            "Copy of Normal_Videos_909_x264.mp4\n",
            "(3, 8, 2048)\n",
            "(8251, 8, 2048)\n",
            "[MoviePy] >>>> Building video new_video.mp4\n",
            "[MoviePy] Writing video new_video.mp4\n"
          ],
          "name": "stdout"
        },
        {
          "output_type": "stream",
          "text": [
            "100%|█████████▉| 870/871 [00:05<00:00, 166.69it/s]\n"
          ],
          "name": "stderr"
        },
        {
          "output_type": "stream",
          "text": [
            "[MoviePy] Done.\n",
            "[MoviePy] >>>> Video ready: new_video.mp4 \n",
            "\n",
            "(8254, 8, 2048)\n",
            "Copy of Normal_Videos_905_x264.mp4\n",
            "(5, 8, 2048)\n",
            "(8259, 8, 2048)\n",
            "[MoviePy] >>>> Building video new_video.mp4\n",
            "[MoviePy] Writing video new_video.mp4\n"
          ],
          "name": "stdout"
        },
        {
          "output_type": "stream",
          "text": [
            "100%|██████████| 1197/1197 [00:05<00:00, 227.80it/s]"
          ],
          "name": "stderr"
        },
        {
          "output_type": "stream",
          "text": [
            "[MoviePy] Done.\n",
            "[MoviePy] >>>> Video ready: new_video.mp4 \n",
            "\n"
          ],
          "name": "stdout"
        },
        {
          "output_type": "stream",
          "text": [
            "\n"
          ],
          "name": "stderr"
        },
        {
          "output_type": "stream",
          "text": [
            "(8264, 8, 2048)\n",
            "Copy of Normal_Videos_897_x264.mp4\n",
            "(3, 8, 2048)\n",
            "(8267, 8, 2048)\n",
            "[MoviePy] >>>> Building video new_video.mp4\n",
            "[MoviePy] Writing audio in new_videoTEMP_MPY_wvf_snd.mp3\n"
          ],
          "name": "stdout"
        },
        {
          "output_type": "stream",
          "text": [
            "100%|██████████| 644/644 [00:00<00:00, 1441.99it/s]"
          ],
          "name": "stderr"
        },
        {
          "output_type": "stream",
          "text": [
            "[MoviePy] Done.\n",
            "[MoviePy] Writing video new_video.mp4\n"
          ],
          "name": "stdout"
        },
        {
          "output_type": "stream",
          "text": [
            "\n",
            "100%|██████████| 876/876 [00:03<00:00, 219.31it/s]\n"
          ],
          "name": "stderr"
        },
        {
          "output_type": "stream",
          "text": [
            "[MoviePy] Done.\n",
            "[MoviePy] >>>> Video ready: new_video.mp4 \n",
            "\n",
            "(8270, 8, 2048)\n",
            "Copy of Normal_Videos_901_x264.mp4\n",
            "(4, 8, 2048)\n",
            "(8274, 8, 2048)\n",
            "[MoviePy] >>>> Building video new_video.mp4\n",
            "[MoviePy] Writing video new_video.mp4\n"
          ],
          "name": "stdout"
        },
        {
          "output_type": "stream",
          "text": [
            "100%|█████████▉| 1170/1171 [00:07<00:00, 158.29it/s]\n"
          ],
          "name": "stderr"
        },
        {
          "output_type": "stream",
          "text": [
            "[MoviePy] Done.\n",
            "[MoviePy] >>>> Video ready: new_video.mp4 \n",
            "\n",
            "(8278, 8, 2048)\n",
            "Copy of Normal_Videos_895_x264_Trim.mp4\n",
            "(7, 8, 2048)\n",
            "(8285, 8, 2048)\n",
            "[MoviePy] >>>> Building video new_video.mp4\n",
            "[MoviePy] Writing audio in new_videoTEMP_MPY_wvf_snd.mp3\n"
          ],
          "name": "stdout"
        },
        {
          "output_type": "stream",
          "text": [
            "100%|██████████| 1345/1345 [00:01<00:00, 1021.86it/s]"
          ],
          "name": "stderr"
        },
        {
          "output_type": "stream",
          "text": [
            "[MoviePy] Done.\n",
            "[MoviePy] Writing video new_video.mp4\n"
          ],
          "name": "stdout"
        },
        {
          "output_type": "stream",
          "text": [
            "\n",
            "100%|██████████| 1830/1830 [00:08<00:00, 223.19it/s]\n"
          ],
          "name": "stderr"
        },
        {
          "output_type": "stream",
          "text": [
            "[MoviePy] Done.\n",
            "[MoviePy] >>>> Video ready: new_video.mp4 \n",
            "\n",
            "(8292, 8, 2048)\n",
            "Copy of Normal_Videos_896_x264_Trim.mp4\n",
            "(2, 8, 2048)\n",
            "(8294, 8, 2048)\n",
            "[MoviePy] >>>> Building video new_video.mp4\n",
            "[MoviePy] Writing audio in new_videoTEMP_MPY_wvf_snd.mp3\n"
          ],
          "name": "stdout"
        },
        {
          "output_type": "stream",
          "text": [
            "100%|██████████| 451/451 [00:00<00:00, 963.76it/s]"
          ],
          "name": "stderr"
        },
        {
          "output_type": "stream",
          "text": [
            "[MoviePy] Done.\n",
            "[MoviePy] Writing video new_video.mp4\n"
          ],
          "name": "stdout"
        },
        {
          "output_type": "stream",
          "text": [
            "\n",
            "100%|██████████| 613/613 [00:02<00:00, 223.36it/s]\n"
          ],
          "name": "stderr"
        },
        {
          "output_type": "stream",
          "text": [
            "[MoviePy] Done.\n",
            "[MoviePy] >>>> Video ready: new_video.mp4 \n",
            "\n",
            "(8296, 8, 2048)\n",
            "Copy of Normal_Videos_899_x264.mp4\n",
            "(5, 8, 2048)\n",
            "(8301, 8, 2048)\n",
            "[MoviePy] >>>> Building video new_video.mp4\n",
            "[MoviePy] Writing audio in new_videoTEMP_MPY_wvf_snd.mp3\n"
          ],
          "name": "stdout"
        },
        {
          "output_type": "stream",
          "text": [
            "100%|██████████| 1016/1016 [00:00<00:00, 1443.83it/s]"
          ],
          "name": "stderr"
        },
        {
          "output_type": "stream",
          "text": [
            "[MoviePy] Done.\n",
            "[MoviePy] Writing video new_video.mp4\n"
          ],
          "name": "stdout"
        },
        {
          "output_type": "stream",
          "text": [
            "\n",
            "100%|██████████| 1382/1382 [00:07<00:00, 187.41it/s]\n"
          ],
          "name": "stderr"
        },
        {
          "output_type": "stream",
          "text": [
            "[MoviePy] Done.\n",
            "[MoviePy] >>>> Video ready: new_video.mp4 \n",
            "\n",
            "(8306, 8, 2048)\n",
            "Copy of Normal_Videos_902_x264.mp4\n",
            "(5, 8, 2048)\n",
            "(8311, 8, 2048)\n",
            "[MoviePy] >>>> Building video new_video.mp4\n",
            "[MoviePy] Writing video new_video.mp4\n"
          ],
          "name": "stdout"
        },
        {
          "output_type": "stream",
          "text": [
            "100%|██████████| 1384/1384 [00:08<00:00, 165.27it/s]\n"
          ],
          "name": "stderr"
        },
        {
          "output_type": "stream",
          "text": [
            "[MoviePy] Done.\n",
            "[MoviePy] >>>> Video ready: new_video.mp4 \n",
            "\n",
            "(8316, 8, 2048)\n",
            "Copy of Normal_Videos_898_x264.mp4\n",
            "(4, 8, 2048)\n",
            "(8320, 8, 2048)\n",
            "[MoviePy] >>>> Building video new_video.mp4\n",
            "[MoviePy] Writing audio in new_videoTEMP_MPY_wvf_snd.mp3\n"
          ],
          "name": "stdout"
        },
        {
          "output_type": "stream",
          "text": [
            "100%|██████████| 740/740 [00:00<00:00, 1398.32it/s]"
          ],
          "name": "stderr"
        },
        {
          "output_type": "stream",
          "text": [
            "[MoviePy] Done.\n",
            "[MoviePy] Writing video new_video.mp4\n"
          ],
          "name": "stdout"
        },
        {
          "output_type": "stream",
          "text": [
            "\n",
            "100%|██████████| 1007/1007 [00:05<00:00, 182.50it/s]\n"
          ],
          "name": "stderr"
        },
        {
          "output_type": "stream",
          "text": [
            "[MoviePy] Done.\n",
            "[MoviePy] >>>> Video ready: new_video.mp4 \n",
            "\n",
            "(8324, 8, 2048)\n",
            "Copy of Normal_Videos_903_x264.mp4\n",
            "(3, 8, 2048)\n",
            "(8327, 8, 2048)\n",
            "[MoviePy] >>>> Building video new_video.mp4\n",
            "[MoviePy] Writing video new_video.mp4\n"
          ],
          "name": "stdout"
        },
        {
          "output_type": "stream",
          "text": [
            "100%|██████████| 790/790 [00:03<00:00, 207.51it/s]\n"
          ],
          "name": "stderr"
        },
        {
          "output_type": "stream",
          "text": [
            "[MoviePy] Done.\n",
            "[MoviePy] >>>> Video ready: new_video.mp4 \n",
            "\n",
            "(8330, 8, 2048)\n",
            "Copy of Normal_Videos_894_x264_Trim.mp4\n",
            "(6, 8, 2048)\n",
            "(8336, 8, 2048)\n",
            "[MoviePy] >>>> Building video new_video.mp4\n",
            "[MoviePy] Writing audio in new_videoTEMP_MPY_wvf_snd.mp3\n"
          ],
          "name": "stdout"
        },
        {
          "output_type": "stream",
          "text": [
            "100%|██████████| 1113/1113 [00:01<00:00, 1022.02it/s]"
          ],
          "name": "stderr"
        },
        {
          "output_type": "stream",
          "text": [
            "[MoviePy] Done.\n",
            "[MoviePy] Writing video new_video.mp4\n"
          ],
          "name": "stdout"
        },
        {
          "output_type": "stream",
          "text": [
            "\n",
            "100%|██████████| 1515/1515 [00:08<00:00, 184.74it/s]\n"
          ],
          "name": "stderr"
        },
        {
          "output_type": "stream",
          "text": [
            "[MoviePy] Done.\n",
            "[MoviePy] >>>> Video ready: new_video.mp4 \n",
            "\n",
            "(8342, 8, 2048)\n",
            "Copy of Normal_Videos_900_x264.mp4\n",
            "(6, 8, 2048)\n",
            "(8348, 8, 2048)\n",
            "[MoviePy] >>>> Building video new_video.mp4\n",
            "[MoviePy] Writing audio in new_videoTEMP_MPY_wvf_snd.mp3\n"
          ],
          "name": "stdout"
        },
        {
          "output_type": "stream",
          "text": [
            "100%|██████████| 1072/1072 [00:00<00:00, 1396.13it/s]"
          ],
          "name": "stderr"
        },
        {
          "output_type": "stream",
          "text": [
            "[MoviePy] Done.\n",
            "[MoviePy] Writing video new_video.mp4\n"
          ],
          "name": "stdout"
        },
        {
          "output_type": "stream",
          "text": [
            "\n",
            "100%|██████████| 1458/1458 [00:07<00:00, 195.85it/s]\n"
          ],
          "name": "stderr"
        },
        {
          "output_type": "stream",
          "text": [
            "[MoviePy] Done.\n",
            "[MoviePy] >>>> Video ready: new_video.mp4 \n",
            "\n",
            "(8354, 8, 2048)\n",
            "Copy of Normal_Videos_891_x264.mp4\n",
            "(7, 8, 2048)\n",
            "(8361, 8, 2048)\n",
            "[MoviePy] >>>> Building video new_video.mp4\n",
            "[MoviePy] Writing audio in new_videoTEMP_MPY_wvf_snd.mp3\n"
          ],
          "name": "stdout"
        },
        {
          "output_type": "stream",
          "text": [
            "100%|██████████| 1324/1324 [00:00<00:00, 1457.91it/s]"
          ],
          "name": "stderr"
        },
        {
          "output_type": "stream",
          "text": [
            "[MoviePy] Done.\n",
            "[MoviePy] Writing video new_video.mp4\n"
          ],
          "name": "stdout"
        },
        {
          "output_type": "stream",
          "text": [
            "\n",
            "100%|██████████| 1801/1801 [00:09<00:00, 196.45it/s]\n"
          ],
          "name": "stderr"
        },
        {
          "output_type": "stream",
          "text": [
            "[MoviePy] Done.\n",
            "[MoviePy] >>>> Video ready: new_video.mp4 \n",
            "\n",
            "(8368, 8, 2048)\n",
            "Copy of Normal_Videos_890_x264_Trim.mp4\n",
            "(7, 8, 2048)\n",
            "(8375, 8, 2048)\n",
            "[MoviePy] >>>> Building video new_video.mp4\n",
            "[MoviePy] Writing audio in new_videoTEMP_MPY_wvf_snd.mp3\n"
          ],
          "name": "stdout"
        },
        {
          "output_type": "stream",
          "text": [
            "100%|██████████| 1344/1344 [00:01<00:00, 1023.95it/s]\n"
          ],
          "name": "stderr"
        },
        {
          "output_type": "stream",
          "text": [
            "[MoviePy] Done.\n",
            "[MoviePy] Writing video new_video.mp4\n"
          ],
          "name": "stdout"
        },
        {
          "output_type": "stream",
          "text": [
            "100%|██████████| 1828/1828 [00:08<00:00, 214.34it/s]\n"
          ],
          "name": "stderr"
        },
        {
          "output_type": "stream",
          "text": [
            "[MoviePy] Done.\n",
            "[MoviePy] >>>> Video ready: new_video.mp4 \n",
            "\n",
            "(8382, 8, 2048)\n",
            "Copy of Normal_Videos_893_x264_Trim.mp4\n",
            "(7, 8, 2048)\n",
            "(8389, 8, 2048)\n",
            "[MoviePy] >>>> Building video new_video.mp4\n",
            "[MoviePy] Writing audio in new_videoTEMP_MPY_wvf_snd.mp3\n"
          ],
          "name": "stdout"
        },
        {
          "output_type": "stream",
          "text": [
            "100%|██████████| 1331/1331 [00:01<00:00, 988.63it/s]"
          ],
          "name": "stderr"
        },
        {
          "output_type": "stream",
          "text": [
            "[MoviePy] Done.\n",
            "[MoviePy] Writing video new_video.mp4\n"
          ],
          "name": "stdout"
        },
        {
          "output_type": "stream",
          "text": [
            "\n",
            "100%|██████████| 1810/1810 [00:08<00:00, 211.96it/s]\n"
          ],
          "name": "stderr"
        },
        {
          "output_type": "stream",
          "text": [
            "[MoviePy] Done.\n",
            "[MoviePy] >>>> Video ready: new_video.mp4 \n",
            "\n",
            "(8396, 8, 2048)\n",
            "Copy of Normal_Videos_892_x264.mp4\n",
            "(7, 8, 2048)\n",
            "(8403, 8, 2048)\n",
            "[MoviePy] >>>> Building video new_video.mp4\n",
            "[MoviePy] Writing audio in new_videoTEMP_MPY_wvf_snd.mp3\n"
          ],
          "name": "stdout"
        },
        {
          "output_type": "stream",
          "text": [
            "100%|██████████| 1302/1302 [00:00<00:00, 1362.95it/s]"
          ],
          "name": "stderr"
        },
        {
          "output_type": "stream",
          "text": [
            "[MoviePy] Done.\n",
            "[MoviePy] Writing video new_video.mp4\n"
          ],
          "name": "stdout"
        },
        {
          "output_type": "stream",
          "text": [
            "\n",
            "100%|██████████| 1771/1771 [00:08<00:00, 205.88it/s]\n"
          ],
          "name": "stderr"
        },
        {
          "output_type": "stream",
          "text": [
            "[MoviePy] Done.\n",
            "[MoviePy] >>>> Video ready: new_video.mp4 \n",
            "\n",
            "(8410, 8, 2048)\n",
            "Copy of Normal_Videos_884_x264_Trim.mp4\n",
            "(7, 8, 2048)\n",
            "(8417, 8, 2048)\n",
            "[MoviePy] >>>> Building video new_video.mp4\n",
            "[MoviePy] Writing audio in new_videoTEMP_MPY_wvf_snd.mp3\n"
          ],
          "name": "stdout"
        },
        {
          "output_type": "stream",
          "text": [
            "100%|██████████| 1338/1338 [00:01<00:00, 992.06it/s]"
          ],
          "name": "stderr"
        },
        {
          "output_type": "stream",
          "text": [
            "[MoviePy] Done.\n",
            "[MoviePy] Writing video new_video.mp4\n"
          ],
          "name": "stdout"
        },
        {
          "output_type": "stream",
          "text": [
            "\n",
            "100%|██████████| 1821/1821 [00:10<00:00, 175.23it/s]\n"
          ],
          "name": "stderr"
        },
        {
          "output_type": "stream",
          "text": [
            "[MoviePy] Done.\n",
            "[MoviePy] >>>> Video ready: new_video.mp4 \n",
            "\n",
            "(8424, 8, 2048)\n",
            "Copy of Normal_Videos_886_x264_Trim.mp4\n",
            "(6, 8, 2048)\n",
            "(8430, 8, 2048)\n",
            "[MoviePy] >>>> Building video new_video.mp4\n",
            "[MoviePy] Writing audio in new_videoTEMP_MPY_wvf_snd.mp3\n"
          ],
          "name": "stdout"
        },
        {
          "output_type": "stream",
          "text": [
            "100%|██████████| 1120/1120 [00:01<00:00, 873.72it/s]"
          ],
          "name": "stderr"
        },
        {
          "output_type": "stream",
          "text": [
            "[MoviePy] Done.\n",
            "[MoviePy] Writing video new_video.mp4\n"
          ],
          "name": "stdout"
        },
        {
          "output_type": "stream",
          "text": [
            "\n",
            "100%|██████████| 1524/1524 [00:06<00:00, 234.55it/s]"
          ],
          "name": "stderr"
        },
        {
          "output_type": "stream",
          "text": [
            "[MoviePy] Done.\n",
            "[MoviePy] >>>> Video ready: new_video.mp4 \n",
            "\n"
          ],
          "name": "stdout"
        },
        {
          "output_type": "stream",
          "text": [
            "\n"
          ],
          "name": "stderr"
        },
        {
          "output_type": "stream",
          "text": [
            "(8436, 8, 2048)\n",
            "Copy of Normal_Videos_885_x264.mp4\n",
            "(2, 8, 2048)\n",
            "(8438, 8, 2048)\n",
            "[MoviePy] >>>> Building video new_video.mp4\n",
            "[MoviePy] Writing audio in new_videoTEMP_MPY_wvf_snd.mp3\n"
          ],
          "name": "stdout"
        },
        {
          "output_type": "stream",
          "text": [
            "100%|██████████| 351/351 [00:00<00:00, 1429.32it/s]"
          ],
          "name": "stderr"
        },
        {
          "output_type": "stream",
          "text": [
            "[MoviePy] Done.\n",
            "[MoviePy] Writing video new_video.mp4\n"
          ],
          "name": "stdout"
        },
        {
          "output_type": "stream",
          "text": [
            "\n",
            "100%|██████████| 477/477 [00:02<00:00, 225.21it/s]\n"
          ],
          "name": "stderr"
        },
        {
          "output_type": "stream",
          "text": [
            "[MoviePy] Done.\n",
            "[MoviePy] >>>> Video ready: new_video.mp4 \n",
            "\n",
            "(8440, 8, 2048)\n",
            "Copy of Normal_Videos_888_x264.mp4\n",
            "(2, 8, 2048)\n",
            "(8442, 8, 2048)\n",
            "[MoviePy] >>>> Building video new_video.mp4\n",
            "[MoviePy] Writing audio in new_videoTEMP_MPY_wvf_snd.mp3\n"
          ],
          "name": "stdout"
        },
        {
          "output_type": "stream",
          "text": [
            "100%|██████████| 426/426 [00:00<00:00, 1417.69it/s]"
          ],
          "name": "stderr"
        },
        {
          "output_type": "stream",
          "text": [
            "[MoviePy] Done.\n",
            "[MoviePy] Writing video new_video.mp4\n"
          ],
          "name": "stdout"
        },
        {
          "output_type": "stream",
          "text": [
            "\n",
            "100%|██████████| 580/580 [00:02<00:00, 217.90it/s]\n"
          ],
          "name": "stderr"
        },
        {
          "output_type": "stream",
          "text": [
            "[MoviePy] Done.\n",
            "[MoviePy] >>>> Video ready: new_video.mp4 \n",
            "\n",
            "(8444, 8, 2048)\n",
            "Copy of Normal_Videos_889_x264.mp4\n",
            "(1, 8, 2048)\n",
            "(8445, 8, 2048)\n",
            "[MoviePy] >>>> Building video new_video.mp4\n",
            "[MoviePy] Writing audio in new_videoTEMP_MPY_wvf_snd.mp3\n"
          ],
          "name": "stdout"
        },
        {
          "output_type": "stream",
          "text": [
            "100%|██████████| 234/234 [00:00<00:00, 790.03it/s]"
          ],
          "name": "stderr"
        },
        {
          "output_type": "stream",
          "text": [
            "[MoviePy] Done.\n",
            "[MoviePy] Writing video new_video.mp4\n"
          ],
          "name": "stdout"
        },
        {
          "output_type": "stream",
          "text": [
            "\n",
            "100%|█████████▉| 318/319 [00:01<00:00, 251.80it/s]\n"
          ],
          "name": "stderr"
        },
        {
          "output_type": "stream",
          "text": [
            "[MoviePy] Done.\n",
            "[MoviePy] >>>> Video ready: new_video.mp4 \n",
            "\n",
            "(8446, 8, 2048)\n",
            "Copy of Normal_Videos_887_x264_Trim.mp4\n",
            "(15, 8, 2048)\n",
            "(8461, 8, 2048)\n",
            "[MoviePy] >>>> Building video new_video.mp4\n",
            "[MoviePy] Writing audio in new_videoTEMP_MPY_wvf_snd.mp3\n"
          ],
          "name": "stdout"
        },
        {
          "output_type": "stream",
          "text": [
            "100%|██████████| 2653/2653 [00:02<00:00, 990.87it/s] "
          ],
          "name": "stderr"
        },
        {
          "output_type": "stream",
          "text": [
            "[MoviePy] Done.\n",
            "[MoviePy] Writing video new_video.mp4\n"
          ],
          "name": "stdout"
        },
        {
          "output_type": "stream",
          "text": [
            "\n",
            "100%|█████████▉| 3609/3610 [00:16<00:00, 212.77it/s]\n"
          ],
          "name": "stderr"
        },
        {
          "output_type": "stream",
          "text": [
            "[MoviePy] Done.\n",
            "[MoviePy] >>>> Video ready: new_video.mp4 \n",
            "\n",
            "(8476, 8, 2048)\n",
            "Copy of Normal_Videos_882_x264.mp4\n",
            "(7, 8, 2048)\n",
            "(8483, 8, 2048)\n",
            "[MoviePy] >>>> Building video new_video.mp4\n",
            "[MoviePy] Writing audio in new_videoTEMP_MPY_wvf_snd.mp3\n"
          ],
          "name": "stdout"
        },
        {
          "output_type": "stream",
          "text": [
            "100%|██████████| 1219/1219 [00:01<00:00, 737.34it/s]\n"
          ],
          "name": "stderr"
        },
        {
          "output_type": "stream",
          "text": [
            "[MoviePy] Done.\n",
            "[MoviePy] Writing video new_video.mp4\n"
          ],
          "name": "stdout"
        },
        {
          "output_type": "stream",
          "text": [
            "100%|██████████| 1658/1658 [00:09<00:00, 180.08it/s]\n"
          ],
          "name": "stderr"
        },
        {
          "output_type": "stream",
          "text": [
            "[MoviePy] Done.\n",
            "[MoviePy] >>>> Video ready: new_video.mp4 \n",
            "\n",
            "(8490, 8, 2048)\n",
            "Copy of Normal_Videos_878_x264.mp4\n",
            "(1, 8, 2048)\n",
            "(8491, 8, 2048)\n",
            "[MoviePy] >>>> Building video new_video.mp4\n",
            "[MoviePy] Writing audio in new_videoTEMP_MPY_wvf_snd.mp3\n"
          ],
          "name": "stdout"
        },
        {
          "output_type": "stream",
          "text": [
            "100%|██████████| 207/207 [00:00<00:00, 769.06it/s]"
          ],
          "name": "stderr"
        },
        {
          "output_type": "stream",
          "text": [
            "[MoviePy] Done.\n",
            "[MoviePy] Writing video new_video.mp4\n"
          ],
          "name": "stdout"
        },
        {
          "output_type": "stream",
          "text": [
            "\n",
            "100%|██████████| 282/282 [00:01<00:00, 172.95it/s]\n"
          ],
          "name": "stderr"
        },
        {
          "output_type": "stream",
          "text": [
            "[MoviePy] Done.\n",
            "[MoviePy] >>>> Video ready: new_video.mp4 \n",
            "\n",
            "(8492, 8, 2048)\n",
            "Copy of Normal_Videos_879_x264.mp4\n",
            "(4, 8, 2048)\n",
            "(8496, 8, 2048)\n",
            "[MoviePy] >>>> Building video new_video.mp4\n",
            "[MoviePy] Writing audio in new_videoTEMP_MPY_wvf_snd.mp3\n"
          ],
          "name": "stdout"
        },
        {
          "output_type": "stream",
          "text": [
            "100%|██████████| 842/842 [00:00<00:00, 1326.28it/s]"
          ],
          "name": "stderr"
        },
        {
          "output_type": "stream",
          "text": [
            "[MoviePy] Done.\n",
            "[MoviePy] Writing video new_video.mp4\n"
          ],
          "name": "stdout"
        },
        {
          "output_type": "stream",
          "text": [
            "\n",
            "100%|██████████| 1145/1145 [00:05<00:00, 219.42it/s]\n"
          ],
          "name": "stderr"
        },
        {
          "output_type": "stream",
          "text": [
            "[MoviePy] Done.\n",
            "[MoviePy] >>>> Video ready: new_video.mp4 \n",
            "\n",
            "(8500, 8, 2048)\n",
            "Copy of Normal_Videos_875_x264_Trim.mp4\n",
            "(5, 8, 2048)\n",
            "(8505, 8, 2048)\n",
            "[MoviePy] >>>> Building video new_video.mp4\n",
            "[MoviePy] Writing audio in new_videoTEMP_MPY_wvf_snd.mp3\n"
          ],
          "name": "stdout"
        },
        {
          "output_type": "stream",
          "text": [
            "100%|██████████| 888/888 [00:01<00:00, 606.47it/s]"
          ],
          "name": "stderr"
        },
        {
          "output_type": "stream",
          "text": [
            "[MoviePy] Done.\n",
            "[MoviePy] Writing video new_video.mp4\n"
          ],
          "name": "stdout"
        },
        {
          "output_type": "stream",
          "text": [
            "\n",
            "100%|██████████| 1208/1208 [00:07<00:00, 154.83it/s]"
          ],
          "name": "stderr"
        },
        {
          "output_type": "stream",
          "text": [
            "[MoviePy] Done.\n",
            "[MoviePy] >>>> Video ready: new_video.mp4 \n",
            "\n"
          ],
          "name": "stdout"
        },
        {
          "output_type": "stream",
          "text": [
            "\n"
          ],
          "name": "stderr"
        },
        {
          "output_type": "stream",
          "text": [
            "(8510, 8, 2048)\n",
            "Copy of Normal_Videos_876_x264.mp4\n",
            "(1, 8, 2048)\n",
            "(8511, 8, 2048)\n",
            "[MoviePy] >>>> Building video new_video.mp4\n",
            "[MoviePy] Writing audio in new_videoTEMP_MPY_wvf_snd.mp3\n"
          ],
          "name": "stdout"
        },
        {
          "output_type": "stream",
          "text": [
            "100%|██████████| 260/260 [00:00<00:00, 1368.50it/s]"
          ],
          "name": "stderr"
        },
        {
          "output_type": "stream",
          "text": [
            "[MoviePy] Done.\n",
            "[MoviePy] Writing video new_video.mp4\n"
          ],
          "name": "stdout"
        },
        {
          "output_type": "stream",
          "text": [
            "\n",
            "100%|██████████| 354/354 [00:01<00:00, 188.18it/s]\n"
          ],
          "name": "stderr"
        },
        {
          "output_type": "stream",
          "text": [
            "[MoviePy] Done.\n",
            "[MoviePy] >>>> Video ready: new_video.mp4 \n",
            "\n",
            "(8512, 8, 2048)\n",
            "Copy of Normal_Videos_880_x264_Trim.mp4\n",
            "(7, 8, 2048)\n",
            "(8519, 8, 2048)\n",
            "[MoviePy] >>>> Building video new_video.mp4\n",
            "[MoviePy] Writing audio in new_videoTEMP_MPY_wvf_snd.mp3\n"
          ],
          "name": "stdout"
        },
        {
          "output_type": "stream",
          "text": [
            "100%|██████████| 1346/1346 [00:01<00:00, 801.71it/s]"
          ],
          "name": "stderr"
        },
        {
          "output_type": "stream",
          "text": [
            "[MoviePy] Done.\n",
            "[MoviePy] Writing video new_video.mp4\n"
          ],
          "name": "stdout"
        },
        {
          "output_type": "stream",
          "text": [
            "\n",
            "100%|██████████| 1831/1831 [00:07<00:00, 229.99it/s]\n"
          ],
          "name": "stderr"
        },
        {
          "output_type": "stream",
          "text": [
            "[MoviePy] Done.\n",
            "[MoviePy] >>>> Video ready: new_video.mp4 \n",
            "\n",
            "(8526, 8, 2048)\n",
            "Copy of Normal_Videos_883_x264.mp4\n",
            "(1, 8, 2048)\n",
            "(8527, 8, 2048)\n",
            "[MoviePy] >>>> Building video new_video.mp4\n",
            "[MoviePy] Writing audio in new_videoTEMP_MPY_wvf_snd.mp3\n"
          ],
          "name": "stdout"
        },
        {
          "output_type": "stream",
          "text": [
            "100%|██████████| 242/242 [00:00<00:00, 873.26it/s]"
          ],
          "name": "stderr"
        },
        {
          "output_type": "stream",
          "text": [
            "[MoviePy] Done.\n",
            "[MoviePy] Writing video new_video.mp4\n"
          ],
          "name": "stdout"
        },
        {
          "output_type": "stream",
          "text": [
            "\n",
            "100%|██████████| 330/330 [00:01<00:00, 186.85it/s]\n"
          ],
          "name": "stderr"
        },
        {
          "output_type": "stream",
          "text": [
            "[MoviePy] Done.\n",
            "[MoviePy] >>>> Video ready: new_video.mp4 \n",
            "\n",
            "(8528, 8, 2048)\n",
            "Copy of Normal_Videos_881_x264.mp4\n",
            "(1, 8, 2048)\n",
            "(8529, 8, 2048)\n",
            "[MoviePy] >>>> Building video new_video.mp4\n",
            "[MoviePy] Writing audio in new_videoTEMP_MPY_wvf_snd.mp3\n"
          ],
          "name": "stdout"
        },
        {
          "output_type": "stream",
          "text": [
            "100%|██████████| 169/169 [00:00<00:00, 1404.69it/s]"
          ],
          "name": "stderr"
        },
        {
          "output_type": "stream",
          "text": [
            "[MoviePy] Done.\n",
            "[MoviePy] Writing video new_video.mp4\n"
          ],
          "name": "stdout"
        },
        {
          "output_type": "stream",
          "text": [
            "\n",
            "100%|██████████| 229/229 [00:00<00:00, 258.23it/s]\n"
          ],
          "name": "stderr"
        },
        {
          "output_type": "stream",
          "text": [
            "[MoviePy] Done.\n",
            "[MoviePy] >>>> Video ready: new_video.mp4 \n",
            "\n",
            "(8530, 8, 2048)\n",
            "Copy of Normal_Videos_877_x264_Trim.mp4\n",
            "(7, 8, 2048)\n",
            "(8537, 8, 2048)\n",
            "[MoviePy] >>>> Building video new_video.mp4\n",
            "[MoviePy] Writing audio in new_videoTEMP_MPY_wvf_snd.mp3\n"
          ],
          "name": "stdout"
        },
        {
          "output_type": "stream",
          "text": [
            "100%|██████████| 1337/1337 [00:01<00:00, 1012.41it/s]"
          ],
          "name": "stderr"
        },
        {
          "output_type": "stream",
          "text": [
            "[MoviePy] Done.\n",
            "[MoviePy] Writing video new_video.mp4\n"
          ],
          "name": "stdout"
        },
        {
          "output_type": "stream",
          "text": [
            "\n",
            "100%|██████████| 1819/1819 [00:07<00:00, 229.80it/s]\n"
          ],
          "name": "stderr"
        },
        {
          "output_type": "stream",
          "text": [
            "[MoviePy] Done.\n",
            "[MoviePy] >>>> Video ready: new_video.mp4 \n",
            "\n",
            "(8544, 8, 2048)\n",
            "Copy of Normal_Videos_874_x264_Trim.mp4\n",
            "(7, 8, 2048)\n",
            "(8551, 8, 2048)\n",
            "[MoviePy] >>>> Building video new_video.mp4\n",
            "[MoviePy] Writing audio in new_videoTEMP_MPY_wvf_snd.mp3\n"
          ],
          "name": "stdout"
        },
        {
          "output_type": "stream",
          "text": [
            "100%|██████████| 1348/1348 [00:01<00:00, 1015.54it/s]"
          ],
          "name": "stderr"
        },
        {
          "output_type": "stream",
          "text": [
            "[MoviePy] Done.\n",
            "[MoviePy] Writing video new_video.mp4\n"
          ],
          "name": "stdout"
        },
        {
          "output_type": "stream",
          "text": [
            "\n",
            "100%|██████████| 1833/1833 [00:08<00:00, 217.89it/s]\n"
          ],
          "name": "stderr"
        },
        {
          "output_type": "stream",
          "text": [
            "[MoviePy] Done.\n",
            "[MoviePy] >>>> Video ready: new_video.mp4 \n",
            "\n",
            "(8558, 8, 2048)\n",
            "Copy of Normal_Videos_867_x264.mp4\n",
            "(2, 8, 2048)\n",
            "(8560, 8, 2048)\n",
            "[MoviePy] >>>> Building video new_video.mp4\n",
            "[MoviePy] Writing audio in new_videoTEMP_MPY_wvf_snd.mp3\n"
          ],
          "name": "stdout"
        },
        {
          "output_type": "stream",
          "text": [
            "100%|██████████| 460/460 [00:00<00:00, 1445.64it/s]"
          ],
          "name": "stderr"
        },
        {
          "output_type": "stream",
          "text": [
            "[MoviePy] Done.\n",
            "[MoviePy] Writing video new_video.mp4\n"
          ],
          "name": "stdout"
        },
        {
          "output_type": "stream",
          "text": [
            "\n",
            "100%|██████████| 625/625 [00:02<00:00, 211.27it/s]\n"
          ],
          "name": "stderr"
        },
        {
          "output_type": "stream",
          "text": [
            "[MoviePy] Done.\n",
            "[MoviePy] >>>> Video ready: new_video.mp4 \n",
            "\n",
            "(8562, 8, 2048)\n",
            "Copy of Normal_Videos_873_x264.mp4\n",
            "(7, 8, 2048)\n",
            "(8569, 8, 2048)\n",
            "[MoviePy] >>>> Building video new_video.mp4\n",
            "[MoviePy] Writing audio in new_videoTEMP_MPY_wvf_snd.mp3\n"
          ],
          "name": "stdout"
        },
        {
          "output_type": "stream",
          "text": [
            "100%|██████████| 1324/1324 [00:00<00:00, 1424.31it/s]"
          ],
          "name": "stderr"
        },
        {
          "output_type": "stream",
          "text": [
            "[MoviePy] Done.\n",
            "[MoviePy] Writing video new_video.mp4\n"
          ],
          "name": "stdout"
        },
        {
          "output_type": "stream",
          "text": [
            "\n",
            "100%|██████████| 1801/1801 [00:08<00:00, 209.63it/s]\n"
          ],
          "name": "stderr"
        },
        {
          "output_type": "stream",
          "text": [
            "[MoviePy] Done.\n",
            "[MoviePy] >>>> Video ready: new_video.mp4 \n",
            "\n",
            "(8576, 8, 2048)\n",
            "Copy of Normal_Videos_872_x264.mp4\n",
            "(2, 8, 2048)\n",
            "(8578, 8, 2048)\n",
            "[MoviePy] >>>> Building video new_video.mp4\n",
            "[MoviePy] Writing audio in new_videoTEMP_MPY_wvf_snd.mp3\n"
          ],
          "name": "stdout"
        },
        {
          "output_type": "stream",
          "text": [
            "100%|██████████| 390/390 [00:00<00:00, 1389.52it/s]"
          ],
          "name": "stderr"
        },
        {
          "output_type": "stream",
          "text": [
            "[MoviePy] Done.\n",
            "[MoviePy] Writing video new_video.mp4\n"
          ],
          "name": "stdout"
        },
        {
          "output_type": "stream",
          "text": [
            "\n",
            "100%|██████████| 531/531 [00:02<00:00, 188.74it/s]\n"
          ],
          "name": "stderr"
        },
        {
          "output_type": "stream",
          "text": [
            "[MoviePy] Done.\n",
            "[MoviePy] >>>> Video ready: new_video.mp4 \n",
            "\n",
            "(8580, 8, 2048)\n",
            "Copy of Normal_Videos_828_x264.mp4\n",
            "(3, 8, 2048)\n",
            "(8583, 8, 2048)\n",
            "[MoviePy] >>>> Building video new_video.mp4\n",
            "[MoviePy] Writing audio in new_videoTEMP_MPY_wvf_snd.mp3\n"
          ],
          "name": "stdout"
        },
        {
          "output_type": "stream",
          "text": [
            "100%|██████████| 685/685 [00:00<00:00, 1458.51it/s]"
          ],
          "name": "stderr"
        },
        {
          "output_type": "stream",
          "text": [
            "[MoviePy] Done.\n",
            "[MoviePy] Writing video new_video.mp4\n"
          ],
          "name": "stdout"
        },
        {
          "output_type": "stream",
          "text": [
            "\n",
            "100%|██████████| 932/932 [00:05<00:00, 178.10it/s]\n"
          ],
          "name": "stderr"
        },
        {
          "output_type": "stream",
          "text": [
            "[MoviePy] Done.\n",
            "[MoviePy] >>>> Video ready: new_video.mp4 \n",
            "\n",
            "(8587, 8, 2048)\n",
            "Copy of Normal_Videos_868_x264_Trim.mp4\n",
            "(6, 8, 2048)\n",
            "(8593, 8, 2048)\n",
            "[MoviePy] >>>> Building video new_video.mp4\n",
            "[MoviePy] Writing audio in new_videoTEMP_MPY_wvf_snd.mp3\n"
          ],
          "name": "stdout"
        },
        {
          "output_type": "stream",
          "text": [
            "100%|██████████| 1116/1116 [00:01<00:00, 964.02it/s]"
          ],
          "name": "stderr"
        },
        {
          "output_type": "stream",
          "text": [
            "[MoviePy] Done.\n",
            "[MoviePy] Writing video new_video.mp4\n"
          ],
          "name": "stdout"
        },
        {
          "output_type": "stream",
          "text": [
            "\n",
            "100%|██████████| 1518/1518 [00:06<00:00, 227.33it/s]\n"
          ],
          "name": "stderr"
        },
        {
          "output_type": "stream",
          "text": [
            "[MoviePy] Done.\n",
            "[MoviePy] >>>> Video ready: new_video.mp4 \n",
            "\n",
            "(8599, 8, 2048)\n",
            "Copy of Normal_Videos_866_x264.mp4\n",
            "(5, 8, 2048)\n",
            "(8604, 8, 2048)\n",
            "[MoviePy] >>>> Building video new_video.mp4\n",
            "[MoviePy] Writing audio in new_videoTEMP_MPY_wvf_snd.mp3\n"
          ],
          "name": "stdout"
        },
        {
          "output_type": "stream",
          "text": [
            "100%|██████████| 882/882 [00:01<00:00, 681.45it/s]"
          ],
          "name": "stderr"
        },
        {
          "output_type": "stream",
          "text": [
            "[MoviePy] Done.\n",
            "[MoviePy] Writing video new_video.mp4\n"
          ],
          "name": "stdout"
        },
        {
          "output_type": "stream",
          "text": [
            "\n",
            "100%|██████████| 1200/1200 [00:05<00:00, 204.39it/s]\n"
          ],
          "name": "stderr"
        },
        {
          "output_type": "stream",
          "text": [
            "[MoviePy] Done.\n",
            "[MoviePy] >>>> Video ready: new_video.mp4 \n",
            "\n",
            "(8609, 8, 2048)\n",
            "Copy of Normal_Videos_869_x264_Trim.mp4\n",
            "(3, 8, 2048)\n",
            "(8612, 8, 2048)\n",
            "[MoviePy] >>>> Building video new_video.mp4\n",
            "[MoviePy] Writing audio in new_videoTEMP_MPY_wvf_snd.mp3\n"
          ],
          "name": "stdout"
        },
        {
          "output_type": "stream",
          "text": [
            "100%|██████████| 680/680 [00:00<00:00, 1009.24it/s]"
          ],
          "name": "stderr"
        },
        {
          "output_type": "stream",
          "text": [
            "[MoviePy] Done.\n",
            "[MoviePy] Writing video new_video.mp4\n"
          ],
          "name": "stdout"
        },
        {
          "output_type": "stream",
          "text": [
            "\n",
            "100%|██████████| 925/925 [00:04<00:00, 226.28it/s]\n"
          ],
          "name": "stderr"
        },
        {
          "output_type": "stream",
          "text": [
            "[MoviePy] Done.\n",
            "[MoviePy] >>>> Video ready: new_video.mp4 \n",
            "\n",
            "(8615, 8, 2048)\n",
            "Copy of Normal_Videos_831_x264.mp4\n",
            "(1, 8, 2048)\n",
            "(8616, 8, 2048)\n",
            "[MoviePy] >>>> Building video new_video.mp4\n",
            "[MoviePy] Writing audio in new_videoTEMP_MPY_wvf_snd.mp3\n"
          ],
          "name": "stdout"
        },
        {
          "output_type": "stream",
          "text": [
            "100%|██████████| 331/331 [00:00<00:00, 1343.24it/s]"
          ],
          "name": "stderr"
        },
        {
          "output_type": "stream",
          "text": [
            "[MoviePy] Done.\n",
            "[MoviePy] Writing video new_video.mp4\n"
          ],
          "name": "stdout"
        },
        {
          "output_type": "stream",
          "text": [
            "\n",
            "100%|██████████| 450/450 [00:02<00:00, 206.42it/s]\n"
          ],
          "name": "stderr"
        },
        {
          "output_type": "stream",
          "text": [
            "[MoviePy] Done.\n",
            "[MoviePy] >>>> Video ready: new_video.mp4 \n",
            "\n",
            "(8617, 8, 2048)\n",
            "Copy of Normal_Videos_871_x264_Trim.mp4\n",
            "(6, 8, 2048)\n",
            "(8623, 8, 2048)\n",
            "[MoviePy] >>>> Building video new_video.mp4\n",
            "[MoviePy] Writing audio in new_videoTEMP_MPY_wvf_snd.mp3\n"
          ],
          "name": "stdout"
        },
        {
          "output_type": "stream",
          "text": [
            "100%|██████████| 1116/1116 [00:01<00:00, 996.16it/s]"
          ],
          "name": "stderr"
        },
        {
          "output_type": "stream",
          "text": [
            "[MoviePy] Done.\n"
          ],
          "name": "stdout"
        },
        {
          "output_type": "stream",
          "text": [
            "\n"
          ],
          "name": "stderr"
        },
        {
          "output_type": "stream",
          "text": [
            "[MoviePy] Writing video new_video.mp4\n"
          ],
          "name": "stdout"
        },
        {
          "output_type": "stream",
          "text": [
            "100%|██████████| 1518/1518 [00:08<00:00, 180.60it/s]\n"
          ],
          "name": "stderr"
        },
        {
          "output_type": "stream",
          "text": [
            "[MoviePy] Done.\n",
            "[MoviePy] >>>> Video ready: new_video.mp4 \n",
            "\n",
            "(8629, 8, 2048)\n",
            "Copy of Normal_Videos_870_x264.mp4\n",
            "(2, 8, 2048)\n",
            "(8631, 8, 2048)\n",
            "[MoviePy] >>>> Building video new_video.mp4\n",
            "[MoviePy] Writing audio in new_videoTEMP_MPY_wvf_snd.mp3\n"
          ],
          "name": "stdout"
        },
        {
          "output_type": "stream",
          "text": [
            "100%|██████████| 443/443 [00:00<00:00, 1475.14it/s]"
          ],
          "name": "stderr"
        },
        {
          "output_type": "stream",
          "text": [
            "[MoviePy] Done.\n",
            "[MoviePy] Writing video new_video.mp4\n"
          ],
          "name": "stdout"
        },
        {
          "output_type": "stream",
          "text": [
            "\n",
            "100%|██████████| 603/603 [00:03<00:00, 188.52it/s]\n"
          ],
          "name": "stderr"
        },
        {
          "output_type": "stream",
          "text": [
            "[MoviePy] Done.\n",
            "[MoviePy] >>>> Video ready: new_video.mp4 \n",
            "\n",
            "(8633, 8, 2048)\n",
            "Copy of Normal_Videos_783_x264_Trim.mp4\n",
            "(11, 8, 2048)\n",
            "(8644, 8, 2048)\n",
            "[MoviePy] >>>> Building video new_video.mp4\n",
            "[MoviePy] Writing audio in new_videoTEMP_MPY_wvf_snd.mp3\n"
          ],
          "name": "stdout"
        },
        {
          "output_type": "stream",
          "text": [
            "100%|██████████| 1989/1989 [00:01<00:00, 1023.79it/s]"
          ],
          "name": "stderr"
        },
        {
          "output_type": "stream",
          "text": [
            "[MoviePy] Done.\n",
            "[MoviePy] Writing video new_video.mp4\n"
          ],
          "name": "stdout"
        },
        {
          "output_type": "stream",
          "text": [
            "\n",
            "100%|█████████▉| 2706/2707 [00:13<00:00, 203.38it/s]"
          ],
          "name": "stderr"
        },
        {
          "output_type": "stream",
          "text": [
            "[MoviePy] Done.\n",
            "[MoviePy] >>>> Video ready: new_video.mp4 \n",
            "\n"
          ],
          "name": "stdout"
        },
        {
          "output_type": "stream",
          "text": [
            "\n"
          ],
          "name": "stderr"
        },
        {
          "output_type": "stream",
          "text": [
            "(8655, 8, 2048)\n",
            "Copy of Normal_Videos_725_x264.mp4\n",
            "(3, 8, 2048)\n",
            "(8658, 8, 2048)\n",
            "[MoviePy] >>>> Building video new_video.mp4\n",
            "[MoviePy] Writing audio in new_videoTEMP_MPY_wvf_snd.mp3\n"
          ],
          "name": "stdout"
        },
        {
          "output_type": "stream",
          "text": [
            "100%|██████████| 678/678 [00:01<00:00, 614.78it/s]"
          ],
          "name": "stderr"
        },
        {
          "output_type": "stream",
          "text": [
            "[MoviePy] Done.\n"
          ],
          "name": "stdout"
        },
        {
          "output_type": "stream",
          "text": [
            "\n"
          ],
          "name": "stderr"
        },
        {
          "output_type": "stream",
          "text": [
            "[MoviePy] Writing video new_video.mp4\n"
          ],
          "name": "stdout"
        },
        {
          "output_type": "stream",
          "text": [
            "100%|██████████| 923/923 [00:05<00:00, 176.39it/s]"
          ],
          "name": "stderr"
        },
        {
          "output_type": "stream",
          "text": [
            "[MoviePy] Done.\n",
            "[MoviePy] >>>> Video ready: new_video.mp4 \n",
            "\n"
          ],
          "name": "stdout"
        },
        {
          "output_type": "stream",
          "text": [
            "\n"
          ],
          "name": "stderr"
        },
        {
          "output_type": "stream",
          "text": [
            "(8661, 8, 2048)\n",
            "Copy of Normal_Videos_801_x264_Trim.mp4\n",
            "(7, 8, 2048)\n",
            "(8668, 8, 2048)\n",
            "[MoviePy] >>>> Building video new_video.mp4\n",
            "[MoviePy] Writing audio in new_videoTEMP_MPY_wvf_snd.mp3\n"
          ],
          "name": "stdout"
        },
        {
          "output_type": "stream",
          "text": [
            "100%|██████████| 1341/1341 [00:01<00:00, 957.67it/s]"
          ],
          "name": "stderr"
        },
        {
          "output_type": "stream",
          "text": [
            "[MoviePy] Done.\n",
            "[MoviePy] Writing video new_video.mp4\n"
          ],
          "name": "stdout"
        },
        {
          "output_type": "stream",
          "text": [
            "\n",
            "100%|██████████| 1824/1824 [00:09<00:00, 192.67it/s]\n"
          ],
          "name": "stderr"
        },
        {
          "output_type": "stream",
          "text": [
            "[MoviePy] Done.\n",
            "[MoviePy] >>>> Video ready: new_video.mp4 \n",
            "\n",
            "(8675, 8, 2048)\n",
            "Copy of Normal_Videos_745_x264.mp4\n",
            "(1, 8, 2048)\n",
            "(8676, 8, 2048)\n",
            "[MoviePy] >>>> Building video new_video.mp4\n",
            "[MoviePy] Writing audio in new_videoTEMP_MPY_wvf_snd.mp3\n"
          ],
          "name": "stdout"
        },
        {
          "output_type": "stream",
          "text": [
            "100%|██████████| 225/225 [00:00<00:00, 1431.98it/s]"
          ],
          "name": "stderr"
        },
        {
          "output_type": "stream",
          "text": [
            "[MoviePy] Done.\n",
            "[MoviePy] Writing video new_video.mp4\n"
          ],
          "name": "stdout"
        },
        {
          "output_type": "stream",
          "text": [
            "\n",
            "100%|██████████| 306/306 [00:01<00:00, 203.50it/s]\n"
          ],
          "name": "stderr"
        },
        {
          "output_type": "stream",
          "text": [
            "[MoviePy] Done.\n",
            "[MoviePy] >>>> Video ready: new_video.mp4 \n",
            "\n",
            "(8677, 8, 2048)\n",
            "Copy of Normal_Videos_778_x264_Trim.mp4\n",
            "(3, 8, 2048)\n",
            "(8680, 8, 2048)\n",
            "[MoviePy] >>>> Building video new_video.mp4\n",
            "[MoviePy] Writing audio in new_videoTEMP_MPY_wvf_snd.mp3\n"
          ],
          "name": "stdout"
        },
        {
          "output_type": "stream",
          "text": [
            "100%|██████████| 670/670 [00:00<00:00, 1017.79it/s]"
          ],
          "name": "stderr"
        },
        {
          "output_type": "stream",
          "text": [
            "[MoviePy] Done.\n",
            "[MoviePy] Writing video new_video.mp4\n"
          ],
          "name": "stdout"
        },
        {
          "output_type": "stream",
          "text": [
            "\n",
            "100%|██████████| 911/911 [00:03<00:00, 230.40it/s]\n"
          ],
          "name": "stderr"
        },
        {
          "output_type": "stream",
          "text": [
            "[MoviePy] Done.\n",
            "[MoviePy] >>>> Video ready: new_video.mp4 \n",
            "\n",
            "(8683, 8, 2048)\n",
            "Copy of Normal_Videos_758_x264_Trim.mp4\n",
            "(3, 8, 2048)\n",
            "(8686, 8, 2048)\n",
            "[MoviePy] >>>> Building video new_video.mp4\n",
            "[MoviePy] Writing audio in new_videoTEMP_MPY_wvf_snd.mp3\n"
          ],
          "name": "stdout"
        },
        {
          "output_type": "stream",
          "text": [
            "100%|██████████| 672/672 [00:00<00:00, 1024.68it/s]"
          ],
          "name": "stderr"
        },
        {
          "output_type": "stream",
          "text": [
            "[MoviePy] Done.\n",
            "[MoviePy] Writing video new_video.mp4\n"
          ],
          "name": "stdout"
        },
        {
          "output_type": "stream",
          "text": [
            "\n",
            "100%|██████████| 914/914 [00:06<00:00, 143.02it/s]\n"
          ],
          "name": "stderr"
        },
        {
          "output_type": "stream",
          "text": [
            "[MoviePy] Done.\n",
            "[MoviePy] >>>> Video ready: new_video.mp4 \n",
            "\n",
            "(8689, 8, 2048)\n",
            "Copy of Normal_Videos_798_x264_Trim.mp4\n",
            "(3, 8, 2048)\n",
            "(8692, 8, 2048)\n",
            "[MoviePy] >>>> Building video new_video.mp4\n",
            "[MoviePy] Writing video new_video.mp4\n"
          ],
          "name": "stdout"
        },
        {
          "output_type": "stream",
          "text": [
            "100%|██████████| 919/919 [00:04<00:00, 210.81it/s]\n"
          ],
          "name": "stderr"
        },
        {
          "output_type": "stream",
          "text": [
            "[MoviePy] Done.\n",
            "[MoviePy] >>>> Video ready: new_video.mp4 \n",
            "\n",
            "(8695, 8, 2048)\n",
            "Copy of Normal_Videos_782_x264_Trim.mp4\n",
            "(3, 8, 2048)\n",
            "(8698, 8, 2048)\n",
            "[MoviePy] >>>> Building video new_video.mp4\n",
            "[MoviePy] Writing audio in new_videoTEMP_MPY_wvf_snd.mp3\n"
          ],
          "name": "stdout"
        },
        {
          "output_type": "stream",
          "text": [
            "100%|██████████| 680/680 [00:00<00:00, 1038.36it/s]"
          ],
          "name": "stderr"
        },
        {
          "output_type": "stream",
          "text": [
            "[MoviePy] Done.\n",
            "[MoviePy] Writing video new_video.mp4\n"
          ],
          "name": "stdout"
        },
        {
          "output_type": "stream",
          "text": [
            "\n",
            "100%|██████████| 925/925 [00:04<00:00, 220.36it/s]\n"
          ],
          "name": "stderr"
        },
        {
          "output_type": "stream",
          "text": [
            "[MoviePy] Done.\n",
            "[MoviePy] >>>> Video ready: new_video.mp4 \n",
            "\n",
            "(8701, 8, 2048)\n",
            "Copy of Normal_Videos_781_x264_Trim.mp4\n",
            "(3, 8, 2048)\n",
            "(8704, 8, 2048)\n",
            "[MoviePy] >>>> Building video new_video.mp4\n",
            "[MoviePy] Writing audio in new_videoTEMP_MPY_wvf_snd.mp3\n"
          ],
          "name": "stdout"
        },
        {
          "output_type": "stream",
          "text": [
            "100%|██████████| 682/682 [00:00<00:00, 1010.96it/s]"
          ],
          "name": "stderr"
        },
        {
          "output_type": "stream",
          "text": [
            "[MoviePy] Done.\n",
            "[MoviePy] Writing video new_video.mp4\n"
          ],
          "name": "stdout"
        },
        {
          "output_type": "stream",
          "text": [
            "\n",
            "100%|██████████| 927/927 [00:04<00:00, 209.41it/s]\n"
          ],
          "name": "stderr"
        },
        {
          "output_type": "stream",
          "text": [
            "[MoviePy] Done.\n",
            "[MoviePy] >>>> Video ready: new_video.mp4 \n",
            "\n",
            "(8707, 8, 2048)\n",
            "Copy of Normal_Videos_780_x264_Trim.mp4\n",
            "(3, 8, 2048)\n",
            "(8710, 8, 2048)\n",
            "[MoviePy] >>>> Building video new_video.mp4\n",
            "[MoviePy] Writing audio in new_videoTEMP_MPY_wvf_snd.mp3\n"
          ],
          "name": "stdout"
        },
        {
          "output_type": "stream",
          "text": [
            "100%|██████████| 667/667 [00:00<00:00, 1025.18it/s]"
          ],
          "name": "stderr"
        },
        {
          "output_type": "stream",
          "text": [
            "[MoviePy] Done.\n",
            "[MoviePy] Writing video new_video.mp4\n"
          ],
          "name": "stdout"
        },
        {
          "output_type": "stream",
          "text": [
            "\n",
            "100%|██████████| 907/907 [00:04<00:00, 223.03it/s]"
          ],
          "name": "stderr"
        },
        {
          "output_type": "stream",
          "text": [
            "[MoviePy] Done.\n",
            "[MoviePy] >>>> Video ready: new_video.mp4 \n",
            "\n"
          ],
          "name": "stdout"
        },
        {
          "output_type": "stream",
          "text": [
            "\n"
          ],
          "name": "stderr"
        },
        {
          "output_type": "stream",
          "text": [
            "(8713, 8, 2048)\n",
            "Copy of Normal_Videos_722_x264_Trim.mp4\n",
            "(7, 8, 2048)\n",
            "(8720, 8, 2048)\n",
            "[MoviePy] >>>> Building video new_video.mp4\n",
            "[MoviePy] Writing audio in new_videoTEMP_MPY_wvf_snd.mp3\n"
          ],
          "name": "stdout"
        },
        {
          "output_type": "stream",
          "text": [
            "100%|██████████| 1331/1331 [00:01<00:00, 994.02it/s]"
          ],
          "name": "stderr"
        },
        {
          "output_type": "stream",
          "text": [
            "[MoviePy] Done.\n",
            "[MoviePy] Writing video new_video.mp4\n"
          ],
          "name": "stdout"
        },
        {
          "output_type": "stream",
          "text": [
            "\n",
            "100%|██████████| 1811/1811 [00:08<00:00, 208.94it/s]\n"
          ],
          "name": "stderr"
        },
        {
          "output_type": "stream",
          "text": [
            "[MoviePy] Done.\n",
            "[MoviePy] >>>> Video ready: new_video.mp4 \n",
            "\n",
            "(8727, 8, 2048)\n",
            "Copy of Normal_Videos_686_x264_Trim.mp4\n",
            "(3, 8, 2048)\n",
            "(8730, 8, 2048)\n",
            "[MoviePy] >>>> Building video new_video.mp4\n",
            "[MoviePy] Writing audio in new_videoTEMP_MPY_wvf_snd.mp3\n"
          ],
          "name": "stdout"
        },
        {
          "output_type": "stream",
          "text": [
            "100%|██████████| 672/672 [00:00<00:00, 1044.54it/s]"
          ],
          "name": "stderr"
        },
        {
          "output_type": "stream",
          "text": [
            "[MoviePy] Done.\n",
            "[MoviePy] Writing video new_video.mp4\n"
          ],
          "name": "stdout"
        },
        {
          "output_type": "stream",
          "text": [
            "\n",
            "100%|██████████| 914/914 [00:04<00:00, 224.62it/s]"
          ],
          "name": "stderr"
        },
        {
          "output_type": "stream",
          "text": [
            "[MoviePy] Done.\n",
            "[MoviePy] >>>> Video ready: new_video.mp4 \n",
            "\n"
          ],
          "name": "stdout"
        },
        {
          "output_type": "stream",
          "text": [
            "\n"
          ],
          "name": "stderr"
        },
        {
          "output_type": "stream",
          "text": [
            "(8733, 8, 2048)\n",
            "Copy of Normal_Videos_696_x264_Trim.mp4\n",
            "(3, 8, 2048)\n",
            "(8736, 8, 2048)\n",
            "[MoviePy] >>>> Building video new_video.mp4\n",
            "[MoviePy] Writing audio in new_videoTEMP_MPY_wvf_snd.mp3\n"
          ],
          "name": "stdout"
        },
        {
          "output_type": "stream",
          "text": [
            "100%|██████████| 667/667 [00:00<00:00, 872.88it/s]"
          ],
          "name": "stderr"
        },
        {
          "output_type": "stream",
          "text": [
            "[MoviePy] Done.\n",
            "[MoviePy] Writing video new_video.mp4\n"
          ],
          "name": "stdout"
        },
        {
          "output_type": "stream",
          "text": [
            "\n",
            "100%|██████████| 907/907 [00:04<00:00, 212.67it/s]\n"
          ],
          "name": "stderr"
        },
        {
          "output_type": "stream",
          "text": [
            "[MoviePy] Done.\n",
            "[MoviePy] >>>> Video ready: new_video.mp4 \n",
            "\n",
            "(8739, 8, 2048)\n",
            "Copy of Normal_Videos_634_x264_Trim.mp4\n",
            "(6, 8, 2048)\n",
            "(8745, 8, 2048)\n",
            "[MoviePy] >>>> Building video new_video.mp4\n",
            "[MoviePy] Writing audio in new_videoTEMP_MPY_wvf_snd.mp3\n"
          ],
          "name": "stdout"
        },
        {
          "output_type": "stream",
          "text": [
            "100%|██████████| 1120/1120 [00:01<00:00, 882.07it/s]"
          ],
          "name": "stderr"
        },
        {
          "output_type": "stream",
          "text": [
            "[MoviePy] Done.\n",
            "[MoviePy] Writing video new_video.mp4\n"
          ],
          "name": "stdout"
        },
        {
          "output_type": "stream",
          "text": [
            "\n",
            "100%|██████████| 1523/1523 [00:06<00:00, 223.39it/s]\n"
          ],
          "name": "stderr"
        },
        {
          "output_type": "stream",
          "text": [
            "[MoviePy] Done.\n",
            "[MoviePy] >>>> Video ready: new_video.mp4 \n",
            "\n",
            "(8751, 8, 2048)\n",
            "Copy of Normal_Videos_704_x264_Trim.mp4\n",
            "(3, 8, 2048)\n",
            "(8754, 8, 2048)\n",
            "[MoviePy] >>>> Building video new_video.mp4\n",
            "[MoviePy] Writing audio in new_videoTEMP_MPY_wvf_snd.mp3\n"
          ],
          "name": "stdout"
        },
        {
          "output_type": "stream",
          "text": [
            "100%|██████████| 675/675 [00:00<00:00, 994.44it/s] "
          ],
          "name": "stderr"
        },
        {
          "output_type": "stream",
          "text": [
            "[MoviePy] Done.\n",
            "[MoviePy] Writing video new_video.mp4\n"
          ],
          "name": "stdout"
        },
        {
          "output_type": "stream",
          "text": [
            "\n",
            "100%|██████████| 918/918 [00:04<00:00, 218.71it/s]\n"
          ],
          "name": "stderr"
        },
        {
          "output_type": "stream",
          "text": [
            "[MoviePy] Done.\n",
            "[MoviePy] >>>> Video ready: new_video.mp4 \n",
            "\n",
            "(8757, 8, 2048)\n",
            "Copy of Normal_Videos_702_x264_Trim.mp4\n",
            "(5, 8, 2048)\n",
            "(8762, 8, 2048)\n",
            "[MoviePy] >>>> Building video new_video.mp4\n",
            "[MoviePy] Writing audio in new_videoTEMP_MPY_wvf_snd.mp3\n"
          ],
          "name": "stdout"
        },
        {
          "output_type": "stream",
          "text": [
            "100%|██████████| 907/907 [00:00<00:00, 985.24it/s]"
          ],
          "name": "stderr"
        },
        {
          "output_type": "stream",
          "text": [
            "[MoviePy] Done.\n",
            "[MoviePy] Writing video new_video.mp4\n"
          ],
          "name": "stdout"
        },
        {
          "output_type": "stream",
          "text": [
            "\n",
            "100%|██████████| 1234/1234 [00:06<00:00, 192.81it/s]\n"
          ],
          "name": "stderr"
        },
        {
          "output_type": "stream",
          "text": [
            "[MoviePy] Done.\n",
            "[MoviePy] >>>> Video ready: new_video.mp4 \n",
            "\n",
            "(8767, 8, 2048)\n",
            "Copy of Normal_Videos_717_x264_Trim.mp4\n",
            "(3, 8, 2048)\n",
            "(8770, 8, 2048)\n",
            "[MoviePy] >>>> Building video new_video.mp4\n",
            "[MoviePy] Writing audio in new_videoTEMP_MPY_wvf_snd.mp3\n"
          ],
          "name": "stdout"
        },
        {
          "output_type": "stream",
          "text": [
            "100%|██████████| 667/667 [00:00<00:00, 988.21it/s]"
          ],
          "name": "stderr"
        },
        {
          "output_type": "stream",
          "text": [
            "[MoviePy] Done.\n",
            "[MoviePy] Writing video new_video.mp4\n"
          ],
          "name": "stdout"
        },
        {
          "output_type": "stream",
          "text": [
            "\n",
            "100%|██████████| 907/907 [00:04<00:00, 220.67it/s]\n"
          ],
          "name": "stderr"
        },
        {
          "output_type": "stream",
          "text": [
            "[MoviePy] Done.\n",
            "[MoviePy] >>>> Video ready: new_video.mp4 \n",
            "\n",
            "(8773, 8, 2048)\n",
            "Copy of Normal_Videos_641_x264_Trim.mp4\n",
            "(7, 8, 2048)\n",
            "(8780, 8, 2048)\n",
            "[MoviePy] >>>> Building video new_video.mp4\n",
            "[MoviePy] Writing audio in new_videoTEMP_MPY_wvf_snd.mp3\n"
          ],
          "name": "stdout"
        },
        {
          "output_type": "stream",
          "text": [
            "100%|██████████| 1345/1345 [00:01<00:00, 992.64it/s]"
          ],
          "name": "stderr"
        },
        {
          "output_type": "stream",
          "text": [
            "[MoviePy] Done.\n",
            "[MoviePy] Writing video new_video.mp4\n"
          ],
          "name": "stdout"
        },
        {
          "output_type": "stream",
          "text": [
            "\n",
            "100%|██████████| 1830/1830 [00:08<00:00, 212.62it/s]\n"
          ],
          "name": "stderr"
        },
        {
          "output_type": "stream",
          "text": [
            "[MoviePy] Done.\n",
            "[MoviePy] >>>> Video ready: new_video.mp4 \n",
            "\n",
            "(8787, 8, 2048)\n",
            "Copy of Normal_Videos_710_x264_Trim.mp4\n",
            "(5, 8, 2048)\n",
            "(8792, 8, 2048)\n",
            "[MoviePy] >>>> Building video new_video.mp4\n",
            "[MoviePy] Writing audio in new_videoTEMP_MPY_wvf_snd.mp3\n"
          ],
          "name": "stdout"
        },
        {
          "output_type": "stream",
          "text": [
            "100%|██████████| 885/885 [00:00<00:00, 981.20it/s]"
          ],
          "name": "stderr"
        },
        {
          "output_type": "stream",
          "text": [
            "[MoviePy] Done.\n",
            "[MoviePy] Writing video new_video.mp4\n"
          ],
          "name": "stdout"
        },
        {
          "output_type": "stream",
          "text": [
            "\n",
            "100%|██████████| 1204/1204 [00:06<00:00, 172.64it/s]\n"
          ],
          "name": "stderr"
        },
        {
          "output_type": "stream",
          "text": [
            "[MoviePy] Done.\n",
            "[MoviePy] >>>> Video ready: new_video.mp4 \n",
            "\n",
            "(8797, 8, 2048)\n",
            "Copy of Normal_Videos_656_x264_Trim.mp4\n",
            "(5, 8, 2048)\n",
            "(8802, 8, 2048)\n",
            "[MoviePy] >>>> Building video new_video.mp4\n",
            "[MoviePy] Writing audio in new_videoTEMP_MPY_wvf_snd.mp3\n"
          ],
          "name": "stdout"
        },
        {
          "output_type": "stream",
          "text": [
            "100%|██████████| 914/914 [00:00<00:00, 993.47it/s]\n"
          ],
          "name": "stderr"
        },
        {
          "output_type": "stream",
          "text": [
            "[MoviePy] Done.\n",
            "[MoviePy] Writing video new_video.mp4\n"
          ],
          "name": "stdout"
        },
        {
          "output_type": "stream",
          "text": [
            "100%|██████████| 1243/1243 [00:05<00:00, 233.02it/s]\n"
          ],
          "name": "stderr"
        },
        {
          "output_type": "stream",
          "text": [
            "[MoviePy] Done.\n",
            "[MoviePy] >>>> Video ready: new_video.mp4 \n",
            "\n",
            "(8807, 8, 2048)\n",
            "Copy of Normal_Videos_439_x264_Trim.mp4\n",
            "(7, 8, 2048)\n",
            "(8814, 8, 2048)\n",
            "[MoviePy] >>>> Building video new_video.mp4\n",
            "[MoviePy] Writing audio in new_videoTEMP_MPY_wvf_snd.mp3\n"
          ],
          "name": "stdout"
        },
        {
          "output_type": "stream",
          "text": [
            "100%|██████████| 1342/1342 [00:01<00:00, 973.63it/s]"
          ],
          "name": "stderr"
        },
        {
          "output_type": "stream",
          "text": [
            "[MoviePy] Done.\n",
            "[MoviePy] Writing video new_video.mp4\n"
          ],
          "name": "stdout"
        },
        {
          "output_type": "stream",
          "text": [
            "\n",
            "100%|██████████| 1826/1826 [00:09<00:00, 194.47it/s]\n"
          ],
          "name": "stderr"
        },
        {
          "output_type": "stream",
          "text": [
            "[MoviePy] Done.\n",
            "[MoviePy] >>>> Video ready: new_video.mp4 \n",
            "\n",
            "(8821, 8, 2048)\n",
            "Copy of Normal_Videos_621_x264_Trim.mp4\n",
            "(15, 8, 2048)\n",
            "(8836, 8, 2048)\n",
            "[MoviePy] >>>> Building video new_video.mp4\n",
            "[MoviePy] Writing audio in new_videoTEMP_MPY_wvf_snd.mp3\n"
          ],
          "name": "stdout"
        },
        {
          "output_type": "stream",
          "text": [
            "100%|██████████| 2656/2656 [00:02<00:00, 982.66it/s]"
          ],
          "name": "stderr"
        },
        {
          "output_type": "stream",
          "text": [
            "[MoviePy] Done.\n",
            "[MoviePy] Writing video new_video.mp4\n"
          ],
          "name": "stdout"
        },
        {
          "output_type": "stream",
          "text": [
            "\n",
            "100%|██████████| 3613/3613 [00:16<00:00, 221.04it/s]"
          ],
          "name": "stderr"
        },
        {
          "output_type": "stream",
          "text": [
            "[MoviePy] Done.\n",
            "[MoviePy] >>>> Video ready: new_video.mp4 \n",
            "\n"
          ],
          "name": "stdout"
        },
        {
          "output_type": "stream",
          "text": [
            "\n"
          ],
          "name": "stderr"
        },
        {
          "output_type": "stream",
          "text": [
            "(8851, 8, 2048)\n",
            "Copy of Normal_Videos_478_x264_Trim.mp4\n",
            "(8, 8, 2048)\n",
            "(8859, 8, 2048)\n",
            "[MoviePy] >>>> Building video new_video.mp4\n",
            "[MoviePy] Writing video new_video.mp4\n"
          ],
          "name": "stdout"
        },
        {
          "output_type": "stream",
          "text": [
            "100%|█████████▉| 2124/2125 [00:11<00:00, 177.73it/s]\n"
          ],
          "name": "stderr"
        },
        {
          "output_type": "stream",
          "text": [
            "[MoviePy] Done.\n",
            "[MoviePy] >>>> Video ready: new_video.mp4 \n",
            "\n",
            "(8867, 8, 2048)\n",
            "Copy of Normal_Videos_417_x264.mp4\n",
            "(4, 8, 2048)\n",
            "(8871, 8, 2048)\n",
            "[MoviePy] >>>> Building video new_video.mp4\n",
            "[MoviePy] Writing audio in new_videoTEMP_MPY_wvf_snd.mp3\n"
          ],
          "name": "stdout"
        },
        {
          "output_type": "stream",
          "text": [
            "100%|██████████| 793/793 [00:00<00:00, 1415.46it/s]"
          ],
          "name": "stderr"
        },
        {
          "output_type": "stream",
          "text": [
            "[MoviePy] Done.\n",
            "[MoviePy] Writing video new_video.mp4\n"
          ],
          "name": "stdout"
        },
        {
          "output_type": "stream",
          "text": [
            "\n",
            "100%|██████████| 1079/1079 [00:06<00:00, 166.75it/s]\n"
          ],
          "name": "stderr"
        },
        {
          "output_type": "stream",
          "text": [
            "[MoviePy] Done.\n",
            "[MoviePy] >>>> Video ready: new_video.mp4 \n",
            "\n",
            "(8875, 8, 2048)\n",
            "Copy of Normal_Videos_401_x264_Trim.mp4\n",
            "(4, 8, 2048)\n",
            "(8879, 8, 2048)\n",
            "[MoviePy] >>>> Building video new_video.mp4\n",
            "[MoviePy] Writing audio in new_videoTEMP_MPY_wvf_snd.mp3\n"
          ],
          "name": "stdout"
        },
        {
          "output_type": "stream",
          "text": [
            "100%|██████████| 686/686 [00:00<00:00, 986.88it/s]\n"
          ],
          "name": "stderr"
        },
        {
          "output_type": "stream",
          "text": [
            "[MoviePy] Done.\n",
            "[MoviePy] Writing video new_video.mp4\n"
          ],
          "name": "stdout"
        },
        {
          "output_type": "stream",
          "text": [
            "100%|██████████| 933/933 [00:04<00:00, 224.29it/s]\n"
          ],
          "name": "stderr"
        },
        {
          "output_type": "stream",
          "text": [
            "[MoviePy] Done.\n",
            "[MoviePy] >>>> Video ready: new_video.mp4 \n",
            "\n",
            "(8883, 8, 2048)\n",
            "Copy of Normal_Videos_603_x264_Trim.mp4\n",
            "(8, 8, 2048)\n",
            "(8891, 8, 2048)\n",
            "[MoviePy] >>>> Building video new_video.mp4\n",
            "[MoviePy] Writing audio in new_videoTEMP_MPY_wvf_snd.mp3\n"
          ],
          "name": "stdout"
        },
        {
          "output_type": "stream",
          "text": [
            "100%|██████████| 1553/1553 [00:01<00:00, 985.27it/s]"
          ],
          "name": "stderr"
        },
        {
          "output_type": "stream",
          "text": [
            "[MoviePy] Done.\n",
            "[MoviePy] Writing video new_video.mp4\n"
          ],
          "name": "stdout"
        },
        {
          "output_type": "stream",
          "text": [
            "\n",
            "100%|██████████| 2113/2113 [00:10<00:00, 201.47it/s]\n"
          ],
          "name": "stderr"
        },
        {
          "output_type": "stream",
          "text": [
            "[MoviePy] Done.\n",
            "[MoviePy] >>>> Video ready: new_video.mp4 \n",
            "\n",
            "(8899, 8, 2048)\n",
            "Copy of Normal_Videos_452_x264.mp4\n",
            "(1, 8, 2048)\n",
            "(8900, 8, 2048)\n",
            "[MoviePy] >>>> Building video new_video.mp4\n",
            "[MoviePy] Writing audio in new_videoTEMP_MPY_wvf_snd.mp3\n"
          ],
          "name": "stdout"
        },
        {
          "output_type": "stream",
          "text": [
            "100%|██████████| 328/328 [00:00<00:00, 1366.79it/s]"
          ],
          "name": "stderr"
        },
        {
          "output_type": "stream",
          "text": [
            "[MoviePy] Done.\n",
            "[MoviePy] Writing video new_video.mp4\n"
          ],
          "name": "stdout"
        },
        {
          "output_type": "stream",
          "text": [
            "\n",
            "100%|██████████| 446/446 [00:02<00:00, 151.75it/s]\n"
          ],
          "name": "stderr"
        },
        {
          "output_type": "stream",
          "text": [
            "[MoviePy] Done.\n",
            "[MoviePy] >>>> Video ready: new_video.mp4 \n",
            "\n",
            "(8901, 8, 2048)\n",
            "Copy of Normal_Videos_606_x264_Trim.mp4\n",
            "(3, 8, 2048)\n",
            "(8904, 8, 2048)\n",
            "[MoviePy] >>>> Building video new_video.mp4\n",
            "[MoviePy] Writing audio in new_videoTEMP_MPY_wvf_snd.mp3\n"
          ],
          "name": "stdout"
        },
        {
          "output_type": "stream",
          "text": [
            "100%|██████████| 664/664 [00:00<00:00, 996.12it/s]"
          ],
          "name": "stderr"
        },
        {
          "output_type": "stream",
          "text": [
            "[MoviePy] Done.\n",
            "[MoviePy] Writing video new_video.mp4\n"
          ],
          "name": "stdout"
        },
        {
          "output_type": "stream",
          "text": [
            "\n",
            "100%|██████████| 903/903 [00:04<00:00, 216.29it/s]\n"
          ],
          "name": "stderr"
        },
        {
          "output_type": "stream",
          "text": [
            "[MoviePy] Done.\n",
            "[MoviePy] >>>> Video ready: new_video.mp4 \n",
            "\n",
            "(8907, 8, 2048)\n",
            "Copy of Normal_Videos_597_x264.mp4\n",
            "(9, 8, 2048)\n",
            "(8916, 8, 2048)\n",
            "[MoviePy] >>>> Building video new_video.mp4\n",
            "[MoviePy] Writing audio in new_videoTEMP_MPY_wvf_snd.mp3\n"
          ],
          "name": "stdout"
        },
        {
          "output_type": "stream",
          "text": [
            "100%|██████████| 1640/1640 [00:01<00:00, 1401.60it/s]"
          ],
          "name": "stderr"
        },
        {
          "output_type": "stream",
          "text": [
            "[MoviePy] Done.\n",
            "[MoviePy] Writing video new_video.mp4\n"
          ],
          "name": "stdout"
        },
        {
          "output_type": "stream",
          "text": [
            "\n",
            "100%|██████████| 2231/2231 [00:10<00:00, 213.43it/s]\n"
          ],
          "name": "stderr"
        },
        {
          "output_type": "stream",
          "text": [
            "[MoviePy] Done.\n",
            "[MoviePy] >>>> Video ready: new_video.mp4 \n",
            "\n",
            "(8925, 8, 2048)\n",
            "Copy of Normal_Videos_453_x264_Trim.mp4\n",
            "(3, 8, 2048)\n",
            "(8928, 8, 2048)\n",
            "[MoviePy] >>>> Building video new_video.mp4\n",
            "[MoviePy] Writing audio in new_videoTEMP_MPY_wvf_snd.mp3\n"
          ],
          "name": "stdout"
        },
        {
          "output_type": "stream",
          "text": [
            "100%|██████████| 675/675 [00:00<00:00, 887.90it/s]"
          ],
          "name": "stderr"
        },
        {
          "output_type": "stream",
          "text": [
            "[MoviePy] Done.\n",
            "[MoviePy] Writing video new_video.mp4\n"
          ],
          "name": "stdout"
        },
        {
          "output_type": "stream",
          "text": [
            "\n",
            "100%|██████████| 919/919 [00:04<00:00, 218.48it/s]\n"
          ],
          "name": "stderr"
        },
        {
          "output_type": "stream",
          "text": [
            "[MoviePy] Done.\n",
            "[MoviePy] >>>> Video ready: new_video.mp4 \n",
            "\n",
            "(8931, 8, 2048)\n",
            "Copy of Normal_Videos_317_x264.mp4\n",
            "(3, 8, 2048)\n",
            "(8934, 8, 2048)\n",
            "[MoviePy] >>>> Building video new_video.mp4\n",
            "[MoviePy] Writing audio in new_videoTEMP_MPY_wvf_snd.mp3\n"
          ],
          "name": "stdout"
        },
        {
          "output_type": "stream",
          "text": [
            "100%|██████████| 683/683 [00:00<00:00, 773.39it/s]"
          ],
          "name": "stderr"
        },
        {
          "output_type": "stream",
          "text": [
            "[MoviePy] Done.\n",
            "[MoviePy] Writing video new_video.mp4\n"
          ],
          "name": "stdout"
        },
        {
          "output_type": "stream",
          "text": [
            "\n",
            "100%|██████████| 930/930 [00:04<00:00, 211.99it/s]\n"
          ],
          "name": "stderr"
        },
        {
          "output_type": "stream",
          "text": [
            "[MoviePy] Done.\n",
            "[MoviePy] >>>> Video ready: new_video.mp4 \n",
            "\n",
            "(8937, 8, 2048)\n",
            "Copy of Normal_Videos_251_x264.mp4\n",
            "(1, 8, 2048)\n",
            "(8938, 8, 2048)\n",
            "[MoviePy] >>>> Building video new_video.mp4\n",
            "[MoviePy] Writing audio in new_videoTEMP_MPY_wvf_snd.mp3\n"
          ],
          "name": "stdout"
        },
        {
          "output_type": "stream",
          "text": [
            "100%|██████████| 299/299 [00:00<00:00, 1406.71it/s]"
          ],
          "name": "stderr"
        },
        {
          "output_type": "stream",
          "text": [
            "[MoviePy] Done.\n",
            "[MoviePy] Writing video new_video.mp4\n"
          ],
          "name": "stdout"
        },
        {
          "output_type": "stream",
          "text": [
            "\n",
            "100%|██████████| 406/406 [00:02<00:00, 190.23it/s]\n"
          ],
          "name": "stderr"
        },
        {
          "output_type": "stream",
          "text": [
            "[MoviePy] Done.\n",
            "[MoviePy] >>>> Video ready: new_video.mp4 \n",
            "\n",
            "(8939, 8, 2048)\n",
            "Copy of Normal_Videos_312_x264_Trim.mp4\n",
            "(3, 8, 2048)\n",
            "(8942, 8, 2048)\n",
            "[MoviePy] >>>> Building video new_video.mp4\n",
            "[MoviePy] Writing audio in new_videoTEMP_MPY_wvf_snd.mp3\n"
          ],
          "name": "stdout"
        },
        {
          "output_type": "stream",
          "text": [
            "100%|██████████| 677/677 [00:00<00:00, 741.54it/s]\n"
          ],
          "name": "stderr"
        },
        {
          "output_type": "stream",
          "text": [
            "[MoviePy] Done.\n",
            "[MoviePy] Writing video new_video.mp4\n"
          ],
          "name": "stdout"
        },
        {
          "output_type": "stream",
          "text": [
            "100%|█████████▉| 921/922 [00:04<00:00, 200.03it/s]\n"
          ],
          "name": "stderr"
        },
        {
          "output_type": "stream",
          "text": [
            "[MoviePy] Done.\n",
            "[MoviePy] >>>> Video ready: new_video.mp4 \n",
            "\n",
            "(8945, 8, 2048)\n",
            "Copy of Normal_Videos_365_x264_Trim2.mp4\n",
            "(7, 8, 2048)\n",
            "(8952, 8, 2048)\n",
            "[MoviePy] >>>> Building video new_video.mp4\n",
            "[MoviePy] Writing audio in new_videoTEMP_MPY_wvf_snd.mp3\n"
          ],
          "name": "stdout"
        },
        {
          "output_type": "stream",
          "text": [
            "100%|██████████| 1225/1225 [00:01<00:00, 986.91it/s]"
          ],
          "name": "stderr"
        },
        {
          "output_type": "stream",
          "text": [
            "[MoviePy] Done.\n",
            "[MoviePy] Writing video new_video.mp4\n"
          ],
          "name": "stdout"
        },
        {
          "output_type": "stream",
          "text": [
            "\n",
            "100%|██████████| 1666/1666 [00:07<00:00, 215.69it/s]\n"
          ],
          "name": "stderr"
        },
        {
          "output_type": "stream",
          "text": [
            "[MoviePy] Done.\n",
            "[MoviePy] >>>> Video ready: new_video.mp4 \n",
            "\n",
            "(8959, 8, 2048)\n",
            "Copy of Normal_Videos_289_x264.mp4\n",
            "(3, 8, 2048)\n",
            "(8962, 8, 2048)\n",
            "[MoviePy] >>>> Building video new_video.mp4\n",
            "[MoviePy] Writing audio in new_videoTEMP_MPY_wvf_snd.mp3\n"
          ],
          "name": "stdout"
        },
        {
          "output_type": "stream",
          "text": [
            "100%|██████████| 636/636 [00:00<00:00, 1442.75it/s]"
          ],
          "name": "stderr"
        },
        {
          "output_type": "stream",
          "text": [
            "[MoviePy] Done.\n",
            "[MoviePy] Writing video new_video.mp4\n"
          ],
          "name": "stdout"
        },
        {
          "output_type": "stream",
          "text": [
            "\n",
            "100%|█████████▉| 864/865 [00:05<00:00, 159.93it/s]\n"
          ],
          "name": "stderr"
        },
        {
          "output_type": "stream",
          "text": [
            "[MoviePy] Done.\n",
            "[MoviePy] >>>> Video ready: new_video.mp4 \n",
            "\n",
            "(8965, 8, 2048)\n",
            "Copy of Normal_Videos_365_x264_Trim.mp4\n",
            "(7, 8, 2048)\n",
            "(8972, 8, 2048)\n",
            "[MoviePy] >>>> Building video new_video.mp4\n",
            "[MoviePy] Writing audio in new_videoTEMP_MPY_wvf_snd.mp3\n"
          ],
          "name": "stdout"
        },
        {
          "output_type": "stream",
          "text": [
            "100%|██████████| 1375/1375 [00:01<00:00, 986.37it/s]"
          ],
          "name": "stderr"
        },
        {
          "output_type": "stream",
          "text": [
            "[MoviePy] Done.\n",
            "[MoviePy] Writing video new_video.mp4\n"
          ],
          "name": "stdout"
        },
        {
          "output_type": "stream",
          "text": [
            "\n",
            "100%|██████████| 1871/1871 [00:08<00:00, 229.11it/s]\n"
          ],
          "name": "stderr"
        },
        {
          "output_type": "stream",
          "text": [
            "[MoviePy] Done.\n",
            "[MoviePy] >>>> Video ready: new_video.mp4 \n",
            "\n",
            "(8979, 8, 2048)\n",
            "Copy of Normal_Videos_310_x264.mp4\n",
            "(10, 8, 2048)\n",
            "(8989, 8, 2048)\n",
            "[MoviePy] >>>> Building video new_video.mp4\n",
            "[MoviePy] Writing audio in new_videoTEMP_MPY_wvf_snd.mp3\n"
          ],
          "name": "stdout"
        },
        {
          "output_type": "stream",
          "text": [
            "100%|██████████| 1852/1852 [00:02<00:00, 669.72it/s]\n"
          ],
          "name": "stderr"
        },
        {
          "output_type": "stream",
          "text": [
            "[MoviePy] Done.\n",
            "[MoviePy] Writing video new_video.mp4\n"
          ],
          "name": "stdout"
        },
        {
          "output_type": "stream",
          "text": [
            "100%|██████████| 2520/2520 [00:14<00:00, 172.87it/s]\n"
          ],
          "name": "stderr"
        },
        {
          "output_type": "stream",
          "text": [
            "[MoviePy] Done.\n",
            "[MoviePy] >>>> Video ready: new_video.mp4 \n",
            "\n",
            "(8999, 8, 2048)\n",
            "Copy of Normal_Videos_352_x264_Trim.mp4\n",
            "(11, 8, 2048)\n",
            "(9010, 8, 2048)\n",
            "[MoviePy] >>>> Building video new_video.mp4\n",
            "[MoviePy] Writing audio in new_videoTEMP_MPY_wvf_snd.mp3\n"
          ],
          "name": "stdout"
        },
        {
          "output_type": "stream",
          "text": [
            "100%|██████████| 1938/1938 [00:02<00:00, 955.06it/s]"
          ],
          "name": "stderr"
        },
        {
          "output_type": "stream",
          "text": [
            "[MoviePy] Done.\n",
            "[MoviePy] Writing video new_video.mp4\n"
          ],
          "name": "stdout"
        },
        {
          "output_type": "stream",
          "text": [
            "\n",
            "100%|██████████| 2636/2636 [00:12<00:00, 216.96it/s]\n"
          ],
          "name": "stderr"
        },
        {
          "output_type": "stream",
          "text": [
            "[MoviePy] Done.\n",
            "[MoviePy] >>>> Video ready: new_video.mp4 \n",
            "\n",
            "(9021, 8, 2048)\n",
            "Copy of Normal_Videos_360_x264.mp4\n",
            "(4, 8, 2048)\n",
            "(9025, 8, 2048)\n",
            "[MoviePy] >>>> Building video new_video.mp4\n",
            "[MoviePy] Writing audio in new_videoTEMP_MPY_wvf_snd.mp3\n"
          ],
          "name": "stdout"
        },
        {
          "output_type": "stream",
          "text": [
            "100%|██████████| 724/724 [00:00<00:00, 1356.42it/s]"
          ],
          "name": "stderr"
        },
        {
          "output_type": "stream",
          "text": [
            "[MoviePy] Done.\n",
            "[MoviePy] Writing video new_video.mp4\n"
          ],
          "name": "stdout"
        },
        {
          "output_type": "stream",
          "text": [
            "\n",
            "100%|██████████| 985/985 [00:05<00:00, 175.58it/s]\n"
          ],
          "name": "stderr"
        },
        {
          "output_type": "stream",
          "text": [
            "[MoviePy] Done.\n",
            "[MoviePy] >>>> Video ready: new_video.mp4 \n",
            "\n",
            "(9029, 8, 2048)\n",
            "Copy of Normal_Videos_345_x264.mp4\n",
            "(0,)\n",
            "(9029, 8, 2048)\n",
            "[MoviePy] >>>> Building video new_video.mp4\n",
            "[MoviePy] Writing audio in new_videoTEMP_MPY_wvf_snd.mp3\n"
          ],
          "name": "stdout"
        },
        {
          "output_type": "stream",
          "text": [
            "100%|██████████| 156/156 [00:00<00:00, 1379.37it/s]"
          ],
          "name": "stderr"
        },
        {
          "output_type": "stream",
          "text": [
            "[MoviePy] Done.\n",
            "[MoviePy] Writing video new_video.mp4\n"
          ],
          "name": "stdout"
        },
        {
          "output_type": "stream",
          "text": [
            "\n",
            "100%|██████████| 212/212 [00:00<00:00, 242.88it/s]\n"
          ],
          "name": "stderr"
        },
        {
          "output_type": "stream",
          "text": [
            "[MoviePy] Done.\n",
            "[MoviePy] >>>> Video ready: new_video.mp4 \n",
            "\n",
            "(9030, 8, 2048)\n",
            "Copy of Normal_Videos_224_x264_Trim.mp4\n",
            "(8, 8, 2048)\n",
            "(9038, 8, 2048)\n",
            "[MoviePy] >>>> Building video new_video.mp4\n",
            "[MoviePy] Writing audio in new_videoTEMP_MPY_wvf_snd.mp3\n"
          ],
          "name": "stdout"
        },
        {
          "output_type": "stream",
          "text": [
            "100%|██████████| 1555/1555 [00:01<00:00, 999.25it/s] "
          ],
          "name": "stderr"
        },
        {
          "output_type": "stream",
          "text": [
            "[MoviePy] Done.\n",
            "[MoviePy] Writing video new_video.mp4\n"
          ],
          "name": "stdout"
        },
        {
          "output_type": "stream",
          "text": [
            "\n",
            "100%|██████████| 2116/2116 [00:09<00:00, 223.49it/s]\n"
          ],
          "name": "stderr"
        },
        {
          "output_type": "stream",
          "text": [
            "[MoviePy] Done.\n",
            "[MoviePy] >>>> Video ready: new_video.mp4 \n",
            "\n",
            "(9046, 8, 2048)\n",
            "Copy of Normal_Videos_248_x264_Trim.mp4\n",
            "(3, 8, 2048)\n",
            "(9049, 8, 2048)\n",
            "[MoviePy] >>>> Building video new_video.mp4\n",
            "[MoviePy] Writing audio in new_videoTEMP_MPY_wvf_snd.mp3\n"
          ],
          "name": "stdout"
        },
        {
          "output_type": "stream",
          "text": [
            "100%|██████████| 671/671 [00:00<00:00, 851.83it/s]"
          ],
          "name": "stderr"
        },
        {
          "output_type": "stream",
          "text": [
            "[MoviePy] Done.\n",
            "[MoviePy] Writing video new_video.mp4\n"
          ],
          "name": "stdout"
        },
        {
          "output_type": "stream",
          "text": [
            "\n",
            "100%|█████████▉| 912/913 [00:04<00:00, 213.94it/s]\n"
          ],
          "name": "stderr"
        },
        {
          "output_type": "stream",
          "text": [
            "[MoviePy] Done.\n",
            "[MoviePy] >>>> Video ready: new_video.mp4 \n",
            "\n",
            "(9052, 8, 2048)\n",
            "Copy of Normal_Videos_210_x264_Trim.mp4\n",
            "(19, 8, 2048)\n",
            "(9071, 8, 2048)\n",
            "[MoviePy] >>>> Building video new_video.mp4\n",
            "[MoviePy] Writing audio in new_videoTEMP_MPY_wvf_snd.mp3\n"
          ],
          "name": "stdout"
        },
        {
          "output_type": "stream",
          "text": [
            "100%|██████████| 3333/3333 [00:03<00:00, 835.41it/s]"
          ],
          "name": "stderr"
        },
        {
          "output_type": "stream",
          "text": [
            "[MoviePy] Done.\n",
            "[MoviePy] Writing video new_video.mp4\n"
          ],
          "name": "stdout"
        },
        {
          "output_type": "stream",
          "text": [
            "\n",
            "100%|██████████| 4534/4534 [00:23<00:00, 189.65it/s]\n"
          ],
          "name": "stderr"
        },
        {
          "output_type": "stream",
          "text": [
            "[MoviePy] Done.\n",
            "[MoviePy] >>>> Video ready: new_video.mp4 \n",
            "\n",
            "(9090, 8, 2048)\n",
            "Copy of Normal_Videos_224_x264_Trim2.mp4\n",
            "(5, 8, 2048)\n",
            "(9095, 8, 2048)\n",
            "[MoviePy] >>>> Building video new_video.mp4\n",
            "[MoviePy] Writing audio in new_videoTEMP_MPY_wvf_snd.mp3\n"
          ],
          "name": "stdout"
        },
        {
          "output_type": "stream",
          "text": [
            "100%|██████████| 890/890 [00:00<00:00, 996.25it/s]"
          ],
          "name": "stderr"
        },
        {
          "output_type": "stream",
          "text": [
            "[MoviePy] Done.\n",
            "[MoviePy] Writing video new_video.mp4\n"
          ],
          "name": "stdout"
        },
        {
          "output_type": "stream",
          "text": [
            "\n",
            "100%|██████████| 1210/1210 [00:05<00:00, 226.91it/s]\n"
          ],
          "name": "stderr"
        },
        {
          "output_type": "stream",
          "text": [
            "[MoviePy] Done.\n",
            "[MoviePy] >>>> Video ready: new_video.mp4 \n",
            "\n",
            "(9100, 8, 2048)\n",
            "Copy of Normal_Videos_189_x264_Trim.mp4\n",
            "(2, 8, 2048)\n",
            "(9102, 8, 2048)\n",
            "[MoviePy] >>>> Building video new_video.mp4\n",
            "[MoviePy] Writing audio in new_videoTEMP_MPY_wvf_snd.mp3\n"
          ],
          "name": "stdout"
        },
        {
          "output_type": "stream",
          "text": [
            "100%|██████████| 359/359 [00:00<00:00, 974.92it/s]"
          ],
          "name": "stderr"
        },
        {
          "output_type": "stream",
          "text": [
            "[MoviePy] Done.\n",
            "[MoviePy] Writing video new_video.mp4\n"
          ],
          "name": "stdout"
        },
        {
          "output_type": "stream",
          "text": [
            "\n",
            "100%|██████████| 488/488 [00:03<00:00, 146.48it/s]\n"
          ],
          "name": "stderr"
        },
        {
          "output_type": "stream",
          "text": [
            "[MoviePy] Done.\n",
            "[MoviePy] >>>> Video ready: new_video.mp4 \n",
            "\n",
            "(9104, 8, 2048)\n",
            "Copy of Normal_Videos_203_x264.mp4\n",
            "(10, 8, 2048)\n",
            "(9114, 8, 2048)\n",
            "[MoviePy] >>>> Building video new_video.mp4\n",
            "[MoviePy] Writing audio in new_videoTEMP_MPY_wvf_snd.mp3\n"
          ],
          "name": "stdout"
        },
        {
          "output_type": "stream",
          "text": [
            "100%|██████████| 1891/1891 [00:01<00:00, 1388.54it/s]"
          ],
          "name": "stderr"
        },
        {
          "output_type": "stream",
          "text": [
            "[MoviePy] Done.\n",
            "[MoviePy] Writing video new_video.mp4\n"
          ],
          "name": "stdout"
        },
        {
          "output_type": "stream",
          "text": [
            "\n",
            "100%|██████████| 2573/2573 [00:12<00:00, 201.77it/s]\n"
          ],
          "name": "stderr"
        },
        {
          "output_type": "stream",
          "text": [
            "[MoviePy] Done.\n",
            "[MoviePy] >>>> Video ready: new_video.mp4 \n",
            "\n",
            "(9124, 8, 2048)\n",
            "Copy of Normal_Videos_246_x264_Trim.mp4\n",
            "(7, 8, 2048)\n",
            "(9131, 8, 2048)\n",
            "[MoviePy] >>>> Building video new_video.mp4\n",
            "[MoviePy] Writing audio in new_videoTEMP_MPY_wvf_snd.mp3\n"
          ],
          "name": "stdout"
        },
        {
          "output_type": "stream",
          "text": [
            "100%|██████████| 1339/1339 [00:01<00:00, 891.40it/s]"
          ],
          "name": "stderr"
        },
        {
          "output_type": "stream",
          "text": [
            "[MoviePy] Done.\n",
            "[MoviePy] Writing video new_video.mp4\n"
          ],
          "name": "stdout"
        },
        {
          "output_type": "stream",
          "text": [
            "\n",
            "100%|██████████| 1821/1821 [00:08<00:00, 210.08it/s]\n"
          ],
          "name": "stderr"
        },
        {
          "output_type": "stream",
          "text": [
            "[MoviePy] Done.\n",
            "[MoviePy] >>>> Video ready: new_video.mp4 \n",
            "\n",
            "(9138, 8, 2048)\n",
            "Copy of Normal_Videos_196_x264.mp4\n",
            "(8, 8, 2048)\n",
            "(9146, 8, 2048)\n",
            "[MoviePy] >>>> Building video new_video.mp4\n",
            "[MoviePy] Writing audio in new_videoTEMP_MPY_wvf_snd.mp3\n"
          ],
          "name": "stdout"
        },
        {
          "output_type": "stream",
          "text": [
            "100%|██████████| 1474/1474 [00:01<00:00, 1430.65it/s]"
          ],
          "name": "stderr"
        },
        {
          "output_type": "stream",
          "text": [
            "[MoviePy] Done.\n",
            "[MoviePy] Writing video new_video.mp4\n"
          ],
          "name": "stdout"
        },
        {
          "output_type": "stream",
          "text": [
            "\n",
            "100%|██████████| 2005/2005 [00:10<00:00, 195.27it/s]"
          ],
          "name": "stderr"
        },
        {
          "output_type": "stream",
          "text": [
            "[MoviePy] Done.\n",
            "[MoviePy] >>>> Video ready: new_video.mp4 \n",
            "\n"
          ],
          "name": "stdout"
        },
        {
          "output_type": "stream",
          "text": [
            "\n"
          ],
          "name": "stderr"
        },
        {
          "output_type": "stream",
          "text": [
            "(9154, 8, 2048)\n",
            "Copy of Normal_Videos_217_x264.mp4\n",
            "(7, 8, 2048)\n",
            "(9161, 8, 2048)\n",
            "[MoviePy] >>>> Building video new_video.mp4\n",
            "[MoviePy] Writing audio in new_videoTEMP_MPY_wvf_snd.mp3\n"
          ],
          "name": "stdout"
        },
        {
          "output_type": "stream",
          "text": [
            "100%|██████████| 1337/1337 [00:00<00:00, 1440.82it/s]"
          ],
          "name": "stderr"
        },
        {
          "output_type": "stream",
          "text": [
            "[MoviePy] Done.\n",
            "[MoviePy] Writing video new_video.mp4\n"
          ],
          "name": "stdout"
        },
        {
          "output_type": "stream",
          "text": [
            "\n",
            "100%|█████████▉| 1818/1819 [00:08<00:00, 208.03it/s]\n"
          ],
          "name": "stderr"
        },
        {
          "output_type": "stream",
          "text": [
            "[MoviePy] Done.\n",
            "[MoviePy] >>>> Video ready: new_video.mp4 \n",
            "\n",
            "(9168, 8, 2048)\n",
            "Copy of Normal_Videos_247_x264_Trim.mp4\n",
            "(6, 8, 2048)\n",
            "(9174, 8, 2048)\n",
            "[MoviePy] >>>> Building video new_video.mp4\n",
            "[MoviePy] Writing audio in new_videoTEMP_MPY_wvf_snd.mp3\n"
          ],
          "name": "stdout"
        },
        {
          "output_type": "stream",
          "text": [
            "100%|██████████| 1195/1195 [00:01<00:00, 609.73it/s]"
          ],
          "name": "stderr"
        },
        {
          "output_type": "stream",
          "text": [
            "[MoviePy] Done.\n",
            "[MoviePy] Writing video new_video.mp4\n"
          ],
          "name": "stdout"
        },
        {
          "output_type": "stream",
          "text": [
            "\n",
            "100%|██████████| 1626/1626 [00:07<00:00, 222.92it/s]\n"
          ],
          "name": "stderr"
        },
        {
          "output_type": "stream",
          "text": [
            "[MoviePy] Done.\n",
            "[MoviePy] >>>> Video ready: new_video.mp4 \n",
            "\n",
            "(9180, 8, 2048)\n",
            "Copy of Normal_Videos_129_x264.mp4\n",
            "(2, 8, 2048)\n",
            "(9182, 8, 2048)\n",
            "[MoviePy] >>>> Building video new_video.mp4\n",
            "[MoviePy] Writing audio in new_videoTEMP_MPY_wvf_snd.mp3\n"
          ],
          "name": "stdout"
        },
        {
          "output_type": "stream",
          "text": [
            "100%|██████████| 344/344 [00:00<00:00, 1408.70it/s]"
          ],
          "name": "stderr"
        },
        {
          "output_type": "stream",
          "text": [
            "[MoviePy] Done.\n",
            "[MoviePy] Writing video new_video.mp4\n"
          ],
          "name": "stdout"
        },
        {
          "output_type": "stream",
          "text": [
            "\n",
            "100%|██████████| 468/468 [00:02<00:00, 193.74it/s]\n"
          ],
          "name": "stderr"
        },
        {
          "output_type": "stream",
          "text": [
            "[MoviePy] Done.\n",
            "[MoviePy] >>>> Video ready: new_video.mp4 \n",
            "\n",
            "(9184, 8, 2048)\n",
            "Copy of Normal_Videos_182_x264_Trim.mp4\n",
            "(10, 8, 2048)\n",
            "(9194, 8, 2048)\n",
            "[MoviePy] >>>> Building video new_video.mp4\n",
            "[MoviePy] Writing audio in new_videoTEMP_MPY_wvf_snd.mp3\n"
          ],
          "name": "stdout"
        },
        {
          "output_type": "stream",
          "text": [
            "100%|██████████| 1845/1845 [00:01<00:00, 983.60it/s] "
          ],
          "name": "stderr"
        },
        {
          "output_type": "stream",
          "text": [
            "[MoviePy] Done.\n",
            "[MoviePy] Writing video new_video.mp4\n"
          ],
          "name": "stdout"
        },
        {
          "output_type": "stream",
          "text": [
            "\n",
            "100%|██████████| 2509/2509 [00:11<00:00, 210.82it/s]\n"
          ],
          "name": "stderr"
        },
        {
          "output_type": "stream",
          "text": [
            "[MoviePy] Done.\n",
            "[MoviePy] >>>> Video ready: new_video.mp4 \n",
            "\n",
            "(9204, 8, 2048)\n",
            "Copy of Normal_Videos_168_x264.mp4\n",
            "(7, 8, 2048)\n",
            "(9211, 8, 2048)\n",
            "[MoviePy] >>>> Building video new_video.mp4\n",
            "[MoviePy] Writing audio in new_videoTEMP_MPY_wvf_snd.mp3\n"
          ],
          "name": "stdout"
        },
        {
          "output_type": "stream",
          "text": [
            "100%|██████████| 1279/1279 [00:00<00:00, 1453.57it/s]"
          ],
          "name": "stderr"
        },
        {
          "output_type": "stream",
          "text": [
            "[MoviePy] Done.\n",
            "[MoviePy] Writing video new_video.mp4\n"
          ],
          "name": "stdout"
        },
        {
          "output_type": "stream",
          "text": [
            "\n",
            "100%|█████████▉| 1740/1741 [00:08<00:00, 215.77it/s]\n"
          ],
          "name": "stderr"
        },
        {
          "output_type": "stream",
          "text": [
            "[MoviePy] Done.\n",
            "[MoviePy] >>>> Video ready: new_video.mp4 \n",
            "\n",
            "(9218, 8, 2048)\n",
            "Copy of Normal_Videos_175_x264_Trim.mp4\n",
            "(3, 8, 2048)\n",
            "(9221, 8, 2048)\n",
            "[MoviePy] >>>> Building video new_video.mp4\n",
            "[MoviePy] Writing audio in new_videoTEMP_MPY_wvf_snd.mp3\n"
          ],
          "name": "stdout"
        },
        {
          "output_type": "stream",
          "text": [
            "100%|██████████| 667/667 [00:00<00:00, 1047.50it/s]"
          ],
          "name": "stderr"
        },
        {
          "output_type": "stream",
          "text": [
            "[MoviePy] Done.\n",
            "[MoviePy] Writing video new_video.mp4\n"
          ],
          "name": "stdout"
        },
        {
          "output_type": "stream",
          "text": [
            "\n",
            "100%|██████████| 907/907 [00:03<00:00, 235.51it/s]"
          ],
          "name": "stderr"
        },
        {
          "output_type": "stream",
          "text": [
            "[MoviePy] Done.\n",
            "[MoviePy] >>>> Video ready: new_video.mp4 \n",
            "\n"
          ],
          "name": "stdout"
        },
        {
          "output_type": "stream",
          "text": [
            "\n"
          ],
          "name": "stderr"
        },
        {
          "output_type": "stream",
          "text": [
            "(9224, 8, 2048)\n",
            "Copy of Normal_Videos_067_x264.mp4\n",
            "(4, 8, 2048)\n",
            "(9228, 8, 2048)\n",
            "[MoviePy] >>>> Building video new_video.mp4\n",
            "[MoviePy] Writing audio in new_videoTEMP_MPY_wvf_snd.mp3\n"
          ],
          "name": "stdout"
        },
        {
          "output_type": "stream",
          "text": [
            "100%|██████████| 785/785 [00:00<00:00, 1446.57it/s]"
          ],
          "name": "stderr"
        },
        {
          "output_type": "stream",
          "text": [
            "[MoviePy] Done.\n",
            "[MoviePy] Writing video new_video.mp4\n"
          ],
          "name": "stdout"
        },
        {
          "output_type": "stream",
          "text": [
            "\n",
            "100%|█████████▉| 1068/1069 [00:05<00:00, 181.98it/s]\n"
          ],
          "name": "stderr"
        },
        {
          "output_type": "stream",
          "text": [
            "[MoviePy] Done.\n",
            "[MoviePy] >>>> Video ready: new_video.mp4 \n",
            "\n",
            "(9232, 8, 2048)\n",
            "Copy of Normal_Videos_070_x264_Trim.mp4\n",
            "(2, 8, 2048)\n",
            "(9234, 8, 2048)\n",
            "[MoviePy] >>>> Building video new_video.mp4\n",
            "[MoviePy] Writing audio in new_videoTEMP_MPY_wvf_snd.mp3\n"
          ],
          "name": "stdout"
        },
        {
          "output_type": "stream",
          "text": [
            "100%|██████████| 458/458 [00:00<00:00, 1021.22it/s]"
          ],
          "name": "stderr"
        },
        {
          "output_type": "stream",
          "text": [
            "[MoviePy] Done.\n",
            "[MoviePy] Writing video new_video.mp4\n"
          ],
          "name": "stdout"
        },
        {
          "output_type": "stream",
          "text": [
            "\n",
            "100%|██████████| 623/623 [00:02<00:00, 210.92it/s]\n"
          ],
          "name": "stderr"
        },
        {
          "output_type": "stream",
          "text": [
            "[MoviePy] Done.\n",
            "[MoviePy] >>>> Video ready: new_video.mp4 \n",
            "\n",
            "(9236, 8, 2048)\n",
            "Copy of Normal_Videos_063_x264.mp4\n",
            "(1, 8, 2048)\n",
            "(9237, 8, 2048)\n",
            "[MoviePy] >>>> Building video new_video.mp4\n",
            "[MoviePy] Writing audio in new_videoTEMP_MPY_wvf_snd.mp3\n"
          ],
          "name": "stdout"
        },
        {
          "output_type": "stream",
          "text": [
            "100%|██████████| 263/263 [00:00<00:00, 1507.37it/s]"
          ],
          "name": "stderr"
        },
        {
          "output_type": "stream",
          "text": [
            "[MoviePy] Done.\n",
            "[MoviePy] Writing video new_video.mp4\n"
          ],
          "name": "stdout"
        },
        {
          "output_type": "stream",
          "text": [
            "\n",
            "100%|██████████| 357/357 [00:01<00:00, 197.47it/s]\n"
          ],
          "name": "stderr"
        },
        {
          "output_type": "stream",
          "text": [
            "[MoviePy] Done.\n",
            "[MoviePy] >>>> Video ready: new_video.mp4 \n",
            "\n",
            "(9238, 8, 2048)\n",
            "Copy of Normal_Videos_175_x264_Trim2.mp4\n",
            "(3, 8, 2048)\n",
            "(9241, 8, 2048)\n",
            "[MoviePy] >>>> Building video new_video.mp4\n",
            "[MoviePy] Writing audio in new_videoTEMP_MPY_wvf_snd.mp3\n"
          ],
          "name": "stdout"
        },
        {
          "output_type": "stream",
          "text": [
            "100%|██████████| 679/679 [00:00<00:00, 998.39it/s] "
          ],
          "name": "stderr"
        },
        {
          "output_type": "stream",
          "text": [
            "[MoviePy] Done.\n",
            "[MoviePy] Writing video new_video.mp4\n"
          ],
          "name": "stdout"
        },
        {
          "output_type": "stream",
          "text": [
            "\n",
            "100%|██████████| 924/924 [00:04<00:00, 220.02it/s]\n"
          ],
          "name": "stderr"
        },
        {
          "output_type": "stream",
          "text": [
            "[MoviePy] Done.\n",
            "[MoviePy] >>>> Video ready: new_video.mp4 \n",
            "\n",
            "(9244, 8, 2048)\n",
            "Copy of Normal_Videos_150_x264.mp4\n",
            "(3, 8, 2048)\n",
            "(9247, 8, 2048)\n",
            "[MoviePy] >>>> Building video new_video.mp4\n",
            "[MoviePy] Writing audio in new_videoTEMP_MPY_wvf_snd.mp3\n"
          ],
          "name": "stdout"
        },
        {
          "output_type": "stream",
          "text": [
            "100%|██████████| 636/636 [00:00<00:00, 1406.68it/s]"
          ],
          "name": "stderr"
        },
        {
          "output_type": "stream",
          "text": [
            "[MoviePy] Done.\n",
            "[MoviePy] Writing video new_video.mp4\n"
          ],
          "name": "stdout"
        },
        {
          "output_type": "stream",
          "text": [
            "\n",
            "100%|██████████| 866/866 [00:04<00:00, 184.87it/s]\n"
          ],
          "name": "stderr"
        },
        {
          "output_type": "stream",
          "text": [
            "[MoviePy] Done.\n",
            "[MoviePy] >>>> Video ready: new_video.mp4 \n",
            "\n",
            "(9250, 8, 2048)\n",
            "Copy of Normal_Videos_100_x264.mp4\n",
            "(2, 8, 2048)\n",
            "(9252, 8, 2048)\n",
            "[MoviePy] >>>> Building video new_video.mp4\n",
            "[MoviePy] Writing audio in new_videoTEMP_MPY_wvf_snd.mp3\n"
          ],
          "name": "stdout"
        },
        {
          "output_type": "stream",
          "text": [
            "100%|██████████| 462/462 [00:00<00:00, 1333.69it/s]"
          ],
          "name": "stderr"
        },
        {
          "output_type": "stream",
          "text": [
            "[MoviePy] Done.\n",
            "[MoviePy] Writing video new_video.mp4\n"
          ],
          "name": "stdout"
        },
        {
          "output_type": "stream",
          "text": [
            "\n",
            "100%|██████████| 629/629 [00:03<00:00, 196.23it/s]\n"
          ],
          "name": "stderr"
        },
        {
          "output_type": "stream",
          "text": [
            "[MoviePy] Done.\n",
            "[MoviePy] >>>> Video ready: new_video.mp4 \n",
            "\n",
            "(9254, 8, 2048)\n",
            "Copy of Normal_Videos_042_x264.mp4\n",
            "(13, 8, 2048)\n",
            "(9267, 8, 2048)\n",
            "[MoviePy] >>>> Building video new_video.mp4\n",
            "[MoviePy] Writing audio in new_videoTEMP_MPY_wvf_snd.mp3\n"
          ],
          "name": "stdout"
        },
        {
          "output_type": "stream",
          "text": [
            "100%|██████████| 2320/2320 [00:01<00:00, 1411.81it/s]"
          ],
          "name": "stderr"
        },
        {
          "output_type": "stream",
          "text": [
            "[MoviePy] Done.\n",
            "[MoviePy] Writing video new_video.mp4\n"
          ],
          "name": "stdout"
        },
        {
          "output_type": "stream",
          "text": [
            "\n",
            "100%|██████████| 3157/3157 [00:16<00:00, 194.19it/s]\n"
          ],
          "name": "stderr"
        },
        {
          "output_type": "stream",
          "text": [
            "[MoviePy] Done.\n",
            "[MoviePy] >>>> Video ready: new_video.mp4 \n",
            "\n",
            "(9280, 8, 2048)\n",
            "Copy of Normal_Videos_056_x264.mp4\n",
            "(6, 8, 2048)\n",
            "(9286, 8, 2048)\n",
            "[MoviePy] >>>> Building video new_video.mp4\n",
            "[MoviePy] Writing audio in new_videoTEMP_MPY_wvf_snd.mp3\n"
          ],
          "name": "stdout"
        },
        {
          "output_type": "stream",
          "text": [
            "100%|██████████| 1157/1157 [00:00<00:00, 1371.94it/s]"
          ],
          "name": "stderr"
        },
        {
          "output_type": "stream",
          "text": [
            "[MoviePy] Done.\n",
            "[MoviePy] Writing video new_video.mp4\n"
          ],
          "name": "stdout"
        },
        {
          "output_type": "stream",
          "text": [
            "\n",
            "100%|██████████| 1573/1573 [00:07<00:00, 208.43it/s]\n"
          ],
          "name": "stderr"
        },
        {
          "output_type": "stream",
          "text": [
            "[MoviePy] Done.\n",
            "[MoviePy] >>>> Video ready: new_video.mp4 \n",
            "\n",
            "(9292, 8, 2048)\n",
            "Copy of Normal_Videos_051_x264_Trim.mp4\n",
            "(6, 8, 2048)\n",
            "(9298, 8, 2048)\n",
            "[MoviePy] >>>> Building video new_video.mp4\n",
            "[MoviePy] Writing audio in new_videoTEMP_MPY_wvf_snd.mp3\n"
          ],
          "name": "stdout"
        },
        {
          "output_type": "stream",
          "text": [
            "100%|██████████| 1107/1107 [00:01<00:00, 984.18it/s]"
          ],
          "name": "stderr"
        },
        {
          "output_type": "stream",
          "text": [
            "[MoviePy] Done.\n",
            "[MoviePy] Writing video new_video.mp4\n"
          ],
          "name": "stdout"
        },
        {
          "output_type": "stream",
          "text": [
            "\n",
            "100%|██████████| 1506/1506 [00:06<00:00, 237.34it/s]\n"
          ],
          "name": "stderr"
        },
        {
          "output_type": "stream",
          "text": [
            "[MoviePy] Done.\n",
            "[MoviePy] >>>> Video ready: new_video.mp4 \n",
            "\n",
            "(9304, 8, 2048)\n",
            "Copy of Normal_Videos_041_x264.mp4\n",
            "(5, 8, 2048)\n",
            "(9309, 8, 2048)\n",
            "[MoviePy] >>>> Building video new_video.mp4\n",
            "[MoviePy] Writing audio in new_videoTEMP_MPY_wvf_snd.mp3\n"
          ],
          "name": "stdout"
        },
        {
          "output_type": "stream",
          "text": [
            "100%|██████████| 935/935 [00:00<00:00, 1353.01it/s]"
          ],
          "name": "stderr"
        },
        {
          "output_type": "stream",
          "text": [
            "[MoviePy] Done.\n",
            "[MoviePy] Writing video new_video.mp4\n"
          ],
          "name": "stdout"
        },
        {
          "output_type": "stream",
          "text": [
            "\n",
            "100%|██████████| 1272/1272 [00:06<00:00, 193.86it/s]\n"
          ],
          "name": "stderr"
        },
        {
          "output_type": "stream",
          "text": [
            "[MoviePy] Done.\n",
            "[MoviePy] >>>> Video ready: new_video.mp4 \n",
            "\n",
            "(9314, 8, 2048)\n",
            "Copy of Normal_Videos_048_x264.mp4\n",
            "(6, 8, 2048)\n",
            "(9320, 8, 2048)\n",
            "[MoviePy] >>>> Building video new_video.mp4\n",
            "[MoviePy] Writing audio in new_videoTEMP_MPY_wvf_snd.mp3\n"
          ],
          "name": "stdout"
        },
        {
          "output_type": "stream",
          "text": [
            "100%|██████████| 1227/1227 [00:01<00:00, 712.84it/s]"
          ],
          "name": "stderr"
        },
        {
          "output_type": "stream",
          "text": [
            "[MoviePy] Done.\n",
            "[MoviePy] Writing video new_video.mp4\n"
          ],
          "name": "stdout"
        },
        {
          "output_type": "stream",
          "text": [
            "\n",
            "100%|██████████| 1669/1669 [00:08<00:00, 205.96it/s]\n"
          ],
          "name": "stderr"
        },
        {
          "output_type": "stream",
          "text": [
            "[MoviePy] Done.\n",
            "[MoviePy] >>>> Video ready: new_video.mp4 \n",
            "\n",
            "(9327, 8, 2048)\n",
            "Copy of Normal_Videos_027_x264_Trim2.mp4\n",
            "(3, 8, 2048)\n",
            "(9330, 8, 2048)\n",
            "[MoviePy] >>>> Building video new_video.mp4\n",
            "[MoviePy] Writing audio in new_videoTEMP_MPY_wvf_snd.mp3\n"
          ],
          "name": "stdout"
        },
        {
          "output_type": "stream",
          "text": [
            "100%|██████████| 677/677 [00:00<00:00, 997.98it/s] "
          ],
          "name": "stderr"
        },
        {
          "output_type": "stream",
          "text": [
            "[MoviePy] Done.\n",
            "[MoviePy] Writing video new_video.mp4\n"
          ],
          "name": "stdout"
        },
        {
          "output_type": "stream",
          "text": [
            "\n",
            "100%|██████████| 920/920 [00:03<00:00, 241.24it/s]\n"
          ],
          "name": "stderr"
        },
        {
          "output_type": "stream",
          "text": [
            "[MoviePy] Done.\n",
            "[MoviePy] >>>> Video ready: new_video.mp4 \n",
            "\n",
            "(9333, 8, 2048)\n",
            "Copy of Normal_Videos_033_x264.mp4\n",
            "(7, 8, 2048)\n",
            "(9340, 8, 2048)\n",
            "[MoviePy] >>>> Building video new_video.mp4\n",
            "[MoviePy] Writing audio in new_videoTEMP_MPY_wvf_snd.mp3\n"
          ],
          "name": "stdout"
        },
        {
          "output_type": "stream",
          "text": [
            "100%|██████████| 1236/1236 [00:00<00:00, 1404.76it/s]"
          ],
          "name": "stderr"
        },
        {
          "output_type": "stream",
          "text": [
            "[MoviePy] Done.\n",
            "[MoviePy] Writing video new_video.mp4\n"
          ],
          "name": "stdout"
        },
        {
          "output_type": "stream",
          "text": [
            "\n",
            "100%|██████████| 1681/1681 [00:08<00:00, 190.14it/s]\n"
          ],
          "name": "stderr"
        },
        {
          "output_type": "stream",
          "text": [
            "[MoviePy] Done.\n",
            "[MoviePy] >>>> Video ready: new_video.mp4 \n",
            "\n",
            "(9347, 8, 2048)\n",
            "Copy of Normal_Videos_059_x264.mp4\n",
            "(7, 8, 2048)\n",
            "(9354, 8, 2048)\n",
            "[MoviePy] >>>> Building video new_video.mp4\n",
            "[MoviePy] Writing audio in new_videoTEMP_MPY_wvf_snd.mp3\n"
          ],
          "name": "stdout"
        },
        {
          "output_type": "stream",
          "text": [
            "100%|██████████| 1352/1352 [00:01<00:00, 902.84it/s]"
          ],
          "name": "stderr"
        },
        {
          "output_type": "stream",
          "text": [
            "[MoviePy] Done.\n",
            "[MoviePy] Writing video new_video.mp4\n"
          ],
          "name": "stdout"
        },
        {
          "output_type": "stream",
          "text": [
            "\n",
            "100%|██████████| 1839/1839 [00:11<00:00, 158.04it/s]\n"
          ],
          "name": "stderr"
        },
        {
          "output_type": "stream",
          "text": [
            "[MoviePy] Done.\n",
            "[MoviePy] >>>> Video ready: new_video.mp4 \n",
            "\n",
            "(9361, 8, 2048)\n",
            "Copy of Normal_Videos_050_x264.mp4\n",
            "(17, 8, 2048)\n",
            "(9378, 8, 2048)\n",
            "[MoviePy] >>>> Building video new_video.mp4\n",
            "[MoviePy] Writing audio in new_videoTEMP_MPY_wvf_snd.mp3\n"
          ],
          "name": "stdout"
        },
        {
          "output_type": "stream",
          "text": [
            "100%|██████████| 3086/3086 [00:02<00:00, 1359.43it/s]"
          ],
          "name": "stderr"
        },
        {
          "output_type": "stream",
          "text": [
            "[MoviePy] Done.\n",
            "[MoviePy] Writing video new_video.mp4\n"
          ],
          "name": "stdout"
        },
        {
          "output_type": "stream",
          "text": [
            "\n",
            "100%|██████████| 4199/4199 [00:25<00:00, 162.01it/s]\n"
          ],
          "name": "stderr"
        },
        {
          "output_type": "stream",
          "text": [
            "[MoviePy] Done.\n",
            "[MoviePy] >>>> Video ready: new_video.mp4 \n",
            "\n",
            "(9395, 8, 2048)\n",
            "Copy of Normal_Videos_034_x264.mp4\n",
            "(5, 8, 2048)\n",
            "(9400, 8, 2048)\n",
            "[MoviePy] >>>> Building video new_video.mp4\n",
            "[MoviePy] Writing audio in new_videoTEMP_MPY_wvf_snd.mp3\n"
          ],
          "name": "stdout"
        },
        {
          "output_type": "stream",
          "text": [
            "100%|██████████| 970/970 [00:00<00:00, 1329.01it/s]"
          ],
          "name": "stderr"
        },
        {
          "output_type": "stream",
          "text": [
            "[MoviePy] Done.\n",
            "[MoviePy] Writing video new_video.mp4\n"
          ],
          "name": "stdout"
        },
        {
          "output_type": "stream",
          "text": [
            "\n",
            "100%|██████████| 1320/1320 [00:06<00:00, 212.17it/s]\n"
          ],
          "name": "stderr"
        },
        {
          "output_type": "stream",
          "text": [
            "[MoviePy] Done.\n",
            "[MoviePy] >>>> Video ready: new_video.mp4 \n",
            "\n",
            "(9405, 8, 2048)\n",
            "Copy of Normal_Videos_015_x264.mp4\n",
            "(2, 8, 2048)\n",
            "(9407, 8, 2048)\n",
            "[MoviePy] >>>> Building video new_video.mp4\n",
            "[MoviePy] Writing audio in new_videoTEMP_MPY_wvf_snd.mp3\n"
          ],
          "name": "stdout"
        },
        {
          "output_type": "stream",
          "text": [
            "100%|██████████| 354/354 [00:00<00:00, 1401.91it/s]"
          ],
          "name": "stderr"
        },
        {
          "output_type": "stream",
          "text": [
            "[MoviePy] Done.\n",
            "[MoviePy] Writing video new_video.mp4\n"
          ],
          "name": "stdout"
        },
        {
          "output_type": "stream",
          "text": [
            "\n",
            "100%|██████████| 482/482 [00:02<00:00, 216.31it/s]\n"
          ],
          "name": "stderr"
        },
        {
          "output_type": "stream",
          "text": [
            "[MoviePy] Done.\n",
            "[MoviePy] >>>> Video ready: new_video.mp4 \n",
            "\n",
            "(9409, 8, 2048)\n",
            "Copy of Normal_Videos_018_x264.mp4\n",
            "(5, 8, 2048)\n",
            "(9414, 8, 2048)\n",
            "[MoviePy] >>>> Building video new_video.mp4\n",
            "[MoviePy] Writing audio in new_videoTEMP_MPY_wvf_snd.mp3\n"
          ],
          "name": "stdout"
        },
        {
          "output_type": "stream",
          "text": [
            "100%|██████████| 870/870 [00:00<00:00, 1351.24it/s]"
          ],
          "name": "stderr"
        },
        {
          "output_type": "stream",
          "text": [
            "[MoviePy] Done.\n",
            "[MoviePy] Writing video new_video.mp4\n"
          ],
          "name": "stdout"
        },
        {
          "output_type": "stream",
          "text": [
            "\n",
            "100%|██████████| 1183/1183 [00:05<00:00, 210.63it/s]\n"
          ],
          "name": "stderr"
        },
        {
          "output_type": "stream",
          "text": [
            "[MoviePy] Done.\n",
            "[MoviePy] >>>> Video ready: new_video.mp4 \n",
            "\n",
            "(9419, 8, 2048)\n",
            "Copy of Normal_Videos_025_x264.mp4\n",
            "(2, 8, 2048)\n",
            "(9421, 8, 2048)\n",
            "[MoviePy] >>>> Building video new_video.mp4\n",
            "[MoviePy] Writing audio in new_videoTEMP_MPY_wvf_snd.mp3\n"
          ],
          "name": "stdout"
        },
        {
          "output_type": "stream",
          "text": [
            "100%|██████████| 444/444 [00:00<00:00, 1441.29it/s]\n"
          ],
          "name": "stderr"
        },
        {
          "output_type": "stream",
          "text": [
            "[MoviePy] Done.\n",
            "[MoviePy] Writing video new_video.mp4\n"
          ],
          "name": "stdout"
        },
        {
          "output_type": "stream",
          "text": [
            "100%|██████████| 604/604 [00:02<00:00, 226.68it/s]\n"
          ],
          "name": "stderr"
        },
        {
          "output_type": "stream",
          "text": [
            "[MoviePy] Done.\n",
            "[MoviePy] >>>> Video ready: new_video.mp4 \n",
            "\n",
            "(9423, 8, 2048)\n",
            "Copy of Normal_Videos_010_x264.mp4\n",
            "(4, 8, 2048)\n",
            "(9427, 8, 2048)\n",
            "[MoviePy] >>>> Building video new_video.mp4\n",
            "[MoviePy] Writing audio in new_videoTEMP_MPY_wvf_snd.mp3\n"
          ],
          "name": "stdout"
        },
        {
          "output_type": "stream",
          "text": [
            "100%|██████████| 775/775 [00:00<00:00, 1384.31it/s]"
          ],
          "name": "stderr"
        },
        {
          "output_type": "stream",
          "text": [
            "[MoviePy] Done.\n",
            "[MoviePy] Writing video new_video.mp4\n"
          ],
          "name": "stdout"
        },
        {
          "output_type": "stream",
          "text": [
            "\n",
            "100%|██████████| 1055/1055 [00:04<00:00, 239.93it/s]"
          ],
          "name": "stderr"
        },
        {
          "output_type": "stream",
          "text": [
            "[MoviePy] Done.\n",
            "[MoviePy] >>>> Video ready: new_video.mp4 \n",
            "\n"
          ],
          "name": "stdout"
        },
        {
          "output_type": "stream",
          "text": [
            "\n"
          ],
          "name": "stderr"
        },
        {
          "output_type": "stream",
          "text": [
            "(9431, 8, 2048)\n",
            "Copy of Normal_Videos_003_x264.mp4\n",
            "(11, 8, 2048)\n",
            "(9442, 8, 2048)\n",
            "[MoviePy] >>>> Building video new_video.mp4\n",
            "[MoviePy] Writing audio in new_videoTEMP_MPY_wvf_snd.mp3\n"
          ],
          "name": "stdout"
        },
        {
          "output_type": "stream",
          "text": [
            "100%|██████████| 2076/2076 [00:01<00:00, 1398.68it/s]"
          ],
          "name": "stderr"
        },
        {
          "output_type": "stream",
          "text": [
            "[MoviePy] Done.\n",
            "[MoviePy] Writing video new_video.mp4\n"
          ],
          "name": "stdout"
        },
        {
          "output_type": "stream",
          "text": [
            "\n",
            "100%|██████████| 2824/2824 [00:12<00:00, 231.11it/s]\n"
          ],
          "name": "stderr"
        },
        {
          "output_type": "stream",
          "text": [
            "[MoviePy] Done.\n",
            "[MoviePy] >>>> Video ready: new_video.mp4 \n",
            "\n",
            "(9453, 8, 2048)\n",
            "Copy of Normal_Videos_024_x264.mp4\n",
            "(4, 8, 2048)\n",
            "(9457, 8, 2048)\n",
            "[MoviePy] >>>> Building video new_video.mp4\n",
            "[MoviePy] Writing audio in new_videoTEMP_MPY_wvf_snd.mp3\n"
          ],
          "name": "stdout"
        },
        {
          "output_type": "stream",
          "text": [
            "100%|██████████| 793/793 [00:00<00:00, 1351.52it/s]"
          ],
          "name": "stderr"
        },
        {
          "output_type": "stream",
          "text": [
            "[MoviePy] Done.\n",
            "[MoviePy] Writing video new_video.mp4\n"
          ],
          "name": "stdout"
        },
        {
          "output_type": "stream",
          "text": [
            "\n",
            "100%|██████████| 1079/1079 [00:05<00:00, 203.64it/s]\n"
          ],
          "name": "stderr"
        },
        {
          "output_type": "stream",
          "text": [
            "[MoviePy] Done.\n",
            "[MoviePy] >>>> Video ready: new_video.mp4 \n",
            "\n",
            "(9461, 8, 2048)\n",
            "Copy of Normal_Videos_019_x264_Trim.mp4\n",
            "(7, 8, 2048)\n",
            "(9468, 8, 2048)\n",
            "[MoviePy] >>>> Building video new_video.mp4\n",
            "[MoviePy] Writing audio in new_videoTEMP_MPY_wvf_snd.mp3\n"
          ],
          "name": "stdout"
        },
        {
          "output_type": "stream",
          "text": [
            "100%|██████████| 1221/1221 [00:01<00:00, 982.94it/s]"
          ],
          "name": "stderr"
        },
        {
          "output_type": "stream",
          "text": [
            "[MoviePy] Done.\n",
            "[MoviePy] Writing video new_video.mp4\n"
          ],
          "name": "stdout"
        },
        {
          "output_type": "stream",
          "text": [
            "\n",
            "100%|██████████| 1661/1661 [00:07<00:00, 224.94it/s]\n"
          ],
          "name": "stderr"
        },
        {
          "output_type": "stream",
          "text": [
            "[MoviePy] Done.\n",
            "[MoviePy] >>>> Video ready: new_video.mp4 \n",
            "\n",
            "(9475, 8, 2048)\n",
            "Copy of Normal_Videos_014_x264_Trim.mp4\n",
            "(3, 8, 2048)\n",
            "(9478, 8, 2048)\n",
            "[MoviePy] >>>> Building video new_video.mp4\n",
            "[MoviePy] Writing audio in new_videoTEMP_MPY_wvf_snd.mp3\n"
          ],
          "name": "stdout"
        },
        {
          "output_type": "stream",
          "text": [
            "100%|██████████| 678/678 [00:00<00:00, 893.15it/s]"
          ],
          "name": "stderr"
        },
        {
          "output_type": "stream",
          "text": [
            "[MoviePy] Done.\n",
            "[MoviePy] Writing video new_video.mp4\n"
          ],
          "name": "stdout"
        },
        {
          "output_type": "stream",
          "text": [
            "\n",
            "100%|██████████| 923/923 [00:04<00:00, 222.76it/s]\n"
          ],
          "name": "stderr"
        },
        {
          "output_type": "stream",
          "text": [
            "[MoviePy] Done.\n",
            "[MoviePy] >>>> Video ready: new_video.mp4 \n",
            "\n",
            "(9481, 8, 2048)\n",
            "Copy of Normal_Videos_027_x264_Trim.mp4\n",
            "(3, 8, 2048)\n",
            "(9484, 8, 2048)\n",
            "[MoviePy] >>>> Building video new_video.mp4\n",
            "[MoviePy] Writing audio in new_videoTEMP_MPY_wvf_snd.mp3\n"
          ],
          "name": "stdout"
        },
        {
          "output_type": "stream",
          "text": [
            "100%|██████████| 672/672 [00:00<00:00, 948.14it/s]"
          ],
          "name": "stderr"
        },
        {
          "output_type": "stream",
          "text": [
            "[MoviePy] Done.\n",
            "[MoviePy] Writing video new_video.mp4\n"
          ],
          "name": "stdout"
        },
        {
          "output_type": "stream",
          "text": [
            "\n",
            "100%|██████████| 914/914 [00:04<00:00, 215.94it/s]"
          ],
          "name": "stderr"
        },
        {
          "output_type": "stream",
          "text": [
            "[MoviePy] Done.\n",
            "[MoviePy] >>>> Video ready: new_video.mp4 \n",
            "\n"
          ],
          "name": "stdout"
        },
        {
          "output_type": "stream",
          "text": [
            "\n"
          ],
          "name": "stderr"
        },
        {
          "output_type": "stream",
          "text": [
            "(9487, 8, 2048)\n",
            "Copy of Normal_Videos_006_x264.mp4\n",
            "(1, 8, 2048)\n",
            "(9488, 8, 2048)\n",
            "[MoviePy] >>>> Building video new_video.mp4\n",
            "[MoviePy] Writing audio in new_videoTEMP_MPY_wvf_snd.mp3\n"
          ],
          "name": "stdout"
        },
        {
          "output_type": "stream",
          "text": [
            "100%|██████████| 332/332 [00:00<00:00, 1354.17it/s]"
          ],
          "name": "stderr"
        },
        {
          "output_type": "stream",
          "text": [
            "[MoviePy] Done.\n",
            "[MoviePy] Writing video new_video.mp4\n"
          ],
          "name": "stdout"
        },
        {
          "output_type": "stream",
          "text": [
            "\n",
            "100%|██████████| 451/451 [00:02<00:00, 205.57it/s]\n"
          ],
          "name": "stderr"
        },
        {
          "output_type": "stream",
          "text": [
            "[MoviePy] Done.\n",
            "[MoviePy] >>>> Video ready: new_video.mp4 \n",
            "\n",
            "(9490, 8, 2048)\n",
            "Copy of Normal_Videos103_x264_Trim.mp4\n",
            "(2, 8, 2048)\n",
            "(9492, 8, 2048)\n",
            "[MoviePy] >>>> Building video new_video.mp4\n",
            "[MoviePy] Writing audio in new_videoTEMP_MPY_wvf_snd.mp3\n"
          ],
          "name": "stdout"
        },
        {
          "output_type": "stream",
          "text": [
            "100%|██████████| 460/460 [00:00<00:00, 986.94it/s]"
          ],
          "name": "stderr"
        },
        {
          "output_type": "stream",
          "text": [
            "[MoviePy] Done.\n",
            "[MoviePy] Writing video new_video.mp4\n"
          ],
          "name": "stdout"
        },
        {
          "output_type": "stream",
          "text": [
            "\n",
            "100%|██████████| 626/626 [00:02<00:00, 241.51it/s]"
          ],
          "name": "stderr"
        },
        {
          "output_type": "stream",
          "text": [
            "[MoviePy] Done.\n",
            "[MoviePy] >>>> Video ready: new_video.mp4 \n",
            "\n"
          ],
          "name": "stdout"
        },
        {
          "output_type": "stream",
          "text": [
            "\n"
          ],
          "name": "stderr"
        },
        {
          "output_type": "stream",
          "text": [
            "(9494, 8, 2048)\n",
            "Copy of Normal_Videos101_x264_Trim.mp4\n",
            "(4, 8, 2048)\n",
            "(9498, 8, 2048)\n",
            "[MoviePy] >>>> Building video new_video.mp4\n",
            "[MoviePy] Writing audio in new_videoTEMP_MPY_wvf_snd.mp3\n"
          ],
          "name": "stdout"
        },
        {
          "output_type": "stream",
          "text": [
            "100%|██████████| 706/706 [00:01<00:00, 575.35it/s]"
          ],
          "name": "stderr"
        },
        {
          "output_type": "stream",
          "text": [
            "[MoviePy] Done.\n",
            "[MoviePy] Writing video new_video.mp4\n"
          ],
          "name": "stdout"
        },
        {
          "output_type": "stream",
          "text": [
            "\n",
            "100%|█████████▉| 960/961 [00:04<00:00, 229.44it/s]\n"
          ],
          "name": "stderr"
        },
        {
          "output_type": "stream",
          "text": [
            "[MoviePy] Done.\n",
            "[MoviePy] >>>> Video ready: new_video.mp4 \n",
            "\n",
            "(9502, 8, 2048)\n",
            "Copy of Normal_Videos102_x264_Trim.mp4\n",
            "(3, 8, 2048)\n",
            "(9505, 8, 2048)\n",
            "[MoviePy] >>>> Building video new_video.mp4\n",
            "[MoviePy] Writing audio in new_videoTEMP_MPY_wvf_snd.mp3\n"
          ],
          "name": "stdout"
        },
        {
          "output_type": "stream",
          "text": [
            "100%|██████████| 684/684 [00:00<00:00, 980.12it/s]\n"
          ],
          "name": "stderr"
        },
        {
          "output_type": "stream",
          "text": [
            "[MoviePy] Done.\n",
            "[MoviePy] Writing video new_video.mp4\n"
          ],
          "name": "stdout"
        },
        {
          "output_type": "stream",
          "text": [
            "100%|██████████| 930/930 [00:04<00:00, 223.64it/s]\n"
          ],
          "name": "stderr"
        },
        {
          "output_type": "stream",
          "text": [
            "[MoviePy] Done.\n",
            "[MoviePy] >>>> Video ready: new_video.mp4 \n",
            "\n",
            "(9508, 8, 2048)\n"
          ],
          "name": "stdout"
        }
      ]
    },
    {
      "cell_type": "code",
      "metadata": {
        "id": "aviEkDeHw2ZK",
        "colab_type": "code",
        "colab": {}
      },
      "source": [
        "labels_encoded_train = np_utils.to_categorical(labels_train)"
      ],
      "execution_count": null,
      "outputs": []
    },
    {
      "cell_type": "code",
      "metadata": {
        "id": "2MuIdmsQxW2q",
        "colab_type": "code",
        "colab": {}
      },
      "source": [
        "import pickle\n",
        "\n",
        "pickle_out=open('/content/drive1/My Drive/Training_Set_values1.pickle',\"wb\")\n",
        "pickle.dump(transfer_values_train, pickle_out)\n",
        "pickle_out.close()\n",
        "\n",
        "pickle_out=open('/content/drive1/My Drive/Training_Set_labels1.pickle',\"wb\")\n",
        "pickle.dump(labels_encoded_train, pickle_out)\n",
        "pickle_out.close()"
      ],
      "execution_count": null,
      "outputs": []
    }
  ]
}