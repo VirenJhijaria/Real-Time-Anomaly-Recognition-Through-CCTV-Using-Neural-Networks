{
  "nbformat": 4,
  "nbformat_minor": 0,
  "metadata": {
    "colab": {
      "name": "Feature_Reduction.ipynb",
      "provenance": [],
      "machine_shape": "hm"
    },
    "kernelspec": {
      "name": "python3",
      "display_name": "Python 3"
    },
    "accelerator": "GPU"
  },
  "cells": [
    {
      "cell_type": "markdown",
      "metadata": {
        "id": "ASrtt_UCckRB",
        "colab_type": "text"
      },
      "source": [
        "#Loading Header Files:"
      ]
    },
    {
      "cell_type": "code",
      "metadata": {
        "id": "Dhzenz2NlAYE",
        "colab_type": "code",
        "colab": {
          "base_uri": "https://localhost:8080/",
          "height": 144
        },
        "outputId": "2c34695d-0003-4166-a125-67d6dcb6beb4"
      },
      "source": [
        "import re\n",
        "import os, sys\n",
        "import random\n",
        "import pickle\n",
        "import numpy as np\n",
        "import numpy.random\n",
        "import skimage.io\n",
        "import matplotlib\n",
        "import matplotlib.pyplot as plt\n",
        "%matplotlib inline\n",
        "import cv2\n",
        "import keras\n",
        "\n",
        "\n",
        "from moviepy.editor import VideoFileClip, vfx\n",
        "from keras.preprocessing import image\n",
        "from keras.applications.inception_v3 import InceptionV3, preprocess_input\n",
        "from keras.models import Model, load_model, Sequential\n",
        "from keras.layers import Input, LSTM, Bidirectional, Dropout, Dense, Activation\n",
        "from keras_layer_normalization import LayerNormalization\n",
        "from keras import regularizers\n",
        "from keras.utils import to_categorical\n",
        "from keras.utils import np_utils"
      ],
      "execution_count": null,
      "outputs": [
        {
          "output_type": "stream",
          "text": [
            "Imageio: 'ffmpeg-linux64-v3.3.1' was not found on your computer; downloading it now.\n",
            "Try 1. Download from https://github.com/imageio/imageio-binaries/raw/master/ffmpeg/ffmpeg-linux64-v3.3.1 (43.8 MB)\n",
            "Downloading: 8192/45929032 bytes (0.0%)\b\b\b\b\b\b\b\b\b\b\b\b\b\b\b\b\b\b\b\b\b\b\b\b\b\b1818624/45929032 bytes (4.0%)\b\b\b\b\b\b\b\b\b\b\b\b\b\b\b\b\b\b\b\b\b\b\b\b\b\b\b\b\b5718016/45929032 bytes (12.4%)\b\b\b\b\b\b\b\b\b\b\b\b\b\b\b\b\b\b\b\b\b\b\b\b\b\b\b\b\b\b9723904/45929032 bytes (21.2%)\b\b\b\b\b\b\b\b\b\b\b\b\b\b\b\b\b\b\b\b\b\b\b\b\b\b\b\b\b\b13664256/45929032 bytes (29.8%)\b\b\b\b\b\b\b\b\b\b\b\b\b\b\b\b\b\b\b\b\b\b\b\b\b\b\b\b\b\b\b17498112/45929032 bytes (38.1%)\b\b\b\b\b\b\b\b\b\b\b\b\b\b\b\b\b\b\b\b\b\b\b\b\b\b\b\b\b\b\b21405696/45929032 bytes (46.6%)\b\b\b\b\b\b\b\b\b\b\b\b\b\b\b\b\b\b\b\b\b\b\b\b\b\b\b\b\b\b\b25296896/45929032 bytes (55.1%)\b\b\b\b\b\b\b\b\b\b\b\b\b\b\b\b\b\b\b\b\b\b\b\b\b\b\b\b\b\b\b29032448/45929032 bytes (63.2%)\b\b\b\b\b\b\b\b\b\b\b\b\b\b\b\b\b\b\b\b\b\b\b\b\b\b\b\b\b\b\b32890880/45929032 bytes (71.6%)\b\b\b\b\b\b\b\b\b\b\b\b\b\b\b\b\b\b\b\b\b\b\b\b\b\b\b\b\b\b\b36847616/45929032 bytes (80.2%)\b\b\b\b\b\b\b\b\b\b\b\b\b\b\b\b\b\b\b\b\b\b\b\b\b\b\b\b\b\b\b40828928/45929032 bytes (88.9%)\b\b\b\b\b\b\b\b\b\b\b\b\b\b\b\b\b\b\b\b\b\b\b\b\b\b\b\b\b\b\b44859392/45929032 bytes (97.7%)\b\b\b\b\b\b\b\b\b\b\b\b\b\b\b\b\b\b\b\b\b\b\b\b\b\b\b\b\b\b\b45929032/45929032 bytes (100.0%)\n",
            "  Done\n",
            "File saved as /root/.imageio/ffmpeg/ffmpeg-linux64-v3.3.1.\n"
          ],
          "name": "stdout"
        },
        {
          "output_type": "stream",
          "text": [
            "Using TensorFlow backend.\n"
          ],
          "name": "stderr"
        }
      ]
    },
    {
      "cell_type": "markdown",
      "metadata": {
        "id": "FYJ_r7LNdLpr",
        "colab_type": "text"
      },
      "source": [
        "#Mounting Drive:\n"
      ]
    },
    {
      "cell_type": "code",
      "metadata": {
        "id": "8KJPzl-GkAaj",
        "colab_type": "code",
        "colab": {
          "base_uri": "https://localhost:8080/",
          "height": 126
        },
        "outputId": "7093ea00-4dce-419d-f92a-fec8c3884c39"
      },
      "source": [
        "#Mounting the first drive:\n",
        "from google.colab import drive\n",
        "drive.mount('/content/drive1')"
      ],
      "execution_count": null,
      "outputs": [
        {
          "output_type": "stream",
          "text": [
            "Go to this URL in a browser: https://accounts.google.com/o/oauth2/auth?client_id=947318989803-6bn6qk8qdgf4n4g3pfee6491hc0brc4i.apps.googleusercontent.com&redirect_uri=urn%3aietf%3awg%3aoauth%3a2.0%3aoob&response_type=code&scope=email%20https%3a%2f%2fwww.googleapis.com%2fauth%2fdocs.test%20https%3a%2f%2fwww.googleapis.com%2fauth%2fdrive%20https%3a%2f%2fwww.googleapis.com%2fauth%2fdrive.photos.readonly%20https%3a%2f%2fwww.googleapis.com%2fauth%2fpeopleapi.readonly\n",
            "\n",
            "Enter your authorization code:\n",
            "··········\n",
            "Mounted at /content/drive1\n"
          ],
          "name": "stdout"
        }
      ]
    },
    {
      "cell_type": "code",
      "metadata": {
        "id": "tD8FIk1jlCSy",
        "colab_type": "code",
        "colab": {
          "base_uri": "https://localhost:8080/",
          "height": 232
        },
        "outputId": "8b766033-1ded-4da7-dd9d-a92078879709"
      },
      "source": [
        "#Mounting the second drive:\n",
        "!apt-get install -y -qq software-properties-common python-software-properties module-init-tools\n",
        "!add-apt-repository -y ppa:alessandro-strada/ppa 2>&1 > /dev/null\n",
        "!apt-get update -qq 2>&1 > /dev/null\n",
        "!apt-get -y install -qq google-drive-ocamlfuse fuse\n",
        "from google.colab import auth\n",
        "auth.authenticate_user()\n",
        "from oauth2client.client import GoogleCredentials\n",
        "creds = GoogleCredentials.get_application_default()\n",
        "import getpass\n",
        "!google-drive-ocamlfuse -headless -id={creds.client_id} -secret={creds.client_secret} < /dev/null 2>&1 | grep URL\n",
        "vcode = getpass.getpass()\n",
        "!echo {vcode} | google-drive-ocamlfuse -headless -id={creds.client_id} -secret={creds.client_secret}\n",
        "!mkdir -p /content/drive2\n",
        "!google-drive-ocamlfuse /content/drive2"
      ],
      "execution_count": null,
      "outputs": [
        {
          "output_type": "stream",
          "text": [
            "E: Package 'python-software-properties' has no installation candidate\n",
            "Selecting previously unselected package google-drive-ocamlfuse.\n",
            "(Reading database ... 144568 files and directories currently installed.)\n",
            "Preparing to unpack .../google-drive-ocamlfuse_0.7.19-0ubuntu1~ubuntu18.04.1_amd64.deb ...\n",
            "Unpacking google-drive-ocamlfuse (0.7.19-0ubuntu1~ubuntu18.04.1) ...\n",
            "Setting up google-drive-ocamlfuse (0.7.19-0ubuntu1~ubuntu18.04.1) ...\n",
            "Processing triggers for man-db (2.8.3-2ubuntu0.1) ...\n",
            "Please, open the following URL in a web browser: https://accounts.google.com/o/oauth2/auth?client_id=32555940559.apps.googleusercontent.com&redirect_uri=urn%3Aietf%3Awg%3Aoauth%3A2.0%3Aoob&scope=https%3A%2F%2Fwww.googleapis.com%2Fauth%2Fdrive&response_type=code&access_type=offline&approval_prompt=force\n",
            "··········\n",
            "Please, open the following URL in a web browser: https://accounts.google.com/o/oauth2/auth?client_id=32555940559.apps.googleusercontent.com&redirect_uri=urn%3Aietf%3Awg%3Aoauth%3A2.0%3Aoob&scope=https%3A%2F%2Fwww.googleapis.com%2Fauth%2Fdrive&response_type=code&access_type=offline&approval_prompt=force\n",
            "Please enter the verification code: Access token retrieved correctly.\n"
          ],
          "name": "stdout"
        }
      ]
    },
    {
      "cell_type": "markdown",
      "metadata": {
        "id": "RCOBTpSBdRdO",
        "colab_type": "text"
      },
      "source": [
        "#Transfer Learning:"
      ]
    },
    {
      "cell_type": "code",
      "metadata": {
        "id": "vNjt51VgivlE",
        "colab_type": "code",
        "colab": {}
      },
      "source": [
        "# c_to_n={\"Abuse\":0,\"Arson\":1,\"Assault\":2,\"Burglary\":3,\"Explosion\":4,\"Fighting\":5,\"RoadAccidents\":6,\"Robbery\":7,\"Shooting\":8,\"Shoplifting\":9,\"Stealing\":10,\"Vandalism\":11,\"Normal\":12}\n",
        "c_to_n={\"Anomaly\":0,\"Normal\":1}"
      ],
      "execution_count": null,
      "outputs": []
    },
    {
      "cell_type": "markdown",
      "metadata": {
        "id": "FdrkxVqNdYvR",
        "colab_type": "text"
      },
      "source": [
        "###Loading InceptionV3:"
      ]
    },
    {
      "cell_type": "code",
      "metadata": {
        "id": "MI3VsmQgqau6",
        "colab_type": "code",
        "colab": {
          "base_uri": "https://localhost:8080/",
          "height": 72
        },
        "outputId": "284b6e2a-a6f3-4a15-966b-6317338a60b5"
      },
      "source": [
        "# Get model with pretrained weights.\n",
        "base_model = InceptionV3(\n",
        "weights='imagenet',\n",
        "include_top=True)\n",
        "    \n",
        "    \n",
        "# We'll extract features at the final pool layer.\n",
        "model = Model(\n",
        "    inputs=base_model.input, \n",
        "    outputs=base_model.get_layer('avg_pool').output)\n"
      ],
      "execution_count": null,
      "outputs": [
        {
          "output_type": "stream",
          "text": [
            "Downloading data from https://github.com/fchollet/deep-learning-models/releases/download/v0.5/inception_v3_weights_tf_dim_ordering_tf_kernels.h5\n",
            "96116736/96112376 [==============================] - 1s 0us/step\n"
          ],
          "name": "stdout"
        }
      ]
    },
    {
      "cell_type": "markdown",
      "metadata": {
        "id": "A-t-qpGrdgxi",
        "colab_type": "text"
      },
      "source": [
        "###Feature Reduction:"
      ]
    },
    {
      "cell_type": "code",
      "metadata": {
        "id": "pgrK3YmXqdKa",
        "colab_type": "code",
        "colab": {}
      },
      "source": [
        "# images = [] \n",
        "# labels_t=[]\n",
        "\n",
        "def video_frame(path,label):\n",
        "  \n",
        "  features=[]\n",
        "  images = []\n",
        "  labels_t=[]\n",
        "  cap = cv2.VideoCapture(path)\n",
        "  count=0;\n",
        "  framerate = int(cap.get(cv2.CAP_PROP_FPS))\n",
        "  i=0;\n",
        "  count_frame=0\n",
        "  c=0\n",
        "  while(True):\n",
        "      # Capture frame-by-frame\n",
        "      ret, frame = cap.read()\n",
        "\n",
        "      if not ret: \n",
        "        break\n",
        "      \n",
        "#      if frame is None:\n",
        "#       break;\n",
        "\n",
        "\n",
        "      # Saves image of the current frame in jpg file\n",
        "      \n",
        "      elif count%(1*framerate) == 0 :\n",
        "        frame = preprocess_input(cv2.resize(frame, (299,299)))\n",
        "        images.append(frame)\n",
        "        count_frame+=1;\n",
        "        # cv2_imshow(frame)\n",
        "      if(count_frame==8):\n",
        "        f = model.predict(np.array(images))\n",
        "        features.append(f)\n",
        "        labels_t.append(c_to_n[label])\n",
        "        images = []\n",
        "        count_frame=0\n",
        "      \n",
        "      count+=1;\n",
        "\n",
        "      \n",
        "  # When everything done, release the capture\n",
        "  cap.release()\n",
        "  cv2.destroyAllWindows()\n",
        "  \n",
        "#   f = model.predict(np.array(images))\n",
        "  \n",
        "  return features, labels_t"
      ],
      "execution_count": null,
      "outputs": []
    },
    {
      "cell_type": "markdown",
      "metadata": {
        "id": "yyxXiuWsdn0B",
        "colab_type": "text"
      },
      "source": [
        "#Creating and Saving Training, Validation and Testing Datasets:\n",
        "###1. Feature Reduction\n",
        "###2. Flipping Videos\n",
        "###3. One-hot encoding"
      ]
    },
    {
      "cell_type": "code",
      "metadata": {
        "id": "iKrSVhqkCmbB",
        "colab_type": "code",
        "colab": {}
      },
      "source": [
        "path=['/content/drive1/My Drive/Training_Set','/content/drive1/My Drive/Validation_Set','/content/drive1/My Drive/Testing_Set']"
      ],
      "execution_count": null,
      "outputs": []
    },
    {
      "cell_type": "code",
      "metadata": {
        "id": "GBekfRw7Eo4M",
        "colab_type": "code",
        "colab": {}
      },
      "source": [
        "labels=['Abuse','Arson','Assault','Burglary','Explosion','Fighting','RoadAccidents','Robbery','Shooting','Shoplifting','Stealing','Vandalism','Normal']\n",
        "ignore=['.ipynb_checkpoints','Normal_Videos_251_x264.mp4']"
      ],
      "execution_count": null,
      "outputs": []
    },
    {
      "cell_type": "code",
      "metadata": {
        "id": "F84t9sh2q0mE",
        "colab_type": "code",
        "colab": {}
      },
      "source": [
        "labels_train=[]\n",
        "transfer_values_train=[]\n",
        "\n",
        "p=path[0]\n",
        "dir_list=os.listdir(p)\n",
        "for dl in dir_list:\n",
        "    print(str(dl))\n",
        "    for lab in labels:\n",
        "      if re.search(lab,str(dl))!=None:\n",
        "        if lab=='Normal':\n",
        "          label=lab\n",
        "          break\n",
        "        else:\n",
        "          label='Anomaly'\n",
        "          break\n",
        "    features, l=video_frame(p+'/'+str(dl),label)\n",
        "    labels_train.extend(l)\n",
        "    print(np.array(features).shape)\n",
        "    transfer_values_train.extend(np.array(features))\n",
        "    print(np.array(transfer_values_train).shape)\n",
        "\n",
        "    #flip the video\n",
        "    if str(dl) not in ignore:\n",
        "      clip = VideoFileClip(p+'/'+str(dl))\n",
        "      reversed_clip = clip.fx(vfx.mirror_x)\n",
        "      reversed_clip.write_videofile('new_video.mp4')\n",
        "      features, l=video_frame('new_video.mp4',label)\n",
        "      transfer_values_train.extend(np.array(features))\n",
        "      labels_train.extend(l)\n",
        "      print(np.array(transfer_values_train).shape)"
      ],
      "execution_count": null,
      "outputs": []
    },
    {
      "cell_type": "code",
      "metadata": {
        "id": "0wyg7PBDHxgN",
        "colab_type": "code",
        "colab": {}
      },
      "source": [
        "from keras.utils import np_utils\n",
        "labels_encoded_train = np_utils.to_categorical(labels_train)"
      ],
      "execution_count": null,
      "outputs": []
    },
    {
      "cell_type": "code",
      "metadata": {
        "id": "xN5pM992HA4W",
        "colab_type": "code",
        "colab": {}
      },
      "source": [
        "import pickle\n",
        "\n",
        "pickle_out=open('/content/drive1/My Drive/Training_Set_values1.pickle',\"wb\")\n",
        "pickle.dump(transfer_values_train, pickle_out)\n",
        "pickle_out.close()\n",
        "\n",
        "pickle_out=open('/content/drive1/My Drive/Training_Set_labels1.pickle',\"wb\")\n",
        "pickle.dump(labels_encoded_train, pickle_out)\n",
        "pickle_out.close()"
      ],
      "execution_count": null,
      "outputs": []
    },
    {
      "cell_type": "code",
      "metadata": {
        "id": "vGInZT3GFg-u",
        "colab_type": "code",
        "colab": {
          "base_uri": "https://localhost:8080/",
          "height": 1000
        },
        "outputId": "d4d893b2-380d-4a28-8c51-a5216e4a42c7"
      },
      "source": [
        "labels_val=[]\n",
        "transfer_values_val=[]\n",
        "\n",
        "p=path[1]\n",
        "dir_list=os.listdir(p)\n",
        "for dl in dir_list:\n",
        "    print(str(dl))\n",
        "    for lab in labels:\n",
        "      if re.search(lab,str(dl))!=None:\n",
        "        if lab=='Normal':\n",
        "          label=lab\n",
        "          break\n",
        "        else:\n",
        "          label=\"Anomaly\"\n",
        "          break\n",
        "    features, l=video_frame(p+'/'+str(dl),label)\n",
        "    labels_val.extend(l)\n",
        "    print(np.array(features).shape)\n",
        "    transfer_values_val.extend(np.array(features))\n",
        "    print(np.array(transfer_values_val).shape)\n",
        "\n",
        "    #flip the video\n",
        "    if str(dl) not in ignore:\n",
        "      clip = VideoFileClip(p+'/'+str(dl))\n",
        "      reversed_clip = clip.fx(vfx.mirror_x)\n",
        "      reversed_clip.write_videofile('new_video.mp4')\n",
        "      features, l=video_frame('new_video.mp4',label)\n",
        "      transfer_values_val.extend(np.array(features))\n",
        "      labels_val.extend(l)\n",
        "      print(np.array(transfer_values_val).shape)"
      ],
      "execution_count": null,
      "outputs": [
        {
          "output_type": "stream",
          "text": [
            "Abuse026.mp4\n",
            "(5, 8, 2048)\n",
            "(5, 8, 2048)\n",
            "[MoviePy] >>>> Building video new_video.mp4\n",
            "[MoviePy] Writing audio in new_videoTEMP_MPY_wvf_snd.mp3\n"
          ],
          "name": "stdout"
        },
        {
          "output_type": "stream",
          "text": [
            "100%|██████████| 939/939 [00:00<00:00, 1438.74it/s]"
          ],
          "name": "stderr"
        },
        {
          "output_type": "stream",
          "text": [
            "[MoviePy] Done.\n",
            "[MoviePy] Writing video new_video.mp4\n"
          ],
          "name": "stdout"
        },
        {
          "output_type": "stream",
          "text": [
            "\n",
            "100%|██████████| 1278/1278 [00:04<00:00, 314.97it/s]\n"
          ],
          "name": "stderr"
        },
        {
          "output_type": "stream",
          "text": [
            "[MoviePy] Done.\n",
            "[MoviePy] >>>> Video ready: new_video.mp4 \n",
            "\n",
            "(10, 8, 2048)\n",
            "Abuse027.mp4\n",
            "(11, 8, 2048)\n",
            "(21, 8, 2048)\n",
            "[MoviePy] >>>> Building video new_video.mp4\n",
            "[MoviePy] Writing audio in new_videoTEMP_MPY_wvf_snd.mp3\n"
          ],
          "name": "stdout"
        },
        {
          "output_type": "stream",
          "text": [
            "100%|██████████| 2000/2000 [00:01<00:00, 1331.42it/s]"
          ],
          "name": "stderr"
        },
        {
          "output_type": "stream",
          "text": [
            "[MoviePy] Done.\n",
            "[MoviePy] Writing video new_video.mp4\n"
          ],
          "name": "stdout"
        },
        {
          "output_type": "stream",
          "text": [
            "\n",
            "100%|██████████| 2721/2721 [00:07<00:00, 341.25it/s]\n"
          ],
          "name": "stderr"
        },
        {
          "output_type": "stream",
          "text": [
            "[MoviePy] Done.\n",
            "[MoviePy] >>>> Video ready: new_video.mp4 \n",
            "\n",
            "(32, 8, 2048)\n",
            "Abuse031.mp4\n",
            "(11, 8, 2048)\n",
            "(43, 8, 2048)\n",
            "[MoviePy] >>>> Building video new_video.mp4\n",
            "[MoviePy] Writing audio in new_videoTEMP_MPY_wvf_snd.mp3\n"
          ],
          "name": "stdout"
        },
        {
          "output_type": "stream",
          "text": [
            "100%|██████████| 1954/1954 [00:01<00:00, 1417.46it/s]"
          ],
          "name": "stderr"
        },
        {
          "output_type": "stream",
          "text": [
            "[MoviePy] Done.\n",
            "[MoviePy] Writing video new_video.mp4\n"
          ],
          "name": "stdout"
        },
        {
          "output_type": "stream",
          "text": [
            "\n",
            "100%|██████████| 2658/2658 [00:06<00:00, 399.83it/s]\n"
          ],
          "name": "stderr"
        },
        {
          "output_type": "stream",
          "text": [
            "[MoviePy] Done.\n",
            "[MoviePy] >>>> Video ready: new_video.mp4 \n",
            "\n",
            "(54, 8, 2048)\n",
            "Abuse033.mp4\n",
            "(6, 8, 2048)\n",
            "(60, 8, 2048)\n",
            "[MoviePy] >>>> Building video new_video.mp4\n",
            "[MoviePy] Writing audio in new_videoTEMP_MPY_wvf_snd.mp3\n"
          ],
          "name": "stdout"
        },
        {
          "output_type": "stream",
          "text": [
            "100%|██████████| 1102/1102 [00:00<00:00, 1436.85it/s]"
          ],
          "name": "stderr"
        },
        {
          "output_type": "stream",
          "text": [
            "[MoviePy] Done.\n",
            "[MoviePy] Writing video new_video.mp4\n"
          ],
          "name": "stdout"
        },
        {
          "output_type": "stream",
          "text": [
            "\n",
            "100%|██████████| 1499/1499 [00:04<00:00, 340.81it/s]\n"
          ],
          "name": "stderr"
        },
        {
          "output_type": "stream",
          "text": [
            "[MoviePy] Done.\n",
            "[MoviePy] >>>> Video ready: new_video.mp4 \n",
            "\n",
            "(66, 8, 2048)\n",
            "Abuse034.mp4\n",
            "(4, 8, 2048)\n",
            "(70, 8, 2048)\n",
            "[MoviePy] >>>> Building video new_video.mp4\n",
            "[MoviePy] Writing audio in new_videoTEMP_MPY_wvf_snd.mp3\n"
          ],
          "name": "stdout"
        },
        {
          "output_type": "stream",
          "text": [
            "100%|██████████| 853/853 [00:01<00:00, 817.60it/s]"
          ],
          "name": "stderr"
        },
        {
          "output_type": "stream",
          "text": [
            "[MoviePy] Done.\n",
            "[MoviePy] Writing video new_video.mp4\n"
          ],
          "name": "stdout"
        },
        {
          "output_type": "stream",
          "text": [
            "\n",
            "100%|██████████| 1160/1160 [00:03<00:00, 323.14it/s]\n"
          ],
          "name": "stderr"
        },
        {
          "output_type": "stream",
          "text": [
            "[MoviePy] Done.\n",
            "[MoviePy] >>>> Video ready: new_video.mp4 \n",
            "\n",
            "(74, 8, 2048)\n",
            "Abuse035.mp4\n",
            "(10, 8, 2048)\n",
            "(84, 8, 2048)\n",
            "[MoviePy] >>>> Building video new_video.mp4\n",
            "[MoviePy] Writing audio in new_videoTEMP_MPY_wvf_snd.mp3\n"
          ],
          "name": "stdout"
        },
        {
          "output_type": "stream",
          "text": [
            "100%|██████████| 1825/1825 [00:02<00:00, 816.50it/s]"
          ],
          "name": "stderr"
        },
        {
          "output_type": "stream",
          "text": [
            "[MoviePy] Done.\n",
            "[MoviePy] Writing video new_video.mp4\n"
          ],
          "name": "stdout"
        },
        {
          "output_type": "stream",
          "text": [
            "\n",
            "100%|██████████| 2482/2482 [00:07<00:00, 352.56it/s]"
          ],
          "name": "stderr"
        },
        {
          "output_type": "stream",
          "text": [
            "[MoviePy] Done.\n",
            "[MoviePy] >>>> Video ready: new_video.mp4 \n",
            "\n"
          ],
          "name": "stdout"
        },
        {
          "output_type": "stream",
          "text": [
            "\n"
          ],
          "name": "stderr"
        },
        {
          "output_type": "stream",
          "text": [
            "(94, 8, 2048)\n",
            "Abuse037.mp4\n",
            "(6, 8, 2048)\n",
            "(100, 8, 2048)\n",
            "[MoviePy] >>>> Building video new_video.mp4\n",
            "[MoviePy] Writing audio in new_videoTEMP_MPY_wvf_snd.mp3\n"
          ],
          "name": "stdout"
        },
        {
          "output_type": "stream",
          "text": [
            "100%|██████████| 1092/1092 [00:00<00:00, 1391.65it/s]"
          ],
          "name": "stderr"
        },
        {
          "output_type": "stream",
          "text": [
            "[MoviePy] Done.\n",
            "[MoviePy] Writing video new_video.mp4\n"
          ],
          "name": "stdout"
        },
        {
          "output_type": "stream",
          "text": [
            "\n",
            "100%|█████████▉| 1485/1486 [00:03<00:00, 384.54it/s]\n"
          ],
          "name": "stderr"
        },
        {
          "output_type": "stream",
          "text": [
            "[MoviePy] Done.\n",
            "[MoviePy] >>>> Video ready: new_video.mp4 \n",
            "\n",
            "(106, 8, 2048)\n",
            "Abuse039.mp4\n",
            "(7, 8, 2048)\n",
            "(113, 8, 2048)\n",
            "[MoviePy] >>>> Building video new_video.mp4\n",
            "[MoviePy] Writing audio in new_videoTEMP_MPY_wvf_snd.mp3\n"
          ],
          "name": "stdout"
        },
        {
          "output_type": "stream",
          "text": [
            "100%|██████████| 1355/1355 [00:00<00:00, 1431.01it/s]"
          ],
          "name": "stderr"
        },
        {
          "output_type": "stream",
          "text": [
            "[MoviePy] Done.\n",
            "[MoviePy] Writing video new_video.mp4\n"
          ],
          "name": "stdout"
        },
        {
          "output_type": "stream",
          "text": [
            "\n",
            "100%|██████████| 1843/1843 [00:05<00:00, 351.45it/s]\n"
          ],
          "name": "stderr"
        },
        {
          "output_type": "stream",
          "text": [
            "[MoviePy] Done.\n",
            "[MoviePy] >>>> Video ready: new_video.mp4 \n",
            "\n",
            "(120, 8, 2048)\n",
            "Abuse040.mp4\n",
            "(9, 8, 2048)\n",
            "(129, 8, 2048)\n",
            "[MoviePy] >>>> Building video new_video.mp4\n",
            "[MoviePy] Writing audio in new_videoTEMP_MPY_wvf_snd.mp3\n"
          ],
          "name": "stdout"
        },
        {
          "output_type": "stream",
          "text": [
            "100%|██████████| 1635/1635 [00:01<00:00, 1219.47it/s]"
          ],
          "name": "stderr"
        },
        {
          "output_type": "stream",
          "text": [
            "[MoviePy] Done.\n",
            "[MoviePy] Writing video new_video.mp4\n"
          ],
          "name": "stdout"
        },
        {
          "output_type": "stream",
          "text": [
            "\n",
            "100%|██████████| 2224/2224 [00:05<00:00, 390.39it/s]"
          ],
          "name": "stderr"
        },
        {
          "output_type": "stream",
          "text": [
            "[MoviePy] Done.\n",
            "[MoviePy] >>>> Video ready: new_video.mp4 \n",
            "\n"
          ],
          "name": "stdout"
        },
        {
          "output_type": "stream",
          "text": [
            "\n"
          ],
          "name": "stderr"
        },
        {
          "output_type": "stream",
          "text": [
            "(138, 8, 2048)\n",
            "Arson028.mp4\n",
            "(8, 8, 2048)\n",
            "(146, 8, 2048)\n",
            "[MoviePy] >>>> Building video new_video.mp4\n",
            "[MoviePy] Writing audio in new_videoTEMP_MPY_wvf_snd.mp3\n"
          ],
          "name": "stdout"
        },
        {
          "output_type": "stream",
          "text": [
            "100%|██████████| 1492/1492 [00:01<00:00, 1375.13it/s]"
          ],
          "name": "stderr"
        },
        {
          "output_type": "stream",
          "text": [
            "[MoviePy] Done.\n",
            "[MoviePy] Writing video new_video.mp4\n"
          ],
          "name": "stdout"
        },
        {
          "output_type": "stream",
          "text": [
            "\n",
            "100%|██████████| 2030/2030 [00:05<00:00, 360.21it/s]\n"
          ],
          "name": "stderr"
        },
        {
          "output_type": "stream",
          "text": [
            "[MoviePy] Done.\n",
            "[MoviePy] >>>> Video ready: new_video.mp4 \n",
            "\n",
            "(154, 8, 2048)\n",
            "Arson029.mp4\n",
            "(5, 8, 2048)\n",
            "(159, 8, 2048)\n",
            "[MoviePy] >>>> Building video new_video.mp4\n",
            "[MoviePy] Writing audio in new_videoTEMP_MPY_wvf_snd.mp3\n"
          ],
          "name": "stdout"
        },
        {
          "output_type": "stream",
          "text": [
            "100%|██████████| 970/970 [00:00<00:00, 1337.35it/s]"
          ],
          "name": "stderr"
        },
        {
          "output_type": "stream",
          "text": [
            "[MoviePy] Done.\n",
            "[MoviePy] Writing video new_video.mp4\n"
          ],
          "name": "stdout"
        },
        {
          "output_type": "stream",
          "text": [
            "\n",
            "100%|██████████| 1320/1320 [00:03<00:00, 345.01it/s]\n"
          ],
          "name": "stderr"
        },
        {
          "output_type": "stream",
          "text": [
            "[MoviePy] Done.\n",
            "[MoviePy] >>>> Video ready: new_video.mp4 \n",
            "\n",
            "(164, 8, 2048)\n",
            "Arson030.mp4\n",
            "(14, 8, 2048)\n",
            "(178, 8, 2048)\n",
            "[MoviePy] >>>> Building video new_video.mp4\n",
            "[MoviePy] Writing audio in new_videoTEMP_MPY_wvf_snd.mp3\n"
          ],
          "name": "stdout"
        },
        {
          "output_type": "stream",
          "text": [
            "100%|██████████| 2491/2491 [00:01<00:00, 1400.23it/s]"
          ],
          "name": "stderr"
        },
        {
          "output_type": "stream",
          "text": [
            "[MoviePy] Done.\n",
            "[MoviePy] Writing video new_video.mp4\n"
          ],
          "name": "stdout"
        },
        {
          "output_type": "stream",
          "text": [
            "\n",
            "100%|██████████| 3389/3389 [00:08<00:00, 397.85it/s]\n"
          ],
          "name": "stderr"
        },
        {
          "output_type": "stream",
          "text": [
            "[MoviePy] Done.\n",
            "[MoviePy] >>>> Video ready: new_video.mp4 \n",
            "\n",
            "(192, 8, 2048)\n",
            "Arson032.mp4\n",
            "(4, 8, 2048)\n",
            "(196, 8, 2048)\n",
            "[MoviePy] >>>> Building video new_video.mp4\n",
            "[MoviePy] Writing audio in new_videoTEMP_MPY_wvf_snd.mp3\n"
          ],
          "name": "stdout"
        },
        {
          "output_type": "stream",
          "text": [
            "100%|██████████| 793/793 [00:00<00:00, 1333.89it/s]"
          ],
          "name": "stderr"
        },
        {
          "output_type": "stream",
          "text": [
            "[MoviePy] Done.\n",
            "[MoviePy] Writing video new_video.mp4\n"
          ],
          "name": "stdout"
        },
        {
          "output_type": "stream",
          "text": [
            "\n",
            "100%|██████████| 1078/1078 [00:03<00:00, 322.64it/s]\n"
          ],
          "name": "stderr"
        },
        {
          "output_type": "stream",
          "text": [
            "[MoviePy] Done.\n",
            "[MoviePy] >>>> Video ready: new_video.mp4 \n",
            "\n",
            "(200, 8, 2048)\n",
            "Arson034.mp4\n",
            "(5, 8, 2048)\n",
            "(205, 8, 2048)\n",
            "[MoviePy] >>>> Building video new_video.mp4\n",
            "[MoviePy] Writing audio in new_videoTEMP_MPY_wvf_snd.mp3\n"
          ],
          "name": "stdout"
        },
        {
          "output_type": "stream",
          "text": [
            "100%|██████████| 971/971 [00:00<00:00, 1408.91it/s]"
          ],
          "name": "stderr"
        },
        {
          "output_type": "stream",
          "text": [
            "[MoviePy] Done.\n",
            "[MoviePy] Writing video new_video.mp4\n"
          ],
          "name": "stdout"
        },
        {
          "output_type": "stream",
          "text": [
            "\n",
            "100%|██████████| 1321/1321 [00:03<00:00, 375.91it/s]\n"
          ],
          "name": "stderr"
        },
        {
          "output_type": "stream",
          "text": [
            "[MoviePy] Done.\n",
            "[MoviePy] >>>> Video ready: new_video.mp4 \n",
            "\n",
            "(210, 8, 2048)\n",
            "Arson035.mp4\n",
            "(3, 8, 2048)\n",
            "(213, 8, 2048)\n",
            "[MoviePy] >>>> Building video new_video.mp4\n",
            "[MoviePy] Writing audio in new_videoTEMP_MPY_wvf_snd.mp3\n"
          ],
          "name": "stdout"
        },
        {
          "output_type": "stream",
          "text": [
            "100%|██████████| 518/518 [00:00<00:00, 1424.83it/s]"
          ],
          "name": "stderr"
        },
        {
          "output_type": "stream",
          "text": [
            "[MoviePy] Done.\n",
            "[MoviePy] Writing video new_video.mp4\n"
          ],
          "name": "stdout"
        },
        {
          "output_type": "stream",
          "text": [
            "\n",
            "100%|██████████| 704/704 [00:02<00:00, 285.96it/s]\n"
          ],
          "name": "stderr"
        },
        {
          "output_type": "stream",
          "text": [
            "[MoviePy] Done.\n",
            "[MoviePy] >>>> Video ready: new_video.mp4 \n",
            "\n",
            "(216, 8, 2048)\n",
            "Arson036.mp4\n",
            "(7, 8, 2048)\n",
            "(223, 8, 2048)\n",
            "[MoviePy] >>>> Building video new_video.mp4\n",
            "[MoviePy] Writing audio in new_videoTEMP_MPY_wvf_snd.mp3\n"
          ],
          "name": "stdout"
        },
        {
          "output_type": "stream",
          "text": [
            "100%|██████████| 1224/1224 [00:00<00:00, 1393.21it/s]"
          ],
          "name": "stderr"
        },
        {
          "output_type": "stream",
          "text": [
            "[MoviePy] Done.\n",
            "[MoviePy] Writing video new_video.mp4\n"
          ],
          "name": "stdout"
        },
        {
          "output_type": "stream",
          "text": [
            "\n",
            "100%|██████████| 1665/1665 [00:04<00:00, 372.57it/s]\n"
          ],
          "name": "stderr"
        },
        {
          "output_type": "stream",
          "text": [
            "[MoviePy] Done.\n",
            "[MoviePy] >>>> Video ready: new_video.mp4 \n",
            "\n",
            "(230, 8, 2048)\n",
            "Arson037.mp4\n",
            "(3, 8, 2048)\n",
            "(233, 8, 2048)\n",
            "[MoviePy] >>>> Building video new_video.mp4\n",
            "[MoviePy] Writing audio in new_videoTEMP_MPY_wvf_snd.mp3\n"
          ],
          "name": "stdout"
        },
        {
          "output_type": "stream",
          "text": [
            "100%|██████████| 568/568 [00:00<00:00, 1006.98it/s]"
          ],
          "name": "stderr"
        },
        {
          "output_type": "stream",
          "text": [
            "[MoviePy] Done.\n",
            "[MoviePy] Writing video new_video.mp4\n"
          ],
          "name": "stdout"
        },
        {
          "output_type": "stream",
          "text": [
            "\n",
            "100%|██████████| 773/773 [00:02<00:00, 327.36it/s]\n"
          ],
          "name": "stderr"
        },
        {
          "output_type": "stream",
          "text": [
            "[MoviePy] Done.\n",
            "[MoviePy] >>>> Video ready: new_video.mp4 \n",
            "\n",
            "(236, 8, 2048)\n",
            "Arson039.mp4\n",
            "(9, 8, 2048)\n",
            "(245, 8, 2048)\n",
            "[MoviePy] >>>> Building video new_video.mp4\n",
            "[MoviePy] Writing audio in new_videoTEMP_MPY_wvf_snd.mp3\n"
          ],
          "name": "stdout"
        },
        {
          "output_type": "stream",
          "text": [
            "100%|██████████| 1589/1589 [00:01<00:00, 1346.25it/s]"
          ],
          "name": "stderr"
        },
        {
          "output_type": "stream",
          "text": [
            "[MoviePy] Done.\n",
            "[MoviePy] Writing video new_video.mp4\n"
          ],
          "name": "stdout"
        },
        {
          "output_type": "stream",
          "text": [
            "\n",
            "100%|██████████| 2161/2161 [00:06<00:00, 349.37it/s]\n"
          ],
          "name": "stderr"
        },
        {
          "output_type": "stream",
          "text": [
            "[MoviePy] Done.\n",
            "[MoviePy] >>>> Video ready: new_video.mp4 \n",
            "\n",
            "(254, 8, 2048)\n",
            "Arson040.mp4\n",
            "(11, 8, 2048)\n",
            "(265, 8, 2048)\n",
            "[MoviePy] >>>> Building video new_video.mp4\n",
            "[MoviePy] Writing audio in new_videoTEMP_MPY_wvf_snd.mp3\n"
          ],
          "name": "stdout"
        },
        {
          "output_type": "stream",
          "text": [
            "100%|██████████| 2067/2067 [00:01<00:00, 1392.18it/s]"
          ],
          "name": "stderr"
        },
        {
          "output_type": "stream",
          "text": [
            "[MoviePy] Done.\n",
            "[MoviePy] Writing video new_video.mp4\n"
          ],
          "name": "stdout"
        },
        {
          "output_type": "stream",
          "text": [
            "\n",
            "100%|██████████| 2813/2813 [00:07<00:00, 364.20it/s]\n"
          ],
          "name": "stderr"
        },
        {
          "output_type": "stream",
          "text": [
            "[MoviePy] Done.\n",
            "[MoviePy] >>>> Video ready: new_video.mp4 \n",
            "\n",
            "(276, 8, 2048)\n",
            "Assault016.mp4\n",
            "(6, 8, 2048)\n",
            "(282, 8, 2048)\n",
            "[MoviePy] >>>> Building video new_video.mp4\n",
            "[MoviePy] Writing audio in new_videoTEMP_MPY_wvf_snd.mp3\n"
          ],
          "name": "stdout"
        },
        {
          "output_type": "stream",
          "text": [
            "100%|██████████| 1111/1111 [00:00<00:00, 1440.49it/s]"
          ],
          "name": "stderr"
        },
        {
          "output_type": "stream",
          "text": [
            "[MoviePy] Done.\n",
            "[MoviePy] Writing video new_video.mp4\n"
          ],
          "name": "stdout"
        },
        {
          "output_type": "stream",
          "text": [
            "\n",
            "100%|██████████| 1512/1512 [00:04<00:00, 340.46it/s]"
          ],
          "name": "stderr"
        },
        {
          "output_type": "stream",
          "text": [
            "[MoviePy] Done.\n",
            "[MoviePy] >>>> Video ready: new_video.mp4 \n",
            "\n"
          ],
          "name": "stdout"
        },
        {
          "output_type": "stream",
          "text": [
            "\n"
          ],
          "name": "stderr"
        },
        {
          "output_type": "stream",
          "text": [
            "(288, 8, 2048)\n",
            "Assault019.mp4\n",
            "(8, 8, 2048)\n",
            "(296, 8, 2048)\n",
            "[MoviePy] >>>> Building video new_video.mp4\n",
            "[MoviePy] Writing audio in new_videoTEMP_MPY_wvf_snd.mp3\n"
          ],
          "name": "stdout"
        },
        {
          "output_type": "stream",
          "text": [
            "100%|██████████| 1432/1432 [00:01<00:00, 1415.14it/s]"
          ],
          "name": "stderr"
        },
        {
          "output_type": "stream",
          "text": [
            "[MoviePy] Done.\n",
            "[MoviePy] Writing video new_video.mp4\n"
          ],
          "name": "stdout"
        },
        {
          "output_type": "stream",
          "text": [
            "\n",
            "100%|██████████| 1948/1948 [00:05<00:00, 379.66it/s]\n"
          ],
          "name": "stderr"
        },
        {
          "output_type": "stream",
          "text": [
            "[MoviePy] Done.\n",
            "[MoviePy] >>>> Video ready: new_video.mp4 \n",
            "\n",
            "(304, 8, 2048)\n",
            "Assault022.mp4\n",
            "(10, 8, 2048)\n",
            "(314, 8, 2048)\n",
            "[MoviePy] >>>> Building video new_video.mp4\n",
            "[MoviePy] Writing audio in new_videoTEMP_MPY_wvf_snd.mp3\n"
          ],
          "name": "stdout"
        },
        {
          "output_type": "stream",
          "text": [
            "100%|██████████| 1840/1840 [00:01<00:00, 1404.09it/s]\n"
          ],
          "name": "stderr"
        },
        {
          "output_type": "stream",
          "text": [
            "[MoviePy] Done.\n",
            "[MoviePy] Writing video new_video.mp4\n"
          ],
          "name": "stdout"
        },
        {
          "output_type": "stream",
          "text": [
            "100%|██████████| 2503/2503 [00:07<00:00, 356.25it/s]\n"
          ],
          "name": "stderr"
        },
        {
          "output_type": "stream",
          "text": [
            "[MoviePy] Done.\n",
            "[MoviePy] >>>> Video ready: new_video.mp4 \n",
            "\n",
            "(324, 8, 2048)\n",
            "Assault025.mp4\n",
            "(4, 8, 2048)\n",
            "(328, 8, 2048)\n",
            "[MoviePy] >>>> Building video new_video.mp4\n",
            "[MoviePy] Writing audio in new_videoTEMP_MPY_wvf_snd.mp3\n"
          ],
          "name": "stdout"
        },
        {
          "output_type": "stream",
          "text": [
            "100%|██████████| 722/722 [00:00<00:00, 1072.15it/s]"
          ],
          "name": "stderr"
        },
        {
          "output_type": "stream",
          "text": [
            "[MoviePy] Done.\n",
            "[MoviePy] Writing video new_video.mp4\n"
          ],
          "name": "stdout"
        },
        {
          "output_type": "stream",
          "text": [
            "\n",
            "100%|██████████| 982/982 [00:02<00:00, 355.84it/s]\n"
          ],
          "name": "stderr"
        },
        {
          "output_type": "stream",
          "text": [
            "[MoviePy] Done.\n",
            "[MoviePy] >>>> Video ready: new_video.mp4 \n",
            "\n",
            "(332, 8, 2048)\n",
            "Assault027.mp4\n",
            "(13, 8, 2048)\n",
            "(345, 8, 2048)\n",
            "[MoviePy] >>>> Building video new_video.mp4\n",
            "[MoviePy] Writing audio in new_videoTEMP_MPY_wvf_snd.mp3\n"
          ],
          "name": "stdout"
        },
        {
          "output_type": "stream",
          "text": [
            "100%|██████████| 2383/2383 [00:01<00:00, 1390.41it/s]"
          ],
          "name": "stderr"
        },
        {
          "output_type": "stream",
          "text": [
            "[MoviePy] Done.\n",
            "[MoviePy] Writing video new_video.mp4\n"
          ],
          "name": "stdout"
        },
        {
          "output_type": "stream",
          "text": [
            "\n",
            "100%|██████████| 3241/3241 [00:08<00:00, 364.00it/s]\n"
          ],
          "name": "stderr"
        },
        {
          "output_type": "stream",
          "text": [
            "[MoviePy] Done.\n",
            "[MoviePy] >>>> Video ready: new_video.mp4 \n",
            "\n",
            "(358, 8, 2048)\n",
            "Assault028.mp4\n",
            "(7, 8, 2048)\n",
            "(365, 8, 2048)\n",
            "[MoviePy] >>>> Building video new_video.mp4\n",
            "[MoviePy] Writing audio in new_videoTEMP_MPY_wvf_snd.mp3\n"
          ],
          "name": "stdout"
        },
        {
          "output_type": "stream",
          "text": [
            "100%|██████████| 1253/1253 [00:00<00:00, 1367.59it/s]"
          ],
          "name": "stderr"
        },
        {
          "output_type": "stream",
          "text": [
            "[MoviePy] Done.\n",
            "[MoviePy] Writing video new_video.mp4\n"
          ],
          "name": "stdout"
        },
        {
          "output_type": "stream",
          "text": [
            "\n",
            "100%|█████████▉| 1704/1705 [00:04<00:00, 351.74it/s]"
          ],
          "name": "stderr"
        },
        {
          "output_type": "stream",
          "text": [
            "[MoviePy] Done.\n",
            "[MoviePy] >>>> Video ready: new_video.mp4 \n",
            "\n"
          ],
          "name": "stdout"
        },
        {
          "output_type": "stream",
          "text": [
            "\n"
          ],
          "name": "stderr"
        },
        {
          "output_type": "stream",
          "text": [
            "(372, 8, 2048)\n",
            "Assault029.mp4\n",
            "(2, 8, 2048)\n",
            "(374, 8, 2048)\n",
            "[MoviePy] >>>> Building video new_video.mp4\n",
            "[MoviePy] Writing audio in new_videoTEMP_MPY_wvf_snd.mp3\n"
          ],
          "name": "stdout"
        },
        {
          "output_type": "stream",
          "text": [
            "100%|██████████| 432/432 [00:00<00:00, 1353.26it/s]"
          ],
          "name": "stderr"
        },
        {
          "output_type": "stream",
          "text": [
            "[MoviePy] Done.\n",
            "[MoviePy] Writing video new_video.mp4\n"
          ],
          "name": "stdout"
        },
        {
          "output_type": "stream",
          "text": [
            "\n",
            "100%|██████████| 588/588 [00:01<00:00, 341.59it/s]\n"
          ],
          "name": "stderr"
        },
        {
          "output_type": "stream",
          "text": [
            "[MoviePy] Done.\n",
            "[MoviePy] >>>> Video ready: new_video.mp4 \n",
            "\n",
            "(376, 8, 2048)\n",
            "Assault031.mp4\n",
            "(2, 8, 2048)\n",
            "(378, 8, 2048)\n",
            "[MoviePy] >>>> Building video new_video.mp4\n",
            "[MoviePy] Writing audio in new_videoTEMP_MPY_wvf_snd.mp3\n"
          ],
          "name": "stdout"
        },
        {
          "output_type": "stream",
          "text": [
            "100%|██████████| 364/364 [00:00<00:00, 1124.43it/s]"
          ],
          "name": "stderr"
        },
        {
          "output_type": "stream",
          "text": [
            "[MoviePy] Done.\n",
            "[MoviePy] Writing video new_video.mp4\n"
          ],
          "name": "stdout"
        },
        {
          "output_type": "stream",
          "text": [
            "\n",
            "100%|██████████| 495/495 [00:02<00:00, 245.69it/s]\n"
          ],
          "name": "stderr"
        },
        {
          "output_type": "stream",
          "text": [
            "[MoviePy] Done.\n",
            "[MoviePy] >>>> Video ready: new_video.mp4 \n",
            "\n",
            "(380, 8, 2048)\n",
            "Assault033.mp4\n",
            "(3, 8, 2048)\n",
            "(383, 8, 2048)\n",
            "[MoviePy] >>>> Building video new_video.mp4\n",
            "[MoviePy] Writing audio in new_videoTEMP_MPY_wvf_snd.mp3\n"
          ],
          "name": "stdout"
        },
        {
          "output_type": "stream",
          "text": [
            "100%|██████████| 587/587 [00:00<00:00, 784.52it/s]"
          ],
          "name": "stderr"
        },
        {
          "output_type": "stream",
          "text": [
            "[MoviePy] Done.\n",
            "[MoviePy] Writing video new_video.mp4\n"
          ],
          "name": "stdout"
        },
        {
          "output_type": "stream",
          "text": [
            "\n",
            "100%|██████████| 799/799 [00:02<00:00, 299.91it/s]\n"
          ],
          "name": "stderr"
        },
        {
          "output_type": "stream",
          "text": [
            "[MoviePy] Done.\n",
            "[MoviePy] >>>> Video ready: new_video.mp4 \n",
            "\n",
            "(386, 8, 2048)\n",
            "Assault035.mp4\n",
            "(3, 8, 2048)\n",
            "(389, 8, 2048)\n",
            "[MoviePy] >>>> Building video new_video.mp4\n",
            "[MoviePy] Writing audio in new_videoTEMP_MPY_wvf_snd.mp3\n"
          ],
          "name": "stdout"
        },
        {
          "output_type": "stream",
          "text": [
            "100%|██████████| 637/637 [00:00<00:00, 1424.45it/s]"
          ],
          "name": "stderr"
        },
        {
          "output_type": "stream",
          "text": [
            "[MoviePy] Done.\n",
            "[MoviePy] Writing video new_video.mp4\n"
          ],
          "name": "stdout"
        },
        {
          "output_type": "stream",
          "text": [
            "\n",
            "100%|██████████| 866/866 [00:02<00:00, 340.98it/s]\n"
          ],
          "name": "stderr"
        },
        {
          "output_type": "stream",
          "text": [
            "[MoviePy] Done.\n",
            "[MoviePy] >>>> Video ready: new_video.mp4 \n",
            "\n",
            "(392, 8, 2048)\n",
            "Burglary049.mp4\n",
            "(20, 8, 2048)\n",
            "(412, 8, 2048)\n",
            "[MoviePy] >>>> Building video new_video.mp4\n",
            "[MoviePy] Writing audio in new_videoTEMP_MPY_wvf_snd.mp3\n"
          ],
          "name": "stdout"
        },
        {
          "output_type": "stream",
          "text": [
            "100%|██████████| 3640/3640 [00:02<00:00, 1367.33it/s]"
          ],
          "name": "stderr"
        },
        {
          "output_type": "stream",
          "text": [
            "[MoviePy] Done.\n",
            "[MoviePy] Writing video new_video.mp4\n"
          ],
          "name": "stdout"
        },
        {
          "output_type": "stream",
          "text": [
            "\n",
            "100%|██████████| 4952/4952 [00:12<00:00, 397.94it/s]"
          ],
          "name": "stderr"
        },
        {
          "output_type": "stream",
          "text": [
            "[MoviePy] Done.\n",
            "[MoviePy] >>>> Video ready: new_video.mp4 \n",
            "\n"
          ],
          "name": "stdout"
        },
        {
          "output_type": "stream",
          "text": [
            "\n"
          ],
          "name": "stderr"
        },
        {
          "output_type": "stream",
          "text": [
            "(432, 8, 2048)\n",
            "Burglary051.mp4\n",
            "(5, 8, 2048)\n",
            "(437, 8, 2048)\n",
            "[MoviePy] >>>> Building video new_video.mp4\n",
            "[MoviePy] Writing audio in new_videoTEMP_MPY_wvf_snd.mp3\n"
          ],
          "name": "stdout"
        },
        {
          "output_type": "stream",
          "text": [
            "100%|██████████| 928/928 [00:00<00:00, 1409.72it/s]"
          ],
          "name": "stderr"
        },
        {
          "output_type": "stream",
          "text": [
            "[MoviePy] Done.\n",
            "[MoviePy] Writing video new_video.mp4\n"
          ],
          "name": "stdout"
        },
        {
          "output_type": "stream",
          "text": [
            "\n",
            "100%|██████████| 1263/1263 [00:03<00:00, 389.31it/s]\n"
          ],
          "name": "stderr"
        },
        {
          "output_type": "stream",
          "text": [
            "[MoviePy] Done.\n",
            "[MoviePy] >>>> Video ready: new_video.mp4 \n",
            "\n",
            "(442, 8, 2048)\n",
            "Burglary052.mp4\n",
            "(18, 8, 2048)\n",
            "(460, 8, 2048)\n",
            "[MoviePy] >>>> Building video new_video.mp4\n",
            "[MoviePy] Writing audio in new_videoTEMP_MPY_wvf_snd.mp3\n"
          ],
          "name": "stdout"
        },
        {
          "output_type": "stream",
          "text": [
            "100%|██████████| 3314/3314 [00:02<00:00, 1408.44it/s]"
          ],
          "name": "stderr"
        },
        {
          "output_type": "stream",
          "text": [
            "[MoviePy] Done.\n",
            "[MoviePy] Writing video new_video.mp4\n"
          ],
          "name": "stdout"
        },
        {
          "output_type": "stream",
          "text": [
            "\n",
            "100%|██████████| 4509/4509 [00:13<00:00, 340.27it/s]\n"
          ],
          "name": "stderr"
        },
        {
          "output_type": "stream",
          "text": [
            "[MoviePy] Done.\n",
            "[MoviePy] >>>> Video ready: new_video.mp4 \n",
            "\n",
            "(478, 8, 2048)\n",
            "Burglary053.mp4\n",
            "(12, 8, 2048)\n",
            "(490, 8, 2048)\n",
            "[MoviePy] >>>> Building video new_video.mp4\n",
            "[MoviePy] Writing audio in new_videoTEMP_MPY_wvf_snd.mp3\n"
          ],
          "name": "stdout"
        },
        {
          "output_type": "stream",
          "text": [
            "100%|██████████| 2267/2267 [00:01<00:00, 1359.13it/s]"
          ],
          "name": "stderr"
        },
        {
          "output_type": "stream",
          "text": [
            "[MoviePy] Done.\n",
            "[MoviePy] Writing video new_video.mp4\n"
          ],
          "name": "stdout"
        },
        {
          "output_type": "stream",
          "text": [
            "\n",
            "100%|█████████▉| 3084/3085 [00:08<00:00, 356.05it/s]\n"
          ],
          "name": "stderr"
        },
        {
          "output_type": "stream",
          "text": [
            "[MoviePy] Done.\n",
            "[MoviePy] >>>> Video ready: new_video.mp4 \n",
            "\n",
            "(502, 8, 2048)\n",
            "Burglary055.mp4\n",
            "(10, 8, 2048)\n",
            "(512, 8, 2048)\n",
            "[MoviePy] >>>> Building video new_video.mp4\n",
            "[MoviePy] Writing audio in new_videoTEMP_MPY_wvf_snd.mp3\n"
          ],
          "name": "stdout"
        },
        {
          "output_type": "stream",
          "text": [
            "100%|██████████| 1796/1796 [00:01<00:00, 1411.02it/s]"
          ],
          "name": "stderr"
        },
        {
          "output_type": "stream",
          "text": [
            "[MoviePy] Done.\n",
            "[MoviePy] Writing video new_video.mp4\n"
          ],
          "name": "stdout"
        },
        {
          "output_type": "stream",
          "text": [
            "\n",
            "100%|██████████| 2443/2443 [00:06<00:00, 385.85it/s]\n"
          ],
          "name": "stderr"
        },
        {
          "output_type": "stream",
          "text": [
            "[MoviePy] Done.\n",
            "[MoviePy] >>>> Video ready: new_video.mp4 \n",
            "\n",
            "(522, 8, 2048)\n",
            "Burglary056.mp4\n",
            "(5, 8, 2048)\n",
            "(527, 8, 2048)\n",
            "[MoviePy] >>>> Building video new_video.mp4\n",
            "[MoviePy] Writing audio in new_videoTEMP_MPY_wvf_snd.mp3\n"
          ],
          "name": "stdout"
        },
        {
          "output_type": "stream",
          "text": [
            "100%|██████████| 1032/1032 [00:00<00:00, 1389.71it/s]"
          ],
          "name": "stderr"
        },
        {
          "output_type": "stream",
          "text": [
            "[MoviePy] Done.\n",
            "[MoviePy] Writing video new_video.mp4\n"
          ],
          "name": "stdout"
        },
        {
          "output_type": "stream",
          "text": [
            "\n",
            "100%|██████████| 1403/1403 [00:03<00:00, 392.45it/s]\n"
          ],
          "name": "stderr"
        },
        {
          "output_type": "stream",
          "text": [
            "[MoviePy] Done.\n",
            "[MoviePy] >>>> Video ready: new_video.mp4 \n",
            "\n",
            "(532, 8, 2048)\n",
            "Burglary057.mp4\n",
            "(20, 8, 2048)\n",
            "(552, 8, 2048)\n",
            "[MoviePy] >>>> Building video new_video.mp4\n",
            "[MoviePy] Writing audio in new_videoTEMP_MPY_wvf_snd.mp3\n"
          ],
          "name": "stdout"
        },
        {
          "output_type": "stream",
          "text": [
            "100%|██████████| 3660/3660 [00:02<00:00, 1395.78it/s]"
          ],
          "name": "stderr"
        },
        {
          "output_type": "stream",
          "text": [
            "[MoviePy] Done.\n",
            "[MoviePy] Writing video new_video.mp4\n"
          ],
          "name": "stdout"
        },
        {
          "output_type": "stream",
          "text": [
            "\n",
            "100%|██████████| 4980/4980 [00:14<00:00, 334.02it/s]"
          ],
          "name": "stderr"
        },
        {
          "output_type": "stream",
          "text": [
            "[MoviePy] Done.\n",
            "[MoviePy] >>>> Video ready: new_video.mp4 \n",
            "\n"
          ],
          "name": "stdout"
        },
        {
          "output_type": "stream",
          "text": [
            "\n"
          ],
          "name": "stderr"
        },
        {
          "output_type": "stream",
          "text": [
            "(572, 8, 2048)\n",
            "Burglary061.mp4\n",
            "(7, 8, 2048)\n",
            "(579, 8, 2048)\n",
            "[MoviePy] >>>> Building video new_video.mp4\n",
            "[MoviePy] Writing audio in new_videoTEMP_MPY_wvf_snd.mp3\n"
          ],
          "name": "stdout"
        },
        {
          "output_type": "stream",
          "text": [
            "100%|██████████| 1329/1329 [00:00<00:00, 1431.41it/s]"
          ],
          "name": "stderr"
        },
        {
          "output_type": "stream",
          "text": [
            "[MoviePy] Done.\n",
            "[MoviePy] Writing video new_video.mp4\n"
          ],
          "name": "stdout"
        },
        {
          "output_type": "stream",
          "text": [
            "\n",
            "100%|██████████| 1807/1807 [00:04<00:00, 362.71it/s]"
          ],
          "name": "stderr"
        },
        {
          "output_type": "stream",
          "text": [
            "[MoviePy] Done.\n",
            "[MoviePy] >>>> Video ready: new_video.mp4 \n",
            "\n"
          ],
          "name": "stdout"
        },
        {
          "output_type": "stream",
          "text": [
            "\n"
          ],
          "name": "stderr"
        },
        {
          "output_type": "stream",
          "text": [
            "(586, 8, 2048)\n",
            "Burglary062.mp4\n",
            "(17, 8, 2048)\n",
            "(603, 8, 2048)\n",
            "[MoviePy] >>>> Building video new_video.mp4\n",
            "[MoviePy] Writing audio in new_videoTEMP_MPY_wvf_snd.mp3\n"
          ],
          "name": "stdout"
        },
        {
          "output_type": "stream",
          "text": [
            "100%|██████████| 2980/2980 [00:03<00:00, 826.56it/s]"
          ],
          "name": "stderr"
        },
        {
          "output_type": "stream",
          "text": [
            "[MoviePy] Done.\n",
            "[MoviePy] Writing video new_video.mp4\n"
          ],
          "name": "stdout"
        },
        {
          "output_type": "stream",
          "text": [
            "\n",
            "100%|██████████| 4054/4054 [00:09<00:00, 409.86it/s]"
          ],
          "name": "stderr"
        },
        {
          "output_type": "stream",
          "text": [
            "[MoviePy] Done.\n",
            "[MoviePy] >>>> Video ready: new_video.mp4 \n",
            "\n"
          ],
          "name": "stdout"
        },
        {
          "output_type": "stream",
          "text": [
            "\n"
          ],
          "name": "stderr"
        },
        {
          "output_type": "stream",
          "text": [
            "(620, 8, 2048)\n",
            "Burglary063.mp4\n",
            "(5, 8, 2048)\n",
            "(625, 8, 2048)\n",
            "[MoviePy] >>>> Building video new_video.mp4\n",
            "[MoviePy] Writing audio in new_videoTEMP_MPY_wvf_snd.mp3\n"
          ],
          "name": "stdout"
        },
        {
          "output_type": "stream",
          "text": [
            "100%|██████████| 936/936 [00:00<00:00, 1388.30it/s]"
          ],
          "name": "stderr"
        },
        {
          "output_type": "stream",
          "text": [
            "[MoviePy] Done.\n",
            "[MoviePy] Writing video new_video.mp4\n"
          ],
          "name": "stdout"
        },
        {
          "output_type": "stream",
          "text": [
            "\n",
            "100%|██████████| 1273/1273 [00:03<00:00, 379.33it/s]"
          ],
          "name": "stderr"
        },
        {
          "output_type": "stream",
          "text": [
            "[MoviePy] Done.\n",
            "[MoviePy] >>>> Video ready: new_video.mp4 \n",
            "\n"
          ],
          "name": "stdout"
        },
        {
          "output_type": "stream",
          "text": [
            "\n"
          ],
          "name": "stderr"
        },
        {
          "output_type": "stream",
          "text": [
            "(630, 8, 2048)\n",
            "Burglary064.mp4\n",
            "(19, 8, 2048)\n",
            "(649, 8, 2048)\n",
            "[MoviePy] >>>> Building video new_video.mp4\n",
            "[MoviePy] Writing audio in new_videoTEMP_MPY_wvf_snd.mp3\n"
          ],
          "name": "stdout"
        },
        {
          "output_type": "stream",
          "text": [
            "100%|██████████| 3364/3364 [00:02<00:00, 1312.02it/s]"
          ],
          "name": "stderr"
        },
        {
          "output_type": "stream",
          "text": [
            "[MoviePy] Done.\n",
            "[MoviePy] Writing video new_video.mp4\n"
          ],
          "name": "stdout"
        },
        {
          "output_type": "stream",
          "text": [
            "\n",
            "100%|██████████| 4576/4576 [00:11<00:00, 383.62it/s]"
          ],
          "name": "stderr"
        },
        {
          "output_type": "stream",
          "text": [
            "[MoviePy] Done.\n",
            "[MoviePy] >>>> Video ready: new_video.mp4 \n",
            "\n"
          ],
          "name": "stdout"
        },
        {
          "output_type": "stream",
          "text": [
            "\n"
          ],
          "name": "stderr"
        },
        {
          "output_type": "stream",
          "text": [
            "(668, 8, 2048)\n",
            "Burglary065.mp4\n",
            "(21, 8, 2048)\n",
            "(689, 8, 2048)\n",
            "[MoviePy] >>>> Building video new_video.mp4\n",
            "[MoviePy] Writing audio in new_videoTEMP_MPY_wvf_snd.mp3\n"
          ],
          "name": "stdout"
        },
        {
          "output_type": "stream",
          "text": [
            "100%|██████████| 3779/3779 [00:02<00:00, 1385.26it/s]"
          ],
          "name": "stderr"
        },
        {
          "output_type": "stream",
          "text": [
            "[MoviePy] Done.\n",
            "[MoviePy] Writing video new_video.mp4\n"
          ],
          "name": "stdout"
        },
        {
          "output_type": "stream",
          "text": [
            "\n",
            "100%|██████████| 5141/5141 [00:14<00:00, 358.46it/s]\n"
          ],
          "name": "stderr"
        },
        {
          "output_type": "stream",
          "text": [
            "[MoviePy] Done.\n",
            "[MoviePy] >>>> Video ready: new_video.mp4 \n",
            "\n",
            "(710, 8, 2048)\n",
            "Burglary066.mp4\n",
            "(7, 8, 2048)\n",
            "(717, 8, 2048)\n",
            "[MoviePy] >>>> Building video new_video.mp4\n",
            "[MoviePy] Writing audio in new_videoTEMP_MPY_wvf_snd.mp3\n"
          ],
          "name": "stdout"
        },
        {
          "output_type": "stream",
          "text": [
            "100%|██████████| 1257/1257 [00:00<00:00, 1359.28it/s]"
          ],
          "name": "stderr"
        },
        {
          "output_type": "stream",
          "text": [
            "[MoviePy] Done.\n",
            "[MoviePy] Writing video new_video.mp4\n"
          ],
          "name": "stdout"
        },
        {
          "output_type": "stream",
          "text": [
            "\n",
            "100%|██████████| 1710/1710 [00:04<00:00, 373.31it/s]\n"
          ],
          "name": "stderr"
        },
        {
          "output_type": "stream",
          "text": [
            "[MoviePy] Done.\n",
            "[MoviePy] >>>> Video ready: new_video.mp4 \n",
            "\n",
            "(724, 8, 2048)\n",
            "Burglary067.mp4\n",
            "(4, 8, 2048)\n",
            "(728, 8, 2048)\n",
            "[MoviePy] >>>> Building video new_video.mp4\n",
            "[MoviePy] Writing audio in new_videoTEMP_MPY_wvf_snd.mp3\n"
          ],
          "name": "stdout"
        },
        {
          "output_type": "stream",
          "text": [
            "100%|██████████| 823/823 [00:00<00:00, 1243.06it/s]"
          ],
          "name": "stderr"
        },
        {
          "output_type": "stream",
          "text": [
            "[MoviePy] Done.\n",
            "[MoviePy] Writing video new_video.mp4\n"
          ],
          "name": "stdout"
        },
        {
          "output_type": "stream",
          "text": [
            "\n",
            "100%|██████████| 1119/1119 [00:03<00:00, 324.50it/s]\n"
          ],
          "name": "stderr"
        },
        {
          "output_type": "stream",
          "text": [
            "[MoviePy] Done.\n",
            "[MoviePy] >>>> Video ready: new_video.mp4 \n",
            "\n",
            "(732, 8, 2048)\n",
            "Burglary069.mp4\n",
            "(8, 8, 2048)\n",
            "(740, 8, 2048)\n",
            "[MoviePy] >>>> Building video new_video.mp4\n",
            "[MoviePy] Writing audio in new_videoTEMP_MPY_wvf_snd.mp3\n"
          ],
          "name": "stdout"
        },
        {
          "output_type": "stream",
          "text": [
            "100%|██████████| 1553/1553 [00:01<00:00, 1376.37it/s]"
          ],
          "name": "stderr"
        },
        {
          "output_type": "stream",
          "text": [
            "[MoviePy] Done.\n",
            "[MoviePy] Writing video new_video.mp4\n"
          ],
          "name": "stdout"
        },
        {
          "output_type": "stream",
          "text": [
            "\n",
            "100%|██████████| 2113/2113 [00:05<00:00, 391.83it/s]"
          ],
          "name": "stderr"
        },
        {
          "output_type": "stream",
          "text": [
            "[MoviePy] Done.\n",
            "[MoviePy] >>>> Video ready: new_video.mp4 \n",
            "\n"
          ],
          "name": "stdout"
        },
        {
          "output_type": "stream",
          "text": [
            "\n"
          ],
          "name": "stderr"
        },
        {
          "output_type": "stream",
          "text": [
            "(748, 8, 2048)\n",
            "Burglary071.mp4\n",
            "(11, 8, 2048)\n",
            "(759, 8, 2048)\n",
            "[MoviePy] >>>> Building video new_video.mp4\n",
            "[MoviePy] Writing audio in new_videoTEMP_MPY_wvf_snd.mp3\n"
          ],
          "name": "stdout"
        },
        {
          "output_type": "stream",
          "text": [
            "100%|██████████| 2050/2050 [00:01<00:00, 1202.20it/s]"
          ],
          "name": "stderr"
        },
        {
          "output_type": "stream",
          "text": [
            "[MoviePy] Done.\n",
            "[MoviePy] Writing video new_video.mp4\n"
          ],
          "name": "stdout"
        },
        {
          "output_type": "stream",
          "text": [
            "\n",
            "100%|██████████| 2790/2790 [00:07<00:00, 389.78it/s]\n"
          ],
          "name": "stderr"
        },
        {
          "output_type": "stream",
          "text": [
            "[MoviePy] Done.\n",
            "[MoviePy] >>>> Video ready: new_video.mp4 \n",
            "\n",
            "(770, 8, 2048)\n",
            "Burglary072.mp4\n",
            "(9, 8, 2048)\n",
            "(779, 8, 2048)\n",
            "[MoviePy] >>>> Building video new_video.mp4\n",
            "[MoviePy] Writing audio in new_videoTEMP_MPY_wvf_snd.mp3\n"
          ],
          "name": "stdout"
        },
        {
          "output_type": "stream",
          "text": [
            "100%|██████████| 1667/1667 [00:01<00:00, 1396.34it/s]"
          ],
          "name": "stderr"
        },
        {
          "output_type": "stream",
          "text": [
            "[MoviePy] Done.\n",
            "[MoviePy] Writing video new_video.mp4\n"
          ],
          "name": "stdout"
        },
        {
          "output_type": "stream",
          "text": [
            "\n",
            "100%|██████████| 2268/2268 [00:06<00:00, 374.36it/s]"
          ],
          "name": "stderr"
        },
        {
          "output_type": "stream",
          "text": [
            "[MoviePy] Done.\n",
            "[MoviePy] >>>> Video ready: new_video.mp4 \n",
            "\n"
          ],
          "name": "stdout"
        },
        {
          "output_type": "stream",
          "text": [
            "\n"
          ],
          "name": "stderr"
        },
        {
          "output_type": "stream",
          "text": [
            "(788, 8, 2048)\n",
            "Burglary073.mp4\n",
            "(10, 8, 2048)\n",
            "(798, 8, 2048)\n",
            "[MoviePy] >>>> Building video new_video.mp4\n",
            "[MoviePy] Writing audio in new_videoTEMP_MPY_wvf_snd.mp3\n"
          ],
          "name": "stdout"
        },
        {
          "output_type": "stream",
          "text": [
            "100%|██████████| 1825/1825 [00:01<00:00, 1222.28it/s]"
          ],
          "name": "stderr"
        },
        {
          "output_type": "stream",
          "text": [
            "[MoviePy] Done.\n",
            "[MoviePy] Writing video new_video.mp4\n"
          ],
          "name": "stdout"
        },
        {
          "output_type": "stream",
          "text": [
            "\n",
            "100%|██████████| 2483/2483 [00:06<00:00, 379.40it/s]\n"
          ],
          "name": "stderr"
        },
        {
          "output_type": "stream",
          "text": [
            "[MoviePy] Done.\n",
            "[MoviePy] >>>> Video ready: new_video.mp4 \n",
            "\n",
            "(808, 8, 2048)\n",
            "Burglary074.mp4\n",
            "(8, 8, 2048)\n",
            "(816, 8, 2048)\n",
            "[MoviePy] >>>> Building video new_video.mp4\n",
            "[MoviePy] Writing audio in new_videoTEMP_MPY_wvf_snd.mp3\n"
          ],
          "name": "stdout"
        },
        {
          "output_type": "stream",
          "text": [
            "100%|██████████| 1418/1418 [00:01<00:00, 1028.29it/s]"
          ],
          "name": "stderr"
        },
        {
          "output_type": "stream",
          "text": [
            "[MoviePy] Done.\n",
            "[MoviePy] Writing video new_video.mp4\n"
          ],
          "name": "stdout"
        },
        {
          "output_type": "stream",
          "text": [
            "\n",
            "100%|██████████| 1929/1929 [00:05<00:00, 348.11it/s]\n"
          ],
          "name": "stderr"
        },
        {
          "output_type": "stream",
          "text": [
            "[MoviePy] Done.\n",
            "[MoviePy] >>>> Video ready: new_video.mp4 \n",
            "\n",
            "(824, 8, 2048)\n",
            "Explosion017.mp4\n",
            "(5, 8, 2048)\n",
            "(829, 8, 2048)\n",
            "[MoviePy] >>>> Building video new_video.mp4\n",
            "[MoviePy] Writing audio in new_videoTEMP_MPY_wvf_snd.mp3\n"
          ],
          "name": "stdout"
        },
        {
          "output_type": "stream",
          "text": [
            "100%|██████████| 943/943 [00:00<00:00, 1372.11it/s]"
          ],
          "name": "stderr"
        },
        {
          "output_type": "stream",
          "text": [
            "[MoviePy] Done.\n",
            "[MoviePy] Writing video new_video.mp4\n"
          ],
          "name": "stdout"
        },
        {
          "output_type": "stream",
          "text": [
            "\n",
            "100%|██████████| 1283/1283 [00:03<00:00, 362.47it/s]\n"
          ],
          "name": "stderr"
        },
        {
          "output_type": "stream",
          "text": [
            "[MoviePy] Done.\n",
            "[MoviePy] >>>> Video ready: new_video.mp4 \n",
            "\n",
            "(834, 8, 2048)\n",
            "Explosion021.mp4\n",
            "(2, 8, 2048)\n",
            "(836, 8, 2048)\n",
            "[MoviePy] >>>> Building video new_video.mp4\n",
            "[MoviePy] Writing audio in new_videoTEMP_MPY_wvf_snd.mp3\n"
          ],
          "name": "stdout"
        },
        {
          "output_type": "stream",
          "text": [
            "100%|██████████| 408/408 [00:00<00:00, 1081.30it/s]"
          ],
          "name": "stderr"
        },
        {
          "output_type": "stream",
          "text": [
            "[MoviePy] Done.\n",
            "[MoviePy] Writing video new_video.mp4\n"
          ],
          "name": "stdout"
        },
        {
          "output_type": "stream",
          "text": [
            "\n",
            "100%|█████████▉| 555/556 [00:01<00:00, 312.10it/s]\n"
          ],
          "name": "stderr"
        },
        {
          "output_type": "stream",
          "text": [
            "[MoviePy] Done.\n",
            "[MoviePy] >>>> Video ready: new_video.mp4 \n",
            "\n",
            "(838, 8, 2048)\n",
            "Explosion022.mp4\n",
            "(8, 8, 2048)\n",
            "(846, 8, 2048)\n",
            "[MoviePy] >>>> Building video new_video.mp4\n",
            "[MoviePy] Writing audio in new_videoTEMP_MPY_wvf_snd.mp3\n"
          ],
          "name": "stdout"
        },
        {
          "output_type": "stream",
          "text": [
            "100%|██████████| 1453/1453 [00:01<00:00, 1384.34it/s]"
          ],
          "name": "stderr"
        },
        {
          "output_type": "stream",
          "text": [
            "[MoviePy] Done.\n",
            "[MoviePy] Writing video new_video.mp4\n"
          ],
          "name": "stdout"
        },
        {
          "output_type": "stream",
          "text": [
            "\n",
            "100%|██████████| 1977/1977 [00:05<00:00, 353.86it/s]\n"
          ],
          "name": "stderr"
        },
        {
          "output_type": "stream",
          "text": [
            "[MoviePy] Done.\n",
            "[MoviePy] >>>> Video ready: new_video.mp4 \n",
            "\n",
            "(854, 8, 2048)\n",
            "Explosion023.mp4\n",
            "(7, 8, 2048)\n",
            "(861, 8, 2048)\n",
            "[MoviePy] >>>> Building video new_video.mp4\n",
            "[MoviePy] Writing audio in new_videoTEMP_MPY_wvf_snd.mp3\n"
          ],
          "name": "stdout"
        },
        {
          "output_type": "stream",
          "text": [
            "100%|██████████| 1330/1330 [00:00<00:00, 1398.10it/s]"
          ],
          "name": "stderr"
        },
        {
          "output_type": "stream",
          "text": [
            "[MoviePy] Done.\n",
            "[MoviePy] Writing video new_video.mp4\n"
          ],
          "name": "stdout"
        },
        {
          "output_type": "stream",
          "text": [
            "\n",
            "100%|██████████| 1810/1810 [00:04<00:00, 371.52it/s]"
          ],
          "name": "stderr"
        },
        {
          "output_type": "stream",
          "text": [
            "[MoviePy] Done.\n",
            "[MoviePy] >>>> Video ready: new_video.mp4 \n",
            "\n"
          ],
          "name": "stdout"
        },
        {
          "output_type": "stream",
          "text": [
            "\n"
          ],
          "name": "stderr"
        },
        {
          "output_type": "stream",
          "text": [
            "(868, 8, 2048)\n",
            "Explosion026.mp4\n",
            "(10, 8, 2048)\n",
            "(878, 8, 2048)\n",
            "[MoviePy] >>>> Building video new_video.mp4\n",
            "[MoviePy] Writing audio in new_videoTEMP_MPY_wvf_snd.mp3\n"
          ],
          "name": "stdout"
        },
        {
          "output_type": "stream",
          "text": [
            "100%|██████████| 1783/1783 [00:01<00:00, 1398.17it/s]"
          ],
          "name": "stderr"
        },
        {
          "output_type": "stream",
          "text": [
            "[MoviePy] Done.\n",
            "[MoviePy] Writing video new_video.mp4\n"
          ],
          "name": "stdout"
        },
        {
          "output_type": "stream",
          "text": [
            "\n",
            "100%|██████████| 2425/2425 [00:07<00:00, 320.19it/s]"
          ],
          "name": "stderr"
        },
        {
          "output_type": "stream",
          "text": [
            "[MoviePy] Done.\n",
            "[MoviePy] >>>> Video ready: new_video.mp4 \n",
            "\n"
          ],
          "name": "stdout"
        },
        {
          "output_type": "stream",
          "text": [
            "\n"
          ],
          "name": "stderr"
        },
        {
          "output_type": "stream",
          "text": [
            "(888, 8, 2048)\n",
            "Explosion030.mp4\n",
            "(11, 8, 2048)\n",
            "(899, 8, 2048)\n",
            "[MoviePy] >>>> Building video new_video.mp4\n",
            "[MoviePy] Writing audio in new_videoTEMP_MPY_wvf_snd.mp3\n"
          ],
          "name": "stdout"
        },
        {
          "output_type": "stream",
          "text": [
            "100%|██████████| 2086/2086 [00:01<00:00, 1352.23it/s]"
          ],
          "name": "stderr"
        },
        {
          "output_type": "stream",
          "text": [
            "[MoviePy] Done.\n",
            "[MoviePy] Writing video new_video.mp4\n"
          ],
          "name": "stdout"
        },
        {
          "output_type": "stream",
          "text": [
            "\n",
            "100%|██████████| 2838/2838 [00:09<00:00, 285.18it/s]\n"
          ],
          "name": "stderr"
        },
        {
          "output_type": "stream",
          "text": [
            "[MoviePy] Done.\n",
            "[MoviePy] >>>> Video ready: new_video.mp4 \n",
            "\n",
            "(910, 8, 2048)\n",
            "Explosion032.mp4\n",
            "(4, 8, 2048)\n",
            "(914, 8, 2048)\n",
            "[MoviePy] >>>> Building video new_video.mp4\n",
            "[MoviePy] Writing audio in new_videoTEMP_MPY_wvf_snd.mp3\n"
          ],
          "name": "stdout"
        },
        {
          "output_type": "stream",
          "text": [
            "100%|██████████| 735/735 [00:00<00:00, 1384.70it/s]"
          ],
          "name": "stderr"
        },
        {
          "output_type": "stream",
          "text": [
            "[MoviePy] Done.\n",
            "[MoviePy] Writing video new_video.mp4\n"
          ],
          "name": "stdout"
        },
        {
          "output_type": "stream",
          "text": [
            "\n",
            "100%|██████████| 999/999 [00:02<00:00, 357.09it/s]"
          ],
          "name": "stderr"
        },
        {
          "output_type": "stream",
          "text": [
            "[MoviePy] Done.\n",
            "[MoviePy] >>>> Video ready: new_video.mp4 \n",
            "\n"
          ],
          "name": "stdout"
        },
        {
          "output_type": "stream",
          "text": [
            "\n"
          ],
          "name": "stderr"
        },
        {
          "output_type": "stream",
          "text": [
            "(918, 8, 2048)\n",
            "Explosion033.mp4\n",
            "(10, 8, 2048)\n",
            "(928, 8, 2048)\n",
            "[MoviePy] >>>> Building video new_video.mp4\n",
            "[MoviePy] Writing audio in new_videoTEMP_MPY_wvf_snd.mp3\n"
          ],
          "name": "stdout"
        },
        {
          "output_type": "stream",
          "text": [
            "100%|██████████| 1895/1895 [00:01<00:00, 1394.50it/s]"
          ],
          "name": "stderr"
        },
        {
          "output_type": "stream",
          "text": [
            "[MoviePy] Done.\n",
            "[MoviePy] Writing video new_video.mp4\n"
          ],
          "name": "stdout"
        },
        {
          "output_type": "stream",
          "text": [
            "\n",
            "100%|██████████| 2578/2578 [00:07<00:00, 353.73it/s]\n"
          ],
          "name": "stderr"
        },
        {
          "output_type": "stream",
          "text": [
            "[MoviePy] Done.\n",
            "[MoviePy] >>>> Video ready: new_video.mp4 \n",
            "\n",
            "(938, 8, 2048)\n",
            "Explosion036.mp4\n",
            "(11, 8, 2048)\n",
            "(949, 8, 2048)\n",
            "[MoviePy] >>>> Building video new_video.mp4\n",
            "[MoviePy] Writing audio in new_videoTEMP_MPY_wvf_snd.mp3\n"
          ],
          "name": "stdout"
        },
        {
          "output_type": "stream",
          "text": [
            "100%|██████████| 2035/2035 [00:01<00:00, 1396.99it/s]"
          ],
          "name": "stderr"
        },
        {
          "output_type": "stream",
          "text": [
            "[MoviePy] Done.\n",
            "[MoviePy] Writing video new_video.mp4\n"
          ],
          "name": "stdout"
        },
        {
          "output_type": "stream",
          "text": [
            "\n",
            "100%|██████████| 2768/2768 [00:07<00:00, 370.11it/s]"
          ],
          "name": "stderr"
        },
        {
          "output_type": "stream",
          "text": [
            "[MoviePy] Done.\n",
            "[MoviePy] >>>> Video ready: new_video.mp4 \n",
            "\n"
          ],
          "name": "stdout"
        },
        {
          "output_type": "stream",
          "text": [
            "\n"
          ],
          "name": "stderr"
        },
        {
          "output_type": "stream",
          "text": [
            "(960, 8, 2048)\n",
            "Fighting030.mp4\n",
            "(7, 8, 2048)\n",
            "(967, 8, 2048)\n",
            "[MoviePy] >>>> Building video new_video.mp4\n",
            "[MoviePy] Writing audio in new_videoTEMP_MPY_wvf_snd.mp3\n"
          ],
          "name": "stdout"
        },
        {
          "output_type": "stream",
          "text": [
            "100%|██████████| 1349/1349 [00:01<00:00, 886.88it/s]\n"
          ],
          "name": "stderr"
        },
        {
          "output_type": "stream",
          "text": [
            "[MoviePy] Done.\n",
            "[MoviePy] Writing video new_video.mp4\n"
          ],
          "name": "stdout"
        },
        {
          "output_type": "stream",
          "text": [
            "100%|██████████| 1835/1835 [00:05<00:00, 325.51it/s]"
          ],
          "name": "stderr"
        },
        {
          "output_type": "stream",
          "text": [
            "[MoviePy] Done.\n",
            "[MoviePy] >>>> Video ready: new_video.mp4 \n",
            "\n"
          ],
          "name": "stdout"
        },
        {
          "output_type": "stream",
          "text": [
            "\n"
          ],
          "name": "stderr"
        },
        {
          "output_type": "stream",
          "text": [
            "(974, 8, 2048)\n",
            "Fighting031.mp4\n",
            "(21, 8, 2048)\n",
            "(995, 8, 2048)\n",
            "[MoviePy] >>>> Building video new_video.mp4\n",
            "[MoviePy] Writing audio in new_videoTEMP_MPY_wvf_snd.mp3\n"
          ],
          "name": "stdout"
        },
        {
          "output_type": "stream",
          "text": [
            "100%|██████████| 3755/3755 [00:02<00:00, 1391.00it/s]"
          ],
          "name": "stderr"
        },
        {
          "output_type": "stream",
          "text": [
            "[MoviePy] Done.\n",
            "[MoviePy] Writing video new_video.mp4\n"
          ],
          "name": "stdout"
        },
        {
          "output_type": "stream",
          "text": [
            "\n",
            "100%|██████████| 5109/5109 [00:15<00:00, 330.92it/s]\n"
          ],
          "name": "stderr"
        },
        {
          "output_type": "stream",
          "text": [
            "[MoviePy] Done.\n",
            "[MoviePy] >>>> Video ready: new_video.mp4 \n",
            "\n",
            "(1016, 8, 2048)\n",
            "Fighting032.mp4\n",
            "(5, 8, 2048)\n",
            "(1021, 8, 2048)\n",
            "[MoviePy] >>>> Building video new_video.mp4\n",
            "[MoviePy] Writing audio in new_videoTEMP_MPY_wvf_snd.mp3\n"
          ],
          "name": "stdout"
        },
        {
          "output_type": "stream",
          "text": [
            "100%|██████████| 935/935 [00:00<00:00, 1364.59it/s]"
          ],
          "name": "stderr"
        },
        {
          "output_type": "stream",
          "text": [
            "[MoviePy] Done.\n",
            "[MoviePy] Writing video new_video.mp4\n"
          ],
          "name": "stdout"
        },
        {
          "output_type": "stream",
          "text": [
            "\n",
            "100%|██████████| 1272/1272 [00:03<00:00, 354.98it/s]\n"
          ],
          "name": "stderr"
        },
        {
          "output_type": "stream",
          "text": [
            "[MoviePy] Done.\n",
            "[MoviePy] >>>> Video ready: new_video.mp4 \n",
            "\n",
            "(1026, 8, 2048)\n",
            "Fighting034.mp4\n",
            "(21, 8, 2048)\n",
            "(1047, 8, 2048)\n",
            "[MoviePy] >>>> Building video new_video.mp4\n",
            "[MoviePy] Writing audio in new_videoTEMP_MPY_wvf_snd.mp3\n"
          ],
          "name": "stdout"
        },
        {
          "output_type": "stream",
          "text": [
            "100%|██████████| 3814/3814 [00:02<00:00, 1399.94it/s]"
          ],
          "name": "stderr"
        },
        {
          "output_type": "stream",
          "text": [
            "[MoviePy] Done.\n",
            "[MoviePy] Writing video new_video.mp4\n"
          ],
          "name": "stdout"
        },
        {
          "output_type": "stream",
          "text": [
            "\n",
            "100%|██████████| 5189/5189 [00:13<00:00, 383.62it/s]\n"
          ],
          "name": "stderr"
        },
        {
          "output_type": "stream",
          "text": [
            "[MoviePy] Done.\n",
            "[MoviePy] >>>> Video ready: new_video.mp4 \n",
            "\n",
            "(1068, 8, 2048)\n",
            "Fighting036.mp4\n",
            "(15, 8, 2048)\n",
            "(1083, 8, 2048)\n",
            "[MoviePy] >>>> Building video new_video.mp4\n",
            "[MoviePy] Writing audio in new_videoTEMP_MPY_wvf_snd.mp3\n"
          ],
          "name": "stdout"
        },
        {
          "output_type": "stream",
          "text": [
            "100%|██████████| 2731/2731 [00:01<00:00, 1391.31it/s]"
          ],
          "name": "stderr"
        },
        {
          "output_type": "stream",
          "text": [
            "[MoviePy] Done.\n",
            "[MoviePy] Writing video new_video.mp4\n"
          ],
          "name": "stdout"
        },
        {
          "output_type": "stream",
          "text": [
            "\n",
            "100%|██████████| 3715/3715 [00:12<00:00, 287.65it/s]\n"
          ],
          "name": "stderr"
        },
        {
          "output_type": "stream",
          "text": [
            "[MoviePy] Done.\n",
            "[MoviePy] >>>> Video ready: new_video.mp4 \n",
            "\n",
            "(1098, 8, 2048)\n",
            "Fighting037.mp4\n",
            "(15, 8, 2048)\n",
            "(1113, 8, 2048)\n",
            "[MoviePy] >>>> Building video new_video.mp4\n",
            "[MoviePy] Writing audio in new_videoTEMP_MPY_wvf_snd.mp3\n"
          ],
          "name": "stdout"
        },
        {
          "output_type": "stream",
          "text": [
            "100%|██████████| 2649/2649 [00:01<00:00, 1386.71it/s]"
          ],
          "name": "stderr"
        },
        {
          "output_type": "stream",
          "text": [
            "[MoviePy] Done.\n",
            "[MoviePy] Writing video new_video.mp4\n"
          ],
          "name": "stdout"
        },
        {
          "output_type": "stream",
          "text": [
            "\n",
            "100%|██████████| 3604/3604 [00:10<00:00, 345.71it/s]\n"
          ],
          "name": "stderr"
        },
        {
          "output_type": "stream",
          "text": [
            "[MoviePy] Done.\n",
            "[MoviePy] >>>> Video ready: new_video.mp4 \n",
            "\n",
            "(1128, 8, 2048)\n",
            "Fighting039.mp4\n",
            "(21, 8, 2048)\n",
            "(1149, 8, 2048)\n",
            "[MoviePy] >>>> Building video new_video.mp4\n",
            "[MoviePy] Writing audio in new_videoTEMP_MPY_wvf_snd.mp3\n"
          ],
          "name": "stdout"
        },
        {
          "output_type": "stream",
          "text": [
            "100%|██████████| 3766/3766 [00:02<00:00, 1389.47it/s]"
          ],
          "name": "stderr"
        },
        {
          "output_type": "stream",
          "text": [
            "[MoviePy] Done.\n",
            "[MoviePy] Writing video new_video.mp4\n"
          ],
          "name": "stdout"
        },
        {
          "output_type": "stream",
          "text": [
            "\n",
            "100%|██████████| 5123/5123 [00:18<00:00, 280.84it/s]\n"
          ],
          "name": "stderr"
        },
        {
          "output_type": "stream",
          "text": [
            "[MoviePy] Done.\n",
            "[MoviePy] >>>> Video ready: new_video.mp4 \n",
            "\n",
            "(1170, 8, 2048)\n",
            "Fighting040.mp4\n",
            "(8, 8, 2048)\n",
            "(1178, 8, 2048)\n",
            "[MoviePy] >>>> Building video new_video.mp4\n",
            "[MoviePy] Writing audio in new_videoTEMP_MPY_wvf_snd.mp3\n"
          ],
          "name": "stdout"
        },
        {
          "output_type": "stream",
          "text": [
            "100%|██████████| 1471/1471 [00:01<00:00, 1416.93it/s]"
          ],
          "name": "stderr"
        },
        {
          "output_type": "stream",
          "text": [
            "[MoviePy] Done.\n",
            "[MoviePy] Writing video new_video.mp4\n"
          ],
          "name": "stdout"
        },
        {
          "output_type": "stream",
          "text": [
            "\n",
            "100%|██████████| 2002/2002 [00:05<00:00, 352.09it/s]\n"
          ],
          "name": "stderr"
        },
        {
          "output_type": "stream",
          "text": [
            "[MoviePy] Done.\n",
            "[MoviePy] >>>> Video ready: new_video.mp4 \n",
            "\n",
            "(1186, 8, 2048)\n",
            "Fighting041.mp4\n",
            "(15, 8, 2048)\n",
            "(1201, 8, 2048)\n",
            "[MoviePy] >>>> Building video new_video.mp4\n",
            "[MoviePy] Writing audio in new_videoTEMP_MPY_wvf_snd.mp3\n"
          ],
          "name": "stdout"
        },
        {
          "output_type": "stream",
          "text": [
            "100%|██████████| 2687/2687 [00:01<00:00, 1396.47it/s]"
          ],
          "name": "stderr"
        },
        {
          "output_type": "stream",
          "text": [
            "[MoviePy] Done.\n",
            "[MoviePy] Writing video new_video.mp4\n"
          ],
          "name": "stdout"
        },
        {
          "output_type": "stream",
          "text": [
            "\n",
            "100%|██████████| 3655/3655 [00:10<00:00, 338.19it/s]\n"
          ],
          "name": "stderr"
        },
        {
          "output_type": "stream",
          "text": [
            "[MoviePy] Done.\n",
            "[MoviePy] >>>> Video ready: new_video.mp4 \n",
            "\n",
            "(1216, 8, 2048)\n",
            "Fighting042.mp4\n",
            "(7, 8, 2048)\n",
            "(1223, 8, 2048)\n",
            "[MoviePy] >>>> Building video new_video.mp4\n",
            "[MoviePy] Writing audio in new_videoTEMP_MPY_wvf_snd.mp3\n"
          ],
          "name": "stdout"
        },
        {
          "output_type": "stream",
          "text": [
            "100%|██████████| 1331/1331 [00:00<00:00, 1352.60it/s]"
          ],
          "name": "stderr"
        },
        {
          "output_type": "stream",
          "text": [
            "[MoviePy] Done.\n",
            "[MoviePy] Writing video new_video.mp4\n"
          ],
          "name": "stdout"
        },
        {
          "output_type": "stream",
          "text": [
            "\n",
            "100%|██████████| 1810/1810 [00:05<00:00, 342.88it/s]"
          ],
          "name": "stderr"
        },
        {
          "output_type": "stream",
          "text": [
            "[MoviePy] Done.\n",
            "[MoviePy] >>>> Video ready: new_video.mp4 \n",
            "\n"
          ],
          "name": "stdout"
        },
        {
          "output_type": "stream",
          "text": [
            "\n"
          ],
          "name": "stderr"
        },
        {
          "output_type": "stream",
          "text": [
            "(1230, 8, 2048)\n",
            "RoadAccidents034.mp4\n",
            "(5, 8, 2048)\n",
            "(1235, 8, 2048)\n",
            "[MoviePy] >>>> Building video new_video.mp4\n",
            "[MoviePy] Writing audio in new_videoTEMP_MPY_wvf_snd.mp3\n"
          ],
          "name": "stdout"
        },
        {
          "output_type": "stream",
          "text": [
            "100%|██████████| 901/901 [00:00<00:00, 1393.99it/s]"
          ],
          "name": "stderr"
        },
        {
          "output_type": "stream",
          "text": [
            "[MoviePy] Done.\n",
            "[MoviePy] Writing video new_video.mp4\n"
          ],
          "name": "stdout"
        },
        {
          "output_type": "stream",
          "text": [
            "\n",
            "100%|██████████| 1226/1226 [00:03<00:00, 364.93it/s]\n"
          ],
          "name": "stderr"
        },
        {
          "output_type": "stream",
          "text": [
            "[MoviePy] Done.\n",
            "[MoviePy] >>>> Video ready: new_video.mp4 \n",
            "\n",
            "(1240, 8, 2048)\n",
            "RoadAccidents036.mp4\n",
            "(3, 8, 2048)\n",
            "(1243, 8, 2048)\n",
            "[MoviePy] >>>> Building video new_video.mp4\n",
            "[MoviePy] Writing audio in new_videoTEMP_MPY_wvf_snd.mp3\n"
          ],
          "name": "stdout"
        },
        {
          "output_type": "stream",
          "text": [
            "100%|██████████| 550/550 [00:00<00:00, 1463.09it/s]"
          ],
          "name": "stderr"
        },
        {
          "output_type": "stream",
          "text": [
            "[MoviePy] Done.\n",
            "[MoviePy] Writing video new_video.mp4\n"
          ],
          "name": "stdout"
        },
        {
          "output_type": "stream",
          "text": [
            "\n",
            "100%|██████████| 748/748 [00:02<00:00, 318.03it/s]\n"
          ],
          "name": "stderr"
        },
        {
          "output_type": "stream",
          "text": [
            "[MoviePy] Done.\n",
            "[MoviePy] >>>> Video ready: new_video.mp4 \n",
            "\n",
            "(1246, 8, 2048)\n",
            "RoadAccidents125.mp4\n",
            "(2, 8, 2048)\n",
            "(1248, 8, 2048)\n",
            "[MoviePy] >>>> Building video new_video.mp4\n",
            "[MoviePy] Writing audio in new_videoTEMP_MPY_wvf_snd.mp3\n"
          ],
          "name": "stdout"
        },
        {
          "output_type": "stream",
          "text": [
            "100%|██████████| 449/449 [00:00<00:00, 1279.35it/s]"
          ],
          "name": "stderr"
        },
        {
          "output_type": "stream",
          "text": [
            "[MoviePy] Done.\n",
            "[MoviePy] Writing video new_video.mp4\n"
          ],
          "name": "stdout"
        },
        {
          "output_type": "stream",
          "text": [
            "\n",
            "100%|██████████| 610/610 [00:01<00:00, 406.53it/s]\n"
          ],
          "name": "stderr"
        },
        {
          "output_type": "stream",
          "text": [
            "[MoviePy] Done.\n",
            "[MoviePy] >>>> Video ready: new_video.mp4 \n",
            "\n",
            "(1250, 8, 2048)\n",
            "RoadAccidents122.mp4\n",
            "(2, 8, 2048)\n",
            "(1252, 8, 2048)\n",
            "[MoviePy] >>>> Building video new_video.mp4\n",
            "[MoviePy] Writing audio in new_videoTEMP_MPY_wvf_snd.mp3\n"
          ],
          "name": "stdout"
        },
        {
          "output_type": "stream",
          "text": [
            "100%|██████████| 403/403 [00:00<00:00, 1479.73it/s]"
          ],
          "name": "stderr"
        },
        {
          "output_type": "stream",
          "text": [
            "[MoviePy] Done.\n",
            "[MoviePy] Writing video new_video.mp4\n"
          ],
          "name": "stdout"
        },
        {
          "output_type": "stream",
          "text": [
            "\n",
            "100%|██████████| 548/548 [00:01<00:00, 401.05it/s]\n"
          ],
          "name": "stderr"
        },
        {
          "output_type": "stream",
          "text": [
            "[MoviePy] Done.\n",
            "[MoviePy] >>>> Video ready: new_video.mp4 \n",
            "\n",
            "(1254, 8, 2048)\n",
            "RoadAccidents123.mp4\n",
            "(2, 8, 2048)\n",
            "(1256, 8, 2048)\n",
            "[MoviePy] >>>> Building video new_video.mp4\n",
            "[MoviePy] Writing audio in new_videoTEMP_MPY_wvf_snd.mp3\n"
          ],
          "name": "stdout"
        },
        {
          "output_type": "stream",
          "text": [
            "100%|██████████| 395/395 [00:00<00:00, 1408.77it/s]"
          ],
          "name": "stderr"
        },
        {
          "output_type": "stream",
          "text": [
            "[MoviePy] Done.\n",
            "[MoviePy] Writing video new_video.mp4\n"
          ],
          "name": "stdout"
        },
        {
          "output_type": "stream",
          "text": [
            "\n",
            "100%|█████████▉| 537/538 [00:01<00:00, 387.07it/s]\n"
          ],
          "name": "stderr"
        },
        {
          "output_type": "stream",
          "text": [
            "[MoviePy] Done.\n",
            "[MoviePy] >>>> Video ready: new_video.mp4 \n",
            "\n",
            "(1258, 8, 2048)\n",
            "RoadAccidents114.mp4\n",
            "(2, 8, 2048)\n",
            "(1260, 8, 2048)\n",
            "[MoviePy] >>>> Building video new_video.mp4\n",
            "[MoviePy] Writing audio in new_videoTEMP_MPY_wvf_snd.mp3\n"
          ],
          "name": "stdout"
        },
        {
          "output_type": "stream",
          "text": [
            "100%|██████████| 344/344 [00:00<00:00, 1450.24it/s]"
          ],
          "name": "stderr"
        },
        {
          "output_type": "stream",
          "text": [
            "[MoviePy] Done.\n",
            "[MoviePy] Writing video new_video.mp4\n"
          ],
          "name": "stdout"
        },
        {
          "output_type": "stream",
          "text": [
            "\n",
            "100%|█████████▉| 468/469 [00:01<00:00, 403.73it/s]"
          ],
          "name": "stderr"
        },
        {
          "output_type": "stream",
          "text": [
            "[MoviePy] Done.\n",
            "[MoviePy] >>>> Video ready: new_video.mp4 \n",
            "\n"
          ],
          "name": "stdout"
        },
        {
          "output_type": "stream",
          "text": [
            "\n"
          ],
          "name": "stderr"
        },
        {
          "output_type": "stream",
          "text": [
            "(1262, 8, 2048)\n",
            "RoadAccidents037.mp4\n",
            "(6, 8, 2048)\n",
            "(1268, 8, 2048)\n",
            "[MoviePy] >>>> Building video new_video.mp4\n",
            "[MoviePy] Writing audio in new_videoTEMP_MPY_wvf_snd.mp3\n"
          ],
          "name": "stdout"
        },
        {
          "output_type": "stream",
          "text": [
            "100%|██████████| 1163/1163 [00:00<00:00, 1391.03it/s]"
          ],
          "name": "stderr"
        },
        {
          "output_type": "stream",
          "text": [
            "[MoviePy] Done.\n",
            "[MoviePy] Writing video new_video.mp4\n"
          ],
          "name": "stdout"
        },
        {
          "output_type": "stream",
          "text": [
            "\n",
            "100%|██████████| 1582/1582 [00:03<00:00, 404.17it/s]"
          ],
          "name": "stderr"
        },
        {
          "output_type": "stream",
          "text": [
            "[MoviePy] Done.\n",
            "[MoviePy] >>>> Video ready: new_video.mp4 \n",
            "\n"
          ],
          "name": "stdout"
        },
        {
          "output_type": "stream",
          "text": [
            "\n"
          ],
          "name": "stderr"
        },
        {
          "output_type": "stream",
          "text": [
            "(1274, 8, 2048)\n",
            "RoadAccidents144.mp4\n",
            "(2, 8, 2048)\n",
            "(1276, 8, 2048)\n",
            "[MoviePy] >>>> Building video new_video.mp4\n",
            "[MoviePy] Writing audio in new_videoTEMP_MPY_wvf_snd.mp3\n"
          ],
          "name": "stdout"
        },
        {
          "output_type": "stream",
          "text": [
            "100%|██████████| 458/458 [00:00<00:00, 1363.57it/s]"
          ],
          "name": "stderr"
        },
        {
          "output_type": "stream",
          "text": [
            "[MoviePy] Done.\n",
            "[MoviePy] Writing video new_video.mp4\n"
          ],
          "name": "stdout"
        },
        {
          "output_type": "stream",
          "text": [
            "\n",
            "100%|██████████| 623/623 [00:01<00:00, 383.20it/s]"
          ],
          "name": "stderr"
        },
        {
          "output_type": "stream",
          "text": [
            "[MoviePy] Done.\n",
            "[MoviePy] >>>> Video ready: new_video.mp4 \n",
            "\n"
          ],
          "name": "stdout"
        },
        {
          "output_type": "stream",
          "text": [
            "\n"
          ],
          "name": "stderr"
        },
        {
          "output_type": "stream",
          "text": [
            "(1278, 8, 2048)\n",
            "RoadAccidents134.mp4\n",
            "(0,)\n",
            "(1278, 8, 2048)\n",
            "[MoviePy] >>>> Building video new_video.mp4\n",
            "[MoviePy] Writing audio in new_videoTEMP_MPY_wvf_snd.mp3\n"
          ],
          "name": "stdout"
        },
        {
          "output_type": "stream",
          "text": [
            "100%|██████████| 100/100 [00:00<00:00, 1475.41it/s]"
          ],
          "name": "stderr"
        },
        {
          "output_type": "stream",
          "text": [
            "[MoviePy] Done.\n",
            "[MoviePy] Writing video new_video.mp4\n"
          ],
          "name": "stdout"
        },
        {
          "output_type": "stream",
          "text": [
            "\n",
            "100%|██████████| 136/136 [00:00<00:00, 388.12it/s]"
          ],
          "name": "stderr"
        },
        {
          "output_type": "stream",
          "text": [
            "[MoviePy] Done.\n",
            "[MoviePy] >>>> Video ready: new_video.mp4 \n",
            "\n"
          ],
          "name": "stdout"
        },
        {
          "output_type": "stream",
          "text": [
            "\n"
          ],
          "name": "stderr"
        },
        {
          "output_type": "stream",
          "text": [
            "(1278, 8, 2048)\n",
            "RoadAccidents137.mp4\n",
            "(2, 8, 2048)\n",
            "(1280, 8, 2048)\n",
            "[MoviePy] >>>> Building video new_video.mp4\n",
            "[MoviePy] Writing audio in new_videoTEMP_MPY_wvf_snd.mp3\n"
          ],
          "name": "stdout"
        },
        {
          "output_type": "stream",
          "text": [
            "100%|██████████| 353/353 [00:00<00:00, 1319.90it/s]"
          ],
          "name": "stderr"
        },
        {
          "output_type": "stream",
          "text": [
            "[MoviePy] Done.\n",
            "[MoviePy] Writing video new_video.mp4\n"
          ],
          "name": "stdout"
        },
        {
          "output_type": "stream",
          "text": [
            "\n",
            "100%|██████████| 480/480 [00:01<00:00, 383.51it/s]"
          ],
          "name": "stderr"
        },
        {
          "output_type": "stream",
          "text": [
            "[MoviePy] Done.\n",
            "[MoviePy] >>>> Video ready: new_video.mp4 \n",
            "\n"
          ],
          "name": "stdout"
        },
        {
          "output_type": "stream",
          "text": [
            "\n"
          ],
          "name": "stderr"
        },
        {
          "output_type": "stream",
          "text": [
            "(1282, 8, 2048)\n",
            "RoadAccidents136.mp4\n",
            "(1, 8, 2048)\n",
            "(1283, 8, 2048)\n",
            "[MoviePy] >>>> Building video new_video.mp4\n",
            "[MoviePy] Writing audio in new_videoTEMP_MPY_wvf_snd.mp3\n"
          ],
          "name": "stdout"
        },
        {
          "output_type": "stream",
          "text": [
            "100%|██████████| 233/233 [00:00<00:00, 1337.17it/s]"
          ],
          "name": "stderr"
        },
        {
          "output_type": "stream",
          "text": [
            "[MoviePy] Done.\n",
            "[MoviePy] Writing video new_video.mp4\n"
          ],
          "name": "stdout"
        },
        {
          "output_type": "stream",
          "text": [
            "\n",
            "100%|██████████| 317/317 [00:00<00:00, 362.94it/s]\n"
          ],
          "name": "stderr"
        },
        {
          "output_type": "stream",
          "text": [
            "[MoviePy] Done.\n",
            "[MoviePy] >>>> Video ready: new_video.mp4 \n",
            "\n",
            "(1284, 8, 2048)\n",
            "RoadAccidents129.mp4\n",
            "(0,)\n",
            "(1284, 8, 2048)\n",
            "[MoviePy] >>>> Building video new_video.mp4\n",
            "[MoviePy] Writing audio in new_videoTEMP_MPY_wvf_snd.mp3\n"
          ],
          "name": "stdout"
        },
        {
          "output_type": "stream",
          "text": [
            "100%|██████████| 108/108 [00:00<00:00, 1538.37it/s]"
          ],
          "name": "stderr"
        },
        {
          "output_type": "stream",
          "text": [
            "[MoviePy] Done.\n",
            "[MoviePy] Writing video new_video.mp4\n"
          ],
          "name": "stdout"
        },
        {
          "output_type": "stream",
          "text": [
            "\n",
            "100%|██████████| 147/147 [00:00<00:00, 410.79it/s]\n"
          ],
          "name": "stderr"
        },
        {
          "output_type": "stream",
          "text": [
            "[MoviePy] Done.\n",
            "[MoviePy] >>>> Video ready: new_video.mp4 \n",
            "\n",
            "(1284, 8, 2048)\n",
            "RoadAccidents130.mp4\n",
            "(2, 8, 2048)\n",
            "(1286, 8, 2048)\n",
            "[MoviePy] >>>> Building video new_video.mp4\n",
            "[MoviePy] Writing audio in new_videoTEMP_MPY_wvf_snd.mp3\n"
          ],
          "name": "stdout"
        },
        {
          "output_type": "stream",
          "text": [
            "100%|██████████| 460/460 [00:00<00:00, 1202.62it/s]"
          ],
          "name": "stderr"
        },
        {
          "output_type": "stream",
          "text": [
            "[MoviePy] Done.\n",
            "[MoviePy] Writing video new_video.mp4\n"
          ],
          "name": "stdout"
        },
        {
          "output_type": "stream",
          "text": [
            "\n",
            "100%|██████████| 625/625 [00:01<00:00, 330.63it/s]\n"
          ],
          "name": "stderr"
        },
        {
          "output_type": "stream",
          "text": [
            "[MoviePy] Done.\n",
            "[MoviePy] >>>> Video ready: new_video.mp4 \n",
            "\n",
            "(1288, 8, 2048)\n",
            "RoadAccidents138.mp4\n",
            "(1, 8, 2048)\n",
            "(1289, 8, 2048)\n",
            "[MoviePy] >>>> Building video new_video.mp4\n",
            "[MoviePy] Writing audio in new_videoTEMP_MPY_wvf_snd.mp3\n"
          ],
          "name": "stdout"
        },
        {
          "output_type": "stream",
          "text": [
            "100%|██████████| 328/328 [00:00<00:00, 1014.16it/s]"
          ],
          "name": "stderr"
        },
        {
          "output_type": "stream",
          "text": [
            "[MoviePy] Done.\n",
            "[MoviePy] Writing video new_video.mp4\n"
          ],
          "name": "stdout"
        },
        {
          "output_type": "stream",
          "text": [
            "\n",
            "100%|██████████| 447/447 [00:01<00:00, 396.77it/s]"
          ],
          "name": "stderr"
        },
        {
          "output_type": "stream",
          "text": [
            "[MoviePy] Done.\n",
            "[MoviePy] >>>> Video ready: new_video.mp4 \n",
            "\n"
          ],
          "name": "stdout"
        },
        {
          "output_type": "stream",
          "text": [
            "\n"
          ],
          "name": "stderr"
        },
        {
          "output_type": "stream",
          "text": [
            "(1290, 8, 2048)\n",
            "RoadAccidents132.mp4\n",
            "(1, 8, 2048)\n",
            "(1291, 8, 2048)\n",
            "[MoviePy] >>>> Building video new_video.mp4\n",
            "[MoviePy] Writing audio in new_videoTEMP_MPY_wvf_snd.mp3\n"
          ],
          "name": "stdout"
        },
        {
          "output_type": "stream",
          "text": [
            "100%|██████████| 292/292 [00:00<00:00, 1443.56it/s]"
          ],
          "name": "stderr"
        },
        {
          "output_type": "stream",
          "text": [
            "[MoviePy] Done.\n",
            "[MoviePy] Writing video new_video.mp4\n"
          ],
          "name": "stdout"
        },
        {
          "output_type": "stream",
          "text": [
            "\n",
            "100%|██████████| 398/398 [00:01<00:00, 390.27it/s]"
          ],
          "name": "stderr"
        },
        {
          "output_type": "stream",
          "text": [
            "[MoviePy] Done.\n",
            "[MoviePy] >>>> Video ready: new_video.mp4 \n",
            "\n"
          ],
          "name": "stdout"
        },
        {
          "output_type": "stream",
          "text": [
            "\n"
          ],
          "name": "stderr"
        },
        {
          "output_type": "stream",
          "text": [
            "(1292, 8, 2048)\n",
            "RoadAccidents133.mp4\n",
            "(2, 8, 2048)\n",
            "(1294, 8, 2048)\n",
            "[MoviePy] >>>> Building video new_video.mp4\n",
            "[MoviePy] Writing audio in new_videoTEMP_MPY_wvf_snd.mp3\n"
          ],
          "name": "stdout"
        },
        {
          "output_type": "stream",
          "text": [
            "100%|██████████| 421/421 [00:00<00:00, 1425.86it/s]"
          ],
          "name": "stderr"
        },
        {
          "output_type": "stream",
          "text": [
            "[MoviePy] Done.\n"
          ],
          "name": "stdout"
        },
        {
          "output_type": "stream",
          "text": [
            "\n"
          ],
          "name": "stderr"
        },
        {
          "output_type": "stream",
          "text": [
            "[MoviePy] Writing video new_video.mp4\n"
          ],
          "name": "stdout"
        },
        {
          "output_type": "stream",
          "text": [
            "100%|██████████| 573/573 [00:01<00:00, 359.86it/s]\n"
          ],
          "name": "stderr"
        },
        {
          "output_type": "stream",
          "text": [
            "[MoviePy] Done.\n",
            "[MoviePy] >>>> Video ready: new_video.mp4 \n",
            "\n",
            "(1296, 8, 2048)\n",
            "RoadAccidents040.mp4\n",
            "(4, 8, 2048)\n",
            "(1300, 8, 2048)\n",
            "[MoviePy] >>>> Building video new_video.mp4\n",
            "[MoviePy] Writing audio in new_videoTEMP_MPY_wvf_snd.mp3\n"
          ],
          "name": "stdout"
        },
        {
          "output_type": "stream",
          "text": [
            "100%|██████████| 855/855 [00:00<00:00, 1231.01it/s]"
          ],
          "name": "stderr"
        },
        {
          "output_type": "stream",
          "text": [
            "[MoviePy] Done.\n",
            "[MoviePy] Writing video new_video.mp4\n"
          ],
          "name": "stdout"
        },
        {
          "output_type": "stream",
          "text": [
            "\n",
            "100%|██████████| 1163/1163 [00:03<00:00, 329.83it/s]\n"
          ],
          "name": "stderr"
        },
        {
          "output_type": "stream",
          "text": [
            "[MoviePy] Done.\n",
            "[MoviePy] >>>> Video ready: new_video.mp4 \n",
            "\n",
            "(1304, 8, 2048)\n",
            "RoadAccidents135.mp4\n",
            "(3, 8, 2048)\n",
            "(1307, 8, 2048)\n",
            "[MoviePy] >>>> Building video new_video.mp4\n",
            "[MoviePy] Writing audio in new_videoTEMP_MPY_wvf_snd.mp3\n"
          ],
          "name": "stdout"
        },
        {
          "output_type": "stream",
          "text": [
            "100%|██████████| 668/668 [00:00<00:00, 1414.09it/s]"
          ],
          "name": "stderr"
        },
        {
          "output_type": "stream",
          "text": [
            "[MoviePy] Done.\n",
            "[MoviePy] Writing video new_video.mp4\n"
          ],
          "name": "stdout"
        },
        {
          "output_type": "stream",
          "text": [
            "\n",
            "100%|██████████| 909/909 [00:02<00:00, 382.84it/s]"
          ],
          "name": "stderr"
        },
        {
          "output_type": "stream",
          "text": [
            "[MoviePy] Done.\n",
            "[MoviePy] >>>> Video ready: new_video.mp4 \n",
            "\n"
          ],
          "name": "stdout"
        },
        {
          "output_type": "stream",
          "text": [
            "\n"
          ],
          "name": "stderr"
        },
        {
          "output_type": "stream",
          "text": [
            "(1310, 8, 2048)\n",
            "RoadAccidents145.mp4\n",
            "(1, 8, 2048)\n",
            "(1311, 8, 2048)\n",
            "[MoviePy] >>>> Building video new_video.mp4\n",
            "[MoviePy] Writing audio in new_videoTEMP_MPY_wvf_snd.mp3\n"
          ],
          "name": "stdout"
        },
        {
          "output_type": "stream",
          "text": [
            "100%|██████████| 326/326 [00:00<00:00, 1418.14it/s]"
          ],
          "name": "stderr"
        },
        {
          "output_type": "stream",
          "text": [
            "[MoviePy] Done.\n",
            "[MoviePy] Writing video new_video.mp4\n"
          ],
          "name": "stdout"
        },
        {
          "output_type": "stream",
          "text": [
            "\n",
            "100%|██████████| 443/443 [00:01<00:00, 345.47it/s]\n"
          ],
          "name": "stderr"
        },
        {
          "output_type": "stream",
          "text": [
            "[MoviePy] Done.\n",
            "[MoviePy] >>>> Video ready: new_video.mp4 \n",
            "\n",
            "(1312, 8, 2048)\n",
            "RoadAccidents041.mp4\n",
            "(1, 8, 2048)\n",
            "(1313, 8, 2048)\n",
            "[MoviePy] >>>> Building video new_video.mp4\n",
            "[MoviePy] Writing audio in new_videoTEMP_MPY_wvf_snd.mp3\n"
          ],
          "name": "stdout"
        },
        {
          "output_type": "stream",
          "text": [
            "100%|██████████| 177/177 [00:00<00:00, 786.64it/s]"
          ],
          "name": "stderr"
        },
        {
          "output_type": "stream",
          "text": [
            "[MoviePy] Done.\n",
            "[MoviePy] Writing video new_video.mp4\n"
          ],
          "name": "stdout"
        },
        {
          "output_type": "stream",
          "text": [
            "\n",
            "100%|██████████| 240/240 [00:00<00:00, 338.15it/s]\n"
          ],
          "name": "stderr"
        },
        {
          "output_type": "stream",
          "text": [
            "[MoviePy] Done.\n",
            "[MoviePy] >>>> Video ready: new_video.mp4 \n",
            "\n",
            "(1314, 8, 2048)\n",
            "RoadAccidents042.mp4\n",
            "(3, 8, 2048)\n",
            "(1317, 8, 2048)\n",
            "[MoviePy] >>>> Building video new_video.mp4\n",
            "[MoviePy] Writing audio in new_videoTEMP_MPY_wvf_snd.mp3\n"
          ],
          "name": "stdout"
        },
        {
          "output_type": "stream",
          "text": [
            "100%|██████████| 546/546 [00:00<00:00, 1328.63it/s]"
          ],
          "name": "stderr"
        },
        {
          "output_type": "stream",
          "text": [
            "[MoviePy] Done.\n",
            "[MoviePy] Writing video new_video.mp4\n"
          ],
          "name": "stdout"
        },
        {
          "output_type": "stream",
          "text": [
            "\n",
            "100%|██████████| 742/742 [00:02<00:00, 329.27it/s]"
          ],
          "name": "stderr"
        },
        {
          "output_type": "stream",
          "text": [
            "[MoviePy] Done.\n",
            "[MoviePy] >>>> Video ready: new_video.mp4 \n",
            "\n"
          ],
          "name": "stdout"
        },
        {
          "output_type": "stream",
          "text": [
            "\n"
          ],
          "name": "stderr"
        },
        {
          "output_type": "stream",
          "text": [
            "(1320, 8, 2048)\n",
            "RoadAccidents047.mp4\n",
            "(1, 8, 2048)\n",
            "(1321, 8, 2048)\n",
            "[MoviePy] >>>> Building video new_video.mp4\n",
            "[MoviePy] Writing audio in new_videoTEMP_MPY_wvf_snd.mp3\n"
          ],
          "name": "stdout"
        },
        {
          "output_type": "stream",
          "text": [
            "100%|██████████| 317/317 [00:00<00:00, 1262.15it/s]"
          ],
          "name": "stderr"
        },
        {
          "output_type": "stream",
          "text": [
            "[MoviePy] Done.\n",
            "[MoviePy] Writing video new_video.mp4\n"
          ],
          "name": "stdout"
        },
        {
          "output_type": "stream",
          "text": [
            "\n",
            "100%|██████████| 431/431 [00:01<00:00, 343.91it/s]\n"
          ],
          "name": "stderr"
        },
        {
          "output_type": "stream",
          "text": [
            "[MoviePy] Done.\n",
            "[MoviePy] >>>> Video ready: new_video.mp4 \n",
            "\n",
            "(1322, 8, 2048)\n",
            "RoadAccidents050.mp4\n",
            "(2, 8, 2048)\n",
            "(1324, 8, 2048)\n",
            "[MoviePy] >>>> Building video new_video.mp4\n",
            "[MoviePy] Writing audio in new_videoTEMP_MPY_wvf_snd.mp3\n"
          ],
          "name": "stdout"
        },
        {
          "output_type": "stream",
          "text": [
            "100%|██████████| 453/453 [00:00<00:00, 986.49it/s]"
          ],
          "name": "stderr"
        },
        {
          "output_type": "stream",
          "text": [
            "[MoviePy] Done.\n",
            "[MoviePy] Writing video new_video.mp4\n"
          ],
          "name": "stdout"
        },
        {
          "output_type": "stream",
          "text": [
            "\n",
            "100%|██████████| 617/617 [00:01<00:00, 360.96it/s]\n"
          ],
          "name": "stderr"
        },
        {
          "output_type": "stream",
          "text": [
            "[MoviePy] Done.\n",
            "[MoviePy] >>>> Video ready: new_video.mp4 \n",
            "\n",
            "(1326, 8, 2048)\n",
            "RoadAccidents054.mp4\n",
            "(4, 8, 2048)\n",
            "(1330, 8, 2048)\n",
            "[MoviePy] >>>> Building video new_video.mp4\n",
            "[MoviePy] Writing audio in new_videoTEMP_MPY_wvf_snd.mp3\n"
          ],
          "name": "stdout"
        },
        {
          "output_type": "stream",
          "text": [
            "100%|██████████| 726/726 [00:00<00:00, 1456.95it/s]\n"
          ],
          "name": "stderr"
        },
        {
          "output_type": "stream",
          "text": [
            "[MoviePy] Done.\n",
            "[MoviePy] Writing video new_video.mp4\n"
          ],
          "name": "stdout"
        },
        {
          "output_type": "stream",
          "text": [
            "100%|██████████| 988/988 [00:02<00:00, 364.37it/s]\n"
          ],
          "name": "stderr"
        },
        {
          "output_type": "stream",
          "text": [
            "[MoviePy] Done.\n",
            "[MoviePy] >>>> Video ready: new_video.mp4 \n",
            "\n",
            "(1334, 8, 2048)\n",
            "RoadAccidents059.mp4\n",
            "(7, 8, 2048)\n",
            "(1341, 8, 2048)\n",
            "[MoviePy] >>>> Building video new_video.mp4\n",
            "[MoviePy] Writing audio in new_videoTEMP_MPY_wvf_snd.mp3\n"
          ],
          "name": "stdout"
        },
        {
          "output_type": "stream",
          "text": [
            "100%|██████████| 1337/1337 [00:00<00:00, 1413.38it/s]"
          ],
          "name": "stderr"
        },
        {
          "output_type": "stream",
          "text": [
            "[MoviePy] Done.\n",
            "[MoviePy] Writing video new_video.mp4\n"
          ],
          "name": "stdout"
        },
        {
          "output_type": "stream",
          "text": [
            "\n",
            "100%|██████████| 1819/1819 [00:04<00:00, 374.73it/s]"
          ],
          "name": "stderr"
        },
        {
          "output_type": "stream",
          "text": [
            "[MoviePy] Done.\n",
            "[MoviePy] >>>> Video ready: new_video.mp4 \n",
            "\n"
          ],
          "name": "stdout"
        },
        {
          "output_type": "stream",
          "text": [
            "\n"
          ],
          "name": "stderr"
        },
        {
          "output_type": "stream",
          "text": [
            "(1348, 8, 2048)\n",
            "RoadAccidents062.mp4\n",
            "(16, 8, 2048)\n",
            "(1364, 8, 2048)\n",
            "[MoviePy] >>>> Building video new_video.mp4\n",
            "[MoviePy] Writing audio in new_videoTEMP_MPY_wvf_snd.mp3\n"
          ],
          "name": "stdout"
        },
        {
          "output_type": "stream",
          "text": [
            "100%|██████████| 2879/2879 [00:02<00:00, 1389.02it/s]"
          ],
          "name": "stderr"
        },
        {
          "output_type": "stream",
          "text": [
            "[MoviePy] Done.\n",
            "[MoviePy] Writing video new_video.mp4\n"
          ],
          "name": "stdout"
        },
        {
          "output_type": "stream",
          "text": [
            "\n",
            "100%|██████████| 3917/3917 [00:10<00:00, 374.50it/s]"
          ],
          "name": "stderr"
        },
        {
          "output_type": "stream",
          "text": [
            "[MoviePy] Done.\n",
            "[MoviePy] >>>> Video ready: new_video.mp4 \n",
            "\n"
          ],
          "name": "stdout"
        },
        {
          "output_type": "stream",
          "text": [
            "\n"
          ],
          "name": "stderr"
        },
        {
          "output_type": "stream",
          "text": [
            "(1380, 8, 2048)\n",
            "RoadAccidents066.mp4\n",
            "(6, 8, 2048)\n",
            "(1386, 8, 2048)\n",
            "[MoviePy] >>>> Building video new_video.mp4\n",
            "[MoviePy] Writing audio in new_videoTEMP_MPY_wvf_snd.mp3\n"
          ],
          "name": "stdout"
        },
        {
          "output_type": "stream",
          "text": [
            "100%|██████████| 1098/1098 [00:01<00:00, 877.65it/s]"
          ],
          "name": "stderr"
        },
        {
          "output_type": "stream",
          "text": [
            "[MoviePy] Done.\n",
            "[MoviePy] Writing video new_video.mp4\n"
          ],
          "name": "stdout"
        },
        {
          "output_type": "stream",
          "text": [
            "\n",
            "100%|██████████| 1494/1494 [00:05<00:00, 294.44it/s]\n"
          ],
          "name": "stderr"
        },
        {
          "output_type": "stream",
          "text": [
            "[MoviePy] Done.\n",
            "[MoviePy] >>>> Video ready: new_video.mp4 \n",
            "\n",
            "(1392, 8, 2048)\n",
            "RoadAccidents067.mp4\n",
            "(4, 8, 2048)\n",
            "(1396, 8, 2048)\n",
            "[MoviePy] >>>> Building video new_video.mp4\n",
            "[MoviePy] Writing audio in new_videoTEMP_MPY_wvf_snd.mp3\n"
          ],
          "name": "stdout"
        },
        {
          "output_type": "stream",
          "text": [
            "100%|██████████| 739/739 [00:00<00:00, 1034.07it/s]"
          ],
          "name": "stderr"
        },
        {
          "output_type": "stream",
          "text": [
            "[MoviePy] Done.\n",
            "[MoviePy] Writing video new_video.mp4\n"
          ],
          "name": "stdout"
        },
        {
          "output_type": "stream",
          "text": [
            "\n",
            "100%|██████████| 1006/1006 [00:02<00:00, 366.74it/s]\n"
          ],
          "name": "stderr"
        },
        {
          "output_type": "stream",
          "text": [
            "[MoviePy] Done.\n",
            "[MoviePy] >>>> Video ready: new_video.mp4 \n",
            "\n",
            "(1400, 8, 2048)\n",
            "RoadAccidents068.mp4\n",
            "(5, 8, 2048)\n",
            "(1405, 8, 2048)\n",
            "[MoviePy] >>>> Building video new_video.mp4\n",
            "[MoviePy] Writing audio in new_videoTEMP_MPY_wvf_snd.mp3\n"
          ],
          "name": "stdout"
        },
        {
          "output_type": "stream",
          "text": [
            "100%|██████████| 939/939 [00:00<00:00, 1397.25it/s]"
          ],
          "name": "stderr"
        },
        {
          "output_type": "stream",
          "text": [
            "[MoviePy] Done.\n",
            "[MoviePy] Writing video new_video.mp4\n"
          ],
          "name": "stdout"
        },
        {
          "output_type": "stream",
          "text": [
            "\n",
            "100%|██████████| 1277/1277 [00:03<00:00, 338.97it/s]\n"
          ],
          "name": "stderr"
        },
        {
          "output_type": "stream",
          "text": [
            "[MoviePy] Done.\n",
            "[MoviePy] >>>> Video ready: new_video.mp4 \n",
            "\n",
            "(1410, 8, 2048)\n",
            "Robbery065.mp4\n",
            "(10, 8, 2048)\n",
            "(1420, 8, 2048)\n",
            "[MoviePy] >>>> Building video new_video.mp4\n",
            "[MoviePy] Writing audio in new_videoTEMP_MPY_wvf_snd.mp3\n"
          ],
          "name": "stdout"
        },
        {
          "output_type": "stream",
          "text": [
            "100%|██████████| 1756/1756 [00:01<00:00, 891.93it/s]"
          ],
          "name": "stderr"
        },
        {
          "output_type": "stream",
          "text": [
            "[MoviePy] Done.\n",
            "[MoviePy] Writing video new_video.mp4\n"
          ],
          "name": "stdout"
        },
        {
          "output_type": "stream",
          "text": [
            "\n",
            "100%|██████████| 2389/2389 [00:08<00:00, 286.62it/s]\n"
          ],
          "name": "stderr"
        },
        {
          "output_type": "stream",
          "text": [
            "[MoviePy] Done.\n",
            "[MoviePy] >>>> Video ready: new_video.mp4 \n",
            "\n",
            "(1430, 8, 2048)\n",
            "Robbery066.mp4\n",
            "(17, 8, 2048)\n",
            "(1447, 8, 2048)\n",
            "[MoviePy] >>>> Building video new_video.mp4\n",
            "[MoviePy] Writing audio in new_videoTEMP_MPY_wvf_snd.mp3\n"
          ],
          "name": "stdout"
        },
        {
          "output_type": "stream",
          "text": [
            "100%|██████████| 3065/3065 [00:02<00:00, 1449.31it/s]"
          ],
          "name": "stderr"
        },
        {
          "output_type": "stream",
          "text": [
            "[MoviePy] Done.\n",
            "[MoviePy] Writing video new_video.mp4\n"
          ],
          "name": "stdout"
        },
        {
          "output_type": "stream",
          "text": [
            "\n",
            "100%|██████████| 4170/4170 [00:11<00:00, 350.64it/s]\n"
          ],
          "name": "stderr"
        },
        {
          "output_type": "stream",
          "text": [
            "[MoviePy] Done.\n",
            "[MoviePy] >>>> Video ready: new_video.mp4 \n",
            "\n",
            "(1464, 8, 2048)\n",
            "Robbery067.mp4\n",
            "(8, 8, 2048)\n",
            "(1472, 8, 2048)\n",
            "[MoviePy] >>>> Building video new_video.mp4\n",
            "[MoviePy] Writing audio in new_videoTEMP_MPY_wvf_snd.mp3\n"
          ],
          "name": "stdout"
        },
        {
          "output_type": "stream",
          "text": [
            "100%|██████████| 1551/1551 [00:01<00:00, 983.85it/s]"
          ],
          "name": "stderr"
        },
        {
          "output_type": "stream",
          "text": [
            "[MoviePy] Done.\n",
            "[MoviePy] Writing video new_video.mp4\n"
          ],
          "name": "stdout"
        },
        {
          "output_type": "stream",
          "text": [
            "\n",
            "100%|█████████▉| 2109/2110 [00:05<00:00, 391.75it/s]"
          ],
          "name": "stderr"
        },
        {
          "output_type": "stream",
          "text": [
            "[MoviePy] Done.\n",
            "[MoviePy] >>>> Video ready: new_video.mp4 \n",
            "\n"
          ],
          "name": "stdout"
        },
        {
          "output_type": "stream",
          "text": [
            "\n"
          ],
          "name": "stderr"
        },
        {
          "output_type": "stream",
          "text": [
            "(1480, 8, 2048)\n",
            "Robbery070.mp4\n",
            "(2, 8, 2048)\n",
            "(1482, 8, 2048)\n",
            "[MoviePy] >>>> Building video new_video.mp4\n",
            "[MoviePy] Writing audio in new_videoTEMP_MPY_wvf_snd.mp3\n"
          ],
          "name": "stdout"
        },
        {
          "output_type": "stream",
          "text": [
            "100%|██████████| 432/432 [00:00<00:00, 1347.47it/s]"
          ],
          "name": "stderr"
        },
        {
          "output_type": "stream",
          "text": [
            "[MoviePy] Done.\n",
            "[MoviePy] Writing video new_video.mp4\n"
          ],
          "name": "stdout"
        },
        {
          "output_type": "stream",
          "text": [
            "\n",
            "100%|██████████| 588/588 [00:01<00:00, 353.32it/s]\n"
          ],
          "name": "stderr"
        },
        {
          "output_type": "stream",
          "text": [
            "[MoviePy] Done.\n",
            "[MoviePy] >>>> Video ready: new_video.mp4 \n",
            "\n",
            "(1484, 8, 2048)\n",
            "Robbery071.mp4\n",
            "(5, 8, 2048)\n",
            "(1489, 8, 2048)\n",
            "[MoviePy] >>>> Building video new_video.mp4\n",
            "[MoviePy] Writing audio in new_videoTEMP_MPY_wvf_snd.mp3\n"
          ],
          "name": "stdout"
        },
        {
          "output_type": "stream",
          "text": [
            "100%|██████████| 999/999 [00:01<00:00, 758.89it/s]"
          ],
          "name": "stderr"
        },
        {
          "output_type": "stream",
          "text": [
            "[MoviePy] Done.\n",
            "[MoviePy] Writing video new_video.mp4\n"
          ],
          "name": "stdout"
        },
        {
          "output_type": "stream",
          "text": [
            "\n",
            "100%|██████████| 1359/1359 [00:03<00:00, 353.72it/s]\n"
          ],
          "name": "stderr"
        },
        {
          "output_type": "stream",
          "text": [
            "[MoviePy] Done.\n",
            "[MoviePy] >>>> Video ready: new_video.mp4 \n",
            "\n",
            "(1494, 8, 2048)\n",
            "Robbery073.mp4\n",
            "(19, 8, 2048)\n",
            "(1513, 8, 2048)\n",
            "[MoviePy] >>>> Building video new_video.mp4\n",
            "[MoviePy] Writing audio in new_videoTEMP_MPY_wvf_snd.mp3\n"
          ],
          "name": "stdout"
        },
        {
          "output_type": "stream",
          "text": [
            "100%|██████████| 3397/3397 [00:02<00:00, 1373.53it/s]"
          ],
          "name": "stderr"
        },
        {
          "output_type": "stream",
          "text": [
            "[MoviePy] Done.\n",
            "[MoviePy] Writing video new_video.mp4\n"
          ],
          "name": "stdout"
        },
        {
          "output_type": "stream",
          "text": [
            "\n",
            "100%|██████████| 4622/4622 [00:13<00:00, 352.18it/s]\n"
          ],
          "name": "stderr"
        },
        {
          "output_type": "stream",
          "text": [
            "[MoviePy] Done.\n",
            "[MoviePy] >>>> Video ready: new_video.mp4 \n",
            "\n",
            "(1532, 8, 2048)\n",
            "Robbery077.mp4\n",
            "(3, 8, 2048)\n",
            "(1535, 8, 2048)\n",
            "[MoviePy] >>>> Building video new_video.mp4\n",
            "[MoviePy] Writing video new_video.mp4\n"
          ],
          "name": "stdout"
        },
        {
          "output_type": "stream",
          "text": [
            "100%|█████████▉| 882/883 [00:03<00:00, 255.22it/s]\n"
          ],
          "name": "stderr"
        },
        {
          "output_type": "stream",
          "text": [
            "[MoviePy] Done.\n",
            "[MoviePy] >>>> Video ready: new_video.mp4 \n",
            "\n",
            "(1538, 8, 2048)\n",
            "Robbery078.mp4\n",
            "(6, 8, 2048)\n",
            "(1544, 8, 2048)\n",
            "[MoviePy] >>>> Building video new_video.mp4\n",
            "[MoviePy] Writing audio in new_videoTEMP_MPY_wvf_snd.mp3\n"
          ],
          "name": "stdout"
        },
        {
          "output_type": "stream",
          "text": [
            "100%|██████████| 1129/1129 [00:00<00:00, 1386.55it/s]"
          ],
          "name": "stderr"
        },
        {
          "output_type": "stream",
          "text": [
            "[MoviePy] Done.\n",
            "[MoviePy] Writing video new_video.mp4\n"
          ],
          "name": "stdout"
        },
        {
          "output_type": "stream",
          "text": [
            "\n",
            "100%|█████████▉| 1536/1537 [00:04<00:00, 350.12it/s]\n"
          ],
          "name": "stderr"
        },
        {
          "output_type": "stream",
          "text": [
            "[MoviePy] Done.\n",
            "[MoviePy] >>>> Video ready: new_video.mp4 \n",
            "\n",
            "(1550, 8, 2048)\n",
            "Robbery080.mp4\n",
            "(6, 8, 2048)\n",
            "(1556, 8, 2048)\n",
            "[MoviePy] >>>> Building video new_video.mp4\n",
            "[MoviePy] Writing audio in new_videoTEMP_MPY_wvf_snd.mp3\n"
          ],
          "name": "stdout"
        },
        {
          "output_type": "stream",
          "text": [
            "100%|██████████| 1060/1060 [00:00<00:00, 1379.62it/s]"
          ],
          "name": "stderr"
        },
        {
          "output_type": "stream",
          "text": [
            "[MoviePy] Done.\n",
            "[MoviePy] Writing video new_video.mp4\n"
          ],
          "name": "stdout"
        },
        {
          "output_type": "stream",
          "text": [
            "\n",
            "100%|██████████| 1442/1442 [00:04<00:00, 345.37it/s]\n"
          ],
          "name": "stderr"
        },
        {
          "output_type": "stream",
          "text": [
            "[MoviePy] Done.\n",
            "[MoviePy] >>>> Video ready: new_video.mp4 \n",
            "\n",
            "(1562, 8, 2048)\n",
            "Robbery081.mp4\n",
            "(16, 8, 2048)\n",
            "(1578, 8, 2048)\n",
            "[MoviePy] >>>> Building video new_video.mp4\n",
            "[MoviePy] Writing audio in new_videoTEMP_MPY_wvf_snd.mp3\n"
          ],
          "name": "stdout"
        },
        {
          "output_type": "stream",
          "text": [
            "100%|██████████| 2886/2886 [00:02<00:00, 1384.29it/s]"
          ],
          "name": "stderr"
        },
        {
          "output_type": "stream",
          "text": [
            "[MoviePy] Done.\n",
            "[MoviePy] Writing video new_video.mp4\n"
          ],
          "name": "stdout"
        },
        {
          "output_type": "stream",
          "text": [
            "\n",
            "100%|██████████| 3927/3927 [00:10<00:00, 368.92it/s]"
          ],
          "name": "stderr"
        },
        {
          "output_type": "stream",
          "text": [
            "[MoviePy] Done.\n",
            "[MoviePy] >>>> Video ready: new_video.mp4 \n",
            "\n"
          ],
          "name": "stdout"
        },
        {
          "output_type": "stream",
          "text": [
            "\n"
          ],
          "name": "stderr"
        },
        {
          "output_type": "stream",
          "text": [
            "(1594, 8, 2048)\n",
            "Robbery082.mp4\n",
            "(5, 8, 2048)\n",
            "(1599, 8, 2048)\n",
            "[MoviePy] >>>> Building video new_video.mp4\n",
            "[MoviePy] Writing audio in new_videoTEMP_MPY_wvf_snd.mp3\n"
          ],
          "name": "stdout"
        },
        {
          "output_type": "stream",
          "text": [
            "100%|██████████| 994/994 [00:00<00:00, 1013.93it/s]"
          ],
          "name": "stderr"
        },
        {
          "output_type": "stream",
          "text": [
            "[MoviePy] Done.\n",
            "[MoviePy] Writing video new_video.mp4\n"
          ],
          "name": "stdout"
        },
        {
          "output_type": "stream",
          "text": [
            "\n",
            "100%|██████████| 1352/1352 [00:03<00:00, 405.12it/s]"
          ],
          "name": "stderr"
        },
        {
          "output_type": "stream",
          "text": [
            "[MoviePy] Done.\n",
            "[MoviePy] >>>> Video ready: new_video.mp4 \n",
            "\n"
          ],
          "name": "stdout"
        },
        {
          "output_type": "stream",
          "text": [
            "\n"
          ],
          "name": "stderr"
        },
        {
          "output_type": "stream",
          "text": [
            "(1604, 8, 2048)\n",
            "Robbery083.mp4\n",
            "(4, 8, 2048)\n",
            "(1608, 8, 2048)\n",
            "[MoviePy] >>>> Building video new_video.mp4\n",
            "[MoviePy] Writing audio in new_videoTEMP_MPY_wvf_snd.mp3\n"
          ],
          "name": "stdout"
        },
        {
          "output_type": "stream",
          "text": [
            "100%|██████████| 711/711 [00:00<00:00, 2102.11it/s]"
          ],
          "name": "stderr"
        },
        {
          "output_type": "stream",
          "text": [
            "[MoviePy] Done.\n",
            "[MoviePy] Writing video new_video.mp4\n"
          ],
          "name": "stdout"
        },
        {
          "output_type": "stream",
          "text": [
            "\n",
            "100%|██████████| 967/967 [00:02<00:00, 374.59it/s]"
          ],
          "name": "stderr"
        },
        {
          "output_type": "stream",
          "text": [
            "[MoviePy] Done.\n",
            "[MoviePy] >>>> Video ready: new_video.mp4 \n",
            "\n"
          ],
          "name": "stdout"
        },
        {
          "output_type": "stream",
          "text": [
            "\n"
          ],
          "name": "stderr"
        },
        {
          "output_type": "stream",
          "text": [
            "(1612, 8, 2048)\n",
            "Robbery084.mp4\n",
            "(11, 8, 2048)\n",
            "(1623, 8, 2048)\n",
            "[MoviePy] >>>> Building video new_video.mp4\n",
            "[MoviePy] Writing audio in new_videoTEMP_MPY_wvf_snd.mp3\n"
          ],
          "name": "stdout"
        },
        {
          "output_type": "stream",
          "text": [
            "100%|██████████| 2065/2065 [00:01<00:00, 1402.36it/s]"
          ],
          "name": "stderr"
        },
        {
          "output_type": "stream",
          "text": [
            "[MoviePy] Done.\n",
            "[MoviePy] Writing video new_video.mp4\n"
          ],
          "name": "stdout"
        },
        {
          "output_type": "stream",
          "text": [
            "\n",
            "100%|██████████| 2809/2809 [00:07<00:00, 370.01it/s]\n"
          ],
          "name": "stderr"
        },
        {
          "output_type": "stream",
          "text": [
            "[MoviePy] Done.\n",
            "[MoviePy] >>>> Video ready: new_video.mp4 \n",
            "\n",
            "(1634, 8, 2048)\n",
            "Robbery085.mp4\n",
            "(7, 8, 2048)\n",
            "(1641, 8, 2048)\n",
            "[MoviePy] >>>> Building video new_video.mp4\n",
            "[MoviePy] Writing audio in new_videoTEMP_MPY_wvf_snd.mp3\n"
          ],
          "name": "stdout"
        },
        {
          "output_type": "stream",
          "text": [
            "100%|██████████| 1374/1374 [00:01<00:00, 1365.59it/s]"
          ],
          "name": "stderr"
        },
        {
          "output_type": "stream",
          "text": [
            "[MoviePy] Done.\n",
            "[MoviePy] Writing video new_video.mp4\n"
          ],
          "name": "stdout"
        },
        {
          "output_type": "stream",
          "text": [
            "\n",
            "100%|██████████| 1869/1869 [00:04<00:00, 400.44it/s]\n"
          ],
          "name": "stderr"
        },
        {
          "output_type": "stream",
          "text": [
            "[MoviePy] Done.\n",
            "[MoviePy] >>>> Video ready: new_video.mp4 \n",
            "\n",
            "(1648, 8, 2048)\n",
            "Robbery086.mp4\n",
            "(28, 8, 2048)\n",
            "(1676, 8, 2048)\n",
            "[MoviePy] >>>> Building video new_video.mp4\n",
            "[MoviePy] Writing audio in new_videoTEMP_MPY_wvf_snd.mp3\n"
          ],
          "name": "stdout"
        },
        {
          "output_type": "stream",
          "text": [
            "100%|██████████| 4990/4990 [00:03<00:00, 1386.74it/s]"
          ],
          "name": "stderr"
        },
        {
          "output_type": "stream",
          "text": [
            "[MoviePy] Done.\n",
            "[MoviePy] Writing video new_video.mp4\n"
          ],
          "name": "stdout"
        },
        {
          "output_type": "stream",
          "text": [
            "\n",
            "100%|█████████▉| 6789/6790 [00:19<00:00, 357.22it/s]"
          ],
          "name": "stderr"
        },
        {
          "output_type": "stream",
          "text": [
            "[MoviePy] Done.\n",
            "[MoviePy] >>>> Video ready: new_video.mp4 \n",
            "\n"
          ],
          "name": "stdout"
        },
        {
          "output_type": "stream",
          "text": [
            "\n"
          ],
          "name": "stderr"
        },
        {
          "output_type": "stream",
          "text": [
            "(1704, 8, 2048)\n",
            "Robbery087.mp4\n",
            "(4, 8, 2048)\n",
            "(1708, 8, 2048)\n",
            "[MoviePy] >>>> Building video new_video.mp4\n",
            "[MoviePy] Writing audio in new_videoTEMP_MPY_wvf_snd.mp3\n"
          ],
          "name": "stdout"
        },
        {
          "output_type": "stream",
          "text": [
            "100%|██████████| 730/730 [00:00<00:00, 1044.26it/s]"
          ],
          "name": "stderr"
        },
        {
          "output_type": "stream",
          "text": [
            "[MoviePy] Done.\n",
            "[MoviePy] Writing video new_video.mp4\n"
          ],
          "name": "stdout"
        },
        {
          "output_type": "stream",
          "text": [
            "\n",
            "100%|██████████| 993/993 [00:02<00:00, 352.98it/s]"
          ],
          "name": "stderr"
        },
        {
          "output_type": "stream",
          "text": [
            "[MoviePy] Done.\n",
            "[MoviePy] >>>> Video ready: new_video.mp4 \n",
            "\n"
          ],
          "name": "stdout"
        },
        {
          "output_type": "stream",
          "text": [
            "\n"
          ],
          "name": "stderr"
        },
        {
          "output_type": "stream",
          "text": [
            "(1712, 8, 2048)\n",
            "Robbery088.mp4\n",
            "(18, 8, 2048)\n",
            "(1730, 8, 2048)\n",
            "[MoviePy] >>>> Building video new_video.mp4\n",
            "[MoviePy] Writing audio in new_videoTEMP_MPY_wvf_snd.mp3\n"
          ],
          "name": "stdout"
        },
        {
          "output_type": "stream",
          "text": [
            "100%|██████████| 3169/3169 [00:03<00:00, 813.98it/s]"
          ],
          "name": "stderr"
        },
        {
          "output_type": "stream",
          "text": [
            "[MoviePy] Done.\n",
            "[MoviePy] Writing video new_video.mp4\n"
          ],
          "name": "stdout"
        },
        {
          "output_type": "stream",
          "text": [
            "\n",
            "100%|█████████▉| 4311/4312 [00:13<00:00, 322.61it/s]\n"
          ],
          "name": "stderr"
        },
        {
          "output_type": "stream",
          "text": [
            "[MoviePy] Done.\n",
            "[MoviePy] >>>> Video ready: new_video.mp4 \n",
            "\n",
            "(1748, 8, 2048)\n",
            "Robbery090.mp4\n",
            "(7, 8, 2048)\n",
            "(1755, 8, 2048)\n",
            "[MoviePy] >>>> Building video new_video.mp4\n",
            "[MoviePy] Writing audio in new_videoTEMP_MPY_wvf_snd.mp3\n"
          ],
          "name": "stdout"
        },
        {
          "output_type": "stream",
          "text": [
            "100%|██████████| 1334/1334 [00:00<00:00, 1429.01it/s]"
          ],
          "name": "stderr"
        },
        {
          "output_type": "stream",
          "text": [
            "[MoviePy] Done.\n",
            "[MoviePy] Writing video new_video.mp4\n"
          ],
          "name": "stdout"
        },
        {
          "output_type": "stream",
          "text": [
            "\n",
            "100%|██████████| 1815/1815 [00:04<00:00, 363.91it/s]"
          ],
          "name": "stderr"
        },
        {
          "output_type": "stream",
          "text": [
            "[MoviePy] Done.\n",
            "[MoviePy] >>>> Video ready: new_video.mp4 \n",
            "\n"
          ],
          "name": "stdout"
        },
        {
          "output_type": "stream",
          "text": [
            "\n"
          ],
          "name": "stderr"
        },
        {
          "output_type": "stream",
          "text": [
            "(1762, 8, 2048)\n",
            "Robbery091.mp4\n",
            "(7, 8, 2048)\n",
            "(1769, 8, 2048)\n",
            "[MoviePy] >>>> Building video new_video.mp4\n",
            "[MoviePy] Writing audio in new_videoTEMP_MPY_wvf_snd.mp3\n"
          ],
          "name": "stdout"
        },
        {
          "output_type": "stream",
          "text": [
            "100%|██████████| 1353/1353 [00:00<00:00, 1439.78it/s]"
          ],
          "name": "stderr"
        },
        {
          "output_type": "stream",
          "text": [
            "[MoviePy] Done.\n",
            "[MoviePy] Writing video new_video.mp4\n"
          ],
          "name": "stdout"
        },
        {
          "output_type": "stream",
          "text": [
            "\n",
            "100%|██████████| 1841/1841 [00:04<00:00, 379.44it/s]"
          ],
          "name": "stderr"
        },
        {
          "output_type": "stream",
          "text": [
            "[MoviePy] Done.\n",
            "[MoviePy] >>>> Video ready: new_video.mp4 \n",
            "\n"
          ],
          "name": "stdout"
        },
        {
          "output_type": "stream",
          "text": [
            "\n"
          ],
          "name": "stderr"
        },
        {
          "output_type": "stream",
          "text": [
            "(1776, 8, 2048)\n",
            "Robbery094.mp4\n",
            "(5, 8, 2048)\n",
            "(1781, 8, 2048)\n",
            "[MoviePy] >>>> Building video new_video.mp4\n",
            "[MoviePy] Writing audio in new_videoTEMP_MPY_wvf_snd.mp3\n"
          ],
          "name": "stdout"
        },
        {
          "output_type": "stream",
          "text": [
            "100%|██████████| 1008/1008 [00:00<00:00, 1404.77it/s]"
          ],
          "name": "stderr"
        },
        {
          "output_type": "stream",
          "text": [
            "[MoviePy] Done.\n",
            "[MoviePy] Writing video new_video.mp4\n"
          ],
          "name": "stdout"
        },
        {
          "output_type": "stream",
          "text": [
            "\n",
            "100%|██████████| 1371/1371 [00:03<00:00, 372.47it/s]\n"
          ],
          "name": "stderr"
        },
        {
          "output_type": "stream",
          "text": [
            "[MoviePy] Done.\n",
            "[MoviePy] >>>> Video ready: new_video.mp4 \n",
            "\n",
            "(1786, 8, 2048)\n",
            "Robbery095.mp4\n",
            "(3, 8, 2048)\n",
            "(1789, 8, 2048)\n",
            "[MoviePy] >>>> Building video new_video.mp4\n",
            "[MoviePy] Writing audio in new_videoTEMP_MPY_wvf_snd.mp3\n"
          ],
          "name": "stdout"
        },
        {
          "output_type": "stream",
          "text": [
            "100%|██████████| 548/548 [00:00<00:00, 1248.54it/s]"
          ],
          "name": "stderr"
        },
        {
          "output_type": "stream",
          "text": [
            "[MoviePy] Done.\n",
            "[MoviePy] Writing video new_video.mp4\n"
          ],
          "name": "stdout"
        },
        {
          "output_type": "stream",
          "text": [
            "\n",
            "100%|██████████| 745/745 [00:01<00:00, 376.70it/s]\n"
          ],
          "name": "stderr"
        },
        {
          "output_type": "stream",
          "text": [
            "[MoviePy] Done.\n",
            "[MoviePy] >>>> Video ready: new_video.mp4 \n",
            "\n",
            "(1792, 8, 2048)\n",
            "Robbery096.mp4\n",
            "(10, 8, 2048)\n",
            "(1802, 8, 2048)\n",
            "[MoviePy] >>>> Building video new_video.mp4\n",
            "[MoviePy] Writing audio in new_videoTEMP_MPY_wvf_snd.mp3\n"
          ],
          "name": "stdout"
        },
        {
          "output_type": "stream",
          "text": [
            "100%|██████████| 1789/1789 [00:01<00:00, 1356.95it/s]\n"
          ],
          "name": "stderr"
        },
        {
          "output_type": "stream",
          "text": [
            "[MoviePy] Done.\n",
            "[MoviePy] Writing video new_video.mp4\n"
          ],
          "name": "stdout"
        },
        {
          "output_type": "stream",
          "text": [
            "100%|██████████| 2434/2434 [00:07<00:00, 335.44it/s]"
          ],
          "name": "stderr"
        },
        {
          "output_type": "stream",
          "text": [
            "[MoviePy] Done.\n",
            "[MoviePy] >>>> Video ready: new_video.mp4 \n",
            "\n"
          ],
          "name": "stdout"
        },
        {
          "output_type": "stream",
          "text": [
            "\n"
          ],
          "name": "stderr"
        },
        {
          "output_type": "stream",
          "text": [
            "(1812, 8, 2048)\n",
            "Robbery097.mp4\n",
            "(6, 8, 2048)\n",
            "(1818, 8, 2048)\n",
            "[MoviePy] >>>> Building video new_video.mp4\n",
            "[MoviePy] Writing audio in new_videoTEMP_MPY_wvf_snd.mp3\n"
          ],
          "name": "stdout"
        },
        {
          "output_type": "stream",
          "text": [
            "100%|██████████| 1163/1163 [00:00<00:00, 1418.13it/s]"
          ],
          "name": "stderr"
        },
        {
          "output_type": "stream",
          "text": [
            "[MoviePy] Done.\n",
            "[MoviePy] Writing video new_video.mp4\n"
          ],
          "name": "stdout"
        },
        {
          "output_type": "stream",
          "text": [
            "\n",
            "100%|██████████| 1582/1582 [00:04<00:00, 324.84it/s]"
          ],
          "name": "stderr"
        },
        {
          "output_type": "stream",
          "text": [
            "[MoviePy] Done.\n",
            "[MoviePy] >>>> Video ready: new_video.mp4 \n",
            "\n"
          ],
          "name": "stdout"
        },
        {
          "output_type": "stream",
          "text": [
            "\n"
          ],
          "name": "stderr"
        },
        {
          "output_type": "stream",
          "text": [
            "(1824, 8, 2048)\n",
            "Robbery099.mp4\n",
            "(6, 8, 2048)\n",
            "(1830, 8, 2048)\n",
            "[MoviePy] >>>> Building video new_video.mp4\n",
            "[MoviePy] Writing audio in new_videoTEMP_MPY_wvf_snd.mp3\n"
          ],
          "name": "stdout"
        },
        {
          "output_type": "stream",
          "text": [
            "100%|██████████| 1121/1121 [00:01<00:00, 1108.57it/s]\n"
          ],
          "name": "stderr"
        },
        {
          "output_type": "stream",
          "text": [
            "[MoviePy] Done.\n",
            "[MoviePy] Writing video new_video.mp4\n"
          ],
          "name": "stdout"
        },
        {
          "output_type": "stream",
          "text": [
            "100%|██████████| 1525/1525 [00:04<00:00, 358.90it/s]"
          ],
          "name": "stderr"
        },
        {
          "output_type": "stream",
          "text": [
            "[MoviePy] Done.\n",
            "[MoviePy] >>>> Video ready: new_video.mp4 \n",
            "\n"
          ],
          "name": "stdout"
        },
        {
          "output_type": "stream",
          "text": [
            "\n"
          ],
          "name": "stderr"
        },
        {
          "output_type": "stream",
          "text": [
            "(1836, 8, 2048)\n",
            "Robbery100.mp4\n",
            "(14, 8, 2048)\n",
            "(1850, 8, 2048)\n",
            "[MoviePy] >>>> Building video new_video.mp4\n",
            "[MoviePy] Writing audio in new_videoTEMP_MPY_wvf_snd.mp3\n"
          ],
          "name": "stdout"
        },
        {
          "output_type": "stream",
          "text": [
            "100%|██████████| 2616/2616 [00:02<00:00, 1024.14it/s]"
          ],
          "name": "stderr"
        },
        {
          "output_type": "stream",
          "text": [
            "[MoviePy] Done.\n",
            "[MoviePy] Writing video new_video.mp4\n"
          ],
          "name": "stdout"
        },
        {
          "output_type": "stream",
          "text": [
            "\n",
            "100%|██████████| 3559/3559 [00:10<00:00, 326.24it/s]\n"
          ],
          "name": "stderr"
        },
        {
          "output_type": "stream",
          "text": [
            "[MoviePy] Done.\n",
            "[MoviePy] >>>> Video ready: new_video.mp4 \n",
            "\n",
            "(1864, 8, 2048)\n",
            "Robbery101.mp4\n",
            "(8, 8, 2048)\n",
            "(1872, 8, 2048)\n",
            "[MoviePy] >>>> Building video new_video.mp4\n",
            "[MoviePy] Writing audio in new_videoTEMP_MPY_wvf_snd.mp3\n"
          ],
          "name": "stdout"
        },
        {
          "output_type": "stream",
          "text": [
            "100%|██████████| 1459/1459 [00:01<00:00, 1390.44it/s]"
          ],
          "name": "stderr"
        },
        {
          "output_type": "stream",
          "text": [
            "[MoviePy] Done.\n",
            "[MoviePy] Writing video new_video.mp4\n"
          ],
          "name": "stdout"
        },
        {
          "output_type": "stream",
          "text": [
            "\n",
            "100%|██████████| 1985/1985 [00:05<00:00, 366.27it/s]\n"
          ],
          "name": "stderr"
        },
        {
          "output_type": "stream",
          "text": [
            "[MoviePy] Done.\n",
            "[MoviePy] >>>> Video ready: new_video.mp4 \n",
            "\n",
            "(1880, 8, 2048)\n",
            "Robbery103.mp4\n",
            "(7, 8, 2048)\n",
            "(1887, 8, 2048)\n",
            "[MoviePy] >>>> Building video new_video.mp4\n",
            "[MoviePy] Writing audio in new_videoTEMP_MPY_wvf_snd.mp3\n"
          ],
          "name": "stdout"
        },
        {
          "output_type": "stream",
          "text": [
            "100%|██████████| 1335/1335 [00:00<00:00, 1377.72it/s]"
          ],
          "name": "stderr"
        },
        {
          "output_type": "stream",
          "text": [
            "[MoviePy] Done.\n",
            "[MoviePy] Writing video new_video.mp4\n"
          ],
          "name": "stdout"
        },
        {
          "output_type": "stream",
          "text": [
            "\n",
            "100%|██████████| 1817/1817 [00:05<00:00, 344.14it/s]\n"
          ],
          "name": "stderr"
        },
        {
          "output_type": "stream",
          "text": [
            "[MoviePy] Done.\n",
            "[MoviePy] >>>> Video ready: new_video.mp4 \n",
            "\n",
            "(1894, 8, 2048)\n",
            "Robbery105.mp4\n",
            "(4, 8, 2048)\n",
            "(1898, 8, 2048)\n",
            "[MoviePy] >>>> Building video new_video.mp4\n",
            "[MoviePy] Writing audio in new_videoTEMP_MPY_wvf_snd.mp3\n"
          ],
          "name": "stdout"
        },
        {
          "output_type": "stream",
          "text": [
            "100%|██████████| 699/699 [00:00<00:00, 1317.28it/s]"
          ],
          "name": "stderr"
        },
        {
          "output_type": "stream",
          "text": [
            "[MoviePy] Done.\n",
            "[MoviePy] Writing video new_video.mp4\n"
          ],
          "name": "stdout"
        },
        {
          "output_type": "stream",
          "text": [
            "\n",
            "100%|█████████▉| 951/952 [00:02<00:00, 346.01it/s]\n"
          ],
          "name": "stderr"
        },
        {
          "output_type": "stream",
          "text": [
            "[MoviePy] Done.\n",
            "[MoviePy] >>>> Video ready: new_video.mp4 \n",
            "\n",
            "(1902, 8, 2048)\n",
            "Robbery108.mp4\n",
            "(5, 8, 2048)\n",
            "(1907, 8, 2048)\n",
            "[MoviePy] >>>> Building video new_video.mp4\n",
            "[MoviePy] Writing audio in new_videoTEMP_MPY_wvf_snd.mp3\n"
          ],
          "name": "stdout"
        },
        {
          "output_type": "stream",
          "text": [
            "100%|██████████| 955/955 [00:00<00:00, 1148.32it/s]"
          ],
          "name": "stderr"
        },
        {
          "output_type": "stream",
          "text": [
            "[MoviePy] Done.\n",
            "[MoviePy] Writing video new_video.mp4\n"
          ],
          "name": "stdout"
        },
        {
          "output_type": "stream",
          "text": [
            "\n",
            "100%|██████████| 1299/1299 [00:04<00:00, 324.34it/s]\n"
          ],
          "name": "stderr"
        },
        {
          "output_type": "stream",
          "text": [
            "[MoviePy] Done.\n",
            "[MoviePy] >>>> Video ready: new_video.mp4 \n",
            "\n",
            "(1912, 8, 2048)\n",
            "Shooting028.mp4\n",
            "(7, 8, 2048)\n",
            "(1919, 8, 2048)\n",
            "[MoviePy] >>>> Building video new_video.mp4\n",
            "[MoviePy] Writing audio in new_videoTEMP_MPY_wvf_snd.mp3\n"
          ],
          "name": "stdout"
        },
        {
          "output_type": "stream",
          "text": [
            "100%|██████████| 1292/1292 [00:00<00:00, 1435.86it/s]\n"
          ],
          "name": "stderr"
        },
        {
          "output_type": "stream",
          "text": [
            "[MoviePy] Done.\n",
            "[MoviePy] Writing video new_video.mp4\n"
          ],
          "name": "stdout"
        },
        {
          "output_type": "stream",
          "text": [
            "100%|██████████| 1757/1757 [00:04<00:00, 382.10it/s]\n"
          ],
          "name": "stderr"
        },
        {
          "output_type": "stream",
          "text": [
            "[MoviePy] Done.\n",
            "[MoviePy] >>>> Video ready: new_video.mp4 \n",
            "\n",
            "(1926, 8, 2048)\n",
            "Shooting029.mp4\n",
            "(5, 8, 2048)\n",
            "(1931, 8, 2048)\n",
            "[MoviePy] >>>> Building video new_video.mp4\n",
            "[MoviePy] Writing audio in new_videoTEMP_MPY_wvf_snd.mp3\n"
          ],
          "name": "stdout"
        },
        {
          "output_type": "stream",
          "text": [
            "100%|██████████| 995/995 [00:01<00:00, 937.32it/s]"
          ],
          "name": "stderr"
        },
        {
          "output_type": "stream",
          "text": [
            "[MoviePy] Done.\n",
            "[MoviePy] Writing video new_video.mp4\n"
          ],
          "name": "stdout"
        },
        {
          "output_type": "stream",
          "text": [
            "\n",
            "100%|█████████▉| 1353/1354 [00:03<00:00, 401.98it/s]\n"
          ],
          "name": "stderr"
        },
        {
          "output_type": "stream",
          "text": [
            "[MoviePy] Done.\n",
            "[MoviePy] >>>> Video ready: new_video.mp4 \n",
            "\n",
            "(1936, 8, 2048)\n",
            "Shooting031.mp4\n",
            "(6, 8, 2048)\n",
            "(1942, 8, 2048)\n",
            "[MoviePy] >>>> Building video new_video.mp4\n",
            "[MoviePy] Writing audio in new_videoTEMP_MPY_wvf_snd.mp3\n"
          ],
          "name": "stdout"
        },
        {
          "output_type": "stream",
          "text": [
            "100%|██████████| 1205/1205 [00:00<00:00, 1401.84it/s]"
          ],
          "name": "stderr"
        },
        {
          "output_type": "stream",
          "text": [
            "[MoviePy] Done.\n",
            "[MoviePy] Writing video new_video.mp4\n"
          ],
          "name": "stdout"
        },
        {
          "output_type": "stream",
          "text": [
            "\n",
            "100%|██████████| 1639/1639 [00:04<00:00, 348.12it/s]"
          ],
          "name": "stderr"
        },
        {
          "output_type": "stream",
          "text": [
            "[MoviePy] Done.\n",
            "[MoviePy] >>>> Video ready: new_video.mp4 \n",
            "\n"
          ],
          "name": "stdout"
        },
        {
          "output_type": "stream",
          "text": [
            "\n"
          ],
          "name": "stderr"
        },
        {
          "output_type": "stream",
          "text": [
            "(1948, 8, 2048)\n",
            "Shooting032.mp4\n",
            "(12, 8, 2048)\n",
            "(1960, 8, 2048)\n",
            "[MoviePy] >>>> Building video new_video.mp4\n",
            "[MoviePy] Writing audio in new_videoTEMP_MPY_wvf_snd.mp3\n"
          ],
          "name": "stdout"
        },
        {
          "output_type": "stream",
          "text": [
            "100%|██████████| 2209/2209 [00:01<00:00, 1414.34it/s]"
          ],
          "name": "stderr"
        },
        {
          "output_type": "stream",
          "text": [
            "[MoviePy] Done.\n",
            "[MoviePy] Writing video new_video.mp4\n"
          ],
          "name": "stdout"
        },
        {
          "output_type": "stream",
          "text": [
            "\n",
            "100%|██████████| 3005/3005 [00:08<00:00, 372.24it/s]"
          ],
          "name": "stderr"
        },
        {
          "output_type": "stream",
          "text": [
            "[MoviePy] Done.\n",
            "[MoviePy] >>>> Video ready: new_video.mp4 \n",
            "\n"
          ],
          "name": "stdout"
        },
        {
          "output_type": "stream",
          "text": [
            "\n"
          ],
          "name": "stderr"
        },
        {
          "output_type": "stream",
          "text": [
            "(1972, 8, 2048)\n",
            "Shooting033.mp4\n",
            "(9, 8, 2048)\n",
            "(1981, 8, 2048)\n",
            "[MoviePy] >>>> Building video new_video.mp4\n",
            "[MoviePy] Writing audio in new_videoTEMP_MPY_wvf_snd.mp3\n"
          ],
          "name": "stdout"
        },
        {
          "output_type": "stream",
          "text": [
            "100%|██████████| 1567/1567 [00:01<00:00, 1355.88it/s]"
          ],
          "name": "stderr"
        },
        {
          "output_type": "stream",
          "text": [
            "[MoviePy] Done.\n",
            "[MoviePy] Writing video new_video.mp4\n"
          ],
          "name": "stdout"
        },
        {
          "output_type": "stream",
          "text": [
            "\n",
            "100%|██████████| 2132/2132 [00:05<00:00, 394.79it/s]\n"
          ],
          "name": "stderr"
        },
        {
          "output_type": "stream",
          "text": [
            "[MoviePy] Done.\n",
            "[MoviePy] >>>> Video ready: new_video.mp4 \n",
            "\n",
            "(1990, 8, 2048)\n",
            "Shooting036.mp4\n",
            "(16, 8, 2048)\n",
            "(2006, 8, 2048)\n",
            "[MoviePy] >>>> Building video new_video.mp4\n",
            "[MoviePy] Writing audio in new_videoTEMP_MPY_wvf_snd.mp3\n"
          ],
          "name": "stdout"
        },
        {
          "output_type": "stream",
          "text": [
            "100%|██████████| 2808/2808 [00:02<00:00, 1361.34it/s]"
          ],
          "name": "stderr"
        },
        {
          "output_type": "stream",
          "text": [
            "[MoviePy] Done.\n",
            "[MoviePy] Writing video new_video.mp4\n"
          ],
          "name": "stdout"
        },
        {
          "output_type": "stream",
          "text": [
            "\n",
            "100%|██████████| 3820/3820 [00:11<00:00, 338.38it/s]"
          ],
          "name": "stderr"
        },
        {
          "output_type": "stream",
          "text": [
            "[MoviePy] Done.\n",
            "[MoviePy] >>>> Video ready: new_video.mp4 \n",
            "\n"
          ],
          "name": "stdout"
        },
        {
          "output_type": "stream",
          "text": [
            "\n"
          ],
          "name": "stderr"
        },
        {
          "output_type": "stream",
          "text": [
            "(2022, 8, 2048)\n",
            "Shooting038.mp4\n",
            "(5, 8, 2048)\n",
            "(2027, 8, 2048)\n",
            "[MoviePy] >>>> Building video new_video.mp4\n",
            "[MoviePy] Writing audio in new_videoTEMP_MPY_wvf_snd.mp3\n"
          ],
          "name": "stdout"
        },
        {
          "output_type": "stream",
          "text": [
            "100%|██████████| 948/948 [00:01<00:00, 791.36it/s]"
          ],
          "name": "stderr"
        },
        {
          "output_type": "stream",
          "text": [
            "[MoviePy] Done.\n",
            "[MoviePy] Writing video new_video.mp4\n"
          ],
          "name": "stdout"
        },
        {
          "output_type": "stream",
          "text": [
            "\n",
            "100%|██████████| 1290/1290 [00:03<00:00, 402.47it/s]"
          ],
          "name": "stderr"
        },
        {
          "output_type": "stream",
          "text": [
            "[MoviePy] Done.\n",
            "[MoviePy] >>>> Video ready: new_video.mp4 \n",
            "\n"
          ],
          "name": "stdout"
        },
        {
          "output_type": "stream",
          "text": [
            "\n"
          ],
          "name": "stderr"
        },
        {
          "output_type": "stream",
          "text": [
            "(2032, 8, 2048)\n",
            "Shooting040.mp4\n",
            "(3, 8, 2048)\n",
            "(2035, 8, 2048)\n",
            "[MoviePy] >>>> Building video new_video.mp4\n",
            "[MoviePy] Writing audio in new_videoTEMP_MPY_wvf_snd.mp3\n"
          ],
          "name": "stdout"
        },
        {
          "output_type": "stream",
          "text": [
            "100%|██████████| 520/520 [00:00<00:00, 1328.09it/s]"
          ],
          "name": "stderr"
        },
        {
          "output_type": "stream",
          "text": [
            "[MoviePy] Done.\n",
            "[MoviePy] Writing video new_video.mp4\n"
          ],
          "name": "stdout"
        },
        {
          "output_type": "stream",
          "text": [
            "\n",
            "100%|██████████| 707/707 [00:01<00:00, 359.17it/s]"
          ],
          "name": "stderr"
        },
        {
          "output_type": "stream",
          "text": [
            "[MoviePy] Done.\n",
            "[MoviePy] >>>> Video ready: new_video.mp4 \n",
            "\n"
          ],
          "name": "stdout"
        },
        {
          "output_type": "stream",
          "text": [
            "\n"
          ],
          "name": "stderr"
        },
        {
          "output_type": "stream",
          "text": [
            "(2038, 8, 2048)\n",
            "Shooting041.mp4\n",
            "(5, 8, 2048)\n",
            "(2043, 8, 2048)\n",
            "[MoviePy] >>>> Building video new_video.mp4\n",
            "[MoviePy] Writing audio in new_videoTEMP_MPY_wvf_snd.mp3\n"
          ],
          "name": "stdout"
        },
        {
          "output_type": "stream",
          "text": [
            "100%|██████████| 903/903 [00:00<00:00, 1413.53it/s]"
          ],
          "name": "stderr"
        },
        {
          "output_type": "stream",
          "text": [
            "[MoviePy] Done.\n",
            "[MoviePy] Writing video new_video.mp4\n"
          ],
          "name": "stdout"
        },
        {
          "output_type": "stream",
          "text": [
            "\n",
            "100%|██████████| 1229/1229 [00:03<00:00, 358.08it/s]\n"
          ],
          "name": "stderr"
        },
        {
          "output_type": "stream",
          "text": [
            "[MoviePy] Done.\n",
            "[MoviePy] >>>> Video ready: new_video.mp4 \n",
            "\n",
            "(2048, 8, 2048)\n",
            "Shooting042.mp4\n",
            "(5, 8, 2048)\n",
            "(2053, 8, 2048)\n",
            "[MoviePy] >>>> Building video new_video.mp4\n",
            "[MoviePy] Writing audio in new_videoTEMP_MPY_wvf_snd.mp3\n"
          ],
          "name": "stdout"
        },
        {
          "output_type": "stream",
          "text": [
            "100%|██████████| 1014/1014 [00:00<00:00, 1362.70it/s]"
          ],
          "name": "stderr"
        },
        {
          "output_type": "stream",
          "text": [
            "[MoviePy] Done.\n",
            "[MoviePy] Writing video new_video.mp4\n"
          ],
          "name": "stdout"
        },
        {
          "output_type": "stream",
          "text": [
            "\n",
            "100%|██████████| 1380/1380 [00:04<00:00, 309.58it/s]\n"
          ],
          "name": "stderr"
        },
        {
          "output_type": "stream",
          "text": [
            "[MoviePy] Done.\n",
            "[MoviePy] >>>> Video ready: new_video.mp4 \n",
            "\n",
            "(2058, 8, 2048)\n",
            "Shoplifting034.mp4\n",
            "(19, 8, 2048)\n",
            "(2077, 8, 2048)\n",
            "[MoviePy] >>>> Building video new_video.mp4\n",
            "[MoviePy] Writing audio in new_videoTEMP_MPY_wvf_snd.mp3\n"
          ],
          "name": "stdout"
        },
        {
          "output_type": "stream",
          "text": [
            "100%|██████████| 3443/3443 [00:02<00:00, 1361.41it/s]"
          ],
          "name": "stderr"
        },
        {
          "output_type": "stream",
          "text": [
            "[MoviePy] Done.\n",
            "[MoviePy] Writing video new_video.mp4\n"
          ],
          "name": "stdout"
        },
        {
          "output_type": "stream",
          "text": [
            "\n",
            "100%|█████████▉| 4683/4684 [00:15<00:00, 308.06it/s]"
          ],
          "name": "stderr"
        },
        {
          "output_type": "stream",
          "text": [
            "[MoviePy] Done.\n",
            "[MoviePy] >>>> Video ready: new_video.mp4 \n",
            "\n"
          ],
          "name": "stdout"
        },
        {
          "output_type": "stream",
          "text": [
            "\n"
          ],
          "name": "stderr"
        },
        {
          "output_type": "stream",
          "text": [
            "(2096, 8, 2048)\n",
            "Shoplifting036.mp4\n",
            "(12, 8, 2048)\n",
            "(2108, 8, 2048)\n",
            "[MoviePy] >>>> Building video new_video.mp4\n",
            "[MoviePy] Writing audio in new_videoTEMP_MPY_wvf_snd.mp3\n"
          ],
          "name": "stdout"
        },
        {
          "output_type": "stream",
          "text": [
            "100%|██████████| 2128/2128 [00:02<00:00, 853.35it/s] "
          ],
          "name": "stderr"
        },
        {
          "output_type": "stream",
          "text": [
            "[MoviePy] Done.\n",
            "[MoviePy] Writing video new_video.mp4\n"
          ],
          "name": "stdout"
        },
        {
          "output_type": "stream",
          "text": [
            "\n",
            "100%|██████████| 2895/2895 [00:10<00:00, 282.44it/s]\n"
          ],
          "name": "stderr"
        },
        {
          "output_type": "stream",
          "text": [
            "[MoviePy] Done.\n",
            "[MoviePy] >>>> Video ready: new_video.mp4 \n",
            "\n",
            "(2120, 8, 2048)\n",
            "Shoplifting037.mp4\n",
            "(5, 8, 2048)\n",
            "(2125, 8, 2048)\n",
            "[MoviePy] >>>> Building video new_video.mp4\n",
            "[MoviePy] Writing audio in new_videoTEMP_MPY_wvf_snd.mp3\n"
          ],
          "name": "stdout"
        },
        {
          "output_type": "stream",
          "text": [
            "100%|██████████| 910/910 [00:00<00:00, 1359.30it/s]"
          ],
          "name": "stderr"
        },
        {
          "output_type": "stream",
          "text": [
            "[MoviePy] Done.\n",
            "[MoviePy] Writing video new_video.mp4\n"
          ],
          "name": "stdout"
        },
        {
          "output_type": "stream",
          "text": [
            "\n",
            "100%|██████████| 1238/1238 [00:03<00:00, 315.50it/s]\n"
          ],
          "name": "stderr"
        },
        {
          "output_type": "stream",
          "text": [
            "[MoviePy] Done.\n",
            "[MoviePy] >>>> Video ready: new_video.mp4 \n",
            "\n",
            "(2130, 8, 2048)\n",
            "Shoplifting038.mp4\n",
            "(11, 8, 2048)\n",
            "(2141, 8, 2048)\n",
            "[MoviePy] >>>> Building video new_video.mp4\n",
            "[MoviePy] Writing audio in new_videoTEMP_MPY_wvf_snd.mp3\n"
          ],
          "name": "stdout"
        },
        {
          "output_type": "stream",
          "text": [
            "100%|██████████| 2060/2060 [00:01<00:00, 1386.66it/s]"
          ],
          "name": "stderr"
        },
        {
          "output_type": "stream",
          "text": [
            "[MoviePy] Done.\n",
            "[MoviePy] Writing video new_video.mp4\n"
          ],
          "name": "stdout"
        },
        {
          "output_type": "stream",
          "text": [
            "\n",
            "100%|██████████| 2803/2803 [00:07<00:00, 368.86it/s]\n"
          ],
          "name": "stderr"
        },
        {
          "output_type": "stream",
          "text": [
            "[MoviePy] Done.\n",
            "[MoviePy] >>>> Video ready: new_video.mp4 \n",
            "\n",
            "(2152, 8, 2048)\n",
            "Shoplifting039.mp4\n",
            "(9, 8, 2048)\n",
            "(2161, 8, 2048)\n",
            "[MoviePy] >>>> Building video new_video.mp4\n",
            "[MoviePy] Writing audio in new_videoTEMP_MPY_wvf_snd.mp3\n"
          ],
          "name": "stdout"
        },
        {
          "output_type": "stream",
          "text": [
            "100%|██████████| 1621/1621 [00:01<00:00, 1388.50it/s]"
          ],
          "name": "stderr"
        },
        {
          "output_type": "stream",
          "text": [
            "[MoviePy] Done.\n",
            "[MoviePy] Writing video new_video.mp4\n"
          ],
          "name": "stdout"
        },
        {
          "output_type": "stream",
          "text": [
            "\n",
            "100%|██████████| 2205/2205 [00:05<00:00, 374.21it/s]\n"
          ],
          "name": "stderr"
        },
        {
          "output_type": "stream",
          "text": [
            "[MoviePy] Done.\n",
            "[MoviePy] >>>> Video ready: new_video.mp4 \n",
            "\n",
            "(2170, 8, 2048)\n",
            "Shoplifting040.mp4\n",
            "(9, 8, 2048)\n",
            "(2179, 8, 2048)\n",
            "[MoviePy] >>>> Building video new_video.mp4\n",
            "[MoviePy] Writing audio in new_videoTEMP_MPY_wvf_snd.mp3\n"
          ],
          "name": "stdout"
        },
        {
          "output_type": "stream",
          "text": [
            "100%|██████████| 1586/1586 [00:01<00:00, 1050.89it/s]"
          ],
          "name": "stderr"
        },
        {
          "output_type": "stream",
          "text": [
            "[MoviePy] Done.\n",
            "[MoviePy] Writing video new_video.mp4\n"
          ],
          "name": "stdout"
        },
        {
          "output_type": "stream",
          "text": [
            "\n",
            "100%|█████████▉| 2157/2158 [00:06<00:00, 310.95it/s]\n"
          ],
          "name": "stderr"
        },
        {
          "output_type": "stream",
          "text": [
            "[MoviePy] Done.\n",
            "[MoviePy] >>>> Video ready: new_video.mp4 \n",
            "\n",
            "(2188, 8, 2048)\n",
            "Shoplifting041.mp4\n",
            "(20, 8, 2048)\n",
            "(2208, 8, 2048)\n",
            "[MoviePy] >>>> Building video new_video.mp4\n",
            "[MoviePy] Writing audio in new_videoTEMP_MPY_wvf_snd.mp3\n"
          ],
          "name": "stdout"
        },
        {
          "output_type": "stream",
          "text": [
            "100%|██████████| 3529/3529 [00:03<00:00, 884.57it/s] "
          ],
          "name": "stderr"
        },
        {
          "output_type": "stream",
          "text": [
            "[MoviePy] Done.\n",
            "[MoviePy] Writing video new_video.mp4\n"
          ],
          "name": "stdout"
        },
        {
          "output_type": "stream",
          "text": [
            "\n",
            "100%|██████████| 4802/4802 [00:14<00:00, 323.18it/s]"
          ],
          "name": "stderr"
        },
        {
          "output_type": "stream",
          "text": [
            "[MoviePy] Done.\n",
            "[MoviePy] >>>> Video ready: new_video.mp4 \n",
            "\n"
          ],
          "name": "stdout"
        },
        {
          "output_type": "stream",
          "text": [
            "\n"
          ],
          "name": "stderr"
        },
        {
          "output_type": "stream",
          "text": [
            "(2228, 8, 2048)\n",
            "Shoplifting042.mp4\n",
            "(11, 8, 2048)\n",
            "(2239, 8, 2048)\n",
            "[MoviePy] >>>> Building video new_video.mp4\n",
            "[MoviePy] Writing audio in new_videoTEMP_MPY_wvf_snd.mp3\n"
          ],
          "name": "stdout"
        },
        {
          "output_type": "stream",
          "text": [
            "100%|██████████| 2004/2004 [00:01<00:00, 1406.41it/s]"
          ],
          "name": "stderr"
        },
        {
          "output_type": "stream",
          "text": [
            "[MoviePy] Done.\n",
            "[MoviePy] Writing video new_video.mp4\n"
          ],
          "name": "stdout"
        },
        {
          "output_type": "stream",
          "text": [
            "\n",
            "100%|██████████| 2727/2727 [00:08<00:00, 334.69it/s]\n"
          ],
          "name": "stderr"
        },
        {
          "output_type": "stream",
          "text": [
            "[MoviePy] Done.\n",
            "[MoviePy] >>>> Video ready: new_video.mp4 \n",
            "\n",
            "(2250, 8, 2048)\n",
            "Shoplifting043.mp4\n",
            "(21, 8, 2048)\n",
            "(2271, 8, 2048)\n",
            "[MoviePy] >>>> Building video new_video.mp4\n",
            "[MoviePy] Writing audio in new_videoTEMP_MPY_wvf_snd.mp3\n"
          ],
          "name": "stdout"
        },
        {
          "output_type": "stream",
          "text": [
            "100%|██████████| 3780/3780 [00:02<00:00, 1383.01it/s]"
          ],
          "name": "stderr"
        },
        {
          "output_type": "stream",
          "text": [
            "[MoviePy] Done.\n",
            "[MoviePy] Writing video new_video.mp4\n"
          ],
          "name": "stdout"
        },
        {
          "output_type": "stream",
          "text": [
            "\n",
            "100%|██████████| 5143/5143 [00:14<00:00, 351.10it/s]\n"
          ],
          "name": "stderr"
        },
        {
          "output_type": "stream",
          "text": [
            "[MoviePy] Done.\n",
            "[MoviePy] >>>> Video ready: new_video.mp4 \n",
            "\n",
            "(2292, 8, 2048)\n",
            "Shoplifting044.mp4\n",
            "(6, 8, 2048)\n",
            "(2298, 8, 2048)\n",
            "[MoviePy] >>>> Building video new_video.mp4\n",
            "[MoviePy] Writing audio in new_videoTEMP_MPY_wvf_snd.mp3\n"
          ],
          "name": "stdout"
        },
        {
          "output_type": "stream",
          "text": [
            "100%|██████████| 1119/1119 [00:00<00:00, 1376.85it/s]"
          ],
          "name": "stderr"
        },
        {
          "output_type": "stream",
          "text": [
            "[MoviePy] Done.\n",
            "[MoviePy] Writing video new_video.mp4\n"
          ],
          "name": "stdout"
        },
        {
          "output_type": "stream",
          "text": [
            "\n",
            "100%|██████████| 1522/1522 [00:04<00:00, 338.69it/s]\n"
          ],
          "name": "stderr"
        },
        {
          "output_type": "stream",
          "text": [
            "[MoviePy] Done.\n",
            "[MoviePy] >>>> Video ready: new_video.mp4 \n",
            "\n",
            "(2304, 8, 2048)\n",
            "Stealing057.mp4\n",
            "(11, 8, 2048)\n",
            "(2315, 8, 2048)\n",
            "[MoviePy] >>>> Building video new_video.mp4\n",
            "[MoviePy] Writing audio in new_videoTEMP_MPY_wvf_snd.mp3\n"
          ],
          "name": "stdout"
        },
        {
          "output_type": "stream",
          "text": [
            "100%|██████████| 1970/1970 [00:01<00:00, 1385.88it/s]"
          ],
          "name": "stderr"
        },
        {
          "output_type": "stream",
          "text": [
            "[MoviePy] Done.\n",
            "[MoviePy] Writing video new_video.mp4\n"
          ],
          "name": "stdout"
        },
        {
          "output_type": "stream",
          "text": [
            "\n",
            "100%|█████████▉| 2679/2680 [00:06<00:00, 390.57it/s]"
          ],
          "name": "stderr"
        },
        {
          "output_type": "stream",
          "text": [
            "[MoviePy] Done.\n",
            "[MoviePy] >>>> Video ready: new_video.mp4 \n",
            "\n"
          ],
          "name": "stdout"
        },
        {
          "output_type": "stream",
          "text": [
            "\n"
          ],
          "name": "stderr"
        },
        {
          "output_type": "stream",
          "text": [
            "(2326, 8, 2048)\n",
            "Stealing058.mp4\n",
            "(18, 8, 2048)\n",
            "(2344, 8, 2048)\n",
            "[MoviePy] >>>> Building video new_video.mp4\n",
            "[MoviePy] Writing audio in new_videoTEMP_MPY_wvf_snd.mp3\n"
          ],
          "name": "stdout"
        },
        {
          "output_type": "stream",
          "text": [
            "100%|██████████| 3168/3168 [00:02<00:00, 1392.44it/s]"
          ],
          "name": "stderr"
        },
        {
          "output_type": "stream",
          "text": [
            "[MoviePy] Done.\n",
            "[MoviePy] Writing video new_video.mp4\n"
          ],
          "name": "stdout"
        },
        {
          "output_type": "stream",
          "text": [
            "\n",
            "100%|██████████| 4311/4311 [00:11<00:00, 363.92it/s]"
          ],
          "name": "stderr"
        },
        {
          "output_type": "stream",
          "text": [
            "[MoviePy] Done.\n",
            "[MoviePy] >>>> Video ready: new_video.mp4 \n",
            "\n"
          ],
          "name": "stdout"
        },
        {
          "output_type": "stream",
          "text": [
            "\n"
          ],
          "name": "stderr"
        },
        {
          "output_type": "stream",
          "text": [
            "(2362, 8, 2048)\n",
            "Stealing059.mp4\n",
            "(6, 8, 2048)\n",
            "(2368, 8, 2048)\n",
            "[MoviePy] >>>> Building video new_video.mp4\n",
            "[MoviePy] Writing audio in new_videoTEMP_MPY_wvf_snd.mp3\n"
          ],
          "name": "stdout"
        },
        {
          "output_type": "stream",
          "text": [
            "100%|██████████| 1110/1110 [00:00<00:00, 1369.67it/s]"
          ],
          "name": "stderr"
        },
        {
          "output_type": "stream",
          "text": [
            "[MoviePy] Done.\n",
            "[MoviePy] Writing video new_video.mp4\n"
          ],
          "name": "stdout"
        },
        {
          "output_type": "stream",
          "text": [
            "\n",
            "100%|██████████| 1510/1510 [00:03<00:00, 402.30it/s]\n"
          ],
          "name": "stderr"
        },
        {
          "output_type": "stream",
          "text": [
            "[MoviePy] Done.\n",
            "[MoviePy] >>>> Video ready: new_video.mp4 \n",
            "\n",
            "(2374, 8, 2048)\n",
            "Stealing062.mp4\n",
            "(5, 8, 2048)\n",
            "(2379, 8, 2048)\n",
            "[MoviePy] >>>> Building video new_video.mp4\n",
            "[MoviePy] Writing audio in new_videoTEMP_MPY_wvf_snd.mp3\n"
          ],
          "name": "stdout"
        },
        {
          "output_type": "stream",
          "text": [
            "100%|██████████| 954/954 [00:00<00:00, 1375.93it/s]"
          ],
          "name": "stderr"
        },
        {
          "output_type": "stream",
          "text": [
            "[MoviePy] Done.\n",
            "[MoviePy] Writing video new_video.mp4\n"
          ],
          "name": "stdout"
        },
        {
          "output_type": "stream",
          "text": [
            "\n",
            "100%|██████████| 1298/1298 [00:04<00:00, 294.78it/s]\n"
          ],
          "name": "stderr"
        },
        {
          "output_type": "stream",
          "text": [
            "[MoviePy] Done.\n",
            "[MoviePy] >>>> Video ready: new_video.mp4 \n",
            "\n",
            "(2384, 8, 2048)\n",
            "Stealing063.mp4\n",
            "(13, 8, 2048)\n",
            "(2397, 8, 2048)\n",
            "[MoviePy] >>>> Building video new_video.mp4\n",
            "[MoviePy] Writing audio in new_videoTEMP_MPY_wvf_snd.mp3\n"
          ],
          "name": "stdout"
        },
        {
          "output_type": "stream",
          "text": [
            "100%|██████████| 2329/2329 [00:01<00:00, 1379.88it/s]"
          ],
          "name": "stderr"
        },
        {
          "output_type": "stream",
          "text": [
            "[MoviePy] Done.\n",
            "[MoviePy] Writing video new_video.mp4\n"
          ],
          "name": "stdout"
        },
        {
          "output_type": "stream",
          "text": [
            "\n",
            "100%|██████████| 3169/3169 [00:08<00:00, 388.43it/s]"
          ],
          "name": "stderr"
        },
        {
          "output_type": "stream",
          "text": [
            "[MoviePy] Done.\n",
            "[MoviePy] >>>> Video ready: new_video.mp4 \n",
            "\n"
          ],
          "name": "stdout"
        },
        {
          "output_type": "stream",
          "text": [
            "\n"
          ],
          "name": "stderr"
        },
        {
          "output_type": "stream",
          "text": [
            "(2410, 8, 2048)\n",
            "Stealing065.mp4\n",
            "(20, 8, 2048)\n",
            "(2430, 8, 2048)\n",
            "[MoviePy] >>>> Building video new_video.mp4\n",
            "[MoviePy] Writing audio in new_videoTEMP_MPY_wvf_snd.mp3\n"
          ],
          "name": "stdout"
        },
        {
          "output_type": "stream",
          "text": [
            "100%|██████████| 3618/3618 [00:02<00:00, 1366.21it/s]"
          ],
          "name": "stderr"
        },
        {
          "output_type": "stream",
          "text": [
            "[MoviePy] Done.\n",
            "[MoviePy] Writing video new_video.mp4\n"
          ],
          "name": "stdout"
        },
        {
          "output_type": "stream",
          "text": [
            "\n",
            "100%|██████████| 4922/4922 [00:12<00:00, 402.35it/s]"
          ],
          "name": "stderr"
        },
        {
          "output_type": "stream",
          "text": [
            "[MoviePy] Done.\n",
            "[MoviePy] >>>> Video ready: new_video.mp4 \n",
            "\n"
          ],
          "name": "stdout"
        },
        {
          "output_type": "stream",
          "text": [
            "\n"
          ],
          "name": "stderr"
        },
        {
          "output_type": "stream",
          "text": [
            "(2450, 8, 2048)\n",
            "Stealing066.mp4\n",
            "(5, 8, 2048)\n",
            "(2455, 8, 2048)\n",
            "[MoviePy] >>>> Building video new_video.mp4\n",
            "[MoviePy] Writing audio in new_videoTEMP_MPY_wvf_snd.mp3\n"
          ],
          "name": "stdout"
        },
        {
          "output_type": "stream",
          "text": [
            "100%|██████████| 902/902 [00:00<00:00, 1286.78it/s]"
          ],
          "name": "stderr"
        },
        {
          "output_type": "stream",
          "text": [
            "[MoviePy] Done.\n",
            "[MoviePy] Writing video new_video.mp4\n"
          ],
          "name": "stdout"
        },
        {
          "output_type": "stream",
          "text": [
            "\n",
            "100%|██████████| 1227/1227 [00:04<00:00, 261.72it/s]\n"
          ],
          "name": "stderr"
        },
        {
          "output_type": "stream",
          "text": [
            "[MoviePy] Done.\n",
            "[MoviePy] >>>> Video ready: new_video.mp4 \n",
            "\n",
            "(2460, 8, 2048)\n",
            "Stealing067.mp4\n",
            "(7, 8, 2048)\n",
            "(2467, 8, 2048)\n",
            "[MoviePy] >>>> Building video new_video.mp4\n",
            "[MoviePy] Writing audio in new_videoTEMP_MPY_wvf_snd.mp3\n"
          ],
          "name": "stdout"
        },
        {
          "output_type": "stream",
          "text": [
            "100%|██████████| 1261/1261 [00:00<00:00, 1332.46it/s]"
          ],
          "name": "stderr"
        },
        {
          "output_type": "stream",
          "text": [
            "[MoviePy] Done.\n",
            "[MoviePy] Writing video new_video.mp4\n"
          ],
          "name": "stdout"
        },
        {
          "output_type": "stream",
          "text": [
            "\n",
            "100%|██████████| 1716/1716 [00:04<00:00, 371.60it/s]\n"
          ],
          "name": "stderr"
        },
        {
          "output_type": "stream",
          "text": [
            "[MoviePy] Done.\n",
            "[MoviePy] >>>> Video ready: new_video.mp4 \n",
            "\n",
            "(2474, 8, 2048)\n",
            "Stealing068.mp4\n",
            "(7, 8, 2048)\n",
            "(2481, 8, 2048)\n",
            "[MoviePy] >>>> Building video new_video.mp4\n",
            "[MoviePy] Writing audio in new_videoTEMP_MPY_wvf_snd.mp3\n"
          ],
          "name": "stdout"
        },
        {
          "output_type": "stream",
          "text": [
            "100%|██████████| 1363/1363 [00:01<00:00, 1130.31it/s]"
          ],
          "name": "stderr"
        },
        {
          "output_type": "stream",
          "text": [
            "[MoviePy] Done.\n",
            "[MoviePy] Writing video new_video.mp4\n"
          ],
          "name": "stdout"
        },
        {
          "output_type": "stream",
          "text": [
            "\n",
            "100%|██████████| 1854/1854 [00:05<00:00, 356.29it/s]"
          ],
          "name": "stderr"
        },
        {
          "output_type": "stream",
          "text": [
            "[MoviePy] Done.\n",
            "[MoviePy] >>>> Video ready: new_video.mp4 \n",
            "\n"
          ],
          "name": "stdout"
        },
        {
          "output_type": "stream",
          "text": [
            "\n"
          ],
          "name": "stderr"
        },
        {
          "output_type": "stream",
          "text": [
            "(2488, 8, 2048)\n",
            "Stealing072.mp4\n",
            "(20, 8, 2048)\n",
            "(2508, 8, 2048)\n",
            "[MoviePy] >>>> Building video new_video.mp4\n",
            "[MoviePy] Writing audio in new_videoTEMP_MPY_wvf_snd.mp3\n"
          ],
          "name": "stdout"
        },
        {
          "output_type": "stream",
          "text": [
            "100%|██████████| 3638/3638 [00:02<00:00, 1362.01it/s]"
          ],
          "name": "stderr"
        },
        {
          "output_type": "stream",
          "text": [
            "[MoviePy] Done.\n",
            "[MoviePy] Writing video new_video.mp4\n"
          ],
          "name": "stdout"
        },
        {
          "output_type": "stream",
          "text": [
            "\n",
            "100%|██████████| 4950/4950 [00:12<00:00, 394.78it/s]"
          ],
          "name": "stderr"
        },
        {
          "output_type": "stream",
          "text": [
            "[MoviePy] Done.\n",
            "[MoviePy] >>>> Video ready: new_video.mp4 \n",
            "\n"
          ],
          "name": "stdout"
        },
        {
          "output_type": "stream",
          "text": [
            "\n"
          ],
          "name": "stderr"
        },
        {
          "output_type": "stream",
          "text": [
            "(2528, 8, 2048)\n",
            "Stealing073.mp4\n",
            "(4, 8, 2048)\n",
            "(2532, 8, 2048)\n",
            "[MoviePy] >>>> Building video new_video.mp4\n",
            "[MoviePy] Writing audio in new_videoTEMP_MPY_wvf_snd.mp3\n"
          ],
          "name": "stdout"
        },
        {
          "output_type": "stream",
          "text": [
            "100%|██████████| 850/850 [00:00<00:00, 1214.40it/s]"
          ],
          "name": "stderr"
        },
        {
          "output_type": "stream",
          "text": [
            "[MoviePy] Done.\n",
            "[MoviePy] Writing video new_video.mp4\n"
          ],
          "name": "stdout"
        },
        {
          "output_type": "stream",
          "text": [
            "\n",
            "100%|██████████| 1156/1156 [00:03<00:00, 372.21it/s]"
          ],
          "name": "stderr"
        },
        {
          "output_type": "stream",
          "text": [
            "[MoviePy] Done.\n",
            "[MoviePy] >>>> Video ready: new_video.mp4 \n",
            "\n"
          ],
          "name": "stdout"
        },
        {
          "output_type": "stream",
          "text": [
            "\n"
          ],
          "name": "stderr"
        },
        {
          "output_type": "stream",
          "text": [
            "(2536, 8, 2048)\n",
            "Stealing074.mp4\n",
            "(9, 8, 2048)\n",
            "(2545, 8, 2048)\n",
            "[MoviePy] >>>> Building video new_video.mp4\n",
            "[MoviePy] Writing audio in new_videoTEMP_MPY_wvf_snd.mp3\n"
          ],
          "name": "stdout"
        },
        {
          "output_type": "stream",
          "text": [
            "100%|██████████| 1698/1698 [00:01<00:00, 1344.34it/s]"
          ],
          "name": "stderr"
        },
        {
          "output_type": "stream",
          "text": [
            "[MoviePy] Done.\n",
            "[MoviePy] Writing video new_video.mp4\n"
          ],
          "name": "stdout"
        },
        {
          "output_type": "stream",
          "text": [
            "\n",
            "100%|██████████| 2310/2310 [00:05<00:00, 387.94it/s]"
          ],
          "name": "stderr"
        },
        {
          "output_type": "stream",
          "text": [
            "[MoviePy] Done.\n",
            "[MoviePy] >>>> Video ready: new_video.mp4 \n",
            "\n"
          ],
          "name": "stdout"
        },
        {
          "output_type": "stream",
          "text": [
            "\n"
          ],
          "name": "stderr"
        },
        {
          "output_type": "stream",
          "text": [
            "(2554, 8, 2048)\n",
            "Stealing075.mp4\n",
            "(22, 8, 2048)\n",
            "(2576, 8, 2048)\n",
            "[MoviePy] >>>> Building video new_video.mp4\n",
            "[MoviePy] Writing audio in new_videoTEMP_MPY_wvf_snd.mp3\n"
          ],
          "name": "stdout"
        },
        {
          "output_type": "stream",
          "text": [
            "100%|██████████| 3863/3863 [00:02<00:00, 1391.38it/s]"
          ],
          "name": "stderr"
        },
        {
          "output_type": "stream",
          "text": [
            "[MoviePy] Done.\n",
            "[MoviePy] Writing video new_video.mp4\n"
          ],
          "name": "stdout"
        },
        {
          "output_type": "stream",
          "text": [
            "\n",
            "100%|██████████| 5256/5256 [00:14<00:00, 371.78it/s]"
          ],
          "name": "stderr"
        },
        {
          "output_type": "stream",
          "text": [
            "[MoviePy] Done.\n",
            "[MoviePy] >>>> Video ready: new_video.mp4 \n",
            "\n"
          ],
          "name": "stdout"
        },
        {
          "output_type": "stream",
          "text": [
            "\n"
          ],
          "name": "stderr"
        },
        {
          "output_type": "stream",
          "text": [
            "(2598, 8, 2048)\n",
            "Stealing078.mp4\n",
            "(9, 8, 2048)\n",
            "(2607, 8, 2048)\n",
            "[MoviePy] >>>> Building video new_video.mp4\n",
            "[MoviePy] Writing audio in new_videoTEMP_MPY_wvf_snd.mp3\n"
          ],
          "name": "stdout"
        },
        {
          "output_type": "stream",
          "text": [
            "100%|██████████| 1606/1606 [00:01<00:00, 1401.07it/s]"
          ],
          "name": "stderr"
        },
        {
          "output_type": "stream",
          "text": [
            "[MoviePy] Done.\n",
            "[MoviePy] Writing video new_video.mp4\n"
          ],
          "name": "stdout"
        },
        {
          "output_type": "stream",
          "text": [
            "\n",
            "100%|██████████| 2184/2184 [00:06<00:00, 356.39it/s]"
          ],
          "name": "stderr"
        },
        {
          "output_type": "stream",
          "text": [
            "[MoviePy] Done.\n",
            "[MoviePy] >>>> Video ready: new_video.mp4 \n",
            "\n"
          ],
          "name": "stdout"
        },
        {
          "output_type": "stream",
          "text": [
            "\n"
          ],
          "name": "stderr"
        },
        {
          "output_type": "stream",
          "text": [
            "(2616, 8, 2048)\n",
            "Stealing079.mp4\n",
            "(17, 8, 2048)\n",
            "(2633, 8, 2048)\n",
            "[MoviePy] >>>> Building video new_video.mp4\n",
            "[MoviePy] Writing audio in new_videoTEMP_MPY_wvf_snd.mp3\n"
          ],
          "name": "stdout"
        },
        {
          "output_type": "stream",
          "text": [
            "100%|██████████| 2988/2988 [00:02<00:00, 1383.56it/s]"
          ],
          "name": "stderr"
        },
        {
          "output_type": "stream",
          "text": [
            "[MoviePy] Done.\n",
            "[MoviePy] Writing video new_video.mp4\n"
          ],
          "name": "stdout"
        },
        {
          "output_type": "stream",
          "text": [
            "\n",
            "100%|██████████| 4065/4065 [00:11<00:00, 349.92it/s]\n"
          ],
          "name": "stderr"
        },
        {
          "output_type": "stream",
          "text": [
            "[MoviePy] Done.\n",
            "[MoviePy] >>>> Video ready: new_video.mp4 \n",
            "\n",
            "(2650, 8, 2048)\n",
            "Stealing080.mp4\n",
            "(4, 8, 2048)\n",
            "(2654, 8, 2048)\n",
            "[MoviePy] >>>> Building video new_video.mp4\n",
            "[MoviePy] Writing audio in new_videoTEMP_MPY_wvf_snd.mp3\n"
          ],
          "name": "stdout"
        },
        {
          "output_type": "stream",
          "text": [
            "100%|██████████| 734/734 [00:00<00:00, 1417.81it/s]"
          ],
          "name": "stderr"
        },
        {
          "output_type": "stream",
          "text": [
            "[MoviePy] Done.\n",
            "[MoviePy] Writing video new_video.mp4\n"
          ],
          "name": "stdout"
        },
        {
          "output_type": "stream",
          "text": [
            "\n",
            "100%|██████████| 998/998 [00:02<00:00, 357.89it/s]\n"
          ],
          "name": "stderr"
        },
        {
          "output_type": "stream",
          "text": [
            "[MoviePy] Done.\n",
            "[MoviePy] >>>> Video ready: new_video.mp4 \n",
            "\n",
            "(2658, 8, 2048)\n",
            "Stealing083.mp4\n",
            "(12, 8, 2048)\n",
            "(2670, 8, 2048)\n",
            "[MoviePy] >>>> Building video new_video.mp4\n",
            "[MoviePy] Writing audio in new_videoTEMP_MPY_wvf_snd.mp3\n"
          ],
          "name": "stdout"
        },
        {
          "output_type": "stream",
          "text": [
            "100%|██████████| 2207/2207 [00:02<00:00, 960.65it/s]"
          ],
          "name": "stderr"
        },
        {
          "output_type": "stream",
          "text": [
            "[MoviePy] Done.\n",
            "[MoviePy] Writing video new_video.mp4\n"
          ],
          "name": "stdout"
        },
        {
          "output_type": "stream",
          "text": [
            "\n",
            "100%|██████████| 3002/3002 [00:08<00:00, 365.06it/s]\n"
          ],
          "name": "stderr"
        },
        {
          "output_type": "stream",
          "text": [
            "[MoviePy] Done.\n",
            "[MoviePy] >>>> Video ready: new_video.mp4 \n",
            "\n",
            "(2682, 8, 2048)\n",
            "Stealing084.mp4\n",
            "(15, 8, 2048)\n",
            "(2697, 8, 2048)\n",
            "[MoviePy] >>>> Building video new_video.mp4\n",
            "[MoviePy] Writing audio in new_videoTEMP_MPY_wvf_snd.mp3\n"
          ],
          "name": "stdout"
        },
        {
          "output_type": "stream",
          "text": [
            "100%|██████████| 2756/2756 [00:01<00:00, 1404.86it/s]"
          ],
          "name": "stderr"
        },
        {
          "output_type": "stream",
          "text": [
            "[MoviePy] Done.\n",
            "[MoviePy] Writing video new_video.mp4\n"
          ],
          "name": "stdout"
        },
        {
          "output_type": "stream",
          "text": [
            "\n",
            "100%|██████████| 3749/3749 [00:10<00:00, 363.83it/s]\n"
          ],
          "name": "stderr"
        },
        {
          "output_type": "stream",
          "text": [
            "[MoviePy] Done.\n",
            "[MoviePy] >>>> Video ready: new_video.mp4 \n",
            "\n",
            "(2712, 8, 2048)\n",
            "Stealing086.mp4\n",
            "(4, 8, 2048)\n",
            "(2716, 8, 2048)\n",
            "[MoviePy] >>>> Building video new_video.mp4\n",
            "[MoviePy] Writing audio in new_videoTEMP_MPY_wvf_snd.mp3\n"
          ],
          "name": "stdout"
        },
        {
          "output_type": "stream",
          "text": [
            "100%|██████████| 704/704 [00:00<00:00, 1312.63it/s]"
          ],
          "name": "stderr"
        },
        {
          "output_type": "stream",
          "text": [
            "[MoviePy] Done.\n",
            "[MoviePy] Writing video new_video.mp4\n"
          ],
          "name": "stdout"
        },
        {
          "output_type": "stream",
          "text": [
            "\n",
            "100%|██████████| 958/958 [00:02<00:00, 367.49it/s]"
          ],
          "name": "stderr"
        },
        {
          "output_type": "stream",
          "text": [
            "[MoviePy] Done.\n",
            "[MoviePy] >>>> Video ready: new_video.mp4 \n",
            "\n"
          ],
          "name": "stdout"
        },
        {
          "output_type": "stream",
          "text": [
            "\n"
          ],
          "name": "stderr"
        },
        {
          "output_type": "stream",
          "text": [
            "(2720, 8, 2048)\n",
            "Vandalism025.mp4\n",
            "(18, 8, 2048)\n",
            "(2738, 8, 2048)\n",
            "[MoviePy] >>>> Building video new_video.mp4\n",
            "[MoviePy] Writing audio in new_videoTEMP_MPY_wvf_snd.mp3\n"
          ],
          "name": "stdout"
        },
        {
          "output_type": "stream",
          "text": [
            "100%|██████████| 3160/3160 [00:03<00:00, 1034.67it/s]"
          ],
          "name": "stderr"
        },
        {
          "output_type": "stream",
          "text": [
            "[MoviePy] Done.\n",
            "[MoviePy] Writing video new_video.mp4\n"
          ],
          "name": "stdout"
        },
        {
          "output_type": "stream",
          "text": [
            "\n",
            "100%|██████████| 4299/4299 [00:11<00:00, 369.86it/s]"
          ],
          "name": "stderr"
        },
        {
          "output_type": "stream",
          "text": [
            "[MoviePy] Done.\n",
            "[MoviePy] >>>> Video ready: new_video.mp4 \n",
            "\n"
          ],
          "name": "stdout"
        },
        {
          "output_type": "stream",
          "text": [
            "\n"
          ],
          "name": "stderr"
        },
        {
          "output_type": "stream",
          "text": [
            "(2756, 8, 2048)\n",
            "Vandalism028.mp4\n",
            "(5, 8, 2048)\n",
            "(2761, 8, 2048)\n",
            "[MoviePy] >>>> Building video new_video.mp4\n",
            "[MoviePy] Writing audio in new_videoTEMP_MPY_wvf_snd.mp3\n"
          ],
          "name": "stdout"
        },
        {
          "output_type": "stream",
          "text": [
            "100%|██████████| 910/910 [00:00<00:00, 1323.80it/s]"
          ],
          "name": "stderr"
        },
        {
          "output_type": "stream",
          "text": [
            "[MoviePy] Done.\n",
            "[MoviePy] Writing video new_video.mp4\n"
          ],
          "name": "stdout"
        },
        {
          "output_type": "stream",
          "text": [
            "\n",
            "100%|██████████| 1238/1238 [00:03<00:00, 381.33it/s]\n"
          ],
          "name": "stderr"
        },
        {
          "output_type": "stream",
          "text": [
            "[MoviePy] Done.\n",
            "[MoviePy] >>>> Video ready: new_video.mp4 \n",
            "\n",
            "(2766, 8, 2048)\n",
            "Vandalism030.mp4\n",
            "(5, 8, 2048)\n",
            "(2771, 8, 2048)\n",
            "[MoviePy] >>>> Building video new_video.mp4\n",
            "[MoviePy] Writing audio in new_videoTEMP_MPY_wvf_snd.mp3\n"
          ],
          "name": "stdout"
        },
        {
          "output_type": "stream",
          "text": [
            "100%|██████████| 1040/1040 [00:00<00:00, 1369.27it/s]"
          ],
          "name": "stderr"
        },
        {
          "output_type": "stream",
          "text": [
            "[MoviePy] Done.\n",
            "[MoviePy] Writing video new_video.mp4\n"
          ],
          "name": "stdout"
        },
        {
          "output_type": "stream",
          "text": [
            "\n",
            "100%|██████████| 1414/1414 [00:04<00:00, 338.37it/s]\n"
          ],
          "name": "stderr"
        },
        {
          "output_type": "stream",
          "text": [
            "[MoviePy] Done.\n",
            "[MoviePy] >>>> Video ready: new_video.mp4 \n",
            "\n",
            "(2777, 8, 2048)\n",
            "Vandalism031.mp4\n",
            "(3, 8, 2048)\n",
            "(2780, 8, 2048)\n",
            "[MoviePy] >>>> Building video new_video.mp4\n",
            "[MoviePy] Writing audio in new_videoTEMP_MPY_wvf_snd.mp3\n"
          ],
          "name": "stdout"
        },
        {
          "output_type": "stream",
          "text": [
            "100%|██████████| 607/607 [00:00<00:00, 1366.93it/s]"
          ],
          "name": "stderr"
        },
        {
          "output_type": "stream",
          "text": [
            "[MoviePy] Done.\n",
            "[MoviePy] Writing video new_video.mp4\n"
          ],
          "name": "stdout"
        },
        {
          "output_type": "stream",
          "text": [
            "\n",
            "100%|█████████▉| 825/826 [00:02<00:00, 318.90it/s]\n"
          ],
          "name": "stderr"
        },
        {
          "output_type": "stream",
          "text": [
            "[MoviePy] Done.\n",
            "[MoviePy] >>>> Video ready: new_video.mp4 \n",
            "\n",
            "(2783, 8, 2048)\n",
            "Vandalism033.mp4\n",
            "(8, 8, 2048)\n",
            "(2791, 8, 2048)\n",
            "[MoviePy] >>>> Building video new_video.mp4\n",
            "[MoviePy] Writing audio in new_videoTEMP_MPY_wvf_snd.mp3\n"
          ],
          "name": "stdout"
        },
        {
          "output_type": "stream",
          "text": [
            "100%|██████████| 1439/1439 [00:01<00:00, 1358.64it/s]"
          ],
          "name": "stderr"
        },
        {
          "output_type": "stream",
          "text": [
            "[MoviePy] Done.\n",
            "[MoviePy] Writing video new_video.mp4\n"
          ],
          "name": "stdout"
        },
        {
          "output_type": "stream",
          "text": [
            "\n",
            "100%|██████████| 1958/1958 [00:05<00:00, 380.48it/s]\n"
          ],
          "name": "stderr"
        },
        {
          "output_type": "stream",
          "text": [
            "[MoviePy] Done.\n",
            "[MoviePy] >>>> Video ready: new_video.mp4 \n",
            "\n",
            "(2799, 8, 2048)\n",
            "Vandalism034.mp4\n",
            "(5, 8, 2048)\n",
            "(2804, 8, 2048)\n",
            "[MoviePy] >>>> Building video new_video.mp4\n",
            "[MoviePy] Writing audio in new_videoTEMP_MPY_wvf_snd.mp3\n"
          ],
          "name": "stdout"
        },
        {
          "output_type": "stream",
          "text": [
            "100%|██████████| 902/902 [00:00<00:00, 1382.55it/s]"
          ],
          "name": "stderr"
        },
        {
          "output_type": "stream",
          "text": [
            "[MoviePy] Done.\n",
            "[MoviePy] Writing video new_video.mp4\n"
          ],
          "name": "stdout"
        },
        {
          "output_type": "stream",
          "text": [
            "\n",
            "100%|██████████| 1227/1227 [00:03<00:00, 348.31it/s]"
          ],
          "name": "stderr"
        },
        {
          "output_type": "stream",
          "text": [
            "[MoviePy] Done.\n",
            "[MoviePy] >>>> Video ready: new_video.mp4 \n",
            "\n"
          ],
          "name": "stdout"
        },
        {
          "output_type": "stream",
          "text": [
            "\n"
          ],
          "name": "stderr"
        },
        {
          "output_type": "stream",
          "text": [
            "(2809, 8, 2048)\n",
            "Vandalism036.mp4\n",
            "(6, 8, 2048)\n",
            "(2815, 8, 2048)\n",
            "[MoviePy] >>>> Building video new_video.mp4\n",
            "[MoviePy] Writing audio in new_videoTEMP_MPY_wvf_snd.mp3\n"
          ],
          "name": "stdout"
        },
        {
          "output_type": "stream",
          "text": [
            "100%|██████████| 1055/1055 [00:00<00:00, 1405.97it/s]"
          ],
          "name": "stderr"
        },
        {
          "output_type": "stream",
          "text": [
            "[MoviePy] Done.\n",
            "[MoviePy] Writing video new_video.mp4\n"
          ],
          "name": "stdout"
        },
        {
          "output_type": "stream",
          "text": [
            "\n",
            "100%|██████████| 1435/1435 [00:04<00:00, 329.66it/s]\n"
          ],
          "name": "stderr"
        },
        {
          "output_type": "stream",
          "text": [
            "[MoviePy] Done.\n",
            "[MoviePy] >>>> Video ready: new_video.mp4 \n",
            "\n",
            "(2821, 8, 2048)\n",
            "Vandalism037.mp4\n",
            "(11, 8, 2048)\n",
            "(2832, 8, 2048)\n",
            "[MoviePy] >>>> Building video new_video.mp4\n",
            "[MoviePy] Writing audio in new_videoTEMP_MPY_wvf_snd.mp3\n"
          ],
          "name": "stdout"
        },
        {
          "output_type": "stream",
          "text": [
            "100%|██████████| 2035/2035 [00:01<00:00, 1316.02it/s]"
          ],
          "name": "stderr"
        },
        {
          "output_type": "stream",
          "text": [
            "[MoviePy] Done.\n",
            "[MoviePy] Writing video new_video.mp4\n"
          ],
          "name": "stdout"
        },
        {
          "output_type": "stream",
          "text": [
            "\n",
            "100%|██████████| 2768/2768 [00:07<00:00, 380.99it/s]\n"
          ],
          "name": "stderr"
        },
        {
          "output_type": "stream",
          "text": [
            "[MoviePy] Done.\n",
            "[MoviePy] >>>> Video ready: new_video.mp4 \n",
            "\n",
            "(2843, 8, 2048)\n",
            "Vandalism038.mp4\n",
            "(8, 8, 2048)\n",
            "(2851, 8, 2048)\n",
            "[MoviePy] >>>> Building video new_video.mp4\n",
            "[MoviePy] Writing audio in new_videoTEMP_MPY_wvf_snd.mp3\n"
          ],
          "name": "stdout"
        },
        {
          "output_type": "stream",
          "text": [
            "100%|██████████| 1447/1447 [00:01<00:00, 1353.32it/s]"
          ],
          "name": "stderr"
        },
        {
          "output_type": "stream",
          "text": [
            "[MoviePy] Done.\n",
            "[MoviePy] Writing video new_video.mp4\n"
          ],
          "name": "stdout"
        },
        {
          "output_type": "stream",
          "text": [
            "\n",
            "100%|██████████| 1969/1969 [00:05<00:00, 385.98it/s]\n"
          ],
          "name": "stderr"
        },
        {
          "output_type": "stream",
          "text": [
            "[MoviePy] Done.\n",
            "[MoviePy] >>>> Video ready: new_video.mp4 \n",
            "\n",
            "(2859, 8, 2048)\n",
            "Vandalism040.mp4\n",
            "(4, 8, 2048)\n",
            "(2863, 8, 2048)\n",
            "[MoviePy] >>>> Building video new_video.mp4\n",
            "[MoviePy] Writing audio in new_videoTEMP_MPY_wvf_snd.mp3\n"
          ],
          "name": "stdout"
        },
        {
          "output_type": "stream",
          "text": [
            "100%|██████████| 749/749 [00:00<00:00, 1388.66it/s]"
          ],
          "name": "stderr"
        },
        {
          "output_type": "stream",
          "text": [
            "[MoviePy] Done.\n",
            "[MoviePy] Writing video new_video.mp4\n"
          ],
          "name": "stdout"
        },
        {
          "output_type": "stream",
          "text": [
            "\n",
            "100%|██████████| 1019/1019 [00:02<00:00, 361.21it/s]"
          ],
          "name": "stderr"
        },
        {
          "output_type": "stream",
          "text": [
            "[MoviePy] Done.\n",
            "[MoviePy] >>>> Video ready: new_video.mp4 \n",
            "\n"
          ],
          "name": "stdout"
        },
        {
          "output_type": "stream",
          "text": [
            "\n"
          ],
          "name": "stderr"
        },
        {
          "output_type": "stream",
          "text": [
            "(2867, 8, 2048)\n",
            "Copy of Normal_Videos218_x264.mp4\n",
            "(5, 8, 2048)\n",
            "(2872, 8, 2048)\n",
            "[MoviePy] >>>> Building video new_video.mp4\n",
            "[MoviePy] Writing audio in new_videoTEMP_MPY_wvf_snd.mp3\n"
          ],
          "name": "stdout"
        },
        {
          "output_type": "stream",
          "text": [
            "100%|██████████| 908/908 [00:00<00:00, 1966.18it/s]"
          ],
          "name": "stderr"
        },
        {
          "output_type": "stream",
          "text": [
            "[MoviePy] Done.\n",
            "[MoviePy] Writing video new_video.mp4\n"
          ],
          "name": "stdout"
        },
        {
          "output_type": "stream",
          "text": [
            "\n",
            "100%|██████████| 1235/1235 [00:03<00:00, 392.43it/s]\n"
          ],
          "name": "stderr"
        },
        {
          "output_type": "stream",
          "text": [
            "[MoviePy] Done.\n",
            "[MoviePy] >>>> Video ready: new_video.mp4 \n",
            "\n",
            "(2877, 8, 2048)\n",
            "Copy of Normal_Videos214_x264_Trim2.mp4\n",
            "(7, 8, 2048)\n",
            "(2884, 8, 2048)\n",
            "[MoviePy] >>>> Building video new_video.mp4\n",
            "[MoviePy] Writing audio in new_videoTEMP_MPY_wvf_snd.mp3\n"
          ],
          "name": "stdout"
        },
        {
          "output_type": "stream",
          "text": [
            "100%|██████████| 1337/1337 [00:00<00:00, 1348.81it/s]"
          ],
          "name": "stderr"
        },
        {
          "output_type": "stream",
          "text": [
            "[MoviePy] Done.\n",
            "[MoviePy] Writing video new_video.mp4\n"
          ],
          "name": "stdout"
        },
        {
          "output_type": "stream",
          "text": [
            "\n",
            "100%|██████████| 1818/1818 [00:04<00:00, 376.07it/s]\n"
          ],
          "name": "stderr"
        },
        {
          "output_type": "stream",
          "text": [
            "[MoviePy] Done.\n",
            "[MoviePy] >>>> Video ready: new_video.mp4 \n",
            "\n",
            "(2891, 8, 2048)\n",
            "Copy of Normal_Videos212_x264_Trim.mp4\n",
            "(3, 8, 2048)\n",
            "(2894, 8, 2048)\n",
            "[MoviePy] >>>> Building video new_video.mp4\n",
            "[MoviePy] Writing audio in new_videoTEMP_MPY_wvf_snd.mp3\n"
          ],
          "name": "stdout"
        },
        {
          "output_type": "stream",
          "text": [
            "100%|██████████| 677/677 [00:00<00:00, 1360.32it/s]"
          ],
          "name": "stderr"
        },
        {
          "output_type": "stream",
          "text": [
            "[MoviePy] Done.\n",
            "[MoviePy] Writing video new_video.mp4\n"
          ],
          "name": "stdout"
        },
        {
          "output_type": "stream",
          "text": [
            "\n",
            "100%|█████████▉| 921/922 [00:02<00:00, 402.10it/s]"
          ],
          "name": "stderr"
        },
        {
          "output_type": "stream",
          "text": [
            "[MoviePy] Done.\n",
            "[MoviePy] >>>> Video ready: new_video.mp4 \n",
            "\n"
          ],
          "name": "stdout"
        },
        {
          "output_type": "stream",
          "text": [
            "\n"
          ],
          "name": "stderr"
        },
        {
          "output_type": "stream",
          "text": [
            "(2897, 8, 2048)\n",
            "Copy of Normal_Videos216_x264_Trim.mp4\n",
            "(7, 8, 2048)\n",
            "(2904, 8, 2048)\n",
            "[MoviePy] >>>> Building video new_video.mp4\n",
            "[MoviePy] Writing audio in new_videoTEMP_MPY_wvf_snd.mp3\n"
          ],
          "name": "stdout"
        },
        {
          "output_type": "stream",
          "text": [
            "100%|██████████| 1342/1342 [00:00<00:00, 1369.87it/s]"
          ],
          "name": "stderr"
        },
        {
          "output_type": "stream",
          "text": [
            "[MoviePy] Done.\n",
            "[MoviePy] Writing video new_video.mp4\n"
          ],
          "name": "stdout"
        },
        {
          "output_type": "stream",
          "text": [
            "\n",
            "100%|██████████| 1826/1826 [00:04<00:00, 401.43it/s]"
          ],
          "name": "stderr"
        },
        {
          "output_type": "stream",
          "text": [
            "[MoviePy] Done.\n",
            "[MoviePy] >>>> Video ready: new_video.mp4 \n",
            "\n"
          ],
          "name": "stdout"
        },
        {
          "output_type": "stream",
          "text": [
            "\n"
          ],
          "name": "stderr"
        },
        {
          "output_type": "stream",
          "text": [
            "(2911, 8, 2048)\n",
            "Copy of Normal_Videos223_x264_Trim.mp4\n",
            "(7, 8, 2048)\n",
            "(2918, 8, 2048)\n",
            "[MoviePy] >>>> Building video new_video.mp4\n",
            "[MoviePy] Writing audio in new_videoTEMP_MPY_wvf_snd.mp3\n"
          ],
          "name": "stdout"
        },
        {
          "output_type": "stream",
          "text": [
            "100%|██████████| 1329/1329 [00:01<00:00, 756.42it/s]"
          ],
          "name": "stderr"
        },
        {
          "output_type": "stream",
          "text": [
            "[MoviePy] Done.\n",
            "[MoviePy] Writing video new_video.mp4\n"
          ],
          "name": "stdout"
        },
        {
          "output_type": "stream",
          "text": [
            "\n",
            "100%|██████████| 1809/1809 [00:04<00:00, 366.64it/s]\n"
          ],
          "name": "stderr"
        },
        {
          "output_type": "stream",
          "text": [
            "[MoviePy] Done.\n",
            "[MoviePy] >>>> Video ready: new_video.mp4 \n",
            "\n",
            "(2925, 8, 2048)\n",
            "Copy of Normal_Videos214_x264_Trim.mp4\n",
            "(7, 8, 2048)\n",
            "(2932, 8, 2048)\n",
            "[MoviePy] >>>> Building video new_video.mp4\n",
            "[MoviePy] Writing audio in new_videoTEMP_MPY_wvf_snd.mp3\n"
          ],
          "name": "stdout"
        },
        {
          "output_type": "stream",
          "text": [
            "100%|██████████| 1327/1327 [00:00<00:00, 1398.95it/s]"
          ],
          "name": "stderr"
        },
        {
          "output_type": "stream",
          "text": [
            "[MoviePy] Done.\n",
            "[MoviePy] Writing video new_video.mp4\n"
          ],
          "name": "stdout"
        },
        {
          "output_type": "stream",
          "text": [
            "\n",
            "100%|██████████| 1805/1805 [00:04<00:00, 386.43it/s]\n"
          ],
          "name": "stderr"
        },
        {
          "output_type": "stream",
          "text": [
            "[MoviePy] Done.\n",
            "[MoviePy] >>>> Video ready: new_video.mp4 \n",
            "\n",
            "(2939, 8, 2048)\n",
            "Copy of Normal_Videos219_x264_Trim.mp4\n",
            "(7, 8, 2048)\n",
            "(2946, 8, 2048)\n",
            "[MoviePy] >>>> Building video new_video.mp4\n",
            "[MoviePy] Writing audio in new_videoTEMP_MPY_wvf_snd.mp3\n"
          ],
          "name": "stdout"
        },
        {
          "output_type": "stream",
          "text": [
            "100%|██████████| 1329/1329 [00:01<00:00, 1327.99it/s]"
          ],
          "name": "stderr"
        },
        {
          "output_type": "stream",
          "text": [
            "[MoviePy] Done.\n",
            "[MoviePy] Writing video new_video.mp4\n"
          ],
          "name": "stdout"
        },
        {
          "output_type": "stream",
          "text": [
            "\n",
            "100%|██████████| 1808/1808 [00:04<00:00, 385.17it/s]\n"
          ],
          "name": "stderr"
        },
        {
          "output_type": "stream",
          "text": [
            "[MoviePy] Done.\n",
            "[MoviePy] >>>> Video ready: new_video.mp4 \n",
            "\n",
            "(2953, 8, 2048)\n",
            "Copy of Normal_Videos213_x264.mp4\n",
            "(7, 8, 2048)\n",
            "(2960, 8, 2048)\n",
            "[MoviePy] >>>> Building video new_video.mp4\n",
            "[MoviePy] Writing audio in new_videoTEMP_MPY_wvf_snd.mp3\n"
          ],
          "name": "stdout"
        },
        {
          "output_type": "stream",
          "text": [
            "100%|██████████| 1314/1314 [00:00<00:00, 2164.34it/s]"
          ],
          "name": "stderr"
        },
        {
          "output_type": "stream",
          "text": [
            "[MoviePy] Done.\n",
            "[MoviePy] Writing video new_video.mp4\n"
          ],
          "name": "stdout"
        },
        {
          "output_type": "stream",
          "text": [
            "\n",
            "100%|██████████| 1788/1788 [00:04<00:00, 390.65it/s]\n"
          ],
          "name": "stderr"
        },
        {
          "output_type": "stream",
          "text": [
            "[MoviePy] Done.\n",
            "[MoviePy] >>>> Video ready: new_video.mp4 \n",
            "\n",
            "(2967, 8, 2048)\n",
            "Copy of Normal_Videos220_x264.mp4\n",
            "(11, 8, 2048)\n",
            "(2978, 8, 2048)\n",
            "[MoviePy] >>>> Building video new_video.mp4\n",
            "[MoviePy] Writing audio in new_videoTEMP_MPY_wvf_snd.mp3\n"
          ],
          "name": "stdout"
        },
        {
          "output_type": "stream",
          "text": [
            "100%|██████████| 2011/2011 [00:00<00:00, 2182.86it/s]"
          ],
          "name": "stderr"
        },
        {
          "output_type": "stream",
          "text": [
            "[MoviePy] Done.\n",
            "[MoviePy] Writing video new_video.mp4\n"
          ],
          "name": "stdout"
        },
        {
          "output_type": "stream",
          "text": [
            "\n",
            "100%|██████████| 2735/2735 [00:07<00:00, 374.93it/s]\n"
          ],
          "name": "stderr"
        },
        {
          "output_type": "stream",
          "text": [
            "[MoviePy] Done.\n",
            "[MoviePy] >>>> Video ready: new_video.mp4 \n",
            "\n",
            "(2989, 8, 2048)\n",
            "Copy of Normal_Videos223_x264_Trim2.mp4\n",
            "(5, 8, 2048)\n",
            "(2994, 8, 2048)\n",
            "[MoviePy] >>>> Building video new_video.mp4\n",
            "[MoviePy] Writing audio in new_videoTEMP_MPY_wvf_snd.mp3\n"
          ],
          "name": "stdout"
        },
        {
          "output_type": "stream",
          "text": [
            "100%|██████████| 890/890 [00:01<00:00, 775.69it/s]"
          ],
          "name": "stderr"
        },
        {
          "output_type": "stream",
          "text": [
            "[MoviePy] Done.\n",
            "[MoviePy] Writing video new_video.mp4\n"
          ],
          "name": "stdout"
        },
        {
          "output_type": "stream",
          "text": [
            "\n",
            "100%|██████████| 1210/1210 [00:03<00:00, 374.69it/s]"
          ],
          "name": "stderr"
        },
        {
          "output_type": "stream",
          "text": [
            "[MoviePy] Done.\n",
            "[MoviePy] >>>> Video ready: new_video.mp4 \n",
            "\n"
          ],
          "name": "stdout"
        },
        {
          "output_type": "stream",
          "text": [
            "\n"
          ],
          "name": "stderr"
        },
        {
          "output_type": "stream",
          "text": [
            "(2999, 8, 2048)\n",
            "Copy of Normal_Videos205_x264_Trim3.mp4\n",
            "(3, 8, 2048)\n",
            "(3002, 8, 2048)\n",
            "[MoviePy] >>>> Building video new_video.mp4\n",
            "[MoviePy] Writing audio in new_videoTEMP_MPY_wvf_snd.mp3\n"
          ],
          "name": "stdout"
        },
        {
          "output_type": "stream",
          "text": [
            "100%|██████████| 673/673 [00:00<00:00, 1407.68it/s]"
          ],
          "name": "stderr"
        },
        {
          "output_type": "stream",
          "text": [
            "[MoviePy] Done.\n",
            "[MoviePy] Writing video new_video.mp4\n"
          ],
          "name": "stdout"
        },
        {
          "output_type": "stream",
          "text": [
            "\n",
            "100%|██████████| 915/915 [00:02<00:00, 393.22it/s]\n"
          ],
          "name": "stderr"
        },
        {
          "output_type": "stream",
          "text": [
            "[MoviePy] Done.\n",
            "[MoviePy] >>>> Video ready: new_video.mp4 \n",
            "\n",
            "(3005, 8, 2048)\n",
            "Copy of Normal_Videos214_x264_Trim3.mp4\n",
            "(3, 8, 2048)\n",
            "(3008, 8, 2048)\n",
            "[MoviePy] >>>> Building video new_video.mp4\n",
            "[MoviePy] Writing audio in new_videoTEMP_MPY_wvf_snd.mp3\n"
          ],
          "name": "stdout"
        },
        {
          "output_type": "stream",
          "text": [
            "100%|██████████| 674/674 [00:00<00:00, 1390.59it/s]"
          ],
          "name": "stderr"
        },
        {
          "output_type": "stream",
          "text": [
            "[MoviePy] Done.\n",
            "[MoviePy] Writing video new_video.mp4\n"
          ],
          "name": "stdout"
        },
        {
          "output_type": "stream",
          "text": [
            "\n",
            "100%|██████████| 916/916 [00:02<00:00, 386.10it/s]"
          ],
          "name": "stderr"
        },
        {
          "output_type": "stream",
          "text": [
            "[MoviePy] Done.\n",
            "[MoviePy] >>>> Video ready: new_video.mp4 \n",
            "\n"
          ],
          "name": "stdout"
        },
        {
          "output_type": "stream",
          "text": [
            "\n"
          ],
          "name": "stderr"
        },
        {
          "output_type": "stream",
          "text": [
            "(3011, 8, 2048)\n",
            "Copy of Normal_Videos222_x264.mp4\n",
            "(4, 8, 2048)\n",
            "(3015, 8, 2048)\n",
            "[MoviePy] >>>> Building video new_video.mp4\n",
            "[MoviePy] Writing audio in new_videoTEMP_MPY_wvf_snd.mp3\n"
          ],
          "name": "stdout"
        },
        {
          "output_type": "stream",
          "text": [
            "100%|██████████| 699/699 [00:00<00:00, 2116.78it/s]"
          ],
          "name": "stderr"
        },
        {
          "output_type": "stream",
          "text": [
            "[MoviePy] Done.\n",
            "[MoviePy] Writing video new_video.mp4\n"
          ],
          "name": "stdout"
        },
        {
          "output_type": "stream",
          "text": [
            "\n",
            "100%|██████████| 951/951 [00:02<00:00, 355.54it/s]"
          ],
          "name": "stderr"
        },
        {
          "output_type": "stream",
          "text": [
            "[MoviePy] Done.\n",
            "[MoviePy] >>>> Video ready: new_video.mp4 \n",
            "\n"
          ],
          "name": "stdout"
        },
        {
          "output_type": "stream",
          "text": [
            "\n"
          ],
          "name": "stderr"
        },
        {
          "output_type": "stream",
          "text": [
            "(3019, 8, 2048)\n",
            "Copy of Normal_Videos205_x264_Trim4.mp4\n",
            "(3, 8, 2048)\n",
            "(3022, 8, 2048)\n",
            "[MoviePy] >>>> Building video new_video.mp4\n",
            "[MoviePy] Writing audio in new_videoTEMP_MPY_wvf_snd.mp3\n"
          ],
          "name": "stdout"
        },
        {
          "output_type": "stream",
          "text": [
            "100%|██████████| 680/680 [00:00<00:00, 1379.80it/s]"
          ],
          "name": "stderr"
        },
        {
          "output_type": "stream",
          "text": [
            "[MoviePy] Done.\n",
            "[MoviePy] Writing video new_video.mp4\n"
          ],
          "name": "stdout"
        },
        {
          "output_type": "stream",
          "text": [
            "\n",
            "100%|██████████| 925/925 [00:02<00:00, 366.69it/s]\n"
          ],
          "name": "stderr"
        },
        {
          "output_type": "stream",
          "text": [
            "[MoviePy] Done.\n",
            "[MoviePy] >>>> Video ready: new_video.mp4 \n",
            "\n",
            "(3025, 8, 2048)\n",
            "Copy of Normal_Videos208_x264_Trim1.mp4\n",
            "(3, 8, 2048)\n",
            "(3028, 8, 2048)\n",
            "[MoviePy] >>>> Building video new_video.mp4\n",
            "[MoviePy] Writing audio in new_videoTEMP_MPY_wvf_snd.mp3\n"
          ],
          "name": "stdout"
        },
        {
          "output_type": "stream",
          "text": [
            "100%|██████████| 675/675 [00:00<00:00, 1368.59it/s]"
          ],
          "name": "stderr"
        },
        {
          "output_type": "stream",
          "text": [
            "[MoviePy] Done.\n",
            "[MoviePy] Writing video new_video.mp4\n"
          ],
          "name": "stdout"
        },
        {
          "output_type": "stream",
          "text": [
            "\n",
            "100%|██████████| 918/918 [00:02<00:00, 386.20it/s]"
          ],
          "name": "stderr"
        },
        {
          "output_type": "stream",
          "text": [
            "[MoviePy] Done.\n",
            "[MoviePy] >>>> Video ready: new_video.mp4 \n",
            "\n"
          ],
          "name": "stdout"
        },
        {
          "output_type": "stream",
          "text": [
            "\n"
          ],
          "name": "stderr"
        },
        {
          "output_type": "stream",
          "text": [
            "(3031, 8, 2048)\n",
            "Copy of Normal_Videos209_x264.mp4\n",
            "(2, 8, 2048)\n",
            "(3033, 8, 2048)\n",
            "[MoviePy] >>>> Building video new_video.mp4\n",
            "[MoviePy] Writing audio in new_videoTEMP_MPY_wvf_snd.mp3\n"
          ],
          "name": "stdout"
        },
        {
          "output_type": "stream",
          "text": [
            "100%|██████████| 467/467 [00:00<00:00, 2125.56it/s]"
          ],
          "name": "stderr"
        },
        {
          "output_type": "stream",
          "text": [
            "[MoviePy] Done.\n",
            "[MoviePy] Writing video new_video.mp4\n"
          ],
          "name": "stdout"
        },
        {
          "output_type": "stream",
          "text": [
            "\n",
            "100%|██████████| 635/635 [00:01<00:00, 378.95it/s]\n"
          ],
          "name": "stderr"
        },
        {
          "output_type": "stream",
          "text": [
            "[MoviePy] Done.\n",
            "[MoviePy] >>>> Video ready: new_video.mp4 \n",
            "\n",
            "(3035, 8, 2048)\n",
            "Copy of Normal_Videos208_x264_Trim.mp4\n",
            "(3, 8, 2048)\n",
            "(3038, 8, 2048)\n",
            "[MoviePy] >>>> Building video new_video.mp4\n",
            "[MoviePy] Writing audio in new_videoTEMP_MPY_wvf_snd.mp3\n"
          ],
          "name": "stdout"
        },
        {
          "output_type": "stream",
          "text": [
            "100%|██████████| 666/666 [00:00<00:00, 1386.03it/s]"
          ],
          "name": "stderr"
        },
        {
          "output_type": "stream",
          "text": [
            "[MoviePy] Done.\n",
            "[MoviePy] Writing video new_video.mp4\n"
          ],
          "name": "stdout"
        },
        {
          "output_type": "stream",
          "text": [
            "\n",
            "100%|██████████| 906/906 [00:02<00:00, 367.07it/s]\n"
          ],
          "name": "stderr"
        },
        {
          "output_type": "stream",
          "text": [
            "[MoviePy] Done.\n",
            "[MoviePy] >>>> Video ready: new_video.mp4 \n",
            "\n",
            "(3041, 8, 2048)\n",
            "Copy of Normal_Videos211_x264_Trim2.mp4\n",
            "(3, 8, 2048)\n",
            "(3044, 8, 2048)\n",
            "[MoviePy] >>>> Building video new_video.mp4\n",
            "[MoviePy] Writing audio in new_videoTEMP_MPY_wvf_snd.mp3\n"
          ],
          "name": "stdout"
        },
        {
          "output_type": "stream",
          "text": [
            "100%|██████████| 678/678 [00:00<00:00, 1439.11it/s]"
          ],
          "name": "stderr"
        },
        {
          "output_type": "stream",
          "text": [
            "[MoviePy] Done.\n",
            "[MoviePy] Writing video new_video.mp4\n"
          ],
          "name": "stdout"
        },
        {
          "output_type": "stream",
          "text": [
            "\n",
            "100%|██████████| 923/923 [00:02<00:00, 409.14it/s]"
          ],
          "name": "stderr"
        },
        {
          "output_type": "stream",
          "text": [
            "[MoviePy] Done.\n",
            "[MoviePy] >>>> Video ready: new_video.mp4 \n",
            "\n"
          ],
          "name": "stdout"
        },
        {
          "output_type": "stream",
          "text": [
            "\n"
          ],
          "name": "stderr"
        },
        {
          "output_type": "stream",
          "text": [
            "(3047, 8, 2048)\n",
            "Copy of Normal_Videos215_x264.mp4\n",
            "(3, 8, 2048)\n",
            "(3050, 8, 2048)\n",
            "[MoviePy] >>>> Building video new_video.mp4\n",
            "[MoviePy] Writing audio in new_videoTEMP_MPY_wvf_snd.mp3\n"
          ],
          "name": "stdout"
        },
        {
          "output_type": "stream",
          "text": [
            "100%|██████████| 651/651 [00:00<00:00, 1267.89it/s]"
          ],
          "name": "stderr"
        },
        {
          "output_type": "stream",
          "text": [
            "[MoviePy] Done.\n",
            "[MoviePy] Writing video new_video.mp4\n"
          ],
          "name": "stdout"
        },
        {
          "output_type": "stream",
          "text": [
            "\n",
            "100%|██████████| 886/886 [00:02<00:00, 323.97it/s]\n"
          ],
          "name": "stderr"
        },
        {
          "output_type": "stream",
          "text": [
            "[MoviePy] Done.\n",
            "[MoviePy] >>>> Video ready: new_video.mp4 \n",
            "\n",
            "(3053, 8, 2048)\n",
            "Copy of Normal_Videos211_x264_Trim.mp4\n",
            "(3, 8, 2048)\n",
            "(3056, 8, 2048)\n",
            "[MoviePy] >>>> Building video new_video.mp4\n",
            "[MoviePy] Writing audio in new_videoTEMP_MPY_wvf_snd.mp3\n"
          ],
          "name": "stdout"
        },
        {
          "output_type": "stream",
          "text": [
            "100%|██████████| 675/675 [00:00<00:00, 1336.49it/s]\n"
          ],
          "name": "stderr"
        },
        {
          "output_type": "stream",
          "text": [
            "[MoviePy] Done.\n",
            "[MoviePy] Writing video new_video.mp4\n"
          ],
          "name": "stdout"
        },
        {
          "output_type": "stream",
          "text": [
            "100%|██████████| 918/918 [00:02<00:00, 400.31it/s]"
          ],
          "name": "stderr"
        },
        {
          "output_type": "stream",
          "text": [
            "[MoviePy] Done.\n",
            "[MoviePy] >>>> Video ready: new_video.mp4 \n",
            "\n"
          ],
          "name": "stdout"
        },
        {
          "output_type": "stream",
          "text": [
            "\n"
          ],
          "name": "stderr"
        },
        {
          "output_type": "stream",
          "text": [
            "(3059, 8, 2048)\n",
            "Copy of Normal_Videos199_x264_Trim2.mp4\n",
            "(8, 8, 2048)\n",
            "(3067, 8, 2048)\n",
            "[MoviePy] >>>> Building video new_video.mp4\n",
            "[MoviePy] Writing audio in new_videoTEMP_MPY_wvf_snd.mp3\n"
          ],
          "name": "stdout"
        },
        {
          "output_type": "stream",
          "text": [
            "100%|██████████| 1426/1426 [00:01<00:00, 1370.75it/s]"
          ],
          "name": "stderr"
        },
        {
          "output_type": "stream",
          "text": [
            "[MoviePy] Done.\n",
            "[MoviePy] Writing video new_video.mp4\n"
          ],
          "name": "stdout"
        },
        {
          "output_type": "stream",
          "text": [
            "\n",
            "100%|██████████| 1940/1940 [00:04<00:00, 392.97it/s]"
          ],
          "name": "stderr"
        },
        {
          "output_type": "stream",
          "text": [
            "[MoviePy] Done.\n",
            "[MoviePy] >>>> Video ready: new_video.mp4 \n",
            "\n"
          ],
          "name": "stdout"
        },
        {
          "output_type": "stream",
          "text": [
            "\n"
          ],
          "name": "stderr"
        },
        {
          "output_type": "stream",
          "text": [
            "(3075, 8, 2048)\n",
            "Copy of Normal_Videos201_x264_Trim.mp4\n",
            "(7, 8, 2048)\n",
            "(3082, 8, 2048)\n",
            "[MoviePy] >>>> Building video new_video.mp4\n",
            "[MoviePy] Writing audio in new_videoTEMP_MPY_wvf_snd.mp3\n"
          ],
          "name": "stdout"
        },
        {
          "output_type": "stream",
          "text": [
            "100%|██████████| 1337/1337 [00:00<00:00, 1395.05it/s]"
          ],
          "name": "stderr"
        },
        {
          "output_type": "stream",
          "text": [
            "[MoviePy] Done.\n",
            "[MoviePy] Writing video new_video.mp4\n"
          ],
          "name": "stdout"
        },
        {
          "output_type": "stream",
          "text": [
            "\n",
            "100%|██████████| 1819/1819 [00:04<00:00, 401.33it/s]"
          ],
          "name": "stderr"
        },
        {
          "output_type": "stream",
          "text": [
            "[MoviePy] Done.\n",
            "[MoviePy] >>>> Video ready: new_video.mp4 \n",
            "\n"
          ],
          "name": "stdout"
        },
        {
          "output_type": "stream",
          "text": [
            "\n"
          ],
          "name": "stderr"
        },
        {
          "output_type": "stream",
          "text": [
            "(3089, 8, 2048)\n",
            "Copy of Normal_Videos199_x264_Trim.mp4\n",
            "(3, 8, 2048)\n",
            "(3092, 8, 2048)\n",
            "[MoviePy] >>>> Building video new_video.mp4\n",
            "[MoviePy] Writing audio in new_videoTEMP_MPY_wvf_snd.mp3\n"
          ],
          "name": "stdout"
        },
        {
          "output_type": "stream",
          "text": [
            "100%|██████████| 665/665 [00:00<00:00, 1368.50it/s]"
          ],
          "name": "stderr"
        },
        {
          "output_type": "stream",
          "text": [
            "[MoviePy] Done.\n",
            "[MoviePy] Writing video new_video.mp4\n"
          ],
          "name": "stdout"
        },
        {
          "output_type": "stream",
          "text": [
            "\n",
            "100%|██████████| 904/904 [00:02<00:00, 410.96it/s]"
          ],
          "name": "stderr"
        },
        {
          "output_type": "stream",
          "text": [
            "[MoviePy] Done.\n",
            "[MoviePy] >>>> Video ready: new_video.mp4 \n",
            "\n"
          ],
          "name": "stdout"
        },
        {
          "output_type": "stream",
          "text": [
            "\n"
          ],
          "name": "stderr"
        },
        {
          "output_type": "stream",
          "text": [
            "(3095, 8, 2048)\n",
            "Copy of Normal_Videos202_x264_Trim.mp4\n",
            "(7, 8, 2048)\n",
            "(3102, 8, 2048)\n",
            "[MoviePy] >>>> Building video new_video.mp4\n",
            "[MoviePy] Writing audio in new_videoTEMP_MPY_wvf_snd.mp3\n"
          ],
          "name": "stdout"
        },
        {
          "output_type": "stream",
          "text": [
            "100%|██████████| 1338/1338 [00:00<00:00, 1348.71it/s]"
          ],
          "name": "stderr"
        },
        {
          "output_type": "stream",
          "text": [
            "[MoviePy] Done.\n",
            "[MoviePy] Writing video new_video.mp4\n"
          ],
          "name": "stdout"
        },
        {
          "output_type": "stream",
          "text": [
            "\n",
            "100%|██████████| 1821/1821 [00:04<00:00, 401.18it/s]"
          ],
          "name": "stderr"
        },
        {
          "output_type": "stream",
          "text": [
            "[MoviePy] Done.\n",
            "[MoviePy] >>>> Video ready: new_video.mp4 \n",
            "\n"
          ],
          "name": "stdout"
        },
        {
          "output_type": "stream",
          "text": [
            "\n"
          ],
          "name": "stderr"
        },
        {
          "output_type": "stream",
          "text": [
            "(3109, 8, 2048)\n",
            "Copy of Normal_Videos198_x264_Trim.mp4\n",
            "(7, 8, 2048)\n",
            "(3116, 8, 2048)\n",
            "[MoviePy] >>>> Building video new_video.mp4\n",
            "[MoviePy] Writing audio in new_videoTEMP_MPY_wvf_snd.mp3\n"
          ],
          "name": "stdout"
        },
        {
          "output_type": "stream",
          "text": [
            "100%|██████████| 1342/1342 [00:00<00:00, 1365.14it/s]"
          ],
          "name": "stderr"
        },
        {
          "output_type": "stream",
          "text": [
            "[MoviePy] Done.\n",
            "[MoviePy] Writing video new_video.mp4\n"
          ],
          "name": "stdout"
        },
        {
          "output_type": "stream",
          "text": [
            "\n",
            "100%|██████████| 1825/1825 [00:04<00:00, 374.65it/s]\n"
          ],
          "name": "stderr"
        },
        {
          "output_type": "stream",
          "text": [
            "[MoviePy] Done.\n",
            "[MoviePy] >>>> Video ready: new_video.mp4 \n",
            "\n",
            "(3123, 8, 2048)\n",
            "Copy of Normal_Videos200_x264_Trim.mp4\n",
            "(7, 8, 2048)\n",
            "(3130, 8, 2048)\n",
            "[MoviePy] >>>> Building video new_video.mp4\n",
            "[MoviePy] Writing audio in new_videoTEMP_MPY_wvf_snd.mp3\n"
          ],
          "name": "stdout"
        },
        {
          "output_type": "stream",
          "text": [
            "100%|██████████| 1345/1345 [00:01<00:00, 1180.93it/s]"
          ],
          "name": "stderr"
        },
        {
          "output_type": "stream",
          "text": [
            "[MoviePy] Done.\n",
            "[MoviePy] Writing video new_video.mp4\n"
          ],
          "name": "stdout"
        },
        {
          "output_type": "stream",
          "text": [
            "\n",
            "100%|██████████| 1830/1830 [00:05<00:00, 341.96it/s]\n"
          ],
          "name": "stderr"
        },
        {
          "output_type": "stream",
          "text": [
            "[MoviePy] Done.\n",
            "[MoviePy] >>>> Video ready: new_video.mp4 \n",
            "\n",
            "(3137, 8, 2048)\n",
            "Copy of Normal_Videos205_x264_Trim5.mp4\n",
            "(3, 8, 2048)\n",
            "(3140, 8, 2048)\n",
            "[MoviePy] >>>> Building video new_video.mp4\n",
            "[MoviePy] Writing audio in new_videoTEMP_MPY_wvf_snd.mp3\n"
          ],
          "name": "stdout"
        },
        {
          "output_type": "stream",
          "text": [
            "100%|██████████| 683/683 [00:00<00:00, 1323.02it/s]"
          ],
          "name": "stderr"
        },
        {
          "output_type": "stream",
          "text": [
            "[MoviePy] Done.\n",
            "[MoviePy] Writing video new_video.mp4\n"
          ],
          "name": "stdout"
        },
        {
          "output_type": "stream",
          "text": [
            "\n",
            "100%|██████████| 929/929 [00:02<00:00, 378.05it/s]"
          ],
          "name": "stderr"
        },
        {
          "output_type": "stream",
          "text": [
            "[MoviePy] Done.\n",
            "[MoviePy] >>>> Video ready: new_video.mp4 \n",
            "\n"
          ],
          "name": "stdout"
        },
        {
          "output_type": "stream",
          "text": [
            "\n"
          ],
          "name": "stderr"
        },
        {
          "output_type": "stream",
          "text": [
            "(3143, 8, 2048)\n",
            "Copy of Normal_Videos197_x264_Trim.mp4\n",
            "(7, 8, 2048)\n",
            "(3150, 8, 2048)\n",
            "[MoviePy] >>>> Building video new_video.mp4\n",
            "[MoviePy] Writing audio in new_videoTEMP_MPY_wvf_snd.mp3\n"
          ],
          "name": "stdout"
        },
        {
          "output_type": "stream",
          "text": [
            "100%|██████████| 1334/1334 [00:00<00:00, 1411.00it/s]"
          ],
          "name": "stderr"
        },
        {
          "output_type": "stream",
          "text": [
            "[MoviePy] Done.\n",
            "[MoviePy] Writing video new_video.mp4\n"
          ],
          "name": "stdout"
        },
        {
          "output_type": "stream",
          "text": [
            "\n",
            "100%|██████████| 1815/1815 [00:04<00:00, 366.96it/s]\n"
          ],
          "name": "stderr"
        },
        {
          "output_type": "stream",
          "text": [
            "[MoviePy] Done.\n",
            "[MoviePy] >>>> Video ready: new_video.mp4 \n",
            "\n",
            "(3157, 8, 2048)\n",
            "Copy of Normal_Videos206_x264_Trim.mp4\n",
            "(7, 8, 2048)\n",
            "(3164, 8, 2048)\n",
            "[MoviePy] >>>> Building video new_video.mp4\n",
            "[MoviePy] Writing audio in new_videoTEMP_MPY_wvf_snd.mp3\n"
          ],
          "name": "stdout"
        },
        {
          "output_type": "stream",
          "text": [
            "100%|██████████| 1339/1339 [00:00<00:00, 1387.28it/s]"
          ],
          "name": "stderr"
        },
        {
          "output_type": "stream",
          "text": [
            "[MoviePy] Done.\n",
            "[MoviePy] Writing video new_video.mp4\n"
          ],
          "name": "stdout"
        },
        {
          "output_type": "stream",
          "text": [
            "\n",
            "100%|██████████| 1821/1821 [00:04<00:00, 404.52it/s]\n"
          ],
          "name": "stderr"
        },
        {
          "output_type": "stream",
          "text": [
            "[MoviePy] Done.\n",
            "[MoviePy] >>>> Video ready: new_video.mp4 \n",
            "\n",
            "(3171, 8, 2048)\n",
            "Copy of Normal_Videos207_x264_Trim.mp4\n",
            "(5, 8, 2048)\n",
            "(3176, 8, 2048)\n",
            "[MoviePy] >>>> Building video new_video.mp4\n",
            "[MoviePy] Writing audio in new_videoTEMP_MPY_wvf_snd.mp3\n"
          ],
          "name": "stdout"
        },
        {
          "output_type": "stream",
          "text": [
            "100%|██████████| 899/899 [00:00<00:00, 1382.15it/s]"
          ],
          "name": "stderr"
        },
        {
          "output_type": "stream",
          "text": [
            "[MoviePy] Done.\n",
            "[MoviePy] Writing video new_video.mp4\n"
          ],
          "name": "stdout"
        },
        {
          "output_type": "stream",
          "text": [
            "\n",
            "100%|██████████| 1224/1224 [00:03<00:00, 397.71it/s]"
          ],
          "name": "stderr"
        },
        {
          "output_type": "stream",
          "text": [
            "[MoviePy] Done.\n",
            "[MoviePy] >>>> Video ready: new_video.mp4 \n",
            "\n"
          ],
          "name": "stdout"
        },
        {
          "output_type": "stream",
          "text": [
            "\n"
          ],
          "name": "stderr"
        },
        {
          "output_type": "stream",
          "text": [
            "(3181, 8, 2048)\n",
            "Copy of Normal_Videos205_x264_Trim.mp4\n",
            "(3, 8, 2048)\n",
            "(3184, 8, 2048)\n",
            "[MoviePy] >>>> Building video new_video.mp4\n",
            "[MoviePy] Writing audio in new_videoTEMP_MPY_wvf_snd.mp3\n"
          ],
          "name": "stdout"
        },
        {
          "output_type": "stream",
          "text": [
            "100%|██████████| 669/669 [00:00<00:00, 1348.43it/s]"
          ],
          "name": "stderr"
        },
        {
          "output_type": "stream",
          "text": [
            "[MoviePy] Done.\n",
            "[MoviePy] Writing video new_video.mp4\n"
          ],
          "name": "stdout"
        },
        {
          "output_type": "stream",
          "text": [
            "\n",
            "100%|██████████| 911/911 [00:02<00:00, 403.42it/s]\n"
          ],
          "name": "stderr"
        },
        {
          "output_type": "stream",
          "text": [
            "[MoviePy] Done.\n",
            "[MoviePy] >>>> Video ready: new_video.mp4 \n",
            "\n",
            "(3187, 8, 2048)\n",
            "Copy of Normal_Videos192_x264_Trim.mp4\n",
            "(3, 8, 2048)\n",
            "(3190, 8, 2048)\n",
            "[MoviePy] >>>> Building video new_video.mp4\n",
            "[MoviePy] Writing audio in new_videoTEMP_MPY_wvf_snd.mp3\n"
          ],
          "name": "stdout"
        },
        {
          "output_type": "stream",
          "text": [
            "100%|██████████| 663/663 [00:00<00:00, 1382.14it/s]"
          ],
          "name": "stderr"
        },
        {
          "output_type": "stream",
          "text": [
            "[MoviePy] Done.\n",
            "[MoviePy] Writing video new_video.mp4\n"
          ],
          "name": "stdout"
        },
        {
          "output_type": "stream",
          "text": [
            "\n",
            "100%|██████████| 901/901 [00:02<00:00, 392.74it/s]"
          ],
          "name": "stderr"
        },
        {
          "output_type": "stream",
          "text": [
            "[MoviePy] Done.\n",
            "[MoviePy] >>>> Video ready: new_video.mp4 \n",
            "\n"
          ],
          "name": "stdout"
        },
        {
          "output_type": "stream",
          "text": [
            "\n"
          ],
          "name": "stderr"
        },
        {
          "output_type": "stream",
          "text": [
            "(3193, 8, 2048)\n",
            "Copy of Normal_Videos187_x264_Trim2.mp4\n",
            "(3, 8, 2048)\n",
            "(3196, 8, 2048)\n",
            "[MoviePy] >>>> Building video new_video.mp4\n",
            "[MoviePy] Writing audio in new_videoTEMP_MPY_wvf_snd.mp3\n"
          ],
          "name": "stdout"
        },
        {
          "output_type": "stream",
          "text": [
            "100%|██████████| 671/671 [00:00<00:00, 1411.15it/s]"
          ],
          "name": "stderr"
        },
        {
          "output_type": "stream",
          "text": [
            "[MoviePy] Done.\n",
            "[MoviePy] Writing video new_video.mp4\n"
          ],
          "name": "stdout"
        },
        {
          "output_type": "stream",
          "text": [
            "\n",
            "100%|█████████▉| 912/913 [00:02<00:00, 374.30it/s]\n"
          ],
          "name": "stderr"
        },
        {
          "output_type": "stream",
          "text": [
            "[MoviePy] Done.\n",
            "[MoviePy] >>>> Video ready: new_video.mp4 \n",
            "\n",
            "(3199, 8, 2048)\n",
            "Copy of Normal_Videos191_x264_Trim.mp4\n",
            "(3, 8, 2048)\n",
            "(3202, 8, 2048)\n",
            "[MoviePy] >>>> Building video new_video.mp4\n",
            "[MoviePy] Writing audio in new_videoTEMP_MPY_wvf_snd.mp3\n"
          ],
          "name": "stdout"
        },
        {
          "output_type": "stream",
          "text": [
            "100%|██████████| 666/666 [00:00<00:00, 1334.46it/s]\n"
          ],
          "name": "stderr"
        },
        {
          "output_type": "stream",
          "text": [
            "[MoviePy] Done.\n",
            "[MoviePy] Writing video new_video.mp4\n"
          ],
          "name": "stdout"
        },
        {
          "output_type": "stream",
          "text": [
            "100%|██████████| 905/905 [00:02<00:00, 371.95it/s]\n"
          ],
          "name": "stderr"
        },
        {
          "output_type": "stream",
          "text": [
            "[MoviePy] Done.\n",
            "[MoviePy] >>>> Video ready: new_video.mp4 \n",
            "\n",
            "(3205, 8, 2048)\n",
            "Copy of Normal_Videos195_x264_Trim.mp4\n",
            "(15, 8, 2048)\n",
            "(3220, 8, 2048)\n",
            "[MoviePy] >>>> Building video new_video.mp4\n",
            "[MoviePy] Writing audio in new_videoTEMP_MPY_wvf_snd.mp3\n"
          ],
          "name": "stdout"
        },
        {
          "output_type": "stream",
          "text": [
            "100%|██████████| 2658/2658 [00:01<00:00, 1360.46it/s]"
          ],
          "name": "stderr"
        },
        {
          "output_type": "stream",
          "text": [
            "[MoviePy] Done.\n",
            "[MoviePy] Writing video new_video.mp4\n"
          ],
          "name": "stdout"
        },
        {
          "output_type": "stream",
          "text": [
            "\n",
            "100%|██████████| 3616/3616 [00:09<00:00, 369.31it/s]"
          ],
          "name": "stderr"
        },
        {
          "output_type": "stream",
          "text": [
            "[MoviePy] Done.\n",
            "[MoviePy] >>>> Video ready: new_video.mp4 \n",
            "\n"
          ],
          "name": "stdout"
        },
        {
          "output_type": "stream",
          "text": [
            "\n"
          ],
          "name": "stderr"
        },
        {
          "output_type": "stream",
          "text": [
            "(3235, 8, 2048)\n",
            "Copy of Normal_Videos204_x264.mp4\n",
            "(3, 8, 2048)\n",
            "(3238, 8, 2048)\n",
            "[MoviePy] >>>> Building video new_video.mp4\n",
            "[MoviePy] Writing audio in new_videoTEMP_MPY_wvf_snd.mp3\n"
          ],
          "name": "stdout"
        },
        {
          "output_type": "stream",
          "text": [
            "100%|██████████| 607/607 [00:00<00:00, 2042.71it/s]"
          ],
          "name": "stderr"
        },
        {
          "output_type": "stream",
          "text": [
            "[MoviePy] Done.\n"
          ],
          "name": "stdout"
        },
        {
          "output_type": "stream",
          "text": [
            "\n"
          ],
          "name": "stderr"
        },
        {
          "output_type": "stream",
          "text": [
            "[MoviePy] Writing video new_video.mp4\n"
          ],
          "name": "stdout"
        },
        {
          "output_type": "stream",
          "text": [
            "100%|██████████| 826/826 [00:02<00:00, 382.81it/s]"
          ],
          "name": "stderr"
        },
        {
          "output_type": "stream",
          "text": [
            "[MoviePy] Done.\n",
            "[MoviePy] >>>> Video ready: new_video.mp4 \n",
            "\n"
          ],
          "name": "stdout"
        },
        {
          "output_type": "stream",
          "text": [
            "\n"
          ],
          "name": "stderr"
        },
        {
          "output_type": "stream",
          "text": [
            "(3241, 8, 2048)\n",
            "Copy of Normal_Videos187_x264_Trim.mp4\n",
            "(3, 8, 2048)\n",
            "(3244, 8, 2048)\n",
            "[MoviePy] >>>> Building video new_video.mp4\n",
            "[MoviePy] Writing audio in new_videoTEMP_MPY_wvf_snd.mp3\n"
          ],
          "name": "stdout"
        },
        {
          "output_type": "stream",
          "text": [
            "100%|██████████| 675/675 [00:00<00:00, 1395.48it/s]"
          ],
          "name": "stderr"
        },
        {
          "output_type": "stream",
          "text": [
            "[MoviePy] Done.\n",
            "[MoviePy] Writing video new_video.mp4\n"
          ],
          "name": "stdout"
        },
        {
          "output_type": "stream",
          "text": [
            "\n",
            "100%|██████████| 918/918 [00:02<00:00, 384.39it/s]"
          ],
          "name": "stderr"
        },
        {
          "output_type": "stream",
          "text": [
            "[MoviePy] Done.\n",
            "[MoviePy] >>>> Video ready: new_video.mp4 \n",
            "\n"
          ],
          "name": "stdout"
        },
        {
          "output_type": "stream",
          "text": [
            "\n"
          ],
          "name": "stderr"
        },
        {
          "output_type": "stream",
          "text": [
            "(3247, 8, 2048)\n",
            "Copy of Normal_Videos205_x264_Trim2.mp4\n",
            "(3, 8, 2048)\n",
            "(3250, 8, 2048)\n",
            "[MoviePy] >>>> Building video new_video.mp4\n",
            "[MoviePy] Writing audio in new_videoTEMP_MPY_wvf_snd.mp3\n"
          ],
          "name": "stdout"
        },
        {
          "output_type": "stream",
          "text": [
            "100%|██████████| 669/669 [00:00<00:00, 1429.26it/s]"
          ],
          "name": "stderr"
        },
        {
          "output_type": "stream",
          "text": [
            "[MoviePy] Done.\n",
            "[MoviePy] Writing video new_video.mp4\n"
          ],
          "name": "stdout"
        },
        {
          "output_type": "stream",
          "text": [
            "\n",
            "100%|██████████| 911/911 [00:02<00:00, 387.49it/s]\n"
          ],
          "name": "stderr"
        },
        {
          "output_type": "stream",
          "text": [
            "[MoviePy] Done.\n",
            "[MoviePy] >>>> Video ready: new_video.mp4 \n",
            "\n",
            "(3253, 8, 2048)\n",
            "Copy of Normal_Videos193_x264_Trim.mp4\n",
            "(3, 8, 2048)\n",
            "(3256, 8, 2048)\n",
            "[MoviePy] >>>> Building video new_video.mp4\n",
            "[MoviePy] Writing audio in new_videoTEMP_MPY_wvf_snd.mp3\n"
          ],
          "name": "stdout"
        },
        {
          "output_type": "stream",
          "text": [
            "100%|██████████| 677/677 [00:00<00:00, 1364.24it/s]\n"
          ],
          "name": "stderr"
        },
        {
          "output_type": "stream",
          "text": [
            "[MoviePy] Done.\n",
            "[MoviePy] Writing video new_video.mp4\n"
          ],
          "name": "stdout"
        },
        {
          "output_type": "stream",
          "text": [
            "100%|██████████| 921/921 [00:02<00:00, 383.08it/s]\n"
          ],
          "name": "stderr"
        },
        {
          "output_type": "stream",
          "text": [
            "[MoviePy] Done.\n",
            "[MoviePy] >>>> Video ready: new_video.mp4 \n",
            "\n",
            "(3259, 8, 2048)\n",
            "Copy of Normal_Videos194_x264_Trim.mp4\n",
            "(3, 8, 2048)\n",
            "(3262, 8, 2048)\n",
            "[MoviePy] >>>> Building video new_video.mp4\n",
            "[MoviePy] Writing audio in new_videoTEMP_MPY_wvf_snd.mp3\n"
          ],
          "name": "stdout"
        },
        {
          "output_type": "stream",
          "text": [
            "100%|██████████| 673/673 [00:00<00:00, 1366.76it/s]"
          ],
          "name": "stderr"
        },
        {
          "output_type": "stream",
          "text": [
            "[MoviePy] Done.\n",
            "[MoviePy] Writing video new_video.mp4\n"
          ],
          "name": "stdout"
        },
        {
          "output_type": "stream",
          "text": [
            "\n",
            "100%|██████████| 916/916 [00:02<00:00, 355.63it/s]"
          ],
          "name": "stderr"
        },
        {
          "output_type": "stream",
          "text": [
            "[MoviePy] Done.\n",
            "[MoviePy] >>>> Video ready: new_video.mp4 \n",
            "\n"
          ],
          "name": "stdout"
        },
        {
          "output_type": "stream",
          "text": [
            "\n"
          ],
          "name": "stderr"
        },
        {
          "output_type": "stream",
          "text": [
            "(3265, 8, 2048)\n",
            "Copy of Normal_Videos188_x264_Trim.mp4\n",
            "(3, 8, 2048)\n",
            "(3268, 8, 2048)\n",
            "[MoviePy] >>>> Building video new_video.mp4\n",
            "[MoviePy] Writing audio in new_videoTEMP_MPY_wvf_snd.mp3\n"
          ],
          "name": "stdout"
        },
        {
          "output_type": "stream",
          "text": [
            "100%|██████████| 662/662 [00:00<00:00, 1411.00it/s]"
          ],
          "name": "stderr"
        },
        {
          "output_type": "stream",
          "text": [
            "[MoviePy] Done.\n",
            "[MoviePy] Writing video new_video.mp4\n"
          ],
          "name": "stdout"
        },
        {
          "output_type": "stream",
          "text": [
            "\n",
            "100%|██████████| 901/901 [00:02<00:00, 380.59it/s]"
          ],
          "name": "stderr"
        },
        {
          "output_type": "stream",
          "text": [
            "[MoviePy] Done.\n",
            "[MoviePy] >>>> Video ready: new_video.mp4 \n",
            "\n"
          ],
          "name": "stdout"
        },
        {
          "output_type": "stream",
          "text": [
            "\n"
          ],
          "name": "stderr"
        },
        {
          "output_type": "stream",
          "text": [
            "(3271, 8, 2048)\n",
            "Copy of Normal_Videos186_x264_Trim2.mp4\n",
            "(3, 8, 2048)\n",
            "(3274, 8, 2048)\n",
            "[MoviePy] >>>> Building video new_video.mp4\n",
            "[MoviePy] Writing audio in new_videoTEMP_MPY_wvf_snd.mp3\n"
          ],
          "name": "stdout"
        },
        {
          "output_type": "stream",
          "text": [
            "100%|██████████| 674/674 [00:00<00:00, 1411.69it/s]"
          ],
          "name": "stderr"
        },
        {
          "output_type": "stream",
          "text": [
            "[MoviePy] Done.\n",
            "[MoviePy] Writing video new_video.mp4\n"
          ],
          "name": "stdout"
        },
        {
          "output_type": "stream",
          "text": [
            "\n",
            "100%|██████████| 917/917 [00:02<00:00, 409.77it/s]"
          ],
          "name": "stderr"
        },
        {
          "output_type": "stream",
          "text": [
            "[MoviePy] Done.\n",
            "[MoviePy] >>>> Video ready: new_video.mp4 \n",
            "\n"
          ],
          "name": "stdout"
        },
        {
          "output_type": "stream",
          "text": [
            "\n"
          ],
          "name": "stderr"
        },
        {
          "output_type": "stream",
          "text": [
            "(3277, 8, 2048)\n",
            "Copy of Normal_Videos185_x264_Trim.mp4\n",
            "(3, 8, 2048)\n",
            "(3280, 8, 2048)\n",
            "[MoviePy] >>>> Building video new_video.mp4\n",
            "[MoviePy] Writing audio in new_videoTEMP_MPY_wvf_snd.mp3\n"
          ],
          "name": "stdout"
        },
        {
          "output_type": "stream",
          "text": [
            "100%|██████████| 674/674 [00:00<00:00, 1407.95it/s]"
          ],
          "name": "stderr"
        },
        {
          "output_type": "stream",
          "text": [
            "[MoviePy] Done.\n",
            "[MoviePy] Writing video new_video.mp4\n"
          ],
          "name": "stdout"
        },
        {
          "output_type": "stream",
          "text": [
            "\n",
            "100%|██████████| 916/916 [00:02<00:00, 421.72it/s]"
          ],
          "name": "stderr"
        },
        {
          "output_type": "stream",
          "text": [
            "[MoviePy] Done.\n",
            "[MoviePy] >>>> Video ready: new_video.mp4 \n",
            "\n"
          ],
          "name": "stdout"
        },
        {
          "output_type": "stream",
          "text": [
            "\n"
          ],
          "name": "stderr"
        },
        {
          "output_type": "stream",
          "text": [
            "(3283, 8, 2048)\n",
            "Copy of Normal_Videos190_x264_Trim.mp4\n",
            "(5, 8, 2048)\n",
            "(3288, 8, 2048)\n",
            "[MoviePy] >>>> Building video new_video.mp4\n",
            "[MoviePy] Writing audio in new_videoTEMP_MPY_wvf_snd.mp3\n"
          ],
          "name": "stdout"
        },
        {
          "output_type": "stream",
          "text": [
            "100%|██████████| 897/897 [00:00<00:00, 1162.95it/s]"
          ],
          "name": "stderr"
        },
        {
          "output_type": "stream",
          "text": [
            "[MoviePy] Done.\n",
            "[MoviePy] Writing video new_video.mp4\n"
          ],
          "name": "stdout"
        },
        {
          "output_type": "stream",
          "text": [
            "\n",
            "100%|██████████| 1221/1221 [00:03<00:00, 390.87it/s]"
          ],
          "name": "stderr"
        },
        {
          "output_type": "stream",
          "text": [
            "[MoviePy] Done.\n",
            "[MoviePy] >>>> Video ready: new_video.mp4 \n",
            "\n"
          ],
          "name": "stdout"
        },
        {
          "output_type": "stream",
          "text": [
            "\n"
          ],
          "name": "stderr"
        },
        {
          "output_type": "stream",
          "text": [
            "(3293, 8, 2048)\n",
            "Copy of Normal_Videos179_x264_Trim.mp4\n",
            "(7, 8, 2048)\n",
            "(3300, 8, 2048)\n",
            "[MoviePy] >>>> Building video new_video.mp4\n",
            "[MoviePy] Writing audio in new_videoTEMP_MPY_wvf_snd.mp3\n"
          ],
          "name": "stdout"
        },
        {
          "output_type": "stream",
          "text": [
            "100%|██████████| 1333/1333 [00:00<00:00, 1374.67it/s]"
          ],
          "name": "stderr"
        },
        {
          "output_type": "stream",
          "text": [
            "[MoviePy] Done.\n",
            "[MoviePy] Writing video new_video.mp4\n"
          ],
          "name": "stdout"
        },
        {
          "output_type": "stream",
          "text": [
            "\n",
            "100%|██████████| 1814/1814 [00:04<00:00, 375.09it/s]\n"
          ],
          "name": "stderr"
        },
        {
          "output_type": "stream",
          "text": [
            "[MoviePy] Done.\n",
            "[MoviePy] >>>> Video ready: new_video.mp4 \n",
            "\n",
            "(3307, 8, 2048)\n",
            "Copy of Normal_Videos188_x264_Trim2.mp4\n",
            "(3, 8, 2048)\n",
            "(3310, 8, 2048)\n",
            "[MoviePy] >>>> Building video new_video.mp4\n",
            "[MoviePy] Writing audio in new_videoTEMP_MPY_wvf_snd.mp3\n"
          ],
          "name": "stdout"
        },
        {
          "output_type": "stream",
          "text": [
            "100%|██████████| 674/674 [00:00<00:00, 1385.06it/s]"
          ],
          "name": "stderr"
        },
        {
          "output_type": "stream",
          "text": [
            "[MoviePy] Done.\n",
            "[MoviePy] Writing video new_video.mp4\n"
          ],
          "name": "stdout"
        },
        {
          "output_type": "stream",
          "text": [
            "\n",
            "100%|██████████| 917/917 [00:02<00:00, 372.55it/s]"
          ],
          "name": "stderr"
        },
        {
          "output_type": "stream",
          "text": [
            "[MoviePy] Done.\n",
            "[MoviePy] >>>> Video ready: new_video.mp4 \n",
            "\n"
          ],
          "name": "stdout"
        },
        {
          "output_type": "stream",
          "text": [
            "\n"
          ],
          "name": "stderr"
        },
        {
          "output_type": "stream",
          "text": [
            "(3313, 8, 2048)\n",
            "Copy of Normal_Videos185_x264_Trim2.mp4\n",
            "(3, 8, 2048)\n",
            "(3316, 8, 2048)\n",
            "[MoviePy] >>>> Building video new_video.mp4\n",
            "[MoviePy] Writing audio in new_videoTEMP_MPY_wvf_snd.mp3\n"
          ],
          "name": "stdout"
        },
        {
          "output_type": "stream",
          "text": [
            "100%|██████████| 674/674 [00:00<00:00, 1300.30it/s]"
          ],
          "name": "stderr"
        },
        {
          "output_type": "stream",
          "text": [
            "[MoviePy] Done.\n",
            "[MoviePy] Writing video new_video.mp4\n"
          ],
          "name": "stdout"
        },
        {
          "output_type": "stream",
          "text": [
            "\n",
            "100%|██████████| 916/916 [00:02<00:00, 389.73it/s]\n"
          ],
          "name": "stderr"
        },
        {
          "output_type": "stream",
          "text": [
            "[MoviePy] Done.\n",
            "[MoviePy] >>>> Video ready: new_video.mp4 \n",
            "\n",
            "(3319, 8, 2048)\n",
            "Copy of Normal_Videos184_x264.mp4\n",
            "(8, 8, 2048)\n",
            "(3327, 8, 2048)\n",
            "[MoviePy] >>>> Building video new_video.mp4\n",
            "[MoviePy] Writing audio in new_videoTEMP_MPY_wvf_snd.mp3\n"
          ],
          "name": "stdout"
        },
        {
          "output_type": "stream",
          "text": [
            "100%|██████████| 1418/1418 [00:01<00:00, 1284.95it/s]\n"
          ],
          "name": "stderr"
        },
        {
          "output_type": "stream",
          "text": [
            "[MoviePy] Done.\n",
            "[MoviePy] Writing video new_video.mp4\n"
          ],
          "name": "stdout"
        },
        {
          "output_type": "stream",
          "text": [
            "100%|██████████| 1929/1929 [00:05<00:00, 345.18it/s]"
          ],
          "name": "stderr"
        },
        {
          "output_type": "stream",
          "text": [
            "[MoviePy] Done.\n",
            "[MoviePy] >>>> Video ready: new_video.mp4 \n",
            "\n"
          ],
          "name": "stdout"
        },
        {
          "output_type": "stream",
          "text": [
            "\n"
          ],
          "name": "stderr"
        },
        {
          "output_type": "stream",
          "text": [
            "(3335, 8, 2048)\n",
            "Copy of Normal_Videos178_x264.mp4\n",
            "(4, 8, 2048)\n",
            "(3339, 8, 2048)\n",
            "[MoviePy] >>>> Building video new_video.mp4\n",
            "[MoviePy] Writing audio in new_videoTEMP_MPY_wvf_snd.mp3\n"
          ],
          "name": "stdout"
        },
        {
          "output_type": "stream",
          "text": [
            "100%|██████████| 758/758 [00:00<00:00, 2046.27it/s]"
          ],
          "name": "stderr"
        },
        {
          "output_type": "stream",
          "text": [
            "[MoviePy] Done.\n",
            "[MoviePy] Writing video new_video.mp4\n"
          ],
          "name": "stdout"
        },
        {
          "output_type": "stream",
          "text": [
            "\n",
            "100%|██████████| 1032/1032 [00:02<00:00, 373.01it/s]"
          ],
          "name": "stderr"
        },
        {
          "output_type": "stream",
          "text": [
            "[MoviePy] Done.\n",
            "[MoviePy] >>>> Video ready: new_video.mp4 \n",
            "\n"
          ],
          "name": "stdout"
        },
        {
          "output_type": "stream",
          "text": [
            "\n"
          ],
          "name": "stderr"
        },
        {
          "output_type": "stream",
          "text": [
            "(3343, 8, 2048)\n",
            "Copy of Normal_Videos186_x264_Trim.mp4\n",
            "(3, 8, 2048)\n",
            "(3346, 8, 2048)\n",
            "[MoviePy] >>>> Building video new_video.mp4\n",
            "[MoviePy] Writing audio in new_videoTEMP_MPY_wvf_snd.mp3\n"
          ],
          "name": "stdout"
        },
        {
          "output_type": "stream",
          "text": [
            "100%|██████████| 671/671 [00:00<00:00, 1363.58it/s]"
          ],
          "name": "stderr"
        },
        {
          "output_type": "stream",
          "text": [
            "[MoviePy] Done.\n",
            "[MoviePy] Writing video new_video.mp4\n"
          ],
          "name": "stdout"
        },
        {
          "output_type": "stream",
          "text": [
            "\n",
            "100%|█████████▉| 912/913 [00:02<00:00, 384.41it/s]"
          ],
          "name": "stderr"
        },
        {
          "output_type": "stream",
          "text": [
            "[MoviePy] Done.\n",
            "[MoviePy] >>>> Video ready: new_video.mp4 \n",
            "\n"
          ],
          "name": "stdout"
        },
        {
          "output_type": "stream",
          "text": [
            "\n"
          ],
          "name": "stderr"
        },
        {
          "output_type": "stream",
          "text": [
            "(3349, 8, 2048)\n",
            "Copy of Normal_Videos170_x264.mp4\n",
            "(4, 8, 2048)\n",
            "(3353, 8, 2048)\n",
            "[MoviePy] >>>> Building video new_video.mp4\n",
            "[MoviePy] Writing audio in new_videoTEMP_MPY_wvf_snd.mp3\n"
          ],
          "name": "stdout"
        },
        {
          "output_type": "stream",
          "text": [
            "100%|██████████| 804/804 [00:00<00:00, 1119.59it/s]"
          ],
          "name": "stderr"
        },
        {
          "output_type": "stream",
          "text": [
            "[MoviePy] Done.\n",
            "[MoviePy] Writing video new_video.mp4\n"
          ],
          "name": "stdout"
        },
        {
          "output_type": "stream",
          "text": [
            "\n",
            "100%|██████████| 1093/1093 [00:02<00:00, 428.03it/s]"
          ],
          "name": "stderr"
        },
        {
          "output_type": "stream",
          "text": [
            "[MoviePy] Done.\n",
            "[MoviePy] >>>> Video ready: new_video.mp4 \n",
            "\n"
          ],
          "name": "stdout"
        },
        {
          "output_type": "stream",
          "text": [
            "\n"
          ],
          "name": "stderr"
        },
        {
          "output_type": "stream",
          "text": [
            "(3357, 8, 2048)\n",
            "Copy of Normal_Videos177_x264_Trim3.mp4\n",
            "(3, 8, 2048)\n",
            "(3360, 8, 2048)\n",
            "[MoviePy] >>>> Building video new_video.mp4\n",
            "[MoviePy] Writing audio in new_videoTEMP_MPY_wvf_snd.mp3\n"
          ],
          "name": "stdout"
        },
        {
          "output_type": "stream",
          "text": [
            "100%|██████████| 677/677 [00:00<00:00, 1422.65it/s]"
          ],
          "name": "stderr"
        },
        {
          "output_type": "stream",
          "text": [
            "[MoviePy] Done.\n",
            "[MoviePy] Writing video new_video.mp4\n"
          ],
          "name": "stdout"
        },
        {
          "output_type": "stream",
          "text": [
            "\n",
            "100%|██████████| 921/921 [00:02<00:00, 388.24it/s]"
          ],
          "name": "stderr"
        },
        {
          "output_type": "stream",
          "text": [
            "[MoviePy] Done.\n",
            "[MoviePy] >>>> Video ready: new_video.mp4 \n",
            "\n"
          ],
          "name": "stdout"
        },
        {
          "output_type": "stream",
          "text": [
            "\n"
          ],
          "name": "stderr"
        },
        {
          "output_type": "stream",
          "text": [
            "(3363, 8, 2048)\n",
            "Copy of Normal_Videos177_x264_Trim2.mp4\n",
            "(3, 8, 2048)\n",
            "(3366, 8, 2048)\n",
            "[MoviePy] >>>> Building video new_video.mp4\n",
            "[MoviePy] Writing audio in new_videoTEMP_MPY_wvf_snd.mp3\n"
          ],
          "name": "stdout"
        },
        {
          "output_type": "stream",
          "text": [
            "100%|██████████| 618/618 [00:00<00:00, 1392.93it/s]"
          ],
          "name": "stderr"
        },
        {
          "output_type": "stream",
          "text": [
            "[MoviePy] Done.\n",
            "[MoviePy] Writing video new_video.mp4\n"
          ],
          "name": "stdout"
        },
        {
          "output_type": "stream",
          "text": [
            "\n",
            "100%|██████████| 841/841 [00:02<00:00, 382.41it/s]\n"
          ],
          "name": "stderr"
        },
        {
          "output_type": "stream",
          "text": [
            "[MoviePy] Done.\n",
            "[MoviePy] >>>> Video ready: new_video.mp4 \n",
            "\n",
            "(3369, 8, 2048)\n",
            "Copy of Normal_Videos176_x264_Trim.mp4\n",
            "(7, 8, 2048)\n",
            "(3376, 8, 2048)\n",
            "[MoviePy] >>>> Building video new_video.mp4\n",
            "[MoviePy] Writing audio in new_videoTEMP_MPY_wvf_snd.mp3\n"
          ],
          "name": "stdout"
        },
        {
          "output_type": "stream",
          "text": [
            "100%|██████████| 1325/1325 [00:00<00:00, 1425.94it/s]"
          ],
          "name": "stderr"
        },
        {
          "output_type": "stream",
          "text": [
            "[MoviePy] Done.\n",
            "[MoviePy] Writing video new_video.mp4\n"
          ],
          "name": "stdout"
        },
        {
          "output_type": "stream",
          "text": [
            "\n",
            "100%|██████████| 1802/1802 [00:04<00:00, 405.65it/s]"
          ],
          "name": "stderr"
        },
        {
          "output_type": "stream",
          "text": [
            "[MoviePy] Done.\n",
            "[MoviePy] >>>> Video ready: new_video.mp4 \n",
            "\n"
          ],
          "name": "stdout"
        },
        {
          "output_type": "stream",
          "text": [
            "\n"
          ],
          "name": "stderr"
        },
        {
          "output_type": "stream",
          "text": [
            "(3383, 8, 2048)\n",
            "Copy of Normal_Videos174_x264.mp4\n",
            "(3, 8, 2048)\n",
            "(3386, 8, 2048)\n",
            "[MoviePy] >>>> Building video new_video.mp4\n",
            "[MoviePy] Writing audio in new_videoTEMP_MPY_wvf_snd.mp3\n"
          ],
          "name": "stdout"
        },
        {
          "output_type": "stream",
          "text": [
            "100%|██████████| 682/682 [00:00<00:00, 2066.48it/s]"
          ],
          "name": "stderr"
        },
        {
          "output_type": "stream",
          "text": [
            "[MoviePy] Done.\n",
            "[MoviePy] Writing video new_video.mp4\n"
          ],
          "name": "stdout"
        },
        {
          "output_type": "stream",
          "text": [
            "\n",
            "100%|██████████| 927/927 [00:03<00:00, 296.18it/s]\n"
          ],
          "name": "stderr"
        },
        {
          "output_type": "stream",
          "text": [
            "[MoviePy] Done.\n",
            "[MoviePy] >>>> Video ready: new_video.mp4 \n",
            "\n",
            "(3389, 8, 2048)\n",
            "Copy of Normal_Videos183_x264.mp4\n",
            "(7, 8, 2048)\n",
            "(3396, 8, 2048)\n",
            "[MoviePy] >>>> Building video new_video.mp4\n",
            "[MoviePy] Writing audio in new_videoTEMP_MPY_wvf_snd.mp3\n"
          ],
          "name": "stdout"
        },
        {
          "output_type": "stream",
          "text": [
            "100%|██████████| 1236/1236 [00:00<00:00, 2077.62it/s]"
          ],
          "name": "stderr"
        },
        {
          "output_type": "stream",
          "text": [
            "[MoviePy] Done.\n",
            "[MoviePy] Writing video new_video.mp4\n"
          ],
          "name": "stdout"
        },
        {
          "output_type": "stream",
          "text": [
            "\n",
            "100%|██████████| 1681/1681 [00:05<00:00, 280.61it/s]\n"
          ],
          "name": "stderr"
        },
        {
          "output_type": "stream",
          "text": [
            "[MoviePy] Done.\n",
            "[MoviePy] >>>> Video ready: new_video.mp4 \n",
            "\n",
            "(3403, 8, 2048)\n",
            "Copy of Normal_Videos177_x264_Trim.mp4\n",
            "(7, 8, 2048)\n",
            "(3410, 8, 2048)\n",
            "[MoviePy] >>>> Building video new_video.mp4\n",
            "[MoviePy] Writing audio in new_videoTEMP_MPY_wvf_snd.mp3\n"
          ],
          "name": "stdout"
        },
        {
          "output_type": "stream",
          "text": [
            "100%|██████████| 1333/1333 [00:00<00:00, 1397.45it/s]"
          ],
          "name": "stderr"
        },
        {
          "output_type": "stream",
          "text": [
            "[MoviePy] Done.\n",
            "[MoviePy] Writing video new_video.mp4\n"
          ],
          "name": "stdout"
        },
        {
          "output_type": "stream",
          "text": [
            "\n",
            "100%|██████████| 1813/1813 [00:04<00:00, 363.10it/s]\n"
          ],
          "name": "stderr"
        },
        {
          "output_type": "stream",
          "text": [
            "[MoviePy] Done.\n",
            "[MoviePy] >>>> Video ready: new_video.mp4 \n",
            "\n",
            "(3417, 8, 2048)\n",
            "Copy of Normal_Videos171_x264_Trim.mp4\n",
            "(7, 8, 2048)\n",
            "(3424, 8, 2048)\n",
            "[MoviePy] >>>> Building video new_video.mp4\n",
            "[MoviePy] Writing audio in new_videoTEMP_MPY_wvf_snd.mp3\n"
          ],
          "name": "stdout"
        },
        {
          "output_type": "stream",
          "text": [
            "100%|██████████| 1345/1345 [00:00<00:00, 1357.10it/s]"
          ],
          "name": "stderr"
        },
        {
          "output_type": "stream",
          "text": [
            "[MoviePy] Done.\n",
            "[MoviePy] Writing video new_video.mp4\n"
          ],
          "name": "stdout"
        },
        {
          "output_type": "stream",
          "text": [
            "\n",
            "100%|██████████| 1830/1830 [00:04<00:00, 376.10it/s]"
          ],
          "name": "stderr"
        },
        {
          "output_type": "stream",
          "text": [
            "[MoviePy] Done.\n"
          ],
          "name": "stdout"
        },
        {
          "output_type": "stream",
          "text": [
            "\n"
          ],
          "name": "stderr"
        },
        {
          "output_type": "stream",
          "text": [
            "[MoviePy] >>>> Video ready: new_video.mp4 \n",
            "\n",
            "(3431, 8, 2048)\n",
            "Copy of Normal_Videos180_x264_Trim.mp4\n",
            "(7, 8, 2048)\n",
            "(3438, 8, 2048)\n",
            "[MoviePy] >>>> Building video new_video.mp4\n",
            "[MoviePy] Writing audio in new_videoTEMP_MPY_wvf_snd.mp3\n"
          ],
          "name": "stdout"
        },
        {
          "output_type": "stream",
          "text": [
            "100%|██████████| 1325/1325 [00:00<00:00, 1390.83it/s]"
          ],
          "name": "stderr"
        },
        {
          "output_type": "stream",
          "text": [
            "[MoviePy] Done.\n",
            "[MoviePy] Writing video new_video.mp4\n"
          ],
          "name": "stdout"
        },
        {
          "output_type": "stream",
          "text": [
            "\n",
            "100%|██████████| 1802/1802 [00:04<00:00, 380.83it/s]\n"
          ],
          "name": "stderr"
        },
        {
          "output_type": "stream",
          "text": [
            "[MoviePy] Done.\n",
            "[MoviePy] >>>> Video ready: new_video.mp4 \n",
            "\n",
            "(3445, 8, 2048)\n",
            "Copy of Normal_Videos181_x264_Trim.mp4\n",
            "(7, 8, 2048)\n",
            "(3452, 8, 2048)\n",
            "[MoviePy] >>>> Building video new_video.mp4\n",
            "[MoviePy] Writing audio in new_videoTEMP_MPY_wvf_snd.mp3\n"
          ],
          "name": "stdout"
        },
        {
          "output_type": "stream",
          "text": [
            "100%|██████████| 1335/1335 [00:00<00:00, 1429.88it/s]"
          ],
          "name": "stderr"
        },
        {
          "output_type": "stream",
          "text": [
            "[MoviePy] Done.\n",
            "[MoviePy] Writing video new_video.mp4\n"
          ],
          "name": "stdout"
        },
        {
          "output_type": "stream",
          "text": [
            "\n",
            "100%|██████████| 1816/1816 [00:04<00:00, 390.90it/s]"
          ],
          "name": "stderr"
        },
        {
          "output_type": "stream",
          "text": [
            "[MoviePy] Done.\n",
            "[MoviePy] >>>> Video ready: new_video.mp4 \n",
            "\n"
          ],
          "name": "stdout"
        },
        {
          "output_type": "stream",
          "text": [
            "\n"
          ],
          "name": "stderr"
        },
        {
          "output_type": "stream",
          "text": [
            "(3459, 8, 2048)\n",
            "Copy of Normal_Videos164_x264_Trim2.mp4\n",
            "(7, 8, 2048)\n",
            "(3466, 8, 2048)\n",
            "[MoviePy] >>>> Building video new_video.mp4\n",
            "[MoviePy] Writing audio in new_videoTEMP_MPY_wvf_snd.mp3\n"
          ],
          "name": "stdout"
        },
        {
          "output_type": "stream",
          "text": [
            "100%|██████████| 1333/1333 [00:00<00:00, 1361.38it/s]"
          ],
          "name": "stderr"
        },
        {
          "output_type": "stream",
          "text": [
            "[MoviePy] Done.\n",
            "[MoviePy] Writing video new_video.mp4\n"
          ],
          "name": "stdout"
        },
        {
          "output_type": "stream",
          "text": [
            "\n",
            "100%|██████████| 1814/1814 [00:04<00:00, 376.47it/s]\n"
          ],
          "name": "stderr"
        },
        {
          "output_type": "stream",
          "text": [
            "[MoviePy] Done.\n",
            "[MoviePy] >>>> Video ready: new_video.mp4 \n",
            "\n",
            "(3473, 8, 2048)\n",
            "Copy of Normal_Videos163_x264.mp4\n",
            "(13, 8, 2048)\n",
            "(3486, 8, 2048)\n",
            "[MoviePy] >>>> Building video new_video.mp4\n",
            "[MoviePy] Writing audio in new_videoTEMP_MPY_wvf_snd.mp3\n"
          ],
          "name": "stdout"
        },
        {
          "output_type": "stream",
          "text": [
            "100%|██████████| 2430/2430 [00:01<00:00, 2180.91it/s]"
          ],
          "name": "stderr"
        },
        {
          "output_type": "stream",
          "text": [
            "[MoviePy] Done.\n",
            "[MoviePy] Writing video new_video.mp4\n"
          ],
          "name": "stdout"
        },
        {
          "output_type": "stream",
          "text": [
            "\n",
            "100%|██████████| 3306/3306 [00:09<00:00, 358.23it/s]"
          ],
          "name": "stderr"
        },
        {
          "output_type": "stream",
          "text": [
            "[MoviePy] Done.\n",
            "[MoviePy] >>>> Video ready: new_video.mp4 \n",
            "\n"
          ],
          "name": "stdout"
        },
        {
          "output_type": "stream",
          "text": [
            "\n"
          ],
          "name": "stderr"
        },
        {
          "output_type": "stream",
          "text": [
            "(3499, 8, 2048)\n",
            "Copy of Normal_Videos164_x264_Trim.mp4\n",
            "(7, 8, 2048)\n",
            "(3506, 8, 2048)\n",
            "[MoviePy] >>>> Building video new_video.mp4\n",
            "[MoviePy] Writing audio in new_videoTEMP_MPY_wvf_snd.mp3\n"
          ],
          "name": "stdout"
        },
        {
          "output_type": "stream",
          "text": [
            "100%|██████████| 1333/1333 [00:00<00:00, 1358.78it/s]"
          ],
          "name": "stderr"
        },
        {
          "output_type": "stream",
          "text": [
            "[MoviePy] Done.\n",
            "[MoviePy] Writing video new_video.mp4\n"
          ],
          "name": "stdout"
        },
        {
          "output_type": "stream",
          "text": [
            "\n",
            "100%|██████████| 1813/1813 [00:04<00:00, 376.85it/s]\n"
          ],
          "name": "stderr"
        },
        {
          "output_type": "stream",
          "text": [
            "[MoviePy] Done.\n",
            "[MoviePy] >>>> Video ready: new_video.mp4 \n",
            "\n",
            "(3513, 8, 2048)\n",
            "Copy of Normal_Videos166_x264.mp4\n",
            "(6, 8, 2048)\n",
            "(3519, 8, 2048)\n",
            "[MoviePy] >>>> Building video new_video.mp4\n",
            "[MoviePy] Writing audio in new_videoTEMP_MPY_wvf_snd.mp3\n"
          ],
          "name": "stdout"
        },
        {
          "output_type": "stream",
          "text": [
            "100%|██████████| 1183/1183 [00:00<00:00, 2165.98it/s]"
          ],
          "name": "stderr"
        },
        {
          "output_type": "stream",
          "text": [
            "[MoviePy] Done.\n",
            "[MoviePy] Writing video new_video.mp4\n"
          ],
          "name": "stdout"
        },
        {
          "output_type": "stream",
          "text": [
            "\n",
            "100%|██████████| 1609/1609 [00:04<00:00, 389.58it/s]"
          ],
          "name": "stderr"
        },
        {
          "output_type": "stream",
          "text": [
            "[MoviePy] Done.\n",
            "[MoviePy] >>>> Video ready: new_video.mp4 \n",
            "\n"
          ],
          "name": "stdout"
        },
        {
          "output_type": "stream",
          "text": [
            "\n"
          ],
          "name": "stderr"
        },
        {
          "output_type": "stream",
          "text": [
            "(3525, 8, 2048)\n",
            "Copy of Normal_Videos165_x264.mp4\n",
            "(1, 8, 2048)\n",
            "(3526, 8, 2048)\n",
            "[MoviePy] >>>> Building video new_video.mp4\n",
            "[MoviePy] Writing audio in new_videoTEMP_MPY_wvf_snd.mp3\n"
          ],
          "name": "stdout"
        },
        {
          "output_type": "stream",
          "text": [
            "100%|██████████| 213/213 [00:00<00:00, 2252.56it/s]"
          ],
          "name": "stderr"
        },
        {
          "output_type": "stream",
          "text": [
            "[MoviePy] Done.\n",
            "[MoviePy] Writing video new_video.mp4\n"
          ],
          "name": "stdout"
        },
        {
          "output_type": "stream",
          "text": [
            "\n",
            "100%|██████████| 290/290 [00:00<00:00, 342.41it/s]\n"
          ],
          "name": "stderr"
        },
        {
          "output_type": "stream",
          "text": [
            "[MoviePy] Done.\n",
            "[MoviePy] >>>> Video ready: new_video.mp4 \n",
            "\n",
            "(3527, 8, 2048)\n",
            "Copy of Normal_Videos169_x264.mp4\n",
            "(6, 8, 2048)\n",
            "(3533, 8, 2048)\n",
            "[MoviePy] >>>> Building video new_video.mp4\n",
            "[MoviePy] Writing audio in new_videoTEMP_MPY_wvf_snd.mp3\n"
          ],
          "name": "stdout"
        },
        {
          "output_type": "stream",
          "text": [
            "100%|██████████| 1147/1147 [00:00<00:00, 2142.08it/s]"
          ],
          "name": "stderr"
        },
        {
          "output_type": "stream",
          "text": [
            "[MoviePy] Done.\n",
            "[MoviePy] Writing video new_video.mp4\n"
          ],
          "name": "stdout"
        },
        {
          "output_type": "stream",
          "text": [
            "\n",
            "100%|██████████| 1560/1560 [00:04<00:00, 318.70it/s]"
          ],
          "name": "stderr"
        },
        {
          "output_type": "stream",
          "text": [
            "[MoviePy] Done.\n",
            "[MoviePy] >>>> Video ready: new_video.mp4 \n",
            "\n"
          ],
          "name": "stdout"
        },
        {
          "output_type": "stream",
          "text": [
            "\n"
          ],
          "name": "stderr"
        },
        {
          "output_type": "stream",
          "text": [
            "(3539, 8, 2048)\n",
            "Copy of Normal_Videos171_x264_Trim2.mp4\n",
            "(7, 8, 2048)\n",
            "(3546, 8, 2048)\n",
            "[MoviePy] >>>> Building video new_video.mp4\n",
            "[MoviePy] Writing audio in new_videoTEMP_MPY_wvf_snd.mp3\n"
          ],
          "name": "stdout"
        },
        {
          "output_type": "stream",
          "text": [
            "100%|██████████| 1330/1330 [00:00<00:00, 1352.08it/s]"
          ],
          "name": "stderr"
        },
        {
          "output_type": "stream",
          "text": [
            "[MoviePy] Done.\n",
            "[MoviePy] Writing video new_video.mp4\n"
          ],
          "name": "stdout"
        },
        {
          "output_type": "stream",
          "text": [
            "\n",
            "100%|██████████| 1810/1810 [00:04<00:00, 398.33it/s]"
          ],
          "name": "stderr"
        },
        {
          "output_type": "stream",
          "text": [
            "[MoviePy] Done.\n",
            "[MoviePy] >>>> Video ready: new_video.mp4 \n",
            "\n"
          ],
          "name": "stdout"
        },
        {
          "output_type": "stream",
          "text": [
            "\n"
          ],
          "name": "stderr"
        },
        {
          "output_type": "stream",
          "text": [
            "(3553, 8, 2048)\n",
            "Copy of Normal_Videos172_x264_Trim.mp4\n",
            "(7, 8, 2048)\n",
            "(3560, 8, 2048)\n",
            "[MoviePy] >>>> Building video new_video.mp4\n",
            "[MoviePy] Writing audio in new_videoTEMP_MPY_wvf_snd.mp3\n"
          ],
          "name": "stdout"
        },
        {
          "output_type": "stream",
          "text": [
            "100%|██████████| 1330/1330 [00:00<00:00, 1418.92it/s]"
          ],
          "name": "stderr"
        },
        {
          "output_type": "stream",
          "text": [
            "[MoviePy] Done.\n",
            "[MoviePy] Writing video new_video.mp4\n"
          ],
          "name": "stdout"
        },
        {
          "output_type": "stream",
          "text": [
            "\n",
            "100%|██████████| 1810/1810 [00:04<00:00, 385.63it/s]\n"
          ],
          "name": "stderr"
        },
        {
          "output_type": "stream",
          "text": [
            "[MoviePy] Done.\n",
            "[MoviePy] >>>> Video ready: new_video.mp4 \n",
            "\n",
            "(3567, 8, 2048)\n",
            "Copy of Normal_Videos167_x264.mp4\n",
            "(6, 8, 2048)\n",
            "(3573, 8, 2048)\n",
            "[MoviePy] >>>> Building video new_video.mp4\n",
            "[MoviePy] Writing audio in new_videoTEMP_MPY_wvf_snd.mp3\n"
          ],
          "name": "stdout"
        },
        {
          "output_type": "stream",
          "text": [
            "100%|██████████| 1163/1163 [00:00<00:00, 2101.22it/s]"
          ],
          "name": "stderr"
        },
        {
          "output_type": "stream",
          "text": [
            "[MoviePy] Done.\n",
            "[MoviePy] Writing video new_video.mp4\n"
          ],
          "name": "stdout"
        },
        {
          "output_type": "stream",
          "text": [
            "\n",
            "100%|██████████| 1582/1582 [00:03<00:00, 410.11it/s]\n"
          ],
          "name": "stderr"
        },
        {
          "output_type": "stream",
          "text": [
            "[MoviePy] Done.\n",
            "[MoviePy] >>>> Video ready: new_video.mp4 \n",
            "\n",
            "(3579, 8, 2048)\n",
            "Copy of Normal_Videos173_x264.mp4\n",
            "(2, 8, 2048)\n",
            "(3581, 8, 2048)\n",
            "[MoviePy] >>>> Building video new_video.mp4\n",
            "[MoviePy] Writing audio in new_videoTEMP_MPY_wvf_snd.mp3\n"
          ],
          "name": "stdout"
        },
        {
          "output_type": "stream",
          "text": [
            "100%|██████████| 443/443 [00:00<00:00, 2091.31it/s]"
          ],
          "name": "stderr"
        },
        {
          "output_type": "stream",
          "text": [
            "[MoviePy] Done.\n",
            "[MoviePy] Writing video new_video.mp4\n"
          ],
          "name": "stdout"
        },
        {
          "output_type": "stream",
          "text": [
            "\n",
            "100%|██████████| 603/603 [00:01<00:00, 354.76it/s]\n"
          ],
          "name": "stderr"
        },
        {
          "output_type": "stream",
          "text": [
            "[MoviePy] Done.\n",
            "[MoviePy] >>>> Video ready: new_video.mp4 \n",
            "\n",
            "(3583, 8, 2048)\n"
          ],
          "name": "stdout"
        }
      ]
    },
    {
      "cell_type": "code",
      "metadata": {
        "id": "gBoBxmFFID9b",
        "colab_type": "code",
        "colab": {}
      },
      "source": [
        "labels_encoded_val = np_utils.to_categorical(labels_val)"
      ],
      "execution_count": null,
      "outputs": []
    },
    {
      "cell_type": "code",
      "metadata": {
        "id": "snQtuv7iIRnh",
        "colab_type": "code",
        "colab": {}
      },
      "source": [
        "pickle_out=open('/content/drive1/My Drive/Validation_Set_values1.pickle',\"wb\")\n",
        "pickle.dump(transfer_values_val, pickle_out)\n",
        "pickle_out.close()\n",
        "\n",
        "pickle_out=open('/content/drive1/My Drive/Validation_Set_labels1.pickle',\"wb\")\n",
        "pickle.dump(labels_encoded_val, pickle_out)\n",
        "pickle_out.close()"
      ],
      "execution_count": null,
      "outputs": []
    },
    {
      "cell_type": "code",
      "metadata": {
        "id": "Oc_bdBeAGnnr",
        "colab_type": "code",
        "colab": {
          "base_uri": "https://localhost:8080/",
          "height": 1000
        },
        "outputId": "4a357e6c-9864-4e7c-ced5-4d25e9ecd0c0"
      },
      "source": [
        "labels_test=[]\n",
        "transfer_values_test=[]\n",
        "\n",
        "p=path[2]\n",
        "dir_list=os.listdir(p)\n",
        "for dl in dir_list:\n",
        "    print(str(dl))\n",
        "    for lab in labels:\n",
        "      if re.search(lab,str(dl))!=None:\n",
        "        if lab=='Normal':\n",
        "          label=lab\n",
        "          break\n",
        "        else:\n",
        "          label='Anomaly'\n",
        "          break\n",
        "    features, l=video_frame(p+'/'+str(dl),label)\n",
        "    labels_test.extend(l)\n",
        "    print(np.array(features).shape)\n",
        "    transfer_values_test.extend(np.array(features))\n",
        "    print(np.array(transfer_values_test).shape)\n",
        "\n",
        "    #flip the video\n",
        "    if str(dl) not in ignore:\n",
        "      clip = VideoFileClip(p+'/'+str(dl))\n",
        "      reversed_clip = clip.fx(vfx.mirror_x)\n",
        "      reversed_clip.write_videofile('new_video.mp4')\n",
        "      features, l=video_frame('new_video.mp4',label)\n",
        "      transfer_values_test.extend(np.array(features))\n",
        "      labels_test.extend(l)\n",
        "      print(np.array(transfer_values_test).shape)"
      ],
      "execution_count": null,
      "outputs": [
        {
          "output_type": "stream",
          "text": [
            "Abuse042.mp4\n",
            "(10, 8, 2048)\n",
            "(10, 8, 2048)\n",
            "[MoviePy] >>>> Building video new_video.mp4\n",
            "[MoviePy] Writing audio in new_videoTEMP_MPY_wvf_snd.mp3\n"
          ],
          "name": "stdout"
        },
        {
          "output_type": "stream",
          "text": [
            "100%|██████████| 1760/1760 [00:01<00:00, 1364.76it/s]"
          ],
          "name": "stderr"
        },
        {
          "output_type": "stream",
          "text": [
            "[MoviePy] Done.\n",
            "[MoviePy] Writing video new_video.mp4\n"
          ],
          "name": "stdout"
        },
        {
          "output_type": "stream",
          "text": [
            "\n",
            "100%|██████████| 2395/2395 [00:07<00:00, 332.22it/s]"
          ],
          "name": "stderr"
        },
        {
          "output_type": "stream",
          "text": [
            "[MoviePy] Done.\n",
            "[MoviePy] >>>> Video ready: new_video.mp4 \n",
            "\n"
          ],
          "name": "stdout"
        },
        {
          "output_type": "stream",
          "text": [
            "\n"
          ],
          "name": "stderr"
        },
        {
          "output_type": "stream",
          "text": [
            "(20, 8, 2048)\n",
            "Abuse043.mp4\n",
            "(15, 8, 2048)\n",
            "(35, 8, 2048)\n",
            "[MoviePy] >>>> Building video new_video.mp4\n",
            "[MoviePy] Writing audio in new_videoTEMP_MPY_wvf_snd.mp3\n"
          ],
          "name": "stdout"
        },
        {
          "output_type": "stream",
          "text": [
            "100%|██████████| 2787/2787 [00:02<00:00, 1266.47it/s]"
          ],
          "name": "stderr"
        },
        {
          "output_type": "stream",
          "text": [
            "[MoviePy] Done.\n",
            "[MoviePy] Writing video new_video.mp4\n"
          ],
          "name": "stdout"
        },
        {
          "output_type": "stream",
          "text": [
            "\n",
            "100%|██████████| 3792/3792 [00:12<00:00, 312.61it/s]\n"
          ],
          "name": "stderr"
        },
        {
          "output_type": "stream",
          "text": [
            "[MoviePy] Done.\n",
            "[MoviePy] >>>> Video ready: new_video.mp4 \n",
            "\n",
            "(50, 8, 2048)\n",
            "Abuse045.mp4\n",
            "(19, 8, 2048)\n",
            "(69, 8, 2048)\n",
            "[MoviePy] >>>> Building video new_video.mp4\n",
            "[MoviePy] Writing audio in new_videoTEMP_MPY_wvf_snd.mp3\n"
          ],
          "name": "stdout"
        },
        {
          "output_type": "stream",
          "text": [
            "100%|██████████| 3482/3482 [00:02<00:00, 1406.46it/s]"
          ],
          "name": "stderr"
        },
        {
          "output_type": "stream",
          "text": [
            "[MoviePy] Done.\n",
            "[MoviePy] Writing video new_video.mp4\n"
          ],
          "name": "stdout"
        },
        {
          "output_type": "stream",
          "text": [
            "\n",
            "100%|██████████| 4738/4738 [00:12<00:00, 387.10it/s]"
          ],
          "name": "stderr"
        },
        {
          "output_type": "stream",
          "text": [
            "[MoviePy] Done.\n",
            "[MoviePy] >>>> Video ready: new_video.mp4 \n",
            "\n"
          ],
          "name": "stdout"
        },
        {
          "output_type": "stream",
          "text": [
            "\n"
          ],
          "name": "stderr"
        },
        {
          "output_type": "stream",
          "text": [
            "(88, 8, 2048)\n",
            "Abuse046.mp4\n",
            "(4, 8, 2048)\n",
            "(92, 8, 2048)\n",
            "[MoviePy] >>>> Building video new_video.mp4\n",
            "[MoviePy] Writing audio in new_videoTEMP_MPY_wvf_snd.mp3\n"
          ],
          "name": "stdout"
        },
        {
          "output_type": "stream",
          "text": [
            "100%|██████████| 830/830 [00:00<00:00, 1391.49it/s]"
          ],
          "name": "stderr"
        },
        {
          "output_type": "stream",
          "text": [
            "[MoviePy] Done.\n"
          ],
          "name": "stdout"
        },
        {
          "output_type": "stream",
          "text": [
            "\n"
          ],
          "name": "stderr"
        },
        {
          "output_type": "stream",
          "text": [
            "[MoviePy] Writing video new_video.mp4\n"
          ],
          "name": "stdout"
        },
        {
          "output_type": "stream",
          "text": [
            "100%|██████████| 1129/1129 [00:02<00:00, 381.59it/s]\n"
          ],
          "name": "stderr"
        },
        {
          "output_type": "stream",
          "text": [
            "[MoviePy] Done.\n",
            "[MoviePy] >>>> Video ready: new_video.mp4 \n",
            "\n",
            "(96, 8, 2048)\n",
            "Abuse047.mp4\n",
            "(6, 8, 2048)\n",
            "(102, 8, 2048)\n",
            "[MoviePy] >>>> Building video new_video.mp4\n",
            "[MoviePy] Writing audio in new_videoTEMP_MPY_wvf_snd.mp3\n"
          ],
          "name": "stdout"
        },
        {
          "output_type": "stream",
          "text": [
            "100%|██████████| 1142/1142 [00:00<00:00, 1364.45it/s]"
          ],
          "name": "stderr"
        },
        {
          "output_type": "stream",
          "text": [
            "[MoviePy] Done.\n",
            "[MoviePy] Writing video new_video.mp4\n"
          ],
          "name": "stdout"
        },
        {
          "output_type": "stream",
          "text": [
            "\n",
            "100%|██████████| 1553/1553 [00:04<00:00, 384.21it/s]"
          ],
          "name": "stderr"
        },
        {
          "output_type": "stream",
          "text": [
            "[MoviePy] Done.\n",
            "[MoviePy] >>>> Video ready: new_video.mp4 \n",
            "\n"
          ],
          "name": "stdout"
        },
        {
          "output_type": "stream",
          "text": [
            "\n"
          ],
          "name": "stderr"
        },
        {
          "output_type": "stream",
          "text": [
            "(108, 8, 2048)\n",
            "Abuse048.mp4\n",
            "(13, 8, 2048)\n",
            "(121, 8, 2048)\n",
            "[MoviePy] >>>> Building video new_video.mp4\n",
            "[MoviePy] Writing audio in new_videoTEMP_MPY_wvf_snd.mp3\n"
          ],
          "name": "stdout"
        },
        {
          "output_type": "stream",
          "text": [
            "100%|██████████| 2447/2447 [00:01<00:00, 1388.55it/s]"
          ],
          "name": "stderr"
        },
        {
          "output_type": "stream",
          "text": [
            "[MoviePy] Done.\n",
            "[MoviePy] Writing video new_video.mp4\n"
          ],
          "name": "stdout"
        },
        {
          "output_type": "stream",
          "text": [
            "\n",
            "100%|██████████| 3328/3328 [00:09<00:00, 339.14it/s]"
          ],
          "name": "stderr"
        },
        {
          "output_type": "stream",
          "text": [
            "[MoviePy] Done.\n",
            "[MoviePy] >>>> Video ready: new_video.mp4 \n",
            "\n"
          ],
          "name": "stdout"
        },
        {
          "output_type": "stream",
          "text": [
            "\n"
          ],
          "name": "stderr"
        },
        {
          "output_type": "stream",
          "text": [
            "(134, 8, 2048)\n",
            "Abuse049.mp4\n",
            "(6, 8, 2048)\n",
            "(140, 8, 2048)\n",
            "[MoviePy] >>>> Building video new_video.mp4\n",
            "[MoviePy] Writing audio in new_videoTEMP_MPY_wvf_snd.mp3\n"
          ],
          "name": "stdout"
        },
        {
          "output_type": "stream",
          "text": [
            "100%|██████████| 1169/1169 [00:01<00:00, 984.04it/s]"
          ],
          "name": "stderr"
        },
        {
          "output_type": "stream",
          "text": [
            "[MoviePy] Done.\n",
            "[MoviePy] Writing video new_video.mp4\n"
          ],
          "name": "stdout"
        },
        {
          "output_type": "stream",
          "text": [
            "\n",
            "100%|█████████▉| 1590/1591 [00:04<00:00, 345.28it/s]\n"
          ],
          "name": "stderr"
        },
        {
          "output_type": "stream",
          "text": [
            "[MoviePy] Done.\n",
            "[MoviePy] >>>> Video ready: new_video.mp4 \n",
            "\n",
            "(146, 8, 2048)\n",
            "Abuse050.mp4\n",
            "(6, 8, 2048)\n",
            "(152, 8, 2048)\n",
            "[MoviePy] >>>> Building video new_video.mp4\n",
            "[MoviePy] Writing audio in new_videoTEMP_MPY_wvf_snd.mp3\n"
          ],
          "name": "stdout"
        },
        {
          "output_type": "stream",
          "text": [
            "100%|██████████| 1058/1058 [00:00<00:00, 1371.58it/s]"
          ],
          "name": "stderr"
        },
        {
          "output_type": "stream",
          "text": [
            "[MoviePy] Done.\n",
            "[MoviePy] Writing video new_video.mp4\n"
          ],
          "name": "stdout"
        },
        {
          "output_type": "stream",
          "text": [
            "\n",
            "100%|██████████| 1439/1439 [00:04<00:00, 299.19it/s]"
          ],
          "name": "stderr"
        },
        {
          "output_type": "stream",
          "text": [
            "[MoviePy] Done.\n",
            "[MoviePy] >>>> Video ready: new_video.mp4 \n",
            "\n"
          ],
          "name": "stdout"
        },
        {
          "output_type": "stream",
          "text": [
            "\n"
          ],
          "name": "stderr"
        },
        {
          "output_type": "stream",
          "text": [
            "(158, 8, 2048)\n",
            "Arson041.mp4\n",
            "(7, 8, 2048)\n",
            "(165, 8, 2048)\n",
            "[MoviePy] >>>> Building video new_video.mp4\n",
            "[MoviePy] Writing audio in new_videoTEMP_MPY_wvf_snd.mp3\n"
          ],
          "name": "stdout"
        },
        {
          "output_type": "stream",
          "text": [
            "100%|██████████| 1266/1266 [00:00<00:00, 1433.29it/s]"
          ],
          "name": "stderr"
        },
        {
          "output_type": "stream",
          "text": [
            "[MoviePy] Done.\n",
            "[MoviePy] Writing video new_video.mp4\n"
          ],
          "name": "stdout"
        },
        {
          "output_type": "stream",
          "text": [
            "\n",
            "100%|██████████| 1722/1722 [00:04<00:00, 364.34it/s]\n"
          ],
          "name": "stderr"
        },
        {
          "output_type": "stream",
          "text": [
            "[MoviePy] Done.\n",
            "[MoviePy] >>>> Video ready: new_video.mp4 \n",
            "\n",
            "(172, 8, 2048)\n",
            "Arson042.mp4\n",
            "(10, 8, 2048)\n",
            "(182, 8, 2048)\n",
            "[MoviePy] >>>> Building video new_video.mp4\n",
            "[MoviePy] Writing audio in new_videoTEMP_MPY_wvf_snd.mp3\n"
          ],
          "name": "stdout"
        },
        {
          "output_type": "stream",
          "text": [
            "100%|██████████| 1834/1834 [00:01<00:00, 1362.65it/s]"
          ],
          "name": "stderr"
        },
        {
          "output_type": "stream",
          "text": [
            "[MoviePy] Done.\n",
            "[MoviePy] Writing video new_video.mp4\n"
          ],
          "name": "stdout"
        },
        {
          "output_type": "stream",
          "text": [
            "\n",
            "100%|██████████| 2495/2495 [00:06<00:00, 379.48it/s]\n"
          ],
          "name": "stderr"
        },
        {
          "output_type": "stream",
          "text": [
            "[MoviePy] Done.\n",
            "[MoviePy] >>>> Video ready: new_video.mp4 \n",
            "\n",
            "(192, 8, 2048)\n",
            "Arson044.mp4\n",
            "(4, 8, 2048)\n",
            "(196, 8, 2048)\n",
            "[MoviePy] >>>> Building video new_video.mp4\n",
            "[MoviePy] Writing audio in new_videoTEMP_MPY_wvf_snd.mp3\n"
          ],
          "name": "stdout"
        },
        {
          "output_type": "stream",
          "text": [
            "100%|██████████| 857/857 [00:00<00:00, 1041.48it/s]"
          ],
          "name": "stderr"
        },
        {
          "output_type": "stream",
          "text": [
            "[MoviePy] Done.\n",
            "[MoviePy] Writing video new_video.mp4\n"
          ],
          "name": "stdout"
        },
        {
          "output_type": "stream",
          "text": [
            "\n",
            "100%|██████████| 1165/1165 [00:03<00:00, 368.21it/s]"
          ],
          "name": "stderr"
        },
        {
          "output_type": "stream",
          "text": [
            "[MoviePy] Done.\n",
            "[MoviePy] >>>> Video ready: new_video.mp4 \n",
            "\n"
          ],
          "name": "stdout"
        },
        {
          "output_type": "stream",
          "text": [
            "\n"
          ],
          "name": "stderr"
        },
        {
          "output_type": "stream",
          "text": [
            "(200, 8, 2048)\n",
            "Arson045.mp4\n",
            "(14, 8, 2048)\n",
            "(214, 8, 2048)\n",
            "[MoviePy] >>>> Building video new_video.mp4\n",
            "[MoviePy] Writing audio in new_videoTEMP_MPY_wvf_snd.mp3\n"
          ],
          "name": "stdout"
        },
        {
          "output_type": "stream",
          "text": [
            "100%|██████████| 2471/2471 [00:01<00:00, 1391.07it/s]"
          ],
          "name": "stderr"
        },
        {
          "output_type": "stream",
          "text": [
            "[MoviePy] Done.\n",
            "[MoviePy] Writing video new_video.mp4\n"
          ],
          "name": "stdout"
        },
        {
          "output_type": "stream",
          "text": [
            "\n",
            "100%|██████████| 3362/3362 [00:09<00:00, 364.23it/s]\n"
          ],
          "name": "stderr"
        },
        {
          "output_type": "stream",
          "text": [
            "[MoviePy] Done.\n",
            "[MoviePy] >>>> Video ready: new_video.mp4 \n",
            "\n",
            "(228, 8, 2048)\n",
            "Arson046.mp4\n",
            "(8, 8, 2048)\n",
            "(236, 8, 2048)\n",
            "[MoviePy] >>>> Building video new_video.mp4\n",
            "[MoviePy] Writing audio in new_videoTEMP_MPY_wvf_snd.mp3\n"
          ],
          "name": "stdout"
        },
        {
          "output_type": "stream",
          "text": [
            "100%|██████████| 1391/1391 [00:00<00:00, 1403.83it/s]"
          ],
          "name": "stderr"
        },
        {
          "output_type": "stream",
          "text": [
            "[MoviePy] Done.\n",
            "[MoviePy] Writing video new_video.mp4\n"
          ],
          "name": "stdout"
        },
        {
          "output_type": "stream",
          "text": [
            "\n",
            "100%|██████████| 1892/1892 [00:05<00:00, 372.51it/s]\n"
          ],
          "name": "stderr"
        },
        {
          "output_type": "stream",
          "text": [
            "[MoviePy] Done.\n",
            "[MoviePy] >>>> Video ready: new_video.mp4 \n",
            "\n",
            "(244, 8, 2048)\n",
            "Arson047.mp4\n",
            "(4, 8, 2048)\n",
            "(248, 8, 2048)\n",
            "[MoviePy] >>>> Building video new_video.mp4\n",
            "[MoviePy] Writing audio in new_videoTEMP_MPY_wvf_snd.mp3\n"
          ],
          "name": "stdout"
        },
        {
          "output_type": "stream",
          "text": [
            "100%|██████████| 779/779 [00:01<00:00, 721.03it/s]"
          ],
          "name": "stderr"
        },
        {
          "output_type": "stream",
          "text": [
            "[MoviePy] Done.\n",
            "[MoviePy] Writing video new_video.mp4\n"
          ],
          "name": "stdout"
        },
        {
          "output_type": "stream",
          "text": [
            "\n",
            "100%|██████████| 1060/1060 [00:03<00:00, 332.87it/s]\n"
          ],
          "name": "stderr"
        },
        {
          "output_type": "stream",
          "text": [
            "[MoviePy] Done.\n",
            "[MoviePy] >>>> Video ready: new_video.mp4 \n",
            "\n",
            "(252, 8, 2048)\n",
            "Arson050.mp4\n",
            "(6, 8, 2048)\n",
            "(258, 8, 2048)\n",
            "[MoviePy] >>>> Building video new_video.mp4\n",
            "[MoviePy] Writing audio in new_videoTEMP_MPY_wvf_snd.mp3\n"
          ],
          "name": "stdout"
        },
        {
          "output_type": "stream",
          "text": [
            "100%|██████████| 1060/1060 [00:00<00:00, 1430.57it/s]"
          ],
          "name": "stderr"
        },
        {
          "output_type": "stream",
          "text": [
            "[MoviePy] Done.\n",
            "[MoviePy] Writing video new_video.mp4\n"
          ],
          "name": "stdout"
        },
        {
          "output_type": "stream",
          "text": [
            "\n",
            "100%|██████████| 1441/1441 [00:04<00:00, 319.95it/s]"
          ],
          "name": "stderr"
        },
        {
          "output_type": "stream",
          "text": [
            "[MoviePy] Done.\n",
            "[MoviePy] >>>> Video ready: new_video.mp4 \n",
            "\n"
          ],
          "name": "stdout"
        },
        {
          "output_type": "stream",
          "text": [
            "\n"
          ],
          "name": "stderr"
        },
        {
          "output_type": "stream",
          "text": [
            "(264, 8, 2048)\n",
            "Arson051.mp4\n",
            "(3, 8, 2048)\n",
            "(267, 8, 2048)\n",
            "[MoviePy] >>>> Building video new_video.mp4\n",
            "[MoviePy] Writing audio in new_videoTEMP_MPY_wvf_snd.mp3\n"
          ],
          "name": "stdout"
        },
        {
          "output_type": "stream",
          "text": [
            "100%|██████████| 656/656 [00:00<00:00, 899.32it/s]"
          ],
          "name": "stderr"
        },
        {
          "output_type": "stream",
          "text": [
            "[MoviePy] Done.\n",
            "[MoviePy] Writing video new_video.mp4\n"
          ],
          "name": "stdout"
        },
        {
          "output_type": "stream",
          "text": [
            "\n",
            "100%|██████████| 893/893 [00:02<00:00, 340.72it/s]"
          ],
          "name": "stderr"
        },
        {
          "output_type": "stream",
          "text": [
            "[MoviePy] Done.\n",
            "[MoviePy] >>>> Video ready: new_video.mp4 \n",
            "\n"
          ],
          "name": "stdout"
        },
        {
          "output_type": "stream",
          "text": [
            "\n"
          ],
          "name": "stderr"
        },
        {
          "output_type": "stream",
          "text": [
            "(270, 8, 2048)\n",
            "Arson053.mp4\n",
            "(10, 8, 2048)\n",
            "(280, 8, 2048)\n",
            "[MoviePy] >>>> Building video new_video.mp4\n",
            "[MoviePy] Writing audio in new_videoTEMP_MPY_wvf_snd.mp3\n"
          ],
          "name": "stdout"
        },
        {
          "output_type": "stream",
          "text": [
            "100%|██████████| 1835/1835 [00:01<00:00, 920.14it/s]"
          ],
          "name": "stderr"
        },
        {
          "output_type": "stream",
          "text": [
            "[MoviePy] Done.\n",
            "[MoviePy] Writing video new_video.mp4\n"
          ],
          "name": "stdout"
        },
        {
          "output_type": "stream",
          "text": [
            "\n",
            "100%|██████████| 2496/2496 [00:08<00:00, 299.14it/s]\n"
          ],
          "name": "stderr"
        },
        {
          "output_type": "stream",
          "text": [
            "[MoviePy] Done.\n",
            "[MoviePy] >>>> Video ready: new_video.mp4 \n",
            "\n",
            "(290, 8, 2048)\n",
            "Assault037.mp4\n",
            "(11, 8, 2048)\n",
            "(301, 8, 2048)\n",
            "[MoviePy] >>>> Building video new_video.mp4\n",
            "[MoviePy] Writing audio in new_videoTEMP_MPY_wvf_snd.mp3\n"
          ],
          "name": "stdout"
        },
        {
          "output_type": "stream",
          "text": [
            "100%|██████████| 2064/2064 [00:01<00:00, 1402.60it/s]"
          ],
          "name": "stderr"
        },
        {
          "output_type": "stream",
          "text": [
            "[MoviePy] Done.\n",
            "[MoviePy] Writing video new_video.mp4\n"
          ],
          "name": "stdout"
        },
        {
          "output_type": "stream",
          "text": [
            "\n",
            "100%|██████████| 2808/2808 [00:08<00:00, 346.67it/s]\n"
          ],
          "name": "stderr"
        },
        {
          "output_type": "stream",
          "text": [
            "[MoviePy] Done.\n",
            "[MoviePy] >>>> Video ready: new_video.mp4 \n",
            "\n",
            "(312, 8, 2048)\n",
            "Assault038.mp4\n",
            "(0,)\n",
            "(312, 8, 2048)\n",
            "[MoviePy] >>>> Building video new_video.mp4\n",
            "[MoviePy] Writing audio in new_videoTEMP_MPY_wvf_snd.mp3\n"
          ],
          "name": "stdout"
        },
        {
          "output_type": "stream",
          "text": [
            "100%|██████████| 103/103 [00:00<00:00, 2043.17it/s]"
          ],
          "name": "stderr"
        },
        {
          "output_type": "stream",
          "text": [
            "[MoviePy] Done.\n",
            "[MoviePy] Writing video new_video.mp4\n"
          ],
          "name": "stdout"
        },
        {
          "output_type": "stream",
          "text": [
            "\n",
            "100%|██████████| 139/139 [00:00<00:00, 311.03it/s]\n"
          ],
          "name": "stderr"
        },
        {
          "output_type": "stream",
          "text": [
            "[MoviePy] Done.\n",
            "[MoviePy] >>>> Video ready: new_video.mp4 \n",
            "\n",
            "(312, 8, 2048)\n",
            "Assault040.mp4\n",
            "(8, 8, 2048)\n",
            "(320, 8, 2048)\n",
            "[MoviePy] >>>> Building video new_video.mp4\n",
            "[MoviePy] Writing audio in new_videoTEMP_MPY_wvf_snd.mp3\n"
          ],
          "name": "stdout"
        },
        {
          "output_type": "stream",
          "text": [
            "100%|██████████| 1408/1408 [00:00<00:00, 1433.05it/s]"
          ],
          "name": "stderr"
        },
        {
          "output_type": "stream",
          "text": [
            "[MoviePy] Done.\n",
            "[MoviePy] Writing video new_video.mp4\n"
          ],
          "name": "stdout"
        },
        {
          "output_type": "stream",
          "text": [
            "\n",
            "100%|██████████| 1916/1916 [00:05<00:00, 380.31it/s]\n"
          ],
          "name": "stderr"
        },
        {
          "output_type": "stream",
          "text": [
            "[MoviePy] Done.\n",
            "[MoviePy] >>>> Video ready: new_video.mp4 \n",
            "\n",
            "(328, 8, 2048)\n",
            "Assault041.mp4\n",
            "(15, 8, 2048)\n",
            "(343, 8, 2048)\n",
            "[MoviePy] >>>> Building video new_video.mp4\n",
            "[MoviePy] Writing audio in new_videoTEMP_MPY_wvf_snd.mp3\n"
          ],
          "name": "stdout"
        },
        {
          "output_type": "stream",
          "text": [
            "100%|██████████| 2743/2743 [00:01<00:00, 1393.76it/s]"
          ],
          "name": "stderr"
        },
        {
          "output_type": "stream",
          "text": [
            "[MoviePy] Done.\n",
            "[MoviePy] Writing video new_video.mp4\n"
          ],
          "name": "stdout"
        },
        {
          "output_type": "stream",
          "text": [
            "\n",
            "100%|██████████| 3732/3732 [00:10<00:00, 364.40it/s]"
          ],
          "name": "stderr"
        },
        {
          "output_type": "stream",
          "text": [
            "[MoviePy] Done.\n",
            "[MoviePy] >>>> Video ready: new_video.mp4 \n",
            "\n"
          ],
          "name": "stdout"
        },
        {
          "output_type": "stream",
          "text": [
            "\n"
          ],
          "name": "stderr"
        },
        {
          "output_type": "stream",
          "text": [
            "(358, 8, 2048)\n",
            "Assault042.mp4\n",
            "(8, 8, 2048)\n",
            "(366, 8, 2048)\n",
            "[MoviePy] >>>> Building video new_video.mp4\n",
            "[MoviePy] Writing audio in new_videoTEMP_MPY_wvf_snd.mp3\n"
          ],
          "name": "stdout"
        },
        {
          "output_type": "stream",
          "text": [
            "100%|██████████| 1425/1425 [00:01<00:00, 805.34it/s]"
          ],
          "name": "stderr"
        },
        {
          "output_type": "stream",
          "text": [
            "[MoviePy] Done.\n",
            "[MoviePy] Writing video new_video.mp4\n"
          ],
          "name": "stdout"
        },
        {
          "output_type": "stream",
          "text": [
            "\n",
            "100%|██████████| 1938/1938 [00:05<00:00, 340.28it/s]\n"
          ],
          "name": "stderr"
        },
        {
          "output_type": "stream",
          "text": [
            "[MoviePy] Done.\n",
            "[MoviePy] >>>> Video ready: new_video.mp4 \n",
            "\n",
            "(374, 8, 2048)\n",
            "Assault044.mp4\n",
            "(3, 8, 2048)\n",
            "(377, 8, 2048)\n",
            "[MoviePy] >>>> Building video new_video.mp4\n",
            "[MoviePy] Writing audio in new_videoTEMP_MPY_wvf_snd.mp3\n"
          ],
          "name": "stdout"
        },
        {
          "output_type": "stream",
          "text": [
            "100%|██████████| 562/562 [00:00<00:00, 1364.11it/s]"
          ],
          "name": "stderr"
        },
        {
          "output_type": "stream",
          "text": [
            "[MoviePy] Done.\n",
            "[MoviePy] Writing video new_video.mp4\n"
          ],
          "name": "stdout"
        },
        {
          "output_type": "stream",
          "text": [
            "\n",
            "100%|██████████| 765/765 [00:02<00:00, 364.07it/s]\n"
          ],
          "name": "stderr"
        },
        {
          "output_type": "stream",
          "text": [
            "[MoviePy] Done.\n",
            "[MoviePy] >>>> Video ready: new_video.mp4 \n",
            "\n",
            "(380, 8, 2048)\n",
            "Assault046.mp4\n",
            "(4, 8, 2048)\n",
            "(384, 8, 2048)\n",
            "[MoviePy] >>>> Building video new_video.mp4\n",
            "[MoviePy] Writing audio in new_videoTEMP_MPY_wvf_snd.mp3\n"
          ],
          "name": "stdout"
        },
        {
          "output_type": "stream",
          "text": [
            "100%|██████████| 687/687 [00:00<00:00, 1247.05it/s]"
          ],
          "name": "stderr"
        },
        {
          "output_type": "stream",
          "text": [
            "[MoviePy] Done.\n",
            "[MoviePy] Writing video new_video.mp4\n"
          ],
          "name": "stdout"
        },
        {
          "output_type": "stream",
          "text": [
            "\n",
            "100%|██████████| 935/935 [00:02<00:00, 365.05it/s]"
          ],
          "name": "stderr"
        },
        {
          "output_type": "stream",
          "text": [
            "[MoviePy] Done.\n",
            "[MoviePy] >>>> Video ready: new_video.mp4 \n",
            "\n"
          ],
          "name": "stdout"
        },
        {
          "output_type": "stream",
          "text": [
            "\n"
          ],
          "name": "stderr"
        },
        {
          "output_type": "stream",
          "text": [
            "(388, 8, 2048)\n",
            "Assault047.mp4\n",
            "(12, 8, 2048)\n",
            "(400, 8, 2048)\n",
            "[MoviePy] >>>> Building video new_video.mp4\n",
            "[MoviePy] Writing audio in new_videoTEMP_MPY_wvf_snd.mp3\n"
          ],
          "name": "stdout"
        },
        {
          "output_type": "stream",
          "text": [
            "100%|██████████| 2122/2122 [00:01<00:00, 1374.67it/s]"
          ],
          "name": "stderr"
        },
        {
          "output_type": "stream",
          "text": [
            "[MoviePy] Done.\n",
            "[MoviePy] Writing video new_video.mp4\n"
          ],
          "name": "stdout"
        },
        {
          "output_type": "stream",
          "text": [
            "\n",
            "100%|██████████| 2887/2887 [00:07<00:00, 401.71it/s]"
          ],
          "name": "stderr"
        },
        {
          "output_type": "stream",
          "text": [
            "[MoviePy] Done.\n",
            "[MoviePy] >>>> Video ready: new_video.mp4 \n",
            "\n"
          ],
          "name": "stdout"
        },
        {
          "output_type": "stream",
          "text": [
            "\n"
          ],
          "name": "stderr"
        },
        {
          "output_type": "stream",
          "text": [
            "(412, 8, 2048)\n",
            "Assault048.mp4\n",
            "(6, 8, 2048)\n",
            "(418, 8, 2048)\n",
            "[MoviePy] >>>> Building video new_video.mp4\n",
            "[MoviePy] Writing audio in new_videoTEMP_MPY_wvf_snd.mp3\n"
          ],
          "name": "stdout"
        },
        {
          "output_type": "stream",
          "text": [
            "100%|██████████| 1108/1108 [00:00<00:00, 1424.05it/s]"
          ],
          "name": "stderr"
        },
        {
          "output_type": "stream",
          "text": [
            "[MoviePy] Done.\n",
            "[MoviePy] Writing video new_video.mp4\n"
          ],
          "name": "stdout"
        },
        {
          "output_type": "stream",
          "text": [
            "\n",
            "100%|██████████| 1507/1507 [00:05<00:00, 257.02it/s]\n"
          ],
          "name": "stderr"
        },
        {
          "output_type": "stream",
          "text": [
            "[MoviePy] Done.\n",
            "[MoviePy] >>>> Video ready: new_video.mp4 \n",
            "\n",
            "(424, 8, 2048)\n",
            "Burglary075.mp4\n",
            "(13, 8, 2048)\n",
            "(437, 8, 2048)\n",
            "[MoviePy] >>>> Building video new_video.mp4\n",
            "[MoviePy] Writing audio in new_videoTEMP_MPY_wvf_snd.mp3\n"
          ],
          "name": "stdout"
        },
        {
          "output_type": "stream",
          "text": [
            "100%|██████████| 2305/2305 [00:01<00:00, 1421.81it/s]\n"
          ],
          "name": "stderr"
        },
        {
          "output_type": "stream",
          "text": [
            "[MoviePy] Done.\n",
            "[MoviePy] Writing video new_video.mp4\n"
          ],
          "name": "stdout"
        },
        {
          "output_type": "stream",
          "text": [
            "100%|██████████| 3136/3136 [00:07<00:00, 396.17it/s]"
          ],
          "name": "stderr"
        },
        {
          "output_type": "stream",
          "text": [
            "[MoviePy] Done.\n",
            "[MoviePy] >>>> Video ready: new_video.mp4 \n",
            "\n"
          ],
          "name": "stdout"
        },
        {
          "output_type": "stream",
          "text": [
            "\n"
          ],
          "name": "stderr"
        },
        {
          "output_type": "stream",
          "text": [
            "(450, 8, 2048)\n",
            "Burglary076.mp4\n",
            "(20, 8, 2048)\n",
            "(470, 8, 2048)\n",
            "[MoviePy] >>>> Building video new_video.mp4\n",
            "[MoviePy] Writing audio in new_videoTEMP_MPY_wvf_snd.mp3\n"
          ],
          "name": "stdout"
        },
        {
          "output_type": "stream",
          "text": [
            "100%|██████████| 3529/3529 [00:02<00:00, 1408.44it/s]"
          ],
          "name": "stderr"
        },
        {
          "output_type": "stream",
          "text": [
            "[MoviePy] Done.\n",
            "[MoviePy] Writing video new_video.mp4\n"
          ],
          "name": "stdout"
        },
        {
          "output_type": "stream",
          "text": [
            "\n",
            "100%|█████████▉| 4800/4801 [00:11<00:00, 402.95it/s]"
          ],
          "name": "stderr"
        },
        {
          "output_type": "stream",
          "text": [
            "[MoviePy] Done.\n",
            "[MoviePy] >>>> Video ready: new_video.mp4 \n",
            "\n"
          ],
          "name": "stdout"
        },
        {
          "output_type": "stream",
          "text": [
            "\n"
          ],
          "name": "stderr"
        },
        {
          "output_type": "stream",
          "text": [
            "(490, 8, 2048)\n",
            "Burglary077.mp4\n",
            "(7, 8, 2048)\n",
            "(497, 8, 2048)\n",
            "[MoviePy] >>>> Building video new_video.mp4\n",
            "[MoviePy] Writing audio in new_videoTEMP_MPY_wvf_snd.mp3\n"
          ],
          "name": "stdout"
        },
        {
          "output_type": "stream",
          "text": [
            "100%|██████████| 1285/1285 [00:00<00:00, 1413.27it/s]"
          ],
          "name": "stderr"
        },
        {
          "output_type": "stream",
          "text": [
            "[MoviePy] Done.\n",
            "[MoviePy] Writing video new_video.mp4\n"
          ],
          "name": "stdout"
        },
        {
          "output_type": "stream",
          "text": [
            "\n",
            "100%|██████████| 1749/1749 [00:04<00:00, 381.72it/s]\n"
          ],
          "name": "stderr"
        },
        {
          "output_type": "stream",
          "text": [
            "[MoviePy] Done.\n",
            "[MoviePy] >>>> Video ready: new_video.mp4 \n",
            "\n",
            "(504, 8, 2048)\n",
            "Burglary079.mp4\n",
            "(14, 8, 2048)\n",
            "(518, 8, 2048)\n",
            "[MoviePy] >>>> Building video new_video.mp4\n",
            "[MoviePy] Writing audio in new_videoTEMP_MPY_wvf_snd.mp3\n"
          ],
          "name": "stdout"
        },
        {
          "output_type": "stream",
          "text": [
            "100%|██████████| 2511/2511 [00:01<00:00, 1392.10it/s]"
          ],
          "name": "stderr"
        },
        {
          "output_type": "stream",
          "text": [
            "[MoviePy] Done.\n",
            "[MoviePy] Writing video new_video.mp4\n"
          ],
          "name": "stdout"
        },
        {
          "output_type": "stream",
          "text": [
            "\n",
            "100%|██████████| 3416/3416 [00:10<00:00, 324.11it/s]"
          ],
          "name": "stderr"
        },
        {
          "output_type": "stream",
          "text": [
            "[MoviePy] Done.\n",
            "[MoviePy] >>>> Video ready: new_video.mp4 \n",
            "\n"
          ],
          "name": "stdout"
        },
        {
          "output_type": "stream",
          "text": [
            "\n"
          ],
          "name": "stderr"
        },
        {
          "output_type": "stream",
          "text": [
            "(532, 8, 2048)\n",
            "Burglary080.mp4\n",
            "(4, 8, 2048)\n",
            "(536, 8, 2048)\n",
            "[MoviePy] >>>> Building video new_video.mp4\n",
            "[MoviePy] Writing audio in new_videoTEMP_MPY_wvf_snd.mp3\n"
          ],
          "name": "stdout"
        },
        {
          "output_type": "stream",
          "text": [
            "100%|██████████| 766/766 [00:00<00:00, 1441.75it/s]"
          ],
          "name": "stderr"
        },
        {
          "output_type": "stream",
          "text": [
            "[MoviePy] Done.\n",
            "[MoviePy] Writing video new_video.mp4\n"
          ],
          "name": "stdout"
        },
        {
          "output_type": "stream",
          "text": [
            "\n",
            "100%|██████████| 1042/1042 [00:02<00:00, 363.95it/s]"
          ],
          "name": "stderr"
        },
        {
          "output_type": "stream",
          "text": [
            "[MoviePy] Done.\n",
            "[MoviePy] >>>> Video ready: new_video.mp4 \n",
            "\n"
          ],
          "name": "stdout"
        },
        {
          "output_type": "stream",
          "text": [
            "\n"
          ],
          "name": "stderr"
        },
        {
          "output_type": "stream",
          "text": [
            "(540, 8, 2048)\n",
            "Burglary082.mp4\n",
            "(8, 8, 2048)\n",
            "(548, 8, 2048)\n",
            "[MoviePy] >>>> Building video new_video.mp4\n",
            "[MoviePy] Writing audio in new_videoTEMP_MPY_wvf_snd.mp3\n"
          ],
          "name": "stdout"
        },
        {
          "output_type": "stream",
          "text": [
            "100%|██████████| 1485/1485 [00:01<00:00, 1388.76it/s]"
          ],
          "name": "stderr"
        },
        {
          "output_type": "stream",
          "text": [
            "[MoviePy] Done.\n",
            "[MoviePy] Writing video new_video.mp4\n"
          ],
          "name": "stdout"
        },
        {
          "output_type": "stream",
          "text": [
            "\n",
            "100%|██████████| 2020/2020 [00:05<00:00, 389.49it/s]\n"
          ],
          "name": "stderr"
        },
        {
          "output_type": "stream",
          "text": [
            "[MoviePy] Done.\n",
            "[MoviePy] >>>> Video ready: new_video.mp4 \n",
            "\n",
            "(556, 8, 2048)\n",
            "Burglary084.mp4\n",
            "(17, 8, 2048)\n",
            "(573, 8, 2048)\n",
            "[MoviePy] >>>> Building video new_video.mp4\n",
            "[MoviePy] Writing audio in new_videoTEMP_MPY_wvf_snd.mp3\n"
          ],
          "name": "stdout"
        },
        {
          "output_type": "stream",
          "text": [
            "100%|██████████| 2994/2994 [00:02<00:00, 1371.97it/s]"
          ],
          "name": "stderr"
        },
        {
          "output_type": "stream",
          "text": [
            "[MoviePy] Done.\n",
            "[MoviePy] Writing video new_video.mp4\n"
          ],
          "name": "stdout"
        },
        {
          "output_type": "stream",
          "text": [
            "\n",
            "100%|██████████| 4074/4074 [00:12<00:00, 333.65it/s]"
          ],
          "name": "stderr"
        },
        {
          "output_type": "stream",
          "text": [
            "[MoviePy] Done.\n",
            "[MoviePy] >>>> Video ready: new_video.mp4 \n",
            "\n"
          ],
          "name": "stdout"
        },
        {
          "output_type": "stream",
          "text": [
            "\n"
          ],
          "name": "stderr"
        },
        {
          "output_type": "stream",
          "text": [
            "(590, 8, 2048)\n",
            "Burglary085.mp4\n",
            "(10, 8, 2048)\n",
            "(600, 8, 2048)\n",
            "[MoviePy] >>>> Building video new_video.mp4\n",
            "[MoviePy] Writing audio in new_videoTEMP_MPY_wvf_snd.mp3\n"
          ],
          "name": "stdout"
        },
        {
          "output_type": "stream",
          "text": [
            "100%|██████████| 1911/1911 [00:01<00:00, 1406.87it/s]"
          ],
          "name": "stderr"
        },
        {
          "output_type": "stream",
          "text": [
            "[MoviePy] Done.\n",
            "[MoviePy] Writing video new_video.mp4\n"
          ],
          "name": "stdout"
        },
        {
          "output_type": "stream",
          "text": [
            "\n",
            "100%|██████████| 2600/2600 [00:06<00:00, 373.00it/s]"
          ],
          "name": "stderr"
        },
        {
          "output_type": "stream",
          "text": [
            "[MoviePy] Done.\n",
            "[MoviePy] >>>> Video ready: new_video.mp4 \n",
            "\n"
          ],
          "name": "stdout"
        },
        {
          "output_type": "stream",
          "text": [
            "\n"
          ],
          "name": "stderr"
        },
        {
          "output_type": "stream",
          "text": [
            "(610, 8, 2048)\n",
            "Burglary086.mp4\n",
            "(13, 8, 2048)\n",
            "(623, 8, 2048)\n",
            "[MoviePy] >>>> Building video new_video.mp4\n",
            "[MoviePy] Writing audio in new_videoTEMP_MPY_wvf_snd.mp3\n"
          ],
          "name": "stdout"
        },
        {
          "output_type": "stream",
          "text": [
            "100%|██████████| 2381/2381 [00:01<00:00, 1375.28it/s]"
          ],
          "name": "stderr"
        },
        {
          "output_type": "stream",
          "text": [
            "[MoviePy] Done.\n",
            "[MoviePy] Writing video new_video.mp4\n"
          ],
          "name": "stdout"
        },
        {
          "output_type": "stream",
          "text": [
            "\n",
            "100%|██████████| 3239/3239 [00:08<00:00, 372.51it/s]\n"
          ],
          "name": "stderr"
        },
        {
          "output_type": "stream",
          "text": [
            "[MoviePy] Done.\n",
            "[MoviePy] >>>> Video ready: new_video.mp4 \n",
            "\n",
            "(636, 8, 2048)\n",
            "Burglary087.mp4\n",
            "(9, 8, 2048)\n",
            "(645, 8, 2048)\n",
            "[MoviePy] >>>> Building video new_video.mp4\n",
            "[MoviePy] Writing audio in new_videoTEMP_MPY_wvf_snd.mp3\n"
          ],
          "name": "stdout"
        },
        {
          "output_type": "stream",
          "text": [
            "100%|██████████| 1584/1584 [00:01<00:00, 1192.81it/s]\n"
          ],
          "name": "stderr"
        },
        {
          "output_type": "stream",
          "text": [
            "[MoviePy] Done.\n",
            "[MoviePy] Writing video new_video.mp4\n"
          ],
          "name": "stdout"
        },
        {
          "output_type": "stream",
          "text": [
            "100%|██████████| 2155/2155 [00:05<00:00, 363.46it/s]\n"
          ],
          "name": "stderr"
        },
        {
          "output_type": "stream",
          "text": [
            "[MoviePy] Done.\n",
            "[MoviePy] >>>> Video ready: new_video.mp4 \n",
            "\n",
            "(654, 8, 2048)\n",
            "Burglary088.mp4\n",
            "(19, 8, 2048)\n",
            "(673, 8, 2048)\n",
            "[MoviePy] >>>> Building video new_video.mp4\n",
            "[MoviePy] Writing audio in new_videoTEMP_MPY_wvf_snd.mp3\n"
          ],
          "name": "stdout"
        },
        {
          "output_type": "stream",
          "text": [
            "100%|██████████| 3334/3334 [00:02<00:00, 1395.18it/s]"
          ],
          "name": "stderr"
        },
        {
          "output_type": "stream",
          "text": [
            "[MoviePy] Done.\n",
            "[MoviePy] Writing video new_video.mp4\n"
          ],
          "name": "stdout"
        },
        {
          "output_type": "stream",
          "text": [
            "\n",
            "100%|██████████| 4536/4536 [00:13<00:00, 345.46it/s]"
          ],
          "name": "stderr"
        },
        {
          "output_type": "stream",
          "text": [
            "[MoviePy] Done.\n",
            "[MoviePy] >>>> Video ready: new_video.mp4 \n",
            "\n"
          ],
          "name": "stdout"
        },
        {
          "output_type": "stream",
          "text": [
            "\n"
          ],
          "name": "stderr"
        },
        {
          "output_type": "stream",
          "text": [
            "(692, 8, 2048)\n",
            "Burglary089.mp4\n",
            "(12, 8, 2048)\n",
            "(704, 8, 2048)\n",
            "[MoviePy] >>>> Building video new_video.mp4\n",
            "[MoviePy] Writing audio in new_videoTEMP_MPY_wvf_snd.mp3\n"
          ],
          "name": "stdout"
        },
        {
          "output_type": "stream",
          "text": [
            "100%|██████████| 2267/2267 [00:01<00:00, 1412.91it/s]"
          ],
          "name": "stderr"
        },
        {
          "output_type": "stream",
          "text": [
            "[MoviePy] Done.\n",
            "[MoviePy] Writing video new_video.mp4\n"
          ],
          "name": "stdout"
        },
        {
          "output_type": "stream",
          "text": [
            "\n",
            "100%|██████████| 3084/3084 [00:08<00:00, 356.89it/s]\n"
          ],
          "name": "stderr"
        },
        {
          "output_type": "stream",
          "text": [
            "[MoviePy] Done.\n",
            "[MoviePy] >>>> Video ready: new_video.mp4 \n",
            "\n",
            "(716, 8, 2048)\n",
            "Burglary090.mp4\n",
            "(8, 8, 2048)\n",
            "(724, 8, 2048)\n",
            "[MoviePy] >>>> Building video new_video.mp4\n",
            "[MoviePy] Writing audio in new_videoTEMP_MPY_wvf_snd.mp3\n"
          ],
          "name": "stdout"
        },
        {
          "output_type": "stream",
          "text": [
            "100%|██████████| 1511/1511 [00:01<00:00, 1373.79it/s]\n"
          ],
          "name": "stderr"
        },
        {
          "output_type": "stream",
          "text": [
            "[MoviePy] Done.\n",
            "[MoviePy] Writing video new_video.mp4\n"
          ],
          "name": "stdout"
        },
        {
          "output_type": "stream",
          "text": [
            "100%|██████████| 2056/2056 [00:05<00:00, 361.30it/s]"
          ],
          "name": "stderr"
        },
        {
          "output_type": "stream",
          "text": [
            "[MoviePy] Done.\n",
            "[MoviePy] >>>> Video ready: new_video.mp4 \n",
            "\n"
          ],
          "name": "stdout"
        },
        {
          "output_type": "stream",
          "text": [
            "\n"
          ],
          "name": "stderr"
        },
        {
          "output_type": "stream",
          "text": [
            "(732, 8, 2048)\n",
            "Burglary091.mp4\n",
            "(12, 8, 2048)\n",
            "(744, 8, 2048)\n",
            "[MoviePy] >>>> Building video new_video.mp4\n",
            "[MoviePy] Writing audio in new_videoTEMP_MPY_wvf_snd.mp3\n"
          ],
          "name": "stdout"
        },
        {
          "output_type": "stream",
          "text": [
            "100%|██████████| 2232/2232 [00:01<00:00, 1404.98it/s]"
          ],
          "name": "stderr"
        },
        {
          "output_type": "stream",
          "text": [
            "[MoviePy] Done.\n",
            "[MoviePy] Writing video new_video.mp4\n"
          ],
          "name": "stdout"
        },
        {
          "output_type": "stream",
          "text": [
            "\n",
            "100%|██████████| 3037/3037 [00:08<00:00, 366.66it/s]"
          ],
          "name": "stderr"
        },
        {
          "output_type": "stream",
          "text": [
            "[MoviePy] Done.\n",
            "[MoviePy] >>>> Video ready: new_video.mp4 \n",
            "\n"
          ],
          "name": "stdout"
        },
        {
          "output_type": "stream",
          "text": [
            "\n"
          ],
          "name": "stderr"
        },
        {
          "output_type": "stream",
          "text": [
            "(756, 8, 2048)\n",
            "Burglary095.mp4\n",
            "(5, 8, 2048)\n",
            "(761, 8, 2048)\n",
            "[MoviePy] >>>> Building video new_video.mp4\n",
            "[MoviePy] Writing audio in new_videoTEMP_MPY_wvf_snd.mp3\n"
          ],
          "name": "stdout"
        },
        {
          "output_type": "stream",
          "text": [
            "100%|██████████| 988/988 [00:00<00:00, 1232.76it/s]\n"
          ],
          "name": "stderr"
        },
        {
          "output_type": "stream",
          "text": [
            "[MoviePy] Done.\n",
            "[MoviePy] Writing video new_video.mp4\n"
          ],
          "name": "stdout"
        },
        {
          "output_type": "stream",
          "text": [
            "100%|██████████| 1344/1344 [00:03<00:00, 405.71it/s]"
          ],
          "name": "stderr"
        },
        {
          "output_type": "stream",
          "text": [
            "[MoviePy] Done.\n",
            "[MoviePy] >>>> Video ready: new_video.mp4 \n",
            "\n"
          ],
          "name": "stdout"
        },
        {
          "output_type": "stream",
          "text": [
            "\n"
          ],
          "name": "stderr"
        },
        {
          "output_type": "stream",
          "text": [
            "(766, 8, 2048)\n",
            "Burglary096.mp4\n",
            "(18, 8, 2048)\n",
            "(784, 8, 2048)\n",
            "[MoviePy] >>>> Building video new_video.mp4\n",
            "[MoviePy] Writing audio in new_videoTEMP_MPY_wvf_snd.mp3\n"
          ],
          "name": "stdout"
        },
        {
          "output_type": "stream",
          "text": [
            "100%|██████████| 3222/3222 [00:03<00:00, 959.12it/s]"
          ],
          "name": "stderr"
        },
        {
          "output_type": "stream",
          "text": [
            "[MoviePy] Done.\n",
            "[MoviePy] Writing video new_video.mp4\n"
          ],
          "name": "stdout"
        },
        {
          "output_type": "stream",
          "text": [
            "\n",
            "100%|██████████| 4384/4384 [00:13<00:00, 314.64it/s]\n"
          ],
          "name": "stderr"
        },
        {
          "output_type": "stream",
          "text": [
            "[MoviePy] Done.\n",
            "[MoviePy] >>>> Video ready: new_video.mp4 \n",
            "\n",
            "(802, 8, 2048)\n",
            "Burglary097.mp4\n",
            "(1, 8, 2048)\n",
            "(803, 8, 2048)\n",
            "[MoviePy] >>>> Building video new_video.mp4\n",
            "[MoviePy] Writing audio in new_videoTEMP_MPY_wvf_snd.mp3\n"
          ],
          "name": "stdout"
        },
        {
          "output_type": "stream",
          "text": [
            "100%|██████████| 223/223 [00:00<00:00, 2069.47it/s]"
          ],
          "name": "stderr"
        },
        {
          "output_type": "stream",
          "text": [
            "[MoviePy] Done.\n",
            "[MoviePy] Writing video new_video.mp4\n"
          ],
          "name": "stdout"
        },
        {
          "output_type": "stream",
          "text": [
            "\n",
            "100%|██████████| 303/303 [00:00<00:00, 374.34it/s]"
          ],
          "name": "stderr"
        },
        {
          "output_type": "stream",
          "text": [
            "[MoviePy] Done.\n",
            "[MoviePy] >>>> Video ready: new_video.mp4 \n",
            "\n"
          ],
          "name": "stdout"
        },
        {
          "output_type": "stream",
          "text": [
            "\n"
          ],
          "name": "stderr"
        },
        {
          "output_type": "stream",
          "text": [
            "(804, 8, 2048)\n",
            "Burglary099.mp4\n",
            "(5, 8, 2048)\n",
            "(809, 8, 2048)\n",
            "[MoviePy] >>>> Building video new_video.mp4\n",
            "[MoviePy] Writing audio in new_videoTEMP_MPY_wvf_snd.mp3\n"
          ],
          "name": "stdout"
        },
        {
          "output_type": "stream",
          "text": [
            "100%|██████████| 975/975 [00:00<00:00, 1377.61it/s]"
          ],
          "name": "stderr"
        },
        {
          "output_type": "stream",
          "text": [
            "[MoviePy] Done.\n",
            "[MoviePy] Writing video new_video.mp4\n"
          ],
          "name": "stdout"
        },
        {
          "output_type": "stream",
          "text": [
            "\n",
            "100%|█████████▉| 1326/1327 [00:03<00:00, 366.85it/s]\n"
          ],
          "name": "stderr"
        },
        {
          "output_type": "stream",
          "text": [
            "[MoviePy] Done.\n",
            "[MoviePy] >>>> Video ready: new_video.mp4 \n",
            "\n",
            "(814, 8, 2048)\n",
            "Burglary100.mp4\n",
            "(19, 8, 2048)\n",
            "(833, 8, 2048)\n",
            "[MoviePy] >>>> Building video new_video.mp4\n",
            "[MoviePy] Writing audio in new_videoTEMP_MPY_wvf_snd.mp3\n"
          ],
          "name": "stdout"
        },
        {
          "output_type": "stream",
          "text": [
            "100%|██████████| 3397/3397 [00:03<00:00, 1075.36it/s]"
          ],
          "name": "stderr"
        },
        {
          "output_type": "stream",
          "text": [
            "[MoviePy] Done.\n",
            "[MoviePy] Writing video new_video.mp4\n"
          ],
          "name": "stdout"
        },
        {
          "output_type": "stream",
          "text": [
            "\n",
            "100%|██████████| 4621/4621 [00:12<00:00, 377.70it/s]\n"
          ],
          "name": "stderr"
        },
        {
          "output_type": "stream",
          "text": [
            "[MoviePy] Done.\n",
            "[MoviePy] >>>> Video ready: new_video.mp4 \n",
            "\n",
            "(852, 8, 2048)\n",
            "Explosion037.mp4\n",
            "(3, 8, 2048)\n",
            "(855, 8, 2048)\n",
            "[MoviePy] >>>> Building video new_video.mp4\n",
            "[MoviePy] Writing audio in new_videoTEMP_MPY_wvf_snd.mp3\n"
          ],
          "name": "stdout"
        },
        {
          "output_type": "stream",
          "text": [
            "100%|██████████| 653/653 [00:00<00:00, 1431.88it/s]"
          ],
          "name": "stderr"
        },
        {
          "output_type": "stream",
          "text": [
            "[MoviePy] Done.\n",
            "[MoviePy] Writing video new_video.mp4\n"
          ],
          "name": "stdout"
        },
        {
          "output_type": "stream",
          "text": [
            "\n",
            "100%|██████████| 888/888 [00:02<00:00, 356.59it/s]"
          ],
          "name": "stderr"
        },
        {
          "output_type": "stream",
          "text": [
            "[MoviePy] Done.\n",
            "[MoviePy] >>>> Video ready: new_video.mp4 \n",
            "\n"
          ],
          "name": "stdout"
        },
        {
          "output_type": "stream",
          "text": [
            "\n"
          ],
          "name": "stderr"
        },
        {
          "output_type": "stream",
          "text": [
            "(858, 8, 2048)\n",
            "Explosion038.mp4\n",
            "(9, 8, 2048)\n",
            "(867, 8, 2048)\n",
            "[MoviePy] >>>> Building video new_video.mp4\n",
            "[MoviePy] Writing audio in new_videoTEMP_MPY_wvf_snd.mp3\n"
          ],
          "name": "stdout"
        },
        {
          "output_type": "stream",
          "text": [
            "100%|██████████| 1643/1643 [00:01<00:00, 1341.55it/s]"
          ],
          "name": "stderr"
        },
        {
          "output_type": "stream",
          "text": [
            "[MoviePy] Done.\n",
            "[MoviePy] Writing video new_video.mp4\n"
          ],
          "name": "stdout"
        },
        {
          "output_type": "stream",
          "text": [
            "\n",
            "100%|██████████| 2235/2235 [00:06<00:00, 360.01it/s]"
          ],
          "name": "stderr"
        },
        {
          "output_type": "stream",
          "text": [
            "[MoviePy] Done.\n",
            "[MoviePy] >>>> Video ready: new_video.mp4 \n",
            "\n"
          ],
          "name": "stdout"
        },
        {
          "output_type": "stream",
          "text": [
            "\n"
          ],
          "name": "stderr"
        },
        {
          "output_type": "stream",
          "text": [
            "(876, 8, 2048)\n",
            "Explosion039.mp4\n",
            "(3, 8, 2048)\n",
            "(879, 8, 2048)\n",
            "[MoviePy] >>>> Building video new_video.mp4\n",
            "[MoviePy] Writing audio in new_videoTEMP_MPY_wvf_snd.mp3\n"
          ],
          "name": "stdout"
        },
        {
          "output_type": "stream",
          "text": [
            "100%|██████████| 629/629 [00:00<00:00, 1433.94it/s]"
          ],
          "name": "stderr"
        },
        {
          "output_type": "stream",
          "text": [
            "[MoviePy] Done.\n",
            "[MoviePy] Writing video new_video.mp4\n"
          ],
          "name": "stdout"
        },
        {
          "output_type": "stream",
          "text": [
            "\n",
            "100%|██████████| 856/856 [00:02<00:00, 306.40it/s]\n"
          ],
          "name": "stderr"
        },
        {
          "output_type": "stream",
          "text": [
            "[MoviePy] Done.\n",
            "[MoviePy] >>>> Video ready: new_video.mp4 \n",
            "\n",
            "(882, 8, 2048)\n",
            "Explosion040.mp4\n",
            "(4, 8, 2048)\n",
            "(886, 8, 2048)\n",
            "[MoviePy] >>>> Building video new_video.mp4\n",
            "[MoviePy] Writing audio in new_videoTEMP_MPY_wvf_snd.mp3\n"
          ],
          "name": "stdout"
        },
        {
          "output_type": "stream",
          "text": [
            "100%|██████████| 795/795 [00:00<00:00, 1397.63it/s]"
          ],
          "name": "stderr"
        },
        {
          "output_type": "stream",
          "text": [
            "[MoviePy] Done.\n",
            "[MoviePy] Writing video new_video.mp4\n"
          ],
          "name": "stdout"
        },
        {
          "output_type": "stream",
          "text": [
            "\n",
            "100%|██████████| 1081/1081 [00:03<00:00, 358.44it/s]"
          ],
          "name": "stderr"
        },
        {
          "output_type": "stream",
          "text": [
            "[MoviePy] Done.\n",
            "[MoviePy] >>>> Video ready: new_video.mp4 \n",
            "\n"
          ],
          "name": "stdout"
        },
        {
          "output_type": "stream",
          "text": [
            "\n"
          ],
          "name": "stderr"
        },
        {
          "output_type": "stream",
          "text": [
            "(890, 8, 2048)\n",
            "Explosion042.mp4\n",
            "(5, 8, 2048)\n",
            "(895, 8, 2048)\n",
            "[MoviePy] >>>> Building video new_video.mp4\n",
            "[MoviePy] Writing audio in new_videoTEMP_MPY_wvf_snd.mp3\n"
          ],
          "name": "stdout"
        },
        {
          "output_type": "stream",
          "text": [
            "100%|██████████| 953/953 [00:00<00:00, 1329.20it/s]"
          ],
          "name": "stderr"
        },
        {
          "output_type": "stream",
          "text": [
            "[MoviePy] Done.\n",
            "[MoviePy] Writing video new_video.mp4\n"
          ],
          "name": "stdout"
        },
        {
          "output_type": "stream",
          "text": [
            "\n",
            "100%|█████████▉| 1296/1297 [00:03<00:00, 341.64it/s]"
          ],
          "name": "stderr"
        },
        {
          "output_type": "stream",
          "text": [
            "[MoviePy] Done.\n",
            "[MoviePy] >>>> Video ready: new_video.mp4 \n",
            "\n"
          ],
          "name": "stdout"
        },
        {
          "output_type": "stream",
          "text": [
            "\n"
          ],
          "name": "stderr"
        },
        {
          "output_type": "stream",
          "text": [
            "(900, 8, 2048)\n",
            "Explosion043.mp4\n",
            "(14, 8, 2048)\n",
            "(914, 8, 2048)\n",
            "[MoviePy] >>>> Building video new_video.mp4\n",
            "[MoviePy] Writing audio in new_videoTEMP_MPY_wvf_snd.mp3\n"
          ],
          "name": "stdout"
        },
        {
          "output_type": "stream",
          "text": [
            "100%|██████████| 2487/2487 [00:01<00:00, 1408.22it/s]"
          ],
          "name": "stderr"
        },
        {
          "output_type": "stream",
          "text": [
            "[MoviePy] Done.\n",
            "[MoviePy] Writing video new_video.mp4\n"
          ],
          "name": "stdout"
        },
        {
          "output_type": "stream",
          "text": [
            "\n",
            "100%|██████████| 3383/3383 [00:09<00:00, 346.85it/s]"
          ],
          "name": "stderr"
        },
        {
          "output_type": "stream",
          "text": [
            "[MoviePy] Done.\n",
            "[MoviePy] >>>> Video ready: new_video.mp4 \n",
            "\n"
          ],
          "name": "stdout"
        },
        {
          "output_type": "stream",
          "text": [
            "\n"
          ],
          "name": "stderr"
        },
        {
          "output_type": "stream",
          "text": [
            "(928, 8, 2048)\n",
            "Explosion046.mp4\n",
            "(19, 8, 2048)\n",
            "(947, 8, 2048)\n",
            "[MoviePy] >>>> Building video new_video.mp4\n",
            "[MoviePy] Writing audio in new_videoTEMP_MPY_wvf_snd.mp3\n"
          ],
          "name": "stdout"
        },
        {
          "output_type": "stream",
          "text": [
            "100%|██████████| 3394/3394 [00:02<00:00, 1360.30it/s]"
          ],
          "name": "stderr"
        },
        {
          "output_type": "stream",
          "text": [
            "[MoviePy] Done.\n",
            "[MoviePy] Writing video new_video.mp4\n"
          ],
          "name": "stdout"
        },
        {
          "output_type": "stream",
          "text": [
            "\n",
            "100%|██████████| 4617/4617 [00:15<00:00, 303.51it/s]\n"
          ],
          "name": "stderr"
        },
        {
          "output_type": "stream",
          "text": [
            "[MoviePy] Done.\n",
            "[MoviePy] >>>> Video ready: new_video.mp4 \n",
            "\n",
            "(966, 8, 2048)\n",
            "Explosion051.mp4\n",
            "(10, 8, 2048)\n",
            "(976, 8, 2048)\n",
            "[MoviePy] >>>> Building video new_video.mp4\n",
            "[MoviePy] Writing audio in new_videoTEMP_MPY_wvf_snd.mp3\n"
          ],
          "name": "stdout"
        },
        {
          "output_type": "stream",
          "text": [
            "100%|██████████| 1780/1780 [00:01<00:00, 1404.50it/s]"
          ],
          "name": "stderr"
        },
        {
          "output_type": "stream",
          "text": [
            "[MoviePy] Done.\n",
            "[MoviePy] Writing video new_video.mp4\n"
          ],
          "name": "stdout"
        },
        {
          "output_type": "stream",
          "text": [
            "\n",
            "100%|█████████▉| 2421/2422 [00:06<00:00, 367.45it/s]\n"
          ],
          "name": "stderr"
        },
        {
          "output_type": "stream",
          "text": [
            "[MoviePy] Done.\n",
            "[MoviePy] >>>> Video ready: new_video.mp4 \n",
            "\n",
            "(986, 8, 2048)\n",
            "Explosion052.mp4\n",
            "(12, 8, 2048)\n",
            "(998, 8, 2048)\n",
            "[MoviePy] >>>> Building video new_video.mp4\n",
            "[MoviePy] Writing audio in new_videoTEMP_MPY_wvf_snd.mp3\n"
          ],
          "name": "stdout"
        },
        {
          "output_type": "stream",
          "text": [
            "100%|██████████| 2248/2248 [00:01<00:00, 1421.96it/s]"
          ],
          "name": "stderr"
        },
        {
          "output_type": "stream",
          "text": [
            "[MoviePy] Done.\n",
            "[MoviePy] Writing video new_video.mp4\n"
          ],
          "name": "stdout"
        },
        {
          "output_type": "stream",
          "text": [
            "\n",
            "100%|██████████| 3058/3058 [00:09<00:00, 332.57it/s]\n"
          ],
          "name": "stderr"
        },
        {
          "output_type": "stream",
          "text": [
            "[MoviePy] Done.\n",
            "[MoviePy] >>>> Video ready: new_video.mp4 \n",
            "\n",
            "(1010, 8, 2048)\n",
            "Fighting043.mp4\n",
            "(12, 8, 2048)\n",
            "(1022, 8, 2048)\n",
            "[MoviePy] >>>> Building video new_video.mp4\n",
            "[MoviePy] Writing audio in new_videoTEMP_MPY_wvf_snd.mp3\n"
          ],
          "name": "stdout"
        },
        {
          "output_type": "stream",
          "text": [
            "100%|██████████| 2177/2177 [00:02<00:00, 855.41it/s]\n"
          ],
          "name": "stderr"
        },
        {
          "output_type": "stream",
          "text": [
            "[MoviePy] Done.\n",
            "[MoviePy] Writing video new_video.mp4\n"
          ],
          "name": "stdout"
        },
        {
          "output_type": "stream",
          "text": [
            "100%|██████████| 2962/2962 [00:08<00:00, 350.55it/s]\n"
          ],
          "name": "stderr"
        },
        {
          "output_type": "stream",
          "text": [
            "[MoviePy] Done.\n",
            "[MoviePy] >>>> Video ready: new_video.mp4 \n",
            "\n",
            "(1034, 8, 2048)\n",
            "Fighting044.mp4\n",
            "(22, 8, 2048)\n",
            "(1056, 8, 2048)\n",
            "[MoviePy] >>>> Building video new_video.mp4\n",
            "[MoviePy] Writing audio in new_videoTEMP_MPY_wvf_snd.mp3\n"
          ],
          "name": "stdout"
        },
        {
          "output_type": "stream",
          "text": [
            "100%|██████████| 3880/3880 [00:02<00:00, 1375.73it/s]"
          ],
          "name": "stderr"
        },
        {
          "output_type": "stream",
          "text": [
            "[MoviePy] Done.\n",
            "[MoviePy] Writing video new_video.mp4\n"
          ],
          "name": "stdout"
        },
        {
          "output_type": "stream",
          "text": [
            "\n",
            "100%|██████████| 5279/5279 [00:15<00:00, 335.47it/s]"
          ],
          "name": "stderr"
        },
        {
          "output_type": "stream",
          "text": [
            "[MoviePy] Done.\n",
            "[MoviePy] >>>> Video ready: new_video.mp4 \n",
            "\n"
          ],
          "name": "stdout"
        },
        {
          "output_type": "stream",
          "text": [
            "\n"
          ],
          "name": "stderr"
        },
        {
          "output_type": "stream",
          "text": [
            "(1078, 8, 2048)\n",
            "Fighting045.mp4\n",
            "(10, 8, 2048)\n",
            "(1088, 8, 2048)\n",
            "[MoviePy] >>>> Building video new_video.mp4\n",
            "[MoviePy] Writing video new_video.mp4\n"
          ],
          "name": "stdout"
        },
        {
          "output_type": "stream",
          "text": [
            "100%|██████████| 2434/2434 [00:08<00:00, 298.23it/s]\n"
          ],
          "name": "stderr"
        },
        {
          "output_type": "stream",
          "text": [
            "[MoviePy] Done.\n",
            "[MoviePy] >>>> Video ready: new_video.mp4 \n",
            "\n",
            "(1098, 8, 2048)\n",
            "Fighting046.mp4\n",
            "(10, 8, 2048)\n",
            "(1108, 8, 2048)\n",
            "[MoviePy] >>>> Building video new_video.mp4\n",
            "[MoviePy] Writing audio in new_videoTEMP_MPY_wvf_snd.mp3\n"
          ],
          "name": "stdout"
        },
        {
          "output_type": "stream",
          "text": [
            "100%|██████████| 1896/1896 [00:01<00:00, 1429.57it/s]"
          ],
          "name": "stderr"
        },
        {
          "output_type": "stream",
          "text": [
            "[MoviePy] Done.\n",
            "[MoviePy] Writing video new_video.mp4\n"
          ],
          "name": "stdout"
        },
        {
          "output_type": "stream",
          "text": [
            "\n",
            "100%|██████████| 2579/2579 [00:09<00:00, 273.25it/s]\n"
          ],
          "name": "stderr"
        },
        {
          "output_type": "stream",
          "text": [
            "[MoviePy] Done.\n",
            "[MoviePy] >>>> Video ready: new_video.mp4 \n",
            "\n",
            "(1118, 8, 2048)\n",
            "Fighting047.mp4\n",
            "(17, 8, 2048)\n",
            "(1135, 8, 2048)\n",
            "[MoviePy] >>>> Building video new_video.mp4\n",
            "[MoviePy] Writing audio in new_videoTEMP_MPY_wvf_snd.mp3\n"
          ],
          "name": "stdout"
        },
        {
          "output_type": "stream",
          "text": [
            "100%|██████████| 3090/3090 [00:02<00:00, 1381.11it/s]"
          ],
          "name": "stderr"
        },
        {
          "output_type": "stream",
          "text": [
            "[MoviePy] Done.\n",
            "[MoviePy] Writing video new_video.mp4\n"
          ],
          "name": "stdout"
        },
        {
          "output_type": "stream",
          "text": [
            "\n",
            "100%|█████████▉| 4203/4204 [00:11<00:00, 362.42it/s]\n"
          ],
          "name": "stderr"
        },
        {
          "output_type": "stream",
          "text": [
            "[MoviePy] Done.\n",
            "[MoviePy] >>>> Video ready: new_video.mp4 \n",
            "\n",
            "(1152, 8, 2048)\n",
            "Fighting048.mp4\n",
            "(20, 8, 2048)\n",
            "(1172, 8, 2048)\n",
            "[MoviePy] >>>> Building video new_video.mp4\n",
            "[MoviePy] Writing audio in new_videoTEMP_MPY_wvf_snd.mp3\n"
          ],
          "name": "stdout"
        },
        {
          "output_type": "stream",
          "text": [
            "100%|██████████| 3655/3655 [00:03<00:00, 1135.20it/s]"
          ],
          "name": "stderr"
        },
        {
          "output_type": "stream",
          "text": [
            "[MoviePy] Done.\n",
            "[MoviePy] Writing video new_video.mp4\n"
          ],
          "name": "stdout"
        },
        {
          "output_type": "stream",
          "text": [
            "\n",
            "100%|██████████| 4972/4972 [00:14<00:00, 346.00it/s]\n"
          ],
          "name": "stderr"
        },
        {
          "output_type": "stream",
          "text": [
            "[MoviePy] Done.\n",
            "[MoviePy] >>>> Video ready: new_video.mp4 \n",
            "\n",
            "(1192, 8, 2048)\n",
            "Fighting049.mp4\n",
            "(5, 8, 2048)\n",
            "(1197, 8, 2048)\n",
            "[MoviePy] >>>> Building video new_video.mp4\n",
            "[MoviePy] Writing audio in new_videoTEMP_MPY_wvf_snd.mp3\n"
          ],
          "name": "stdout"
        },
        {
          "output_type": "stream",
          "text": [
            "100%|██████████| 1005/1005 [00:00<00:00, 1417.89it/s]"
          ],
          "name": "stderr"
        },
        {
          "output_type": "stream",
          "text": [
            "[MoviePy] Done.\n",
            "[MoviePy] Writing video new_video.mp4\n"
          ],
          "name": "stdout"
        },
        {
          "output_type": "stream",
          "text": [
            "\n",
            "100%|██████████| 1368/1368 [00:03<00:00, 358.91it/s]\n"
          ],
          "name": "stderr"
        },
        {
          "output_type": "stream",
          "text": [
            "[MoviePy] Done.\n",
            "[MoviePy] >>>> Video ready: new_video.mp4 \n",
            "\n",
            "(1202, 8, 2048)\n",
            "Fighting050.mp4\n",
            "(20, 8, 2048)\n",
            "(1222, 8, 2048)\n",
            "[MoviePy] >>>> Building video new_video.mp4\n",
            "[MoviePy] Writing audio in new_videoTEMP_MPY_wvf_snd.mp3\n"
          ],
          "name": "stdout"
        },
        {
          "output_type": "stream",
          "text": [
            "100%|██████████| 3537/3537 [00:03<00:00, 954.27it/s]"
          ],
          "name": "stderr"
        },
        {
          "output_type": "stream",
          "text": [
            "[MoviePy] Done.\n",
            "[MoviePy] Writing video new_video.mp4\n"
          ],
          "name": "stdout"
        },
        {
          "output_type": "stream",
          "text": [
            "\n",
            "100%|██████████| 4812/4812 [00:14<00:00, 341.45it/s]\n"
          ],
          "name": "stderr"
        },
        {
          "output_type": "stream",
          "text": [
            "[MoviePy] Done.\n",
            "[MoviePy] >>>> Video ready: new_video.mp4 \n",
            "\n",
            "(1242, 8, 2048)\n",
            "Fighting051.mp4\n",
            "(22, 8, 2048)\n",
            "(1264, 8, 2048)\n",
            "[MoviePy] >>>> Building video new_video.mp4\n",
            "[MoviePy] Writing video new_video.mp4\n"
          ],
          "name": "stdout"
        },
        {
          "output_type": "stream",
          "text": [
            "100%|█████████▉| 5259/5260 [00:16<00:00, 324.31it/s]\n"
          ],
          "name": "stderr"
        },
        {
          "output_type": "stream",
          "text": [
            "[MoviePy] Done.\n",
            "[MoviePy] >>>> Video ready: new_video.mp4 \n",
            "\n",
            "(1286, 8, 2048)\n",
            "RoadAccidents074.mp4\n",
            "(6, 8, 2048)\n",
            "(1292, 8, 2048)\n",
            "[MoviePy] >>>> Building video new_video.mp4\n",
            "[MoviePy] Writing audio in new_videoTEMP_MPY_wvf_snd.mp3\n"
          ],
          "name": "stdout"
        },
        {
          "output_type": "stream",
          "text": [
            "100%|██████████| 1108/1108 [00:00<00:00, 1399.78it/s]"
          ],
          "name": "stderr"
        },
        {
          "output_type": "stream",
          "text": [
            "[MoviePy] Done.\n",
            "[MoviePy] Writing video new_video.mp4\n"
          ],
          "name": "stdout"
        },
        {
          "output_type": "stream",
          "text": [
            "\n",
            "100%|██████████| 1507/1507 [00:04<00:00, 368.01it/s]\n"
          ],
          "name": "stderr"
        },
        {
          "output_type": "stream",
          "text": [
            "[MoviePy] Done.\n",
            "[MoviePy] >>>> Video ready: new_video.mp4 \n",
            "\n",
            "(1298, 8, 2048)\n",
            "RoadAccidents076.mp4\n",
            "(7, 8, 2048)\n",
            "(1305, 8, 2048)\n",
            "[MoviePy] >>>> Building video new_video.mp4\n",
            "[MoviePy] Writing audio in new_videoTEMP_MPY_wvf_snd.mp3\n"
          ],
          "name": "stdout"
        },
        {
          "output_type": "stream",
          "text": [
            "100%|██████████| 1335/1335 [00:01<00:00, 951.00it/s]"
          ],
          "name": "stderr"
        },
        {
          "output_type": "stream",
          "text": [
            "[MoviePy] Done.\n",
            "[MoviePy] Writing video new_video.mp4\n"
          ],
          "name": "stdout"
        },
        {
          "output_type": "stream",
          "text": [
            "\n",
            "100%|██████████| 1817/1817 [00:05<00:00, 360.96it/s]\n"
          ],
          "name": "stderr"
        },
        {
          "output_type": "stream",
          "text": [
            "[MoviePy] Done.\n",
            "[MoviePy] >>>> Video ready: new_video.mp4 \n",
            "\n",
            "(1312, 8, 2048)\n",
            "RoadAccidents077.mp4\n",
            "(5, 8, 2048)\n",
            "(1317, 8, 2048)\n",
            "[MoviePy] >>>> Building video new_video.mp4\n",
            "[MoviePy] Writing audio in new_videoTEMP_MPY_wvf_snd.mp3\n"
          ],
          "name": "stdout"
        },
        {
          "output_type": "stream",
          "text": [
            "100%|██████████| 1019/1019 [00:00<00:00, 1365.87it/s]"
          ],
          "name": "stderr"
        },
        {
          "output_type": "stream",
          "text": [
            "[MoviePy] Done.\n",
            "[MoviePy] Writing video new_video.mp4\n"
          ],
          "name": "stdout"
        },
        {
          "output_type": "stream",
          "text": [
            "\n",
            "100%|██████████| 1387/1387 [00:03<00:00, 372.81it/s]"
          ],
          "name": "stderr"
        },
        {
          "output_type": "stream",
          "text": [
            "[MoviePy] Done.\n",
            "[MoviePy] >>>> Video ready: new_video.mp4 \n",
            "\n"
          ],
          "name": "stdout"
        },
        {
          "output_type": "stream",
          "text": [
            "\n"
          ],
          "name": "stderr"
        },
        {
          "output_type": "stream",
          "text": [
            "(1322, 8, 2048)\n",
            "RoadAccidents078.mp4\n",
            "(13, 8, 2048)\n",
            "(1335, 8, 2048)\n",
            "[MoviePy] >>>> Building video new_video.mp4\n",
            "[MoviePy] Writing audio in new_videoTEMP_MPY_wvf_snd.mp3\n"
          ],
          "name": "stdout"
        },
        {
          "output_type": "stream",
          "text": [
            "100%|██████████| 2441/2441 [00:01<00:00, 1418.40it/s]\n"
          ],
          "name": "stderr"
        },
        {
          "output_type": "stream",
          "text": [
            "[MoviePy] Done.\n",
            "[MoviePy] Writing video new_video.mp4\n"
          ],
          "name": "stdout"
        },
        {
          "output_type": "stream",
          "text": [
            "100%|██████████| 3321/3321 [00:08<00:00, 394.07it/s]\n"
          ],
          "name": "stderr"
        },
        {
          "output_type": "stream",
          "text": [
            "[MoviePy] Done.\n",
            "[MoviePy] >>>> Video ready: new_video.mp4 \n",
            "\n",
            "(1348, 8, 2048)\n",
            "RoadAccidents079.mp4\n",
            "(4, 8, 2048)\n",
            "(1352, 8, 2048)\n",
            "[MoviePy] >>>> Building video new_video.mp4\n",
            "[MoviePy] Writing audio in new_videoTEMP_MPY_wvf_snd.mp3\n"
          ],
          "name": "stdout"
        },
        {
          "output_type": "stream",
          "text": [
            "100%|██████████| 836/836 [00:01<00:00, 813.50it/s]"
          ],
          "name": "stderr"
        },
        {
          "output_type": "stream",
          "text": [
            "[MoviePy] Done.\n",
            "[MoviePy] Writing video new_video.mp4\n"
          ],
          "name": "stdout"
        },
        {
          "output_type": "stream",
          "text": [
            "\n",
            "100%|██████████| 1138/1138 [00:02<00:00, 384.82it/s]\n"
          ],
          "name": "stderr"
        },
        {
          "output_type": "stream",
          "text": [
            "[MoviePy] Done.\n",
            "[MoviePy] >>>> Video ready: new_video.mp4 \n",
            "\n",
            "(1356, 8, 2048)\n",
            "RoadAccidents080.mp4\n",
            "(4, 8, 2048)\n",
            "(1360, 8, 2048)\n",
            "[MoviePy] >>>> Building video new_video.mp4\n",
            "[MoviePy] Writing audio in new_videoTEMP_MPY_wvf_snd.mp3\n"
          ],
          "name": "stdout"
        },
        {
          "output_type": "stream",
          "text": [
            "100%|██████████| 833/833 [00:00<00:00, 1228.47it/s]"
          ],
          "name": "stderr"
        },
        {
          "output_type": "stream",
          "text": [
            "[MoviePy] Done.\n",
            "[MoviePy] Writing video new_video.mp4\n"
          ],
          "name": "stdout"
        },
        {
          "output_type": "stream",
          "text": [
            "\n",
            "100%|██████████| 1133/1133 [00:03<00:00, 367.69it/s]"
          ],
          "name": "stderr"
        },
        {
          "output_type": "stream",
          "text": [
            "[MoviePy] Done.\n",
            "[MoviePy] >>>> Video ready: new_video.mp4 \n",
            "\n"
          ],
          "name": "stdout"
        },
        {
          "output_type": "stream",
          "text": [
            "\n"
          ],
          "name": "stderr"
        },
        {
          "output_type": "stream",
          "text": [
            "(1364, 8, 2048)\n",
            "RoadAccidents083.mp4\n",
            "(3, 8, 2048)\n",
            "(1367, 8, 2048)\n",
            "[MoviePy] >>>> Building video new_video.mp4\n",
            "[MoviePy] Writing audio in new_videoTEMP_MPY_wvf_snd.mp3\n"
          ],
          "name": "stdout"
        },
        {
          "output_type": "stream",
          "text": [
            "100%|██████████| 555/555 [00:00<00:00, 1418.11it/s]"
          ],
          "name": "stderr"
        },
        {
          "output_type": "stream",
          "text": [
            "[MoviePy] Done.\n",
            "[MoviePy] Writing video new_video.mp4\n"
          ],
          "name": "stdout"
        },
        {
          "output_type": "stream",
          "text": [
            "\n",
            "100%|██████████| 756/756 [00:02<00:00, 348.86it/s]"
          ],
          "name": "stderr"
        },
        {
          "output_type": "stream",
          "text": [
            "[MoviePy] Done.\n",
            "[MoviePy] >>>> Video ready: new_video.mp4 \n",
            "\n"
          ],
          "name": "stdout"
        },
        {
          "output_type": "stream",
          "text": [
            "\n"
          ],
          "name": "stderr"
        },
        {
          "output_type": "stream",
          "text": [
            "(1370, 8, 2048)\n",
            "RoadAccidents085.mp4\n",
            "(6, 8, 2048)\n",
            "(1376, 8, 2048)\n",
            "[MoviePy] >>>> Building video new_video.mp4\n",
            "[MoviePy] Writing audio in new_videoTEMP_MPY_wvf_snd.mp3\n"
          ],
          "name": "stdout"
        },
        {
          "output_type": "stream",
          "text": [
            "100%|██████████| 1121/1121 [00:00<00:00, 1416.43it/s]"
          ],
          "name": "stderr"
        },
        {
          "output_type": "stream",
          "text": [
            "[MoviePy] Done.\n",
            "[MoviePy] Writing video new_video.mp4\n"
          ],
          "name": "stdout"
        },
        {
          "output_type": "stream",
          "text": [
            "\n",
            "100%|██████████| 1525/1525 [00:04<00:00, 377.05it/s]\n"
          ],
          "name": "stderr"
        },
        {
          "output_type": "stream",
          "text": [
            "[MoviePy] Done.\n",
            "[MoviePy] >>>> Video ready: new_video.mp4 \n",
            "\n",
            "(1382, 8, 2048)\n",
            "RoadAccidents087.mp4\n",
            "(13, 8, 2048)\n",
            "(1395, 8, 2048)\n",
            "[MoviePy] >>>> Building video new_video.mp4\n",
            "[MoviePy] Writing audio in new_videoTEMP_MPY_wvf_snd.mp3\n"
          ],
          "name": "stdout"
        },
        {
          "output_type": "stream",
          "text": [
            "100%|██████████| 2393/2393 [00:02<00:00, 1085.40it/s]"
          ],
          "name": "stderr"
        },
        {
          "output_type": "stream",
          "text": [
            "[MoviePy] Done.\n",
            "[MoviePy] Writing video new_video.mp4\n"
          ],
          "name": "stdout"
        },
        {
          "output_type": "stream",
          "text": [
            "\n",
            "100%|██████████| 3256/3256 [00:09<00:00, 350.04it/s]"
          ],
          "name": "stderr"
        },
        {
          "output_type": "stream",
          "text": [
            "[MoviePy] Done.\n",
            "[MoviePy] >>>> Video ready: new_video.mp4 \n",
            "\n"
          ],
          "name": "stdout"
        },
        {
          "output_type": "stream",
          "text": [
            "\n"
          ],
          "name": "stderr"
        },
        {
          "output_type": "stream",
          "text": [
            "(1408, 8, 2048)\n",
            "RoadAccidents097.mp4\n",
            "(11, 8, 2048)\n",
            "(1419, 8, 2048)\n",
            "[MoviePy] >>>> Building video new_video.mp4\n",
            "[MoviePy] Writing audio in new_videoTEMP_MPY_wvf_snd.mp3\n"
          ],
          "name": "stdout"
        },
        {
          "output_type": "stream",
          "text": [
            "100%|██████████| 1991/1991 [00:01<00:00, 1374.45it/s]"
          ],
          "name": "stderr"
        },
        {
          "output_type": "stream",
          "text": [
            "[MoviePy] Done.\n",
            "[MoviePy] Writing video new_video.mp4\n"
          ],
          "name": "stdout"
        },
        {
          "output_type": "stream",
          "text": [
            "\n",
            "100%|██████████| 2709/2709 [00:07<00:00, 360.74it/s]"
          ],
          "name": "stderr"
        },
        {
          "output_type": "stream",
          "text": [
            "[MoviePy] Done.\n",
            "[MoviePy] >>>> Video ready: new_video.mp4 \n",
            "\n"
          ],
          "name": "stdout"
        },
        {
          "output_type": "stream",
          "text": [
            "\n"
          ],
          "name": "stderr"
        },
        {
          "output_type": "stream",
          "text": [
            "(1430, 8, 2048)\n",
            "RoadAccidents099.mp4\n",
            "(4, 8, 2048)\n",
            "(1434, 8, 2048)\n",
            "[MoviePy] >>>> Building video new_video.mp4\n",
            "[MoviePy] Writing audio in new_videoTEMP_MPY_wvf_snd.mp3\n"
          ],
          "name": "stdout"
        },
        {
          "output_type": "stream",
          "text": [
            "100%|██████████| 806/806 [00:00<00:00, 920.06it/s]"
          ],
          "name": "stderr"
        },
        {
          "output_type": "stream",
          "text": [
            "[MoviePy] Done.\n",
            "[MoviePy] Writing video new_video.mp4\n"
          ],
          "name": "stdout"
        },
        {
          "output_type": "stream",
          "text": [
            "\n",
            "100%|██████████| 1097/1097 [00:03<00:00, 365.05it/s]"
          ],
          "name": "stderr"
        },
        {
          "output_type": "stream",
          "text": [
            "[MoviePy] Done.\n",
            "[MoviePy] >>>> Video ready: new_video.mp4 \n",
            "\n"
          ],
          "name": "stdout"
        },
        {
          "output_type": "stream",
          "text": [
            "\n"
          ],
          "name": "stderr"
        },
        {
          "output_type": "stream",
          "text": [
            "(1438, 8, 2048)\n",
            "RoadAccidents105.mp4\n",
            "(3, 8, 2048)\n",
            "(1441, 8, 2048)\n",
            "[MoviePy] >>>> Building video new_video.mp4\n",
            "[MoviePy] Writing audio in new_videoTEMP_MPY_wvf_snd.mp3\n"
          ],
          "name": "stdout"
        },
        {
          "output_type": "stream",
          "text": [
            "100%|██████████| 675/675 [00:00<00:00, 1437.30it/s]"
          ],
          "name": "stderr"
        },
        {
          "output_type": "stream",
          "text": [
            "[MoviePy] Done.\n",
            "[MoviePy] Writing video new_video.mp4\n"
          ],
          "name": "stdout"
        },
        {
          "output_type": "stream",
          "text": [
            "\n",
            "100%|██████████| 918/918 [00:02<00:00, 350.61it/s]\n"
          ],
          "name": "stderr"
        },
        {
          "output_type": "stream",
          "text": [
            "[MoviePy] Done.\n",
            "[MoviePy] >>>> Video ready: new_video.mp4 \n",
            "\n",
            "(1444, 8, 2048)\n",
            "RoadAccidents106.mp4\n",
            "(7, 8, 2048)\n",
            "(1451, 8, 2048)\n",
            "[MoviePy] >>>> Building video new_video.mp4\n",
            "[MoviePy] Writing audio in new_videoTEMP_MPY_wvf_snd.mp3\n"
          ],
          "name": "stdout"
        },
        {
          "output_type": "stream",
          "text": [
            "100%|██████████| 1346/1346 [00:00<00:00, 1428.06it/s]"
          ],
          "name": "stderr"
        },
        {
          "output_type": "stream",
          "text": [
            "[MoviePy] Done.\n",
            "[MoviePy] Writing video new_video.mp4\n"
          ],
          "name": "stdout"
        },
        {
          "output_type": "stream",
          "text": [
            "\n",
            "100%|█████████▉| 1830/1831 [00:05<00:00, 342.57it/s]\n"
          ],
          "name": "stderr"
        },
        {
          "output_type": "stream",
          "text": [
            "[MoviePy] Done.\n",
            "[MoviePy] >>>> Video ready: new_video.mp4 \n",
            "\n",
            "(1458, 8, 2048)\n",
            "RoadAccidents113.mp4\n",
            "(5, 8, 2048)\n",
            "(1463, 8, 2048)\n",
            "[MoviePy] >>>> Building video new_video.mp4\n",
            "[MoviePy] Writing audio in new_videoTEMP_MPY_wvf_snd.mp3\n"
          ],
          "name": "stdout"
        },
        {
          "output_type": "stream",
          "text": [
            "100%|██████████| 883/883 [00:00<00:00, 1220.86it/s]"
          ],
          "name": "stderr"
        },
        {
          "output_type": "stream",
          "text": [
            "[MoviePy] Done.\n",
            "[MoviePy] Writing video new_video.mp4\n"
          ],
          "name": "stdout"
        },
        {
          "output_type": "stream",
          "text": [
            "\n",
            "100%|██████████| 1202/1202 [00:03<00:00, 357.45it/s]\n"
          ],
          "name": "stderr"
        },
        {
          "output_type": "stream",
          "text": [
            "[MoviePy] Done.\n",
            "[MoviePy] >>>> Video ready: new_video.mp4 \n",
            "\n",
            "(1468, 8, 2048)\n",
            "RoadAccidents117.mp4\n",
            "(5, 8, 2048)\n",
            "(1473, 8, 2048)\n",
            "[MoviePy] >>>> Building video new_video.mp4\n",
            "[MoviePy] Writing audio in new_videoTEMP_MPY_wvf_snd.mp3\n"
          ],
          "name": "stdout"
        },
        {
          "output_type": "stream",
          "text": [
            "100%|██████████| 918/918 [00:00<00:00, 1409.93it/s]"
          ],
          "name": "stderr"
        },
        {
          "output_type": "stream",
          "text": [
            "[MoviePy] Done.\n",
            "[MoviePy] Writing video new_video.mp4\n"
          ],
          "name": "stdout"
        },
        {
          "output_type": "stream",
          "text": [
            "\n",
            "100%|█████████▉| 1248/1249 [00:05<00:00, 237.16it/s]\n"
          ],
          "name": "stderr"
        },
        {
          "output_type": "stream",
          "text": [
            "[MoviePy] Done.\n",
            "[MoviePy] >>>> Video ready: new_video.mp4 \n",
            "\n",
            "(1478, 8, 2048)\n",
            "RoadAccidents119.mp4\n",
            "(5, 8, 2048)\n",
            "(1483, 8, 2048)\n",
            "[MoviePy] >>>> Building video new_video.mp4\n",
            "[MoviePy] Writing audio in new_videoTEMP_MPY_wvf_snd.mp3\n"
          ],
          "name": "stdout"
        },
        {
          "output_type": "stream",
          "text": [
            "100%|██████████| 899/899 [00:00<00:00, 1423.83it/s]"
          ],
          "name": "stderr"
        },
        {
          "output_type": "stream",
          "text": [
            "[MoviePy] Done.\n",
            "[MoviePy] Writing video new_video.mp4\n"
          ],
          "name": "stdout"
        },
        {
          "output_type": "stream",
          "text": [
            "\n",
            "100%|██████████| 1224/1224 [00:04<00:00, 295.59it/s]\n"
          ],
          "name": "stderr"
        },
        {
          "output_type": "stream",
          "text": [
            "[MoviePy] Done.\n",
            "[MoviePy] >>>> Video ready: new_video.mp4 \n",
            "\n",
            "(1488, 8, 2048)\n",
            "RoadAccidents124.mp4\n",
            "(4, 8, 2048)\n",
            "(1492, 8, 2048)\n",
            "[MoviePy] >>>> Building video new_video.mp4\n",
            "[MoviePy] Writing audio in new_videoTEMP_MPY_wvf_snd.mp3\n"
          ],
          "name": "stdout"
        },
        {
          "output_type": "stream",
          "text": [
            "100%|██████████| 722/722 [00:00<00:00, 1415.98it/s]"
          ],
          "name": "stderr"
        },
        {
          "output_type": "stream",
          "text": [
            "[MoviePy] Done.\n",
            "[MoviePy] Writing video new_video.mp4\n"
          ],
          "name": "stdout"
        },
        {
          "output_type": "stream",
          "text": [
            "\n",
            "100%|██████████| 982/982 [00:02<00:00, 346.84it/s]\n"
          ],
          "name": "stderr"
        },
        {
          "output_type": "stream",
          "text": [
            "[MoviePy] Done.\n",
            "[MoviePy] >>>> Video ready: new_video.mp4 \n",
            "\n",
            "(1496, 8, 2048)\n",
            "RoadAccidents131.mp4\n",
            "(5, 8, 2048)\n",
            "(1501, 8, 2048)\n",
            "[MoviePy] >>>> Building video new_video.mp4\n",
            "[MoviePy] Writing audio in new_videoTEMP_MPY_wvf_snd.mp3\n"
          ],
          "name": "stdout"
        },
        {
          "output_type": "stream",
          "text": [
            "100%|██████████| 896/896 [00:00<00:00, 1413.09it/s]"
          ],
          "name": "stderr"
        },
        {
          "output_type": "stream",
          "text": [
            "[MoviePy] Done.\n",
            "[MoviePy] Writing video new_video.mp4\n"
          ],
          "name": "stdout"
        },
        {
          "output_type": "stream",
          "text": [
            "\n",
            "100%|██████████| 1219/1219 [00:03<00:00, 355.00it/s]\n"
          ],
          "name": "stderr"
        },
        {
          "output_type": "stream",
          "text": [
            "[MoviePy] Done.\n",
            "[MoviePy] >>>> Video ready: new_video.mp4 \n",
            "\n",
            "(1506, 8, 2048)\n",
            "RoadAccidents139.mp4\n",
            "(5, 8, 2048)\n",
            "(1511, 8, 2048)\n",
            "[MoviePy] >>>> Building video new_video.mp4\n",
            "[MoviePy] Writing audio in new_videoTEMP_MPY_wvf_snd.mp3\n"
          ],
          "name": "stdout"
        },
        {
          "output_type": "stream",
          "text": [
            "100%|██████████| 900/900 [00:00<00:00, 993.42it/s]\n"
          ],
          "name": "stderr"
        },
        {
          "output_type": "stream",
          "text": [
            "[MoviePy] Done.\n",
            "[MoviePy] Writing video new_video.mp4\n"
          ],
          "name": "stdout"
        },
        {
          "output_type": "stream",
          "text": [
            "100%|██████████| 1224/1224 [00:03<00:00, 378.11it/s]"
          ],
          "name": "stderr"
        },
        {
          "output_type": "stream",
          "text": [
            "[MoviePy] Done.\n",
            "[MoviePy] >>>> Video ready: new_video.mp4 \n",
            "\n"
          ],
          "name": "stdout"
        },
        {
          "output_type": "stream",
          "text": [
            "\n"
          ],
          "name": "stderr"
        },
        {
          "output_type": "stream",
          "text": [
            "(1516, 8, 2048)\n",
            "RoadAccidents140.mp4\n",
            "(5, 8, 2048)\n",
            "(1521, 8, 2048)\n",
            "[MoviePy] >>>> Building video new_video.mp4\n",
            "[MoviePy] Writing audio in new_videoTEMP_MPY_wvf_snd.mp3\n"
          ],
          "name": "stdout"
        },
        {
          "output_type": "stream",
          "text": [
            "100%|██████████| 1006/1006 [00:00<00:00, 1233.11it/s]"
          ],
          "name": "stderr"
        },
        {
          "output_type": "stream",
          "text": [
            "[MoviePy] Done.\n",
            "[MoviePy] Writing video new_video.mp4\n"
          ],
          "name": "stdout"
        },
        {
          "output_type": "stream",
          "text": [
            "\n",
            "100%|██████████| 1369/1369 [00:03<00:00, 355.00it/s]\n"
          ],
          "name": "stderr"
        },
        {
          "output_type": "stream",
          "text": [
            "[MoviePy] Done.\n",
            "[MoviePy] >>>> Video ready: new_video.mp4 \n",
            "\n",
            "(1526, 8, 2048)\n",
            "RoadAccidents141.mp4\n",
            "(5, 8, 2048)\n",
            "(1531, 8, 2048)\n",
            "[MoviePy] >>>> Building video new_video.mp4\n",
            "[MoviePy] Writing audio in new_videoTEMP_MPY_wvf_snd.mp3\n"
          ],
          "name": "stdout"
        },
        {
          "output_type": "stream",
          "text": [
            "100%|██████████| 1002/1002 [00:00<00:00, 1386.00it/s]"
          ],
          "name": "stderr"
        },
        {
          "output_type": "stream",
          "text": [
            "[MoviePy] Done.\n",
            "[MoviePy] Writing video new_video.mp4\n"
          ],
          "name": "stdout"
        },
        {
          "output_type": "stream",
          "text": [
            "\n",
            "100%|██████████| 1363/1363 [00:03<00:00, 373.37it/s]"
          ],
          "name": "stderr"
        },
        {
          "output_type": "stream",
          "text": [
            "[MoviePy] Done.\n",
            "[MoviePy] >>>> Video ready: new_video.mp4 \n",
            "\n"
          ],
          "name": "stdout"
        },
        {
          "output_type": "stream",
          "text": [
            "\n"
          ],
          "name": "stderr"
        },
        {
          "output_type": "stream",
          "text": [
            "(1536, 8, 2048)\n",
            "RoadAccidents142.mp4\n",
            "(6, 8, 2048)\n",
            "(1542, 8, 2048)\n",
            "[MoviePy] >>>> Building video new_video.mp4\n",
            "[MoviePy] Writing audio in new_videoTEMP_MPY_wvf_snd.mp3\n"
          ],
          "name": "stdout"
        },
        {
          "output_type": "stream",
          "text": [
            "100%|██████████| 1129/1129 [00:01<00:00, 794.92it/s]\n"
          ],
          "name": "stderr"
        },
        {
          "output_type": "stream",
          "text": [
            "[MoviePy] Done.\n",
            "[MoviePy] Writing video new_video.mp4\n"
          ],
          "name": "stdout"
        },
        {
          "output_type": "stream",
          "text": [
            "100%|██████████| 1536/1536 [00:04<00:00, 326.99it/s]\n"
          ],
          "name": "stderr"
        },
        {
          "output_type": "stream",
          "text": [
            "[MoviePy] Done.\n",
            "[MoviePy] >>>> Video ready: new_video.mp4 \n",
            "\n",
            "(1548, 8, 2048)\n",
            "RoadAccidents143.mp4\n",
            "(2, 8, 2048)\n",
            "(1550, 8, 2048)\n",
            "[MoviePy] >>>> Building video new_video.mp4\n",
            "[MoviePy] Writing audio in new_videoTEMP_MPY_wvf_snd.mp3\n"
          ],
          "name": "stdout"
        },
        {
          "output_type": "stream",
          "text": [
            "100%|██████████| 459/459 [00:00<00:00, 1365.20it/s]"
          ],
          "name": "stderr"
        },
        {
          "output_type": "stream",
          "text": [
            "[MoviePy] Done.\n",
            "[MoviePy] Writing video new_video.mp4\n"
          ],
          "name": "stdout"
        },
        {
          "output_type": "stream",
          "text": [
            "\n",
            "100%|█████████▉| 624/625 [00:01<00:00, 339.18it/s]\n"
          ],
          "name": "stderr"
        },
        {
          "output_type": "stream",
          "text": [
            "[MoviePy] Done.\n",
            "[MoviePy] >>>> Video ready: new_video.mp4 \n",
            "\n",
            "(1552, 8, 2048)\n",
            "RoadAccidents146.mp4\n",
            "(4, 8, 2048)\n",
            "(1556, 8, 2048)\n",
            "[MoviePy] >>>> Building video new_video.mp4\n",
            "[MoviePy] Writing audio in new_videoTEMP_MPY_wvf_snd.mp3\n"
          ],
          "name": "stdout"
        },
        {
          "output_type": "stream",
          "text": [
            "100%|██████████| 767/767 [00:00<00:00, 1387.03it/s]"
          ],
          "name": "stderr"
        },
        {
          "output_type": "stream",
          "text": [
            "[MoviePy] Done.\n",
            "[MoviePy] Writing video new_video.mp4\n"
          ],
          "name": "stdout"
        },
        {
          "output_type": "stream",
          "text": [
            "\n",
            "100%|██████████| 1044/1044 [00:03<00:00, 333.48it/s]\n"
          ],
          "name": "stderr"
        },
        {
          "output_type": "stream",
          "text": [
            "[MoviePy] Done.\n",
            "[MoviePy] >>>> Video ready: new_video.mp4 \n",
            "\n",
            "(1560, 8, 2048)\n",
            "RoadAccidents147.mp4\n",
            "(6, 8, 2048)\n",
            "(1566, 8, 2048)\n",
            "[MoviePy] >>>> Building video new_video.mp4\n",
            "[MoviePy] Writing audio in new_videoTEMP_MPY_wvf_snd.mp3\n"
          ],
          "name": "stdout"
        },
        {
          "output_type": "stream",
          "text": [
            "100%|██████████| 1191/1191 [00:00<00:00, 1363.12it/s]"
          ],
          "name": "stderr"
        },
        {
          "output_type": "stream",
          "text": [
            "[MoviePy] Done.\n",
            "[MoviePy] Writing video new_video.mp4\n"
          ],
          "name": "stdout"
        },
        {
          "output_type": "stream",
          "text": [
            "\n",
            "100%|█████████▉| 1620/1621 [00:04<00:00, 374.01it/s]"
          ],
          "name": "stderr"
        },
        {
          "output_type": "stream",
          "text": [
            "[MoviePy] Done.\n",
            "[MoviePy] >>>> Video ready: new_video.mp4 \n",
            "\n"
          ],
          "name": "stdout"
        },
        {
          "output_type": "stream",
          "text": [
            "\n"
          ],
          "name": "stderr"
        },
        {
          "output_type": "stream",
          "text": [
            "(1572, 8, 2048)\n",
            "RoadAccidents148.mp4\n",
            "(10, 8, 2048)\n",
            "(1582, 8, 2048)\n",
            "[MoviePy] >>>> Building video new_video.mp4\n",
            "[MoviePy] Writing audio in new_videoTEMP_MPY_wvf_snd.mp3\n"
          ],
          "name": "stdout"
        },
        {
          "output_type": "stream",
          "text": [
            "100%|██████████| 1752/1752 [00:01<00:00, 1379.45it/s]"
          ],
          "name": "stderr"
        },
        {
          "output_type": "stream",
          "text": [
            "[MoviePy] Done.\n",
            "[MoviePy] Writing video new_video.mp4\n"
          ],
          "name": "stdout"
        },
        {
          "output_type": "stream",
          "text": [
            "\n",
            "100%|██████████| 2384/2384 [00:08<00:00, 283.32it/s]\n"
          ],
          "name": "stderr"
        },
        {
          "output_type": "stream",
          "text": [
            "[MoviePy] Done.\n",
            "[MoviePy] >>>> Video ready: new_video.mp4 \n",
            "\n",
            "(1592, 8, 2048)\n",
            "RoadAccidents149.mp4\n",
            "(7, 8, 2048)\n",
            "(1599, 8, 2048)\n",
            "[MoviePy] >>>> Building video new_video.mp4\n",
            "[MoviePy] Writing audio in new_videoTEMP_MPY_wvf_snd.mp3\n"
          ],
          "name": "stdout"
        },
        {
          "output_type": "stream",
          "text": [
            "100%|██████████| 1224/1224 [00:00<00:00, 1367.72it/s]"
          ],
          "name": "stderr"
        },
        {
          "output_type": "stream",
          "text": [
            "[MoviePy] Done.\n",
            "[MoviePy] Writing video new_video.mp4\n"
          ],
          "name": "stdout"
        },
        {
          "output_type": "stream",
          "text": [
            "\n",
            "100%|██████████| 1666/1666 [00:04<00:00, 357.46it/s]\n"
          ],
          "name": "stderr"
        },
        {
          "output_type": "stream",
          "text": [
            "[MoviePy] Done.\n",
            "[MoviePy] >>>> Video ready: new_video.mp4 \n",
            "\n",
            "(1606, 8, 2048)\n",
            "RoadAccidents150.mp4\n",
            "(5, 8, 2048)\n",
            "(1611, 8, 2048)\n",
            "[MoviePy] >>>> Building video new_video.mp4\n",
            "[MoviePy] Writing audio in new_videoTEMP_MPY_wvf_snd.mp3\n"
          ],
          "name": "stdout"
        },
        {
          "output_type": "stream",
          "text": [
            "100%|██████████| 905/905 [00:00<00:00, 1391.50it/s]"
          ],
          "name": "stderr"
        },
        {
          "output_type": "stream",
          "text": [
            "[MoviePy] Done.\n",
            "[MoviePy] Writing video new_video.mp4\n"
          ],
          "name": "stdout"
        },
        {
          "output_type": "stream",
          "text": [
            "\n",
            "100%|██████████| 1231/1231 [00:03<00:00, 354.71it/s]\n"
          ],
          "name": "stderr"
        },
        {
          "output_type": "stream",
          "text": [
            "[MoviePy] Done.\n",
            "[MoviePy] >>>> Video ready: new_video.mp4 \n",
            "\n",
            "(1616, 8, 2048)\n",
            "RoadAccidents151.mp4\n",
            "(2, 8, 2048)\n",
            "(1618, 8, 2048)\n",
            "[MoviePy] >>>> Building video new_video.mp4\n",
            "[MoviePy] Writing audio in new_videoTEMP_MPY_wvf_snd.mp3\n"
          ],
          "name": "stdout"
        },
        {
          "output_type": "stream",
          "text": [
            "100%|██████████| 481/481 [00:00<00:00, 1048.95it/s]"
          ],
          "name": "stderr"
        },
        {
          "output_type": "stream",
          "text": [
            "[MoviePy] Done.\n",
            "[MoviePy] Writing video new_video.mp4\n"
          ],
          "name": "stdout"
        },
        {
          "output_type": "stream",
          "text": [
            "\n",
            "100%|█████████▉| 654/655 [00:02<00:00, 325.29it/s]\n"
          ],
          "name": "stderr"
        },
        {
          "output_type": "stream",
          "text": [
            "[MoviePy] Done.\n",
            "[MoviePy] >>>> Video ready: new_video.mp4 \n",
            "\n",
            "(1620, 8, 2048)\n",
            "Robbery109.mp4\n",
            "(10, 8, 2048)\n",
            "(1630, 8, 2048)\n",
            "[MoviePy] >>>> Building video new_video.mp4\n",
            "[MoviePy] Writing audio in new_videoTEMP_MPY_wvf_snd.mp3\n"
          ],
          "name": "stdout"
        },
        {
          "output_type": "stream",
          "text": [
            "100%|██████████| 1831/1831 [00:01<00:00, 1402.37it/s]"
          ],
          "name": "stderr"
        },
        {
          "output_type": "stream",
          "text": [
            "[MoviePy] Done.\n",
            "[MoviePy] Writing video new_video.mp4\n"
          ],
          "name": "stdout"
        },
        {
          "output_type": "stream",
          "text": [
            "\n",
            "100%|██████████| 2491/2491 [00:06<00:00, 386.04it/s]\n"
          ],
          "name": "stderr"
        },
        {
          "output_type": "stream",
          "text": [
            "[MoviePy] Done.\n",
            "[MoviePy] >>>> Video ready: new_video.mp4 \n",
            "\n",
            "(1640, 8, 2048)\n",
            "Robbery110.mp4\n",
            "(9, 8, 2048)\n",
            "(1649, 8, 2048)\n",
            "[MoviePy] >>>> Building video new_video.mp4\n",
            "[MoviePy] Writing audio in new_videoTEMP_MPY_wvf_snd.mp3\n"
          ],
          "name": "stdout"
        },
        {
          "output_type": "stream",
          "text": [
            "100%|██████████| 1604/1604 [00:01<00:00, 1395.44it/s]"
          ],
          "name": "stderr"
        },
        {
          "output_type": "stream",
          "text": [
            "[MoviePy] Done.\n",
            "[MoviePy] Writing video new_video.mp4\n"
          ],
          "name": "stdout"
        },
        {
          "output_type": "stream",
          "text": [
            "\n",
            "100%|█████████▉| 2181/2182 [00:06<00:00, 348.90it/s]\n"
          ],
          "name": "stderr"
        },
        {
          "output_type": "stream",
          "text": [
            "[MoviePy] Done.\n",
            "[MoviePy] >>>> Video ready: new_video.mp4 \n",
            "\n",
            "(1658, 8, 2048)\n",
            "Robbery111.mp4\n",
            "(20, 8, 2048)\n",
            "(1678, 8, 2048)\n",
            "[MoviePy] >>>> Building video new_video.mp4\n",
            "[MoviePy] Writing audio in new_videoTEMP_MPY_wvf_snd.mp3\n"
          ],
          "name": "stdout"
        },
        {
          "output_type": "stream",
          "text": [
            "100%|██████████| 3597/3597 [00:02<00:00, 1391.72it/s]"
          ],
          "name": "stderr"
        },
        {
          "output_type": "stream",
          "text": [
            "[MoviePy] Done.\n",
            "[MoviePy] Writing video new_video.mp4\n"
          ],
          "name": "stdout"
        },
        {
          "output_type": "stream",
          "text": [
            "\n",
            "100%|█████████▉| 4893/4894 [00:14<00:00, 333.52it/s]\n"
          ],
          "name": "stderr"
        },
        {
          "output_type": "stream",
          "text": [
            "[MoviePy] Done.\n",
            "[MoviePy] >>>> Video ready: new_video.mp4 \n",
            "\n",
            "(1698, 8, 2048)\n",
            "Robbery112.mp4\n",
            "(3, 8, 2048)\n",
            "(1701, 8, 2048)\n",
            "[MoviePy] >>>> Building video new_video.mp4\n",
            "[MoviePy] Writing audio in new_videoTEMP_MPY_wvf_snd.mp3\n"
          ],
          "name": "stdout"
        },
        {
          "output_type": "stream",
          "text": [
            "100%|██████████| 676/676 [00:00<00:00, 1380.68it/s]"
          ],
          "name": "stderr"
        },
        {
          "output_type": "stream",
          "text": [
            "[MoviePy] Done.\n",
            "[MoviePy] Writing video new_video.mp4\n"
          ],
          "name": "stdout"
        },
        {
          "output_type": "stream",
          "text": [
            "\n",
            "100%|██████████| 919/919 [00:02<00:00, 363.52it/s]\n"
          ],
          "name": "stderr"
        },
        {
          "output_type": "stream",
          "text": [
            "[MoviePy] Done.\n",
            "[MoviePy] >>>> Video ready: new_video.mp4 \n",
            "\n",
            "(1704, 8, 2048)\n",
            "Robbery114.mp4\n",
            "(4, 8, 2048)\n",
            "(1708, 8, 2048)\n",
            "[MoviePy] >>>> Building video new_video.mp4\n",
            "[MoviePy] Writing audio in new_videoTEMP_MPY_wvf_snd.mp3\n"
          ],
          "name": "stdout"
        },
        {
          "output_type": "stream",
          "text": [
            "100%|██████████| 853/853 [00:00<00:00, 1419.17it/s]"
          ],
          "name": "stderr"
        },
        {
          "output_type": "stream",
          "text": [
            "[MoviePy] Done.\n",
            "[MoviePy] Writing video new_video.mp4\n"
          ],
          "name": "stdout"
        },
        {
          "output_type": "stream",
          "text": [
            "\n",
            "100%|██████████| 1161/1161 [00:03<00:00, 315.15it/s]"
          ],
          "name": "stderr"
        },
        {
          "output_type": "stream",
          "text": [
            "[MoviePy] Done.\n",
            "[MoviePy] >>>> Video ready: new_video.mp4 \n",
            "\n"
          ],
          "name": "stdout"
        },
        {
          "output_type": "stream",
          "text": [
            "\n"
          ],
          "name": "stderr"
        },
        {
          "output_type": "stream",
          "text": [
            "(1712, 8, 2048)\n",
            "Robbery115.mp4\n",
            "(7, 8, 2048)\n",
            "(1719, 8, 2048)\n",
            "[MoviePy] >>>> Building video new_video.mp4\n",
            "[MoviePy] Writing audio in new_videoTEMP_MPY_wvf_snd.mp3\n"
          ],
          "name": "stdout"
        },
        {
          "output_type": "stream",
          "text": [
            "100%|██████████| 1223/1223 [00:00<00:00, 1385.17it/s]"
          ],
          "name": "stderr"
        },
        {
          "output_type": "stream",
          "text": [
            "[MoviePy] Done.\n",
            "[MoviePy] Writing video new_video.mp4\n"
          ],
          "name": "stdout"
        },
        {
          "output_type": "stream",
          "text": [
            "\n",
            "100%|██████████| 1663/1663 [00:04<00:00, 388.91it/s]\n"
          ],
          "name": "stderr"
        },
        {
          "output_type": "stream",
          "text": [
            "[MoviePy] Done.\n",
            "[MoviePy] >>>> Video ready: new_video.mp4 \n",
            "\n",
            "(1726, 8, 2048)\n",
            "Robbery117.mp4\n",
            "(12, 8, 2048)\n",
            "(1738, 8, 2048)\n",
            "[MoviePy] >>>> Building video new_video.mp4\n",
            "[MoviePy] Writing audio in new_videoTEMP_MPY_wvf_snd.mp3\n"
          ],
          "name": "stdout"
        },
        {
          "output_type": "stream",
          "text": [
            "100%|██████████| 2174/2174 [00:01<00:00, 1378.58it/s]"
          ],
          "name": "stderr"
        },
        {
          "output_type": "stream",
          "text": [
            "[MoviePy] Done.\n",
            "[MoviePy] Writing video new_video.mp4\n"
          ],
          "name": "stdout"
        },
        {
          "output_type": "stream",
          "text": [
            "\n",
            "100%|██████████| 2958/2958 [00:08<00:00, 366.54it/s]"
          ],
          "name": "stderr"
        },
        {
          "output_type": "stream",
          "text": [
            "[MoviePy] Done.\n",
            "[MoviePy] >>>> Video ready: new_video.mp4 \n",
            "\n"
          ],
          "name": "stdout"
        },
        {
          "output_type": "stream",
          "text": [
            "\n"
          ],
          "name": "stderr"
        },
        {
          "output_type": "stream",
          "text": [
            "(1750, 8, 2048)\n",
            "Robbery118.mp4\n",
            "(5, 8, 2048)\n",
            "(1755, 8, 2048)\n",
            "[MoviePy] >>>> Building video new_video.mp4\n",
            "[MoviePy] Writing audio in new_videoTEMP_MPY_wvf_snd.mp3\n"
          ],
          "name": "stdout"
        },
        {
          "output_type": "stream",
          "text": [
            "100%|██████████| 886/886 [00:00<00:00, 1389.61it/s]"
          ],
          "name": "stderr"
        },
        {
          "output_type": "stream",
          "text": [
            "[MoviePy] Done.\n",
            "[MoviePy] Writing video new_video.mp4\n"
          ],
          "name": "stdout"
        },
        {
          "output_type": "stream",
          "text": [
            "\n",
            "100%|██████████| 1205/1205 [00:03<00:00, 374.47it/s]"
          ],
          "name": "stderr"
        },
        {
          "output_type": "stream",
          "text": [
            "[MoviePy] Done.\n",
            "[MoviePy] >>>> Video ready: new_video.mp4 \n",
            "\n"
          ],
          "name": "stdout"
        },
        {
          "output_type": "stream",
          "text": [
            "\n"
          ],
          "name": "stderr"
        },
        {
          "output_type": "stream",
          "text": [
            "(1760, 8, 2048)\n",
            "Robbery119.mp4\n",
            "(12, 8, 2048)\n",
            "(1772, 8, 2048)\n",
            "[MoviePy] >>>> Building video new_video.mp4\n",
            "[MoviePy] Writing audio in new_videoTEMP_MPY_wvf_snd.mp3\n"
          ],
          "name": "stdout"
        },
        {
          "output_type": "stream",
          "text": [
            "100%|██████████| 2217/2217 [00:01<00:00, 1404.97it/s]"
          ],
          "name": "stderr"
        },
        {
          "output_type": "stream",
          "text": [
            "[MoviePy] Done.\n",
            "[MoviePy] Writing video new_video.mp4\n"
          ],
          "name": "stdout"
        },
        {
          "output_type": "stream",
          "text": [
            "\n",
            "100%|██████████| 3016/3016 [00:07<00:00, 385.89it/s]\n"
          ],
          "name": "stderr"
        },
        {
          "output_type": "stream",
          "text": [
            "[MoviePy] Done.\n",
            "[MoviePy] >>>> Video ready: new_video.mp4 \n",
            "\n",
            "(1784, 8, 2048)\n",
            "Robbery121.mp4\n",
            "(5, 8, 2048)\n",
            "(1789, 8, 2048)\n",
            "[MoviePy] >>>> Building video new_video.mp4\n",
            "[MoviePy] Writing audio in new_videoTEMP_MPY_wvf_snd.mp3\n"
          ],
          "name": "stdout"
        },
        {
          "output_type": "stream",
          "text": [
            "100%|██████████| 1016/1016 [00:00<00:00, 1392.91it/s]"
          ],
          "name": "stderr"
        },
        {
          "output_type": "stream",
          "text": [
            "[MoviePy] Done.\n",
            "[MoviePy] Writing video new_video.mp4\n"
          ],
          "name": "stdout"
        },
        {
          "output_type": "stream",
          "text": [
            "\n",
            "100%|██████████| 1382/1382 [00:03<00:00, 391.39it/s]\n"
          ],
          "name": "stderr"
        },
        {
          "output_type": "stream",
          "text": [
            "[MoviePy] Done.\n",
            "[MoviePy] >>>> Video ready: new_video.mp4 \n",
            "\n",
            "(1794, 8, 2048)\n",
            "Robbery124.mp4\n",
            "(26, 8, 2048)\n",
            "(1820, 8, 2048)\n",
            "[MoviePy] >>>> Building video new_video.mp4\n",
            "[MoviePy] Writing audio in new_videoTEMP_MPY_wvf_snd.mp3\n"
          ],
          "name": "stdout"
        },
        {
          "output_type": "stream",
          "text": [
            "100%|██████████| 4708/4708 [00:03<00:00, 1415.87it/s]"
          ],
          "name": "stderr"
        },
        {
          "output_type": "stream",
          "text": [
            "[MoviePy] Done.\n",
            "[MoviePy] Writing video new_video.mp4\n"
          ],
          "name": "stdout"
        },
        {
          "output_type": "stream",
          "text": [
            "\n",
            "100%|█████████▉| 6405/6406 [00:17<00:00, 370.09it/s]\n"
          ],
          "name": "stderr"
        },
        {
          "output_type": "stream",
          "text": [
            "[MoviePy] Done.\n",
            "[MoviePy] >>>> Video ready: new_video.mp4 \n",
            "\n",
            "(1846, 8, 2048)\n",
            "Robbery125.mp4\n",
            "(18, 8, 2048)\n",
            "(1864, 8, 2048)\n",
            "[MoviePy] >>>> Building video new_video.mp4\n",
            "[MoviePy] Writing audio in new_videoTEMP_MPY_wvf_snd.mp3\n"
          ],
          "name": "stdout"
        },
        {
          "output_type": "stream",
          "text": [
            "100%|██████████| 3250/3250 [00:02<00:00, 1244.69it/s]"
          ],
          "name": "stderr"
        },
        {
          "output_type": "stream",
          "text": [
            "[MoviePy] Done.\n",
            "[MoviePy] Writing video new_video.mp4\n"
          ],
          "name": "stdout"
        },
        {
          "output_type": "stream",
          "text": [
            "\n",
            "100%|██████████| 4421/4421 [00:14<00:00, 304.24it/s]\n"
          ],
          "name": "stderr"
        },
        {
          "output_type": "stream",
          "text": [
            "[MoviePy] Done.\n",
            "[MoviePy] >>>> Video ready: new_video.mp4 \n",
            "\n",
            "(1882, 8, 2048)\n",
            "Robbery126.mp4\n",
            "(4, 8, 2048)\n",
            "(1886, 8, 2048)\n",
            "[MoviePy] >>>> Building video new_video.mp4\n",
            "[MoviePy] Writing audio in new_videoTEMP_MPY_wvf_snd.mp3\n"
          ],
          "name": "stdout"
        },
        {
          "output_type": "stream",
          "text": [
            "100%|██████████| 842/842 [00:00<00:00, 1005.41it/s]"
          ],
          "name": "stderr"
        },
        {
          "output_type": "stream",
          "text": [
            "[MoviePy] Done.\n",
            "[MoviePy] Writing video new_video.mp4\n"
          ],
          "name": "stdout"
        },
        {
          "output_type": "stream",
          "text": [
            "\n",
            "100%|██████████| 1146/1146 [00:03<00:00, 379.66it/s]"
          ],
          "name": "stderr"
        },
        {
          "output_type": "stream",
          "text": [
            "[MoviePy] Done.\n",
            "[MoviePy] >>>> Video ready: new_video.mp4 \n",
            "\n"
          ],
          "name": "stdout"
        },
        {
          "output_type": "stream",
          "text": [
            "\n"
          ],
          "name": "stderr"
        },
        {
          "output_type": "stream",
          "text": [
            "(1890, 8, 2048)\n",
            "Robbery127.mp4\n",
            "(4, 8, 2048)\n",
            "(1894, 8, 2048)\n",
            "[MoviePy] >>>> Building video new_video.mp4\n",
            "[MoviePy] Writing audio in new_videoTEMP_MPY_wvf_snd.mp3\n"
          ],
          "name": "stdout"
        },
        {
          "output_type": "stream",
          "text": [
            "100%|██████████| 747/747 [00:00<00:00, 1426.21it/s]"
          ],
          "name": "stderr"
        },
        {
          "output_type": "stream",
          "text": [
            "[MoviePy] Done.\n",
            "[MoviePy] Writing video new_video.mp4\n"
          ],
          "name": "stdout"
        },
        {
          "output_type": "stream",
          "text": [
            "\n",
            "100%|██████████| 1016/1016 [00:04<00:00, 248.79it/s]\n"
          ],
          "name": "stderr"
        },
        {
          "output_type": "stream",
          "text": [
            "[MoviePy] Done.\n",
            "[MoviePy] >>>> Video ready: new_video.mp4 \n",
            "\n",
            "(1898, 8, 2048)\n",
            "Robbery128.mp4\n",
            "(12, 8, 2048)\n",
            "(1910, 8, 2048)\n",
            "[MoviePy] >>>> Building video new_video.mp4\n",
            "[MoviePy] Writing audio in new_videoTEMP_MPY_wvf_snd.mp3\n"
          ],
          "name": "stdout"
        },
        {
          "output_type": "stream",
          "text": [
            "100%|██████████| 2271/2271 [00:02<00:00, 1083.53it/s]"
          ],
          "name": "stderr"
        },
        {
          "output_type": "stream",
          "text": [
            "[MoviePy] Done.\n",
            "[MoviePy] Writing video new_video.mp4\n"
          ],
          "name": "stdout"
        },
        {
          "output_type": "stream",
          "text": [
            "\n",
            "100%|██████████| 3090/3090 [00:07<00:00, 397.85it/s]"
          ],
          "name": "stderr"
        },
        {
          "output_type": "stream",
          "text": [
            "[MoviePy] Done.\n",
            "[MoviePy] >>>> Video ready: new_video.mp4 \n",
            "\n"
          ],
          "name": "stdout"
        },
        {
          "output_type": "stream",
          "text": [
            "\n"
          ],
          "name": "stderr"
        },
        {
          "output_type": "stream",
          "text": [
            "(1922, 8, 2048)\n",
            "Robbery129.mp4\n",
            "(7, 8, 2048)\n",
            "(1929, 8, 2048)\n",
            "[MoviePy] >>>> Building video new_video.mp4\n",
            "[MoviePy] Writing audio in new_videoTEMP_MPY_wvf_snd.mp3\n"
          ],
          "name": "stdout"
        },
        {
          "output_type": "stream",
          "text": [
            "100%|██████████| 1306/1306 [00:00<00:00, 1398.00it/s]"
          ],
          "name": "stderr"
        },
        {
          "output_type": "stream",
          "text": [
            "[MoviePy] Done.\n",
            "[MoviePy] Writing video new_video.mp4\n"
          ],
          "name": "stdout"
        },
        {
          "output_type": "stream",
          "text": [
            "\n",
            "100%|██████████| 1777/1777 [00:04<00:00, 369.37it/s]\n"
          ],
          "name": "stderr"
        },
        {
          "output_type": "stream",
          "text": [
            "[MoviePy] Done.\n",
            "[MoviePy] >>>> Video ready: new_video.mp4 \n",
            "\n",
            "(1936, 8, 2048)\n",
            "Robbery130.mp4\n",
            "(7, 8, 2048)\n",
            "(1943, 8, 2048)\n",
            "[MoviePy] >>>> Building video new_video.mp4\n",
            "[MoviePy] Writing audio in new_videoTEMP_MPY_wvf_snd.mp3\n"
          ],
          "name": "stdout"
        },
        {
          "output_type": "stream",
          "text": [
            "100%|██████████| 1297/1297 [00:00<00:00, 1405.45it/s]"
          ],
          "name": "stderr"
        },
        {
          "output_type": "stream",
          "text": [
            "[MoviePy] Done.\n",
            "[MoviePy] Writing video new_video.mp4\n"
          ],
          "name": "stdout"
        },
        {
          "output_type": "stream",
          "text": [
            "\n",
            "100%|██████████| 1765/1765 [00:04<00:00, 361.84it/s]\n"
          ],
          "name": "stderr"
        },
        {
          "output_type": "stream",
          "text": [
            "[MoviePy] Done.\n",
            "[MoviePy] >>>> Video ready: new_video.mp4 \n",
            "\n",
            "(1950, 8, 2048)\n",
            "Robbery131.mp4\n",
            "(6, 8, 2048)\n",
            "(1956, 8, 2048)\n",
            "[MoviePy] >>>> Building video new_video.mp4\n",
            "[MoviePy] Writing audio in new_videoTEMP_MPY_wvf_snd.mp3\n"
          ],
          "name": "stdout"
        },
        {
          "output_type": "stream",
          "text": [
            "100%|██████████| 1097/1097 [00:00<00:00, 1391.79it/s]"
          ],
          "name": "stderr"
        },
        {
          "output_type": "stream",
          "text": [
            "[MoviePy] Done.\n",
            "[MoviePy] Writing video new_video.mp4\n"
          ],
          "name": "stdout"
        },
        {
          "output_type": "stream",
          "text": [
            "\n",
            "100%|██████████| 1492/1492 [00:04<00:00, 305.66it/s]\n"
          ],
          "name": "stderr"
        },
        {
          "output_type": "stream",
          "text": [
            "[MoviePy] Done.\n",
            "[MoviePy] >>>> Video ready: new_video.mp4 \n",
            "\n",
            "(1962, 8, 2048)\n",
            "Robbery133.mp4\n",
            "(6, 8, 2048)\n",
            "(1968, 8, 2048)\n",
            "[MoviePy] >>>> Building video new_video.mp4\n",
            "[MoviePy] Writing audio in new_videoTEMP_MPY_wvf_snd.mp3\n"
          ],
          "name": "stdout"
        },
        {
          "output_type": "stream",
          "text": [
            "100%|██████████| 1085/1085 [00:00<00:00, 1405.95it/s]"
          ],
          "name": "stderr"
        },
        {
          "output_type": "stream",
          "text": [
            "[MoviePy] Done.\n",
            "[MoviePy] Writing video new_video.mp4\n"
          ],
          "name": "stdout"
        },
        {
          "output_type": "stream",
          "text": [
            "\n",
            "100%|██████████| 1476/1476 [00:04<00:00, 328.78it/s]\n"
          ],
          "name": "stderr"
        },
        {
          "output_type": "stream",
          "text": [
            "[MoviePy] Done.\n",
            "[MoviePy] >>>> Video ready: new_video.mp4 \n",
            "\n",
            "(1974, 8, 2048)\n",
            "Robbery135.mp4\n",
            "(13, 8, 2048)\n",
            "(1987, 8, 2048)\n",
            "[MoviePy] >>>> Building video new_video.mp4\n",
            "[MoviePy] Writing audio in new_videoTEMP_MPY_wvf_snd.mp3\n"
          ],
          "name": "stdout"
        },
        {
          "output_type": "stream",
          "text": [
            "100%|██████████| 2278/2278 [00:01<00:00, 1390.39it/s]\n"
          ],
          "name": "stderr"
        },
        {
          "output_type": "stream",
          "text": [
            "[MoviePy] Done.\n",
            "[MoviePy] Writing video new_video.mp4\n"
          ],
          "name": "stdout"
        },
        {
          "output_type": "stream",
          "text": [
            "100%|█████████▉| 3099/3100 [00:09<00:00, 317.74it/s]\n"
          ],
          "name": "stderr"
        },
        {
          "output_type": "stream",
          "text": [
            "[MoviePy] Done.\n",
            "[MoviePy] >>>> Video ready: new_video.mp4 \n",
            "\n",
            "(2000, 8, 2048)\n",
            "Robbery136.mp4\n",
            "(4, 8, 2048)\n",
            "(2004, 8, 2048)\n",
            "[MoviePy] >>>> Building video new_video.mp4\n",
            "[MoviePy] Writing audio in new_videoTEMP_MPY_wvf_snd.mp3\n"
          ],
          "name": "stdout"
        },
        {
          "output_type": "stream",
          "text": [
            "100%|██████████| 714/714 [00:00<00:00, 1485.00it/s]"
          ],
          "name": "stderr"
        },
        {
          "output_type": "stream",
          "text": [
            "[MoviePy] Done.\n",
            "[MoviePy] Writing video new_video.mp4\n"
          ],
          "name": "stdout"
        },
        {
          "output_type": "stream",
          "text": [
            "\n",
            "100%|██████████| 972/972 [00:02<00:00, 359.59it/s]"
          ],
          "name": "stderr"
        },
        {
          "output_type": "stream",
          "text": [
            "[MoviePy] Done.\n",
            "[MoviePy] >>>> Video ready: new_video.mp4 \n",
            "\n"
          ],
          "name": "stdout"
        },
        {
          "output_type": "stream",
          "text": [
            "\n"
          ],
          "name": "stderr"
        },
        {
          "output_type": "stream",
          "text": [
            "(2008, 8, 2048)\n",
            "Robbery137.mp4\n",
            "(8, 8, 2048)\n",
            "(2016, 8, 2048)\n",
            "[MoviePy] >>>> Building video new_video.mp4\n",
            "[MoviePy] Writing audio in new_videoTEMP_MPY_wvf_snd.mp3\n"
          ],
          "name": "stdout"
        },
        {
          "output_type": "stream",
          "text": [
            "100%|██████████| 1430/1430 [00:01<00:00, 916.47it/s]"
          ],
          "name": "stderr"
        },
        {
          "output_type": "stream",
          "text": [
            "[MoviePy] Done.\n",
            "[MoviePy] Writing video new_video.mp4\n"
          ],
          "name": "stdout"
        },
        {
          "output_type": "stream",
          "text": [
            "\n",
            "100%|██████████| 1945/1945 [00:05<00:00, 350.10it/s]\n"
          ],
          "name": "stderr"
        },
        {
          "output_type": "stream",
          "text": [
            "[MoviePy] Done.\n",
            "[MoviePy] >>>> Video ready: new_video.mp4 \n",
            "\n",
            "(2024, 8, 2048)\n",
            "Robbery140.mp4\n",
            "(4, 8, 2048)\n",
            "(2028, 8, 2048)\n",
            "[MoviePy] >>>> Building video new_video.mp4\n",
            "[MoviePy] Writing audio in new_videoTEMP_MPY_wvf_snd.mp3\n"
          ],
          "name": "stdout"
        },
        {
          "output_type": "stream",
          "text": [
            "100%|██████████| 786/786 [00:00<00:00, 2116.95it/s]"
          ],
          "name": "stderr"
        },
        {
          "output_type": "stream",
          "text": [
            "[MoviePy] Done.\n",
            "[MoviePy] Writing video new_video.mp4\n"
          ],
          "name": "stdout"
        },
        {
          "output_type": "stream",
          "text": [
            "\n",
            "100%|██████████| 1069/1069 [00:02<00:00, 374.78it/s]\n"
          ],
          "name": "stderr"
        },
        {
          "output_type": "stream",
          "text": [
            "[MoviePy] Done.\n",
            "[MoviePy] >>>> Video ready: new_video.mp4 \n",
            "\n",
            "(2032, 8, 2048)\n",
            "Robbery141.mp4\n",
            "(11, 8, 2048)\n",
            "(2043, 8, 2048)\n",
            "[MoviePy] >>>> Building video new_video.mp4\n",
            "[MoviePy] Writing audio in new_videoTEMP_MPY_wvf_snd.mp3\n"
          ],
          "name": "stdout"
        },
        {
          "output_type": "stream",
          "text": [
            "100%|██████████| 1987/1987 [00:01<00:00, 1320.71it/s]"
          ],
          "name": "stderr"
        },
        {
          "output_type": "stream",
          "text": [
            "[MoviePy] Done.\n",
            "[MoviePy] Writing video new_video.mp4\n"
          ],
          "name": "stdout"
        },
        {
          "output_type": "stream",
          "text": [
            "\n",
            "100%|██████████| 2703/2703 [00:07<00:00, 366.56it/s]"
          ],
          "name": "stderr"
        },
        {
          "output_type": "stream",
          "text": [
            "[MoviePy] Done.\n",
            "[MoviePy] >>>> Video ready: new_video.mp4 \n",
            "\n"
          ],
          "name": "stdout"
        },
        {
          "output_type": "stream",
          "text": [
            "\n"
          ],
          "name": "stderr"
        },
        {
          "output_type": "stream",
          "text": [
            "(2054, 8, 2048)\n",
            "Robbery145.mp4\n",
            "(5, 8, 2048)\n",
            "(2059, 8, 2048)\n",
            "[MoviePy] >>>> Building video new_video.mp4\n",
            "[MoviePy] Writing audio in new_videoTEMP_MPY_wvf_snd.mp3\n"
          ],
          "name": "stdout"
        },
        {
          "output_type": "stream",
          "text": [
            "100%|██████████| 911/911 [00:00<00:00, 1391.40it/s]"
          ],
          "name": "stderr"
        },
        {
          "output_type": "stream",
          "text": [
            "[MoviePy] Done.\n",
            "[MoviePy] Writing video new_video.mp4\n"
          ],
          "name": "stdout"
        },
        {
          "output_type": "stream",
          "text": [
            "\n",
            "100%|█████████▉| 1239/1240 [00:03<00:00, 344.60it/s]\n"
          ],
          "name": "stderr"
        },
        {
          "output_type": "stream",
          "text": [
            "[MoviePy] Done.\n",
            "[MoviePy] >>>> Video ready: new_video.mp4 \n",
            "\n",
            "(2064, 8, 2048)\n",
            "Robbery146.mp4\n",
            "(6, 8, 2048)\n",
            "(2070, 8, 2048)\n",
            "[MoviePy] >>>> Building video new_video.mp4\n",
            "[MoviePy] Writing audio in new_videoTEMP_MPY_wvf_snd.mp3\n"
          ],
          "name": "stdout"
        },
        {
          "output_type": "stream",
          "text": [
            "100%|██████████| 1206/1206 [00:00<00:00, 1374.37it/s]"
          ],
          "name": "stderr"
        },
        {
          "output_type": "stream",
          "text": [
            "[MoviePy] Done.\n",
            "[MoviePy] Writing video new_video.mp4\n"
          ],
          "name": "stdout"
        },
        {
          "output_type": "stream",
          "text": [
            "\n",
            "100%|██████████| 1641/1641 [00:05<00:00, 300.62it/s]\n"
          ],
          "name": "stderr"
        },
        {
          "output_type": "stream",
          "text": [
            "[MoviePy] Done.\n",
            "[MoviePy] >>>> Video ready: new_video.mp4 \n",
            "\n",
            "(2076, 8, 2048)\n",
            "Robbery148.mp4\n",
            "(7, 8, 2048)\n",
            "(2083, 8, 2048)\n",
            "[MoviePy] >>>> Building video new_video.mp4\n",
            "[MoviePy] Writing audio in new_videoTEMP_MPY_wvf_snd.mp3\n"
          ],
          "name": "stdout"
        },
        {
          "output_type": "stream",
          "text": [
            "100%|██████████| 1338/1338 [00:01<00:00, 1053.22it/s]"
          ],
          "name": "stderr"
        },
        {
          "output_type": "stream",
          "text": [
            "[MoviePy] Done.\n",
            "[MoviePy] Writing video new_video.mp4\n"
          ],
          "name": "stdout"
        },
        {
          "output_type": "stream",
          "text": [
            "\n",
            "100%|██████████| 1820/1820 [00:05<00:00, 360.73it/s]"
          ],
          "name": "stderr"
        },
        {
          "output_type": "stream",
          "text": [
            "[MoviePy] Done.\n",
            "[MoviePy] >>>> Video ready: new_video.mp4 \n",
            "\n"
          ],
          "name": "stdout"
        },
        {
          "output_type": "stream",
          "text": [
            "\n"
          ],
          "name": "stderr"
        },
        {
          "output_type": "stream",
          "text": [
            "(2090, 8, 2048)\n",
            "Robbery149.mp4\n",
            "(3, 8, 2048)\n",
            "(2093, 8, 2048)\n",
            "[MoviePy] >>>> Building video new_video.mp4\n",
            "[MoviePy] Writing audio in new_videoTEMP_MPY_wvf_snd.mp3\n"
          ],
          "name": "stdout"
        },
        {
          "output_type": "stream",
          "text": [
            "100%|██████████| 539/539 [00:00<00:00, 1419.58it/s]"
          ],
          "name": "stderr"
        },
        {
          "output_type": "stream",
          "text": [
            "[MoviePy] Done.\n",
            "[MoviePy] Writing video new_video.mp4\n"
          ],
          "name": "stdout"
        },
        {
          "output_type": "stream",
          "text": [
            "\n",
            "100%|██████████| 733/733 [00:02<00:00, 319.59it/s]"
          ],
          "name": "stderr"
        },
        {
          "output_type": "stream",
          "text": [
            "[MoviePy] Done.\n",
            "[MoviePy] >>>> Video ready: new_video.mp4 \n",
            "\n"
          ],
          "name": "stdout"
        },
        {
          "output_type": "stream",
          "text": [
            "\n"
          ],
          "name": "stderr"
        },
        {
          "output_type": "stream",
          "text": [
            "(2096, 8, 2048)\n",
            "Robbery150.mp4\n",
            "(7, 8, 2048)\n",
            "(2103, 8, 2048)\n",
            "[MoviePy] >>>> Building video new_video.mp4\n",
            "[MoviePy] Writing audio in new_videoTEMP_MPY_wvf_snd.mp3\n"
          ],
          "name": "stdout"
        },
        {
          "output_type": "stream",
          "text": [
            "100%|██████████| 1241/1241 [00:00<00:00, 1397.30it/s]"
          ],
          "name": "stderr"
        },
        {
          "output_type": "stream",
          "text": [
            "[MoviePy] Done.\n",
            "[MoviePy] Writing video new_video.mp4\n"
          ],
          "name": "stdout"
        },
        {
          "output_type": "stream",
          "text": [
            "\n",
            "100%|██████████| 1689/1689 [00:04<00:00, 399.68it/s]"
          ],
          "name": "stderr"
        },
        {
          "output_type": "stream",
          "text": [
            "[MoviePy] Done.\n",
            "[MoviePy] >>>> Video ready: new_video.mp4 \n",
            "\n"
          ],
          "name": "stdout"
        },
        {
          "output_type": "stream",
          "text": [
            "\n"
          ],
          "name": "stderr"
        },
        {
          "output_type": "stream",
          "text": [
            "(2110, 8, 2048)\n",
            "Shooting043.mp4\n",
            "(7, 8, 2048)\n",
            "(2117, 8, 2048)\n",
            "[MoviePy] >>>> Building video new_video.mp4\n",
            "[MoviePy] Writing audio in new_videoTEMP_MPY_wvf_snd.mp3\n"
          ],
          "name": "stdout"
        },
        {
          "output_type": "stream",
          "text": [
            "100%|██████████| 1309/1309 [00:00<00:00, 1376.96it/s]"
          ],
          "name": "stderr"
        },
        {
          "output_type": "stream",
          "text": [
            "[MoviePy] Done.\n",
            "[MoviePy] Writing video new_video.mp4\n"
          ],
          "name": "stdout"
        },
        {
          "output_type": "stream",
          "text": [
            "\n",
            "100%|██████████| 1781/1781 [00:04<00:00, 370.08it/s]\n"
          ],
          "name": "stderr"
        },
        {
          "output_type": "stream",
          "text": [
            "[MoviePy] Done.\n",
            "[MoviePy] >>>> Video ready: new_video.mp4 \n",
            "\n",
            "(2124, 8, 2048)\n",
            "Shooting044.mp4\n",
            "(2, 8, 2048)\n",
            "(2126, 8, 2048)\n",
            "[MoviePy] >>>> Building video new_video.mp4\n",
            "[MoviePy] Writing audio in new_videoTEMP_MPY_wvf_snd.mp3\n"
          ],
          "name": "stdout"
        },
        {
          "output_type": "stream",
          "text": [
            "100%|██████████| 343/343 [00:00<00:00, 1076.64it/s]"
          ],
          "name": "stderr"
        },
        {
          "output_type": "stream",
          "text": [
            "[MoviePy] Done.\n",
            "[MoviePy] Writing video new_video.mp4\n"
          ],
          "name": "stdout"
        },
        {
          "output_type": "stream",
          "text": [
            "\n",
            "100%|██████████| 466/466 [00:01<00:00, 386.66it/s]\n"
          ],
          "name": "stderr"
        },
        {
          "output_type": "stream",
          "text": [
            "[MoviePy] Done.\n",
            "[MoviePy] >>>> Video ready: new_video.mp4 \n",
            "\n",
            "(2128, 8, 2048)\n",
            "Shooting046.mp4\n",
            "(17, 8, 2048)\n",
            "(2145, 8, 2048)\n",
            "[MoviePy] >>>> Building video new_video.mp4\n",
            "[MoviePy] Writing video new_video.mp4\n"
          ],
          "name": "stdout"
        },
        {
          "output_type": "stream",
          "text": [
            "100%|█████████▉| 4107/4108 [00:11<00:00, 348.12it/s]\n"
          ],
          "name": "stderr"
        },
        {
          "output_type": "stream",
          "text": [
            "[MoviePy] Done.\n",
            "[MoviePy] >>>> Video ready: new_video.mp4 \n",
            "\n",
            "(2162, 8, 2048)\n",
            "Shooting047.mp4\n",
            "(21, 8, 2048)\n",
            "(2183, 8, 2048)\n",
            "[MoviePy] >>>> Building video new_video.mp4\n",
            "[MoviePy] Writing video new_video.mp4\n"
          ],
          "name": "stdout"
        },
        {
          "output_type": "stream",
          "text": [
            "100%|█████████▉| 5103/5104 [00:14<00:00, 352.70it/s]\n"
          ],
          "name": "stderr"
        },
        {
          "output_type": "stream",
          "text": [
            "[MoviePy] Done.\n",
            "[MoviePy] >>>> Video ready: new_video.mp4 \n",
            "\n",
            "(2204, 8, 2048)\n",
            "Shooting048.mp4\n",
            "(6, 8, 2048)\n",
            "(2210, 8, 2048)\n",
            "[MoviePy] >>>> Building video new_video.mp4\n",
            "[MoviePy] Writing audio in new_videoTEMP_MPY_wvf_snd.mp3\n"
          ],
          "name": "stdout"
        },
        {
          "output_type": "stream",
          "text": [
            "100%|██████████| 1044/1044 [00:00<00:00, 1379.85it/s]"
          ],
          "name": "stderr"
        },
        {
          "output_type": "stream",
          "text": [
            "[MoviePy] Done.\n",
            "[MoviePy] Writing video new_video.mp4\n"
          ],
          "name": "stdout"
        },
        {
          "output_type": "stream",
          "text": [
            "\n",
            "100%|██████████| 1420/1420 [00:03<00:00, 394.18it/s]"
          ],
          "name": "stderr"
        },
        {
          "output_type": "stream",
          "text": [
            "[MoviePy] Done.\n",
            "[MoviePy] >>>> Video ready: new_video.mp4 \n",
            "\n"
          ],
          "name": "stdout"
        },
        {
          "output_type": "stream",
          "text": [
            "\n"
          ],
          "name": "stderr"
        },
        {
          "output_type": "stream",
          "text": [
            "(2216, 8, 2048)\n",
            "Shooting050.mp4\n",
            "(11, 8, 2048)\n",
            "(2227, 8, 2048)\n",
            "[MoviePy] >>>> Building video new_video.mp4\n",
            "[MoviePy] Writing audio in new_videoTEMP_MPY_wvf_snd.mp3\n"
          ],
          "name": "stdout"
        },
        {
          "output_type": "stream",
          "text": [
            "100%|██████████| 1930/1930 [00:01<00:00, 1398.20it/s]"
          ],
          "name": "stderr"
        },
        {
          "output_type": "stream",
          "text": [
            "[MoviePy] Done.\n",
            "[MoviePy] Writing video new_video.mp4\n"
          ],
          "name": "stdout"
        },
        {
          "output_type": "stream",
          "text": [
            "\n",
            "100%|██████████| 2625/2625 [00:06<00:00, 390.48it/s]\n"
          ],
          "name": "stderr"
        },
        {
          "output_type": "stream",
          "text": [
            "[MoviePy] Done.\n",
            "[MoviePy] >>>> Video ready: new_video.mp4 \n",
            "\n",
            "(2238, 8, 2048)\n",
            "Shooting051.mp4\n",
            "(5, 8, 2048)\n",
            "(2243, 8, 2048)\n",
            "[MoviePy] >>>> Building video new_video.mp4\n",
            "[MoviePy] Writing audio in new_videoTEMP_MPY_wvf_snd.mp3\n"
          ],
          "name": "stdout"
        },
        {
          "output_type": "stream",
          "text": [
            "100%|██████████| 894/894 [00:00<00:00, 1385.58it/s]"
          ],
          "name": "stderr"
        },
        {
          "output_type": "stream",
          "text": [
            "[MoviePy] Done.\n",
            "[MoviePy] Writing video new_video.mp4\n"
          ],
          "name": "stdout"
        },
        {
          "output_type": "stream",
          "text": [
            "\n",
            "100%|██████████| 1216/1216 [00:03<00:00, 365.99it/s]"
          ],
          "name": "stderr"
        },
        {
          "output_type": "stream",
          "text": [
            "[MoviePy] Done.\n",
            "[MoviePy] >>>> Video ready: new_video.mp4 \n",
            "\n"
          ],
          "name": "stdout"
        },
        {
          "output_type": "stream",
          "text": [
            "\n"
          ],
          "name": "stderr"
        },
        {
          "output_type": "stream",
          "text": [
            "(2248, 8, 2048)\n",
            "Shooting052.mp4\n",
            "(8, 8, 2048)\n",
            "(2256, 8, 2048)\n",
            "[MoviePy] >>>> Building video new_video.mp4\n",
            "[MoviePy] Writing audio in new_videoTEMP_MPY_wvf_snd.mp3\n"
          ],
          "name": "stdout"
        },
        {
          "output_type": "stream",
          "text": [
            "100%|██████████| 1501/1501 [00:01<00:00, 1157.14it/s]"
          ],
          "name": "stderr"
        },
        {
          "output_type": "stream",
          "text": [
            "[MoviePy] Done.\n",
            "[MoviePy] Writing video new_video.mp4\n"
          ],
          "name": "stdout"
        },
        {
          "output_type": "stream",
          "text": [
            "\n",
            "100%|██████████| 2041/2041 [00:05<00:00, 369.64it/s]\n"
          ],
          "name": "stderr"
        },
        {
          "output_type": "stream",
          "text": [
            "[MoviePy] Done.\n",
            "[MoviePy] >>>> Video ready: new_video.mp4 \n",
            "\n",
            "(2264, 8, 2048)\n",
            "Shooting053.mp4\n",
            "(3, 8, 2048)\n",
            "(2267, 8, 2048)\n",
            "[MoviePy] >>>> Building video new_video.mp4\n",
            "[MoviePy] Writing audio in new_videoTEMP_MPY_wvf_snd.mp3\n"
          ],
          "name": "stdout"
        },
        {
          "output_type": "stream",
          "text": [
            "100%|██████████| 546/546 [00:00<00:00, 1089.30it/s]\n"
          ],
          "name": "stderr"
        },
        {
          "output_type": "stream",
          "text": [
            "[MoviePy] Done.\n",
            "[MoviePy] Writing video new_video.mp4\n"
          ],
          "name": "stdout"
        },
        {
          "output_type": "stream",
          "text": [
            "100%|██████████| 742/742 [00:02<00:00, 345.56it/s]"
          ],
          "name": "stderr"
        },
        {
          "output_type": "stream",
          "text": [
            "[MoviePy] Done.\n",
            "[MoviePy] >>>> Video ready: new_video.mp4 \n",
            "\n"
          ],
          "name": "stdout"
        },
        {
          "output_type": "stream",
          "text": [
            "\n"
          ],
          "name": "stderr"
        },
        {
          "output_type": "stream",
          "text": [
            "(2270, 8, 2048)\n",
            "Shoplifting045.mp4\n",
            "(6, 8, 2048)\n",
            "(2276, 8, 2048)\n",
            "[MoviePy] >>>> Building video new_video.mp4\n",
            "[MoviePy] Writing audio in new_videoTEMP_MPY_wvf_snd.mp3\n"
          ],
          "name": "stdout"
        },
        {
          "output_type": "stream",
          "text": [
            "100%|██████████| 1047/1047 [00:00<00:00, 1435.92it/s]"
          ],
          "name": "stderr"
        },
        {
          "output_type": "stream",
          "text": [
            "[MoviePy] Done.\n",
            "[MoviePy] Writing video new_video.mp4\n"
          ],
          "name": "stdout"
        },
        {
          "output_type": "stream",
          "text": [
            "\n",
            "100%|██████████| 1424/1424 [00:03<00:00, 378.36it/s]\n"
          ],
          "name": "stderr"
        },
        {
          "output_type": "stream",
          "text": [
            "[MoviePy] Done.\n",
            "[MoviePy] >>>> Video ready: new_video.mp4 \n",
            "\n",
            "(2282, 8, 2048)\n",
            "Shoplifting047.mp4\n",
            "(9, 8, 2048)\n",
            "(2291, 8, 2048)\n",
            "[MoviePy] >>>> Building video new_video.mp4\n",
            "[MoviePy] Writing audio in new_videoTEMP_MPY_wvf_snd.mp3\n"
          ],
          "name": "stdout"
        },
        {
          "output_type": "stream",
          "text": [
            "100%|██████████| 1679/1679 [00:01<00:00, 1396.51it/s]"
          ],
          "name": "stderr"
        },
        {
          "output_type": "stream",
          "text": [
            "[MoviePy] Done.\n",
            "[MoviePy] Writing video new_video.mp4\n"
          ],
          "name": "stdout"
        },
        {
          "output_type": "stream",
          "text": [
            "\n",
            "100%|██████████| 2284/2284 [00:06<00:00, 358.89it/s]\n"
          ],
          "name": "stderr"
        },
        {
          "output_type": "stream",
          "text": [
            "[MoviePy] Done.\n",
            "[MoviePy] >>>> Video ready: new_video.mp4 \n",
            "\n",
            "(2300, 8, 2048)\n",
            "Shoplifting048.mp4\n",
            "(13, 8, 2048)\n",
            "(2313, 8, 2048)\n",
            "[MoviePy] >>>> Building video new_video.mp4\n",
            "[MoviePy] Writing audio in new_videoTEMP_MPY_wvf_snd.mp3\n"
          ],
          "name": "stdout"
        },
        {
          "output_type": "stream",
          "text": [
            "100%|██████████| 2287/2287 [00:01<00:00, 2154.77it/s]"
          ],
          "name": "stderr"
        },
        {
          "output_type": "stream",
          "text": [
            "[MoviePy] Done.\n",
            "[MoviePy] Writing video new_video.mp4\n"
          ],
          "name": "stdout"
        },
        {
          "output_type": "stream",
          "text": [
            "\n",
            "100%|██████████| 3111/3111 [00:09<00:00, 314.49it/s]\n"
          ],
          "name": "stderr"
        },
        {
          "output_type": "stream",
          "text": [
            "[MoviePy] Done.\n",
            "[MoviePy] >>>> Video ready: new_video.mp4 \n",
            "\n",
            "(2326, 8, 2048)\n",
            "Shoplifting049.mp4\n",
            "(7, 8, 2048)\n",
            "(2333, 8, 2048)\n",
            "[MoviePy] >>>> Building video new_video.mp4\n",
            "[MoviePy] Writing audio in new_videoTEMP_MPY_wvf_snd.mp3\n"
          ],
          "name": "stdout"
        },
        {
          "output_type": "stream",
          "text": [
            "100%|██████████| 1246/1246 [00:00<00:00, 1394.43it/s]"
          ],
          "name": "stderr"
        },
        {
          "output_type": "stream",
          "text": [
            "[MoviePy] Done.\n",
            "[MoviePy] Writing video new_video.mp4\n"
          ],
          "name": "stdout"
        },
        {
          "output_type": "stream",
          "text": [
            "\n",
            "100%|██████████| 1695/1695 [00:05<00:00, 330.98it/s]\n"
          ],
          "name": "stderr"
        },
        {
          "output_type": "stream",
          "text": [
            "[MoviePy] Done.\n",
            "[MoviePy] >>>> Video ready: new_video.mp4 \n",
            "\n",
            "(2340, 8, 2048)\n",
            "Shoplifting050.mp4\n",
            "(9, 8, 2048)\n",
            "(2349, 8, 2048)\n",
            "[MoviePy] >>>> Building video new_video.mp4\n",
            "[MoviePy] Writing audio in new_videoTEMP_MPY_wvf_snd.mp3\n"
          ],
          "name": "stdout"
        },
        {
          "output_type": "stream",
          "text": [
            "100%|██████████| 1726/1726 [00:01<00:00, 1365.47it/s]"
          ],
          "name": "stderr"
        },
        {
          "output_type": "stream",
          "text": [
            "[MoviePy] Done.\n",
            "[MoviePy] Writing video new_video.mp4\n"
          ],
          "name": "stdout"
        },
        {
          "output_type": "stream",
          "text": [
            "\n",
            "100%|██████████| 2348/2348 [00:06<00:00, 362.66it/s]"
          ],
          "name": "stderr"
        },
        {
          "output_type": "stream",
          "text": [
            "[MoviePy] Done.\n",
            "[MoviePy] >>>> Video ready: new_video.mp4 \n",
            "\n"
          ],
          "name": "stdout"
        },
        {
          "output_type": "stream",
          "text": [
            "\n"
          ],
          "name": "stderr"
        },
        {
          "output_type": "stream",
          "text": [
            "(2358, 8, 2048)\n",
            "Shoplifting051.mp4\n",
            "(5, 8, 2048)\n",
            "(2363, 8, 2048)\n",
            "[MoviePy] >>>> Building video new_video.mp4\n",
            "[MoviePy] Writing audio in new_videoTEMP_MPY_wvf_snd.mp3\n"
          ],
          "name": "stdout"
        },
        {
          "output_type": "stream",
          "text": [
            "100%|██████████| 879/879 [00:00<00:00, 1407.01it/s]"
          ],
          "name": "stderr"
        },
        {
          "output_type": "stream",
          "text": [
            "[MoviePy] Done.\n",
            "[MoviePy] Writing video new_video.mp4\n"
          ],
          "name": "stdout"
        },
        {
          "output_type": "stream",
          "text": [
            "\n",
            "100%|██████████| 1196/1196 [00:03<00:00, 363.27it/s]\n"
          ],
          "name": "stderr"
        },
        {
          "output_type": "stream",
          "text": [
            "[MoviePy] Done.\n",
            "[MoviePy] >>>> Video ready: new_video.mp4 \n",
            "\n",
            "(2368, 8, 2048)\n",
            "Shoplifting052.mp4\n",
            "(25, 8, 2048)\n",
            "(2393, 8, 2048)\n",
            "[MoviePy] >>>> Building video new_video.mp4\n",
            "[MoviePy] Writing audio in new_videoTEMP_MPY_wvf_snd.mp3\n"
          ],
          "name": "stdout"
        },
        {
          "output_type": "stream",
          "text": [
            "100%|██████████| 4537/4537 [00:03<00:00, 1399.23it/s]"
          ],
          "name": "stderr"
        },
        {
          "output_type": "stream",
          "text": [
            "[MoviePy] Done.\n",
            "[MoviePy] Writing video new_video.mp4\n"
          ],
          "name": "stdout"
        },
        {
          "output_type": "stream",
          "text": [
            "\n",
            "100%|██████████| 6172/6172 [00:18<00:00, 327.49it/s]\n"
          ],
          "name": "stderr"
        },
        {
          "output_type": "stream",
          "text": [
            "[MoviePy] Done.\n",
            "[MoviePy] >>>> Video ready: new_video.mp4 \n",
            "\n",
            "(2418, 8, 2048)\n",
            "Shoplifting053.mp4\n",
            "(7, 8, 2048)\n",
            "(2425, 8, 2048)\n",
            "[MoviePy] >>>> Building video new_video.mp4\n",
            "[MoviePy] Writing audio in new_videoTEMP_MPY_wvf_snd.mp3\n"
          ],
          "name": "stdout"
        },
        {
          "output_type": "stream",
          "text": [
            "100%|██████████| 1290/1290 [00:00<00:00, 1412.79it/s]"
          ],
          "name": "stderr"
        },
        {
          "output_type": "stream",
          "text": [
            "[MoviePy] Done.\n",
            "[MoviePy] Writing video new_video.mp4\n"
          ],
          "name": "stdout"
        },
        {
          "output_type": "stream",
          "text": [
            "\n",
            "100%|██████████| 1755/1755 [00:04<00:00, 390.66it/s]\n"
          ],
          "name": "stderr"
        },
        {
          "output_type": "stream",
          "text": [
            "[MoviePy] Done.\n",
            "[MoviePy] >>>> Video ready: new_video.mp4 \n",
            "\n",
            "(2432, 8, 2048)\n",
            "Shoplifting055.mp4\n",
            "(9, 8, 2048)\n",
            "(2441, 8, 2048)\n",
            "[MoviePy] >>>> Building video new_video.mp4\n",
            "[MoviePy] Writing audio in new_videoTEMP_MPY_wvf_snd.mp3\n"
          ],
          "name": "stdout"
        },
        {
          "output_type": "stream",
          "text": [
            "100%|██████████| 1713/1713 [00:01<00:00, 1380.82it/s]"
          ],
          "name": "stderr"
        },
        {
          "output_type": "stream",
          "text": [
            "[MoviePy] Done.\n",
            "[MoviePy] Writing video new_video.mp4\n"
          ],
          "name": "stdout"
        },
        {
          "output_type": "stream",
          "text": [
            "\n",
            "100%|██████████| 2331/2331 [00:06<00:00, 378.02it/s]\n"
          ],
          "name": "stderr"
        },
        {
          "output_type": "stream",
          "text": [
            "[MoviePy] Done.\n",
            "[MoviePy] >>>> Video ready: new_video.mp4 \n",
            "\n",
            "(2450, 8, 2048)\n",
            "Stealing087.mp4\n",
            "(20, 8, 2048)\n",
            "(2470, 8, 2048)\n",
            "[MoviePy] >>>> Building video new_video.mp4\n",
            "[MoviePy] Writing audio in new_videoTEMP_MPY_wvf_snd.mp3\n"
          ],
          "name": "stdout"
        },
        {
          "output_type": "stream",
          "text": [
            "100%|██████████| 3545/3545 [00:02<00:00, 1412.19it/s]"
          ],
          "name": "stderr"
        },
        {
          "output_type": "stream",
          "text": [
            "[MoviePy] Done.\n",
            "[MoviePy] Writing video new_video.mp4\n"
          ],
          "name": "stdout"
        },
        {
          "output_type": "stream",
          "text": [
            "\n",
            "100%|██████████| 4822/4822 [00:14<00:00, 330.47it/s]\n"
          ],
          "name": "stderr"
        },
        {
          "output_type": "stream",
          "text": [
            "[MoviePy] Done.\n",
            "[MoviePy] >>>> Video ready: new_video.mp4 \n",
            "\n",
            "(2490, 8, 2048)\n",
            "Stealing089.mp4\n",
            "(49, 8, 2048)\n",
            "(2539, 8, 2048)\n",
            "[MoviePy] >>>> Building video new_video.mp4\n",
            "[MoviePy] Writing audio in new_videoTEMP_MPY_wvf_snd.mp3\n"
          ],
          "name": "stdout"
        },
        {
          "output_type": "stream",
          "text": [
            "100%|██████████| 8628/8628 [00:06<00:00, 1413.83it/s]"
          ],
          "name": "stderr"
        },
        {
          "output_type": "stream",
          "text": [
            "[MoviePy] Done.\n",
            "[MoviePy] Writing video new_video.mp4\n"
          ],
          "name": "stdout"
        },
        {
          "output_type": "stream",
          "text": [
            "\n",
            "100%|██████████| 11738/11738 [00:30<00:00, 387.02it/s]\n"
          ],
          "name": "stderr"
        },
        {
          "output_type": "stream",
          "text": [
            "[MoviePy] Done.\n",
            "[MoviePy] >>>> Video ready: new_video.mp4 \n",
            "\n",
            "(2588, 8, 2048)\n",
            "Stealing092.mp4\n",
            "(13, 8, 2048)\n",
            "(2601, 8, 2048)\n",
            "[MoviePy] >>>> Building video new_video.mp4\n",
            "[MoviePy] Writing audio in new_videoTEMP_MPY_wvf_snd.mp3\n"
          ],
          "name": "stdout"
        },
        {
          "output_type": "stream",
          "text": [
            "100%|██████████| 2433/2433 [00:02<00:00, 1188.12it/s]"
          ],
          "name": "stderr"
        },
        {
          "output_type": "stream",
          "text": [
            "[MoviePy] Done.\n",
            "[MoviePy] Writing video new_video.mp4\n"
          ],
          "name": "stdout"
        },
        {
          "output_type": "stream",
          "text": [
            "\n",
            "100%|██████████| 3311/3311 [00:09<00:00, 353.89it/s]\n"
          ],
          "name": "stderr"
        },
        {
          "output_type": "stream",
          "text": [
            "[MoviePy] Done.\n",
            "[MoviePy] >>>> Video ready: new_video.mp4 \n",
            "\n",
            "(2614, 8, 2048)\n",
            "Stealing094.mp4\n",
            "(11, 8, 2048)\n",
            "(2625, 8, 2048)\n",
            "[MoviePy] >>>> Building video new_video.mp4\n",
            "[MoviePy] Writing audio in new_videoTEMP_MPY_wvf_snd.mp3\n"
          ],
          "name": "stdout"
        },
        {
          "output_type": "stream",
          "text": [
            "100%|██████████| 2000/2000 [00:01<00:00, 1382.71it/s]"
          ],
          "name": "stderr"
        },
        {
          "output_type": "stream",
          "text": [
            "[MoviePy] Done.\n",
            "[MoviePy] Writing video new_video.mp4\n"
          ],
          "name": "stdout"
        },
        {
          "output_type": "stream",
          "text": [
            "\n",
            "100%|█████████▉| 2721/2722 [00:06<00:00, 395.18it/s]\n"
          ],
          "name": "stderr"
        },
        {
          "output_type": "stream",
          "text": [
            "[MoviePy] Done.\n",
            "[MoviePy] >>>> Video ready: new_video.mp4 \n",
            "\n",
            "(2636, 8, 2048)\n",
            "Stealing096.mp4\n",
            "(17, 8, 2048)\n",
            "(2653, 8, 2048)\n",
            "[MoviePy] >>>> Building video new_video.mp4\n",
            "[MoviePy] Writing audio in new_videoTEMP_MPY_wvf_snd.mp3\n"
          ],
          "name": "stdout"
        },
        {
          "output_type": "stream",
          "text": [
            "100%|██████████| 3109/3109 [00:02<00:00, 1420.89it/s]"
          ],
          "name": "stderr"
        },
        {
          "output_type": "stream",
          "text": [
            "[MoviePy] Done.\n",
            "[MoviePy] Writing video new_video.mp4\n"
          ],
          "name": "stdout"
        },
        {
          "output_type": "stream",
          "text": [
            "\n",
            "100%|██████████| 4230/4230 [00:11<00:00, 363.09it/s]\n"
          ],
          "name": "stderr"
        },
        {
          "output_type": "stream",
          "text": [
            "[MoviePy] Done.\n",
            "[MoviePy] >>>> Video ready: new_video.mp4 \n",
            "\n",
            "(2670, 8, 2048)\n",
            "Stealing098.mp4\n",
            "(8, 8, 2048)\n",
            "(2678, 8, 2048)\n",
            "[MoviePy] >>>> Building video new_video.mp4\n",
            "[MoviePy] Writing audio in new_videoTEMP_MPY_wvf_snd.mp3\n"
          ],
          "name": "stdout"
        },
        {
          "output_type": "stream",
          "text": [
            "100%|██████████| 1533/1533 [00:01<00:00, 1336.53it/s]"
          ],
          "name": "stderr"
        },
        {
          "output_type": "stream",
          "text": [
            "[MoviePy] Done.\n",
            "[MoviePy] Writing video new_video.mp4\n"
          ],
          "name": "stdout"
        },
        {
          "output_type": "stream",
          "text": [
            "\n",
            "100%|█████████▉| 2085/2086 [00:06<00:00, 326.44it/s]\n"
          ],
          "name": "stderr"
        },
        {
          "output_type": "stream",
          "text": [
            "[MoviePy] Done.\n",
            "[MoviePy] >>>> Video ready: new_video.mp4 \n",
            "\n",
            "(2686, 8, 2048)\n",
            "Stealing100.mp4\n",
            "(25, 8, 2048)\n",
            "(2711, 8, 2048)\n",
            "[MoviePy] >>>> Building video new_video.mp4\n",
            "[MoviePy] Writing audio in new_videoTEMP_MPY_wvf_snd.mp3\n"
          ],
          "name": "stdout"
        },
        {
          "output_type": "stream",
          "text": [
            "100%|██████████| 4428/4428 [00:03<00:00, 1351.39it/s]"
          ],
          "name": "stderr"
        },
        {
          "output_type": "stream",
          "text": [
            "[MoviePy] Done.\n",
            "[MoviePy] Writing video new_video.mp4\n"
          ],
          "name": "stdout"
        },
        {
          "output_type": "stream",
          "text": [
            "\n",
            "100%|██████████| 6025/6025 [00:15<00:00, 390.24it/s]"
          ],
          "name": "stderr"
        },
        {
          "output_type": "stream",
          "text": [
            "[MoviePy] Done.\n",
            "[MoviePy] >>>> Video ready: new_video.mp4 \n",
            "\n"
          ],
          "name": "stdout"
        },
        {
          "output_type": "stream",
          "text": [
            "\n"
          ],
          "name": "stderr"
        },
        {
          "output_type": "stream",
          "text": [
            "(2736, 8, 2048)\n",
            "Stealing101.mp4\n",
            "(7, 8, 2048)\n",
            "(2743, 8, 2048)\n",
            "[MoviePy] >>>> Building video new_video.mp4\n",
            "[MoviePy] Writing audio in new_videoTEMP_MPY_wvf_snd.mp3\n"
          ],
          "name": "stdout"
        },
        {
          "output_type": "stream",
          "text": [
            "100%|██████████| 1276/1276 [00:00<00:00, 1342.37it/s]"
          ],
          "name": "stderr"
        },
        {
          "output_type": "stream",
          "text": [
            "[MoviePy] Done.\n",
            "[MoviePy] Writing video new_video.mp4\n"
          ],
          "name": "stdout"
        },
        {
          "output_type": "stream",
          "text": [
            "\n",
            "100%|██████████| 1735/1735 [00:04<00:00, 376.69it/s]\n"
          ],
          "name": "stderr"
        },
        {
          "output_type": "stream",
          "text": [
            "[MoviePy] Done.\n",
            "[MoviePy] >>>> Video ready: new_video.mp4 \n",
            "\n",
            "(2750, 8, 2048)\n",
            "Stealing103.mp4\n",
            "(20, 8, 2048)\n",
            "(2770, 8, 2048)\n",
            "[MoviePy] >>>> Building video new_video.mp4\n",
            "[MoviePy] Writing audio in new_videoTEMP_MPY_wvf_snd.mp3\n"
          ],
          "name": "stdout"
        },
        {
          "output_type": "stream",
          "text": [
            "100%|██████████| 3563/3563 [00:02<00:00, 1347.77it/s]\n"
          ],
          "name": "stderr"
        },
        {
          "output_type": "stream",
          "text": [
            "[MoviePy] Done.\n",
            "[MoviePy] Writing video new_video.mp4\n"
          ],
          "name": "stdout"
        },
        {
          "output_type": "stream",
          "text": [
            "100%|██████████| 4848/4848 [00:12<00:00, 375.03it/s]\n"
          ],
          "name": "stderr"
        },
        {
          "output_type": "stream",
          "text": [
            "[MoviePy] Done.\n",
            "[MoviePy] >>>> Video ready: new_video.mp4 \n",
            "\n",
            "(2790, 8, 2048)\n",
            "Stealing104.mp4\n",
            "(12, 8, 2048)\n",
            "(2802, 8, 2048)\n",
            "[MoviePy] >>>> Building video new_video.mp4\n",
            "[MoviePy] Writing audio in new_videoTEMP_MPY_wvf_snd.mp3\n"
          ],
          "name": "stdout"
        },
        {
          "output_type": "stream",
          "text": [
            "100%|██████████| 2165/2165 [00:01<00:00, 1189.88it/s]"
          ],
          "name": "stderr"
        },
        {
          "output_type": "stream",
          "text": [
            "[MoviePy] Done.\n",
            "[MoviePy] Writing video new_video.mp4\n"
          ],
          "name": "stdout"
        },
        {
          "output_type": "stream",
          "text": [
            "\n",
            "100%|██████████| 2946/2946 [00:07<00:00, 371.29it/s]\n"
          ],
          "name": "stderr"
        },
        {
          "output_type": "stream",
          "text": [
            "[MoviePy] Done.\n",
            "[MoviePy] >>>> Video ready: new_video.mp4 \n",
            "\n",
            "(2814, 8, 2048)\n",
            "Stealing106.mp4\n",
            "(5, 8, 2048)\n",
            "(2819, 8, 2048)\n",
            "[MoviePy] >>>> Building video new_video.mp4\n",
            "[MoviePy] Writing audio in new_videoTEMP_MPY_wvf_snd.mp3\n"
          ],
          "name": "stdout"
        },
        {
          "output_type": "stream",
          "text": [
            "100%|██████████| 998/998 [00:00<00:00, 1367.94it/s]"
          ],
          "name": "stderr"
        },
        {
          "output_type": "stream",
          "text": [
            "[MoviePy] Done.\n",
            "[MoviePy] Writing video new_video.mp4\n"
          ],
          "name": "stdout"
        },
        {
          "output_type": "stream",
          "text": [
            "\n",
            "100%|██████████| 1358/1358 [00:03<00:00, 382.42it/s]\n"
          ],
          "name": "stderr"
        },
        {
          "output_type": "stream",
          "text": [
            "[MoviePy] Done.\n",
            "[MoviePy] >>>> Video ready: new_video.mp4 \n",
            "\n",
            "(2824, 8, 2048)\n",
            "Stealing107.mp4\n",
            "(17, 8, 2048)\n",
            "(2841, 8, 2048)\n",
            "[MoviePy] >>>> Building video new_video.mp4\n",
            "[MoviePy] Writing audio in new_videoTEMP_MPY_wvf_snd.mp3\n"
          ],
          "name": "stdout"
        },
        {
          "output_type": "stream",
          "text": [
            "100%|██████████| 3128/3128 [00:02<00:00, 1365.64it/s]"
          ],
          "name": "stderr"
        },
        {
          "output_type": "stream",
          "text": [
            "[MoviePy] Done.\n",
            "[MoviePy] Writing video new_video.mp4\n"
          ],
          "name": "stdout"
        },
        {
          "output_type": "stream",
          "text": [
            "\n",
            "100%|██████████| 4255/4255 [00:12<00:00, 342.90it/s]"
          ],
          "name": "stderr"
        },
        {
          "output_type": "stream",
          "text": [
            "[MoviePy] Done.\n",
            "[MoviePy] >>>> Video ready: new_video.mp4 \n",
            "\n"
          ],
          "name": "stdout"
        },
        {
          "output_type": "stream",
          "text": [
            "\n"
          ],
          "name": "stderr"
        },
        {
          "output_type": "stream",
          "text": [
            "(2858, 8, 2048)\n",
            "Stealing108.mp4\n",
            "(15, 8, 2048)\n",
            "(2873, 8, 2048)\n",
            "[MoviePy] >>>> Building video new_video.mp4\n",
            "[MoviePy] Writing audio in new_videoTEMP_MPY_wvf_snd.mp3\n"
          ],
          "name": "stdout"
        },
        {
          "output_type": "stream",
          "text": [
            "100%|██████████| 2649/2649 [00:01<00:00, 1387.92it/s]"
          ],
          "name": "stderr"
        },
        {
          "output_type": "stream",
          "text": [
            "[MoviePy] Done.\n",
            "[MoviePy] Writing video new_video.mp4\n"
          ],
          "name": "stdout"
        },
        {
          "output_type": "stream",
          "text": [
            "\n",
            "100%|██████████| 3604/3604 [00:09<00:00, 380.48it/s]\n"
          ],
          "name": "stderr"
        },
        {
          "output_type": "stream",
          "text": [
            "[MoviePy] Done.\n",
            "[MoviePy] >>>> Video ready: new_video.mp4 \n",
            "\n",
            "(2888, 8, 2048)\n",
            "Stealing109.mp4\n",
            "(23, 8, 2048)\n",
            "(2911, 8, 2048)\n",
            "[MoviePy] >>>> Building video new_video.mp4\n",
            "[MoviePy] Writing audio in new_videoTEMP_MPY_wvf_snd.mp3\n"
          ],
          "name": "stdout"
        },
        {
          "output_type": "stream",
          "text": [
            "100%|██████████| 4067/4067 [00:02<00:00, 1356.03it/s]"
          ],
          "name": "stderr"
        },
        {
          "output_type": "stream",
          "text": [
            "[MoviePy] Done.\n",
            "[MoviePy] Writing video new_video.mp4\n"
          ],
          "name": "stdout"
        },
        {
          "output_type": "stream",
          "text": [
            "\n",
            "100%|██████████| 5533/5533 [00:15<00:00, 368.67it/s]"
          ],
          "name": "stderr"
        },
        {
          "output_type": "stream",
          "text": [
            "[MoviePy] Done.\n",
            "[MoviePy] >>>> Video ready: new_video.mp4 \n",
            "\n"
          ],
          "name": "stdout"
        },
        {
          "output_type": "stream",
          "text": [
            "\n"
          ],
          "name": "stderr"
        },
        {
          "output_type": "stream",
          "text": [
            "(2934, 8, 2048)\n",
            "Stealing111.mp4\n",
            "(18, 8, 2048)\n",
            "(2952, 8, 2048)\n",
            "[MoviePy] >>>> Building video new_video.mp4\n",
            "[MoviePy] Writing audio in new_videoTEMP_MPY_wvf_snd.mp3\n"
          ],
          "name": "stdout"
        },
        {
          "output_type": "stream",
          "text": [
            "100%|██████████| 3325/3325 [00:02<00:00, 1206.50it/s]"
          ],
          "name": "stderr"
        },
        {
          "output_type": "stream",
          "text": [
            "[MoviePy] Done.\n",
            "[MoviePy] Writing video new_video.mp4\n"
          ],
          "name": "stdout"
        },
        {
          "output_type": "stream",
          "text": [
            "\n",
            "100%|██████████| 4523/4523 [00:11<00:00, 391.47it/s]\n"
          ],
          "name": "stderr"
        },
        {
          "output_type": "stream",
          "text": [
            "[MoviePy] Done.\n",
            "[MoviePy] >>>> Video ready: new_video.mp4 \n",
            "\n",
            "(2970, 8, 2048)\n",
            "Stealing112.mp4\n",
            "(6, 8, 2048)\n",
            "(2976, 8, 2048)\n",
            "[MoviePy] >>>> Building video new_video.mp4\n",
            "[MoviePy] Writing audio in new_videoTEMP_MPY_wvf_snd.mp3\n"
          ],
          "name": "stdout"
        },
        {
          "output_type": "stream",
          "text": [
            "100%|██████████| 1121/1121 [00:00<00:00, 1364.67it/s]"
          ],
          "name": "stderr"
        },
        {
          "output_type": "stream",
          "text": [
            "[MoviePy] Done.\n",
            "[MoviePy] Writing video new_video.mp4\n"
          ],
          "name": "stdout"
        },
        {
          "output_type": "stream",
          "text": [
            "\n",
            "100%|█████████▉| 1524/1525 [00:04<00:00, 341.71it/s]"
          ],
          "name": "stderr"
        },
        {
          "output_type": "stream",
          "text": [
            "[MoviePy] Done.\n",
            "[MoviePy] >>>> Video ready: new_video.mp4 \n",
            "\n"
          ],
          "name": "stdout"
        },
        {
          "output_type": "stream",
          "text": [
            "\n"
          ],
          "name": "stderr"
        },
        {
          "output_type": "stream",
          "text": [
            "(2982, 8, 2048)\n",
            "Stealing113.mp4\n",
            "(6, 8, 2048)\n",
            "(2988, 8, 2048)\n",
            "[MoviePy] >>>> Building video new_video.mp4\n",
            "[MoviePy] Writing audio in new_videoTEMP_MPY_wvf_snd.mp3\n"
          ],
          "name": "stdout"
        },
        {
          "output_type": "stream",
          "text": [
            "100%|██████████| 1105/1105 [00:01<00:00, 805.77it/s]"
          ],
          "name": "stderr"
        },
        {
          "output_type": "stream",
          "text": [
            "[MoviePy] Done.\n",
            "[MoviePy] Writing video new_video.mp4\n"
          ],
          "name": "stdout"
        },
        {
          "output_type": "stream",
          "text": [
            "\n",
            "100%|██████████| 1504/1504 [00:03<00:00, 382.81it/s]"
          ],
          "name": "stderr"
        },
        {
          "output_type": "stream",
          "text": [
            "[MoviePy] Done.\n",
            "[MoviePy] >>>> Video ready: new_video.mp4 \n",
            "\n"
          ],
          "name": "stdout"
        },
        {
          "output_type": "stream",
          "text": [
            "\n"
          ],
          "name": "stderr"
        },
        {
          "output_type": "stream",
          "text": [
            "(2994, 8, 2048)\n",
            "Stealing114.mp4\n",
            "(5, 8, 2048)\n",
            "(2999, 8, 2048)\n",
            "[MoviePy] >>>> Building video new_video.mp4\n",
            "[MoviePy] Writing audio in new_videoTEMP_MPY_wvf_snd.mp3\n"
          ],
          "name": "stdout"
        },
        {
          "output_type": "stream",
          "text": [
            "100%|██████████| 895/895 [00:00<00:00, 2096.70it/s]"
          ],
          "name": "stderr"
        },
        {
          "output_type": "stream",
          "text": [
            "[MoviePy] Done.\n",
            "[MoviePy] Writing video new_video.mp4\n"
          ],
          "name": "stdout"
        },
        {
          "output_type": "stream",
          "text": [
            "\n",
            "100%|██████████| 1218/1218 [00:02<00:00, 406.66it/s]"
          ],
          "name": "stderr"
        },
        {
          "output_type": "stream",
          "text": [
            "[MoviePy] Done.\n",
            "[MoviePy] >>>> Video ready: new_video.mp4 \n",
            "\n"
          ],
          "name": "stdout"
        },
        {
          "output_type": "stream",
          "text": [
            "\n"
          ],
          "name": "stderr"
        },
        {
          "output_type": "stream",
          "text": [
            "(3004, 8, 2048)\n",
            "Vandalism041.mp4\n",
            "(14, 8, 2048)\n",
            "(3018, 8, 2048)\n",
            "[MoviePy] >>>> Building video new_video.mp4\n",
            "[MoviePy] Writing audio in new_videoTEMP_MPY_wvf_snd.mp3\n"
          ],
          "name": "stdout"
        },
        {
          "output_type": "stream",
          "text": [
            "100%|██████████| 2538/2538 [00:01<00:00, 1397.21it/s]"
          ],
          "name": "stderr"
        },
        {
          "output_type": "stream",
          "text": [
            "[MoviePy] Done.\n",
            "[MoviePy] Writing video new_video.mp4\n"
          ],
          "name": "stdout"
        },
        {
          "output_type": "stream",
          "text": [
            "\n",
            "100%|██████████| 3453/3453 [00:08<00:00, 385.49it/s]\n"
          ],
          "name": "stderr"
        },
        {
          "output_type": "stream",
          "text": [
            "[MoviePy] Done.\n",
            "[MoviePy] >>>> Video ready: new_video.mp4 \n",
            "\n",
            "(3032, 8, 2048)\n",
            "Vandalism042.mp4\n",
            "(14, 8, 2048)\n",
            "(3046, 8, 2048)\n",
            "[MoviePy] >>>> Building video new_video.mp4\n",
            "[MoviePy] Writing audio in new_videoTEMP_MPY_wvf_snd.mp3\n"
          ],
          "name": "stdout"
        },
        {
          "output_type": "stream",
          "text": [
            "100%|██████████| 2543/2543 [00:01<00:00, 1382.97it/s]"
          ],
          "name": "stderr"
        },
        {
          "output_type": "stream",
          "text": [
            "[MoviePy] Done.\n",
            "[MoviePy] Writing video new_video.mp4\n"
          ],
          "name": "stdout"
        },
        {
          "output_type": "stream",
          "text": [
            "\n",
            "100%|█████████▉| 3459/3460 [00:10<00:00, 332.31it/s]"
          ],
          "name": "stderr"
        },
        {
          "output_type": "stream",
          "text": [
            "[MoviePy] Done.\n",
            "[MoviePy] >>>> Video ready: new_video.mp4 \n",
            "\n"
          ],
          "name": "stdout"
        },
        {
          "output_type": "stream",
          "text": [
            "\n"
          ],
          "name": "stderr"
        },
        {
          "output_type": "stream",
          "text": [
            "(3060, 8, 2048)\n",
            "Vandalism043.mp4\n",
            "(13, 8, 2048)\n",
            "(3073, 8, 2048)\n",
            "[MoviePy] >>>> Building video new_video.mp4\n",
            "[MoviePy] Writing audio in new_videoTEMP_MPY_wvf_snd.mp3\n"
          ],
          "name": "stdout"
        },
        {
          "output_type": "stream",
          "text": [
            "100%|██████████| 2336/2336 [00:02<00:00, 791.94it/s]"
          ],
          "name": "stderr"
        },
        {
          "output_type": "stream",
          "text": [
            "[MoviePy] Done.\n",
            "[MoviePy] Writing video new_video.mp4\n"
          ],
          "name": "stdout"
        },
        {
          "output_type": "stream",
          "text": [
            "\n",
            "100%|█████████▉| 3177/3178 [00:08<00:00, 380.58it/s]"
          ],
          "name": "stderr"
        },
        {
          "output_type": "stream",
          "text": [
            "[MoviePy] Done.\n",
            "[MoviePy] >>>> Video ready: new_video.mp4 \n",
            "\n"
          ],
          "name": "stdout"
        },
        {
          "output_type": "stream",
          "text": [
            "\n"
          ],
          "name": "stderr"
        },
        {
          "output_type": "stream",
          "text": [
            "(3086, 8, 2048)\n",
            "Vandalism044.mp4\n",
            "(18, 8, 2048)\n",
            "(3104, 8, 2048)\n",
            "[MoviePy] >>>> Building video new_video.mp4\n",
            "[MoviePy] Writing audio in new_videoTEMP_MPY_wvf_snd.mp3\n"
          ],
          "name": "stdout"
        },
        {
          "output_type": "stream",
          "text": [
            "100%|██████████| 3191/3191 [00:03<00:00, 905.37it/s]"
          ],
          "name": "stderr"
        },
        {
          "output_type": "stream",
          "text": [
            "[MoviePy] Done.\n",
            "[MoviePy] Writing video new_video.mp4\n"
          ],
          "name": "stdout"
        },
        {
          "output_type": "stream",
          "text": [
            "\n",
            "100%|██████████| 4341/4341 [00:11<00:00, 375.62it/s]"
          ],
          "name": "stderr"
        },
        {
          "output_type": "stream",
          "text": [
            "[MoviePy] Done.\n",
            "[MoviePy] >>>> Video ready: new_video.mp4 \n",
            "\n"
          ],
          "name": "stdout"
        },
        {
          "output_type": "stream",
          "text": [
            "\n"
          ],
          "name": "stderr"
        },
        {
          "output_type": "stream",
          "text": [
            "(3122, 8, 2048)\n",
            "Vandalism045.mp4\n",
            "(17, 8, 2048)\n",
            "(3139, 8, 2048)\n",
            "[MoviePy] >>>> Building video new_video.mp4\n",
            "[MoviePy] Writing audio in new_videoTEMP_MPY_wvf_snd.mp3\n"
          ],
          "name": "stdout"
        },
        {
          "output_type": "stream",
          "text": [
            "100%|██████████| 3153/3153 [00:02<00:00, 1353.21it/s]"
          ],
          "name": "stderr"
        },
        {
          "output_type": "stream",
          "text": [
            "[MoviePy] Done.\n",
            "[MoviePy] Writing video new_video.mp4\n"
          ],
          "name": "stdout"
        },
        {
          "output_type": "stream",
          "text": [
            "\n",
            "100%|██████████| 4290/4290 [00:13<00:00, 325.65it/s]"
          ],
          "name": "stderr"
        },
        {
          "output_type": "stream",
          "text": [
            "[MoviePy] Done.\n",
            "[MoviePy] >>>> Video ready: new_video.mp4 \n",
            "\n"
          ],
          "name": "stdout"
        },
        {
          "output_type": "stream",
          "text": [
            "\n"
          ],
          "name": "stderr"
        },
        {
          "output_type": "stream",
          "text": [
            "(3156, 8, 2048)\n",
            "Vandalism047.mp4\n",
            "(6, 8, 2048)\n",
            "(3162, 8, 2048)\n",
            "[MoviePy] >>>> Building video new_video.mp4\n",
            "[MoviePy] Writing audio in new_videoTEMP_MPY_wvf_snd.mp3\n"
          ],
          "name": "stdout"
        },
        {
          "output_type": "stream",
          "text": [
            "100%|██████████| 1213/1213 [00:00<00:00, 1343.50it/s]"
          ],
          "name": "stderr"
        },
        {
          "output_type": "stream",
          "text": [
            "[MoviePy] Done.\n",
            "[MoviePy] Writing video new_video.mp4\n"
          ],
          "name": "stdout"
        },
        {
          "output_type": "stream",
          "text": [
            "\n",
            "100%|█████████▉| 1650/1651 [00:04<00:00, 404.00it/s]\n"
          ],
          "name": "stderr"
        },
        {
          "output_type": "stream",
          "text": [
            "[MoviePy] Done.\n",
            "[MoviePy] >>>> Video ready: new_video.mp4 \n",
            "\n",
            "(3168, 8, 2048)\n",
            "Vandalism048.mp4\n",
            "(11, 8, 2048)\n",
            "(3179, 8, 2048)\n",
            "[MoviePy] >>>> Building video new_video.mp4\n",
            "[MoviePy] Writing audio in new_videoTEMP_MPY_wvf_snd.mp3\n"
          ],
          "name": "stdout"
        },
        {
          "output_type": "stream",
          "text": [
            "100%|██████████| 2047/2047 [00:01<00:00, 1396.72it/s]"
          ],
          "name": "stderr"
        },
        {
          "output_type": "stream",
          "text": [
            "[MoviePy] Done.\n",
            "[MoviePy] Writing video new_video.mp4\n"
          ],
          "name": "stdout"
        },
        {
          "output_type": "stream",
          "text": [
            "\n",
            "100%|█████████▉| 2784/2785 [00:07<00:00, 359.94it/s]"
          ],
          "name": "stderr"
        },
        {
          "output_type": "stream",
          "text": [
            "[MoviePy] Done.\n",
            "[MoviePy] >>>> Video ready: new_video.mp4 \n",
            "\n"
          ],
          "name": "stdout"
        },
        {
          "output_type": "stream",
          "text": [
            "\n"
          ],
          "name": "stderr"
        },
        {
          "output_type": "stream",
          "text": [
            "(3190, 8, 2048)\n",
            "Vandalism049.mp4\n",
            "(25, 8, 2048)\n",
            "(3215, 8, 2048)\n",
            "[MoviePy] >>>> Building video new_video.mp4\n",
            "[MoviePy] Writing audio in new_videoTEMP_MPY_wvf_snd.mp3\n"
          ],
          "name": "stdout"
        },
        {
          "output_type": "stream",
          "text": [
            "100%|██████████| 4425/4425 [00:03<00:00, 1383.34it/s]"
          ],
          "name": "stderr"
        },
        {
          "output_type": "stream",
          "text": [
            "[MoviePy] Done.\n",
            "[MoviePy] Writing video new_video.mp4\n"
          ],
          "name": "stdout"
        },
        {
          "output_type": "stream",
          "text": [
            "\n",
            "100%|██████████| 6021/6021 [00:16<00:00, 356.05it/s]"
          ],
          "name": "stderr"
        },
        {
          "output_type": "stream",
          "text": [
            "[MoviePy] Done.\n",
            "[MoviePy] >>>> Video ready: new_video.mp4 \n",
            "\n"
          ],
          "name": "stdout"
        },
        {
          "output_type": "stream",
          "text": [
            "\n"
          ],
          "name": "stderr"
        },
        {
          "output_type": "stream",
          "text": [
            "(3240, 8, 2048)\n",
            "Vandalism050.mp4\n",
            "(3, 8, 2048)\n",
            "(3243, 8, 2048)\n",
            "[MoviePy] >>>> Building video new_video.mp4\n",
            "[MoviePy] Writing audio in new_videoTEMP_MPY_wvf_snd.mp3\n"
          ],
          "name": "stdout"
        },
        {
          "output_type": "stream",
          "text": [
            "100%|██████████| 663/663 [00:00<00:00, 2098.94it/s]"
          ],
          "name": "stderr"
        },
        {
          "output_type": "stream",
          "text": [
            "[MoviePy] Done.\n",
            "[MoviePy] Writing video new_video.mp4\n"
          ],
          "name": "stdout"
        },
        {
          "output_type": "stream",
          "text": [
            "\n",
            "100%|██████████| 901/901 [00:02<00:00, 324.07it/s]\n"
          ],
          "name": "stderr"
        },
        {
          "output_type": "stream",
          "text": [
            "[MoviePy] Done.\n",
            "[MoviePy] >>>> Video ready: new_video.mp4 \n",
            "\n",
            "(3246, 8, 2048)\n",
            "Copy of Normal_Videos151_x264_Trim.mp4\n",
            "(7, 8, 2048)\n",
            "(3253, 8, 2048)\n",
            "[MoviePy] >>>> Building video new_video.mp4\n",
            "[MoviePy] Writing audio in new_videoTEMP_MPY_wvf_snd.mp3\n"
          ],
          "name": "stdout"
        },
        {
          "output_type": "stream",
          "text": [
            "100%|██████████| 1343/1343 [00:00<00:00, 1359.46it/s]"
          ],
          "name": "stderr"
        },
        {
          "output_type": "stream",
          "text": [
            "[MoviePy] Done.\n",
            "[MoviePy] Writing video new_video.mp4\n"
          ],
          "name": "stdout"
        },
        {
          "output_type": "stream",
          "text": [
            "\n",
            "100%|██████████| 1827/1827 [00:05<00:00, 350.65it/s]"
          ],
          "name": "stderr"
        },
        {
          "output_type": "stream",
          "text": [
            "[MoviePy] Done.\n",
            "[MoviePy] >>>> Video ready: new_video.mp4 \n",
            "\n"
          ],
          "name": "stdout"
        },
        {
          "output_type": "stream",
          "text": [
            "\n"
          ],
          "name": "stderr"
        },
        {
          "output_type": "stream",
          "text": [
            "(3260, 8, 2048)\n",
            "Copy of Normal_Videos148_x264.mp4\n",
            "(2, 8, 2048)\n",
            "(3262, 8, 2048)\n",
            "[MoviePy] >>>> Building video new_video.mp4\n",
            "[MoviePy] Writing audio in new_videoTEMP_MPY_wvf_snd.mp3\n"
          ],
          "name": "stdout"
        },
        {
          "output_type": "stream",
          "text": [
            "100%|██████████| 467/467 [00:00<00:00, 2062.73it/s]"
          ],
          "name": "stderr"
        },
        {
          "output_type": "stream",
          "text": [
            "[MoviePy] Done.\n",
            "[MoviePy] Writing video new_video.mp4\n"
          ],
          "name": "stdout"
        },
        {
          "output_type": "stream",
          "text": [
            "\n",
            "100%|██████████| 635/635 [00:01<00:00, 360.62it/s]"
          ],
          "name": "stderr"
        },
        {
          "output_type": "stream",
          "text": [
            "[MoviePy] Done.\n"
          ],
          "name": "stdout"
        },
        {
          "output_type": "stream",
          "text": [
            "\n"
          ],
          "name": "stderr"
        },
        {
          "output_type": "stream",
          "text": [
            "[MoviePy] >>>> Video ready: new_video.mp4 \n",
            "\n",
            "(3264, 8, 2048)\n",
            "Copy of Normal_Videos156_x264.mp4\n",
            "(3, 8, 2048)\n",
            "(3267, 8, 2048)\n",
            "[MoviePy] >>>> Building video new_video.mp4\n",
            "[MoviePy] Writing audio in new_videoTEMP_MPY_wvf_snd.mp3\n"
          ],
          "name": "stdout"
        },
        {
          "output_type": "stream",
          "text": [
            "100%|██████████| 548/548 [00:00<00:00, 1855.71it/s]"
          ],
          "name": "stderr"
        },
        {
          "output_type": "stream",
          "text": [
            "[MoviePy] Done.\n",
            "[MoviePy] Writing video new_video.mp4\n"
          ],
          "name": "stdout"
        },
        {
          "output_type": "stream",
          "text": [
            "\n",
            "100%|██████████| 746/746 [00:02<00:00, 343.67it/s]"
          ],
          "name": "stderr"
        },
        {
          "output_type": "stream",
          "text": [
            "[MoviePy] Done.\n",
            "[MoviePy] >>>> Video ready: new_video.mp4 \n",
            "\n"
          ],
          "name": "stdout"
        },
        {
          "output_type": "stream",
          "text": [
            "\n"
          ],
          "name": "stderr"
        },
        {
          "output_type": "stream",
          "text": [
            "(3270, 8, 2048)\n",
            "Copy of Normal_Videos153_x264_Trim.mp4\n",
            "(7, 8, 2048)\n",
            "(3277, 8, 2048)\n",
            "[MoviePy] >>>> Building video new_video.mp4\n",
            "[MoviePy] Writing audio in new_videoTEMP_MPY_wvf_snd.mp3\n"
          ],
          "name": "stdout"
        },
        {
          "output_type": "stream",
          "text": [
            "100%|██████████| 1339/1339 [00:00<00:00, 1361.50it/s]"
          ],
          "name": "stderr"
        },
        {
          "output_type": "stream",
          "text": [
            "[MoviePy] Done.\n",
            "[MoviePy] Writing video new_video.mp4\n"
          ],
          "name": "stdout"
        },
        {
          "output_type": "stream",
          "text": [
            "\n",
            "100%|██████████| 1822/1822 [00:04<00:00, 388.57it/s]\n"
          ],
          "name": "stderr"
        },
        {
          "output_type": "stream",
          "text": [
            "[MoviePy] Done.\n",
            "[MoviePy] >>>> Video ready: new_video.mp4 \n",
            "\n",
            "(3284, 8, 2048)\n",
            "Copy of Normal_Videos152_x264_Trim.mp4\n",
            "(11, 8, 2048)\n",
            "(3295, 8, 2048)\n",
            "[MoviePy] >>>> Building video new_video.mp4\n",
            "[MoviePy] Writing audio in new_videoTEMP_MPY_wvf_snd.mp3\n"
          ],
          "name": "stdout"
        },
        {
          "output_type": "stream",
          "text": [
            "100%|██████████| 2015/2015 [00:01<00:00, 1358.60it/s]"
          ],
          "name": "stderr"
        },
        {
          "output_type": "stream",
          "text": [
            "[MoviePy] Done.\n",
            "[MoviePy] Writing video new_video.mp4\n"
          ],
          "name": "stdout"
        },
        {
          "output_type": "stream",
          "text": [
            "\n",
            "100%|██████████| 2742/2742 [00:07<00:00, 367.69it/s]"
          ],
          "name": "stderr"
        },
        {
          "output_type": "stream",
          "text": [
            "[MoviePy] Done.\n",
            "[MoviePy] >>>> Video ready: new_video.mp4 \n",
            "\n"
          ],
          "name": "stdout"
        },
        {
          "output_type": "stream",
          "text": [
            "\n"
          ],
          "name": "stderr"
        },
        {
          "output_type": "stream",
          "text": [
            "(3306, 8, 2048)\n",
            "Copy of Normal_Videos147_x264.mp4\n",
            "(2, 8, 2048)\n",
            "(3308, 8, 2048)\n",
            "[MoviePy] >>>> Building video new_video.mp4\n",
            "[MoviePy] Writing audio in new_videoTEMP_MPY_wvf_snd.mp3\n"
          ],
          "name": "stdout"
        },
        {
          "output_type": "stream",
          "text": [
            "100%|██████████| 375/375 [00:00<00:00, 2182.42it/s]"
          ],
          "name": "stderr"
        },
        {
          "output_type": "stream",
          "text": [
            "[MoviePy] Done.\n",
            "[MoviePy] Writing video new_video.mp4\n"
          ],
          "name": "stdout"
        },
        {
          "output_type": "stream",
          "text": [
            "\n",
            "100%|█████████▉| 510/511 [00:01<00:00, 381.68it/s]"
          ],
          "name": "stderr"
        },
        {
          "output_type": "stream",
          "text": [
            "[MoviePy] Done.\n",
            "[MoviePy] >>>> Video ready: new_video.mp4 \n",
            "\n"
          ],
          "name": "stdout"
        },
        {
          "output_type": "stream",
          "text": [
            "\n"
          ],
          "name": "stderr"
        },
        {
          "output_type": "stream",
          "text": [
            "(3310, 8, 2048)\n",
            "Copy of Normal_Videos157_x264.mp4\n",
            "(0,)\n",
            "(3310, 8, 2048)\n",
            "[MoviePy] >>>> Building video new_video.mp4\n",
            "[MoviePy] Writing audio in new_videoTEMP_MPY_wvf_snd.mp3\n"
          ],
          "name": "stdout"
        },
        {
          "output_type": "stream",
          "text": [
            "100%|██████████| 150/150 [00:00<00:00, 1885.96it/s]"
          ],
          "name": "stderr"
        },
        {
          "output_type": "stream",
          "text": [
            "[MoviePy] Done.\n",
            "[MoviePy] Writing video new_video.mp4\n"
          ],
          "name": "stdout"
        },
        {
          "output_type": "stream",
          "text": [
            "\n",
            "100%|█████████▉| 204/205 [00:00<00:00, 386.46it/s]"
          ],
          "name": "stderr"
        },
        {
          "output_type": "stream",
          "text": [
            "[MoviePy] Done.\n",
            "[MoviePy] >>>> Video ready: new_video.mp4 \n",
            "\n"
          ],
          "name": "stdout"
        },
        {
          "output_type": "stream",
          "text": [
            "\n"
          ],
          "name": "stderr"
        },
        {
          "output_type": "stream",
          "text": [
            "(3310, 8, 2048)\n",
            "Copy of Normal_Videos149_x264.mp4\n",
            "(4, 8, 2048)\n",
            "(3314, 8, 2048)\n",
            "[MoviePy] >>>> Building video new_video.mp4\n",
            "[MoviePy] Writing audio in new_videoTEMP_MPY_wvf_snd.mp3\n"
          ],
          "name": "stdout"
        },
        {
          "output_type": "stream",
          "text": [
            "100%|██████████| 752/752 [00:00<00:00, 2221.20it/s]"
          ],
          "name": "stderr"
        },
        {
          "output_type": "stream",
          "text": [
            "[MoviePy] Done.\n",
            "[MoviePy] Writing video new_video.mp4\n"
          ],
          "name": "stdout"
        },
        {
          "output_type": "stream",
          "text": [
            "\n",
            "100%|██████████| 1022/1022 [00:02<00:00, 375.62it/s]\n"
          ],
          "name": "stderr"
        },
        {
          "output_type": "stream",
          "text": [
            "[MoviePy] Done.\n",
            "[MoviePy] >>>> Video ready: new_video.mp4 \n",
            "\n",
            "(3318, 8, 2048)\n",
            "Copy of Normal_Videos155_x264.mp4\n",
            "(0,)\n",
            "(3318, 8, 2048)\n",
            "[MoviePy] >>>> Building video new_video.mp4\n",
            "[MoviePy] Writing audio in new_videoTEMP_MPY_wvf_snd.mp3\n"
          ],
          "name": "stdout"
        },
        {
          "output_type": "stream",
          "text": [
            "100%|██████████| 157/157 [00:00<00:00, 2248.46it/s]"
          ],
          "name": "stderr"
        },
        {
          "output_type": "stream",
          "text": [
            "[MoviePy] Done.\n",
            "[MoviePy] Writing video new_video.mp4\n"
          ],
          "name": "stdout"
        },
        {
          "output_type": "stream",
          "text": [
            "\n",
            "100%|██████████| 213/213 [00:00<00:00, 383.02it/s]\n"
          ],
          "name": "stderr"
        },
        {
          "output_type": "stream",
          "text": [
            "[MoviePy] Done.\n",
            "[MoviePy] >>>> Video ready: new_video.mp4 \n",
            "\n",
            "(3319, 8, 2048)\n",
            "Copy of Normal_Videos154_x264.mp4\n",
            "(3, 8, 2048)\n",
            "(3322, 8, 2048)\n",
            "[MoviePy] >>>> Building video new_video.mp4\n",
            "[MoviePy] Writing audio in new_videoTEMP_MPY_wvf_snd.mp3\n"
          ],
          "name": "stdout"
        },
        {
          "output_type": "stream",
          "text": [
            "100%|██████████| 546/546 [00:00<00:00, 2160.74it/s]"
          ],
          "name": "stderr"
        },
        {
          "output_type": "stream",
          "text": [
            "[MoviePy] Done.\n",
            "[MoviePy] Writing video new_video.mp4\n"
          ],
          "name": "stdout"
        },
        {
          "output_type": "stream",
          "text": [
            "\n",
            "100%|██████████| 742/742 [00:01<00:00, 395.16it/s]\n"
          ],
          "name": "stderr"
        },
        {
          "output_type": "stream",
          "text": [
            "[MoviePy] Done.\n",
            "[MoviePy] >>>> Video ready: new_video.mp4 \n",
            "\n",
            "(3325, 8, 2048)\n",
            "Copy of Normal_Videos143_x264.mp4\n",
            "(7, 8, 2048)\n",
            "(3332, 8, 2048)\n",
            "[MoviePy] >>>> Building video new_video.mp4\n",
            "[MoviePy] Writing audio in new_videoTEMP_MPY_wvf_snd.mp3\n"
          ],
          "name": "stdout"
        },
        {
          "output_type": "stream",
          "text": [
            "100%|██████████| 1317/1317 [00:00<00:00, 2113.31it/s]"
          ],
          "name": "stderr"
        },
        {
          "output_type": "stream",
          "text": [
            "[MoviePy] Done.\n",
            "[MoviePy] Writing video new_video.mp4\n"
          ],
          "name": "stdout"
        },
        {
          "output_type": "stream",
          "text": [
            "\n",
            "100%|█████████▉| 1791/1792 [00:05<00:00, 338.40it/s]\n"
          ],
          "name": "stderr"
        },
        {
          "output_type": "stream",
          "text": [
            "[MoviePy] Done.\n",
            "[MoviePy] >>>> Video ready: new_video.mp4 \n",
            "\n",
            "(3339, 8, 2048)\n",
            "Copy of Normal_Videos144_x264_Trim2.mp4\n",
            "(3, 8, 2048)\n",
            "(3342, 8, 2048)\n",
            "[MoviePy] >>>> Building video new_video.mp4\n",
            "[MoviePy] Writing audio in new_videoTEMP_MPY_wvf_snd.mp3\n"
          ],
          "name": "stdout"
        },
        {
          "output_type": "stream",
          "text": [
            "100%|██████████| 674/674 [00:00<00:00, 1196.37it/s]"
          ],
          "name": "stderr"
        },
        {
          "output_type": "stream",
          "text": [
            "[MoviePy] Done.\n",
            "[MoviePy] Writing video new_video.mp4\n"
          ],
          "name": "stdout"
        },
        {
          "output_type": "stream",
          "text": [
            "\n",
            "100%|██████████| 916/916 [00:02<00:00, 396.96it/s]\n"
          ],
          "name": "stderr"
        },
        {
          "output_type": "stream",
          "text": [
            "[MoviePy] Done.\n",
            "[MoviePy] >>>> Video ready: new_video.mp4 \n",
            "\n",
            "(3345, 8, 2048)\n",
            "Copy of Normal_Videos146_x264.mp4\n",
            "(3, 8, 2048)\n",
            "(3348, 8, 2048)\n",
            "[MoviePy] >>>> Building video new_video.mp4\n",
            "[MoviePy] Writing audio in new_videoTEMP_MPY_wvf_snd.mp3\n"
          ],
          "name": "stdout"
        },
        {
          "output_type": "stream",
          "text": [
            "100%|██████████| 608/608 [00:00<00:00, 1353.69it/s]"
          ],
          "name": "stderr"
        },
        {
          "output_type": "stream",
          "text": [
            "[MoviePy] Done.\n",
            "[MoviePy] Writing video new_video.mp4\n"
          ],
          "name": "stdout"
        },
        {
          "output_type": "stream",
          "text": [
            "\n",
            "100%|██████████| 826/826 [00:02<00:00, 370.63it/s]\n"
          ],
          "name": "stderr"
        },
        {
          "output_type": "stream",
          "text": [
            "[MoviePy] Done.\n",
            "[MoviePy] >>>> Video ready: new_video.mp4 \n",
            "\n",
            "(3351, 8, 2048)\n",
            "Copy of Normal_Videos142_x264_Trim.mp4\n",
            "(5, 8, 2048)\n",
            "(3356, 8, 2048)\n",
            "[MoviePy] >>>> Building video new_video.mp4\n",
            "[MoviePy] Writing audio in new_videoTEMP_MPY_wvf_snd.mp3\n"
          ],
          "name": "stdout"
        },
        {
          "output_type": "stream",
          "text": [
            "100%|██████████| 901/901 [00:00<00:00, 1383.54it/s]"
          ],
          "name": "stderr"
        },
        {
          "output_type": "stream",
          "text": [
            "[MoviePy] Done.\n",
            "[MoviePy] Writing video new_video.mp4\n"
          ],
          "name": "stdout"
        },
        {
          "output_type": "stream",
          "text": [
            "\n",
            "100%|██████████| 1225/1225 [00:03<00:00, 357.72it/s]"
          ],
          "name": "stderr"
        },
        {
          "output_type": "stream",
          "text": [
            "[MoviePy] Done.\n",
            "[MoviePy] >>>> Video ready: new_video.mp4 \n",
            "\n"
          ],
          "name": "stdout"
        },
        {
          "output_type": "stream",
          "text": [
            "\n"
          ],
          "name": "stderr"
        },
        {
          "output_type": "stream",
          "text": [
            "(3361, 8, 2048)\n",
            "Copy of Normal_Videos145_x264_Trim.mp4\n",
            "(7, 8, 2048)\n",
            "(3368, 8, 2048)\n",
            "[MoviePy] >>>> Building video new_video.mp4\n",
            "[MoviePy] Writing audio in new_videoTEMP_MPY_wvf_snd.mp3\n"
          ],
          "name": "stdout"
        },
        {
          "output_type": "stream",
          "text": [
            "100%|██████████| 1339/1339 [00:01<00:00, 788.46it/s]"
          ],
          "name": "stderr"
        },
        {
          "output_type": "stream",
          "text": [
            "[MoviePy] Done.\n",
            "[MoviePy] Writing video new_video.mp4\n"
          ],
          "name": "stdout"
        },
        {
          "output_type": "stream",
          "text": [
            "\n",
            "100%|██████████| 1821/1821 [00:04<00:00, 364.43it/s]"
          ],
          "name": "stderr"
        },
        {
          "output_type": "stream",
          "text": [
            "[MoviePy] Done.\n",
            "[MoviePy] >>>> Video ready: new_video.mp4 \n",
            "\n"
          ],
          "name": "stdout"
        },
        {
          "output_type": "stream",
          "text": [
            "\n"
          ],
          "name": "stderr"
        },
        {
          "output_type": "stream",
          "text": [
            "(3375, 8, 2048)\n",
            "Copy of Normal_Videos140_x264.mp4\n",
            "(7, 8, 2048)\n",
            "(3382, 8, 2048)\n",
            "[MoviePy] >>>> Building video new_video.mp4\n",
            "[MoviePy] Writing audio in new_videoTEMP_MPY_wvf_snd.mp3\n"
          ],
          "name": "stdout"
        },
        {
          "output_type": "stream",
          "text": [
            "100%|██████████| 1320/1320 [00:00<00:00, 2121.32it/s]"
          ],
          "name": "stderr"
        },
        {
          "output_type": "stream",
          "text": [
            "[MoviePy] Done.\n",
            "[MoviePy] Writing video new_video.mp4\n"
          ],
          "name": "stdout"
        },
        {
          "output_type": "stream",
          "text": [
            "\n",
            "100%|██████████| 1796/1796 [00:05<00:00, 317.85it/s]\n"
          ],
          "name": "stderr"
        },
        {
          "output_type": "stream",
          "text": [
            "[MoviePy] Done.\n",
            "[MoviePy] >>>> Video ready: new_video.mp4 \n",
            "\n",
            "(3389, 8, 2048)\n",
            "Copy of Normal_Videos139_x264_Trim.mp4\n",
            "(15, 8, 2048)\n",
            "(3404, 8, 2048)\n",
            "[MoviePy] >>>> Building video new_video.mp4\n",
            "[MoviePy] Writing audio in new_videoTEMP_MPY_wvf_snd.mp3\n"
          ],
          "name": "stdout"
        },
        {
          "output_type": "stream",
          "text": [
            "100%|██████████| 2650/2650 [00:01<00:00, 1360.76it/s]"
          ],
          "name": "stderr"
        },
        {
          "output_type": "stream",
          "text": [
            "[MoviePy] Done.\n",
            "[MoviePy] Writing video new_video.mp4\n"
          ],
          "name": "stdout"
        },
        {
          "output_type": "stream",
          "text": [
            "\n",
            "100%|██████████| 3605/3605 [00:16<00:00, 224.98it/s]\n"
          ],
          "name": "stderr"
        },
        {
          "output_type": "stream",
          "text": [
            "[MoviePy] Done.\n",
            "[MoviePy] >>>> Video ready: new_video.mp4 \n",
            "\n",
            "(3419, 8, 2048)\n",
            "Copy of Normal_Videos141_x264_Trim2.mp4\n",
            "(3, 8, 2048)\n",
            "(3422, 8, 2048)\n",
            "[MoviePy] >>>> Building video new_video.mp4\n",
            "[MoviePy] Writing audio in new_videoTEMP_MPY_wvf_snd.mp3\n"
          ],
          "name": "stdout"
        },
        {
          "output_type": "stream",
          "text": [
            "100%|██████████| 672/672 [00:00<00:00, 1367.45it/s]"
          ],
          "name": "stderr"
        },
        {
          "output_type": "stream",
          "text": [
            "[MoviePy] Done.\n",
            "[MoviePy] Writing video new_video.mp4\n"
          ],
          "name": "stdout"
        },
        {
          "output_type": "stream",
          "text": [
            "\n",
            "100%|██████████| 914/914 [00:02<00:00, 386.63it/s]"
          ],
          "name": "stderr"
        },
        {
          "output_type": "stream",
          "text": [
            "[MoviePy] Done.\n",
            "[MoviePy] >>>> Video ready: new_video.mp4 \n",
            "\n"
          ],
          "name": "stdout"
        },
        {
          "output_type": "stream",
          "text": [
            "\n"
          ],
          "name": "stderr"
        },
        {
          "output_type": "stream",
          "text": [
            "(3425, 8, 2048)\n",
            "Copy of Normal_Videos144_x264_Trim.mp4\n",
            "(7, 8, 2048)\n",
            "(3432, 8, 2048)\n",
            "[MoviePy] >>>> Building video new_video.mp4\n",
            "[MoviePy] Writing audio in new_videoTEMP_MPY_wvf_snd.mp3\n"
          ],
          "name": "stdout"
        },
        {
          "output_type": "stream",
          "text": [
            "100%|██████████| 1339/1339 [00:01<00:00, 1165.11it/s]"
          ],
          "name": "stderr"
        },
        {
          "output_type": "stream",
          "text": [
            "[MoviePy] Done.\n",
            "[MoviePy] Writing video new_video.mp4\n"
          ],
          "name": "stdout"
        },
        {
          "output_type": "stream",
          "text": [
            "\n",
            "100%|██████████| 1822/1822 [00:04<00:00, 369.55it/s]\n"
          ],
          "name": "stderr"
        },
        {
          "output_type": "stream",
          "text": [
            "[MoviePy] Done.\n",
            "[MoviePy] >>>> Video ready: new_video.mp4 \n",
            "\n",
            "(3439, 8, 2048)\n",
            "Copy of Normal_Videos141_x264_Trim.mp4\n",
            "(3, 8, 2048)\n",
            "(3442, 8, 2048)\n",
            "[MoviePy] >>>> Building video new_video.mp4\n",
            "[MoviePy] Writing audio in new_videoTEMP_MPY_wvf_snd.mp3\n"
          ],
          "name": "stdout"
        },
        {
          "output_type": "stream",
          "text": [
            "100%|██████████| 682/682 [00:00<00:00, 1382.78it/s]"
          ],
          "name": "stderr"
        },
        {
          "output_type": "stream",
          "text": [
            "[MoviePy] Done.\n",
            "[MoviePy] Writing video new_video.mp4\n"
          ],
          "name": "stdout"
        },
        {
          "output_type": "stream",
          "text": [
            "\n",
            "100%|██████████| 928/928 [00:02<00:00, 401.78it/s]\n"
          ],
          "name": "stderr"
        },
        {
          "output_type": "stream",
          "text": [
            "[MoviePy] Done.\n",
            "[MoviePy] >>>> Video ready: new_video.mp4 \n",
            "\n",
            "(3445, 8, 2048)\n",
            "Copy of Normal_Videos138_x264_Trim2.mp4\n",
            "(15, 8, 2048)\n",
            "(3460, 8, 2048)\n",
            "[MoviePy] >>>> Building video new_video.mp4\n",
            "[MoviePy] Writing audio in new_videoTEMP_MPY_wvf_snd.mp3\n"
          ],
          "name": "stdout"
        },
        {
          "output_type": "stream",
          "text": [
            "100%|██████████| 2682/2682 [00:01<00:00, 1392.07it/s]\n"
          ],
          "name": "stderr"
        },
        {
          "output_type": "stream",
          "text": [
            "[MoviePy] Done.\n",
            "[MoviePy] Writing video new_video.mp4\n"
          ],
          "name": "stdout"
        },
        {
          "output_type": "stream",
          "text": [
            "100%|█████████▉| 3648/3649 [00:10<00:00, 334.83it/s]"
          ],
          "name": "stderr"
        },
        {
          "output_type": "stream",
          "text": [
            "[MoviePy] Done.\n",
            "[MoviePy] >>>> Video ready: new_video.mp4 \n",
            "\n"
          ],
          "name": "stdout"
        },
        {
          "output_type": "stream",
          "text": [
            "\n"
          ],
          "name": "stderr"
        },
        {
          "output_type": "stream",
          "text": [
            "(3475, 8, 2048)\n",
            "Copy of Normal_Videos137_x264_Trim3.mp4\n",
            "(7, 8, 2048)\n",
            "(3482, 8, 2048)\n",
            "[MoviePy] >>>> Building video new_video.mp4\n",
            "[MoviePy] Writing audio in new_videoTEMP_MPY_wvf_snd.mp3\n"
          ],
          "name": "stdout"
        },
        {
          "output_type": "stream",
          "text": [
            "100%|██████████| 1356/1356 [00:00<00:00, 1393.68it/s]"
          ],
          "name": "stderr"
        },
        {
          "output_type": "stream",
          "text": [
            "[MoviePy] Done.\n",
            "[MoviePy] Writing video new_video.mp4\n"
          ],
          "name": "stdout"
        },
        {
          "output_type": "stream",
          "text": [
            "\n",
            "100%|██████████| 1845/1845 [00:04<00:00, 404.59it/s]"
          ],
          "name": "stderr"
        },
        {
          "output_type": "stream",
          "text": [
            "[MoviePy] Done.\n",
            "[MoviePy] >>>> Video ready: new_video.mp4 \n",
            "\n"
          ],
          "name": "stdout"
        },
        {
          "output_type": "stream",
          "text": [
            "\n"
          ],
          "name": "stderr"
        },
        {
          "output_type": "stream",
          "text": [
            "(3489, 8, 2048)\n",
            "Copy of Normal_Videos136_x264_Trim3.mp4\n",
            "(7, 8, 2048)\n",
            "(3496, 8, 2048)\n",
            "[MoviePy] >>>> Building video new_video.mp4\n",
            "[MoviePy] Writing audio in new_videoTEMP_MPY_wvf_snd.mp3\n"
          ],
          "name": "stdout"
        },
        {
          "output_type": "stream",
          "text": [
            "100%|██████████| 1350/1350 [00:00<00:00, 1383.01it/s]"
          ],
          "name": "stderr"
        },
        {
          "output_type": "stream",
          "text": [
            "[MoviePy] Done.\n",
            "[MoviePy] Writing video new_video.mp4\n"
          ],
          "name": "stdout"
        },
        {
          "output_type": "stream",
          "text": [
            "\n",
            "100%|██████████| 1837/1837 [00:04<00:00, 370.57it/s]\n"
          ],
          "name": "stderr"
        },
        {
          "output_type": "stream",
          "text": [
            "[MoviePy] Done.\n",
            "[MoviePy] >>>> Video ready: new_video.mp4 \n",
            "\n",
            "(3503, 8, 2048)\n",
            "Copy of Normal_Videos136_x264_Trim2.mp4\n",
            "(7, 8, 2048)\n",
            "(3510, 8, 2048)\n",
            "[MoviePy] >>>> Building video new_video.mp4\n",
            "[MoviePy] Writing audio in new_videoTEMP_MPY_wvf_snd.mp3\n"
          ],
          "name": "stdout"
        },
        {
          "output_type": "stream",
          "text": [
            "100%|██████████| 1350/1350 [00:00<00:00, 1375.25it/s]"
          ],
          "name": "stderr"
        },
        {
          "output_type": "stream",
          "text": [
            "[MoviePy] Done.\n",
            "[MoviePy] Writing video new_video.mp4\n"
          ],
          "name": "stdout"
        },
        {
          "output_type": "stream",
          "text": [
            "\n",
            "100%|█████████▉| 1836/1837 [00:05<00:00, 361.51it/s]"
          ],
          "name": "stderr"
        },
        {
          "output_type": "stream",
          "text": [
            "[MoviePy] Done.\n",
            "[MoviePy] >>>> Video ready: new_video.mp4 \n",
            "\n"
          ],
          "name": "stdout"
        },
        {
          "output_type": "stream",
          "text": [
            "\n"
          ],
          "name": "stderr"
        },
        {
          "output_type": "stream",
          "text": [
            "(3517, 8, 2048)\n",
            "Copy of Normal_Videos136_x264_Trim.mp4\n",
            "(15, 8, 2048)\n",
            "(3532, 8, 2048)\n",
            "[MoviePy] >>>> Building video new_video.mp4\n",
            "[MoviePy] Writing audio in new_videoTEMP_MPY_wvf_snd.mp3\n"
          ],
          "name": "stdout"
        },
        {
          "output_type": "stream",
          "text": [
            "100%|██████████| 2654/2654 [00:01<00:00, 1362.76it/s]"
          ],
          "name": "stderr"
        },
        {
          "output_type": "stream",
          "text": [
            "[MoviePy] Done.\n",
            "[MoviePy] Writing video new_video.mp4\n"
          ],
          "name": "stdout"
        },
        {
          "output_type": "stream",
          "text": [
            "\n",
            "100%|██████████| 3610/3610 [00:10<00:00, 339.57it/s]"
          ],
          "name": "stderr"
        },
        {
          "output_type": "stream",
          "text": [
            "[MoviePy] Done.\n",
            "[MoviePy] >>>> Video ready: new_video.mp4 \n",
            "\n"
          ],
          "name": "stdout"
        },
        {
          "output_type": "stream",
          "text": [
            "\n"
          ],
          "name": "stderr"
        },
        {
          "output_type": "stream",
          "text": [
            "(3547, 8, 2048)\n",
            "Copy of Normal_Videos137_x264_Trim4.mp4\n",
            "(7, 8, 2048)\n",
            "(3554, 8, 2048)\n",
            "[MoviePy] >>>> Building video new_video.mp4\n",
            "[MoviePy] Writing audio in new_videoTEMP_MPY_wvf_snd.mp3\n"
          ],
          "name": "stdout"
        },
        {
          "output_type": "stream",
          "text": [
            "100%|██████████| 1359/1359 [00:00<00:00, 1359.87it/s]"
          ],
          "name": "stderr"
        },
        {
          "output_type": "stream",
          "text": [
            "[MoviePy] Done.\n",
            "[MoviePy] Writing video new_video.mp4\n"
          ],
          "name": "stdout"
        },
        {
          "output_type": "stream",
          "text": [
            "\n",
            "100%|██████████| 1848/1848 [00:04<00:00, 391.61it/s]"
          ],
          "name": "stderr"
        },
        {
          "output_type": "stream",
          "text": [
            "[MoviePy] Done.\n",
            "[MoviePy] >>>> Video ready: new_video.mp4 \n",
            "\n"
          ],
          "name": "stdout"
        },
        {
          "output_type": "stream",
          "text": [
            "\n"
          ],
          "name": "stderr"
        },
        {
          "output_type": "stream",
          "text": [
            "(3561, 8, 2048)\n",
            "Copy of Normal_Videos138_x264_Trim.mp4\n",
            "(15, 8, 2048)\n",
            "(3576, 8, 2048)\n",
            "[MoviePy] >>>> Building video new_video.mp4\n",
            "[MoviePy] Writing audio in new_videoTEMP_MPY_wvf_snd.mp3\n"
          ],
          "name": "stdout"
        },
        {
          "output_type": "stream",
          "text": [
            "100%|██████████| 2685/2685 [00:01<00:00, 1364.67it/s]"
          ],
          "name": "stderr"
        },
        {
          "output_type": "stream",
          "text": [
            "[MoviePy] Done.\n",
            "[MoviePy] Writing video new_video.mp4\n"
          ],
          "name": "stdout"
        },
        {
          "output_type": "stream",
          "text": [
            "\n",
            "100%|██████████| 3652/3652 [00:11<00:00, 326.91it/s]\n"
          ],
          "name": "stderr"
        },
        {
          "output_type": "stream",
          "text": [
            "[MoviePy] Done.\n",
            "[MoviePy] >>>> Video ready: new_video.mp4 \n",
            "\n",
            "(3591, 8, 2048)\n",
            "Copy of Normal_Videos138_x264_Trim3.mp4\n",
            "(7, 8, 2048)\n",
            "(3598, 8, 2048)\n",
            "[MoviePy] >>>> Building video new_video.mp4\n",
            "[MoviePy] Writing audio in new_videoTEMP_MPY_wvf_snd.mp3\n"
          ],
          "name": "stdout"
        },
        {
          "output_type": "stream",
          "text": [
            "100%|██████████| 1371/1371 [00:00<00:00, 1378.40it/s]"
          ],
          "name": "stderr"
        },
        {
          "output_type": "stream",
          "text": [
            "[MoviePy] Done.\n",
            "[MoviePy] Writing video new_video.mp4\n"
          ],
          "name": "stdout"
        },
        {
          "output_type": "stream",
          "text": [
            "\n",
            "100%|██████████| 1865/1865 [00:05<00:00, 348.33it/s]\n"
          ],
          "name": "stderr"
        },
        {
          "output_type": "stream",
          "text": [
            "[MoviePy] Done.\n",
            "[MoviePy] >>>> Video ready: new_video.mp4 \n",
            "\n",
            "(3605, 8, 2048)\n",
            "Copy of Normal_Videos137_x264_Trim.mp4\n",
            "(15, 8, 2048)\n",
            "(3620, 8, 2048)\n",
            "[MoviePy] >>>> Building video new_video.mp4\n",
            "[MoviePy] Writing audio in new_videoTEMP_MPY_wvf_snd.mp3\n"
          ],
          "name": "stdout"
        },
        {
          "output_type": "stream",
          "text": [
            "100%|██████████| 2712/2712 [00:02<00:00, 1353.88it/s]"
          ],
          "name": "stderr"
        },
        {
          "output_type": "stream",
          "text": [
            "[MoviePy] Done.\n",
            "[MoviePy] Writing video new_video.mp4\n"
          ],
          "name": "stdout"
        },
        {
          "output_type": "stream",
          "text": [
            "\n",
            "100%|██████████| 3690/3690 [00:10<00:00, 363.51it/s]\n"
          ],
          "name": "stderr"
        },
        {
          "output_type": "stream",
          "text": [
            "[MoviePy] Done.\n",
            "[MoviePy] >>>> Video ready: new_video.mp4 \n",
            "\n",
            "(3635, 8, 2048)\n",
            "Copy of Normal_Videos137_x264_Trim2.mp4\n",
            "(7, 8, 2048)\n",
            "(3642, 8, 2048)\n",
            "[MoviePy] >>>> Building video new_video.mp4\n",
            "[MoviePy] Writing audio in new_videoTEMP_MPY_wvf_snd.mp3\n"
          ],
          "name": "stdout"
        },
        {
          "output_type": "stream",
          "text": [
            "100%|██████████| 1354/1354 [00:00<00:00, 1358.53it/s]"
          ],
          "name": "stderr"
        },
        {
          "output_type": "stream",
          "text": [
            "[MoviePy] Done.\n",
            "[MoviePy] Writing video new_video.mp4\n"
          ],
          "name": "stdout"
        },
        {
          "output_type": "stream",
          "text": [
            "\n",
            "100%|██████████| 1842/1842 [00:05<00:00, 350.56it/s]"
          ],
          "name": "stderr"
        },
        {
          "output_type": "stream",
          "text": [
            "[MoviePy] Done.\n",
            "[MoviePy] >>>> Video ready: new_video.mp4 \n",
            "\n"
          ],
          "name": "stdout"
        },
        {
          "output_type": "stream",
          "text": [
            "\n"
          ],
          "name": "stderr"
        },
        {
          "output_type": "stream",
          "text": [
            "(3649, 8, 2048)\n",
            "Copy of Normal_Videos127_x264_Trim2.mp4\n",
            "(3, 8, 2048)\n",
            "(3652, 8, 2048)\n",
            "[MoviePy] >>>> Building video new_video.mp4\n",
            "[MoviePy] Writing audio in new_videoTEMP_MPY_wvf_snd.mp3\n"
          ],
          "name": "stdout"
        },
        {
          "output_type": "stream",
          "text": [
            "100%|██████████| 668/668 [00:00<00:00, 1210.83it/s]"
          ],
          "name": "stderr"
        },
        {
          "output_type": "stream",
          "text": [
            "[MoviePy] Done.\n",
            "[MoviePy] Writing video new_video.mp4\n"
          ],
          "name": "stdout"
        },
        {
          "output_type": "stream",
          "text": [
            "\n",
            "100%|██████████| 908/908 [00:02<00:00, 400.99it/s]"
          ],
          "name": "stderr"
        },
        {
          "output_type": "stream",
          "text": [
            "[MoviePy] Done.\n",
            "[MoviePy] >>>> Video ready: new_video.mp4 \n",
            "\n"
          ],
          "name": "stdout"
        },
        {
          "output_type": "stream",
          "text": [
            "\n"
          ],
          "name": "stderr"
        },
        {
          "output_type": "stream",
          "text": [
            "(3655, 8, 2048)\n",
            "Copy of Normal_Videos131_x264_Trim.mp4\n",
            "(5, 8, 2048)\n",
            "(3660, 8, 2048)\n",
            "[MoviePy] >>>> Building video new_video.mp4\n",
            "[MoviePy] Writing audio in new_videoTEMP_MPY_wvf_snd.mp3\n"
          ],
          "name": "stdout"
        },
        {
          "output_type": "stream",
          "text": [
            "100%|██████████| 897/897 [00:00<00:00, 1342.88it/s]"
          ],
          "name": "stderr"
        },
        {
          "output_type": "stream",
          "text": [
            "[MoviePy] Done.\n",
            "[MoviePy] Writing video new_video.mp4\n"
          ],
          "name": "stdout"
        },
        {
          "output_type": "stream",
          "text": [
            "\n",
            "100%|██████████| 1220/1220 [00:03<00:00, 368.31it/s]"
          ],
          "name": "stderr"
        },
        {
          "output_type": "stream",
          "text": [
            "[MoviePy] Done.\n",
            "[MoviePy] >>>> Video ready: new_video.mp4 \n",
            "\n"
          ],
          "name": "stdout"
        },
        {
          "output_type": "stream",
          "text": [
            "\n"
          ],
          "name": "stderr"
        },
        {
          "output_type": "stream",
          "text": [
            "(3665, 8, 2048)\n",
            "Copy of Normal_Videos127_x264_Trim.mp4\n",
            "(2, 8, 2048)\n",
            "(3667, 8, 2048)\n",
            "[MoviePy] >>>> Building video new_video.mp4\n",
            "[MoviePy] Writing audio in new_videoTEMP_MPY_wvf_snd.mp3\n"
          ],
          "name": "stdout"
        },
        {
          "output_type": "stream",
          "text": [
            "100%|██████████| 447/447 [00:00<00:00, 1176.57it/s]"
          ],
          "name": "stderr"
        },
        {
          "output_type": "stream",
          "text": [
            "[MoviePy] Done.\n",
            "[MoviePy] Writing video new_video.mp4\n"
          ],
          "name": "stdout"
        },
        {
          "output_type": "stream",
          "text": [
            "\n",
            "100%|██████████| 607/607 [00:01<00:00, 412.58it/s]"
          ],
          "name": "stderr"
        },
        {
          "output_type": "stream",
          "text": [
            "[MoviePy] Done.\n",
            "[MoviePy] >>>> Video ready: new_video.mp4 \n",
            "\n"
          ],
          "name": "stdout"
        },
        {
          "output_type": "stream",
          "text": [
            "\n"
          ],
          "name": "stderr"
        },
        {
          "output_type": "stream",
          "text": [
            "(3669, 8, 2048)\n",
            "Copy of Normal_Videos132_x264_Trim.mp4\n",
            "(7, 8, 2048)\n",
            "(3676, 8, 2048)\n",
            "[MoviePy] >>>> Building video new_video.mp4\n",
            "[MoviePy] Writing audio in new_videoTEMP_MPY_wvf_snd.mp3\n"
          ],
          "name": "stdout"
        },
        {
          "output_type": "stream",
          "text": [
            "100%|██████████| 1344/1344 [00:00<00:00, 1400.40it/s]"
          ],
          "name": "stderr"
        },
        {
          "output_type": "stream",
          "text": [
            "[MoviePy] Done.\n",
            "[MoviePy] Writing video new_video.mp4\n"
          ],
          "name": "stdout"
        },
        {
          "output_type": "stream",
          "text": [
            "\n",
            "100%|██████████| 1828/1828 [00:06<00:00, 261.33it/s]\n"
          ],
          "name": "stderr"
        },
        {
          "output_type": "stream",
          "text": [
            "[MoviePy] Done.\n",
            "[MoviePy] >>>> Video ready: new_video.mp4 \n",
            "\n",
            "(3683, 8, 2048)\n",
            "Copy of Normal_Videos128_x264_Trim.mp4\n",
            "(5, 8, 2048)\n",
            "(3688, 8, 2048)\n",
            "[MoviePy] >>>> Building video new_video.mp4\n",
            "[MoviePy] Writing audio in new_videoTEMP_MPY_wvf_snd.mp3\n"
          ],
          "name": "stdout"
        },
        {
          "output_type": "stream",
          "text": [
            "100%|██████████| 902/902 [00:00<00:00, 966.53it/s]"
          ],
          "name": "stderr"
        },
        {
          "output_type": "stream",
          "text": [
            "[MoviePy] Done.\n",
            "[MoviePy] Writing video new_video.mp4\n"
          ],
          "name": "stdout"
        },
        {
          "output_type": "stream",
          "text": [
            "\n",
            "100%|█████████▉| 1227/1228 [00:03<00:00, 367.29it/s]\n"
          ],
          "name": "stderr"
        },
        {
          "output_type": "stream",
          "text": [
            "[MoviePy] Done.\n",
            "[MoviePy] >>>> Video ready: new_video.mp4 \n",
            "\n",
            "(3693, 8, 2048)\n",
            "Copy of Normal_Videos133_x264_Trim.mp4\n",
            "(7, 8, 2048)\n",
            "(3700, 8, 2048)\n",
            "[MoviePy] >>>> Building video new_video.mp4\n",
            "[MoviePy] Writing audio in new_videoTEMP_MPY_wvf_snd.mp3\n"
          ],
          "name": "stdout"
        },
        {
          "output_type": "stream",
          "text": [
            "100%|██████████| 1335/1335 [00:00<00:00, 1372.60it/s]"
          ],
          "name": "stderr"
        },
        {
          "output_type": "stream",
          "text": [
            "[MoviePy] Done.\n",
            "[MoviePy] Writing video new_video.mp4\n"
          ],
          "name": "stdout"
        },
        {
          "output_type": "stream",
          "text": [
            "\n",
            "100%|██████████| 1817/1817 [00:05<00:00, 351.78it/s]\n"
          ],
          "name": "stderr"
        },
        {
          "output_type": "stream",
          "text": [
            "[MoviePy] Done.\n",
            "[MoviePy] >>>> Video ready: new_video.mp4 \n",
            "\n",
            "(3707, 8, 2048)\n",
            "Copy of Normal_Videos135_x264.mp4\n",
            "(7, 8, 2048)\n",
            "(3714, 8, 2048)\n",
            "[MoviePy] >>>> Building video new_video.mp4\n",
            "[MoviePy] Writing audio in new_videoTEMP_MPY_wvf_snd.mp3\n"
          ],
          "name": "stdout"
        },
        {
          "output_type": "stream",
          "text": [
            "100%|██████████| 1315/1315 [00:00<00:00, 2213.40it/s]"
          ],
          "name": "stderr"
        },
        {
          "output_type": "stream",
          "text": [
            "[MoviePy] Done.\n",
            "[MoviePy] Writing video new_video.mp4\n"
          ],
          "name": "stdout"
        },
        {
          "output_type": "stream",
          "text": [
            "\n",
            "100%|█████████▉| 1788/1789 [00:04<00:00, 361.33it/s]"
          ],
          "name": "stderr"
        },
        {
          "output_type": "stream",
          "text": [
            "[MoviePy] Done.\n",
            "[MoviePy] >>>> Video ready: new_video.mp4 \n",
            "\n"
          ],
          "name": "stdout"
        },
        {
          "output_type": "stream",
          "text": [
            "\n"
          ],
          "name": "stderr"
        },
        {
          "output_type": "stream",
          "text": [
            "(3721, 8, 2048)\n",
            "Copy of Normal_Videos130_x264_Trim2.mp4\n",
            "(7, 8, 2048)\n",
            "(3728, 8, 2048)\n",
            "[MoviePy] >>>> Building video new_video.mp4\n",
            "[MoviePy] Writing audio in new_videoTEMP_MPY_wvf_snd.mp3\n"
          ],
          "name": "stdout"
        },
        {
          "output_type": "stream",
          "text": [
            "100%|██████████| 1330/1330 [00:00<00:00, 1341.82it/s]"
          ],
          "name": "stderr"
        },
        {
          "output_type": "stream",
          "text": [
            "[MoviePy] Done.\n",
            "[MoviePy] Writing video new_video.mp4\n"
          ],
          "name": "stdout"
        },
        {
          "output_type": "stream",
          "text": [
            "\n",
            "100%|██████████| 1810/1810 [00:04<00:00, 364.85it/s]"
          ],
          "name": "stderr"
        },
        {
          "output_type": "stream",
          "text": [
            "[MoviePy] Done.\n",
            "[MoviePy] >>>> Video ready: new_video.mp4 \n",
            "\n"
          ],
          "name": "stdout"
        },
        {
          "output_type": "stream",
          "text": [
            "\n"
          ],
          "name": "stderr"
        },
        {
          "output_type": "stream",
          "text": [
            "(3735, 8, 2048)\n",
            "Copy of Normal_Videos134_x264_Trim.mp4\n",
            "(7, 8, 2048)\n",
            "(3742, 8, 2048)\n",
            "[MoviePy] >>>> Building video new_video.mp4\n",
            "[MoviePy] Writing audio in new_videoTEMP_MPY_wvf_snd.mp3\n"
          ],
          "name": "stdout"
        },
        {
          "output_type": "stream",
          "text": [
            "100%|██████████| 1334/1334 [00:01<00:00, 1209.84it/s]\n"
          ],
          "name": "stderr"
        },
        {
          "output_type": "stream",
          "text": [
            "[MoviePy] Done.\n",
            "[MoviePy] Writing video new_video.mp4\n"
          ],
          "name": "stdout"
        },
        {
          "output_type": "stream",
          "text": [
            "100%|██████████| 1815/1815 [00:04<00:00, 392.60it/s]\n"
          ],
          "name": "stderr"
        },
        {
          "output_type": "stream",
          "text": [
            "[MoviePy] Done.\n",
            "[MoviePy] >>>> Video ready: new_video.mp4 \n",
            "\n",
            "(3749, 8, 2048)\n",
            "Copy of Normal_Videos130_x264_Trim.mp4\n",
            "(7, 8, 2048)\n",
            "(3756, 8, 2048)\n",
            "[MoviePy] >>>> Building video new_video.mp4\n",
            "[MoviePy] Writing audio in new_videoTEMP_MPY_wvf_snd.mp3\n"
          ],
          "name": "stdout"
        },
        {
          "output_type": "stream",
          "text": [
            "100%|██████████| 1341/1341 [00:00<00:00, 1352.72it/s]"
          ],
          "name": "stderr"
        },
        {
          "output_type": "stream",
          "text": [
            "[MoviePy] Done.\n",
            "[MoviePy] Writing video new_video.mp4\n"
          ],
          "name": "stdout"
        },
        {
          "output_type": "stream",
          "text": [
            "\n",
            "100%|██████████| 1824/1824 [00:05<00:00, 359.77it/s]"
          ],
          "name": "stderr"
        },
        {
          "output_type": "stream",
          "text": [
            "[MoviePy] Done.\n",
            "[MoviePy] >>>> Video ready: new_video.mp4 \n",
            "\n"
          ],
          "name": "stdout"
        },
        {
          "output_type": "stream",
          "text": [
            "\n"
          ],
          "name": "stderr"
        },
        {
          "output_type": "stream",
          "text": [
            "(3763, 8, 2048)\n",
            "Copy of Normal_Videos123_x264_Trim2.mp4\n",
            "(7, 8, 2048)\n",
            "(3770, 8, 2048)\n",
            "[MoviePy] >>>> Building video new_video.mp4\n",
            "[MoviePy] Writing audio in new_videoTEMP_MPY_wvf_snd.mp3\n"
          ],
          "name": "stdout"
        },
        {
          "output_type": "stream",
          "text": [
            "100%|██████████| 1330/1330 [00:01<00:00, 1192.02it/s]\n"
          ],
          "name": "stderr"
        },
        {
          "output_type": "stream",
          "text": [
            "[MoviePy] Done.\n",
            "[MoviePy] Writing video new_video.mp4\n"
          ],
          "name": "stdout"
        },
        {
          "output_type": "stream",
          "text": [
            "100%|██████████| 1810/1810 [00:04<00:00, 375.76it/s]\n"
          ],
          "name": "stderr"
        },
        {
          "output_type": "stream",
          "text": [
            "[MoviePy] Done.\n",
            "[MoviePy] >>>> Video ready: new_video.mp4 \n",
            "\n",
            "(3777, 8, 2048)\n",
            "Copy of Normal_Videos126_x264_Trim.mp4\n",
            "(7, 8, 2048)\n",
            "(3784, 8, 2048)\n",
            "[MoviePy] >>>> Building video new_video.mp4\n",
            "[MoviePy] Writing audio in new_videoTEMP_MPY_wvf_snd.mp3\n"
          ],
          "name": "stdout"
        },
        {
          "output_type": "stream",
          "text": [
            "100%|██████████| 1335/1335 [00:01<00:00, 956.36it/s]"
          ],
          "name": "stderr"
        },
        {
          "output_type": "stream",
          "text": [
            "[MoviePy] Done.\n",
            "[MoviePy] Writing video new_video.mp4\n"
          ],
          "name": "stdout"
        },
        {
          "output_type": "stream",
          "text": [
            "\n",
            "100%|█████████▉| 1815/1816 [00:05<00:00, 338.20it/s]\n"
          ],
          "name": "stderr"
        },
        {
          "output_type": "stream",
          "text": [
            "[MoviePy] Done.\n",
            "[MoviePy] >>>> Video ready: new_video.mp4 \n",
            "\n",
            "(3791, 8, 2048)\n",
            "Copy of Normal_Videos118_x264.mp4\n",
            "(4, 8, 2048)\n",
            "(3795, 8, 2048)\n",
            "[MoviePy] >>>> Building video new_video.mp4\n",
            "[MoviePy] Writing audio in new_videoTEMP_MPY_wvf_snd.mp3\n"
          ],
          "name": "stdout"
        },
        {
          "output_type": "stream",
          "text": [
            "100%|██████████| 697/697 [00:00<00:00, 1260.89it/s]"
          ],
          "name": "stderr"
        },
        {
          "output_type": "stream",
          "text": [
            "[MoviePy] Done.\n",
            "[MoviePy] Writing video new_video.mp4\n"
          ],
          "name": "stdout"
        },
        {
          "output_type": "stream",
          "text": [
            "\n",
            "100%|█████████▉| 948/949 [00:02<00:00, 329.13it/s]\n"
          ],
          "name": "stderr"
        },
        {
          "output_type": "stream",
          "text": [
            "[MoviePy] Done.\n",
            "[MoviePy] >>>> Video ready: new_video.mp4 \n",
            "\n",
            "(3799, 8, 2048)\n",
            "Copy of Normal_Videos122_x264.mp4\n",
            "(8, 8, 2048)\n",
            "(3807, 8, 2048)\n",
            "[MoviePy] >>>> Building video new_video.mp4\n",
            "[MoviePy] Writing audio in new_videoTEMP_MPY_wvf_snd.mp3\n"
          ],
          "name": "stdout"
        },
        {
          "output_type": "stream",
          "text": [
            "100%|██████████| 1394/1394 [00:00<00:00, 2044.32it/s]"
          ],
          "name": "stderr"
        },
        {
          "output_type": "stream",
          "text": [
            "[MoviePy] Done.\n",
            "[MoviePy] Writing video new_video.mp4\n"
          ],
          "name": "stdout"
        },
        {
          "output_type": "stream",
          "text": [
            "\n",
            "100%|██████████| 1896/1896 [00:06<00:00, 274.26it/s]\n"
          ],
          "name": "stderr"
        },
        {
          "output_type": "stream",
          "text": [
            "[MoviePy] Done.\n",
            "[MoviePy] >>>> Video ready: new_video.mp4 \n",
            "\n",
            "(3815, 8, 2048)\n",
            "Copy of Normal_Videos124_x264.mp4\n",
            "(5, 8, 2048)\n",
            "(3820, 8, 2048)\n",
            "[MoviePy] >>>> Building video new_video.mp4\n",
            "[MoviePy] Writing audio in new_videoTEMP_MPY_wvf_snd.mp3\n"
          ],
          "name": "stdout"
        },
        {
          "output_type": "stream",
          "text": [
            "100%|██████████| 1026/1026 [00:00<00:00, 2099.46it/s]"
          ],
          "name": "stderr"
        },
        {
          "output_type": "stream",
          "text": [
            "[MoviePy] Done.\n",
            "[MoviePy] Writing video new_video.mp4\n"
          ],
          "name": "stdout"
        },
        {
          "output_type": "stream",
          "text": [
            "\n",
            "100%|██████████| 1395/1395 [00:03<00:00, 352.43it/s]\n"
          ],
          "name": "stderr"
        },
        {
          "output_type": "stream",
          "text": [
            "[MoviePy] Done.\n",
            "[MoviePy] >>>> Video ready: new_video.mp4 \n",
            "\n",
            "(3825, 8, 2048)\n",
            "Copy of Normal_Videos125_x264_Trim.mp4\n",
            "(7, 8, 2048)\n",
            "(3832, 8, 2048)\n",
            "[MoviePy] >>>> Building video new_video.mp4\n",
            "[MoviePy] Writing audio in new_videoTEMP_MPY_wvf_snd.mp3\n"
          ],
          "name": "stdout"
        },
        {
          "output_type": "stream",
          "text": [
            "100%|██████████| 1344/1344 [00:01<00:00, 882.93it/s]"
          ],
          "name": "stderr"
        },
        {
          "output_type": "stream",
          "text": [
            "[MoviePy] Done.\n",
            "[MoviePy] Writing video new_video.mp4\n"
          ],
          "name": "stdout"
        },
        {
          "output_type": "stream",
          "text": [
            "\n",
            "100%|██████████| 1828/1828 [00:05<00:00, 340.54it/s]\n"
          ],
          "name": "stderr"
        },
        {
          "output_type": "stream",
          "text": [
            "[MoviePy] Done.\n",
            "[MoviePy] >>>> Video ready: new_video.mp4 \n",
            "\n",
            "(3839, 8, 2048)\n",
            "Copy of Normal_Videos120_x264.mp4\n",
            "(6, 8, 2048)\n",
            "(3845, 8, 2048)\n",
            "[MoviePy] >>>> Building video new_video.mp4\n",
            "[MoviePy] Writing audio in new_videoTEMP_MPY_wvf_snd.mp3\n"
          ],
          "name": "stdout"
        },
        {
          "output_type": "stream",
          "text": [
            "100%|██████████| 1089/1089 [00:00<00:00, 2082.65it/s]"
          ],
          "name": "stderr"
        },
        {
          "output_type": "stream",
          "text": [
            "[MoviePy] Done.\n",
            "[MoviePy] Writing video new_video.mp4\n"
          ],
          "name": "stdout"
        },
        {
          "output_type": "stream",
          "text": [
            "\n",
            "100%|██████████| 1482/1482 [00:04<00:00, 338.01it/s]\n"
          ],
          "name": "stderr"
        },
        {
          "output_type": "stream",
          "text": [
            "[MoviePy] Done.\n",
            "[MoviePy] >>>> Video ready: new_video.mp4 \n",
            "\n",
            "(3851, 8, 2048)\n",
            "Copy of Normal_Videos123_x264_Trim.mp4\n",
            "(15, 8, 2048)\n",
            "(3866, 8, 2048)\n",
            "[MoviePy] >>>> Building video new_video.mp4\n",
            "[MoviePy] Writing audio in new_videoTEMP_MPY_wvf_snd.mp3\n"
          ],
          "name": "stdout"
        },
        {
          "output_type": "stream",
          "text": [
            "100%|██████████| 2681/2681 [00:02<00:00, 1210.70it/s]"
          ],
          "name": "stderr"
        },
        {
          "output_type": "stream",
          "text": [
            "[MoviePy] Done.\n",
            "[MoviePy] Writing video new_video.mp4\n"
          ],
          "name": "stdout"
        },
        {
          "output_type": "stream",
          "text": [
            "\n",
            "100%|██████████| 3648/3648 [00:10<00:00, 345.94it/s]"
          ],
          "name": "stderr"
        },
        {
          "output_type": "stream",
          "text": [
            "[MoviePy] Done.\n",
            "[MoviePy] >>>> Video ready: new_video.mp4 \n",
            "\n"
          ],
          "name": "stdout"
        },
        {
          "output_type": "stream",
          "text": [
            "\n"
          ],
          "name": "stderr"
        },
        {
          "output_type": "stream",
          "text": [
            "(3881, 8, 2048)\n",
            "Copy of Normal_Videos121_x264.mp4\n",
            "(4, 8, 2048)\n",
            "(3885, 8, 2048)\n",
            "[MoviePy] >>>> Building video new_video.mp4\n",
            "[MoviePy] Writing audio in new_videoTEMP_MPY_wvf_snd.mp3\n"
          ],
          "name": "stdout"
        },
        {
          "output_type": "stream",
          "text": [
            "100%|██████████| 853/853 [00:00<00:00, 1983.65it/s]"
          ],
          "name": "stderr"
        },
        {
          "output_type": "stream",
          "text": [
            "[MoviePy] Done.\n",
            "[MoviePy] Writing video new_video.mp4\n"
          ],
          "name": "stdout"
        },
        {
          "output_type": "stream",
          "text": [
            "\n",
            "100%|██████████| 1160/1160 [00:03<00:00, 333.13it/s]\n"
          ],
          "name": "stderr"
        },
        {
          "output_type": "stream",
          "text": [
            "[MoviePy] Done.\n",
            "[MoviePy] >>>> Video ready: new_video.mp4 \n",
            "\n",
            "(3889, 8, 2048)\n",
            "Copy of Normal_Videos119_x264_Trim.mp4\n",
            "(7, 8, 2048)\n",
            "(3896, 8, 2048)\n",
            "[MoviePy] >>>> Building video new_video.mp4\n",
            "[MoviePy] Writing audio in new_videoTEMP_MPY_wvf_snd.mp3\n"
          ],
          "name": "stdout"
        },
        {
          "output_type": "stream",
          "text": [
            "100%|██████████| 1340/1340 [00:00<00:00, 1380.03it/s]"
          ],
          "name": "stderr"
        },
        {
          "output_type": "stream",
          "text": [
            "[MoviePy] Done.\n",
            "[MoviePy] Writing video new_video.mp4\n"
          ],
          "name": "stdout"
        },
        {
          "output_type": "stream",
          "text": [
            "\n",
            "100%|██████████| 1823/1823 [00:04<00:00, 393.63it/s]\n"
          ],
          "name": "stderr"
        },
        {
          "output_type": "stream",
          "text": [
            "[MoviePy] Done.\n",
            "[MoviePy] >>>> Video ready: new_video.mp4 \n",
            "\n",
            "(3903, 8, 2048)\n",
            "Copy of Normal_Videos111_x264_Trim.mp4\n",
            "(4, 8, 2048)\n",
            "(3907, 8, 2048)\n",
            "[MoviePy] >>>> Building video new_video.mp4\n",
            "[MoviePy] Writing audio in new_videoTEMP_MPY_wvf_snd.mp3\n"
          ],
          "name": "stdout"
        },
        {
          "output_type": "stream",
          "text": [
            "100%|██████████| 686/686 [00:00<00:00, 1048.84it/s]"
          ],
          "name": "stderr"
        },
        {
          "output_type": "stream",
          "text": [
            "[MoviePy] Done.\n",
            "[MoviePy] Writing video new_video.mp4\n"
          ],
          "name": "stdout"
        },
        {
          "output_type": "stream",
          "text": [
            "\n",
            "100%|█████████▉| 933/934 [00:02<00:00, 325.06it/s]\n"
          ],
          "name": "stderr"
        },
        {
          "output_type": "stream",
          "text": [
            "[MoviePy] Done.\n",
            "[MoviePy] >>>> Video ready: new_video.mp4 \n",
            "\n",
            "(3911, 8, 2048)\n",
            "Copy of Normal_Videos117_x264.mp4\n",
            "(5, 8, 2048)\n",
            "(3916, 8, 2048)\n",
            "[MoviePy] >>>> Building video new_video.mp4\n",
            "[MoviePy] Writing audio in new_videoTEMP_MPY_wvf_snd.mp3\n"
          ],
          "name": "stdout"
        },
        {
          "output_type": "stream",
          "text": [
            "100%|██████████| 868/868 [00:00<00:00, 2042.94it/s]"
          ],
          "name": "stderr"
        },
        {
          "output_type": "stream",
          "text": [
            "[MoviePy] Done.\n",
            "[MoviePy] Writing video new_video.mp4\n"
          ],
          "name": "stdout"
        },
        {
          "output_type": "stream",
          "text": [
            "\n",
            "100%|██████████| 1180/1180 [00:03<00:00, 325.33it/s]"
          ],
          "name": "stderr"
        },
        {
          "output_type": "stream",
          "text": [
            "[MoviePy] Done.\n",
            "[MoviePy] >>>> Video ready: new_video.mp4 \n",
            "\n"
          ],
          "name": "stdout"
        },
        {
          "output_type": "stream",
          "text": [
            "\n"
          ],
          "name": "stderr"
        },
        {
          "output_type": "stream",
          "text": [
            "(3921, 8, 2048)\n",
            "Copy of Normal_Videos111_x264_Trim2.mp4\n",
            "(4, 8, 2048)\n",
            "(3925, 8, 2048)\n",
            "[MoviePy] >>>> Building video new_video.mp4\n",
            "[MoviePy] Writing audio in new_videoTEMP_MPY_wvf_snd.mp3\n"
          ],
          "name": "stdout"
        },
        {
          "output_type": "stream",
          "text": [
            "100%|██████████| 696/696 [00:00<00:00, 1044.69it/s]"
          ],
          "name": "stderr"
        },
        {
          "output_type": "stream",
          "text": [
            "[MoviePy] Done.\n",
            "[MoviePy] Writing video new_video.mp4\n"
          ],
          "name": "stdout"
        },
        {
          "output_type": "stream",
          "text": [
            "\n",
            "100%|██████████| 947/947 [00:03<00:00, 303.22it/s]\n"
          ],
          "name": "stderr"
        },
        {
          "output_type": "stream",
          "text": [
            "[MoviePy] Done.\n",
            "[MoviePy] >>>> Video ready: new_video.mp4 \n",
            "\n",
            "(3929, 8, 2048)\n",
            "Copy of Normal_Videos112_x264.mp4\n",
            "(3, 8, 2048)\n",
            "(3932, 8, 2048)\n",
            "[MoviePy] >>>> Building video new_video.mp4\n",
            "[MoviePy] Writing audio in new_videoTEMP_MPY_wvf_snd.mp3\n"
          ],
          "name": "stdout"
        },
        {
          "output_type": "stream",
          "text": [
            "100%|██████████| 602/602 [00:00<00:00, 2034.72it/s]"
          ],
          "name": "stderr"
        },
        {
          "output_type": "stream",
          "text": [
            "[MoviePy] Done.\n",
            "[MoviePy] Writing video new_video.mp4\n"
          ],
          "name": "stdout"
        },
        {
          "output_type": "stream",
          "text": [
            "\n",
            "100%|██████████| 819/819 [00:02<00:00, 393.73it/s]"
          ],
          "name": "stderr"
        },
        {
          "output_type": "stream",
          "text": [
            "[MoviePy] Done.\n",
            "[MoviePy] >>>> Video ready: new_video.mp4 \n",
            "\n"
          ],
          "name": "stdout"
        },
        {
          "output_type": "stream",
          "text": [
            "\n"
          ],
          "name": "stderr"
        },
        {
          "output_type": "stream",
          "text": [
            "(3935, 8, 2048)\n",
            "Copy of Normal_Videos111_x264_Trim3.mp4\n",
            "(6, 8, 2048)\n",
            "(3941, 8, 2048)\n",
            "[MoviePy] >>>> Building video new_video.mp4\n",
            "[MoviePy] Writing audio in new_videoTEMP_MPY_wvf_snd.mp3\n"
          ],
          "name": "stdout"
        },
        {
          "output_type": "stream",
          "text": [
            "100%|██████████| 1116/1116 [00:01<00:00, 1052.11it/s]"
          ],
          "name": "stderr"
        },
        {
          "output_type": "stream",
          "text": [
            "[MoviePy] Done.\n",
            "[MoviePy] Writing video new_video.mp4\n"
          ],
          "name": "stdout"
        },
        {
          "output_type": "stream",
          "text": [
            "\n",
            "100%|██████████| 1518/1518 [00:05<00:00, 290.57it/s]\n"
          ],
          "name": "stderr"
        },
        {
          "output_type": "stream",
          "text": [
            "[MoviePy] Done.\n",
            "[MoviePy] >>>> Video ready: new_video.mp4 \n",
            "\n",
            "(3947, 8, 2048)\n",
            "Copy of Normal_Videos115_x264.mp4\n",
            "(1, 8, 2048)\n",
            "(3948, 8, 2048)\n",
            "[MoviePy] >>>> Building video new_video.mp4\n",
            "[MoviePy] Writing audio in new_videoTEMP_MPY_wvf_snd.mp3\n"
          ],
          "name": "stdout"
        },
        {
          "output_type": "stream",
          "text": [
            "100%|██████████| 221/221 [00:00<00:00, 2012.95it/s]"
          ],
          "name": "stderr"
        },
        {
          "output_type": "stream",
          "text": [
            "[MoviePy] Done.\n",
            "[MoviePy] Writing video new_video.mp4\n"
          ],
          "name": "stdout"
        },
        {
          "output_type": "stream",
          "text": [
            "\n",
            "100%|██████████| 301/301 [00:00<00:00, 333.72it/s]\n"
          ],
          "name": "stderr"
        },
        {
          "output_type": "stream",
          "text": [
            "[MoviePy] Done.\n",
            "[MoviePy] >>>> Video ready: new_video.mp4 \n",
            "\n",
            "(3949, 8, 2048)\n",
            "Copy of Normal_Videos114_x264_Trim.mp4\n",
            "(3, 8, 2048)\n",
            "(3952, 8, 2048)\n",
            "[MoviePy] >>>> Building video new_video.mp4\n",
            "[MoviePy] Writing audio in new_videoTEMP_MPY_wvf_snd.mp3\n"
          ],
          "name": "stdout"
        },
        {
          "output_type": "stream",
          "text": [
            "100%|██████████| 683/683 [00:00<00:00, 1415.34it/s]"
          ],
          "name": "stderr"
        },
        {
          "output_type": "stream",
          "text": [
            "[MoviePy] Done.\n",
            "[MoviePy] Writing video new_video.mp4\n"
          ],
          "name": "stdout"
        },
        {
          "output_type": "stream",
          "text": [
            "\n",
            "100%|██████████| 929/929 [00:02<00:00, 390.33it/s]"
          ],
          "name": "stderr"
        },
        {
          "output_type": "stream",
          "text": [
            "[MoviePy] Done.\n",
            "[MoviePy] >>>> Video ready: new_video.mp4 \n",
            "\n"
          ],
          "name": "stdout"
        },
        {
          "output_type": "stream",
          "text": [
            "\n"
          ],
          "name": "stderr"
        },
        {
          "output_type": "stream",
          "text": [
            "(3955, 8, 2048)\n",
            "Copy of Normal_Videos116_x264_Trim.mp4\n",
            "(7, 8, 2048)\n",
            "(3962, 8, 2048)\n",
            "[MoviePy] >>>> Building video new_video.mp4\n",
            "[MoviePy] Writing audio in new_videoTEMP_MPY_wvf_snd.mp3\n"
          ],
          "name": "stdout"
        },
        {
          "output_type": "stream",
          "text": [
            "100%|██████████| 1339/1339 [00:00<00:00, 1377.19it/s]"
          ],
          "name": "stderr"
        },
        {
          "output_type": "stream",
          "text": [
            "[MoviePy] Done.\n",
            "[MoviePy] Writing video new_video.mp4\n"
          ],
          "name": "stdout"
        },
        {
          "output_type": "stream",
          "text": [
            "\n",
            "100%|██████████| 1821/1821 [00:04<00:00, 371.04it/s]\n"
          ],
          "name": "stderr"
        },
        {
          "output_type": "stream",
          "text": [
            "[MoviePy] Done.\n",
            "[MoviePy] >>>> Video ready: new_video.mp4 \n",
            "\n",
            "(3969, 8, 2048)\n",
            "Copy of Normal_Videos111_x264_Trim4.mp4\n",
            "(7, 8, 2048)\n",
            "(3976, 8, 2048)\n",
            "[MoviePy] >>>> Building video new_video.mp4\n",
            "[MoviePy] Writing audio in new_videoTEMP_MPY_wvf_snd.mp3\n"
          ],
          "name": "stdout"
        },
        {
          "output_type": "stream",
          "text": [
            "100%|██████████| 1338/1338 [00:01<00:00, 1036.28it/s]"
          ],
          "name": "stderr"
        },
        {
          "output_type": "stream",
          "text": [
            "[MoviePy] Done.\n",
            "[MoviePy] Writing video new_video.mp4\n"
          ],
          "name": "stdout"
        },
        {
          "output_type": "stream",
          "text": [
            "\n",
            "100%|██████████| 1821/1821 [00:05<00:00, 312.95it/s]\n"
          ],
          "name": "stderr"
        },
        {
          "output_type": "stream",
          "text": [
            "[MoviePy] Done.\n",
            "[MoviePy] >>>> Video ready: new_video.mp4 \n",
            "\n",
            "(3983, 8, 2048)\n",
            "Copy of Normal_Videos113_x264.mp4\n",
            "(3, 8, 2048)\n",
            "(3986, 8, 2048)\n",
            "[MoviePy] >>>> Building video new_video.mp4\n",
            "[MoviePy] Writing audio in new_videoTEMP_MPY_wvf_snd.mp3\n"
          ],
          "name": "stdout"
        },
        {
          "output_type": "stream",
          "text": [
            "100%|██████████| 511/511 [00:00<00:00, 2074.99it/s]"
          ],
          "name": "stderr"
        },
        {
          "output_type": "stream",
          "text": [
            "[MoviePy] Done.\n",
            "[MoviePy] Writing video new_video.mp4\n"
          ],
          "name": "stdout"
        },
        {
          "output_type": "stream",
          "text": [
            "\n",
            "100%|██████████| 696/696 [00:01<00:00, 396.38it/s]"
          ],
          "name": "stderr"
        },
        {
          "output_type": "stream",
          "text": [
            "[MoviePy] Done.\n",
            "[MoviePy] >>>> Video ready: new_video.mp4 \n",
            "\n"
          ],
          "name": "stdout"
        },
        {
          "output_type": "stream",
          "text": [
            "\n"
          ],
          "name": "stderr"
        },
        {
          "output_type": "stream",
          "text": [
            "(3989, 8, 2048)\n",
            "Copy of Normal_Videos106_x264_Trim.mp4\n",
            "(5, 8, 2048)\n",
            "(3994, 8, 2048)\n",
            "[MoviePy] >>>> Building video new_video.mp4\n",
            "[MoviePy] Writing audio in new_videoTEMP_MPY_wvf_snd.mp3\n"
          ],
          "name": "stdout"
        },
        {
          "output_type": "stream",
          "text": [
            "100%|██████████| 982/982 [00:01<00:00, 860.61it/s]"
          ],
          "name": "stderr"
        },
        {
          "output_type": "stream",
          "text": [
            "[MoviePy] Done.\n",
            "[MoviePy] Writing video new_video.mp4\n"
          ],
          "name": "stdout"
        },
        {
          "output_type": "stream",
          "text": [
            "\n",
            "100%|██████████| 1336/1336 [00:03<00:00, 370.00it/s]\n"
          ],
          "name": "stderr"
        },
        {
          "output_type": "stream",
          "text": [
            "[MoviePy] Done.\n",
            "[MoviePy] >>>> Video ready: new_video.mp4 \n",
            "\n",
            "(3999, 8, 2048)\n",
            "Copy of Normal_Videos158_x264.mp4\n",
            "(2, 8, 2048)\n",
            "(4001, 8, 2048)\n",
            "[MoviePy] >>>> Building video new_video.mp4\n",
            "[MoviePy] Writing audio in new_videoTEMP_MPY_wvf_snd.mp3\n"
          ],
          "name": "stdout"
        },
        {
          "output_type": "stream",
          "text": [
            "100%|██████████| 399/399 [00:00<00:00, 2107.70it/s]"
          ],
          "name": "stderr"
        },
        {
          "output_type": "stream",
          "text": [
            "[MoviePy] Done.\n",
            "[MoviePy] Writing video new_video.mp4\n"
          ],
          "name": "stdout"
        },
        {
          "output_type": "stream",
          "text": [
            "\n",
            "100%|██████████| 543/543 [00:01<00:00, 391.75it/s]\n"
          ],
          "name": "stderr"
        },
        {
          "output_type": "stream",
          "text": [
            "[MoviePy] Done.\n",
            "[MoviePy] >>>> Video ready: new_video.mp4 \n",
            "\n",
            "(4003, 8, 2048)\n",
            "Copy of Normal_Videos109_x264.mp4\n",
            "(7, 8, 2048)\n",
            "(4010, 8, 2048)\n",
            "[MoviePy] >>>> Building video new_video.mp4\n",
            "[MoviePy] Writing audio in new_videoTEMP_MPY_wvf_snd.mp3\n"
          ],
          "name": "stdout"
        },
        {
          "output_type": "stream",
          "text": [
            "100%|██████████| 1267/1267 [00:00<00:00, 2198.41it/s]"
          ],
          "name": "stderr"
        },
        {
          "output_type": "stream",
          "text": [
            "[MoviePy] Done.\n",
            "[MoviePy] Writing video new_video.mp4\n"
          ],
          "name": "stdout"
        },
        {
          "output_type": "stream",
          "text": [
            "\n",
            "100%|██████████| 1724/1724 [00:04<00:00, 356.25it/s]"
          ],
          "name": "stderr"
        },
        {
          "output_type": "stream",
          "text": [
            "[MoviePy] Done.\n",
            "[MoviePy] >>>> Video ready: new_video.mp4 \n",
            "\n"
          ],
          "name": "stdout"
        },
        {
          "output_type": "stream",
          "text": [
            "\n"
          ],
          "name": "stderr"
        },
        {
          "output_type": "stream",
          "text": [
            "(4017, 8, 2048)\n",
            "Copy of Normal_Videos161_x264_Trim.mp4\n",
            "(7, 8, 2048)\n",
            "(4024, 8, 2048)\n",
            "[MoviePy] >>>> Building video new_video.mp4\n",
            "[MoviePy] Writing audio in new_videoTEMP_MPY_wvf_snd.mp3\n"
          ],
          "name": "stdout"
        },
        {
          "output_type": "stream",
          "text": [
            "100%|██████████| 1337/1337 [00:00<00:00, 1398.18it/s]"
          ],
          "name": "stderr"
        },
        {
          "output_type": "stream",
          "text": [
            "[MoviePy] Done.\n",
            "[MoviePy] Writing video new_video.mp4\n"
          ],
          "name": "stdout"
        },
        {
          "output_type": "stream",
          "text": [
            "\n",
            "100%|██████████| 1819/1819 [00:05<00:00, 363.58it/s]\n"
          ],
          "name": "stderr"
        },
        {
          "output_type": "stream",
          "text": [
            "[MoviePy] Done.\n",
            "[MoviePy] >>>> Video ready: new_video.mp4 \n",
            "\n",
            "(4031, 8, 2048)\n",
            "Copy of Normal_Videos108_x264.mp4\n",
            "(7, 8, 2048)\n",
            "(4038, 8, 2048)\n",
            "[MoviePy] >>>> Building video new_video.mp4\n",
            "[MoviePy] Writing audio in new_videoTEMP_MPY_wvf_snd.mp3\n"
          ],
          "name": "stdout"
        },
        {
          "output_type": "stream",
          "text": [
            "100%|██████████| 1304/1304 [00:00<00:00, 2045.23it/s]"
          ],
          "name": "stderr"
        },
        {
          "output_type": "stream",
          "text": [
            "[MoviePy] Done.\n",
            "[MoviePy] Writing video new_video.mp4\n"
          ],
          "name": "stdout"
        },
        {
          "output_type": "stream",
          "text": [
            "\n",
            "100%|██████████| 1774/1774 [00:05<00:00, 329.93it/s]\n"
          ],
          "name": "stderr"
        },
        {
          "output_type": "stream",
          "text": [
            "[MoviePy] Done.\n",
            "[MoviePy] >>>> Video ready: new_video.mp4 \n",
            "\n",
            "(4045, 8, 2048)\n",
            "Copy of Normal_Videos107_x264_Trim.mp4\n",
            "(7, 8, 2048)\n",
            "(4052, 8, 2048)\n",
            "[MoviePy] >>>> Building video new_video.mp4\n",
            "[MoviePy] Writing audio in new_videoTEMP_MPY_wvf_snd.mp3\n"
          ],
          "name": "stdout"
        },
        {
          "output_type": "stream",
          "text": [
            "100%|██████████| 1338/1338 [00:00<00:00, 1371.15it/s]"
          ],
          "name": "stderr"
        },
        {
          "output_type": "stream",
          "text": [
            "[MoviePy] Done.\n",
            "[MoviePy] Writing video new_video.mp4\n"
          ],
          "name": "stdout"
        },
        {
          "output_type": "stream",
          "text": [
            "\n",
            "100%|██████████| 1821/1821 [00:05<00:00, 359.44it/s]"
          ],
          "name": "stderr"
        },
        {
          "output_type": "stream",
          "text": [
            "[MoviePy] Done.\n",
            "[MoviePy] >>>> Video ready: new_video.mp4 \n",
            "\n"
          ],
          "name": "stdout"
        },
        {
          "output_type": "stream",
          "text": [
            "\n"
          ],
          "name": "stderr"
        },
        {
          "output_type": "stream",
          "text": [
            "(4059, 8, 2048)\n",
            "Copy of Normal_Videos104_x264_Trim.mp4\n",
            "(2, 8, 2048)\n",
            "(4061, 8, 2048)\n",
            "[MoviePy] >>>> Building video new_video.mp4\n",
            "[MoviePy] Writing audio in new_videoTEMP_MPY_wvf_snd.mp3\n"
          ],
          "name": "stdout"
        },
        {
          "output_type": "stream",
          "text": [
            "100%|██████████| 345/345 [00:00<00:00, 1360.98it/s]"
          ],
          "name": "stderr"
        },
        {
          "output_type": "stream",
          "text": [
            "[MoviePy] Done.\n",
            "[MoviePy] Writing video new_video.mp4\n"
          ],
          "name": "stdout"
        },
        {
          "output_type": "stream",
          "text": [
            "\n",
            "100%|██████████| 470/470 [00:01<00:00, 394.16it/s]\n"
          ],
          "name": "stderr"
        },
        {
          "output_type": "stream",
          "text": [
            "[MoviePy] Done.\n",
            "[MoviePy] >>>> Video ready: new_video.mp4 \n",
            "\n",
            "(4063, 8, 2048)\n",
            "Copy of Normal_Videos105_x264.mp4\n",
            "(3, 8, 2048)\n",
            "(4066, 8, 2048)\n",
            "[MoviePy] >>>> Building video new_video.mp4\n",
            "[MoviePy] Writing audio in new_videoTEMP_MPY_wvf_snd.mp3\n"
          ],
          "name": "stdout"
        },
        {
          "output_type": "stream",
          "text": [
            "100%|██████████| 527/527 [00:00<00:00, 2105.70it/s]"
          ],
          "name": "stderr"
        },
        {
          "output_type": "stream",
          "text": [
            "[MoviePy] Done.\n",
            "[MoviePy] Writing video new_video.mp4\n"
          ],
          "name": "stdout"
        },
        {
          "output_type": "stream",
          "text": [
            "\n",
            "100%|██████████| 717/717 [00:02<00:00, 342.97it/s]"
          ],
          "name": "stderr"
        },
        {
          "output_type": "stream",
          "text": [
            "[MoviePy] Done.\n"
          ],
          "name": "stdout"
        },
        {
          "output_type": "stream",
          "text": [
            "\n"
          ],
          "name": "stderr"
        },
        {
          "output_type": "stream",
          "text": [
            "[MoviePy] >>>> Video ready: new_video.mp4 \n",
            "\n",
            "(4069, 8, 2048)\n",
            "Copy of Normal_Videos162_x264.mp4\n",
            "(4, 8, 2048)\n",
            "(4073, 8, 2048)\n",
            "[MoviePy] >>>> Building video new_video.mp4\n",
            "[MoviePy] Writing audio in new_videoTEMP_MPY_wvf_snd.mp3\n"
          ],
          "name": "stdout"
        },
        {
          "output_type": "stream",
          "text": [
            "100%|██████████| 860/860 [00:00<00:00, 1262.99it/s]"
          ],
          "name": "stderr"
        },
        {
          "output_type": "stream",
          "text": [
            "[MoviePy] Done.\n",
            "[MoviePy] Writing video new_video.mp4\n"
          ],
          "name": "stdout"
        },
        {
          "output_type": "stream",
          "text": [
            "\n",
            "100%|██████████| 1170/1170 [00:03<00:00, 388.38it/s]"
          ],
          "name": "stderr"
        },
        {
          "output_type": "stream",
          "text": [
            "[MoviePy] Done.\n",
            "[MoviePy] >>>> Video ready: new_video.mp4 \n",
            "\n"
          ],
          "name": "stdout"
        },
        {
          "output_type": "stream",
          "text": [
            "\n"
          ],
          "name": "stderr"
        },
        {
          "output_type": "stream",
          "text": [
            "(4077, 8, 2048)\n",
            "Copy of Normal_Videos110_x264_Trim.mp4\n",
            "(7, 8, 2048)\n",
            "(4084, 8, 2048)\n",
            "[MoviePy] >>>> Building video new_video.mp4\n",
            "[MoviePy] Writing audio in new_videoTEMP_MPY_wvf_snd.mp3\n"
          ],
          "name": "stdout"
        },
        {
          "output_type": "stream",
          "text": [
            "100%|██████████| 1334/1334 [00:00<00:00, 1348.76it/s]"
          ],
          "name": "stderr"
        },
        {
          "output_type": "stream",
          "text": [
            "[MoviePy] Done.\n",
            "[MoviePy] Writing video new_video.mp4\n"
          ],
          "name": "stdout"
        },
        {
          "output_type": "stream",
          "text": [
            "\n",
            "100%|██████████| 1815/1815 [00:06<00:00, 301.13it/s]\n"
          ],
          "name": "stderr"
        },
        {
          "output_type": "stream",
          "text": [
            "[MoviePy] Done.\n",
            "[MoviePy] >>>> Video ready: new_video.mp4 \n",
            "\n",
            "(4091, 8, 2048)\n"
          ],
          "name": "stdout"
        }
      ]
    },
    {
      "cell_type": "code",
      "metadata": {
        "id": "UuaqNw_uIHi3",
        "colab_type": "code",
        "colab": {}
      },
      "source": [
        "labels_encoded_test = np_utils.to_categorical(labels_test)"
      ],
      "execution_count": null,
      "outputs": []
    },
    {
      "cell_type": "code",
      "metadata": {
        "id": "J1WOw_r6IkRG",
        "colab_type": "code",
        "colab": {}
      },
      "source": [
        "pickle_out=open('/content/drive1/My Drive/Testing_Set_values1.pickle',\"wb\")\n",
        "pickle.dump(transfer_values_test, pickle_out)\n",
        "pickle_out.close()\n",
        "\n",
        "pickle_out=open('/content/drive1/My Drive/Testing_Set_labels1.pickle',\"wb\")\n",
        "pickle.dump(labels_encoded_test, pickle_out)\n",
        "pickle_out.close()"
      ],
      "execution_count": null,
      "outputs": []
    },
    {
      "cell_type": "code",
      "metadata": {
        "id": "fJF9mAXguvRg",
        "colab_type": "code",
        "colab": {}
      },
      "source": [
        ""
      ],
      "execution_count": null,
      "outputs": []
    }
  ]
}